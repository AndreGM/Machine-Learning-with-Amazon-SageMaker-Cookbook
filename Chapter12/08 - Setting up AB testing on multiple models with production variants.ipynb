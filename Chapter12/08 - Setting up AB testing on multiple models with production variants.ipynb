{
 "cells": [
  {
   "cell_type": "code",
   "execution_count": 37,
   "id": "c93b4742",
   "metadata": {},
   "outputs": [],
   "source": [
    "%store -r model_data_a\n",
    "%store -r model_data_b\n",
    "%store -r target_repository_uri_a\n",
    "%store -r target_repository_uri_b"
   ]
  },
  {
   "cell_type": "code",
   "execution_count": 38,
   "id": "78069d69",
   "metadata": {},
   "outputs": [],
   "source": [
    "image_uri_a = f\"{target_repository_uri_a}:1\"\n",
    "image_uri_b = f\"{target_repository_uri_b}:1\""
   ]
  },
  {
   "cell_type": "code",
   "execution_count": 39,
   "id": "e5dd7a5d",
   "metadata": {},
   "outputs": [],
   "source": [
    "container1 = { \n",
    "    'Image': image_uri_a,\n",
    "    'ContainerHostname': 'containerA',\n",
    "    'ModelDataUrl': model_data_a\n",
    "}\n",
    "\n",
    "container2 = { \n",
    "    'Image': image_uri_b,\n",
    "    'ContainerHostname': 'containerB',\n",
    "    'ModelDataUrl': model_data_b\n",
    "}"
   ]
  },
  {
   "cell_type": "code",
   "execution_count": 40,
   "id": "3b27be91",
   "metadata": {},
   "outputs": [],
   "source": [
    "model_name = \"ab-testing\"\n",
    "endpoint_config_name = 'ab-testing-config'\n",
    "endpoint_name = 'ab-testing-endpoint'"
   ]
  },
  {
   "cell_type": "code",
   "execution_count": 41,
   "id": "535fb591",
   "metadata": {},
   "outputs": [],
   "source": [
    "import boto3\n",
    "import sagemaker\n",
    "\n",
    "sagemaker_session = sagemaker.Session()\n",
    "role = sagemaker.get_execution_role()\n",
    "sm_client = boto3.Session().client('sagemaker')"
   ]
  },
  {
   "cell_type": "code",
   "execution_count": 42,
   "id": "b9f68aa1",
   "metadata": {},
   "outputs": [],
   "source": [
    "model_name_a = \"ab-model-a\"\n",
    "model_name_b = \"ab-model-b\"\n",
    "endpoint_config_name = 'ab-endpoint-config'\n",
    "endpoint_name = 'ab-endpoint'"
   ]
  },
  {
   "cell_type": "code",
   "execution_count": 43,
   "id": "2e836270",
   "metadata": {},
   "outputs": [],
   "source": [
    "try:\n",
    "    sm_client.delete_model(ModelName=model_name_a)\n",
    "    sm_client.delete_model(ModelName=model_name_b)\n",
    "except:\n",
    "    pass"
   ]
  },
  {
   "cell_type": "code",
   "execution_count": 44,
   "id": "7aa3003a",
   "metadata": {},
   "outputs": [
    {
     "name": "stdout",
     "output_type": "stream",
     "text": [
      "{'ModelArn': 'arn:aws:sagemaker:us-east-1:581320662326:model/ab-model-a', 'ResponseMetadata': {'RequestId': 'd6442c21-0202-4bee-9fca-0070aa6d98dc', 'HTTPStatusCode': 200, 'HTTPHeaders': {'x-amzn-requestid': 'd6442c21-0202-4bee-9fca-0070aa6d98dc', 'content-type': 'application/x-amz-json-1.1', 'content-length': '72', 'date': 'Mon, 03 May 2021 15:14:58 GMT'}, 'RetryAttempts': 0}}\n",
      "{'ModelArn': 'arn:aws:sagemaker:us-east-1:581320662326:model/ab-model-b', 'ResponseMetadata': {'RequestId': 'f942a624-a026-4fe7-86d2-dd4d5a907e6f', 'HTTPStatusCode': 200, 'HTTPHeaders': {'x-amzn-requestid': 'f942a624-a026-4fe7-86d2-dd4d5a907e6f', 'content-type': 'application/x-amz-json-1.1', 'content-length': '72', 'date': 'Mon, 03 May 2021 15:14:59 GMT'}, 'RetryAttempts': 2}}\n"
     ]
    }
   ],
   "source": [
    "response = sm_client.create_model(\n",
    "    ModelName        = model_name_a,\n",
    "    ExecutionRoleArn = role,\n",
    "    Containers       = [container1])\n",
    "print(response)\n",
    "\n",
    "response = sm_client.create_model(\n",
    "    ModelName        = model_name_b,\n",
    "    ExecutionRoleArn = role,\n",
    "    Containers       = [container2])\n",
    "print(response)"
   ]
  },
  {
   "cell_type": "code",
   "execution_count": 45,
   "id": "9b2ec7c3",
   "metadata": {},
   "outputs": [],
   "source": [
    "from sagemaker.session import production_variant\n",
    "\n",
    "variant1 = production_variant(\n",
    "    model_name=model_name_a,\n",
    "    instance_type=\"ml.t2.medium\",\n",
    "    initial_instance_count=1,\n",
    "    variant_name='VariantA',\n",
    "    initial_weight=0.5)\n",
    "                              \n",
    "variant2 = production_variant(\n",
    "    model_name=model_name_b,\n",
    "    instance_type=\"ml.t2.medium\",\n",
    "    initial_instance_count=1,\n",
    "    variant_name='VariantB',\n",
    "    initial_weight=0.5)"
   ]
  },
  {
   "cell_type": "code",
   "execution_count": 46,
   "id": "d4933ea8",
   "metadata": {},
   "outputs": [
    {
     "name": "stdout",
     "output_type": "stream",
     "text": [
      "-----------------!"
     ]
    },
    {
     "data": {
      "text/plain": [
       "'ab-endpoint'"
      ]
     },
     "execution_count": 46,
     "metadata": {},
     "output_type": "execute_result"
    }
   ],
   "source": [
    "sagemaker_session.endpoint_from_production_variants(\n",
    "    name=endpoint_name,\n",
    "    production_variants=[variant1, variant2]\n",
    ")"
   ]
  },
  {
   "cell_type": "code",
   "execution_count": 47,
   "id": "903c6432",
   "metadata": {},
   "outputs": [],
   "source": [
    "runtime_sm_client = boto3.client('sagemaker-runtime')"
   ]
  },
  {
   "cell_type": "code",
   "execution_count": 48,
   "id": "dd8264c9",
   "metadata": {},
   "outputs": [],
   "source": [
    "body = \"42\""
   ]
  },
  {
   "cell_type": "code",
   "execution_count": 49,
   "id": "18fa1557",
   "metadata": {},
   "outputs": [
    {
     "name": "stdout",
     "output_type": "stream",
     "text": [
      "VariantA - 1233.18227456514\n",
      "VariantB - 1233.1822745651407\n",
      "VariantA - 1233.18227456514\n",
      "VariantA - 1233.18227456514\n",
      "VariantB - 1233.1822745651407\n",
      "VariantB - 1233.1822745651407\n",
      "VariantA - 1233.18227456514\n",
      "VariantA - 1233.18227456514\n",
      "VariantA - 1233.18227456514\n",
      "VariantA - 1233.18227456514\n",
      "VariantA - 1233.18227456514\n",
      "VariantB - 1233.1822745651407\n",
      "VariantA - 1233.18227456514\n",
      "VariantA - 1233.18227456514\n",
      "VariantA - 1233.18227456514\n",
      "VariantB - 1233.1822745651407\n",
      "VariantB - 1233.1822745651407\n",
      "VariantA - 1233.18227456514\n",
      "VariantA - 1233.18227456514\n",
      "VariantA - 1233.18227456514\n",
      "VariantA - 1233.18227456514\n",
      "VariantB - 1233.1822745651407\n",
      "VariantB - 1233.1822745651407\n",
      "VariantB - 1233.1822745651407\n",
      "VariantA - 1233.18227456514\n",
      "VariantA - 1233.18227456514\n",
      "VariantB - 1233.1822745651407\n",
      "VariantB - 1233.1822745651407\n",
      "VariantA - 1233.18227456514\n",
      "VariantA - 1233.18227456514\n",
      "VariantA - 1233.18227456514\n",
      "VariantB - 1233.1822745651407\n",
      "VariantA - 1233.18227456514\n",
      "VariantA - 1233.18227456514\n",
      "VariantB - 1233.1822745651407\n",
      "VariantA - 1233.18227456514\n",
      "VariantA - 1233.18227456514\n",
      "VariantA - 1233.18227456514\n",
      "VariantA - 1233.18227456514\n",
      "VariantA - 1233.18227456514\n",
      "VariantA - 1233.18227456514\n",
      "VariantB - 1233.1822745651407\n",
      "VariantB - 1233.1822745651407\n",
      "VariantB - 1233.1822745651407\n",
      "VariantB - 1233.1822745651407\n",
      "VariantA - 1233.18227456514\n",
      "VariantA - 1233.18227456514\n",
      "VariantA - 1233.18227456514\n",
      "VariantA - 1233.18227456514\n",
      "VariantB - 1233.1822745651407\n"
     ]
    }
   ],
   "source": [
    "from time import sleep\n",
    "\n",
    "for _ in range(0,50):\n",
    "    response = runtime_sm_client.invoke_endpoint(\n",
    "                            EndpointName = endpoint_name,\n",
    "                            ContentType  = 'text/csv',\n",
    "                            Body         = body)\n",
    "    \n",
    "    variant = response['InvokedProductionVariant']\n",
    "    prediction = response['Body'].read().decode(\"utf-8\")\n",
    "\n",
    "    print(variant + \" - \"+ prediction)\n",
    "    sleep(1)"
   ]
  },
  {
   "cell_type": "code",
   "execution_count": 50,
   "id": "b713cc15",
   "metadata": {},
   "outputs": [
    {
     "name": "stdout",
     "output_type": "stream",
     "text": [
      "VariantB - 1233.1822745651407\n",
      "VariantB - 1233.1822745651407\n",
      "VariantB - 1233.1822745651407\n",
      "VariantB - 1233.1822745651407\n",
      "VariantB - 1233.1822745651407\n",
      "VariantB - 1233.1822745651407\n",
      "VariantB - 1233.1822745651407\n",
      "VariantB - 1233.1822745651407\n",
      "VariantB - 1233.1822745651407\n",
      "VariantB - 1233.1822745651407\n",
      "VariantB - 1233.1822745651407\n",
      "VariantB - 1233.1822745651407\n",
      "VariantB - 1233.1822745651407\n",
      "VariantB - 1233.1822745651407\n",
      "VariantB - 1233.1822745651407\n",
      "VariantB - 1233.1822745651407\n",
      "VariantB - 1233.1822745651407\n",
      "VariantB - 1233.1822745651407\n",
      "VariantB - 1233.1822745651407\n",
      "VariantB - 1233.1822745651407\n",
      "VariantB - 1233.1822745651407\n",
      "VariantB - 1233.1822745651407\n",
      "VariantB - 1233.1822745651407\n",
      "VariantB - 1233.1822745651407\n",
      "VariantB - 1233.1822745651407\n",
      "VariantB - 1233.1822745651407\n",
      "VariantB - 1233.1822745651407\n",
      "VariantB - 1233.1822745651407\n",
      "VariantB - 1233.1822745651407\n",
      "VariantB - 1233.1822745651407\n",
      "VariantB - 1233.1822745651407\n",
      "VariantB - 1233.1822745651407\n",
      "VariantB - 1233.1822745651407\n",
      "VariantB - 1233.1822745651407\n",
      "VariantB - 1233.1822745651407\n",
      "VariantB - 1233.1822745651407\n",
      "VariantB - 1233.1822745651407\n",
      "VariantB - 1233.1822745651407\n",
      "VariantB - 1233.1822745651407\n",
      "VariantB - 1233.1822745651407\n",
      "VariantB - 1233.1822745651407\n",
      "VariantB - 1233.1822745651407\n",
      "VariantB - 1233.1822745651407\n",
      "VariantB - 1233.1822745651407\n",
      "VariantB - 1233.1822745651407\n",
      "VariantB - 1233.1822745651407\n",
      "VariantB - 1233.1822745651407\n",
      "VariantB - 1233.1822745651407\n",
      "VariantB - 1233.1822745651407\n",
      "VariantB - 1233.1822745651407\n"
     ]
    }
   ],
   "source": [
    "for _ in range(0,50):\n",
    "    response = runtime_sm_client.invoke_endpoint(\n",
    "                            EndpointName = endpoint_name,\n",
    "                            ContentType  = 'text/csv',\n",
    "                            TargetVariant='VariantB',\n",
    "                            Body         = body)\n",
    "\n",
    "    variant = response['InvokedProductionVariant']\n",
    "    prediction = response['Body'].read().decode(\"utf-8\")\n",
    "\n",
    "    print(variant + \" - \"+ prediction)\n",
    "    sleep(1)"
   ]
  },
  {
   "cell_type": "code",
   "execution_count": 51,
   "id": "a15260c0",
   "metadata": {},
   "outputs": [
    {
     "data": {
      "text/plain": [
       "{'ResponseMetadata': {'RequestId': 'e4d1826f-425b-4c35-86b0-bef1966dd161',\n",
       "  'HTTPStatusCode': 200,\n",
       "  'HTTPHeaders': {'x-amzn-requestid': 'e4d1826f-425b-4c35-86b0-bef1966dd161',\n",
       "   'content-type': 'application/x-amz-json-1.1',\n",
       "   'content-length': '0',\n",
       "   'date': 'Mon, 03 May 2021 15:25:15 GMT'},\n",
       "  'RetryAttempts': 0}}"
      ]
     },
     "execution_count": 51,
     "metadata": {},
     "output_type": "execute_result"
    }
   ],
   "source": [
    "response = sm_client.delete_endpoint(\n",
    "    EndpointName=endpoint_name\n",
    ")\n",
    "\n",
    "response"
   ]
  }
 ],
 "metadata": {
  "kernelspec": {
   "display_name": "conda_python3",
   "language": "python",
   "name": "conda_python3"
  },
  "language_info": {
   "codemirror_mode": {
    "name": "ipython",
    "version": 3
   },
   "file_extension": ".py",
   "mimetype": "text/x-python",
   "name": "python",
   "nbconvert_exporter": "python",
   "pygments_lexer": "ipython3",
   "version": "3.6.13"
  }
 },
 "nbformat": 4,
 "nbformat_minor": 5
}
