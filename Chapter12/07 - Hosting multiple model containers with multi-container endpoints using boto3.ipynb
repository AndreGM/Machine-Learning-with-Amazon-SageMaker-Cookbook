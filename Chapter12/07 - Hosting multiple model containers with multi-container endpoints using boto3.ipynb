{
 "cells": [
  {
   "cell_type": "code",
   "execution_count": 32,
   "id": "3b3cd6fc",
   "metadata": {},
   "outputs": [],
   "source": [
    "%store -r model_data_a\n",
    "%store -r model_data_b\n",
    "%store -r target_repository_uri_a\n",
    "%store -r target_repository_uri_b"
   ]
  },
  {
   "cell_type": "code",
   "execution_count": 33,
   "id": "c15d6a70",
   "metadata": {},
   "outputs": [],
   "source": [
    "image_uri_a = f\"{target_repository_uri_a}:1\"\n",
    "image_uri_b = f\"{target_repository_uri_b}:1\""
   ]
  },
  {
   "cell_type": "code",
   "execution_count": 34,
   "id": "58968f02",
   "metadata": {},
   "outputs": [],
   "source": [
    "container1 = { \n",
    "    'Image': image_uri_a,\n",
    "    'ContainerHostname': 'containerA',\n",
    "    'ModelDataUrl': model_data_a\n",
    "}\n",
    "\n",
    "container2 = { \n",
    "    'Image': image_uri_b,\n",
    "    'ContainerHostname': 'containerB',\n",
    "    'ModelDataUrl': model_data_b\n",
    "}\n",
    "\n",
    "execution_config = {'Mode': 'Direct'}"
   ]
  },
  {
   "cell_type": "code",
   "execution_count": 35,
   "id": "a222f928",
   "metadata": {},
   "outputs": [],
   "source": [
    "model_name = \"multi-container\"\n",
    "endpoint_config_name = 'multi-container-config'\n",
    "endpoint_name = 'multi-container-endpoint'"
   ]
  },
  {
   "cell_type": "code",
   "execution_count": 36,
   "id": "24af58e0",
   "metadata": {},
   "outputs": [],
   "source": [
    "import boto3\n",
    "import sagemaker\n",
    "\n",
    "sagemaker_session = sagemaker.Session()\n",
    "role = sagemaker.get_execution_role()\n",
    "sm_client = boto3.Session().client('sagemaker')"
   ]
  },
  {
   "cell_type": "code",
   "execution_count": 37,
   "id": "ade0a5d0",
   "metadata": {},
   "outputs": [],
   "source": [
    "# sm_client.delete_endpoint(EndpointName=endpoint_name)\n",
    "# sm_client.delete_endpoint_config(EndpointConfigName=endpoint_config_name)\n",
    "# sm_client.delete_model(ModelName=model_name)"
   ]
  },
  {
   "cell_type": "code",
   "execution_count": 38,
   "id": "4f3b9f60",
   "metadata": {},
   "outputs": [
    {
     "data": {
      "text/plain": [
       "{'ModelArn': 'arn:aws:sagemaker:us-east-1:581320662326:model/multi-container',\n",
       " 'ResponseMetadata': {'RequestId': '4b4a451c-97ca-4bf2-b745-84921ba925b2',\n",
       "  'HTTPStatusCode': 200,\n",
       "  'HTTPHeaders': {'x-amzn-requestid': '4b4a451c-97ca-4bf2-b745-84921ba925b2',\n",
       "   'content-type': 'application/x-amz-json-1.1',\n",
       "   'content-length': '77',\n",
       "   'date': 'Sat, 01 May 2021 13:57:20 GMT'},\n",
       "  'RetryAttempts': 0}}"
      ]
     },
     "execution_count": 38,
     "metadata": {},
     "output_type": "execute_result"
    }
   ],
   "source": [
    "response = sm_client.create_model(\n",
    "    ModelName = model_name,\n",
    "    InferenceExecutionConfig = execution_config,\n",
    "    ExecutionRoleArn = role,\n",
    "    Containers = [container1, container2])\n",
    "\n",
    "response"
   ]
  },
  {
   "cell_type": "code",
   "execution_count": 39,
   "id": "675b0084",
   "metadata": {},
   "outputs": [
    {
     "data": {
      "text/plain": [
       "{'EndpointConfigArn': 'arn:aws:sagemaker:us-east-1:581320662326:endpoint-config/multi-container-config',\n",
       " 'ResponseMetadata': {'RequestId': 'dc0e4072-f3b1-4276-adcb-45eab9729477',\n",
       "  'HTTPStatusCode': 200,\n",
       "  'HTTPHeaders': {'x-amzn-requestid': 'dc0e4072-f3b1-4276-adcb-45eab9729477',\n",
       "   'content-type': 'application/x-amz-json-1.1',\n",
       "   'content-length': '103',\n",
       "   'date': 'Sat, 01 May 2021 13:57:20 GMT'},\n",
       "  'RetryAttempts': 0}}"
      ]
     },
     "execution_count": 39,
     "metadata": {},
     "output_type": "execute_result"
    }
   ],
   "source": [
    "response = sm_client.create_endpoint_config(\n",
    "    EndpointConfigName = endpoint_config_name,\n",
    "    ProductionVariants=[{\n",
    "        'InstanceType': 'ml.t2.medium',\n",
    "        'InitialInstanceCount': 1,\n",
    "        'InitialVariantWeight': 1,\n",
    "        'ModelName': model_name,\n",
    "        'VariantName': 'AllTraffic'}])\n",
    "\n",
    "response"
   ]
  },
  {
   "cell_type": "code",
   "execution_count": 40,
   "id": "d5eecac7",
   "metadata": {},
   "outputs": [
    {
     "data": {
      "text/plain": [
       "{'EndpointArn': 'arn:aws:sagemaker:us-east-1:581320662326:endpoint/multi-container-endpoint',\n",
       " 'ResponseMetadata': {'RequestId': '1a3d6e84-0eb1-4036-8ef0-01e8dc26b65d',\n",
       "  'HTTPStatusCode': 200,\n",
       "  'HTTPHeaders': {'x-amzn-requestid': '1a3d6e84-0eb1-4036-8ef0-01e8dc26b65d',\n",
       "   'content-type': 'application/x-amz-json-1.1',\n",
       "   'content-length': '92',\n",
       "   'date': 'Sat, 01 May 2021 13:57:20 GMT'},\n",
       "  'RetryAttempts': 0}}"
      ]
     },
     "execution_count": 40,
     "metadata": {},
     "output_type": "execute_result"
    }
   ],
   "source": [
    "response = sm_client.create_endpoint(\n",
    "    EndpointName       = endpoint_name,\n",
    "    EndpointConfigName = endpoint_config_name)\n",
    "\n",
    "response"
   ]
  },
  {
   "cell_type": "code",
   "execution_count": 41,
   "id": "32d606d6",
   "metadata": {},
   "outputs": [
    {
     "data": {
      "text/plain": [
       "'Creating'"
      ]
     },
     "execution_count": 41,
     "metadata": {},
     "output_type": "execute_result"
    }
   ],
   "source": [
    "response = sm_client.describe_endpoint(\n",
    "    EndpointName=endpoint_name\n",
    ")\n",
    "\n",
    "response['EndpointStatus']"
   ]
  },
  {
   "cell_type": "code",
   "execution_count": 42,
   "id": "7da8ffcd",
   "metadata": {},
   "outputs": [
    {
     "name": "stdout",
     "output_type": "stream",
     "text": [
      "Still creating...\n",
      "Still creating...\n",
      "Still creating...\n",
      "Still creating...\n",
      "Still creating...\n",
      "Still creating...\n",
      "Still creating...\n",
      "Still creating...\n",
      "Still creating...\n",
      "Still creating...\n"
     ]
    }
   ],
   "source": [
    "from time import sleep\n",
    "\n",
    "while response['EndpointStatus'] == \"Creating\":\n",
    "    print(\"Still creating...\")\n",
    "    sleep(60)\n",
    "    \n",
    "    response = sm_client.describe_endpoint(\n",
    "        EndpointName=endpoint_name\n",
    "    )"
   ]
  },
  {
   "cell_type": "code",
   "execution_count": 43,
   "id": "2564b3d0",
   "metadata": {},
   "outputs": [
    {
     "data": {
      "text/plain": [
       "{'EndpointName': 'multi-container-endpoint',\n",
       " 'EndpointArn': 'arn:aws:sagemaker:us-east-1:581320662326:endpoint/multi-container-endpoint',\n",
       " 'EndpointConfigName': 'multi-container-config',\n",
       " 'ProductionVariants': [{'VariantName': 'AllTraffic',\n",
       "   'DeployedImages': [{'SpecifiedImage': '581320662326.dkr.ecr.us-east-1.amazonaws.com/cookbook-custom-image-a:1',\n",
       "     'ResolvedImage': '581320662326.dkr.ecr.us-east-1.amazonaws.com/cookbook-custom-image-a@sha256:0aac309142f6c3b72b8c2d7c36c602279d6074a0ce6d699b6b14f2d079054c37',\n",
       "     'ResolutionTime': datetime.datetime(2021, 5, 1, 13, 57, 26, 216000, tzinfo=tzlocal())},\n",
       "    {'SpecifiedImage': '581320662326.dkr.ecr.us-east-1.amazonaws.com/cookbook-custom-image-b:1',\n",
       "     'ResolvedImage': '581320662326.dkr.ecr.us-east-1.amazonaws.com/cookbook-custom-image-b@sha256:77d096aafa00bdc613d4b542eb8a2b33a30b3934487c19e121d31ddb591f6d81',\n",
       "     'ResolutionTime': datetime.datetime(2021, 5, 1, 13, 57, 26, 259000, tzinfo=tzlocal())}],\n",
       "   'CurrentWeight': 1.0,\n",
       "   'DesiredWeight': 1.0,\n",
       "   'CurrentInstanceCount': 1,\n",
       "   'DesiredInstanceCount': 1}],\n",
       " 'EndpointStatus': 'InService',\n",
       " 'CreationTime': datetime.datetime(2021, 5, 1, 13, 57, 21, 453000, tzinfo=tzlocal()),\n",
       " 'LastModifiedTime': datetime.datetime(2021, 5, 1, 14, 6, 39, 277000, tzinfo=tzlocal()),\n",
       " 'ResponseMetadata': {'RequestId': '6bb58b1a-5a04-46ef-9dc6-1383bb83af01',\n",
       "  'HTTPStatusCode': 200,\n",
       "  'HTTPHeaders': {'x-amzn-requestid': '6bb58b1a-5a04-46ef-9dc6-1383bb83af01',\n",
       "   'content-type': 'application/x-amz-json-1.1',\n",
       "   'content-length': '1008',\n",
       "   'date': 'Sat, 01 May 2021 14:07:22 GMT'},\n",
       "  'RetryAttempts': 0}}"
      ]
     },
     "execution_count": 43,
     "metadata": {},
     "output_type": "execute_result"
    }
   ],
   "source": [
    "response"
   ]
  },
  {
   "cell_type": "code",
   "execution_count": 44,
   "id": "9be995fd",
   "metadata": {},
   "outputs": [],
   "source": [
    "runtime_sm_client = boto3.client('sagemaker-runtime')"
   ]
  },
  {
   "cell_type": "code",
   "execution_count": 45,
   "id": "236a3ba0",
   "metadata": {},
   "outputs": [
    {
     "data": {
      "text/plain": [
       "b'1233.18227456514'"
      ]
     },
     "execution_count": 45,
     "metadata": {},
     "output_type": "execute_result"
    }
   ],
   "source": [
    "body = \"42\"\n",
    "\n",
    "response = runtime_sm_client.invoke_endpoint(\n",
    "                        EndpointName = endpoint_name,\n",
    "                        ContentType  = 'text/csv',\n",
    "                        TargetContainerHostname='containerA',\n",
    "                        Body         = body)\n",
    "\n",
    "response['Body'].read()"
   ]
  },
  {
   "cell_type": "code",
   "execution_count": 46,
   "id": "f6bc0399",
   "metadata": {},
   "outputs": [
    {
     "data": {
      "text/plain": [
       "b'1233.1822745651407'"
      ]
     },
     "execution_count": 46,
     "metadata": {},
     "output_type": "execute_result"
    }
   ],
   "source": [
    "response = runtime_sm_client.invoke_endpoint(\n",
    "                        EndpointName = endpoint_name,\n",
    "                        ContentType  = 'text/csv',\n",
    "                        TargetContainerHostname='containerB',\n",
    "                        Body         = body)\n",
    "\n",
    "response['Body'].read()"
   ]
  },
  {
   "cell_type": "code",
   "execution_count": 47,
   "id": "77176502",
   "metadata": {},
   "outputs": [
    {
     "data": {
      "text/plain": [
       "{'ResponseMetadata': {'RequestId': '33d038ee-a336-4405-af98-d978702ab3f5',\n",
       "  'HTTPStatusCode': 200,\n",
       "  'HTTPHeaders': {'x-amzn-requestid': '33d038ee-a336-4405-af98-d978702ab3f5',\n",
       "   'content-type': 'application/x-amz-json-1.1',\n",
       "   'content-length': '0',\n",
       "   'date': 'Sat, 01 May 2021 14:07:23 GMT'},\n",
       "  'RetryAttempts': 0}}"
      ]
     },
     "execution_count": 47,
     "metadata": {},
     "output_type": "execute_result"
    }
   ],
   "source": [
    "response = sm_client.delete_endpoint(\n",
    "    EndpointName=endpoint_name\n",
    ")\n",
    "\n",
    "response"
   ]
  }
 ],
 "metadata": {
  "kernelspec": {
   "display_name": "conda_python3",
   "language": "python",
   "name": "conda_python3"
  },
  "language_info": {
   "codemirror_mode": {
    "name": "ipython",
    "version": 3
   },
   "file_extension": ".py",
   "mimetype": "text/x-python",
   "name": "python",
   "nbconvert_exporter": "python",
   "pygments_lexer": "ipython3",
   "version": "3.6.13"
  }
 },
 "nbformat": 4,
 "nbformat_minor": 5
}
