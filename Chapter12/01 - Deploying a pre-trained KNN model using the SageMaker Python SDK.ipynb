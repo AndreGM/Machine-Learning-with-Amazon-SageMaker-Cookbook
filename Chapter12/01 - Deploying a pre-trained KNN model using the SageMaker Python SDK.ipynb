{
 "cells": [
  {
   "cell_type": "code",
   "execution_count": 31,
   "id": "235690d2",
   "metadata": {},
   "outputs": [],
   "source": [
    "knn_model_file = \"https://github.com/PacktPublishing/\" + \\\n",
    "    \"Amazon-SageMaker-Cookbook/raw/master/\" + \\\n",
    "    \"Chapter12/files/model.knn.tar.gz\""
   ]
  },
  {
   "cell_type": "code",
   "execution_count": 19,
   "id": "0dd2d7b5",
   "metadata": {},
   "outputs": [],
   "source": [
    "!mkdir -p tmp"
   ]
  },
  {
   "cell_type": "code",
   "execution_count": 20,
   "id": "7906eba7",
   "metadata": {
    "scrolled": false
   },
   "outputs": [
    {
     "name": "stdout",
     "output_type": "stream",
     "text": [
      "--2021-05-01 12:40:22--  https://github.com/PacktPublishing/Amazon-SageMaker-Cookbook/raw/master/Chapter12/files/model.knn.tar.gz\n",
      "Resolving github.com (github.com)... 140.82.112.4\n",
      "Connecting to github.com (github.com)|140.82.112.4|:443... connected.\n",
      "HTTP request sent, awaiting response... 302 Found\n",
      "Location: https://raw.githubusercontent.com/PacktPublishing/Amazon-SageMaker-Cookbook/master/Chapter12/files/model.knn.tar.gz [following]\n",
      "--2021-05-01 12:40:22--  https://raw.githubusercontent.com/PacktPublishing/Amazon-SageMaker-Cookbook/master/Chapter12/files/model.knn.tar.gz\n",
      "Resolving raw.githubusercontent.com (raw.githubusercontent.com)... 185.199.109.133, 185.199.110.133, 185.199.111.133, ...\n",
      "Connecting to raw.githubusercontent.com (raw.githubusercontent.com)|185.199.109.133|:443... connected.\n",
      "HTTP request sent, awaiting response... 200 OK\n",
      "Length: 764 [application/octet-stream]\n",
      "Saving to: ‘tmp/model.knn.tar.gz’\n",
      "\n",
      "tmp/model.knn.tar.g 100%[===================>]     764  --.-KB/s    in 0s      \n",
      "\n",
      "2021-05-01 12:40:22 (39.3 MB/s) - ‘tmp/model.knn.tar.gz’ saved [764/764]\n",
      "\n"
     ]
    }
   ],
   "source": [
    "!wget -O tmp/model.knn.tar.gz {knn_model_file}"
   ]
  },
  {
   "cell_type": "code",
   "execution_count": 21,
   "id": "65dbe37f",
   "metadata": {},
   "outputs": [],
   "source": [
    "s3_bucket = \"sagemaker-cookbook-bucket\"\n",
    "prefix = \"chapter12\""
   ]
  },
  {
   "cell_type": "code",
   "execution_count": 22,
   "id": "55586fef",
   "metadata": {},
   "outputs": [],
   "source": [
    "model_data = f\"s3://{s3_bucket}/{prefix}/files/model.knn.tar.gz\""
   ]
  },
  {
   "cell_type": "code",
   "execution_count": 23,
   "id": "b7c1c896",
   "metadata": {},
   "outputs": [
    {
     "name": "stdout",
     "output_type": "stream",
     "text": [
      "Completed 764 Bytes/764 Bytes (10.7 KiB/s) with 1 file(s) remaining\r",
      "upload: tmp/model.knn.tar.gz to s3://sagemaker-cookbook-bucket/chapter12/files/model.knn.tar.gz\r\n"
     ]
    }
   ],
   "source": [
    "!aws s3 cp tmp/model.knn.tar.gz {model_data}"
   ]
  },
  {
   "cell_type": "code",
   "execution_count": 24,
   "id": "f6c9e1ad",
   "metadata": {},
   "outputs": [],
   "source": [
    "from sagemaker import Model\n",
    "from sagemaker import KNNPredictor\n",
    "from sagemaker.image_uris import retrieve"
   ]
  },
  {
   "cell_type": "code",
   "execution_count": 25,
   "id": "6e369c53",
   "metadata": {},
   "outputs": [
    {
     "data": {
      "text/plain": [
       "'382416733822.dkr.ecr.us-east-1.amazonaws.com/knn:1'"
      ]
     },
     "execution_count": 25,
     "metadata": {},
     "output_type": "execute_result"
    }
   ],
   "source": [
    "image_uri = retrieve(\"knn\", region=\"us-east-1\")\n",
    "image_uri"
   ]
  },
  {
   "cell_type": "code",
   "execution_count": 26,
   "id": "ccb40983",
   "metadata": {},
   "outputs": [],
   "source": [
    "import sagemaker\n",
    "from sagemaker import get_execution_role\n",
    "\n",
    "session = sagemaker.Session()\n",
    "role = get_execution_role()\n",
    "\n",
    "model = Model(model_data=model_data,\n",
    "              image_uri=image_uri,\n",
    "              role=role,\n",
    "              predictor_cls=KNNPredictor)"
   ]
  },
  {
   "cell_type": "code",
   "execution_count": 27,
   "id": "d233b55d",
   "metadata": {},
   "outputs": [
    {
     "name": "stdout",
     "output_type": "stream",
     "text": [
      "-------------------!"
     ]
    }
   ],
   "source": [
    "predictor = model.deploy(initial_instance_count=1,\n",
    "                         instance_type='ml.t2.medium')"
   ]
  },
  {
   "cell_type": "code",
   "execution_count": 28,
   "id": "54d4d0a4",
   "metadata": {},
   "outputs": [
    {
     "data": {
      "text/plain": [
       "[label {\n",
       "   key: \"predicted_label\"\n",
       "   value {\n",
       "     float64_tensor {\n",
       "       values: 1.0\n",
       "     }\n",
       "   }\n",
       " }]"
      ]
     },
     "execution_count": 28,
     "metadata": {},
     "output_type": "execute_result"
    }
   ],
   "source": [
    "import numpy as np\n",
    "\n",
    "test_data = [0.3713707, 0.3713707, 0.3713707, \n",
    "             0.89655172, 0.89655172]\n",
    "test_data_np = np.array(test_data)\n",
    "predictor.predict(test_data_np)"
   ]
  },
  {
   "cell_type": "code",
   "execution_count": 29,
   "id": "825f054c",
   "metadata": {},
   "outputs": [],
   "source": [
    "predictor.delete_endpoint()"
   ]
  }
 ],
 "metadata": {
  "kernelspec": {
   "display_name": "conda_python3",
   "language": "python",
   "name": "conda_python3"
  },
  "language_info": {
   "codemirror_mode": {
    "name": "ipython",
    "version": 3
   },
   "file_extension": ".py",
   "mimetype": "text/x-python",
   "name": "python",
   "nbconvert_exporter": "python",
   "pygments_lexer": "ipython3",
   "version": "3.6.13"
  }
 },
 "nbformat": 4,
 "nbformat_minor": 5
}
