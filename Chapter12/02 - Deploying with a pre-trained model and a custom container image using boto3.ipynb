{
 "cells": [
  {
   "cell_type": "code",
   "execution_count": 1,
   "id": "8e45c254",
   "metadata": {},
   "outputs": [
    {
     "name": "stdout",
     "output_type": "stream",
     "text": [
      "1: Pulling from r4k6a8l9/cookbook-custom-image-01\r\n",
      "Digest: sha256:331b45592738fafbfcd2c0e9595b86a2eaf24cf807a90642c88aebc53ddff73a\r\n",
      "Status: Downloaded newer image for public.ecr.aws/r4k6a8l9/cookbook-custom-image-01:1\r\n",
      "public.ecr.aws/r4k6a8l9/cookbook-custom-image-01:1\r\n"
     ]
    }
   ],
   "source": [
    "public_r_image = \"public.ecr.aws/r4k6a8l9/cookbook-custom-image-01:1\"\n",
    "!docker pull {public_r_image}"
   ]
  },
  {
   "cell_type": "code",
   "execution_count": 2,
   "id": "6d33ba07",
   "metadata": {},
   "outputs": [
    {
     "data": {
      "text/plain": [
       "'581320662326'"
      ]
     },
     "execution_count": 2,
     "metadata": {},
     "output_type": "execute_result"
    }
   ],
   "source": [
    "results = !aws sts get-caller-identity | jq -r \".Account\"\n",
    "account_id = results[0]\n",
    "account_id"
   ]
  },
  {
   "cell_type": "code",
   "execution_count": 31,
   "id": "7f98ec6e",
   "metadata": {},
   "outputs": [
    {
     "name": "stdout",
     "output_type": "stream",
     "text": [
      "WARNING! Your password will be stored unencrypted in /home/ec2-user/.docker/config.json.\r\n",
      "Configure a credential helper to remove this warning. See\r\n",
      "https://docs.docker.com/engine/reference/commandline/login/#credentials-store\r\n",
      "\r\n",
      "Login Succeeded\r\n"
     ]
    }
   ],
   "source": [
    "!aws ecr get-login-password --region us-east-1 | docker login --username AWS --password-stdin {account_id}.dkr.ecr.us-east-1.amazonaws.com"
   ]
  },
  {
   "cell_type": "code",
   "execution_count": 29,
   "id": "a5e1ca07",
   "metadata": {},
   "outputs": [],
   "source": [
    "repository_name = \"cookbook-custom-image-a\""
   ]
  },
  {
   "cell_type": "code",
   "execution_count": 30,
   "id": "44868297",
   "metadata": {},
   "outputs": [
    {
     "name": "stdout",
     "output_type": "stream",
     "text": [
      "\n",
      "An error occurred (RepositoryNotFoundException) when calling the DescribeRepositories operation: The repository with name 'cookbook-custom-image-a' does not exist in the registry with id '581320662326'\n",
      "{\n",
      "    \"repository\": {\n",
      "        \"repositoryArn\": \"arn:aws:ecr:us-east-1:581320662326:repository/cookbook-custom-image-a\",\n",
      "        \"registryId\": \"581320662326\",\n",
      "        \"repositoryName\": \"cookbook-custom-image-a\",\n",
      "        \"repositoryUri\": \"581320662326.dkr.ecr.us-east-1.amazonaws.com/cookbook-custom-image-a\",\n",
      "        \"createdAt\": 1619872114.0,\n",
      "        \"imageTagMutability\": \"MUTABLE\",\n",
      "        \"imageScanningConfiguration\": {\n",
      "            \"scanOnPush\": false\n",
      "        },\n",
      "        \"encryptionConfiguration\": {\n",
      "            \"encryptionType\": \"AES256\"\n",
      "        }\n",
      "    }\n",
      "}\n"
     ]
    }
   ],
   "source": [
    "!aws ecr describe-repositories --repository-names {repository_name} || aws ecr create-repository --repository-name {repository_name} || aws ecr create-repository --repository-name {repository_name}"
   ]
  },
  {
   "cell_type": "code",
   "execution_count": 32,
   "id": "03c099fa",
   "metadata": {},
   "outputs": [
    {
     "data": {
      "text/plain": [
       "'581320662326.dkr.ecr.us-east-1.amazonaws.com/cookbook-custom-image-a'"
      ]
     },
     "execution_count": 32,
     "metadata": {},
     "output_type": "execute_result"
    }
   ],
   "source": [
    "results = !aws ecr describe-repositories --repository-names {repository_name} | jq -r \".repositories[].repositoryUri\"\n",
    "target_repository_uri = results[0]\n",
    "target_repository_uri"
   ]
  },
  {
   "cell_type": "code",
   "execution_count": 34,
   "id": "f8f9adf8",
   "metadata": {},
   "outputs": [],
   "source": [
    "!docker tag {public_r_image} {target_repository_uri}:1"
   ]
  },
  {
   "cell_type": "markdown",
   "id": "d3b25aac",
   "metadata": {},
   "source": [
    "Make sure that the exection role is access to ECR"
   ]
  },
  {
   "cell_type": "code",
   "execution_count": 37,
   "id": "df9b8096",
   "metadata": {},
   "outputs": [
    {
     "name": "stdout",
     "output_type": "stream",
     "text": [
      "The push refers to repository [581320662326.dkr.ecr.us-east-1.amazonaws.com/cookbook-custom-image-a]\n",
      "\n",
      "\u001b[1Be14b33c1: Preparing \n",
      "\u001b[1Bae8be976: Preparing \n",
      "\u001b[1B19e427b9: Preparing \n",
      "\u001b[1Beabc4e9a: Preparing \n",
      "\u001b[1B98cf53cf: Preparing \n",
      "\u001b[1Badb27acb: Preparing \n",
      "\u001b[1Bce80292c: Preparing \n",
      "\u001b[1Bd81ed546: Preparing \n",
      "\u001b[1B0372e6e2: Preparing \n",
      "\u001b[1B34ef6390: Preparing \n",
      "\u001b[1B55bd8174: Preparing \n",
      "\u001b[1Bd9e0f36f: Preparing \n",
      "\u001b[1Bfec5d051: Preparing \n",
      "\u001b[1B62c63edc: Preparing \n",
      "\u001b[1B31e7ba39: Preparing \n",
      "\u001b[6B55bd8174: Pushed   580.6MB/572.8MB\u001b[14A\u001b[2K\u001b[13A\u001b[2K\u001b[12A\u001b[2K\u001b[13A\u001b[2K\u001b[15A\u001b[2K\u001b[12A\u001b[2K\u001b[14A\u001b[2K\u001b[12A\u001b[2K\u001b[10A\u001b[2K\u001b[11A\u001b[2K\u001b[12A\u001b[2K\u001b[11A\u001b[2K\u001b[10A\u001b[2K\u001b[9A\u001b[2K\u001b[12A\u001b[2K\u001b[9A\u001b[2K\u001b[12A\u001b[2K\u001b[9A\u001b[2K\u001b[8A\u001b[2K\u001b[12A\u001b[2K\u001b[8A\u001b[2K\u001b[12A\u001b[2K\u001b[8A\u001b[2K\u001b[11A\u001b[2K\u001b[8A\u001b[2K\u001b[12A\u001b[2K\u001b[8A\u001b[2K\u001b[12A\u001b[2K\u001b[8A\u001b[2K\u001b[12A\u001b[2K\u001b[10A\u001b[2K\u001b[8A\u001b[2K\u001b[8A\u001b[2K\u001b[9A\u001b[2K\u001b[7A\u001b[2K\u001b[5A\u001b[2K\u001b[5A\u001b[2K\u001b[7A\u001b[2K\u001b[12A\u001b[2K\u001b[7A\u001b[2K\u001b[12A\u001b[2K\u001b[7A\u001b[2K\u001b[7A\u001b[2K\u001b[7A\u001b[2K\u001b[6A\u001b[2K\u001b[7A\u001b[2K\u001b[6A\u001b[2K\u001b[6A\u001b[2K\u001b[7A\u001b[2K\u001b[6A\u001b[2K\u001b[7A\u001b[2K\u001b[6A\u001b[2K\u001b[7A\u001b[2K\u001b[6A\u001b[2K\u001b[7A\u001b[2K\u001b[12A\u001b[2K\u001b[7A\u001b[2K\u001b[6A\u001b[2K\u001b[7A\u001b[2K\u001b[6A\u001b[2K\u001b[7A\u001b[2K\u001b[5A\u001b[2K\u001b[7A\u001b[2K\u001b[6A\u001b[2K\u001b[7A\u001b[2K\u001b[6A\u001b[2K\u001b[7A\u001b[2K\u001b[12A\u001b[2K\u001b[7A\u001b[2K\u001b[7A\u001b[2K\u001b[6A\u001b[2K\u001b[6A\u001b[2K\u001b[12A\u001b[2K\u001b[6A\u001b[2K\u001b[6A\u001b[2K\u001b[6A\u001b[2K\u001b[6A\u001b[2K\u001b[6A\u001b[2K\u001b[12A\u001b[2K\u001b[6A\u001b[2K\u001b[6A\u001b[2K\u001b[12A\u001b[2K\u001b[6A\u001b[2K\u001b[3A\u001b[2K\u001b[6A\u001b[2K\u001b[3A\u001b[2K\u001b[6A\u001b[2K\u001b[3A\u001b[2K\u001b[6A\u001b[2K\u001b[3A\u001b[2K\u001b[3A\u001b[2K\u001b[6A\u001b[2K\u001b[3A\u001b[2K\u001b[3A\u001b[2K\u001b[12A\u001b[2K\u001b[4A\u001b[2K\u001b[4A\u001b[2K\u001b[3A\u001b[2K\u001b[6A\u001b[2K\u001b[2A\u001b[2K\u001b[2A\u001b[2K\u001b[3A\u001b[2K\u001b[6A\u001b[2K\u001b[4A\u001b[2K\u001b[6A\u001b[2K\u001b[12A\u001b[2K\u001b[3A\u001b[2K\u001b[6A\u001b[2K\u001b[12A\u001b[2K\u001b[3A\u001b[2K\u001b[1A\u001b[2K\u001b[3A\u001b[2K\u001b[1A\u001b[2K\u001b[3A\u001b[2K\u001b[1A\u001b[2K\u001b[6A\u001b[2K\u001b[1A\u001b[2K\u001b[12A\u001b[2K\u001b[6A\u001b[2K\u001b[3A\u001b[2K\u001b[1A\u001b[2K\u001b[3A\u001b[2K\u001b[1A\u001b[2K\u001b[6A\u001b[2K\u001b[1A\u001b[2K\u001b[6A\u001b[2K\u001b[3A\u001b[2K\u001b[1A\u001b[2K\u001b[3A\u001b[2K\u001b[6A\u001b[2K\u001b[12A\u001b[2K\u001b[3A\u001b[2K\u001b[1A\u001b[2K\u001b[3A\u001b[2K\u001b[3A\u001b[2K\u001b[3A\u001b[2K\u001b[1A\u001b[2K\u001b[12A\u001b[2K\u001b[3A\u001b[2K\u001b[6A\u001b[2K\u001b[1A\u001b[2K\u001b[12A\u001b[2K\u001b[1A\u001b[2K\u001b[12A\u001b[2K\u001b[6A\u001b[2K\u001b[12A\u001b[2K\u001b[3A\u001b[2K\u001b[1A\u001b[2K\u001b[12A\u001b[2K\u001b[1A\u001b[2K\u001b[3A\u001b[2K\u001b[6A\u001b[2K\u001b[3A\u001b[2K\u001b[1A\u001b[2K\u001b[6A\u001b[2K\u001b[3A\u001b[2K\u001b[3A\u001b[2K\u001b[1A\u001b[2K\u001b[3A\u001b[2K\u001b[6A\u001b[2K\u001b[1A\u001b[2K\u001b[1A\u001b[2K\u001b[3A\u001b[2K\u001b[12A\u001b[2K\u001b[3A\u001b[2K\u001b[1A\u001b[2K\u001b[3A\u001b[2K\u001b[1A\u001b[2K\u001b[12A\u001b[2K\u001b[6A\u001b[2K\u001b[3A\u001b[2K\u001b[6A\u001b[2K\u001b[3A\u001b[2K\u001b[1A\u001b[2K\u001b[6A\u001b[2K\u001b[12A\u001b[2K\u001b[6A\u001b[2K\u001b[1A\u001b[2K\u001b[6A\u001b[2K\u001b[1A\u001b[2K\u001b[12A\u001b[2K\u001b[1A\u001b[2K\u001b[1A\u001b[2K\u001b[12A\u001b[2K\u001b[1A\u001b[2K\u001b[12A\u001b[2K\u001b[1A\u001b[2K\u001b[6A\u001b[2K\u001b[1A\u001b[2K\u001b[6A\u001b[2K\u001b[6A\u001b[2K\u001b[6A\u001b[2K\u001b[1A\u001b[2K\u001b[6A\u001b[2K\u001b[12A\u001b[2K\u001b[6A\u001b[2K\u001b[1A\u001b[2K\u001b[12A\u001b[2K\u001b[1A\u001b[2K\u001b[6A\u001b[2K\u001b[12A\u001b[2K\u001b[1A\u001b[2K\u001b[6A\u001b[2K\u001b[1A\u001b[2K\u001b[12A\u001b[2K\u001b[12A\u001b[2K\u001b[1A\u001b[2K\u001b[6A\u001b[2K\u001b[12A\u001b[2K\u001b[1A\u001b[2K\u001b[6A\u001b[2K\u001b[6A\u001b[2K\u001b[1A\u001b[2K\u001b[12A\u001b[2K\u001b[6A\u001b[2K\u001b[12A\u001b[2K\u001b[1A\u001b[2K\u001b[6A\u001b[2K\u001b[1A\u001b[2K\u001b[6A\u001b[2K\u001b[1A\u001b[2K\u001b[1A\u001b[2K\u001b[6A\u001b[2K\u001b[12A\u001b[2K\u001b[1A\u001b[2K\u001b[12A\u001b[2K\u001b[1A\u001b[2K\u001b[6A\u001b[2K\u001b[6A\u001b[2K\u001b[1A\u001b[2K\u001b[1A\u001b[2K\u001b[12A\u001b[2K\u001b[1A\u001b[2K\u001b[12A\u001b[2K\u001b[6A\u001b[2K\u001b[12A\u001b[2K\u001b[6A\u001b[2K\u001b[12A\u001b[2K\u001b[6A\u001b[2K\u001b[12A\u001b[2K\u001b[1A\u001b[2K\u001b[6A\u001b[2K\u001b[1A\u001b[2K\u001b[6A\u001b[2K\u001b[12A\u001b[2K\u001b[6A\u001b[2K\u001b[1A\u001b[2K\u001b[6A\u001b[2K\u001b[12A\u001b[2K\u001b[6A\u001b[2K\u001b[12A\u001b[2K\u001b[6A\u001b[2K\u001b[1A\u001b[2K\u001b[6A\u001b[2K\u001b[12A\u001b[2K\u001b[6A\u001b[2K\u001b[1A\u001b[2K\u001b[6A\u001b[2K\u001b[12A\u001b[2K\u001b[6A\u001b[2K\u001b[12A\u001b[2K\u001b[1A\u001b[2K\u001b[6A\u001b[2K\u001b[1A\u001b[2K\u001b[12A\u001b[2K\u001b[6A\u001b[2K\u001b[6A\u001b[2K\u001b[1A\u001b[2K\u001b[6A\u001b[2K\u001b[12A\u001b[2K\u001b[1A\u001b[2K\u001b[12A\u001b[2K\u001b[1A\u001b[2K\u001b[12A\u001b[2K\u001b[6A\u001b[2K\u001b[1A\u001b[2K\u001b[6A\u001b[2K\u001b[1A\u001b[2K\u001b[6A\u001b[2K\u001b[1A\u001b[2K\u001b[6A\u001b[2K\u001b[12A\u001b[2K\u001b[6A\u001b[2K\u001b[1A\u001b[2K\u001b[12A\u001b[2K\u001b[12A\u001b[2K\u001b[6A\u001b[2K\u001b[12A\u001b[2K\u001b[1A\u001b[2K\u001b[12A\u001b[2K\u001b[6A\u001b[2K\u001b[12A\u001b[2K\u001b[6A\u001b[2K\u001b[6A\u001b[2K\u001b[6A\u001b[2K\u001b[6A\u001b[2K\u001b[6A\u001b[2K\u001b[12A\u001b[2K\u001b[1A\u001b[2K\u001b[6A\u001b[2K\u001b[12A\u001b[2K\u001b[6A\u001b[2K\u001b[12A\u001b[2K\u001b[6A\u001b[2K\u001b[1A\u001b[2K\u001b[12A\u001b[2K\u001b[1A\u001b[2K\u001b[6A\u001b[2K\u001b[1A\u001b[2K\u001b[1A\u001b[2K\u001b[6A\u001b[2K\u001b[12A\u001b[2K\u001b[1A\u001b[2K\u001b[6A\u001b[2K\u001b[1A\u001b[2K\u001b[6A\u001b[2K\u001b[1A\u001b[2K\u001b[6A\u001b[2K\u001b[12A\u001b[2K\u001b[6A\u001b[2K\u001b[12A\u001b[2K\u001b[6A\u001b[2K\u001b[12A\u001b[2K\u001b[1A\u001b[2K\u001b[12A\u001b[2K\u001b[1A\u001b[2K\u001b[12A\u001b[2K\u001b[6A\u001b[2K\u001b[1A\u001b[2K\u001b[12A\u001b[2K\u001b[1A\u001b[2K\u001b[12A\u001b[2K\u001b[1A\u001b[2K\u001b[6A\u001b[2K\u001b[12A\u001b[2K\u001b[6A\u001b[2K\u001b[12A\u001b[2K\u001b[6A\u001b[2K\u001b[6A\u001b[2K\u001b[12A\u001b[2K\u001b[6A\u001b[2K\u001b[1A\u001b[2K\u001b[12A\u001b[2K\u001b[6A\u001b[2K\u001b[6A\u001b[2K\u001b[12A\u001b[2K\u001b[6A\u001b[2K\u001b[12A\u001b[2K\u001b[6A\u001b[2K\u001b[12A\u001b[2K\u001b[6A\u001b[2K\u001b[12A\u001b[2K\u001b[6A\u001b[2K\u001b[12A\u001b[2K\u001b[6A\u001b[2K\u001b[6A\u001b[2K\u001b[6A\u001b[2K\u001b[12A\u001b[2K\u001b[6A\u001b[2K\u001b[6A\u001b[2K\u001b[12A\u001b[2K\u001b[6A\u001b[2K\u001b[12A\u001b[2K\u001b[6A\u001b[2K\u001b[12A\u001b[2K\u001b[6A\u001b[2K\u001b[6A\u001b[2K\u001b[6A\u001b[2K\u001b[12A\u001b[2K\u001b[12A\u001b[2K\u001b[6A\u001b[2K\u001b[12A\u001b[2K\u001b[6A\u001b[2K\u001b[12A\u001b[2K\u001b[6A\u001b[2K\u001b[6A\u001b[2K\u001b[12A\u001b[2K\u001b[6A\u001b[2K\u001b[6A\u001b[2K\u001b[12A\u001b[2K\u001b[6A\u001b[2K\u001b[12A\u001b[2K\u001b[6A\u001b[2K\u001b[6A\u001b[2K\u001b[12A\u001b[2K\u001b[12A\u001b[2K\u001b[12A\u001b[2K\u001b[12A\u001b[2K\u001b[6A\u001b[2K\u001b[12A\u001b[2K\u001b[6A\u001b[2K\u001b[12A\u001b[2K\u001b[6A\u001b[2K\u001b[12A\u001b[2K\u001b[6A\u001b[2K\u001b[12A\u001b[2K\u001b[12A\u001b[2K\u001b[12A\u001b[2K\u001b[12A\u001b[2K\u001b[12A\u001b[2K\u001b[6A\u001b[2K\u001b[6A\u001b[2K\u001b[6A\u001b[2K\u001b[6A\u001b[2K\u001b[6A\u001b[2K\u001b[12A\u001b[2K\u001b[12A\u001b[2K\u001b[6A\u001b[2K\u001b[12A\u001b[2K\u001b[6A\u001b[2K\u001b[6A\u001b[2K\u001b[6A\u001b[2K\u001b[12A\u001b[2K\u001b[6A\u001b[2K\u001b[6A\u001b[2K\u001b[6A\u001b[2K\u001b[6A\u001b[2K\u001b[12A\u001b[2K\u001b[6A\u001b[2K\u001b[6A\u001b[2K\u001b[6A\u001b[2K\u001b[6A\u001b[2K\u001b[6A\u001b[2K\u001b[6A\u001b[2K\u001b[6A\u001b[2K\u001b[6A\u001b[2K\u001b[6A\u001b[2K\u001b[6A\u001b[2K\u001b[6A\u001b[2K\u001b[6A\u001b[2K\u001b[6A\u001b[2K\u001b[6A\u001b[2K\u001b[6A\u001b[2K\u001b[6A\u001b[2K\u001b[6A\u001b[2K\u001b[6A\u001b[2K\u001b[6A\u001b[2K\u001b[6A\u001b[2K\u001b[6A\u001b[2K\u001b[6A\u001b[2K\u001b[6A\u001b[2K\u001b[6A\u001b[2K\u001b[6A\u001b[2K\u001b[6A\u001b[2K\u001b[6A\u001b[2K\u001b[6A\u001b[2K\u001b[6A\u001b[2K\u001b[6A\u001b[2K\u001b[6A\u001b[2K\u001b[6A\u001b[2K\u001b[6A\u001b[2K\u001b[6A\u001b[2K\u001b[6A\u001b[2K\u001b[6A\u001b[2K\u001b[6A\u001b[2K\u001b[6A\u001b[2K\u001b[6A\u001b[2K\u001b[6A\u001b[2K\u001b[6A\u001b[2K\u001b[6A\u001b[2K\u001b[6A\u001b[2K\u001b[6A\u001b[2K\u001b[6A\u001b[2K\u001b[6A\u001b[2K\u001b[6A\u001b[2K\u001b[6A\u001b[2K\u001b[6A\u001b[2K\u001b[6A\u001b[2K\u001b[6A\u001b[2K\u001b[6A\u001b[2K\u001b[6A\u001b[2K\u001b[6A\u001b[2K\u001b[6A\u001b[2K\u001b[6A\u001b[2K\u001b[6A\u001b[2K\u001b[6A\u001b[2K\u001b[6A\u001b[2K\u001b[6A\u001b[2K\u001b[6A\u001b[2K\u001b[6A\u001b[2K\u001b[6A\u001b[2K\u001b[6A\u001b[2K\u001b[6A\u001b[2K\u001b[6A\u001b[2K\u001b[6A\u001b[2K\u001b[6A\u001b[2K\u001b[6A\u001b[2K\u001b[6A\u001b[2K\u001b[6A\u001b[2K\u001b[6A\u001b[2K\u001b[6A\u001b[2K\u001b[6A\u001b[2K\u001b[6A\u001b[2K\u001b[6A\u001b[2K\u001b[6A\u001b[2K\u001b[6A\u001b[2K\u001b[6A\u001b[2K\u001b[6A\u001b[2K\u001b[6A\u001b[2K\u001b[6A\u001b[2K\u001b[6A\u001b[2K\u001b[6A\u001b[2K\u001b[6A\u001b[2K\u001b[6A\u001b[2K\u001b[6A\u001b[2K\u001b[6A\u001b[2K\u001b[6A\u001b[2K\u001b[6A\u001b[2K\u001b[6A\u001b[2K\u001b[6A\u001b[2K\u001b[6A\u001b[2K\u001b[6A\u001b[2K\u001b[6A\u001b[2K\u001b[6A\u001b[2K\u001b[6A\u001b[2K\u001b[6A\u001b[2K\u001b[6A\u001b[2K\u001b[6A\u001b[2K\u001b[6A\u001b[2K\u001b[6A\u001b[2K\u001b[6A\u001b[2K\u001b[6A\u001b[2K\u001b[6A\u001b[2K\u001b[6A\u001b[2K\u001b[6A\u001b[2K\u001b[6A\u001b[2K\u001b[6A\u001b[2K\u001b[6A\u001b[2K\u001b[6A\u001b[2K\u001b[6A\u001b[2K\u001b[6A\u001b[2K\u001b[6A\u001b[2K\u001b[6A\u001b[2K\u001b[6A\u001b[2K\u001b[6A\u001b[2K\u001b[6A\u001b[2K\u001b[6A\u001b[2K\u001b[6A\u001b[2K\u001b[6A\u001b[2K\u001b[6A\u001b[2K\u001b[6A\u001b[2K\u001b[6A\u001b[2K\u001b[6A\u001b[2K\u001b[6A\u001b[2K\u001b[6A\u001b[2K\u001b[6A\u001b[2K\u001b[6A\u001b[2K\u001b[6A\u001b[2K\u001b[6A\u001b[2K\u001b[6A\u001b[2K\u001b[6A\u001b[2K\u001b[6A\u001b[2K\u001b[6A\u001b[2K\u001b[6A\u001b[2K\u001b[6A\u001b[2K\u001b[6A\u001b[2K\u001b[6A\u001b[2K\u001b[6A\u001b[2K\u001b[6A\u001b[2K\u001b[6A\u001b[2K\u001b[6A\u001b[2K\u001b[6A\u001b[2K\u001b[6A\u001b[2K\u001b[6A\u001b[2K\u001b[6A\u001b[2K\u001b[6A\u001b[2K\u001b[6A\u001b[2K\u001b[6A\u001b[2K\u001b[6A\u001b[2K1: digest: sha256:331b45592738fafbfcd2c0e9595b86a2eaf24cf807a90642c88aebc53ddff73a size: 3676\n"
     ]
    }
   ],
   "source": [
    "!docker push {target_repository_uri}:1"
   ]
  },
  {
   "cell_type": "code",
   "execution_count": 70,
   "id": "45c399b7",
   "metadata": {},
   "outputs": [],
   "source": [
    "custom_model_file = \"https://github.com/PacktPublishing/\" + \\\n",
    "    \"Amazon-SageMaker-Cookbook/raw/master/\" + \\\n",
    "    \"Chapter12/files/model.r.custom.tar.gz\""
   ]
  },
  {
   "cell_type": "code",
   "execution_count": 39,
   "id": "10339be3",
   "metadata": {},
   "outputs": [],
   "source": [
    "!mkdir -p tmp"
   ]
  },
  {
   "cell_type": "code",
   "execution_count": 40,
   "id": "0f16a635",
   "metadata": {},
   "outputs": [
    {
     "name": "stdout",
     "output_type": "stream",
     "text": [
      "--2021-05-01 12:39:46--  https://github.com/PacktPublishing/Amazon-SageMaker-Cookbook/raw/master/Chapter12/files/model.r.custom.tar.gz\n",
      "Resolving github.com (github.com)... 140.82.114.4\n",
      "Connecting to github.com (github.com)|140.82.114.4|:443... connected.\n",
      "HTTP request sent, awaiting response... 302 Found\n",
      "Location: https://raw.githubusercontent.com/PacktPublishing/Amazon-SageMaker-Cookbook/master/Chapter12/files/model.r.custom.tar.gz [following]\n",
      "--2021-05-01 12:39:46--  https://raw.githubusercontent.com/PacktPublishing/Amazon-SageMaker-Cookbook/master/Chapter12/files/model.r.custom.tar.gz\n",
      "Resolving raw.githubusercontent.com (raw.githubusercontent.com)... 185.199.110.133, 185.199.111.133, 185.199.108.133, ...\n",
      "Connecting to raw.githubusercontent.com (raw.githubusercontent.com)|185.199.110.133|:443... connected.\n",
      "HTTP request sent, awaiting response... 200 OK\n",
      "Length: 1741 (1.7K) [application/octet-stream]\n",
      "Saving to: ‘tmp/model.r.custom.tar.gz’\n",
      "\n",
      "tmp/model.r.custom. 100%[===================>]   1.70K  --.-KB/s    in 0s      \n",
      "\n",
      "2021-05-01 12:39:46 (25.5 MB/s) - ‘tmp/model.r.custom.tar.gz’ saved [1741/1741]\n",
      "\n"
     ]
    }
   ],
   "source": [
    "!wget -O tmp/model.r.custom.tar.gz {custom_model_file}"
   ]
  },
  {
   "cell_type": "code",
   "execution_count": 41,
   "id": "9c9e42f8",
   "metadata": {},
   "outputs": [],
   "source": [
    "s3_bucket = \"sagemaker-cookbook-bucket\"\n",
    "prefix = \"chapter12\""
   ]
  },
  {
   "cell_type": "code",
   "execution_count": 42,
   "id": "5c744e75",
   "metadata": {},
   "outputs": [],
   "source": [
    "model_data = f\"s3://{s3_bucket}/{prefix}/files/model.r.custom.tar.gz\""
   ]
  },
  {
   "cell_type": "code",
   "execution_count": 43,
   "id": "9e4fe0cc",
   "metadata": {},
   "outputs": [
    {
     "name": "stdout",
     "output_type": "stream",
     "text": [
      "Completed 1.7 KiB/1.7 KiB (20.2 KiB/s) with 1 file(s) remaining\r",
      "upload: tmp/model.r.custom.tar.gz to s3://sagemaker-cookbook-bucket/chapter12/files/model.r.custom.tar.gz\r\n"
     ]
    }
   ],
   "source": [
    "!aws s3 cp tmp/model.r.custom.tar.gz {model_data}"
   ]
  },
  {
   "cell_type": "code",
   "execution_count": 44,
   "id": "3bbbc787",
   "metadata": {},
   "outputs": [],
   "source": [
    "import sagemaker\n",
    "sagemaker_session = sagemaker.Session()\n",
    "role = sagemaker.get_execution_role()"
   ]
  },
  {
   "cell_type": "code",
   "execution_count": 45,
   "id": "123d5645",
   "metadata": {},
   "outputs": [],
   "source": [
    "image = f\"{target_repository_uri}:1\"\n",
    "container = { \n",
    "    'Image': image,\n",
    "    'ModelDataUrl': model_data,\n",
    "    'Mode': 'SingleModel'\n",
    "}"
   ]
  },
  {
   "cell_type": "code",
   "execution_count": 54,
   "id": "91118a51",
   "metadata": {},
   "outputs": [],
   "source": [
    "model_name = 'cookbook-single-custom-model'\n",
    "endpoint_config_name = 'cookbook-single-custom-model-endpoint-config'\n",
    "endpoint_name = 'cookbook-single-custom-model-endpoint'"
   ]
  },
  {
   "cell_type": "code",
   "execution_count": 55,
   "id": "45d4b757",
   "metadata": {},
   "outputs": [
    {
     "data": {
      "text/plain": [
       "{'ModelArn': 'arn:aws:sagemaker:us-east-1:581320662326:model/cookbook-single-custom-model',\n",
       " 'ResponseMetadata': {'RequestId': '151ff5a5-d7fd-4993-b14b-24147ec83eea',\n",
       "  'HTTPStatusCode': 200,\n",
       "  'HTTPHeaders': {'x-amzn-requestid': '151ff5a5-d7fd-4993-b14b-24147ec83eea',\n",
       "   'content-type': 'application/x-amz-json-1.1',\n",
       "   'content-length': '90',\n",
       "   'date': 'Sat, 01 May 2021 12:48:59 GMT'},\n",
       "  'RetryAttempts': 0}}"
      ]
     },
     "execution_count": 55,
     "metadata": {},
     "output_type": "execute_result"
    }
   ],
   "source": [
    "import boto3\n",
    "sm_client = boto3.client('sagemaker')\n",
    "\n",
    "response = sm_client.create_model(\n",
    "    ModelName = model_name,\n",
    "    ExecutionRoleArn = role,\n",
    "    Containers = [container])\n",
    "\n",
    "response"
   ]
  },
  {
   "cell_type": "code",
   "execution_count": 56,
   "id": "a2ea678d",
   "metadata": {},
   "outputs": [
    {
     "data": {
      "text/plain": [
       "{'EndpointConfigArn': 'arn:aws:sagemaker:us-east-1:581320662326:endpoint-config/cookbook-single-custom-model-endpoint-config',\n",
       " 'ResponseMetadata': {'RequestId': 'b5d00172-c3b8-4b79-9b0d-23690449a938',\n",
       "  'HTTPStatusCode': 200,\n",
       "  'HTTPHeaders': {'x-amzn-requestid': 'b5d00172-c3b8-4b79-9b0d-23690449a938',\n",
       "   'content-type': 'application/x-amz-json-1.1',\n",
       "   'content-length': '125',\n",
       "   'date': 'Sat, 01 May 2021 12:49:01 GMT'},\n",
       "  'RetryAttempts': 0}}"
      ]
     },
     "execution_count": 56,
     "metadata": {},
     "output_type": "execute_result"
    }
   ],
   "source": [
    "response = sm_client.create_endpoint_config(\n",
    "    EndpointConfigName=endpoint_config_name,\n",
    "    ProductionVariants=[{\n",
    "        'InstanceType': 'ml.t2.medium',\n",
    "        'InitialInstanceCount': 1,\n",
    "        'InitialVariantWeight': 1,\n",
    "        'ModelName': model_name,\n",
    "        'VariantName': 'AllTraffic'}])\n",
    "\n",
    "response"
   ]
  },
  {
   "cell_type": "code",
   "execution_count": 57,
   "id": "462bdb2a",
   "metadata": {},
   "outputs": [
    {
     "data": {
      "text/plain": [
       "{'EndpointArn': 'arn:aws:sagemaker:us-east-1:581320662326:endpoint/cookbook-single-custom-model-endpoint',\n",
       " 'ResponseMetadata': {'RequestId': 'eeb9c74d-83b0-4cb2-8d02-e5976f3c33c4',\n",
       "  'HTTPStatusCode': 200,\n",
       "  'HTTPHeaders': {'x-amzn-requestid': 'eeb9c74d-83b0-4cb2-8d02-e5976f3c33c4',\n",
       "   'content-type': 'application/x-amz-json-1.1',\n",
       "   'content-length': '105',\n",
       "   'date': 'Sat, 01 May 2021 12:49:07 GMT'},\n",
       "  'RetryAttempts': 0}}"
      ]
     },
     "execution_count": 57,
     "metadata": {},
     "output_type": "execute_result"
    }
   ],
   "source": [
    "response = sm_client.create_endpoint(\n",
    "    EndpointName=endpoint_name,\n",
    "    EndpointConfigName=endpoint_config_name)\n",
    "\n",
    "response"
   ]
  },
  {
   "cell_type": "code",
   "execution_count": 61,
   "id": "31490b14",
   "metadata": {},
   "outputs": [
    {
     "data": {
      "text/plain": [
       "'Creating'"
      ]
     },
     "execution_count": 61,
     "metadata": {},
     "output_type": "execute_result"
    }
   ],
   "source": [
    "response = sm_client.describe_endpoint(\n",
    "    EndpointName=endpoint_name\n",
    ")\n",
    "\n",
    "response['EndpointStatus']"
   ]
  },
  {
   "cell_type": "code",
   "execution_count": 62,
   "id": "de22142a",
   "metadata": {},
   "outputs": [
    {
     "name": "stdout",
     "output_type": "stream",
     "text": [
      "Still creating...\n",
      "Still creating...\n",
      "Still creating...\n"
     ]
    }
   ],
   "source": [
    "from time import sleep\n",
    "\n",
    "while response['EndpointStatus'] == \"Creating\":\n",
    "    print(\"Still creating...\")\n",
    "    sleep(60)\n",
    "    \n",
    "    response = sm_client.describe_endpoint(\n",
    "        EndpointName=endpoint_name\n",
    "    )"
   ]
  },
  {
   "cell_type": "code",
   "execution_count": 63,
   "id": "f23d499b",
   "metadata": {},
   "outputs": [
    {
     "data": {
      "text/plain": [
       "{'EndpointName': 'cookbook-single-custom-model-endpoint',\n",
       " 'EndpointArn': 'arn:aws:sagemaker:us-east-1:581320662326:endpoint/cookbook-single-custom-model-endpoint',\n",
       " 'EndpointConfigName': 'cookbook-single-custom-model-endpoint-config',\n",
       " 'ProductionVariants': [{'VariantName': 'AllTraffic',\n",
       "   'DeployedImages': [{'SpecifiedImage': '581320662326.dkr.ecr.us-east-1.amazonaws.com/cookbook-custom-image-a:1',\n",
       "     'ResolvedImage': '581320662326.dkr.ecr.us-east-1.amazonaws.com/cookbook-custom-image-a@sha256:331b45592738fafbfcd2c0e9595b86a2eaf24cf807a90642c88aebc53ddff73a',\n",
       "     'ResolutionTime': datetime.datetime(2021, 5, 1, 12, 49, 11, 317000, tzinfo=tzlocal())}],\n",
       "   'CurrentWeight': 1.0,\n",
       "   'DesiredWeight': 1.0,\n",
       "   'CurrentInstanceCount': 1,\n",
       "   'DesiredInstanceCount': 1}],\n",
       " 'EndpointStatus': 'InService',\n",
       " 'CreationTime': datetime.datetime(2021, 5, 1, 12, 49, 8, 140000, tzinfo=tzlocal()),\n",
       " 'LastModifiedTime': datetime.datetime(2021, 5, 1, 12, 57, 24, 125000, tzinfo=tzlocal()),\n",
       " 'ResponseMetadata': {'RequestId': 'db0d1cf7-69c4-48ad-9907-9e0b9612d18a',\n",
       "  'HTTPStatusCode': 200,\n",
       "  'HTTPHeaders': {'x-amzn-requestid': 'db0d1cf7-69c4-48ad-9907-9e0b9612d18a',\n",
       "   'content-type': 'application/x-amz-json-1.1',\n",
       "   'content-length': '770',\n",
       "   'date': 'Sat, 01 May 2021 12:57:41 GMT'},\n",
       "  'RetryAttempts': 0}}"
      ]
     },
     "execution_count": 63,
     "metadata": {},
     "output_type": "execute_result"
    }
   ],
   "source": [
    "response"
   ]
  },
  {
   "cell_type": "code",
   "execution_count": 64,
   "id": "f0054e48",
   "metadata": {},
   "outputs": [],
   "source": [
    "runtime_sm_client = boto3.client('sagemaker-runtime')"
   ]
  },
  {
   "cell_type": "code",
   "execution_count": 65,
   "id": "2ffff8b2",
   "metadata": {},
   "outputs": [],
   "source": [
    "body = \"42\""
   ]
  },
  {
   "cell_type": "code",
   "execution_count": 67,
   "id": "e76607ac",
   "metadata": {},
   "outputs": [
    {
     "data": {
      "text/plain": [
       "{'ResponseMetadata': {'RequestId': '80b0d30e-e66e-4e03-a2e7-4cc348510c34',\n",
       "  'HTTPStatusCode': 200,\n",
       "  'HTTPHeaders': {'x-amzn-requestid': '80b0d30e-e66e-4e03-a2e7-4cc348510c34',\n",
       "   'x-amzn-invoked-production-variant': 'AllTraffic',\n",
       "   'date': 'Sat, 01 May 2021 12:59:17 GMT',\n",
       "   'content-type': 'application/json',\n",
       "   'content-length': '16'},\n",
       "  'RetryAttempts': 0},\n",
       " 'ContentType': 'application/json',\n",
       " 'InvokedProductionVariant': 'AllTraffic',\n",
       " 'Body': <botocore.response.StreamingBody at 0x7fa37ea12a20>}"
      ]
     },
     "execution_count": 67,
     "metadata": {},
     "output_type": "execute_result"
    }
   ],
   "source": [
    "response = runtime_sm_client.invoke_endpoint(\n",
    "    EndpointName=endpoint_name,\n",
    "    ContentType='text/csv',\n",
    "    Body=body)\n",
    "\n",
    "response"
   ]
  },
  {
   "cell_type": "code",
   "execution_count": 68,
   "id": "1bce3730",
   "metadata": {},
   "outputs": [
    {
     "data": {
      "text/plain": [
       "b'1233.18227456514'"
      ]
     },
     "execution_count": 68,
     "metadata": {},
     "output_type": "execute_result"
    }
   ],
   "source": [
    "response['Body'].read()"
   ]
  },
  {
   "cell_type": "code",
   "execution_count": 69,
   "id": "e359d805",
   "metadata": {},
   "outputs": [
    {
     "data": {
      "text/plain": [
       "{'ResponseMetadata': {'RequestId': '13ff14e4-143c-4300-9d80-080cb780f28a',\n",
       "  'HTTPStatusCode': 200,\n",
       "  'HTTPHeaders': {'x-amzn-requestid': '13ff14e4-143c-4300-9d80-080cb780f28a',\n",
       "   'content-type': 'application/x-amz-json-1.1',\n",
       "   'content-length': '0',\n",
       "   'date': 'Sat, 01 May 2021 13:21:19 GMT'},\n",
       "  'RetryAttempts': 0}}"
      ]
     },
     "execution_count": 69,
     "metadata": {},
     "output_type": "execute_result"
    }
   ],
   "source": [
    "response = sm_client.delete_endpoint(\n",
    "    EndpointName=endpoint_name\n",
    ")\n",
    "\n",
    "response"
   ]
  }
 ],
 "metadata": {
  "kernelspec": {
   "display_name": "conda_python3",
   "language": "python",
   "name": "conda_python3"
  },
  "language_info": {
   "codemirror_mode": {
    "name": "ipython",
    "version": 3
   },
   "file_extension": ".py",
   "mimetype": "text/x-python",
   "name": "python",
   "nbconvert_exporter": "python",
   "pygments_lexer": "ipython3",
   "version": "3.6.13"
  }
 },
 "nbformat": 4,
 "nbformat_minor": 5
}
