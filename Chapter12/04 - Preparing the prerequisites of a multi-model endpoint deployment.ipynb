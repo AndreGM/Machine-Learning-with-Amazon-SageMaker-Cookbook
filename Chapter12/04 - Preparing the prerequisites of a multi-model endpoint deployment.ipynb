{
 "cells": [
  {
   "cell_type": "code",
   "execution_count": 7,
   "id": "0014c728",
   "metadata": {},
   "outputs": [],
   "source": [
    "source_path = \"https://github.com/PacktPublishing/\" + \\\n",
    "    \"Amazon-SageMaker-Cookbook/raw/master/\" + \\\n",
    "    \"Chapter12/files/\""
   ]
  },
  {
   "cell_type": "code",
   "execution_count": 1,
   "id": "9fe4b331",
   "metadata": {},
   "outputs": [
    {
     "name": "stdout",
     "output_type": "stream",
     "text": [
      "--2021-05-01 14:41:11--  https://github.com/PacktPublishing/Amazon-SageMaker-Cookbook/raw/master/Chapter12/files/model.xgboost-1.tar.gz\n",
      "Resolving github.com (github.com)... 140.82.112.4\n",
      "Connecting to github.com (github.com)|140.82.112.4|:443... connected.\n",
      "HTTP request sent, awaiting response... 302 Found\n",
      "Location: https://raw.githubusercontent.com/PacktPublishing/Amazon-SageMaker-Cookbook/master/Chapter12/files/model.xgboost-1.tar.gz [following]\n",
      "--2021-05-01 14:41:11--  https://raw.githubusercontent.com/PacktPublishing/Amazon-SageMaker-Cookbook/master/Chapter12/files/model.xgboost-1.tar.gz\n",
      "Resolving raw.githubusercontent.com (raw.githubusercontent.com)... 185.199.111.133, 185.199.108.133, 185.199.109.133, ...\n",
      "Connecting to raw.githubusercontent.com (raw.githubusercontent.com)|185.199.111.133|:443... connected.\n",
      "HTTP request sent, awaiting response... 200 OK\n",
      "Length: 14533 (14K) [application/octet-stream]\n",
      "Saving to: ‘tmp/model.xgboost-1.tar.gz’\n",
      "\n",
      "tmp/model.xgboost-1 100%[===================>]  14.19K  --.-KB/s    in 0s      \n",
      "\n",
      "2021-05-01 14:41:11 (76.2 MB/s) - ‘tmp/model.xgboost-1.tar.gz’ saved [14533/14533]\n",
      "\n",
      "--2021-05-01 14:41:11--  https://github.com/PacktPublishing/Amazon-SageMaker-Cookbook/raw/master/Chapter12/files/model.xgboost-2.tar.gz\n",
      "Resolving github.com (github.com)... 140.82.112.4\n",
      "Connecting to github.com (github.com)|140.82.112.4|:443... connected.\n",
      "HTTP request sent, awaiting response... 302 Found\n",
      "Location: https://raw.githubusercontent.com/PacktPublishing/Amazon-SageMaker-Cookbook/master/Chapter12/files/model.xgboost-2.tar.gz [following]\n",
      "--2021-05-01 14:41:11--  https://raw.githubusercontent.com/PacktPublishing/Amazon-SageMaker-Cookbook/master/Chapter12/files/model.xgboost-2.tar.gz\n",
      "Resolving raw.githubusercontent.com (raw.githubusercontent.com)... 185.199.110.133, 185.199.111.133, 185.199.108.133, ...\n",
      "Connecting to raw.githubusercontent.com (raw.githubusercontent.com)|185.199.110.133|:443... connected.\n",
      "HTTP request sent, awaiting response... 200 OK\n",
      "Length: 1631 (1.6K) [application/octet-stream]\n",
      "Saving to: ‘tmp/model.xgboost-2.tar.gz’\n",
      "\n",
      "tmp/model.xgboost-2 100%[===================>]   1.59K  --.-KB/s    in 0s      \n",
      "\n",
      "2021-05-01 14:41:11 (22.2 MB/s) - ‘tmp/model.xgboost-2.tar.gz’ saved [1631/1631]\n",
      "\n"
     ]
    }
   ],
   "source": [
    "pretrained_model_file_a = source_path + \"model.xgboost-1.tar.gz\"\n",
    "pretrained_model_file_b = source_path + \"model.xgboost-2.tar.gz\"\n",
    "!wget -O tmp/model.xgboost-1.tar.gz {pretrained_model_file_a}\n",
    "!wget -O tmp/model.xgboost-2.tar.gz {pretrained_model_file_b}"
   ]
  },
  {
   "cell_type": "code",
   "execution_count": 2,
   "id": "37d5cce2",
   "metadata": {},
   "outputs": [],
   "source": [
    "s3_bucket = \"sagemaker-cookbook-bucket\"\n",
    "prefix = \"chapter12\""
   ]
  },
  {
   "cell_type": "code",
   "execution_count": 3,
   "id": "acfc7d8c",
   "metadata": {},
   "outputs": [],
   "source": [
    "pretrained_model_data_a = f\"s3://{s3_bucket}/{prefix}/files/model.xgboost-1.tar.gz\"\n",
    "pretrained_model_data_b = f\"s3://{s3_bucket}/{prefix}/files/model.xgboost-2.tar.gz\""
   ]
  },
  {
   "cell_type": "code",
   "execution_count": 4,
   "id": "0911f490",
   "metadata": {},
   "outputs": [
    {
     "name": "stdout",
     "output_type": "stream",
     "text": [
      "upload: tmp/model.xgboost-1.tar.gz to s3://sagemaker-cookbook-bucket/chapter12/files/model.xgboost-1.tar.gz\n",
      "upload: tmp/model.xgboost-2.tar.gz to s3://sagemaker-cookbook-bucket/chapter12/files/model.xgboost-2.tar.gz\n"
     ]
    }
   ],
   "source": [
    "!aws s3 cp tmp/model.xgboost-1.tar.gz {pretrained_model_data_a}\n",
    "!aws s3 cp tmp/model.xgboost-2.tar.gz {pretrained_model_data_b}"
   ]
  },
  {
   "cell_type": "code",
   "execution_count": 6,
   "id": "c2cd9f90",
   "metadata": {},
   "outputs": [
    {
     "name": "stdout",
     "output_type": "stream",
     "text": [
      "Stored 'pretrained_model_data_a' (str)\n",
      "Stored 'pretrained_model_data_b' (str)\n"
     ]
    }
   ],
   "source": [
    "%store pretrained_model_data_a\n",
    "%store pretrained_model_data_b"
   ]
  }
 ],
 "metadata": {
  "kernelspec": {
   "display_name": "conda_python3",
   "language": "python",
   "name": "conda_python3"
  },
  "language_info": {
   "codemirror_mode": {
    "name": "ipython",
    "version": 3
   },
   "file_extension": ".py",
   "mimetype": "text/x-python",
   "name": "python",
   "nbconvert_exporter": "python",
   "pygments_lexer": "ipython3",
   "version": "3.6.13"
  }
 },
 "nbformat": 4,
 "nbformat_minor": 5
}
