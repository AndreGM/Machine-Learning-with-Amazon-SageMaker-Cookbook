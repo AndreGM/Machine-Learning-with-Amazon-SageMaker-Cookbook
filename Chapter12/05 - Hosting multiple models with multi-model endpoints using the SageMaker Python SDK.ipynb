{
 "cells": [
  {
   "cell_type": "code",
   "execution_count": 18,
   "id": "5ac39cfa",
   "metadata": {},
   "outputs": [],
   "source": [
    "import sagemaker\n",
    "from sagemaker import get_execution_role\n",
    "\n",
    "session = sagemaker.Session()\n",
    "role = get_execution_role()"
   ]
  },
  {
   "cell_type": "code",
   "execution_count": 19,
   "id": "018b0454",
   "metadata": {},
   "outputs": [
    {
     "data": {
      "text/plain": [
       "'683313688378.dkr.ecr.us-east-1.amazonaws.com/sagemaker-xgboost:0.90-2-cpu-py3'"
      ]
     },
     "execution_count": 19,
     "metadata": {},
     "output_type": "execute_result"
    }
   ],
   "source": [
    "from sagemaker.image_uris import retrieve\n",
    "\n",
    "image_uri = retrieve(\"xgboost\", region=\"us-east-1\", version=\"0.90-2\")\n",
    "image_uri"
   ]
  },
  {
   "cell_type": "code",
   "execution_count": 20,
   "id": "9884a649",
   "metadata": {},
   "outputs": [],
   "source": [
    "s3_bucket = \"sagemaker-cookbook-bucket\"\n",
    "prefix = \"chapter12\"\n",
    "model_data_prefix = f\"s3://{s3_bucket}/multi_model_artifacts/\""
   ]
  },
  {
   "cell_type": "code",
   "execution_count": 21,
   "id": "e0772d97",
   "metadata": {},
   "outputs": [],
   "source": [
    "from sagemaker.multidatamodel import MultiDataModel\n",
    "\n",
    "multi_model = MultiDataModel(\n",
    "    name=\"MultipleModelsTest\",\n",
    "    model_data_prefix=model_data_prefix, \n",
    "    image_uri=image_uri,\n",
    "    role=role)"
   ]
  },
  {
   "cell_type": "code",
   "execution_count": 22,
   "id": "6d8257c9",
   "metadata": {},
   "outputs": [],
   "source": [
    "%store -r pretrained_model_data_a\n",
    "%store -r pretrained_model_data_b"
   ]
  },
  {
   "cell_type": "code",
   "execution_count": 23,
   "id": "1d227ec1",
   "metadata": {},
   "outputs": [
    {
     "data": {
      "text/plain": [
       "'s3://sagemaker-cookbook-bucket/multi_model_artifacts/chapter12/files/model.xgboost-1.tar.gz'"
      ]
     },
     "execution_count": 23,
     "metadata": {},
     "output_type": "execute_result"
    }
   ],
   "source": [
    "multi_model.add_model(pretrained_model_data_a)"
   ]
  },
  {
   "cell_type": "code",
   "execution_count": 24,
   "id": "e5093b7e",
   "metadata": {},
   "outputs": [
    {
     "data": {
      "text/plain": [
       "'s3://sagemaker-cookbook-bucket/multi_model_artifacts/chapter12/files/model.xgboost-2.tar.gz'"
      ]
     },
     "execution_count": 24,
     "metadata": {},
     "output_type": "execute_result"
    }
   ],
   "source": [
    "multi_model.add_model(pretrained_model_data_b)"
   ]
  },
  {
   "cell_type": "code",
   "execution_count": 25,
   "id": "163e6dd6",
   "metadata": {},
   "outputs": [
    {
     "data": {
      "text/plain": [
       "['chapter12/files/model.xgboost-1.tar.gz',\n",
       " 'chapter12/files/model.xgboost-2.tar.gz']"
      ]
     },
     "execution_count": 25,
     "metadata": {},
     "output_type": "execute_result"
    }
   ],
   "source": [
    "list(mdm.list_models())"
   ]
  },
  {
   "cell_type": "code",
   "execution_count": 26,
   "id": "e585705f",
   "metadata": {},
   "outputs": [
    {
     "name": "stdout",
     "output_type": "stream",
     "text": [
      "chapter12/files/model.xgboost-1.tar.gz\n",
      "chapter12/files/model.xgboost-2.tar.gz\n"
     ]
    }
   ],
   "source": [
    "model_a, model_b = list(mdm.list_models())\n",
    "print(model_a)\n",
    "print(model_b)"
   ]
  },
  {
   "cell_type": "code",
   "execution_count": 27,
   "id": "96a4d19c",
   "metadata": {},
   "outputs": [
    {
     "name": "stderr",
     "output_type": "stream",
     "text": [
      "Using already existing model: MultipleModelsTest\n"
     ]
    },
    {
     "name": "stdout",
     "output_type": "stream",
     "text": [
      "---------------------!"
     ]
    }
   ],
   "source": [
    "multi_model.deploy(\n",
    "    initial_instance_count=1, \n",
    "    instance_type='ml.t2.medium', \n",
    "    endpoint_name=\"multi-model-endpoint\")"
   ]
  },
  {
   "cell_type": "code",
   "execution_count": 28,
   "id": "738d3419",
   "metadata": {},
   "outputs": [],
   "source": [
    "from sagemaker.predictor import Predictor\n",
    "\n",
    "predictor = Predictor(endpoint_name=\"multi-model-endpoint\")\n",
    "\n",
    "from sagemaker.serializers import CSVSerializer\n",
    "from sagemaker.deserializers import JSONDeserializer\n",
    "\n",
    "predictor.serializer = CSVSerializer()\n",
    "predictor.deserializer = JSONDeserializer()"
   ]
  },
  {
   "cell_type": "code",
   "execution_count": 29,
   "id": "32a6a542",
   "metadata": {},
   "outputs": [
    {
     "data": {
      "text/plain": [
       "[0.9153075814247131]"
      ]
     },
     "execution_count": 29,
     "metadata": {},
     "output_type": "execute_result"
    }
   ],
   "source": [
    "predictor.predict(data=\"11,-5\", target_model=model_a)"
   ]
  },
  {
   "cell_type": "code",
   "execution_count": 30,
   "id": "33a6c430",
   "metadata": {},
   "outputs": [
    {
     "data": {
      "text/plain": [
       "[0.039215054363012314]"
      ]
     },
     "execution_count": 30,
     "metadata": {},
     "output_type": "execute_result"
    }
   ],
   "source": [
    "predictor.predict(data=\"-7,-7\", target_model=model_a)"
   ]
  },
  {
   "cell_type": "code",
   "execution_count": 31,
   "id": "4bed1a3e",
   "metadata": {},
   "outputs": [
    {
     "data": {
      "text/plain": [
       "[0.8308258652687073]"
      ]
     },
     "execution_count": 31,
     "metadata": {},
     "output_type": "execute_result"
    }
   ],
   "source": [
    "predictor.predict(data=\"11,-5\", target_model=model_b)"
   ]
  },
  {
   "cell_type": "code",
   "execution_count": 32,
   "id": "65b6a962",
   "metadata": {},
   "outputs": [
    {
     "data": {
      "text/plain": [
       "[0.12053093314170837]"
      ]
     },
     "execution_count": 32,
     "metadata": {},
     "output_type": "execute_result"
    }
   ],
   "source": [
    "predictor.predict(data=\"-7,-7\", target_model=model_b)"
   ]
  },
  {
   "cell_type": "code",
   "execution_count": 33,
   "id": "6dc8aee0",
   "metadata": {},
   "outputs": [],
   "source": [
    "predictor.delete_endpoint()"
   ]
  }
 ],
 "metadata": {
  "kernelspec": {
   "display_name": "conda_python3",
   "language": "python",
   "name": "conda_python3"
  },
  "language_info": {
   "codemirror_mode": {
    "name": "ipython",
    "version": 3
   },
   "file_extension": ".py",
   "mimetype": "text/x-python",
   "name": "python",
   "nbconvert_exporter": "python",
   "pygments_lexer": "ipython3",
   "version": "3.6.13"
  }
 },
 "nbformat": 4,
 "nbformat_minor": 5
}
