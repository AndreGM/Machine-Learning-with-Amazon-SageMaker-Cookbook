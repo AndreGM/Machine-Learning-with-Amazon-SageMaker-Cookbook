{
 "cells": [
  {
   "cell_type": "code",
   "execution_count": 28,
   "id": "b9b2ba46",
   "metadata": {},
   "outputs": [
    {
     "name": "stdout",
     "output_type": "stream",
     "text": [
      "1: Pulling from r4k6a8l9/cookbook-custom-image-01\n",
      "Digest: sha256:0aac309142f6c3b72b8c2d7c36c602279d6074a0ce6d699b6b14f2d079054c37\n",
      "Status: Image is up to date for public.ecr.aws/r4k6a8l9/cookbook-custom-image-01:1\n",
      "public.ecr.aws/r4k6a8l9/cookbook-custom-image-01:1\n",
      "1: Pulling from r4k6a8l9/cookbook-custom-image-02\n",
      "Digest: sha256:77d096aafa00bdc613d4b542eb8a2b33a30b3934487c19e121d31ddb591f6d81\n",
      "Status: Image is up to date for public.ecr.aws/r4k6a8l9/cookbook-custom-image-02:1\n",
      "public.ecr.aws/r4k6a8l9/cookbook-custom-image-02:1\n"
     ]
    }
   ],
   "source": [
    "public_r_image = \"public.ecr.aws/r4k6a8l9/cookbook-custom-image-01:1\"\n",
    "public_py_image = \"public.ecr.aws/r4k6a8l9/cookbook-custom-image-02:1\"\n",
    "!docker pull {public_r_image}\n",
    "!docker pull {public_py_image}"
   ]
  },
  {
   "cell_type": "code",
   "execution_count": 29,
   "id": "aa34f638",
   "metadata": {},
   "outputs": [
    {
     "data": {
      "text/plain": [
       "'581320662326'"
      ]
     },
     "execution_count": 29,
     "metadata": {},
     "output_type": "execute_result"
    }
   ],
   "source": [
    "results = !aws sts get-caller-identity | jq -r \".Account\"\n",
    "account_id = results[0]\n",
    "account_id"
   ]
  },
  {
   "cell_type": "code",
   "execution_count": 30,
   "id": "f5c91f0c",
   "metadata": {},
   "outputs": [
    {
     "name": "stdout",
     "output_type": "stream",
     "text": [
      "WARNING! Your password will be stored unencrypted in /home/ec2-user/.docker/config.json.\r\n",
      "Configure a credential helper to remove this warning. See\r\n",
      "https://docs.docker.com/engine/reference/commandline/login/#credentials-store\r\n",
      "\r\n",
      "Login Succeeded\r\n"
     ]
    }
   ],
   "source": [
    "!aws ecr get-login-password --region us-east-1 | docker login --username AWS --password-stdin {account_id}.dkr.ecr.us-east-1.amazonaws.com"
   ]
  },
  {
   "cell_type": "code",
   "execution_count": 31,
   "id": "566a2cb3",
   "metadata": {},
   "outputs": [],
   "source": [
    "repository_name_a = \"cookbook-custom-image-a\"\n",
    "repository_name_b = \"cookbook-custom-image-b\""
   ]
  },
  {
   "cell_type": "code",
   "execution_count": 32,
   "id": "ededabb2",
   "metadata": {},
   "outputs": [
    {
     "name": "stdout",
     "output_type": "stream",
     "text": [
      "{\n",
      "    \"repositories\": [\n",
      "        {\n",
      "            \"repositoryArn\": \"arn:aws:ecr:us-east-1:581320662326:repository/cookbook-custom-image-a\",\n",
      "            \"registryId\": \"581320662326\",\n",
      "            \"repositoryName\": \"cookbook-custom-image-a\",\n",
      "            \"repositoryUri\": \"581320662326.dkr.ecr.us-east-1.amazonaws.com/cookbook-custom-image-a\",\n",
      "            \"createdAt\": 1619872114.0,\n",
      "            \"imageTagMutability\": \"MUTABLE\",\n",
      "            \"imageScanningConfiguration\": {\n",
      "                \"scanOnPush\": false\n",
      "            },\n",
      "            \"encryptionConfiguration\": {\n",
      "                \"encryptionType\": \"AES256\"\n",
      "            }\n",
      "        }\n",
      "    ]\n",
      "}\n",
      "{\n",
      "    \"repositories\": [\n",
      "        {\n",
      "            \"repositoryArn\": \"arn:aws:ecr:us-east-1:581320662326:repository/cookbook-custom-image-b\",\n",
      "            \"registryId\": \"581320662326\",\n",
      "            \"repositoryName\": \"cookbook-custom-image-b\",\n",
      "            \"repositoryUri\": \"581320662326.dkr.ecr.us-east-1.amazonaws.com/cookbook-custom-image-b\",\n",
      "            \"createdAt\": 1619874743.0,\n",
      "            \"imageTagMutability\": \"MUTABLE\",\n",
      "            \"imageScanningConfiguration\": {\n",
      "                \"scanOnPush\": false\n",
      "            },\n",
      "            \"encryptionConfiguration\": {\n",
      "                \"encryptionType\": \"AES256\"\n",
      "            }\n",
      "        }\n",
      "    ]\n",
      "}\n"
     ]
    }
   ],
   "source": [
    "!aws ecr describe-repositories --repository-names {repository_name_a} || aws ecr create-repository --repository-name {repository_name_a}\n",
    "!aws ecr describe-repositories --repository-names {repository_name_b} || aws ecr create-repository --repository-name {repository_name_b}"
   ]
  },
  {
   "cell_type": "code",
   "execution_count": 33,
   "id": "af3318c3",
   "metadata": {},
   "outputs": [
    {
     "name": "stdout",
     "output_type": "stream",
     "text": [
      "581320662326.dkr.ecr.us-east-1.amazonaws.com/cookbook-custom-image-a\n",
      "581320662326.dkr.ecr.us-east-1.amazonaws.com/cookbook-custom-image-b\n"
     ]
    }
   ],
   "source": [
    "results_a = !aws ecr describe-repositories --repository-names {repository_name_a} | jq -r \".repositories[].repositoryUri\"\n",
    "target_repository_uri_a = results_a[0]\n",
    "print(target_repository_uri_a)\n",
    "results_b = !aws ecr describe-repositories --repository-names {repository_name_b} | jq -r \".repositories[].repositoryUri\"\n",
    "target_repository_uri_b = results_b[0]\n",
    "print(target_repository_uri_b)"
   ]
  },
  {
   "cell_type": "code",
   "execution_count": 34,
   "id": "747cfba3",
   "metadata": {},
   "outputs": [
    {
     "name": "stdout",
     "output_type": "stream",
     "text": [
      "The push refers to repository [581320662326.dkr.ecr.us-east-1.amazonaws.com/cookbook-custom-image-a]\n",
      "\n",
      "\u001b[1Bf7f83d6e: Preparing \n",
      "\u001b[1B06eccf95: Preparing \n",
      "\u001b[1B19e427b9: Preparing \n",
      "\u001b[1Beabc4e9a: Preparing \n",
      "\u001b[1B98cf53cf: Preparing \n",
      "\u001b[1Badb27acb: Preparing \n",
      "\u001b[1Bce80292c: Preparing \n",
      "\u001b[1Bd81ed546: Preparing \n",
      "\u001b[1B0372e6e2: Preparing \n",
      "\u001b[1B34ef6390: Preparing \n",
      "\u001b[1B55bd8174: Preparing \n",
      "\u001b[1Bd9e0f36f: Preparing \n",
      "\u001b[1Bfec5d051: Preparing \n",
      "\u001b[1B62c63edc: Preparing \n",
      "\u001b[1B31e7ba39: Preparing \n",
      "\u001b[16B7f83d6e: Pushed lready exists 9kB1A\u001b[2K\u001b[8A\u001b[2K\u001b[5A\u001b[2K\u001b[2A\u001b[2K\u001b[15A\u001b[2K\u001b[16A\u001b[2K1: digest: sha256:0aac309142f6c3b72b8c2d7c36c602279d6074a0ce6d699b6b14f2d079054c37 size: 3676\n",
      "The push refers to repository [581320662326.dkr.ecr.us-east-1.amazonaws.com/cookbook-custom-image-b]\n",
      "\n",
      "\u001b[1B39384917: Preparing \n",
      "\u001b[1B81451b8b: Preparing \n",
      "\u001b[1Bcfb9920c: Preparing \n",
      "\u001b[1B57293e3f: Preparing \n",
      "\u001b[1Bea51c460: Preparing \n",
      "\u001b[1Bfe90cd2b: Preparing \n",
      "\u001b[1Bbe224275: Preparing \n",
      "\u001b[1Bb4d500da: Preparing \n",
      "\u001b[1B6a542fc7: Preparing \n",
      "\u001b[1Bd5ecf990: Preparing \n",
      "\u001b[1B6e643f70: Preparing \n",
      "\u001b[1Bad8f2cae: Preparing \n",
      "\u001b[1B581dbc3c: Preparing \n",
      "\u001b[14B9384917: Pushed lready exists 4kBA\u001b[2K\u001b[14A\u001b[2K\u001b[2A\u001b[2K\u001b[14A\u001b[2K1: digest: sha256:77d096aafa00bdc613d4b542eb8a2b33a30b3934487c19e121d31ddb591f6d81 size: 3251\n"
     ]
    }
   ],
   "source": [
    "!docker tag {public_r_image} {target_repository_uri_a}:1\n",
    "!docker tag {public_py_image} {target_repository_uri_b}:1\n",
    "!docker push {target_repository_uri_a}:1\n",
    "!docker push {target_repository_uri_b}:1"
   ]
  },
  {
   "cell_type": "code",
   "execution_count": 35,
   "id": "850e10a4",
   "metadata": {},
   "outputs": [],
   "source": [
    "!mkdir -p tmp"
   ]
  },
  {
   "cell_type": "code",
   "execution_count": null,
   "id": "05dffb0f",
   "metadata": {},
   "outputs": [],
   "source": [
    "source_path = \"https://github.com/PacktPublishing/\" + \\\n",
    "    \"Amazon-SageMaker-Cookbook/raw/master/\" + \\\n",
    "    \"Chapter12/files/\""
   ]
  },
  {
   "cell_type": "code",
   "execution_count": 36,
   "id": "25bbfdea",
   "metadata": {},
   "outputs": [
    {
     "name": "stdout",
     "output_type": "stream",
     "text": [
      "--2021-05-01 13:42:46--  https://github.com/PacktPublishing/Amazon-SageMaker-Cookbook/raw/master/Chapter12/files/model.r.custom.tar.gz\n",
      "Resolving github.com (github.com)... 140.82.112.4\n",
      "Connecting to github.com (github.com)|140.82.112.4|:443... connected.\n",
      "HTTP request sent, awaiting response... 302 Found\n",
      "Location: https://raw.githubusercontent.com/PacktPublishing/Amazon-SageMaker-Cookbook/master/Chapter12/files/model.r.custom.tar.gz [following]\n",
      "--2021-05-01 13:42:46--  https://raw.githubusercontent.com/PacktPublishing/Amazon-SageMaker-Cookbook/master/Chapter12/files/model.r.custom.tar.gz\n",
      "Resolving raw.githubusercontent.com (raw.githubusercontent.com)... 185.199.108.133, 185.199.109.133, 185.199.110.133, ...\n",
      "Connecting to raw.githubusercontent.com (raw.githubusercontent.com)|185.199.108.133|:443... connected.\n",
      "HTTP request sent, awaiting response... 200 OK\n",
      "Length: 1741 (1.7K) [application/octet-stream]\n",
      "Saving to: ‘tmp/model.r.custom.tar.gz’\n",
      "\n",
      "tmp/model.r.custom. 100%[===================>]   1.70K  --.-KB/s    in 0s      \n",
      "\n",
      "2021-05-01 13:42:46 (26.3 MB/s) - ‘tmp/model.r.custom.tar.gz’ saved [1741/1741]\n",
      "\n",
      "--2021-05-01 13:42:46--  https://github.com/PacktPublishing/Amazon-SageMaker-Cookbook/raw/master/Chapter12/files/model.python.custom.tar.gz\n",
      "Resolving github.com (github.com)... 140.82.112.4\n",
      "Connecting to github.com (github.com)|140.82.112.4|:443... connected.\n",
      "HTTP request sent, awaiting response... 302 Found\n",
      "Location: https://raw.githubusercontent.com/PacktPublishing/Amazon-SageMaker-Cookbook/master/Chapter12/files/model.python.custom.tar.gz [following]\n",
      "--2021-05-01 13:42:46--  https://raw.githubusercontent.com/PacktPublishing/Amazon-SageMaker-Cookbook/master/Chapter12/files/model.python.custom.tar.gz\n",
      "Resolving raw.githubusercontent.com (raw.githubusercontent.com)... 185.199.111.133, 185.199.108.133, 185.199.109.133, ...\n",
      "Connecting to raw.githubusercontent.com (raw.githubusercontent.com)|185.199.111.133|:443... connected.\n",
      "HTTP request sent, awaiting response... 200 OK\n",
      "Length: 610 [application/octet-stream]\n",
      "Saving to: ‘tmp/model.python.custom.tar.gz’\n",
      "\n",
      "tmp/model.python.cu 100%[===================>]     610  --.-KB/s    in 0s      \n",
      "\n",
      "2021-05-01 13:42:46 (36.5 MB/s) - ‘tmp/model.python.custom.tar.gz’ saved [610/610]\n",
      "\n"
     ]
    }
   ],
   "source": [
    "custom_model_file_a = source_path + \"model.r.custom.tar.gz\"\n",
    "custom_model_file_b = source_path + \"model.python.custom.tar.gz\"\n",
    "!wget -O tmp/model.r.custom.tar.gz {custom_model_file_a}\n",
    "!wget -O tmp/model.python.custom.tar.gz {custom_model_file_b}"
   ]
  },
  {
   "cell_type": "code",
   "execution_count": 37,
   "id": "e2ec3e4b",
   "metadata": {},
   "outputs": [],
   "source": [
    "s3_bucket = \"sagemaker-cookbook-bucket\"\n",
    "prefix = \"chapter12\""
   ]
  },
  {
   "cell_type": "code",
   "execution_count": 38,
   "id": "ca527207",
   "metadata": {},
   "outputs": [],
   "source": [
    "model_data_a = f\"s3://{s3_bucket}/{prefix}/files/model.r.custom.tar.gz\"\n",
    "model_data_b = f\"s3://{s3_bucket}/{prefix}/files/model.python.custom.tar.gz\""
   ]
  },
  {
   "cell_type": "code",
   "execution_count": 39,
   "id": "d0f746fc",
   "metadata": {
    "scrolled": true
   },
   "outputs": [
    {
     "name": "stdout",
     "output_type": "stream",
     "text": [
      "upload: tmp/model.r.custom.tar.gz to s3://sagemaker-cookbook-bucket/chapter12/files/model.r.custom.tar.gz\n",
      "upload: tmp/model.python.custom.tar.gz to s3://sagemaker-cookbook-bucket/chapter12/files/model.python.custom.tar.gz\n"
     ]
    }
   ],
   "source": [
    "!aws s3 cp tmp/model.r.custom.tar.gz {model_data_a}\n",
    "!aws s3 cp tmp/model.python.custom.tar.gz {model_data_b}"
   ]
  },
  {
   "cell_type": "code",
   "execution_count": 40,
   "id": "573c18ee",
   "metadata": {},
   "outputs": [
    {
     "name": "stdout",
     "output_type": "stream",
     "text": [
      "Stored 'model_data_a' (str)\n",
      "Stored 'model_data_b' (str)\n",
      "Stored 'target_repository_uri_a' (str)\n",
      "Stored 'target_repository_uri_b' (str)\n"
     ]
    }
   ],
   "source": [
    "%store model_data_a\n",
    "%store model_data_b\n",
    "%store target_repository_uri_a\n",
    "%store target_repository_uri_b"
   ]
  }
 ],
 "metadata": {
  "kernelspec": {
   "display_name": "conda_python3",
   "language": "python",
   "name": "conda_python3"
  },
  "language_info": {
   "codemirror_mode": {
    "name": "ipython",
    "version": 3
   },
   "file_extension": ".py",
   "mimetype": "text/x-python",
   "name": "python",
   "nbconvert_exporter": "python",
   "pygments_lexer": "ipython3",
   "version": "3.6.13"
  }
 },
 "nbformat": 4,
 "nbformat_minor": 5
}
