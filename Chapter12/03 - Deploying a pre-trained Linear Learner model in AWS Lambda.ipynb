{
 "cells": [
  {
   "cell_type": "markdown",
   "id": "08ace2a6",
   "metadata": {},
   "source": [
    "Open a terminal\n",
    "\n",
    "```\n",
    "DOWNLOAD_DIR=https://raw.githubusercontent.com/PacktPublishing/Amazon-SageMaker-Cookbook/master/Chapter12/files/\n",
    "\n",
    "FILES=(\"model.ll.tar.gz\" \"app.py\" \"Dockerfile\")\n",
    "\n",
    "for FILE in ${FILES[@]}; do\n",
    "    echo \"Downloading \"$FILE;\n",
    "    wget -O $FILE \"$DOWNLOAD_DIR$FILE\"\n",
    "done\n",
    "\n",
    "tar -xzvf model.ll.tar.gz\n",
    "unzip model_algo-1\n",
    "\n",
    "ACCOUNT_ID=$(aws sts get-caller-identity | jq -r \".Account\")\n",
    "aws ecr get-login-password --region us-east-1 | docker login --username AWS --password-stdin $ACCOUNT_ID.dkr.ecr.us-east-1.amazonaws.com\n",
    "\n",
    "REPOSITORY_NAME=\"cookbook-ll-lambda\"\n",
    "aws ecr describe-repositories --repository-names $REPOSITORY_NAME || aws ecr create-repository --repository-name $REPOSITORY_NAME\n",
    "\n",
    "REPO_URI=$(aws ecr describe-repositories --repository-names $REPOSITORY_NAME | jq -r \".repositories[].repositoryUri\")\n",
    "echo $REPO_URI\n",
    "\n",
    "TAG=1\n",
    "docker build -t $REPO_URI:$TAG .\n",
    "\n",
    "docker run -p 9000:8080 $REPO_URI:$TAG\n",
    "<open new terminal>\n",
    "curl -XPOST \"http://localhost:9000/2015-03-31/functions/function/invocations\" -d '{\"param\": \"41\"}'\n",
    "\n",
    "docker push $REPO_URI:$TAG\n",
    "\n",
    "581320662326.dkr.ecr.us-east-1.amazonaws.com/cookbook-ll-lambda:1\n",
    "\n",
    "Configuration\n",
    "\n",
    "Memory = 1024 MB\n",
    "Timeout = 0 min 10 sec\n",
    "\n",
    "\n",
    "Test Event\n",
    "\n",
    "{\n",
    "  \"param\": \"42\"\n",
    "}\n",
    "```"
   ]
  }
 ],
 "metadata": {
  "kernelspec": {
   "display_name": "conda_python3",
   "language": "python",
   "name": "conda_python3"
  },
  "language_info": {
   "codemirror_mode": {
    "name": "ipython",
    "version": 3
   },
   "file_extension": ".py",
   "mimetype": "text/x-python",
   "name": "python",
   "nbconvert_exporter": "python",
   "pygments_lexer": "ipython3",
   "version": "3.6.13"
  }
 },
 "nbformat": 4,
 "nbformat_minor": 5
}
