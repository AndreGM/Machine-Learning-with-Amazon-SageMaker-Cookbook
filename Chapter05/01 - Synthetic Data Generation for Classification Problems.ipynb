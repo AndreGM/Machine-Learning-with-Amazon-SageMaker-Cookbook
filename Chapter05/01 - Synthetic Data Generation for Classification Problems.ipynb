{
 "cells": [
  {
   "cell_type": "markdown",
   "id": "7b956442",
   "metadata": {},
   "source": [
    "# Synthetic Data Generation for Classification Problems"
   ]
  },
  {
   "cell_type": "markdown",
   "id": "bb4ac75c",
   "metadata": {},
   "source": [
    "<img align=\"left\" width=\"130\" src=\"https://raw.githubusercontent.com/PacktPublishing/Amazon-SageMaker-Cookbook/master/Extra/cover-small-padded.png\"/>\n",
    "\n",
    "This notebook contains the code to help readers work through one of the recipes of the book [Machine Learning with Amazon SageMaker Cookbook: 80 proven recipes for data scientists and developers to perform ML experiments and deployments](https://www.amazon.com/Machine-Learning-Amazon-SageMaker-Cookbook/dp/1800567030)"
   ]
  },
  {
   "cell_type": "markdown",
   "id": "559e3d13",
   "metadata": {},
   "source": [
    "### How to do it..."
   ]
  },
  {
   "cell_type": "code",
   "execution_count": null,
   "id": "977f75ff",
   "metadata": {},
   "outputs": [],
   "source": [
    "from sklearn.datasets import make_blobs\n",
    "X, y = make_blobs(n_samples=5000, centers=2, \n",
    "                  cluster_std=[6, 4], n_features=2, \n",
    "                  random_state=40)"
   ]
  },
  {
   "cell_type": "code",
   "execution_count": null,
   "id": "00cb32b8",
   "metadata": {},
   "outputs": [],
   "source": [
    "import pandas as pd\n",
    "all_dataset = pd.DataFrame(\n",
    "    dict(label=y, a=X[:,0], b=X[:,1]))\n",
    "print(all_dataset)"
   ]
  },
  {
   "cell_type": "code",
   "execution_count": null,
   "id": "d1cfa5ff",
   "metadata": {},
   "outputs": [],
   "source": [
    "from matplotlib import pyplot\n",
    "\n",
    "colors = {0:'red', 1:'blue'}\n",
    "fig, ax = pyplot.subplots()\n",
    "grouped = all_dataset.groupby('label')\n",
    "\n",
    "for key, group in grouped:\n",
    "    group.plot(ax=ax, kind='scatter', \n",
    "               x='a', y='b', \n",
    "               label=key, \n",
    "               color=colors[key])\n",
    "    \n",
    "pyplot.show()"
   ]
  },
  {
   "cell_type": "code",
   "execution_count": null,
   "id": "389c8dfc",
   "metadata": {},
   "outputs": [],
   "source": [
    "from sklearn.model_selection import train_test_split\n",
    "\n",
    "train_val, test = train_test_split(all_dataset, \n",
    "                                   test_size=0.2, \n",
    "                                   random_state=0)\n",
    "\n",
    "training, validation = train_test_split(train_val, \n",
    "                                        test_size=0.25, \n",
    "                                        random_state=0)"
   ]
  },
  {
   "cell_type": "code",
   "execution_count": null,
   "id": "862a51ef",
   "metadata": {},
   "outputs": [],
   "source": [
    "training"
   ]
  },
  {
   "cell_type": "code",
   "execution_count": null,
   "id": "aebd948e",
   "metadata": {},
   "outputs": [],
   "source": [
    "validation"
   ]
  },
  {
   "cell_type": "code",
   "execution_count": null,
   "id": "ff728655",
   "metadata": {},
   "outputs": [],
   "source": [
    "test"
   ]
  },
  {
   "cell_type": "code",
   "execution_count": null,
   "id": "13493b87",
   "metadata": {},
   "outputs": [],
   "source": [
    "!mkdir -p tmp"
   ]
  },
  {
   "cell_type": "code",
   "execution_count": null,
   "id": "2a1e4a9b",
   "metadata": {},
   "outputs": [],
   "source": [
    "training.to_csv('tmp/training_data.csv', header=False, index=False)\n",
    "validation.to_csv('tmp/validation_data.csv', header=False, index=False)\n",
    "test.to_csv('tmp/test_data.csv', header=False, index=False)"
   ]
  },
  {
   "cell_type": "code",
   "execution_count": null,
   "id": "1887c467",
   "metadata": {},
   "outputs": [],
   "source": [
    "s3_bucket = \"sagemaker-cookbook-bucket\"\n",
    "prefix = \"chapter05\"\n",
    "path = f\"s3://{s3_bucket}/{prefix}/input\""
   ]
  },
  {
   "cell_type": "code",
   "execution_count": null,
   "id": "ba397530",
   "metadata": {},
   "outputs": [],
   "source": [
    "!aws s3 cp tmp/training_data.csv {path}/training_data.csv\n",
    "!aws s3 cp tmp/validation_data.csv {path}/validation_data.csv\n",
    "!aws s3 cp tmp/test_data.csv {path}/test_data.csv"
   ]
  }
 ],
 "metadata": {
  "kernelspec": {
   "display_name": "conda_python3",
   "language": "python",
   "name": "conda_python3"
  },
  "language_info": {
   "codemirror_mode": {
    "name": "ipython",
    "version": 3
   },
   "file_extension": ".py",
   "mimetype": "text/x-python",
   "name": "python",
   "nbconvert_exporter": "python",
   "pygments_lexer": "ipython3",
   "version": "3.6.13"
  }
 },
 "nbformat": 4,
 "nbformat_minor": 5
}
