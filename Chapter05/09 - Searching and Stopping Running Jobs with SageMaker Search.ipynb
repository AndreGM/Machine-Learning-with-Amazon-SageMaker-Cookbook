{
 "cells": [
  {
   "cell_type": "code",
   "execution_count": 1,
   "id": "communist-gabriel",
   "metadata": {},
   "outputs": [],
   "source": [
    "import boto3\n",
    "import pandas\n",
    "import numpy as np\n",
    "\n",
    "sagemaker = boto3.client(service_name='sagemaker')"
   ]
  },
  {
   "cell_type": "code",
   "execution_count": 5,
   "id": "chubby-first",
   "metadata": {},
   "outputs": [],
   "source": [
    "import time\n",
    "\n",
    "def stop_training_job(training_job_name):\n",
    "    time.sleep(1)\n",
    "    print(f\"STOPPING TRAINING JOB: {training_job_name}\")\n",
    "    try:\n",
    "        sagemaker.stop_training_job(TrainingJobName=training_job_name)\n",
    "    except Exception as e:\n",
    "        print(e)"
   ]
  },
  {
   "cell_type": "code",
   "execution_count": 6,
   "id": "gothic-greenhouse",
   "metadata": {},
   "outputs": [],
   "source": [
    "def stop_all_running_training_jobs():\n",
    "    search_params={\n",
    "       \"MaxResults\": 50,\n",
    "       \"Resource\": \"TrainingJob\",\n",
    "       \"SearchExpression\": {\n",
    "          \"Filters\": [\n",
    "             {\n",
    "                \"Name\": \"TrainingJobStatus\",\n",
    "                \"Operator\": \"Equals\",\n",
    "                \"Value\": \"InProgress\"\n",
    "             }\n",
    "          ]\n",
    "       }\n",
    "    }\n",
    "\n",
    "    results = sagemaker.search(**search_params)\n",
    "    count = len(results['Results'])\n",
    "    print(f\"FOUND {count} Result(s)\")\n",
    "    \n",
    "    for result in results['Results']:\n",
    "        training_job_name = result['TrainingJob']['TrainingJobName']\n",
    "        \n",
    "        stop_training_job(training_job_name)"
   ]
  },
  {
   "cell_type": "code",
   "execution_count": 7,
   "id": "failing-charger",
   "metadata": {},
   "outputs": [
    {
     "name": "stdout",
     "output_type": "stream",
     "text": [
      "FOUND 2 Result(s)\n",
      "STOPPING TRAINING JOB: job-CZXETKZEPP\n",
      "STOPPING TRAINING JOB: job-RLQBYTZEYD\n"
     ]
    }
   ],
   "source": [
    "stop_all_running_training_jobs()"
   ]
  }
 ],
 "metadata": {
  "kernelspec": {
   "display_name": "conda_python3",
   "language": "python",
   "name": "conda_python3"
  },
  "language_info": {
   "codemirror_mode": {
    "name": "ipython",
    "version": 3
   },
   "file_extension": ".py",
   "mimetype": "text/x-python",
   "name": "python",
   "nbconvert_exporter": "python",
   "pygments_lexer": "ipython3",
   "version": "3.6.13"
  }
 },
 "nbformat": 4,
 "nbformat_minor": 5
}
