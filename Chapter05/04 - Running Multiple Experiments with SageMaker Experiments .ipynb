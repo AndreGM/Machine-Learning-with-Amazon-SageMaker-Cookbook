{
 "cells": [
  {
   "cell_type": "code",
   "execution_count": 23,
   "id": "statistical-shoulder",
   "metadata": {},
   "outputs": [],
   "source": [
    "import sagemaker, boto3\n",
    "\n",
    "session = boto3.Session()\n",
    "sagemaker_session = sagemaker.Session(boto_session=session)\n",
    "sagemaker_client = session.client('sagemaker')\n",
    "role = sagemaker.get_execution_role()"
   ]
  },
  {
   "cell_type": "code",
   "execution_count": 24,
   "id": "restricted-invalid",
   "metadata": {},
   "outputs": [],
   "source": [
    "import time, os, sys\n",
    "import numpy as np\n",
    "import pandas as pd\n",
    "import itertools\n",
    "\n",
    "from pprint import pprint"
   ]
  },
  {
   "cell_type": "code",
   "execution_count": 25,
   "id": "industrial-testimony",
   "metadata": {},
   "outputs": [],
   "source": [
    "bucket_name = sagemaker_session.default_bucket()"
   ]
  },
  {
   "cell_type": "code",
   "execution_count": 26,
   "id": "sustained-hypothetical",
   "metadata": {},
   "outputs": [
    {
     "name": "stdout",
     "output_type": "stream",
     "text": [
      "Requirement already satisfied: sagemaker-experiments in /home/ec2-user/anaconda3/envs/python3/lib/python3.6/site-packages (0.1.30)\r\n",
      "Requirement already satisfied: boto3>=1.16.27 in /home/ec2-user/anaconda3/envs/python3/lib/python3.6/site-packages (from sagemaker-experiments) (1.17.35)\r\n",
      "Requirement already satisfied: jmespath<1.0.0,>=0.7.1 in /home/ec2-user/anaconda3/envs/python3/lib/python3.6/site-packages (from boto3>=1.16.27->sagemaker-experiments) (0.10.0)\r\n",
      "Requirement already satisfied: s3transfer<0.4.0,>=0.3.0 in /home/ec2-user/anaconda3/envs/python3/lib/python3.6/site-packages (from boto3>=1.16.27->sagemaker-experiments) (0.3.4)\r\n",
      "Requirement already satisfied: botocore<1.21.0,>=1.20.35 in /home/ec2-user/anaconda3/envs/python3/lib/python3.6/site-packages (from boto3>=1.16.27->sagemaker-experiments) (1.20.35)\r\n",
      "Requirement already satisfied: urllib3<1.27,>=1.25.4 in /home/ec2-user/anaconda3/envs/python3/lib/python3.6/site-packages (from botocore<1.21.0,>=1.20.35->boto3>=1.16.27->sagemaker-experiments) (1.26.3)\r\n",
      "Requirement already satisfied: python-dateutil<3.0.0,>=2.1 in /home/ec2-user/anaconda3/envs/python3/lib/python3.6/site-packages (from botocore<1.21.0,>=1.20.35->boto3>=1.16.27->sagemaker-experiments) (2.8.1)\r\n",
      "Requirement already satisfied: six>=1.5 in /home/ec2-user/anaconda3/envs/python3/lib/python3.6/site-packages (from python-dateutil<3.0.0,>=2.1->botocore<1.21.0,>=1.20.35->boto3>=1.16.27->sagemaker-experiments) (1.15.0)\r\n"
     ]
    }
   ],
   "source": [
    "!pip install sagemaker-experiments"
   ]
  },
  {
   "cell_type": "code",
   "execution_count": 27,
   "id": "silver-split",
   "metadata": {},
   "outputs": [],
   "source": [
    "from smexperiments.experiment import Experiment\n",
    "from smexperiments.trial import Trial\n",
    "from smexperiments.trial_component import TrialComponent\n",
    "from smexperiments.tracker import Tracker"
   ]
  },
  {
   "cell_type": "code",
   "execution_count": 28,
   "id": "approved-chair",
   "metadata": {},
   "outputs": [],
   "source": [
    "import random\n",
    "import string\n",
    "\n",
    "def generate_random_string():\n",
    "    list_of_chars = random.choices(string.ascii_uppercase, k=10)\n",
    "    return ''.join(list_of_chars)"
   ]
  },
  {
   "cell_type": "code",
   "execution_count": 29,
   "id": "crazy-attempt",
   "metadata": {},
   "outputs": [],
   "source": [
    "training_experiment = Experiment.create(\n",
    "    experiment_name = f\"experiment-{generate_random_string()}\",\n",
    "    description     = \"Experiment Description\",\n",
    "    sagemaker_boto_client=sagemaker_client)"
   ]
  },
  {
   "cell_type": "code",
   "execution_count": 30,
   "id": "responsible-research",
   "metadata": {},
   "outputs": [],
   "source": [
    "hyperparam_options = {\n",
    "    'max_depth': [2, 8],\n",
    "    'eta': [0.2],\n",
    "    'gamma': [3, 4],\n",
    "    'min_child_weight': [6],\n",
    "    'subsample': [0.4],\n",
    "    'num_round': [10, 20],\n",
    "    'objective': ['binary:logistic']\n",
    "}"
   ]
  },
  {
   "cell_type": "code",
   "execution_count": 31,
   "id": "sufficient-acquisition",
   "metadata": {},
   "outputs": [],
   "source": [
    "def prepare_hyperparam_variations(options):\n",
    "    names, values = zip(*options.items())\n",
    "    return [dict(zip(names, value)) for value in itertools.product(*values)]"
   ]
  },
  {
   "cell_type": "code",
   "execution_count": 32,
   "id": "actual-aruba",
   "metadata": {},
   "outputs": [
    {
     "data": {
      "text/plain": [
       "[{'max_depth': 2,\n",
       "  'eta': 0.2,\n",
       "  'gamma': 3,\n",
       "  'min_child_weight': 6,\n",
       "  'subsample': 0.4,\n",
       "  'num_round': 10,\n",
       "  'objective': 'binary:logistic'},\n",
       " {'max_depth': 2,\n",
       "  'eta': 0.2,\n",
       "  'gamma': 3,\n",
       "  'min_child_weight': 6,\n",
       "  'subsample': 0.4,\n",
       "  'num_round': 20,\n",
       "  'objective': 'binary:logistic'},\n",
       " {'max_depth': 2,\n",
       "  'eta': 0.2,\n",
       "  'gamma': 4,\n",
       "  'min_child_weight': 6,\n",
       "  'subsample': 0.4,\n",
       "  'num_round': 10,\n",
       "  'objective': 'binary:logistic'},\n",
       " {'max_depth': 2,\n",
       "  'eta': 0.2,\n",
       "  'gamma': 4,\n",
       "  'min_child_weight': 6,\n",
       "  'subsample': 0.4,\n",
       "  'num_round': 20,\n",
       "  'objective': 'binary:logistic'},\n",
       " {'max_depth': 8,\n",
       "  'eta': 0.2,\n",
       "  'gamma': 3,\n",
       "  'min_child_weight': 6,\n",
       "  'subsample': 0.4,\n",
       "  'num_round': 10,\n",
       "  'objective': 'binary:logistic'},\n",
       " {'max_depth': 8,\n",
       "  'eta': 0.2,\n",
       "  'gamma': 3,\n",
       "  'min_child_weight': 6,\n",
       "  'subsample': 0.4,\n",
       "  'num_round': 20,\n",
       "  'objective': 'binary:logistic'},\n",
       " {'max_depth': 8,\n",
       "  'eta': 0.2,\n",
       "  'gamma': 4,\n",
       "  'min_child_weight': 6,\n",
       "  'subsample': 0.4,\n",
       "  'num_round': 10,\n",
       "  'objective': 'binary:logistic'},\n",
       " {'max_depth': 8,\n",
       "  'eta': 0.2,\n",
       "  'gamma': 4,\n",
       "  'min_child_weight': 6,\n",
       "  'subsample': 0.4,\n",
       "  'num_round': 20,\n",
       "  'objective': 'binary:logistic'}]"
      ]
     },
     "execution_count": 32,
     "metadata": {},
     "output_type": "execute_result"
    }
   ],
   "source": [
    "hyperparam_variations = prepare_hyperparam_variations(hyperparam_options)\n",
    "hyperparam_variations"
   ]
  },
  {
   "cell_type": "code",
   "execution_count": 33,
   "id": "golden-consumer",
   "metadata": {},
   "outputs": [],
   "source": [
    "s3_bucket = 'sagemaker-cookbook-bucket'\n",
    "prefix = \"chapter05\"\n",
    "\n",
    "training_s3_input_location = f\"s3://{s3_bucket}/{prefix}/input/training_data.csv\" \n",
    "validation_s3_input_location = f\"s3://{s3_bucket}/{prefix}/input/validation_data.csv\" \n",
    "test_s3_input_location = f\"s3://{s3_bucket}/{prefix}/input/test_data.csv\" \n",
    "training_s3_output_location = f\"s3://{s3_bucket}/{prefix}/output/\""
   ]
  },
  {
   "cell_type": "code",
   "execution_count": 34,
   "id": "indoor-premium",
   "metadata": {},
   "outputs": [
    {
     "name": "stderr",
     "output_type": "stream",
     "text": [
      "INFO:sagemaker.image_uris:Same images used for training and inference. Defaulting to image scope: inference.\n",
      "INFO:sagemaker.image_uris:Defaulting to only available Python version: py3\n",
      "INFO:sagemaker.image_uris:Defaulting to only supported image scope: cpu.\n"
     ]
    },
    {
     "data": {
      "text/plain": [
       "'683313688378.dkr.ecr.us-east-1.amazonaws.com/sagemaker-xgboost:0.90-2-cpu-py3'"
      ]
     },
     "execution_count": 34,
     "metadata": {},
     "output_type": "execute_result"
    }
   ],
   "source": [
    "from sagemaker.image_uris import retrieve\n",
    "container = retrieve('xgboost', boto3.Session().region_name, version=\"0.90-2\")\n",
    "container"
   ]
  },
  {
   "cell_type": "code",
   "execution_count": 35,
   "id": "controlling-ferry",
   "metadata": {},
   "outputs": [],
   "source": [
    "from sagemaker.inputs import TrainingInput\n",
    "    \n",
    "s3_input_training = TrainingInput(training_s3_input_location, content_type=\"text/csv\")\n",
    "s3_input_validation = TrainingInput(validation_s3_input_location, content_type=\"text/csv\")"
   ]
  },
  {
   "cell_type": "code",
   "execution_count": 36,
   "id": "chubby-charm",
   "metadata": {},
   "outputs": [],
   "source": [
    "with Tracker.create(display_name=\"xgboost-experiment-display-name\", \n",
    "                    artifact_bucket=\"sagemaker-cookbook-bucket\",\n",
    "                    artifact_prefix=training_experiment.experiment_name,\n",
    "                    sagemaker_boto_client=sagemaker_client) as experiment_tracker:\n",
    "    \n",
    "    experiment_tracker.log_input(name=\"training-input\", \n",
    "                                 media_type=\"s3/uri\", \n",
    "                                 value=training_s3_input_location)\n",
    "    \n",
    "    experiment_tracker.log_input(name=\"validation-input\", \n",
    "                                 media_type=\"s3/uri\", \n",
    "                                 value=validation_s3_input_location)\n",
    "    \n",
    "    experiment_tracker.log_parameters(hyperparam_options)"
   ]
  },
  {
   "cell_type": "code",
   "execution_count": 37,
   "id": "intelligent-wrist",
   "metadata": {},
   "outputs": [
    {
     "data": {
      "text/plain": [
       "{'trial_component': TrialComponent(sagemaker_boto_client=<botocore.client.SageMaker object at 0x7fbce18e89b0>,trial_component_name='TrialComponent-2021-04-23-163733-dfmu',display_name='xgboost-experiment-display-name',tags=None,trial_component_arn='arn:aws:sagemaker:us-east-1:581320662326:experiment-trial-component/trialcomponent-2021-04-23-163733-dfmu',response_metadata={'RequestId': 'dc51d788-99d8-42e3-952f-8207ba9badfa', 'HTTPStatusCode': 200, 'HTTPHeaders': {'x-amzn-requestid': 'dc51d788-99d8-42e3-952f-8207ba9badfa', 'content-type': 'application/x-amz-json-1.1', 'content-length': '129', 'date': 'Fri, 23 Apr 2021 16:37:33 GMT'}, 'RetryAttempts': 0},parameters={'max_depth': [2, 8], 'eta': [0.2], 'gamma': [3, 4], 'min_child_weight': [6], 'subsample': [0.4], 'num_round': [10, 20], 'objective': ['binary:logistic']},input_artifacts={'training-input': TrialComponentArtifact(value='s3://sagemaker-cookbook-bucket/chapter05/input/training_data.csv',media_type='s3/uri'), 'validation-input': TrialComponentArtifact(value='s3://sagemaker-cookbook-bucket/chapter05/input/validation_data.csv',media_type='s3/uri')},output_artifacts={},start_time=datetime.datetime(2021, 4, 23, 16, 37, 33, 638149, tzinfo=tzlocal()),status=TrialComponentStatus(primary_status='Completed',message=None),end_time=datetime.datetime(2021, 4, 23, 16, 37, 33, 638252, tzinfo=tzlocal())),\n",
       " '_artifact_uploader': <smexperiments.tracker._ArtifactUploader at 0x7fbce1fb19b0>,\n",
       " '_metrics_writer': None,\n",
       " '_warned_on_metrics': False,\n",
       " '_lineage_artifact_tracker': <smexperiments.tracker._LineageArtifactTracker at 0x7fbce16eaf98>,\n",
       " '_start_time': datetime.datetime(2021, 4, 23, 16, 37, 33, 638149, tzinfo=tzlocal()),\n",
       " '_end_time': datetime.datetime(2021, 4, 23, 16, 37, 33, 638252, tzinfo=tzlocal())}"
      ]
     },
     "execution_count": 37,
     "metadata": {},
     "output_type": "execute_result"
    }
   ],
   "source": [
    "experiment_tracker.__dict__"
   ]
  },
  {
   "cell_type": "code",
   "execution_count": 38,
   "id": "perceived-morris",
   "metadata": {},
   "outputs": [],
   "source": [
    "def track_and_generate_config(experiment_tracker, experiment_name, job_name, random_string, hyperparameters):\n",
    "    tracker_display_name = f\"trial-metadata-{random_string}\"\n",
    "    print(f\"{label} Create Tracker: {tracker_display_name}\")\n",
    "    \n",
    "    with Tracker.create(\n",
    "        display_name=tracker_display_name,\n",
    "        artifact_bucket=\"sagemaker-cookbook-bucket\",\n",
    "        artifact_prefix=f\"{experiment_name}/{job_name}\",\n",
    "        sagemaker_boto_client=sagemaker_client) as trial_tracker:\n",
    "        \n",
    "        trial_tracker.log_parameters(hyperparameters)\n",
    "\n",
    "    trial_name = f'trial-{random_string}'\n",
    "    print(f\"Create Trial: {trial_name}\")\n",
    "    \n",
    "    trial = Trial.create(\n",
    "        trial_name=trial_name, \n",
    "        experiment_name=experiment_name,\n",
    "        sagemaker_boto_client=sagemaker_client)\n",
    "    \n",
    "    trial.add_trial_component(experiment_tracker.trial_component)\n",
    "    time.sleep(1) \n",
    "    trial.add_trial_component(trial_tracker.trial_component)\n",
    "    \n",
    "    print(f\"Prepare Experiment Configuration\")\n",
    "\n",
    "    return {\n",
    "        \"ExperimentName\": experiment_name, \n",
    "        \"TrialName\": trial.trial_name,\n",
    "        \"TrialComponentDisplayName\": job_name\n",
    "    }"
   ]
  },
  {
   "cell_type": "code",
   "execution_count": 39,
   "id": "nearby-bottom",
   "metadata": {},
   "outputs": [
    {
     "name": "stdout",
     "output_type": "stream",
     "text": [
      "Iteration # 1\n",
      "[Iteration # 1] Track and Generate Config\n",
      "[Iteration # 1] Create Tracker: trial-metadata-PUGURJGJBQ\n",
      "Create Trial: trial-PUGURJGJBQ\n",
      "Prepare Experiment Configuration\n"
     ]
    },
    {
     "name": "stderr",
     "output_type": "stream",
     "text": [
      "INFO:sagemaker.image_uris:Defaulting to the only supported framework/algorithm version: latest.\n",
      "INFO:sagemaker.image_uris:Ignoring unnecessary instance type: None.\n",
      "INFO:sagemaker:Creating training-job with name: job-PUGURJGJBQ\n"
     ]
    },
    {
     "name": "stdout",
     "output_type": "stream",
     "text": [
      "[Iteration # 1] Initialize Estimator\n",
      "[Iteration # 1] Call fit() function\n",
      "Iteration # 2\n",
      "[Iteration # 2] Track and Generate Config\n",
      "[Iteration # 2] Create Tracker: trial-metadata-ODRMOZOANU\n",
      "Create Trial: trial-ODRMOZOANU\n",
      "Prepare Experiment Configuration\n"
     ]
    },
    {
     "name": "stderr",
     "output_type": "stream",
     "text": [
      "INFO:sagemaker.image_uris:Defaulting to the only supported framework/algorithm version: latest.\n",
      "INFO:sagemaker.image_uris:Ignoring unnecessary instance type: None.\n",
      "INFO:sagemaker:Creating training-job with name: job-ODRMOZOANU\n"
     ]
    },
    {
     "name": "stdout",
     "output_type": "stream",
     "text": [
      "[Iteration # 2] Initialize Estimator\n",
      "[Iteration # 2] Call fit() function\n",
      "Iteration # 3\n",
      "[Iteration # 3] Track and Generate Config\n",
      "[Iteration # 3] Create Tracker: trial-metadata-ZLCAISLRUZ\n",
      "Create Trial: trial-ZLCAISLRUZ\n",
      "Prepare Experiment Configuration\n"
     ]
    },
    {
     "name": "stderr",
     "output_type": "stream",
     "text": [
      "INFO:sagemaker.image_uris:Defaulting to the only supported framework/algorithm version: latest.\n",
      "INFO:sagemaker.image_uris:Ignoring unnecessary instance type: None.\n",
      "INFO:sagemaker:Creating training-job with name: job-ZLCAISLRUZ\n"
     ]
    },
    {
     "name": "stdout",
     "output_type": "stream",
     "text": [
      "[Iteration # 3] Initialize Estimator\n",
      "[Iteration # 3] Call fit() function\n",
      "Iteration # 4\n",
      "[Iteration # 4] Track and Generate Config\n",
      "[Iteration # 4] Create Tracker: trial-metadata-IQHFCOYNIF\n",
      "Create Trial: trial-IQHFCOYNIF\n",
      "Prepare Experiment Configuration\n"
     ]
    },
    {
     "name": "stderr",
     "output_type": "stream",
     "text": [
      "INFO:sagemaker.image_uris:Defaulting to the only supported framework/algorithm version: latest.\n",
      "INFO:sagemaker.image_uris:Ignoring unnecessary instance type: None.\n",
      "INFO:sagemaker:Creating training-job with name: job-IQHFCOYNIF\n"
     ]
    },
    {
     "name": "stdout",
     "output_type": "stream",
     "text": [
      "[Iteration # 4] Initialize Estimator\n",
      "[Iteration # 4] Call fit() function\n",
      "Iteration # 5\n",
      "[Iteration # 5] Track and Generate Config\n",
      "[Iteration # 5] Create Tracker: trial-metadata-RLQBYTZEYD\n",
      "Create Trial: trial-RLQBYTZEYD\n",
      "Prepare Experiment Configuration\n"
     ]
    },
    {
     "name": "stderr",
     "output_type": "stream",
     "text": [
      "INFO:sagemaker.image_uris:Defaulting to the only supported framework/algorithm version: latest.\n",
      "INFO:sagemaker.image_uris:Ignoring unnecessary instance type: None.\n",
      "INFO:sagemaker:Creating training-job with name: job-RLQBYTZEYD\n"
     ]
    },
    {
     "name": "stdout",
     "output_type": "stream",
     "text": [
      "[Iteration # 5] Initialize Estimator\n",
      "[Iteration # 5] Call fit() function\n",
      "Iteration # 6\n",
      "[Iteration # 6] Track and Generate Config\n",
      "[Iteration # 6] Create Tracker: trial-metadata-TBXJQVNLRN\n",
      "Create Trial: trial-TBXJQVNLRN\n",
      "Prepare Experiment Configuration\n"
     ]
    },
    {
     "name": "stderr",
     "output_type": "stream",
     "text": [
      "INFO:sagemaker.image_uris:Defaulting to the only supported framework/algorithm version: latest.\n",
      "INFO:sagemaker.image_uris:Ignoring unnecessary instance type: None.\n",
      "INFO:sagemaker:Creating training-job with name: job-TBXJQVNLRN\n"
     ]
    },
    {
     "name": "stdout",
     "output_type": "stream",
     "text": [
      "[Iteration # 6] Initialize Estimator\n",
      "[Iteration # 6] Call fit() function\n",
      "Iteration # 7\n",
      "[Iteration # 7] Track and Generate Config\n",
      "[Iteration # 7] Create Tracker: trial-metadata-RAJKYEBAQV\n",
      "Create Trial: trial-RAJKYEBAQV\n",
      "Prepare Experiment Configuration\n"
     ]
    },
    {
     "name": "stderr",
     "output_type": "stream",
     "text": [
      "INFO:sagemaker.image_uris:Defaulting to the only supported framework/algorithm version: latest.\n",
      "INFO:sagemaker.image_uris:Ignoring unnecessary instance type: None.\n",
      "INFO:sagemaker:Creating training-job with name: job-RAJKYEBAQV\n"
     ]
    },
    {
     "name": "stdout",
     "output_type": "stream",
     "text": [
      "[Iteration # 7] Initialize Estimator\n",
      "[Iteration # 7] Call fit() function\n",
      "Iteration # 8\n",
      "[Iteration # 8] Track and Generate Config\n",
      "[Iteration # 8] Create Tracker: trial-metadata-CZXETKZEPP\n",
      "Create Trial: trial-CZXETKZEPP\n",
      "Prepare Experiment Configuration\n"
     ]
    },
    {
     "name": "stderr",
     "output_type": "stream",
     "text": [
      "INFO:sagemaker.image_uris:Defaulting to the only supported framework/algorithm version: latest.\n",
      "INFO:sagemaker.image_uris:Ignoring unnecessary instance type: None.\n",
      "INFO:sagemaker:Creating training-job with name: job-CZXETKZEPP\n"
     ]
    },
    {
     "name": "stdout",
     "output_type": "stream",
     "text": [
      "[Iteration # 8] Initialize Estimator\n",
      "[Iteration # 8] Call fit() function\n"
     ]
    }
   ],
   "source": [
    "import time\n",
    "\n",
    "for index, hyperparameters in enumerate(hyperparam_variations):\n",
    "    iteration = index + 1\n",
    "    print(f\"Iteration # {iteration}\")\n",
    "    label = f\"[Iteration # {iteration}]\"\n",
    "    random_string = generate_random_string()\n",
    "    job_name = f\"job-{random_string}\"\n",
    "    \n",
    "    print(f\"{label} Track and Generate Config\")\n",
    "    experiment_config = track_and_generate_config(\n",
    "        experiment_tracker=experiment_tracker,\n",
    "        experiment_name=training_experiment.experiment_name,\n",
    "        job_name=job_name,\n",
    "        random_string=random_string,\n",
    "        hyperparameters=hyperparameters)\n",
    "    \n",
    "    time.sleep(1)\n",
    "    print(f\"{label} Initialize Estimator\")\n",
    "    estimator = sagemaker.estimator.Estimator( \n",
    "                container,\n",
    "                role,\n",
    "                instance_count=1, \n",
    "                instance_type='ml.m5.large', \n",
    "                output_path=training_s3_output_location, \n",
    "                hyperparameters=hyperparameters,\n",
    "                enable_sagemaker_metrics = True,\n",
    "                sagemaker_session=sagemaker_session)\n",
    "    \n",
    "    print(f\"{label} Call fit() function\")\n",
    "    estimator.fit({'train': s3_input_training, \n",
    "                   'validation': s3_input_validation},\n",
    "                   job_name = job_name, \n",
    "                   wait=False,\n",
    "                   experiment_config=experiment_config)"
   ]
  },
  {
   "cell_type": "code",
   "execution_count": 40,
   "id": "unknown-bouquet",
   "metadata": {},
   "outputs": [
    {
     "data": {
      "text/plain": [
       "'experiment-GWOBSJYQLI'"
      ]
     },
     "execution_count": 40,
     "metadata": {},
     "output_type": "execute_result"
    }
   ],
   "source": [
    "experiment_name = training_experiment.experiment_name\n",
    "experiment_name"
   ]
  },
  {
   "cell_type": "code",
   "execution_count": 41,
   "id": "fleet-motor",
   "metadata": {},
   "outputs": [
    {
     "name": "stdout",
     "output_type": "stream",
     "text": [
      "Stored 'experiment_name' (str)\n"
     ]
    }
   ],
   "source": [
    "%store experiment_name"
   ]
  }
 ],
 "metadata": {
  "kernelspec": {
   "display_name": "conda_python3",
   "language": "python",
   "name": "conda_python3"
  },
  "language_info": {
   "codemirror_mode": {
    "name": "ipython",
    "version": 3
   },
   "file_extension": ".py",
   "mimetype": "text/x-python",
   "name": "python",
   "nbconvert_exporter": "python",
   "pygments_lexer": "ipython3",
   "version": "3.6.13"
  }
 },
 "nbformat": 4,
 "nbformat_minor": 5
}
