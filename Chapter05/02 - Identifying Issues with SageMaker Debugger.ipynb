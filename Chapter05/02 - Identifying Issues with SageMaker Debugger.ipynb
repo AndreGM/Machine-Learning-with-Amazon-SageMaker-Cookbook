{
 "cells": [
  {
   "cell_type": "code",
   "execution_count": 1,
   "id": "nominated-projector",
   "metadata": {},
   "outputs": [],
   "source": [
    "import sagemaker \n",
    "import boto3\n",
    "from sagemaker import get_execution_role"
   ]
  },
  {
   "cell_type": "code",
   "execution_count": 2,
   "id": "attended-travel",
   "metadata": {},
   "outputs": [],
   "source": [
    "role_arn = get_execution_role()\n",
    "session = sagemaker.Session()"
   ]
  },
  {
   "cell_type": "code",
   "execution_count": 3,
   "id": "seasonal-recorder",
   "metadata": {},
   "outputs": [],
   "source": [
    "s3_bucket = 'sagemaker-cookbook-bucket'\n",
    "prefix = \"chapter05\"\n",
    "\n",
    "training_s3_input_location = f\"s3://{s3_bucket}/{prefix}/input/training_data.csv\" \n",
    "validation_s3_input_location = f\"s3://{s3_bucket}/{prefix}/input/validation_data.csv\" \n",
    "test_s3_input_location = f\"s3://{s3_bucket}/{prefix}/input/test_data.csv\" "
   ]
  },
  {
   "cell_type": "code",
   "execution_count": 4,
   "id": "roman-anderson",
   "metadata": {},
   "outputs": [
    {
     "data": {
      "text/plain": [
       "'683313688378.dkr.ecr.us-east-1.amazonaws.com/sagemaker-xgboost:0.90-2-cpu-py3'"
      ]
     },
     "execution_count": 4,
     "metadata": {},
     "output_type": "execute_result"
    }
   ],
   "source": [
    "from sagemaker.image_uris import retrieve\n",
    "container = retrieve('xgboost', \n",
    "                     boto3.Session().region_name, \n",
    "                     version=\"0.90-2\")\n",
    "container"
   ]
  },
  {
   "cell_type": "code",
   "execution_count": 5,
   "id": "official-checkout",
   "metadata": {},
   "outputs": [],
   "source": [
    "from sagemaker.debugger import rule_configs, Rule, DebuggerHookConfig, CollectionConfig\n",
    "\n",
    "save_interval = 2\n",
    "prefix = \"debugger\"\n",
    "bucket_path = 's3://{}/{}'.format(s3_bucket, prefix)"
   ]
  },
  {
   "cell_type": "code",
   "execution_count": 6,
   "id": "brief-palmer",
   "metadata": {},
   "outputs": [],
   "source": [
    "metrics_collection_config = CollectionConfig(\n",
    "    name=\"metrics\",\n",
    "    parameters={\n",
    "        \"save_interval\": str(save_interval)\n",
    "    })\n",
    "\n",
    "debugger_hook_config = DebuggerHookConfig(\n",
    "    s3_output_path=bucket_path,  \n",
    "    collection_configs=[metrics_collection_config]\n",
    ")"
   ]
  },
  {
   "cell_type": "code",
   "execution_count": 7,
   "id": "intimate-ceiling",
   "metadata": {},
   "outputs": [],
   "source": [
    "loss_not_decreasing_rule = Rule.sagemaker(\n",
    "    rule_configs.loss_not_decreasing(),\n",
    "    rule_parameters={\n",
    "        \"collection_names\": \"metrics\",\n",
    "        \"diff_percent\": \"5\",\n",
    "        \"num_steps\": \"2\",\n",
    "    },\n",
    ")\n",
    "\n",
    "rules = [loss_not_decreasing_rule]"
   ]
  },
  {
   "cell_type": "code",
   "execution_count": 8,
   "id": "vietnamese-background",
   "metadata": {},
   "outputs": [],
   "source": [
    "estimator = sagemaker.estimator.Estimator( \n",
    "    role=role_arn,\n",
    "    instance_count=1,\n",
    "    instance_type='ml.m5.2xlarge',\n",
    "    image_uri=container,\n",
    "    debugger_hook_config=debugger_hook_config,\n",
    "    rules=rules,\n",
    "    sagemaker_session=session)"
   ]
  },
  {
   "cell_type": "code",
   "execution_count": 9,
   "id": "august-priority",
   "metadata": {},
   "outputs": [],
   "source": [
    "estimator.set_hyperparameters(max_depth=16,\n",
    "                              objective='binary:logistic',\n",
    "                              num_round=10000)"
   ]
  },
  {
   "cell_type": "code",
   "execution_count": 10,
   "id": "fatal-drive",
   "metadata": {},
   "outputs": [],
   "source": [
    "from sagemaker.inputs import TrainingInput\n",
    "    \n",
    "s3_input_training = TrainingInput(training_s3_input_location, \n",
    "                                  content_type=\"text/csv\")\n",
    "s3_input_validation = TrainingInput(validation_s3_input_location, \n",
    "                                    content_type=\"text/csv\")"
   ]
  },
  {
   "cell_type": "code",
   "execution_count": 11,
   "id": "structural-george",
   "metadata": {},
   "outputs": [],
   "source": [
    "estimator.fit({'train': s3_input_training, \n",
    "               'validation': s3_input_validation}, \n",
    "              wait=False)"
   ]
  },
  {
   "cell_type": "code",
   "execution_count": 12,
   "id": "inner-milan",
   "metadata": {},
   "outputs": [
    {
     "name": "stdout",
     "output_type": "stream",
     "text": [
      "Job Name: sagemaker-xgboost-2021-04-23-12-46-34-431\n"
     ]
    }
   ],
   "source": [
    "import time\n",
    "\n",
    "job_name = estimator.latest_training_job.name\n",
    "client = estimator.sagemaker_session.sagemaker_client\n",
    "\n",
    "print(\"Job Name:\", job_name)\n",
    "\n",
    "EVALUATION_STOP_STATES = [\"Stopped\", \"IssuesFound\", \"NoIssuesFound\", \"Error\"]"
   ]
  },
  {
   "cell_type": "code",
   "execution_count": 13,
   "id": "underlying-intro",
   "metadata": {},
   "outputs": [],
   "source": [
    "def display_rule_job_summary(rule_job_summary):\n",
    "    break_after_this = False \n",
    "\n",
    "    for rule_job in rule_job_summary:\n",
    "        rule_name = rule_job[\"RuleConfigurationName\"]\n",
    "        evaluation_status = rule_job[\"RuleEvaluationStatus\"]\n",
    "        print(\"Rule [{}]: {}\".format(rule_name, evaluation_status))\n",
    "\n",
    "        if evaluation_status == 'IssuesFound':\n",
    "            status_details = rule_job_summary[0]['StatusDetails']        \n",
    "            print(\"{}\".format(status_details))\n",
    "\n",
    "        if evaluation_status in EVALUATION_STOP_STATES and 'ProfilerReport' not in rule_name:\n",
    "            break_after_this = True\n",
    "            \n",
    "    return break_after_this"
   ]
  },
  {
   "cell_type": "code",
   "execution_count": 14,
   "id": "occupied-tractor",
   "metadata": {},
   "outputs": [
    {
     "name": "stdout",
     "output_type": "stream",
     "text": [
      "\n",
      "Training job Status: InProgress\n",
      "Rule [LossNotDecreasing]: InProgress\n",
      "Rule [ProfilerReport-1619181994]: InProgress\n",
      "\n",
      "Training job Status: InProgress\n",
      "Rule [LossNotDecreasing]: InProgress\n",
      "Rule [ProfilerReport-1619181994]: InProgress\n",
      "\n",
      "Training job Status: InProgress\n",
      "Rule [LossNotDecreasing]: InProgress\n",
      "Rule [ProfilerReport-1619181994]: InProgress\n",
      "\n",
      "Training job Status: InProgress\n",
      "Rule [LossNotDecreasing]: InProgress\n",
      "Rule [ProfilerReport-1619181994]: InProgress\n",
      "\n",
      "Training job Status: InProgress\n",
      "Rule [LossNotDecreasing]: InProgress\n",
      "Rule [ProfilerReport-1619181994]: InProgress\n",
      "\n",
      "Training job Status: InProgress\n",
      "Rule [LossNotDecreasing]: InProgress\n",
      "Rule [ProfilerReport-1619181994]: InProgress\n",
      "\n",
      "Training job Status: InProgress\n",
      "Rule [LossNotDecreasing]: InProgress\n",
      "Rule [ProfilerReport-1619181994]: InProgress\n",
      "\n",
      "Training job Status: InProgress\n",
      "Rule [LossNotDecreasing]: InProgress\n",
      "Rule [ProfilerReport-1619181994]: InProgress\n",
      "\n",
      "Training job Status: InProgress\n",
      "Rule [LossNotDecreasing]: InProgress\n",
      "Rule [ProfilerReport-1619181994]: InProgress\n",
      "\n",
      "Training job Status: InProgress\n",
      "Rule [LossNotDecreasing]: InProgress\n",
      "Rule [ProfilerReport-1619181994]: InProgress\n",
      "\n",
      "Training job Status: InProgress\n",
      "Rule [LossNotDecreasing]: InProgress\n",
      "Rule [ProfilerReport-1619181994]: InProgress\n",
      "\n",
      "Training job Status: InProgress\n",
      "Rule [LossNotDecreasing]: InProgress\n",
      "Rule [ProfilerReport-1619181994]: InProgress\n",
      "\n",
      "Training job Status: InProgress\n",
      "Rule [LossNotDecreasing]: InProgress\n",
      "Rule [ProfilerReport-1619181994]: InProgress\n",
      "\n",
      "Training job Status: InProgress\n",
      "Rule [LossNotDecreasing]: InProgress\n",
      "Rule [ProfilerReport-1619181994]: InProgress\n",
      "\n",
      "Training job Status: InProgress\n",
      "Rule [LossNotDecreasing]: InProgress\n",
      "Rule [ProfilerReport-1619181994]: InProgress\n",
      "\n",
      "Training job Status: InProgress\n",
      "Rule [LossNotDecreasing]: InProgress\n",
      "Rule [ProfilerReport-1619181994]: InProgress\n",
      "\n",
      "Training job Status: InProgress\n",
      "Rule [LossNotDecreasing]: InProgress\n",
      "Rule [ProfilerReport-1619181994]: InProgress\n",
      "\n",
      "Training job Status: InProgress\n",
      "Rule [LossNotDecreasing]: InProgress\n",
      "Rule [ProfilerReport-1619181994]: InProgress\n",
      "\n",
      "Training job Status: InProgress\n",
      "Rule [LossNotDecreasing]: InProgress\n",
      "Rule [ProfilerReport-1619181994]: InProgress\n",
      "\n",
      "Training job Status: InProgress\n",
      "Rule [LossNotDecreasing]: InProgress\n",
      "Rule [ProfilerReport-1619181994]: InProgress\n",
      "\n",
      "Training job Status: Completed\n",
      "Rule [LossNotDecreasing]: InProgress\n",
      "Rule [ProfilerReport-1619181994]: InProgress\n",
      "\n",
      "Training job Status: Completed\n",
      "Rule [LossNotDecreasing]: InProgress\n",
      "Rule [ProfilerReport-1619181994]: InProgress\n",
      "\n",
      "Training job Status: Completed\n",
      "Rule [LossNotDecreasing]: InProgress\n",
      "Rule [ProfilerReport-1619181994]: InProgress\n",
      "\n",
      "Training job Status: Completed\n",
      "Rule [LossNotDecreasing]: InProgress\n",
      "Rule [ProfilerReport-1619181994]: NoIssuesFound\n",
      "\n",
      "Training job Status: Completed\n",
      "Rule [LossNotDecreasing]: InProgress\n",
      "Rule [ProfilerReport-1619181994]: NoIssuesFound\n",
      "\n",
      "Training job Status: Completed\n",
      "Rule [LossNotDecreasing]: InProgress\n",
      "Rule [ProfilerReport-1619181994]: NoIssuesFound\n",
      "\n",
      "Training job Status: Completed\n",
      "Rule [LossNotDecreasing]: InProgress\n",
      "Rule [ProfilerReport-1619181994]: NoIssuesFound\n",
      "\n",
      "Training job Status: Completed\n",
      "Rule [LossNotDecreasing]: InProgress\n",
      "Rule [ProfilerReport-1619181994]: NoIssuesFound\n",
      "\n",
      "Training job Status: Completed\n",
      "Rule [LossNotDecreasing]: InProgress\n",
      "Rule [ProfilerReport-1619181994]: NoIssuesFound\n",
      "\n",
      "Training job Status: Completed\n",
      "Rule [LossNotDecreasing]: InProgress\n",
      "Rule [ProfilerReport-1619181994]: NoIssuesFound\n",
      "\n",
      "Training job Status: Completed\n",
      "Rule [LossNotDecreasing]: InProgress\n",
      "Rule [ProfilerReport-1619181994]: NoIssuesFound\n",
      "\n",
      "Training job Status: Completed\n",
      "Rule [LossNotDecreasing]: InProgress\n",
      "Rule [ProfilerReport-1619181994]: NoIssuesFound\n",
      "\n",
      "Training job Status: Completed\n",
      "Rule [LossNotDecreasing]: InProgress\n",
      "Rule [ProfilerReport-1619181994]: NoIssuesFound\n",
      "\n",
      "Training job Status: Completed\n",
      "Rule [LossNotDecreasing]: InProgress\n",
      "Rule [ProfilerReport-1619181994]: NoIssuesFound\n",
      "\n",
      "Training job Status: Completed\n",
      "Rule [LossNotDecreasing]: InProgress\n",
      "Rule [ProfilerReport-1619181994]: NoIssuesFound\n",
      "\n",
      "Training job Status: Completed\n",
      "Rule [LossNotDecreasing]: InProgress\n",
      "Rule [ProfilerReport-1619181994]: NoIssuesFound\n",
      "\n",
      "Training job Status: Completed\n",
      "Rule [LossNotDecreasing]: InProgress\n",
      "Rule [ProfilerReport-1619181994]: NoIssuesFound\n",
      "\n",
      "Training job Status: Completed\n",
      "Rule [LossNotDecreasing]: InProgress\n",
      "Rule [ProfilerReport-1619181994]: NoIssuesFound\n",
      "\n",
      "Training job Status: Completed\n",
      "Rule [LossNotDecreasing]: InProgress\n",
      "Rule [ProfilerReport-1619181994]: NoIssuesFound\n",
      "\n",
      "Training job Status: Completed\n",
      "Rule [LossNotDecreasing]: InProgress\n",
      "Rule [ProfilerReport-1619181994]: NoIssuesFound\n",
      "\n",
      "Training job Status: Completed\n",
      "Rule [LossNotDecreasing]: InProgress\n",
      "Rule [ProfilerReport-1619181994]: NoIssuesFound\n",
      "\n",
      "Training job Status: Completed\n",
      "Rule [LossNotDecreasing]: InProgress\n",
      "Rule [ProfilerReport-1619181994]: NoIssuesFound\n",
      "\n",
      "Training job Status: Completed\n",
      "Rule [LossNotDecreasing]: InProgress\n",
      "Rule [ProfilerReport-1619181994]: NoIssuesFound\n",
      "\n",
      "Training job Status: Completed\n",
      "Rule [LossNotDecreasing]: InProgress\n",
      "Rule [ProfilerReport-1619181994]: NoIssuesFound\n",
      "\n",
      "Training job Status: Completed\n",
      "Rule [LossNotDecreasing]: InProgress\n",
      "Rule [ProfilerReport-1619181994]: NoIssuesFound\n",
      "\n",
      "Training job Status: Completed\n",
      "Rule [LossNotDecreasing]: InProgress\n",
      "Rule [ProfilerReport-1619181994]: NoIssuesFound\n",
      "\n",
      "Training job Status: Completed\n",
      "Rule [LossNotDecreasing]: InProgress\n",
      "Rule [ProfilerReport-1619181994]: NoIssuesFound\n",
      "\n",
      "Training job Status: Completed\n",
      "Rule [LossNotDecreasing]: InProgress\n",
      "Rule [ProfilerReport-1619181994]: NoIssuesFound\n",
      "\n",
      "Training job Status: Completed\n",
      "Rule [LossNotDecreasing]: InProgress\n",
      "Rule [ProfilerReport-1619181994]: NoIssuesFound\n",
      "\n",
      "Training job Status: Completed\n",
      "Rule [LossNotDecreasing]: InProgress\n",
      "Rule [ProfilerReport-1619181994]: NoIssuesFound\n",
      "\n",
      "Training job Status: Completed\n",
      "Rule [LossNotDecreasing]: InProgress\n",
      "Rule [ProfilerReport-1619181994]: NoIssuesFound\n",
      "\n",
      "Training job Status: Completed\n",
      "Rule [LossNotDecreasing]: InProgress\n",
      "Rule [ProfilerReport-1619181994]: NoIssuesFound\n",
      "\n",
      "Training job Status: Completed\n",
      "Rule [LossNotDecreasing]: InProgress\n",
      "Rule [ProfilerReport-1619181994]: NoIssuesFound\n",
      "\n",
      "Training job Status: Completed\n",
      "Rule [LossNotDecreasing]: InProgress\n",
      "Rule [ProfilerReport-1619181994]: NoIssuesFound\n",
      "\n",
      "Training job Status: Completed\n",
      "Rule [LossNotDecreasing]: InProgress\n",
      "Rule [ProfilerReport-1619181994]: NoIssuesFound\n",
      "\n",
      "Training job Status: Completed\n",
      "Rule [LossNotDecreasing]: InProgress\n",
      "Rule [ProfilerReport-1619181994]: NoIssuesFound\n",
      "\n",
      "Training job Status: Completed\n",
      "Rule [LossNotDecreasing]: InProgress\n",
      "Rule [ProfilerReport-1619181994]: NoIssuesFound\n",
      "\n",
      "Training job Status: Completed\n",
      "Rule [LossNotDecreasing]: IssuesFound\n",
      "RuleEvaluationConditionMet: Evaluation of the rule LossNotDecreasing at step 8 resulted in the condition being met\n",
      "\n",
      "Rule [ProfilerReport-1619181994]: NoIssuesFound\n"
     ]
    }
   ],
   "source": [
    "for _ in range(200):\n",
    "    description = client.describe_training_job(\n",
    "        TrainingJobName=job_name\n",
    "    )\n",
    "    \n",
    "    training_job_status = description[\"TrainingJobStatus\"]\n",
    "    \n",
    "    print(\"\\nTraining job Status: {}\".format(training_job_status))\n",
    "    latest_job = estimator.latest_training_job\n",
    "    rule_job_summary = latest_job.rule_job_summary()\n",
    "    \n",
    "    break_after_this = display_rule_job_summary(rule_job_summary)\n",
    "    if break_after_this:\n",
    "        break\n",
    "\n",
    "    time.sleep(10)"
   ]
  },
  {
   "cell_type": "code",
   "execution_count": 16,
   "id": "circular-bankruptcy",
   "metadata": {},
   "outputs": [
    {
     "data": {
      "text/plain": [
       "'s3://sagemaker-cookbook-bucket/debugger/sagemaker-xgboost-2021-04-23-12-46-34-431/debug-output'"
      ]
     },
     "execution_count": 16,
     "metadata": {},
     "output_type": "execute_result"
    }
   ],
   "source": [
    "artifacts_path = estimator.latest_job_debugger_artifacts_path()\n",
    "artifacts_path"
   ]
  },
  {
   "cell_type": "code",
   "execution_count": 17,
   "id": "wireless-yahoo",
   "metadata": {},
   "outputs": [
    {
     "name": "stdout",
     "output_type": "stream",
     "text": [
      "Stored 'artifacts_path' (str)\n"
     ]
    }
   ],
   "source": [
    "%store artifacts_path"
   ]
  },
  {
   "cell_type": "code",
   "execution_count": 20,
   "id": "instant-vocabulary",
   "metadata": {},
   "outputs": [
    {
     "data": {
      "text/plain": [
       "[{'RuleConfigurationName': 'LossNotDecreasing',\n",
       "  'RuleEvaluationJobArn': 'arn:aws:sagemaker:us-east-1:581320662326:processing-job/sagemaker-xgboost-2021-04--lossnotdecreasing-ee3df9a4',\n",
       "  'RuleEvaluationStatus': 'IssuesFound',\n",
       "  'StatusDetails': 'RuleEvaluationConditionMet: Evaluation of the rule LossNotDecreasing at step 8 resulted in the condition being met\\n',\n",
       "  'LastModifiedTime': datetime.datetime(2021, 4, 23, 12, 57, 6, 274000, tzinfo=tzlocal())},\n",
       " {'RuleConfigurationName': 'ProfilerReport-1619181994',\n",
       "  'RuleEvaluationJobArn': 'arn:aws:sagemaker:us-east-1:581320662326:processing-job/sagemaker-xgboost-2021-04--profilerreport-1619181994-2774f38b',\n",
       "  'RuleEvaluationStatus': 'NoIssuesFound',\n",
       "  'LastModifiedTime': datetime.datetime(2021, 4, 23, 12, 51, 19, 442000, tzinfo=tzlocal())}]"
      ]
     },
     "execution_count": 20,
     "metadata": {},
     "output_type": "execute_result"
    }
   ],
   "source": [
    "rule_job_summary = estimator.latest_training_job.rule_job_summary()\n",
    "rule_job_summary"
   ]
  },
  {
   "cell_type": "code",
   "execution_count": 21,
   "id": "aboriginal-ticket",
   "metadata": {},
   "outputs": [
    {
     "name": "stdout",
     "output_type": "stream",
     "text": [
      "Stored 'rule_job_summary' (list)\n"
     ]
    }
   ],
   "source": [
    "%store rule_job_summary"
   ]
  }
 ],
 "metadata": {
  "kernelspec": {
   "display_name": "conda_python3",
   "language": "python",
   "name": "conda_python3"
  },
  "language_info": {
   "codemirror_mode": {
    "name": "ipython",
    "version": 3
   },
   "file_extension": ".py",
   "mimetype": "text/x-python",
   "name": "python",
   "nbconvert_exporter": "python",
   "pygments_lexer": "ipython3",
   "version": "3.6.13"
  }
 },
 "nbformat": 4,
 "nbformat_minor": 5
}
