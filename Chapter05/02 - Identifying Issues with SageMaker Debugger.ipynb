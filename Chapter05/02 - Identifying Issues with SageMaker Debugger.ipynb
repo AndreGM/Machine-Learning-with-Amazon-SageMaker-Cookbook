{
 "cells": [
  {
   "cell_type": "code",
   "execution_count": 22,
   "id": "funky-dayton",
   "metadata": {},
   "outputs": [],
   "source": [
    "import sagemaker \n",
    "import boto3\n",
    "from sagemaker import get_execution_role"
   ]
  },
  {
   "cell_type": "code",
   "execution_count": 23,
   "id": "certain-possibility",
   "metadata": {},
   "outputs": [],
   "source": [
    "role_arn = get_execution_role()\n",
    "session = sagemaker.Session()"
   ]
  },
  {
   "cell_type": "code",
   "execution_count": 24,
   "id": "roman-script",
   "metadata": {},
   "outputs": [],
   "source": [
    "s3_bucket = 'sagemaker-cookbook-bucket'\n",
    "prefix = \"chapter05\"\n",
    "path = f\"s3://{s3_bucket}/{prefix}/input\"\n",
    "\n",
    "training_path = f\"{path}/training_data.csv\" \n",
    "validation_path = f\"{path}/validation_data.csv\" "
   ]
  },
  {
   "cell_type": "code",
   "execution_count": 25,
   "id": "olympic-twenty",
   "metadata": {},
   "outputs": [
    {
     "data": {
      "text/plain": [
       "'683313688378.dkr.ecr.us-east-1.amazonaws.com/sagemaker-xgboost:0.90-2-cpu-py3'"
      ]
     },
     "execution_count": 25,
     "metadata": {},
     "output_type": "execute_result"
    }
   ],
   "source": [
    "from sagemaker.image_uris import retrieve\n",
    "container = retrieve('xgboost', \n",
    "                     boto3.Session().region_name, \n",
    "                     version=\"0.90-2\")\n",
    "container"
   ]
  },
  {
   "cell_type": "code",
   "execution_count": 26,
   "id": "devoted-blank",
   "metadata": {},
   "outputs": [],
   "source": [
    "from sagemaker.debugger import rule_configs, Rule, DebuggerHookConfig, CollectionConfig\n",
    "\n",
    "save_interval = 2\n",
    "prefix = \"debugger\"\n",
    "bucket_path = 's3://{}/{}'.format(s3_bucket, prefix)"
   ]
  },
  {
   "cell_type": "code",
   "execution_count": 27,
   "id": "polyphonic-diary",
   "metadata": {},
   "outputs": [],
   "source": [
    "metrics_collection_config = CollectionConfig(\n",
    "    name=\"metrics\",\n",
    "    parameters={\n",
    "        \"save_interval\": str(save_interval)\n",
    "    })\n",
    "\n",
    "debugger_hook_config = DebuggerHookConfig(\n",
    "    s3_output_path=bucket_path,  \n",
    "    collection_configs=[metrics_collection_config]\n",
    ")"
   ]
  },
  {
   "cell_type": "code",
   "execution_count": 28,
   "id": "simplified-experience",
   "metadata": {},
   "outputs": [],
   "source": [
    "loss_not_decreasing_rule = Rule.sagemaker(\n",
    "    rule_configs.loss_not_decreasing(),\n",
    "    rule_parameters={\n",
    "        \"collection_names\": \"metrics\",\n",
    "        \"diff_percent\": \"5\",\n",
    "        \"num_steps\": \"2\",\n",
    "    },\n",
    ")\n",
    "\n",
    "rules = [loss_not_decreasing_rule]"
   ]
  },
  {
   "cell_type": "code",
   "execution_count": 29,
   "id": "ethical-saturday",
   "metadata": {},
   "outputs": [],
   "source": [
    "estimator = sagemaker.estimator.Estimator( \n",
    "    role=role_arn,\n",
    "    instance_count=1,\n",
    "    instance_type='ml.m5.2xlarge',\n",
    "    image_uri=container,\n",
    "    debugger_hook_config=debugger_hook_config,\n",
    "    rules=rules,\n",
    "    sagemaker_session=session)"
   ]
  },
  {
   "cell_type": "code",
   "execution_count": 30,
   "id": "broken-luxury",
   "metadata": {},
   "outputs": [],
   "source": [
    "estimator.set_hyperparameters(max_depth=16,\n",
    "                              objective='binary:logistic',\n",
    "                              num_round=10000)"
   ]
  },
  {
   "cell_type": "code",
   "execution_count": 31,
   "id": "rational-andrew",
   "metadata": {},
   "outputs": [],
   "source": [
    "from sagemaker.inputs import TrainingInput\n",
    "    \n",
    "s3_input_training = TrainingInput(training_path, \n",
    "                                  content_type=\"text/csv\")\n",
    "s3_input_validation = TrainingInput(validation_path, \n",
    "                                    content_type=\"text/csv\")"
   ]
  },
  {
   "cell_type": "code",
   "execution_count": 32,
   "id": "muslim-blank",
   "metadata": {},
   "outputs": [],
   "source": [
    "estimator.fit({'train': s3_input_training, \n",
    "               'validation': s3_input_validation}, \n",
    "              wait=False)"
   ]
  },
  {
   "cell_type": "code",
   "execution_count": 33,
   "id": "future-drove",
   "metadata": {},
   "outputs": [
    {
     "name": "stdout",
     "output_type": "stream",
     "text": [
      "Job Name: sagemaker-xgboost-2021-04-23-17-54-38-888\n"
     ]
    }
   ],
   "source": [
    "import time\n",
    "\n",
    "job_name = estimator.latest_training_job.name\n",
    "client = estimator.sagemaker_session.sagemaker_client\n",
    "\n",
    "print(\"Job Name:\", job_name)\n",
    "\n",
    "EVALUATION_STOP_STATES = [\"Stopped\", \"IssuesFound\", \"NoIssuesFound\", \"Error\"]"
   ]
  },
  {
   "cell_type": "code",
   "execution_count": 36,
   "id": "younger-fifty",
   "metadata": {},
   "outputs": [],
   "source": [
    "def display_rule_job_summary(rule_job_summary):\n",
    "    break_after_this = False \n",
    "\n",
    "    for rule_job in rule_job_summary:\n",
    "        rule_name = rule_job[\"RuleConfigurationName\"]\n",
    "        evaluation_status = rule_job[\"RuleEvaluationStatus\"]\n",
    "        print(\"Rule [{}]: {}\".format(rule_name, \n",
    "                                     evaluation_status))\n",
    "\n",
    "        if evaluation_status == 'IssuesFound':\n",
    "            summary = rule_job_summary[0]\n",
    "            status_details = summary['StatusDetails']        \n",
    "            print(\"{}\".format(status_details))\n",
    "            \n",
    "        stopped = evaluation_status in EVALUATION_STOP_STATES\n",
    "        not_profiler = 'ProfilerReport' not in rule_name\n",
    "\n",
    "        if stopped and not_profiler:\n",
    "            break_after_this = True\n",
    "            \n",
    "    return break_after_this"
   ]
  },
  {
   "cell_type": "code",
   "execution_count": 37,
   "id": "therapeutic-declaration",
   "metadata": {},
   "outputs": [
    {
     "name": "stdout",
     "output_type": "stream",
     "text": [
      "\n",
      "Training job Status: Completed\n",
      "Rule [LossNotDecreasing]: InProgress\n",
      "Rule [ProfilerReport-1619200479]: NoIssuesFound\n",
      "\n",
      "Training job Status: Completed\n",
      "Rule [LossNotDecreasing]: InProgress\n",
      "Rule [ProfilerReport-1619200479]: NoIssuesFound\n",
      "\n",
      "Training job Status: Completed\n",
      "Rule [LossNotDecreasing]: InProgress\n",
      "Rule [ProfilerReport-1619200479]: NoIssuesFound\n",
      "\n",
      "Training job Status: Completed\n",
      "Rule [LossNotDecreasing]: InProgress\n",
      "Rule [ProfilerReport-1619200479]: NoIssuesFound\n",
      "\n",
      "Training job Status: Completed\n",
      "Rule [LossNotDecreasing]: InProgress\n",
      "Rule [ProfilerReport-1619200479]: NoIssuesFound\n",
      "\n",
      "Training job Status: Completed\n",
      "Rule [LossNotDecreasing]: InProgress\n",
      "Rule [ProfilerReport-1619200479]: NoIssuesFound\n",
      "\n",
      "Training job Status: Completed\n",
      "Rule [LossNotDecreasing]: InProgress\n",
      "Rule [ProfilerReport-1619200479]: NoIssuesFound\n",
      "\n",
      "Training job Status: Completed\n",
      "Rule [LossNotDecreasing]: InProgress\n",
      "Rule [ProfilerReport-1619200479]: NoIssuesFound\n",
      "\n",
      "Training job Status: Completed\n",
      "Rule [LossNotDecreasing]: InProgress\n",
      "Rule [ProfilerReport-1619200479]: NoIssuesFound\n",
      "\n",
      "Training job Status: Completed\n",
      "Rule [LossNotDecreasing]: IssuesFound\n",
      "RuleEvaluationConditionMet: Evaluation of the rule LossNotDecreasing at step 8 resulted in the condition being met\n",
      "\n",
      "Rule [ProfilerReport-1619200479]: NoIssuesFound\n"
     ]
    }
   ],
   "source": [
    "for _ in range(200):\n",
    "    description = client.describe_training_job(\n",
    "        TrainingJobName=job_name\n",
    "    )\n",
    "    \n",
    "    training_job_status = description[\"TrainingJobStatus\"]\n",
    "    \n",
    "    print(\"\\nTraining job Status: {}\".format(\n",
    "        training_job_status))\n",
    "    latest_job = estimator.latest_training_job\n",
    "    rule_job_summary = latest_job.rule_job_summary()\n",
    "    \n",
    "    break_after_this = display_rule_job_summary(\n",
    "        rule_job_summary)\n",
    "    \n",
    "    if break_after_this:\n",
    "        break\n",
    "\n",
    "    time.sleep(10)"
   ]
  },
  {
   "cell_type": "code",
   "execution_count": null,
   "id": "induced-literacy",
   "metadata": {},
   "outputs": [],
   "source": [
    "artifacts_path = estimator.latest_job_debugger_artifacts_path()\n",
    "artifacts_path"
   ]
  },
  {
   "cell_type": "code",
   "execution_count": null,
   "id": "peaceful-dollar",
   "metadata": {},
   "outputs": [],
   "source": [
    "%store artifacts_path"
   ]
  },
  {
   "cell_type": "code",
   "execution_count": null,
   "id": "spare-adjustment",
   "metadata": {},
   "outputs": [],
   "source": [
    "rule_job_summary = estimator.latest_training_job.rule_job_summary()\n",
    "rule_job_summary"
   ]
  },
  {
   "cell_type": "code",
   "execution_count": null,
   "id": "fifteen-carpet",
   "metadata": {},
   "outputs": [],
   "source": [
    "%store rule_job_summary"
   ]
  }
 ],
 "metadata": {
  "kernelspec": {
   "display_name": "conda_python3",
   "language": "python",
   "name": "conda_python3"
  },
  "language_info": {
   "codemirror_mode": {
    "name": "ipython",
    "version": 3
   },
   "file_extension": ".py",
   "mimetype": "text/x-python",
   "name": "python",
   "nbconvert_exporter": "python",
   "pygments_lexer": "ipython3",
   "version": "3.6.13"
  }
 },
 "nbformat": 4,
 "nbformat_minor": 5
}
