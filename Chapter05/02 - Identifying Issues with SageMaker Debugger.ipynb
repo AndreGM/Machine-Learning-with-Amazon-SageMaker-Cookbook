{
 "cells": [
  {
   "cell_type": "markdown",
   "id": "a725ceb1",
   "metadata": {},
   "source": [
    "# Identifying Issues with SageMaker Debugger"
   ]
  },
  {
   "cell_type": "markdown",
   "id": "d18b2650",
   "metadata": {},
   "source": [
    "<img align=\"left\" width=\"130\" src=\"https://raw.githubusercontent.com/PacktPublishing/Amazon-SageMaker-Cookbook/master/Extra/cover-small-padded.png\"/>\n",
    "\n",
    "This notebook contains the code to help readers work through one of the recipes of the book [Machine Learning with Amazon SageMaker Cookbook: 80 proven recipes for data scientists and developers to perform ML experiments and deployments](https://www.amazon.com/Machine-Learning-Amazon-SageMaker-Cookbook/dp/1800567030)"
   ]
  },
  {
   "cell_type": "markdown",
   "id": "0ad95549",
   "metadata": {},
   "source": [
    "### How to do it..."
   ]
  },
  {
   "cell_type": "code",
   "execution_count": null,
   "id": "3fc5294e",
   "metadata": {},
   "outputs": [],
   "source": [
    "import sagemaker \n",
    "import boto3\n",
    "from sagemaker import get_execution_role"
   ]
  },
  {
   "cell_type": "code",
   "execution_count": null,
   "id": "46f0dfed",
   "metadata": {},
   "outputs": [],
   "source": [
    "role_arn = get_execution_role()\n",
    "session = sagemaker.Session()"
   ]
  },
  {
   "cell_type": "code",
   "execution_count": null,
   "id": "f88ea1d4",
   "metadata": {},
   "outputs": [],
   "source": [
    "s3_bucket = 'sagemaker-cookbook-bucket'\n",
    "prefix = \"chapter05\"\n",
    "path = f\"s3://{s3_bucket}/{prefix}/input\"\n",
    "\n",
    "training_path = f\"{path}/training_data.csv\" \n",
    "validation_path = f\"{path}/validation_data.csv\" "
   ]
  },
  {
   "cell_type": "code",
   "execution_count": null,
   "id": "67ccc938",
   "metadata": {},
   "outputs": [],
   "source": [
    "from sagemaker.image_uris import retrieve\n",
    "container = retrieve('xgboost', \n",
    "                     boto3.Session().region_name, \n",
    "                     version=\"0.90-2\")\n",
    "container"
   ]
  },
  {
   "cell_type": "code",
   "execution_count": null,
   "id": "346e5956",
   "metadata": {},
   "outputs": [],
   "source": [
    "from sagemaker.debugger import rule_configs, Rule, DebuggerHookConfig, CollectionConfig\n",
    "\n",
    "save_interval = 2\n",
    "prefix = \"debugger\"\n",
    "bucket_path = 's3://{}/{}'.format(s3_bucket, prefix)"
   ]
  },
  {
   "cell_type": "code",
   "execution_count": null,
   "id": "799ef485",
   "metadata": {},
   "outputs": [],
   "source": [
    "metrics_collection_config = CollectionConfig(\n",
    "    name=\"metrics\",\n",
    "    parameters={\n",
    "        \"save_interval\": str(save_interval)\n",
    "    })\n",
    "\n",
    "debugger_hook_config = DebuggerHookConfig(\n",
    "    s3_output_path=bucket_path,  \n",
    "    collection_configs=[metrics_collection_config]\n",
    ")"
   ]
  },
  {
   "cell_type": "code",
   "execution_count": null,
   "id": "1a37c5a6",
   "metadata": {},
   "outputs": [],
   "source": [
    "loss_not_decreasing_rule = Rule.sagemaker(\n",
    "    rule_configs.loss_not_decreasing(),\n",
    "    rule_parameters={\n",
    "        \"collection_names\": \"metrics\",\n",
    "        \"diff_percent\": \"5\",\n",
    "        \"num_steps\": \"2\",\n",
    "    },\n",
    ")\n",
    "\n",
    "rules = [loss_not_decreasing_rule]"
   ]
  },
  {
   "cell_type": "code",
   "execution_count": null,
   "id": "29f2a6c0",
   "metadata": {},
   "outputs": [],
   "source": [
    "estimator = sagemaker.estimator.Estimator( \n",
    "    role=role_arn,\n",
    "    instance_count=1,\n",
    "    instance_type='ml.m5.2xlarge',\n",
    "    image_uri=container,\n",
    "    debugger_hook_config=debugger_hook_config,\n",
    "    rules=rules,\n",
    "    sagemaker_session=session)"
   ]
  },
  {
   "cell_type": "code",
   "execution_count": null,
   "id": "3f9aa961",
   "metadata": {},
   "outputs": [],
   "source": [
    "estimator.set_hyperparameters(max_depth=16,\n",
    "                              objective='binary:logistic',\n",
    "                              num_round=10000)"
   ]
  },
  {
   "cell_type": "code",
   "execution_count": null,
   "id": "7cc1b766",
   "metadata": {},
   "outputs": [],
   "source": [
    "from sagemaker.inputs import TrainingInput\n",
    "    \n",
    "s3_input_training = TrainingInput(training_path, \n",
    "                                  content_type=\"text/csv\")\n",
    "s3_input_validation = TrainingInput(validation_path, \n",
    "                                    content_type=\"text/csv\")"
   ]
  },
  {
   "cell_type": "code",
   "execution_count": null,
   "id": "3c85199f",
   "metadata": {},
   "outputs": [],
   "source": [
    "estimator.fit({'train': s3_input_training, \n",
    "               'validation': s3_input_validation}, \n",
    "              wait=False)"
   ]
  },
  {
   "cell_type": "code",
   "execution_count": null,
   "id": "7e30b9b8",
   "metadata": {},
   "outputs": [],
   "source": [
    "import time\n",
    "\n",
    "job_name = estimator.latest_training_job.name\n",
    "client = estimator.sagemaker_session.sagemaker_client\n",
    "\n",
    "print(\"Job Name:\", job_name)\n",
    "\n",
    "EVALUATION_STOP_STATES = [\"Stopped\", \"IssuesFound\", \"NoIssuesFound\", \"Error\"]"
   ]
  },
  {
   "cell_type": "code",
   "execution_count": null,
   "id": "a8ec9ea9",
   "metadata": {},
   "outputs": [],
   "source": [
    "def display_rule_job_summary(rule_job_summary):\n",
    "    break_after_this = False \n",
    "\n",
    "    for rule_job in rule_job_summary:\n",
    "        rule_name = rule_job[\"RuleConfigurationName\"]\n",
    "        evaluation_status = rule_job[\"RuleEvaluationStatus\"]\n",
    "        print(\"Rule [{}]: {}\".format(rule_name, \n",
    "                                     evaluation_status))\n",
    "\n",
    "        if evaluation_status == 'IssuesFound':\n",
    "            summary = rule_job_summary[0]\n",
    "            status_details = summary['StatusDetails']        \n",
    "            print(\"{}\".format(status_details))\n",
    "            \n",
    "        stopped = evaluation_status in EVALUATION_STOP_STATES\n",
    "        not_profiler = 'ProfilerReport' not in rule_name\n",
    "\n",
    "        if stopped and not_profiler:\n",
    "            break_after_this = True\n",
    "            \n",
    "    return break_after_this"
   ]
  },
  {
   "cell_type": "code",
   "execution_count": null,
   "id": "046c668a",
   "metadata": {},
   "outputs": [],
   "source": [
    "for _ in range(200):\n",
    "    description = client.describe_training_job(\n",
    "        TrainingJobName=job_name\n",
    "    )\n",
    "    \n",
    "    training_job_status = description[\"TrainingJobStatus\"]\n",
    "    \n",
    "    print(\"\\nTraining job Status: {}\".format(\n",
    "        training_job_status))\n",
    "    latest_job = estimator.latest_training_job\n",
    "    rule_job_summary = latest_job.rule_job_summary()\n",
    "    \n",
    "    break_after_this = display_rule_job_summary(\n",
    "        rule_job_summary)\n",
    "    \n",
    "    if break_after_this:\n",
    "        break\n",
    "\n",
    "    time.sleep(10)"
   ]
  },
  {
   "cell_type": "code",
   "execution_count": null,
   "id": "1211f24a",
   "metadata": {},
   "outputs": [],
   "source": [
    "artifacts_path = estimator.latest_job_debugger_artifacts_path()\n",
    "artifacts_path"
   ]
  },
  {
   "cell_type": "code",
   "execution_count": null,
   "id": "396649e3",
   "metadata": {},
   "outputs": [],
   "source": [
    "%store artifacts_path"
   ]
  },
  {
   "cell_type": "code",
   "execution_count": null,
   "id": "66fb50a5",
   "metadata": {},
   "outputs": [],
   "source": [
    "rule_job_summary = estimator.latest_training_job.rule_job_summary()\n",
    "rule_job_summary"
   ]
  },
  {
   "cell_type": "code",
   "execution_count": null,
   "id": "8b5c03e9",
   "metadata": {},
   "outputs": [],
   "source": [
    "%store rule_job_summary"
   ]
  }
 ],
 "metadata": {
  "kernelspec": {
   "display_name": "conda_python3",
   "language": "python",
   "name": "conda_python3"
  },
  "language_info": {
   "codemirror_mode": {
    "name": "ipython",
    "version": 3
   },
   "file_extension": ".py",
   "mimetype": "text/x-python",
   "name": "python",
   "nbconvert_exporter": "python",
   "pygments_lexer": "ipython3",
   "version": "3.6.13"
  }
 },
 "nbformat": 4,
 "nbformat_minor": 5
}
