{
 "cells": [
  {
   "cell_type": "markdown",
   "id": "5c218a7d",
   "metadata": {},
   "source": [
    "# Experiment Analytics with SageMaker Experiments"
   ]
  },
  {
   "cell_type": "markdown",
   "id": "e9da1dba",
   "metadata": {},
   "source": [
    "<img align=\"left\" width=\"130\" src=\"https://raw.githubusercontent.com/PacktPublishing/Amazon-SageMaker-Cookbook/master/Extra/cover-small-padded.png\"/>\n",
    "\n",
    "This notebook contains the code to help readers work through one of the recipes of the book [Machine Learning with Amazon SageMaker Cookbook: 80 proven recipes for data scientists and developers to perform ML experiments and deployments](https://www.amazon.com/Machine-Learning-Amazon-SageMaker-Cookbook/dp/1800567030)"
   ]
  },
  {
   "cell_type": "markdown",
   "id": "b3b8287d",
   "metadata": {},
   "source": [
    "### How to do it..."
   ]
  },
  {
   "cell_type": "code",
   "execution_count": null,
   "id": "7ed860e2",
   "metadata": {},
   "outputs": [],
   "source": [
    "%store -r experiment_name\n",
    "experiment_name"
   ]
  },
  {
   "cell_type": "code",
   "execution_count": null,
   "id": "6a69a1d9",
   "metadata": {},
   "outputs": [],
   "source": [
    "from sagemaker.analytics import ExperimentAnalytics"
   ]
  },
  {
   "cell_type": "code",
   "execution_count": null,
   "id": "e522f147",
   "metadata": {},
   "outputs": [],
   "source": [
    "import sagemaker, boto3\n",
    "\n",
    "session = boto3.Session()\n",
    "sagemaker_session = sagemaker.Session(boto_session=session)\n",
    "\n",
    "experiment_analytics = ExperimentAnalytics(\n",
    "    sagemaker_session=sagemaker_session, \n",
    "    experiment_name=experiment_name,\n",
    ")\n",
    "\n",
    "experiment_details_df = experiment_analytics.dataframe()"
   ]
  },
  {
   "cell_type": "code",
   "execution_count": null,
   "id": "0009ab1a",
   "metadata": {},
   "outputs": [],
   "source": [
    "import pandas as pd\n",
    "from IPython.display import display\n",
    "\n",
    "pd.options.display.max_columns = None\n",
    "display(experiment_details_df)"
   ]
  },
  {
   "cell_type": "code",
   "execution_count": null,
   "id": "c14ed300",
   "metadata": {},
   "outputs": [],
   "source": [
    "from time import sleep\n",
    "\n",
    "metric = \"validation:error - Avg\"\n",
    "while metric not in experiment_details_df:\n",
    "    experiment_details_df = experiment_analytics.dataframe()\n",
    "    print(\"Not yet ready. Sleeping for 10 seconds\")\n",
    "    sleep(10)\n",
    "    \n",
    "print(\"Ready\")"
   ]
  },
  {
   "cell_type": "code",
   "execution_count": null,
   "id": "4b41233f",
   "metadata": {},
   "outputs": [],
   "source": [
    "target_fields = [\n",
    "    \"TrialComponentName\",\n",
    "    \"DisplayName\",\n",
    "    \"eta\",\n",
    "    \"gamma\",\n",
    "    \"max_depth\",\n",
    "    \"min_child_weight\",\n",
    "    \"num_round\",\n",
    "    \"objective\",\n",
    "    \"subsample\",\n",
    "    \"validation:error - Avg\",\n",
    "    \"train:error - Avg\",\n",
    "    \"Trials\",\n",
    "    \"Experiments\",\n",
    "]\n",
    "\n",
    "experiment_summary_df = experiment_details_df[target_fields]"
   ]
  },
  {
   "cell_type": "code",
   "execution_count": null,
   "id": "28150ca8",
   "metadata": {},
   "outputs": [],
   "source": [
    "display(experiment_summary_df)"
   ]
  },
  {
   "cell_type": "code",
   "execution_count": null,
   "id": "8cba592c",
   "metadata": {},
   "outputs": [],
   "source": [
    "import math\n",
    "\n",
    "def is_not_nan(num):\n",
    "    return not math.isnan(num)\n",
    "\n",
    "def remove_nan_rows(df):\n",
    "    return df[df['train:error - Avg'].map(is_not_nan)]\n",
    "\n",
    "experiment_summary_df = remove_nan_rows(experiment_summary_df)\n",
    "\n",
    "experiment_summary_df"
   ]
  },
  {
   "cell_type": "code",
   "execution_count": null,
   "id": "f0aa3d2f",
   "metadata": {},
   "outputs": [],
   "source": [
    "sorted_df = experiment_summary_df.sort_values('train:error - Avg', ascending=True)\n",
    "sorted_df"
   ]
  },
  {
   "cell_type": "code",
   "execution_count": null,
   "id": "02eb9e7d",
   "metadata": {},
   "outputs": [],
   "source": [
    "final_df = sorted_df[[\"DisplayName\", \"train:error - Avg\"]]\n",
    "final_df"
   ]
  },
  {
   "cell_type": "code",
   "execution_count": null,
   "id": "e71031c4",
   "metadata": {},
   "outputs": [],
   "source": [
    "final_df.plot(kind='barh', x=\"DisplayName\", fontsize=8)"
   ]
  }
 ],
 "metadata": {
  "kernelspec": {
   "display_name": "conda_python3",
   "language": "python",
   "name": "conda_python3"
  },
  "language_info": {
   "codemirror_mode": {
    "name": "ipython",
    "version": 3
   },
   "file_extension": ".py",
   "mimetype": "text/x-python",
   "name": "python",
   "nbconvert_exporter": "python",
   "pygments_lexer": "ipython3",
   "version": "3.6.13"
  }
 },
 "nbformat": 4,
 "nbformat_minor": 5
}
