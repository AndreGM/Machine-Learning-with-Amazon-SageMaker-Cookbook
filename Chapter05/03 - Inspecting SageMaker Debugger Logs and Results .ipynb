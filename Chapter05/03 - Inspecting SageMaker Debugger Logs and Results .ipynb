{
 "cells": [
  {
   "cell_type": "markdown",
   "id": "2a87379b",
   "metadata": {},
   "source": [
    "# Inspecting SageMaker Debugger Logs and Results "
   ]
  },
  {
   "cell_type": "markdown",
   "id": "b20f1668",
   "metadata": {},
   "source": [
    "<img align=\"left\" width=\"130\" src=\"https://raw.githubusercontent.com/PacktPublishing/Amazon-SageMaker-Cookbook/master/Extra/cover-small-padded.png\"/>\n",
    "\n",
    "This notebook contains the code to help readers work through one of the recipes of the book [Machine Learning with Amazon SageMaker Cookbook: 80 proven recipes for data scientists and developers to perform ML experiments and deployments](https://www.amazon.com/Machine-Learning-Amazon-SageMaker-Cookbook/dp/1800567030)"
   ]
  },
  {
   "cell_type": "markdown",
   "id": "f07d02cc",
   "metadata": {},
   "source": [
    "### How to do it..."
   ]
  },
  {
   "cell_type": "code",
   "execution_count": null,
   "id": "e8e2743d",
   "metadata": {},
   "outputs": [],
   "source": [
    "%store -r artifacts_path\n",
    "artifacts_path"
   ]
  },
  {
   "cell_type": "code",
   "execution_count": null,
   "id": "ebe73231",
   "metadata": {},
   "outputs": [],
   "source": [
    "!pip install smdebug"
   ]
  },
  {
   "cell_type": "code",
   "execution_count": null,
   "id": "e4a8bbb0",
   "metadata": {},
   "outputs": [],
   "source": [
    "from smdebug.trials import create_trial\n",
    "\n",
    "trial = create_trial(artifacts_path)"
   ]
  },
  {
   "cell_type": "code",
   "execution_count": null,
   "id": "ed78a895",
   "metadata": {},
   "outputs": [],
   "source": [
    "trial.tensor_names()"
   ]
  },
  {
   "cell_type": "code",
   "execution_count": null,
   "id": "30ab4b35",
   "metadata": {},
   "outputs": [],
   "source": [
    "trial.__dict__"
   ]
  },
  {
   "cell_type": "code",
   "execution_count": null,
   "id": "55413498",
   "metadata": {},
   "outputs": [],
   "source": [
    "trial.__dict__.keys()"
   ]
  },
  {
   "cell_type": "code",
   "execution_count": null,
   "id": "a985972b",
   "metadata": {},
   "outputs": [],
   "source": [
    "trial.bucket_name"
   ]
  },
  {
   "cell_type": "code",
   "execution_count": null,
   "id": "ec893983",
   "metadata": {},
   "outputs": [],
   "source": [
    "trial.prefix_name"
   ]
  },
  {
   "cell_type": "code",
   "execution_count": null,
   "id": "9e0cc342",
   "metadata": {},
   "outputs": [],
   "source": [
    "trial.prefix_name"
   ]
  },
  {
   "cell_type": "code",
   "execution_count": null,
   "id": "85d4e1e5",
   "metadata": {},
   "outputs": [],
   "source": [
    "target_path = f\"s3://{trial.bucket_name}/{trial.prefix_name}\"\n",
    "target_path"
   ]
  },
  {
   "cell_type": "code",
   "execution_count": null,
   "id": "9e95ea76",
   "metadata": {},
   "outputs": [],
   "source": [
    "s3_contents = !aws s3 ls {target_path} --recursive\n",
    "s3_contents"
   ]
  },
  {
   "cell_type": "code",
   "execution_count": null,
   "id": "045d5ac9",
   "metadata": {},
   "outputs": [],
   "source": [
    "chosen_path = s3_contents[-1].split(\" \")[-1]\n",
    "chosen_path"
   ]
  },
  {
   "cell_type": "code",
   "execution_count": null,
   "id": "ea366add",
   "metadata": {},
   "outputs": [],
   "source": [
    "chosen_fullpath = f\"s3://{trial.bucket_name}/{chosen_path}\"\n",
    "chosen_fullpath"
   ]
  },
  {
   "cell_type": "code",
   "execution_count": null,
   "id": "f0a8f1eb",
   "metadata": {},
   "outputs": [],
   "source": [
    "!mkdir -p tmp"
   ]
  },
  {
   "cell_type": "code",
   "execution_count": null,
   "id": "d997304b",
   "metadata": {},
   "outputs": [],
   "source": [
    "!aws s3 cp {chosen_fullpath} tmp/worker_0.json"
   ]
  },
  {
   "cell_type": "code",
   "execution_count": null,
   "id": "f022656b",
   "metadata": {},
   "outputs": [],
   "source": [
    "!cat tmp/worker_0.json"
   ]
  },
  {
   "cell_type": "code",
   "execution_count": null,
   "id": "fb20198b",
   "metadata": {},
   "outputs": [],
   "source": [
    "trial.tensor(\"train-error\").workers(2)"
   ]
  },
  {
   "cell_type": "code",
   "execution_count": null,
   "id": "48da8ed2",
   "metadata": {},
   "outputs": [],
   "source": [
    "for i in [2, 4, 6, 8, 10, 12, 14, 16]:\n",
    "    traint = trial.tensor(\"train-error\")\n",
    "    train_error = traint.value(i)[0]\n",
    "    train_error = \"{0:.4f}\".format(train_error)\n",
    "    \n",
    "    valt = trial.tensor(\"validation-error\")\n",
    "    validation_error = valt.value(i)[0]\n",
    "    validation_error = \"{0:.4f}\".format(validation_error)\n",
    "    print(f\"STEP {i}: [TRAIN ERROR]={train_error} \" +\n",
    "          \"[VALIDATION ERROR]={validation_error}\")"
   ]
  },
  {
   "cell_type": "code",
   "execution_count": null,
   "id": "3e4454da",
   "metadata": {},
   "outputs": [],
   "source": [
    "%store -r rule_job_summary"
   ]
  },
  {
   "cell_type": "code",
   "execution_count": null,
   "id": "82e85aa0",
   "metadata": {},
   "outputs": [],
   "source": [
    "def lfx(r):\n",
    "    return r[\"RuleConfigurationName\"] == \"LossNotDecreasing\"\n",
    "\n",
    "loss_not_decreasing_summary = list(filter(\n",
    "    lfx, \n",
    "    rule_job_summary))[0]\n",
    "\n",
    "loss_not_decreasing_summary"
   ]
  },
  {
   "cell_type": "code",
   "execution_count": null,
   "id": "e8704a39",
   "metadata": {},
   "outputs": [],
   "source": [
    "summary = loss_not_decreasing_summary\n",
    "rule_evaluation_job_arn = summary['RuleEvaluationJobArn']\n",
    "rule_evaluation_job_arn"
   ]
  },
  {
   "cell_type": "code",
   "execution_count": null,
   "id": "6e9bbde5",
   "metadata": {},
   "outputs": [],
   "source": [
    "import sagemaker \n",
    "from sagemaker.processing import ProcessingJob\n",
    "\n",
    "session = sagemaker.Session()\n",
    "processing_job = ProcessingJob.from_processing_arn(\n",
    "    sagemaker_session=session, \n",
    "    processing_job_arn=rule_evaluation_job_arn)\n",
    "\n",
    "processing_job"
   ]
  },
  {
   "cell_type": "code",
   "execution_count": null,
   "id": "92e72ee5",
   "metadata": {},
   "outputs": [],
   "source": [
    "processing_job.__dict__"
   ]
  },
  {
   "cell_type": "code",
   "execution_count": null,
   "id": "2d3a3a36",
   "metadata": {},
   "outputs": [],
   "source": [
    "processing_job.outputs[0].__dict__"
   ]
  },
  {
   "cell_type": "code",
   "execution_count": null,
   "id": "6f07f410",
   "metadata": {},
   "outputs": [],
   "source": [
    "processing_job.job_name"
   ]
  },
  {
   "cell_type": "code",
   "execution_count": null,
   "id": "6aa39a08",
   "metadata": {},
   "outputs": [],
   "source": [
    "region = \"us-east-1\"\n",
    "group = \"/aws/sagemaker/ProcessingJobs\"\n",
    "prefix = processing_job.job_name"
   ]
  },
  {
   "cell_type": "code",
   "execution_count": null,
   "id": "eb4d463c",
   "metadata": {},
   "outputs": [],
   "source": [
    "!pip install awslogs"
   ]
  },
  {
   "cell_type": "code",
   "execution_count": null,
   "id": "315d1eb0",
   "metadata": {},
   "outputs": [],
   "source": [
    "!awslogs get {group} --log-stream-name-prefix {prefix} -s3h --aws-region {region}"
   ]
  }
 ],
 "metadata": {
  "kernelspec": {
   "display_name": "conda_python3",
   "language": "python",
   "name": "conda_python3"
  },
  "language_info": {
   "codemirror_mode": {
    "name": "ipython",
    "version": 3
   },
   "file_extension": ".py",
   "mimetype": "text/x-python",
   "name": "python",
   "nbconvert_exporter": "python",
   "pygments_lexer": "ipython3",
   "version": "3.6.13"
  }
 },
 "nbformat": 4,
 "nbformat_minor": 5
}
