{
 "cells": [
  {
   "cell_type": "code",
   "execution_count": 2,
   "id": "numerical-pacific",
   "metadata": {
    "scrolled": true
   },
   "outputs": [
    {
     "name": "stdout",
     "output_type": "stream",
     "text": [
      "Requirement already satisfied: sagemaker-experiments in /home/ec2-user/anaconda3/envs/python3/lib/python3.6/site-packages (0.1.30)\r\n",
      "Requirement already satisfied: boto3>=1.16.27 in /home/ec2-user/anaconda3/envs/python3/lib/python3.6/site-packages (from sagemaker-experiments) (1.17.35)\r\n",
      "Requirement already satisfied: jmespath<1.0.0,>=0.7.1 in /home/ec2-user/anaconda3/envs/python3/lib/python3.6/site-packages (from boto3>=1.16.27->sagemaker-experiments) (0.10.0)\r\n",
      "Requirement already satisfied: s3transfer<0.4.0,>=0.3.0 in /home/ec2-user/anaconda3/envs/python3/lib/python3.6/site-packages (from boto3>=1.16.27->sagemaker-experiments) (0.3.4)\r\n",
      "Requirement already satisfied: botocore<1.21.0,>=1.20.35 in /home/ec2-user/anaconda3/envs/python3/lib/python3.6/site-packages (from boto3>=1.16.27->sagemaker-experiments) (1.20.35)\r\n",
      "Requirement already satisfied: python-dateutil<3.0.0,>=2.1 in /home/ec2-user/anaconda3/envs/python3/lib/python3.6/site-packages (from botocore<1.21.0,>=1.20.35->boto3>=1.16.27->sagemaker-experiments) (2.8.1)\r\n",
      "Requirement already satisfied: urllib3<1.27,>=1.25.4 in /home/ec2-user/anaconda3/envs/python3/lib/python3.6/site-packages (from botocore<1.21.0,>=1.20.35->boto3>=1.16.27->sagemaker-experiments) (1.26.3)\r\n",
      "Requirement already satisfied: six>=1.5 in /home/ec2-user/anaconda3/envs/python3/lib/python3.6/site-packages (from python-dateutil<3.0.0,>=2.1->botocore<1.21.0,>=1.20.35->boto3>=1.16.27->sagemaker-experiments) (1.15.0)\r\n"
     ]
    }
   ],
   "source": [
    "!pip install sagemaker-experiments"
   ]
  },
  {
   "cell_type": "code",
   "execution_count": 3,
   "id": "expressed-yorkshire",
   "metadata": {},
   "outputs": [],
   "source": [
    "from smexperiments.experiment import Experiment\n",
    "from smexperiments.trial import Trial\n",
    "from smexperiments.trial_component import TrialComponent\n",
    "from smexperiments.tracker import Tracker"
   ]
  },
  {
   "cell_type": "code",
   "execution_count": 4,
   "id": "common-stephen",
   "metadata": {},
   "outputs": [
    {
     "name": "stdout",
     "output_type": "stream",
     "text": [
      "ExperimentSummary(experiment_name='experiment-NPZFAITKHA',experiment_arn='arn:aws:sagemaker:us-east-1:581320662326:experiment/experiment-npzfaitkha',display_name='experiment-NPZFAITKHA',creation_time=datetime.datetime(2021, 4, 24, 21, 40, 20, 404000, tzinfo=tzlocal()),last_modified_time=datetime.datetime(2021, 4, 24, 21, 45, 26, 163000, tzinfo=tzlocal()))\n"
     ]
    }
   ],
   "source": [
    "for experiment_summary in Experiment.list():\n",
    "    print(experiment_summary)"
   ]
  },
  {
   "cell_type": "code",
   "execution_count": 5,
   "id": "different-antibody",
   "metadata": {},
   "outputs": [
    {
     "data": {
      "text/plain": [
       "ExperimentSummary(experiment_name='experiment-NPZFAITKHA',experiment_arn='arn:aws:sagemaker:us-east-1:581320662326:experiment/experiment-npzfaitkha',display_name='experiment-NPZFAITKHA',creation_time=datetime.datetime(2021, 4, 24, 21, 40, 20, 404000, tzinfo=tzlocal()),last_modified_time=datetime.datetime(2021, 4, 24, 21, 45, 26, 163000, tzinfo=tzlocal()))"
      ]
     },
     "execution_count": 5,
     "metadata": {},
     "output_type": "execute_result"
    }
   ],
   "source": [
    "experiment_summary"
   ]
  },
  {
   "cell_type": "code",
   "execution_count": 6,
   "id": "executed-essence",
   "metadata": {},
   "outputs": [
    {
     "data": {
      "text/plain": [
       "['__class__',\n",
       " '__delattr__',\n",
       " '__dict__',\n",
       " '__dir__',\n",
       " '__doc__',\n",
       " '__eq__',\n",
       " '__format__',\n",
       " '__ge__',\n",
       " '__getattribute__',\n",
       " '__gt__',\n",
       " '__hash__',\n",
       " '__init__',\n",
       " '__init_subclass__',\n",
       " '__le__',\n",
       " '__lt__',\n",
       " '__module__',\n",
       " '__ne__',\n",
       " '__new__',\n",
       " '__reduce__',\n",
       " '__reduce_ex__',\n",
       " '__repr__',\n",
       " '__setattr__',\n",
       " '__sizeof__',\n",
       " '__str__',\n",
       " '__subclasshook__',\n",
       " '__weakref__',\n",
       " '_boto_ignore',\n",
       " '_custom_boto_names',\n",
       " '_custom_boto_types',\n",
       " 'creation_time',\n",
       " 'display_name',\n",
       " 'experiment_arn',\n",
       " 'experiment_name',\n",
       " 'from_boto',\n",
       " 'last_modified_time',\n",
       " 'to_boto']"
      ]
     },
     "execution_count": 6,
     "metadata": {},
     "output_type": "execute_result"
    }
   ],
   "source": [
    "dir(experiment_summary)"
   ]
  },
  {
   "cell_type": "code",
   "execution_count": 7,
   "id": "sporting-cover",
   "metadata": {},
   "outputs": [
    {
     "data": {
      "text/plain": [
       "{'experiment_name': 'experiment-NPZFAITKHA',\n",
       " 'experiment_arn': 'arn:aws:sagemaker:us-east-1:581320662326:experiment/experiment-npzfaitkha',\n",
       " 'display_name': 'experiment-NPZFAITKHA',\n",
       " 'creation_time': datetime.datetime(2021, 4, 24, 21, 40, 20, 404000, tzinfo=tzlocal()),\n",
       " 'last_modified_time': datetime.datetime(2021, 4, 24, 21, 45, 26, 163000, tzinfo=tzlocal())}"
      ]
     },
     "execution_count": 7,
     "metadata": {},
     "output_type": "execute_result"
    }
   ],
   "source": [
    "experiment_summary.__dict__"
   ]
  },
  {
   "cell_type": "code",
   "execution_count": 8,
   "id": "outer-specification",
   "metadata": {},
   "outputs": [
    {
     "data": {
      "text/plain": [
       "['MAX_DELETE_ALL_ATTEMPTS',\n",
       " '__class__',\n",
       " '__delattr__',\n",
       " '__dict__',\n",
       " '__dir__',\n",
       " '__doc__',\n",
       " '__eq__',\n",
       " '__format__',\n",
       " '__ge__',\n",
       " '__getattribute__',\n",
       " '__gt__',\n",
       " '__hash__',\n",
       " '__init__',\n",
       " '__init_subclass__',\n",
       " '__le__',\n",
       " '__lt__',\n",
       " '__module__',\n",
       " '__ne__',\n",
       " '__new__',\n",
       " '__reduce__',\n",
       " '__reduce_ex__',\n",
       " '__repr__',\n",
       " '__setattr__',\n",
       " '__sizeof__',\n",
       " '__str__',\n",
       " '__subclasshook__',\n",
       " '__weakref__',\n",
       " '_boto_create_method',\n",
       " '_boto_delete_members',\n",
       " '_boto_delete_method',\n",
       " '_boto_ignore',\n",
       " '_boto_list_method',\n",
       " '_boto_load_method',\n",
       " '_boto_update_members',\n",
       " '_boto_update_method',\n",
       " '_construct',\n",
       " '_custom_boto_names',\n",
       " '_custom_boto_types',\n",
       " '_invoke_api',\n",
       " '_list',\n",
       " '_search',\n",
       " 'create',\n",
       " 'create_trial',\n",
       " 'delete',\n",
       " 'delete_all',\n",
       " 'description',\n",
       " 'experiment_name',\n",
       " 'from_boto',\n",
       " 'list',\n",
       " 'list_trials',\n",
       " 'load',\n",
       " 'save',\n",
       " 'search',\n",
       " 'tags',\n",
       " 'to_boto',\n",
       " 'with_boto']"
      ]
     },
     "execution_count": 8,
     "metadata": {},
     "output_type": "execute_result"
    }
   ],
   "source": [
    "dir(Experiment)"
   ]
  },
  {
   "cell_type": "code",
   "execution_count": 9,
   "id": "acoustic-montreal",
   "metadata": {},
   "outputs": [
    {
     "data": {
      "text/plain": [
       "Experiment(sagemaker_boto_client=<botocore.client.SageMaker object at 0x7f4068ccf860>,experiment_name='experiment-NPZFAITKHA',experiment_arn='arn:aws:sagemaker:us-east-1:581320662326:experiment/experiment-npzfaitkha',display_name='experiment-NPZFAITKHA',description='Experiment Description',creation_time=datetime.datetime(2021, 4, 24, 21, 40, 20, 404000, tzinfo=tzlocal()),created_by={},last_modified_time=datetime.datetime(2021, 4, 24, 21, 45, 26, 163000, tzinfo=tzlocal()),last_modified_by={},response_metadata={'RequestId': '8407438b-f676-415b-95b1-ddc6cfb0165c', 'HTTPStatusCode': 200, 'HTTPHeaders': {'x-amzn-requestid': '8407438b-f676-415b-95b1-ddc6cfb0165c', 'content-type': 'application/x-amz-json-1.1', 'content-length': '314', 'date': 'Sun, 25 Apr 2021 06:43:33 GMT'}, 'RetryAttempts': 0})"
      ]
     },
     "execution_count": 9,
     "metadata": {},
     "output_type": "execute_result"
    }
   ],
   "source": [
    "experiment = Experiment.load(\n",
    "    experiment_summary.experiment_name\n",
    ")\n",
    "\n",
    "experiment"
   ]
  },
  {
   "cell_type": "code",
   "execution_count": 10,
   "id": "dedicated-sunday",
   "metadata": {},
   "outputs": [
    {
     "data": {
      "text/plain": [
       "{'sagemaker_boto_client': <botocore.client.SageMaker at 0x7f4068ccf860>,\n",
       " 'experiment_name': 'experiment-NPZFAITKHA',\n",
       " 'experiment_arn': 'arn:aws:sagemaker:us-east-1:581320662326:experiment/experiment-npzfaitkha',\n",
       " 'display_name': 'experiment-NPZFAITKHA',\n",
       " 'description': 'Experiment Description',\n",
       " 'creation_time': datetime.datetime(2021, 4, 24, 21, 40, 20, 404000, tzinfo=tzlocal()),\n",
       " 'created_by': {},\n",
       " 'last_modified_time': datetime.datetime(2021, 4, 24, 21, 45, 26, 163000, tzinfo=tzlocal()),\n",
       " 'last_modified_by': {},\n",
       " 'response_metadata': {'RequestId': '8407438b-f676-415b-95b1-ddc6cfb0165c',\n",
       "  'HTTPStatusCode': 200,\n",
       "  'HTTPHeaders': {'x-amzn-requestid': '8407438b-f676-415b-95b1-ddc6cfb0165c',\n",
       "   'content-type': 'application/x-amz-json-1.1',\n",
       "   'content-length': '314',\n",
       "   'date': 'Sun, 25 Apr 2021 06:43:33 GMT'},\n",
       "  'RetryAttempts': 0}}"
      ]
     },
     "execution_count": 10,
     "metadata": {},
     "output_type": "execute_result"
    }
   ],
   "source": [
    "experiment.__dict__"
   ]
  },
  {
   "cell_type": "code",
   "execution_count": 11,
   "id": "hearing-zambia",
   "metadata": {},
   "outputs": [
    {
     "data": {
      "text/plain": [
       "['MAX_DELETE_ALL_ATTEMPTS',\n",
       " '__class__',\n",
       " '__delattr__',\n",
       " '__dict__',\n",
       " '__dir__',\n",
       " '__doc__',\n",
       " '__eq__',\n",
       " '__format__',\n",
       " '__ge__',\n",
       " '__getattribute__',\n",
       " '__gt__',\n",
       " '__hash__',\n",
       " '__init__',\n",
       " '__init_subclass__',\n",
       " '__le__',\n",
       " '__lt__',\n",
       " '__module__',\n",
       " '__ne__',\n",
       " '__new__',\n",
       " '__reduce__',\n",
       " '__reduce_ex__',\n",
       " '__repr__',\n",
       " '__setattr__',\n",
       " '__sizeof__',\n",
       " '__str__',\n",
       " '__subclasshook__',\n",
       " '__weakref__',\n",
       " '_boto_create_method',\n",
       " '_boto_delete_members',\n",
       " '_boto_delete_method',\n",
       " '_boto_ignore',\n",
       " '_boto_list_method',\n",
       " '_boto_load_method',\n",
       " '_boto_update_members',\n",
       " '_boto_update_method',\n",
       " '_construct',\n",
       " '_custom_boto_names',\n",
       " '_custom_boto_types',\n",
       " '_invoke_api',\n",
       " '_list',\n",
       " '_search',\n",
       " 'create',\n",
       " 'create_trial',\n",
       " 'created_by',\n",
       " 'creation_time',\n",
       " 'delete',\n",
       " 'delete_all',\n",
       " 'description',\n",
       " 'display_name',\n",
       " 'experiment_arn',\n",
       " 'experiment_name',\n",
       " 'from_boto',\n",
       " 'last_modified_by',\n",
       " 'last_modified_time',\n",
       " 'list',\n",
       " 'list_trials',\n",
       " 'load',\n",
       " 'response_metadata',\n",
       " 'sagemaker_boto_client',\n",
       " 'save',\n",
       " 'search',\n",
       " 'tags',\n",
       " 'to_boto',\n",
       " 'with_boto']"
      ]
     },
     "execution_count": 11,
     "metadata": {},
     "output_type": "execute_result"
    }
   ],
   "source": [
    "dir(experiment)"
   ]
  },
  {
   "cell_type": "code",
   "execution_count": 12,
   "id": "chief-chocolate",
   "metadata": {},
   "outputs": [
    {
     "data": {
      "text/plain": [
       "[TrialSummary(trial_name='trial-RJNRCIKGOR',trial_arn='arn:aws:sagemaker:us-east-1:581320662326:experiment-trial/trial-rjnrcikgor',display_name='trial-RJNRCIKGOR',creation_time=datetime.datetime(2021, 4, 24, 21, 40, 38, 930000, tzinfo=tzlocal()),last_modified_time=datetime.datetime(2021, 4, 24, 21, 45, 26, 163000, tzinfo=tzlocal())),\n",
       " TrialSummary(trial_name='trial-QBXPLDRXZY',trial_arn='arn:aws:sagemaker:us-east-1:581320662326:experiment-trial/trial-qbxpldrxzy',display_name='trial-QBXPLDRXZY',creation_time=datetime.datetime(2021, 4, 24, 21, 40, 36, 414000, tzinfo=tzlocal()),last_modified_time=datetime.datetime(2021, 4, 24, 21, 45, 24, 322000, tzinfo=tzlocal())),\n",
       " TrialSummary(trial_name='trial-DZJUVJIHXM',trial_arn='arn:aws:sagemaker:us-east-1:581320662326:experiment-trial/trial-dzjuvjihxm',display_name='trial-DZJUVJIHXM',creation_time=datetime.datetime(2021, 4, 24, 21, 40, 33, 881000, tzinfo=tzlocal()),last_modified_time=datetime.datetime(2021, 4, 24, 21, 45, 22, 462000, tzinfo=tzlocal())),\n",
       " TrialSummary(trial_name='trial-LGPLDSCFNA',trial_arn='arn:aws:sagemaker:us-east-1:581320662326:experiment-trial/trial-lgpldscfna',display_name='trial-LGPLDSCFNA',creation_time=datetime.datetime(2021, 4, 24, 21, 40, 31, 265000, tzinfo=tzlocal()),last_modified_time=datetime.datetime(2021, 4, 24, 21, 45, 0, 180000, tzinfo=tzlocal())),\n",
       " TrialSummary(trial_name='trial-DRTLEHOHQK',trial_arn='arn:aws:sagemaker:us-east-1:581320662326:experiment-trial/trial-drtlehohqk',display_name='trial-DRTLEHOHQK',creation_time=datetime.datetime(2021, 4, 24, 21, 40, 28, 693000, tzinfo=tzlocal()),last_modified_time=datetime.datetime(2021, 4, 24, 21, 45, 16, 609000, tzinfo=tzlocal())),\n",
       " TrialSummary(trial_name='trial-YJFCIMHHIP',trial_arn='arn:aws:sagemaker:us-east-1:581320662326:experiment-trial/trial-yjfcimhhip',display_name='trial-YJFCIMHHIP',creation_time=datetime.datetime(2021, 4, 24, 21, 40, 26, 154000, tzinfo=tzlocal()),last_modified_time=datetime.datetime(2021, 4, 24, 21, 44, 53, 717000, tzinfo=tzlocal())),\n",
       " TrialSummary(trial_name='trial-HOPIWFYBVZ',trial_arn='arn:aws:sagemaker:us-east-1:581320662326:experiment-trial/trial-hopiwfybvz',display_name='trial-HOPIWFYBVZ',creation_time=datetime.datetime(2021, 4, 24, 21, 40, 23, 422000, tzinfo=tzlocal()),last_modified_time=datetime.datetime(2021, 4, 24, 21, 45, 11, 304000, tzinfo=tzlocal())),\n",
       " TrialSummary(trial_name='trial-ZNIVMZQYVW',trial_arn='arn:aws:sagemaker:us-east-1:581320662326:experiment-trial/trial-znivmzqyvw',display_name='trial-ZNIVMZQYVW',creation_time=datetime.datetime(2021, 4, 24, 21, 40, 20, 869000, tzinfo=tzlocal()),last_modified_time=datetime.datetime(2021, 4, 24, 21, 44, 48, 503000, tzinfo=tzlocal()))]"
      ]
     },
     "execution_count": 12,
     "metadata": {},
     "output_type": "execute_result"
    }
   ],
   "source": [
    "experiment_trials = list(\n",
    "    experiment.list_trials()\n",
    ")\n",
    "\n",
    "experiment_trials"
   ]
  },
  {
   "cell_type": "code",
   "execution_count": 13,
   "id": "touched-provision",
   "metadata": {},
   "outputs": [
    {
     "data": {
      "text/plain": [
       "TrialSummary(trial_name='trial-RJNRCIKGOR',trial_arn='arn:aws:sagemaker:us-east-1:581320662326:experiment-trial/trial-rjnrcikgor',display_name='trial-RJNRCIKGOR',creation_time=datetime.datetime(2021, 4, 24, 21, 40, 38, 930000, tzinfo=tzlocal()),last_modified_time=datetime.datetime(2021, 4, 24, 21, 45, 26, 163000, tzinfo=tzlocal()))"
      ]
     },
     "execution_count": 13,
     "metadata": {},
     "output_type": "execute_result"
    }
   ],
   "source": [
    "experiment_trials[0]"
   ]
  },
  {
   "cell_type": "code",
   "execution_count": 14,
   "id": "crucial-evolution",
   "metadata": {},
   "outputs": [
    {
     "data": {
      "text/plain": [
       "{'trial_name': 'trial-RJNRCIKGOR',\n",
       " 'trial_arn': 'arn:aws:sagemaker:us-east-1:581320662326:experiment-trial/trial-rjnrcikgor',\n",
       " 'display_name': 'trial-RJNRCIKGOR',\n",
       " 'creation_time': datetime.datetime(2021, 4, 24, 21, 40, 38, 930000, tzinfo=tzlocal()),\n",
       " 'last_modified_time': datetime.datetime(2021, 4, 24, 21, 45, 26, 163000, tzinfo=tzlocal())}"
      ]
     },
     "execution_count": 14,
     "metadata": {},
     "output_type": "execute_result"
    }
   ],
   "source": [
    "experiment_trials[0].__dict__"
   ]
  },
  {
   "cell_type": "code",
   "execution_count": 15,
   "id": "floating-bahamas",
   "metadata": {},
   "outputs": [
    {
     "data": {
      "text/plain": [
       "Trial(sagemaker_boto_client=<botocore.client.SageMaker object at 0x7f40685dc0b8>,trial_name='trial-RJNRCIKGOR',trial_arn='arn:aws:sagemaker:us-east-1:581320662326:experiment-trial/trial-rjnrcikgor',display_name='trial-RJNRCIKGOR',experiment_name='experiment-NPZFAITKHA',creation_time=datetime.datetime(2021, 4, 24, 21, 40, 38, 930000, tzinfo=tzlocal()),created_by={},last_modified_time=datetime.datetime(2021, 4, 24, 21, 45, 26, 163000, tzinfo=tzlocal()),last_modified_by={},response_metadata={'RequestId': '40976f50-3e6a-429b-9891-abf92e791984', 'HTTPStatusCode': 200, 'HTTPHeaders': {'x-amzn-requestid': '40976f50-3e6a-429b-9891-abf92e791984', 'content-type': 'application/x-amz-json-1.1', 'content-length': '296', 'date': 'Sun, 25 Apr 2021 06:43:33 GMT'}, 'RetryAttempts': 0})"
      ]
     },
     "execution_count": 15,
     "metadata": {},
     "output_type": "execute_result"
    }
   ],
   "source": [
    "trial = Trial.load(experiment_trials[0].trial_name)\n",
    "trial"
   ]
  },
  {
   "cell_type": "code",
   "execution_count": 16,
   "id": "whole-intake",
   "metadata": {},
   "outputs": [
    {
     "data": {
      "text/plain": [
       "{'sagemaker_boto_client': <botocore.client.SageMaker at 0x7f40685dc0b8>,\n",
       " 'trial_name': 'trial-RJNRCIKGOR',\n",
       " 'trial_arn': 'arn:aws:sagemaker:us-east-1:581320662326:experiment-trial/trial-rjnrcikgor',\n",
       " 'display_name': 'trial-RJNRCIKGOR',\n",
       " 'experiment_name': 'experiment-NPZFAITKHA',\n",
       " 'creation_time': datetime.datetime(2021, 4, 24, 21, 40, 38, 930000, tzinfo=tzlocal()),\n",
       " 'created_by': {},\n",
       " 'last_modified_time': datetime.datetime(2021, 4, 24, 21, 45, 26, 163000, tzinfo=tzlocal()),\n",
       " 'last_modified_by': {},\n",
       " 'response_metadata': {'RequestId': '40976f50-3e6a-429b-9891-abf92e791984',\n",
       "  'HTTPStatusCode': 200,\n",
       "  'HTTPHeaders': {'x-amzn-requestid': '40976f50-3e6a-429b-9891-abf92e791984',\n",
       "   'content-type': 'application/x-amz-json-1.1',\n",
       "   'content-length': '296',\n",
       "   'date': 'Sun, 25 Apr 2021 06:43:33 GMT'},\n",
       "  'RetryAttempts': 0}}"
      ]
     },
     "execution_count": 16,
     "metadata": {},
     "output_type": "execute_result"
    }
   ],
   "source": [
    "trial.__dict__"
   ]
  },
  {
   "cell_type": "code",
   "execution_count": 17,
   "id": "romantic-increase",
   "metadata": {},
   "outputs": [
    {
     "data": {
      "text/plain": [
       "['MAX_DELETE_ALL_ATTEMPTS',\n",
       " '__class__',\n",
       " '__delattr__',\n",
       " '__dict__',\n",
       " '__dir__',\n",
       " '__doc__',\n",
       " '__eq__',\n",
       " '__format__',\n",
       " '__ge__',\n",
       " '__getattribute__',\n",
       " '__gt__',\n",
       " '__hash__',\n",
       " '__init__',\n",
       " '__init_subclass__',\n",
       " '__le__',\n",
       " '__lt__',\n",
       " '__module__',\n",
       " '__ne__',\n",
       " '__new__',\n",
       " '__reduce__',\n",
       " '__reduce_ex__',\n",
       " '__repr__',\n",
       " '__setattr__',\n",
       " '__sizeof__',\n",
       " '__str__',\n",
       " '__subclasshook__',\n",
       " '__weakref__',\n",
       " '_boto_create_method',\n",
       " '_boto_delete_members',\n",
       " '_boto_delete_method',\n",
       " '_boto_ignore',\n",
       " '_boto_list_method',\n",
       " '_boto_load_method',\n",
       " '_boto_update_members',\n",
       " '_boto_update_method',\n",
       " '_construct',\n",
       " '_custom_boto_names',\n",
       " '_custom_boto_types',\n",
       " '_invoke_api',\n",
       " '_list',\n",
       " '_search',\n",
       " 'add_trial_component',\n",
       " 'create',\n",
       " 'created_by',\n",
       " 'creation_time',\n",
       " 'delete',\n",
       " 'delete_all',\n",
       " 'display_name',\n",
       " 'experiment_name',\n",
       " 'from_boto',\n",
       " 'last_modified_by',\n",
       " 'last_modified_time',\n",
       " 'list',\n",
       " 'list_trial_components',\n",
       " 'load',\n",
       " 'remove_trial_component',\n",
       " 'response_metadata',\n",
       " 'sagemaker_boto_client',\n",
       " 'save',\n",
       " 'search',\n",
       " 'tags',\n",
       " 'to_boto',\n",
       " 'trial_arn',\n",
       " 'trial_name',\n",
       " 'with_boto']"
      ]
     },
     "execution_count": 17,
     "metadata": {},
     "output_type": "execute_result"
    }
   ],
   "source": [
    "dir(trial)"
   ]
  },
  {
   "cell_type": "code",
   "execution_count": 18,
   "id": "frank-request",
   "metadata": {},
   "outputs": [
    {
     "data": {
      "text/plain": [
       "[TrialComponentSummary(trial_component_name='job-RJNRCIKGOR-aws-training-job',trial_component_arn='arn:aws:sagemaker:us-east-1:581320662326:experiment-trial-component/job-rjnrcikgor-aws-training-job',display_name='job-RJNRCIKGOR',trial_component_source={'SourceArn': 'arn:aws:sagemaker:us-east-1:581320662326:training-job/job-rjnrcikgor', 'SourceType': 'SageMakerTrainingJob'},status=TrialComponentStatus(primary_status='Completed',message='Status: Completed, secondary status: Completed, failure reason: .'),creation_time=datetime.datetime(2021, 4, 24, 21, 40, 41, 629000, tzinfo=tzlocal()),created_by={},last_modified_time=datetime.datetime(2021, 4, 24, 21, 45, 26, 163000, tzinfo=tzlocal()),last_modified_by={}),\n",
       " TrialComponentSummary(trial_component_name='TrialComponent-2021-04-24-214038-svqp',trial_component_arn='arn:aws:sagemaker:us-east-1:581320662326:experiment-trial-component/trialcomponent-2021-04-24-214038-svqp',display_name='trial-metadata-RJNRCIKGOR',status=TrialComponentStatus(primary_status='Completed',message=None),start_time=datetime.datetime(2021, 4, 24, 21, 40, 38, tzinfo=tzlocal()),end_time=datetime.datetime(2021, 4, 24, 21, 40, 38, tzinfo=tzlocal()),creation_time=datetime.datetime(2021, 4, 24, 21, 40, 38, 829000, tzinfo=tzlocal()),created_by={},last_modified_time=datetime.datetime(2021, 4, 24, 21, 40, 38, 892000, tzinfo=tzlocal()),last_modified_by={}),\n",
       " TrialComponentSummary(trial_component_name='TrialComponent-2021-04-24-214020-ucgr',trial_component_arn='arn:aws:sagemaker:us-east-1:581320662326:experiment-trial-component/trialcomponent-2021-04-24-214020-ucgr',display_name='xgboost-experiment-display-name',status=TrialComponentStatus(primary_status='Completed',message=None),start_time=datetime.datetime(2021, 4, 24, 21, 40, 20, tzinfo=tzlocal()),end_time=datetime.datetime(2021, 4, 24, 21, 40, 20, tzinfo=tzlocal()),creation_time=datetime.datetime(2021, 4, 24, 21, 40, 20, 622000, tzinfo=tzlocal()),created_by={},last_modified_time=datetime.datetime(2021, 4, 24, 21, 40, 20, 686000, tzinfo=tzlocal()),last_modified_by={})]"
      ]
     },
     "execution_count": 18,
     "metadata": {},
     "output_type": "execute_result"
    }
   ],
   "source": [
    "trial_component_summary_list = list(\n",
    "    trial.list_trial_components()\n",
    ")\n",
    "\n",
    "trial_component_summary_list"
   ]
  },
  {
   "cell_type": "code",
   "execution_count": 19,
   "id": "improved-trailer",
   "metadata": {},
   "outputs": [
    {
     "data": {
      "text/plain": [
       "TrialComponent(sagemaker_boto_client=<botocore.client.SageMaker object at 0x7f405fea8390>,trial_component_name='job-RJNRCIKGOR-aws-training-job',trial_component_arn='arn:aws:sagemaker:us-east-1:581320662326:experiment-trial-component/job-rjnrcikgor-aws-training-job',display_name='job-RJNRCIKGOR',source=TrialComponentSource(source_arn='arn:aws:sagemaker:us-east-1:581320662326:training-job/job-rjnrcikgor',source_type='SageMakerTrainingJob'),status=TrialComponentStatus(primary_status='Completed',message='Status: Completed, secondary status: Completed, failure reason: .'),start_time=datetime.datetime(2021, 4, 24, 21, 43, 5, tzinfo=tzlocal()),end_time=datetime.datetime(2021, 4, 24, 21, 44, 21, tzinfo=tzlocal()),creation_time=datetime.datetime(2021, 4, 24, 21, 40, 41, 629000, tzinfo=tzlocal()),created_by={},last_modified_time=datetime.datetime(2021, 4, 24, 21, 45, 26, 163000, tzinfo=tzlocal()),last_modified_by={},parameters={'SageMaker.ImageUri': '683313688378.dkr.ecr.us-east-1.amazonaws.com/sagemaker-xgboost:0.90-2-cpu-py3', 'SageMaker.InstanceCount': 1.0, 'SageMaker.InstanceType': 'ml.m5.large', 'SageMaker.VolumeSizeInGB': 30.0, 'eta': 0.2, 'gamma': 4.0, 'max_depth': 8.0, 'min_child_weight': 6.0, 'num_round': 20.0, 'objective': 'binary:logistic', 'subsample': 0.4},input_artifacts={'train': TrialComponentArtifact(value='s3://sagemaker-cookbook-bucket/chapter05/input/training_data.csv',media_type='text/csv'), 'validation': TrialComponentArtifact(value='s3://sagemaker-cookbook-bucket/chapter05/input/validation_data.csv',media_type='text/csv')},output_artifacts={'SageMaker.ModelArtifact': TrialComponentArtifact(value='s3://sagemaker-cookbook-bucket/chapter05/output/job-RJNRCIKGOR/output/model.tar.gz',media_type=None)},metrics=[TrialComponentMetricSummary(metric_name='validation:error',source_arn='arn:aws:sagemaker:us-east-1:581320662326:training-job/job-rjnrcikgor',time_stamp=datetime.datetime(2021, 4, 24, 21, 44, 10, 430000, tzinfo=tzlocal()),max=0.172,min=0.16,last=0.165,count=20,avg=0.16455000000000006,std_dev=0.0025021043774769865), TrialComponentMetricSummary(metric_name='train:error',source_arn='arn:aws:sagemaker:us-east-1:581320662326:training-job/job-rjnrcikgor',time_stamp=datetime.datetime(2021, 4, 24, 21, 44, 10, 430000, tzinfo=tzlocal()),max=0.183667,min=0.169,last=0.169667,count=20,avg=0.17490009999999998,std_dev=0.0043837282966611105)],response_metadata={'RequestId': '2a289a3d-262e-4298-b7a5-d9349c805cab', 'HTTPStatusCode': 200, 'HTTPHeaders': {'x-amzn-requestid': '2a289a3d-262e-4298-b7a5-d9349c805cab', 'content-type': 'application/x-amz-json-1.1', 'content-length': '2134', 'date': 'Sun, 25 Apr 2021 06:43:34 GMT'}, 'RetryAttempts': 0})"
      ]
     },
     "execution_count": 19,
     "metadata": {},
     "output_type": "execute_result"
    }
   ],
   "source": [
    "trial_component_summary = trial_component_summary_list[0]\n",
    "tc_name = trial_component_summary.trial_component_name\n",
    "\n",
    "trial_component = TrialComponent.load(\n",
    "    trial_component_name=tc_name)\n",
    "\n",
    "trial_component"
   ]
  },
  {
   "cell_type": "code",
   "execution_count": 20,
   "id": "closed-token",
   "metadata": {},
   "outputs": [
    {
     "data": {
      "text/plain": [
       "{'sagemaker_boto_client': <botocore.client.SageMaker at 0x7f405fea8390>,\n",
       " 'trial_component_name': 'job-RJNRCIKGOR-aws-training-job',\n",
       " 'trial_component_arn': 'arn:aws:sagemaker:us-east-1:581320662326:experiment-trial-component/job-rjnrcikgor-aws-training-job',\n",
       " 'display_name': 'job-RJNRCIKGOR',\n",
       " 'source': TrialComponentSource(source_arn='arn:aws:sagemaker:us-east-1:581320662326:training-job/job-rjnrcikgor',source_type='SageMakerTrainingJob'),\n",
       " 'status': TrialComponentStatus(primary_status='Completed',message='Status: Completed, secondary status: Completed, failure reason: .'),\n",
       " 'start_time': datetime.datetime(2021, 4, 24, 21, 43, 5, tzinfo=tzlocal()),\n",
       " 'end_time': datetime.datetime(2021, 4, 24, 21, 44, 21, tzinfo=tzlocal()),\n",
       " 'creation_time': datetime.datetime(2021, 4, 24, 21, 40, 41, 629000, tzinfo=tzlocal()),\n",
       " 'created_by': {},\n",
       " 'last_modified_time': datetime.datetime(2021, 4, 24, 21, 45, 26, 163000, tzinfo=tzlocal()),\n",
       " 'last_modified_by': {},\n",
       " 'parameters': {'SageMaker.ImageUri': '683313688378.dkr.ecr.us-east-1.amazonaws.com/sagemaker-xgboost:0.90-2-cpu-py3',\n",
       "  'SageMaker.InstanceCount': 1.0,\n",
       "  'SageMaker.InstanceType': 'ml.m5.large',\n",
       "  'SageMaker.VolumeSizeInGB': 30.0,\n",
       "  'eta': 0.2,\n",
       "  'gamma': 4.0,\n",
       "  'max_depth': 8.0,\n",
       "  'min_child_weight': 6.0,\n",
       "  'num_round': 20.0,\n",
       "  'objective': 'binary:logistic',\n",
       "  'subsample': 0.4},\n",
       " 'input_artifacts': {'train': TrialComponentArtifact(value='s3://sagemaker-cookbook-bucket/chapter05/input/training_data.csv',media_type='text/csv'),\n",
       "  'validation': TrialComponentArtifact(value='s3://sagemaker-cookbook-bucket/chapter05/input/validation_data.csv',media_type='text/csv')},\n",
       " 'output_artifacts': {'SageMaker.ModelArtifact': TrialComponentArtifact(value='s3://sagemaker-cookbook-bucket/chapter05/output/job-RJNRCIKGOR/output/model.tar.gz',media_type=None)},\n",
       " 'metrics': [TrialComponentMetricSummary(metric_name='validation:error',source_arn='arn:aws:sagemaker:us-east-1:581320662326:training-job/job-rjnrcikgor',time_stamp=datetime.datetime(2021, 4, 24, 21, 44, 10, 430000, tzinfo=tzlocal()),max=0.172,min=0.16,last=0.165,count=20,avg=0.16455000000000006,std_dev=0.0025021043774769865),\n",
       "  TrialComponentMetricSummary(metric_name='train:error',source_arn='arn:aws:sagemaker:us-east-1:581320662326:training-job/job-rjnrcikgor',time_stamp=datetime.datetime(2021, 4, 24, 21, 44, 10, 430000, tzinfo=tzlocal()),max=0.183667,min=0.169,last=0.169667,count=20,avg=0.17490009999999998,std_dev=0.0043837282966611105)],\n",
       " 'response_metadata': {'RequestId': '2a289a3d-262e-4298-b7a5-d9349c805cab',\n",
       "  'HTTPStatusCode': 200,\n",
       "  'HTTPHeaders': {'x-amzn-requestid': '2a289a3d-262e-4298-b7a5-d9349c805cab',\n",
       "   'content-type': 'application/x-amz-json-1.1',\n",
       "   'content-length': '2134',\n",
       "   'date': 'Sun, 25 Apr 2021 06:43:34 GMT'},\n",
       "  'RetryAttempts': 0}}"
      ]
     },
     "execution_count": 20,
     "metadata": {},
     "output_type": "execute_result"
    }
   ],
   "source": [
    "trial_component.__dict__"
   ]
  },
  {
   "cell_type": "code",
   "execution_count": 21,
   "id": "challenging-finder",
   "metadata": {},
   "outputs": [
    {
     "data": {
      "text/plain": [
       "['__class__',\n",
       " '__delattr__',\n",
       " '__dict__',\n",
       " '__dir__',\n",
       " '__doc__',\n",
       " '__eq__',\n",
       " '__format__',\n",
       " '__ge__',\n",
       " '__getattribute__',\n",
       " '__gt__',\n",
       " '__hash__',\n",
       " '__init__',\n",
       " '__init_subclass__',\n",
       " '__le__',\n",
       " '__lt__',\n",
       " '__module__',\n",
       " '__ne__',\n",
       " '__new__',\n",
       " '__reduce__',\n",
       " '__reduce_ex__',\n",
       " '__repr__',\n",
       " '__setattr__',\n",
       " '__sizeof__',\n",
       " '__str__',\n",
       " '__subclasshook__',\n",
       " '__weakref__',\n",
       " '_boto_create_method',\n",
       " '_boto_delete_members',\n",
       " '_boto_delete_method',\n",
       " '_boto_ignore',\n",
       " '_boto_list_method',\n",
       " '_boto_load_method',\n",
       " '_boto_update_members',\n",
       " '_boto_update_method',\n",
       " '_construct',\n",
       " '_custom_boto_names',\n",
       " '_custom_boto_types',\n",
       " '_invoke_api',\n",
       " '_list',\n",
       " '_search',\n",
       " 'create',\n",
       " 'created_by',\n",
       " 'creation_time',\n",
       " 'delete',\n",
       " 'display_name',\n",
       " 'end_time',\n",
       " 'from_boto',\n",
       " 'input_artifacts',\n",
       " 'input_artifacts_to_remove',\n",
       " 'last_modified_by',\n",
       " 'last_modified_time',\n",
       " 'list',\n",
       " 'list_trials',\n",
       " 'load',\n",
       " 'metrics',\n",
       " 'output_artifacts',\n",
       " 'output_artifacts_to_remove',\n",
       " 'parameters',\n",
       " 'parameters_to_remove',\n",
       " 'response_metadata',\n",
       " 'sagemaker_boto_client',\n",
       " 'save',\n",
       " 'search',\n",
       " 'source',\n",
       " 'start_time',\n",
       " 'status',\n",
       " 'tags',\n",
       " 'to_boto',\n",
       " 'trial_component_arn',\n",
       " 'trial_component_name',\n",
       " 'with_boto']"
      ]
     },
     "execution_count": 21,
     "metadata": {},
     "output_type": "execute_result"
    }
   ],
   "source": [
    "dir(trial_component)"
   ]
  },
  {
   "cell_type": "code",
   "execution_count": 23,
   "id": "hindu-appeal",
   "metadata": {},
   "outputs": [
    {
     "data": {
      "text/plain": [
       "{'train': TrialComponentArtifact(value='s3://sagemaker-cookbook-bucket/chapter05/input/training_data.csv',media_type='text/csv'),\n",
       " 'validation': TrialComponentArtifact(value='s3://sagemaker-cookbook-bucket/chapter05/input/validation_data.csv',media_type='text/csv')}"
      ]
     },
     "execution_count": 23,
     "metadata": {},
     "output_type": "execute_result"
    }
   ],
   "source": [
    "trial_component.input_artifacts"
   ]
  },
  {
   "cell_type": "code",
   "execution_count": 22,
   "id": "variable-cooking",
   "metadata": {},
   "outputs": [
    {
     "data": {
      "text/plain": [
       "{'SageMaker.ModelArtifact': TrialComponentArtifact(value='s3://sagemaker-cookbook-bucket/chapter05/output/job-RJNRCIKGOR/output/model.tar.gz',media_type=None)}"
      ]
     },
     "execution_count": 22,
     "metadata": {},
     "output_type": "execute_result"
    }
   ],
   "source": [
    "trial_component.output_artifacts"
   ]
  },
  {
   "cell_type": "code",
   "execution_count": 24,
   "id": "encouraging-savage",
   "metadata": {},
   "outputs": [
    {
     "data": {
      "text/plain": [
       "{'SageMaker.ImageUri': '683313688378.dkr.ecr.us-east-1.amazonaws.com/sagemaker-xgboost:0.90-2-cpu-py3',\n",
       " 'SageMaker.InstanceCount': 1.0,\n",
       " 'SageMaker.InstanceType': 'ml.m5.large',\n",
       " 'SageMaker.VolumeSizeInGB': 30.0,\n",
       " 'eta': 0.2,\n",
       " 'gamma': 4.0,\n",
       " 'max_depth': 8.0,\n",
       " 'min_child_weight': 6.0,\n",
       " 'num_round': 20.0,\n",
       " 'objective': 'binary:logistic',\n",
       " 'subsample': 0.4}"
      ]
     },
     "execution_count": 24,
     "metadata": {},
     "output_type": "execute_result"
    }
   ],
   "source": [
    "trial_component.parameters"
   ]
  },
  {
   "cell_type": "code",
   "execution_count": 25,
   "id": "limiting-scenario",
   "metadata": {},
   "outputs": [
    {
     "data": {
      "text/plain": [
       "[TrialComponentMetricSummary(metric_name='validation:error',source_arn='arn:aws:sagemaker:us-east-1:581320662326:training-job/job-rjnrcikgor',time_stamp=datetime.datetime(2021, 4, 24, 21, 44, 10, 430000, tzinfo=tzlocal()),max=0.172,min=0.16,last=0.165,count=20,avg=0.16455000000000006,std_dev=0.0025021043774769865),\n",
       " TrialComponentMetricSummary(metric_name='train:error',source_arn='arn:aws:sagemaker:us-east-1:581320662326:training-job/job-rjnrcikgor',time_stamp=datetime.datetime(2021, 4, 24, 21, 44, 10, 430000, tzinfo=tzlocal()),max=0.183667,min=0.169,last=0.169667,count=20,avg=0.17490009999999998,std_dev=0.0043837282966611105)]"
      ]
     },
     "execution_count": 25,
     "metadata": {},
     "output_type": "execute_result"
    }
   ],
   "source": [
    "trial_component.metrics"
   ]
  }
 ],
 "metadata": {
  "kernelspec": {
   "display_name": "conda_python3",
   "language": "python",
   "name": "conda_python3"
  },
  "language_info": {
   "codemirror_mode": {
    "name": "ipython",
    "version": 3
   },
   "file_extension": ".py",
   "mimetype": "text/x-python",
   "name": "python",
   "nbconvert_exporter": "python",
   "pygments_lexer": "ipython3",
   "version": "3.6.13"
  }
 },
 "nbformat": 4,
 "nbformat_minor": 5
}
