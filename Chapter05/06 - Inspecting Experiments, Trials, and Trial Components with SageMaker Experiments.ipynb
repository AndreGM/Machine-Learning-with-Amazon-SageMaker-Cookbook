{
 "cells": [
  {
   "cell_type": "code",
   "execution_count": 1,
   "id": "featured-ground",
   "metadata": {
    "scrolled": true
   },
   "outputs": [
    {
     "name": "stdout",
     "output_type": "stream",
     "text": [
      "Requirement already satisfied: sagemaker-experiments in /home/ec2-user/anaconda3/envs/python3/lib/python3.6/site-packages (0.1.30)\n",
      "Requirement already satisfied: boto3>=1.16.27 in /home/ec2-user/anaconda3/envs/python3/lib/python3.6/site-packages (from sagemaker-experiments) (1.17.35)\n",
      "Requirement already satisfied: botocore<1.21.0,>=1.20.35 in /home/ec2-user/anaconda3/envs/python3/lib/python3.6/site-packages (from boto3>=1.16.27->sagemaker-experiments) (1.20.35)\n",
      "Requirement already satisfied: jmespath<1.0.0,>=0.7.1 in /home/ec2-user/anaconda3/envs/python3/lib/python3.6/site-packages (from boto3>=1.16.27->sagemaker-experiments) (0.10.0)\n",
      "Requirement already satisfied: s3transfer<0.4.0,>=0.3.0 in /home/ec2-user/anaconda3/envs/python3/lib/python3.6/site-packages (from boto3>=1.16.27->sagemaker-experiments) (0.3.4)\n",
      "Requirement already satisfied: urllib3<1.27,>=1.25.4 in /home/ec2-user/anaconda3/envs/python3/lib/python3.6/site-packages (from botocore<1.21.0,>=1.20.35->boto3>=1.16.27->sagemaker-experiments) (1.26.3)\n",
      "Requirement already satisfied: python-dateutil<3.0.0,>=2.1 in /home/ec2-user/anaconda3/envs/python3/lib/python3.6/site-packages (from botocore<1.21.0,>=1.20.35->boto3>=1.16.27->sagemaker-experiments) (2.8.1)\n",
      "Requirement already satisfied: six>=1.5 in /home/ec2-user/anaconda3/envs/python3/lib/python3.6/site-packages (from python-dateutil<3.0.0,>=2.1->botocore<1.21.0,>=1.20.35->boto3>=1.16.27->sagemaker-experiments) (1.15.0)\n"
     ]
    }
   ],
   "source": [
    "!pip install sagemaker-experiments"
   ]
  },
  {
   "cell_type": "code",
   "execution_count": 2,
   "id": "suspected-wallet",
   "metadata": {},
   "outputs": [],
   "source": [
    "from smexperiments.experiment import Experiment\n",
    "from smexperiments.trial import Trial\n",
    "from smexperiments.trial_component import TrialComponent\n",
    "from smexperiments.tracker import Tracker"
   ]
  },
  {
   "cell_type": "code",
   "execution_count": 3,
   "id": "surface-green",
   "metadata": {},
   "outputs": [
    {
     "name": "stdout",
     "output_type": "stream",
     "text": [
      "ExperimentSummary(experiment_name='experiment-CIGZKZVFZO',experiment_arn='arn:aws:sagemaker:us-east-1:581320662326:experiment/experiment-cigzkzvfzo',display_name='experiment-CIGZKZVFZO',creation_time=datetime.datetime(2021, 4, 23, 15, 31, 9, 805000, tzinfo=tzlocal()),last_modified_time=datetime.datetime(2021, 4, 23, 15, 40, 58, 784000, tzinfo=tzlocal()))\n"
     ]
    }
   ],
   "source": [
    "for experiment_summary in Experiment.list():\n",
    "    print(experiment_summary)"
   ]
  },
  {
   "cell_type": "code",
   "execution_count": 4,
   "id": "spread-inspector",
   "metadata": {},
   "outputs": [
    {
     "data": {
      "text/plain": [
       "ExperimentSummary(experiment_name='experiment-CIGZKZVFZO',experiment_arn='arn:aws:sagemaker:us-east-1:581320662326:experiment/experiment-cigzkzvfzo',display_name='experiment-CIGZKZVFZO',creation_time=datetime.datetime(2021, 4, 23, 15, 31, 9, 805000, tzinfo=tzlocal()),last_modified_time=datetime.datetime(2021, 4, 23, 15, 40, 58, 784000, tzinfo=tzlocal()))"
      ]
     },
     "execution_count": 4,
     "metadata": {},
     "output_type": "execute_result"
    }
   ],
   "source": [
    "experiment_summary"
   ]
  },
  {
   "cell_type": "code",
   "execution_count": 5,
   "id": "electric-singles",
   "metadata": {},
   "outputs": [
    {
     "data": {
      "text/plain": [
       "['__class__',\n",
       " '__delattr__',\n",
       " '__dict__',\n",
       " '__dir__',\n",
       " '__doc__',\n",
       " '__eq__',\n",
       " '__format__',\n",
       " '__ge__',\n",
       " '__getattribute__',\n",
       " '__gt__',\n",
       " '__hash__',\n",
       " '__init__',\n",
       " '__init_subclass__',\n",
       " '__le__',\n",
       " '__lt__',\n",
       " '__module__',\n",
       " '__ne__',\n",
       " '__new__',\n",
       " '__reduce__',\n",
       " '__reduce_ex__',\n",
       " '__repr__',\n",
       " '__setattr__',\n",
       " '__sizeof__',\n",
       " '__str__',\n",
       " '__subclasshook__',\n",
       " '__weakref__',\n",
       " '_boto_ignore',\n",
       " '_custom_boto_names',\n",
       " '_custom_boto_types',\n",
       " 'creation_time',\n",
       " 'display_name',\n",
       " 'experiment_arn',\n",
       " 'experiment_name',\n",
       " 'from_boto',\n",
       " 'last_modified_time',\n",
       " 'to_boto']"
      ]
     },
     "execution_count": 5,
     "metadata": {},
     "output_type": "execute_result"
    }
   ],
   "source": [
    "dir(experiment_summary)"
   ]
  },
  {
   "cell_type": "code",
   "execution_count": 6,
   "id": "european-classics",
   "metadata": {},
   "outputs": [
    {
     "data": {
      "text/plain": [
       "{'experiment_name': 'experiment-CIGZKZVFZO',\n",
       " 'experiment_arn': 'arn:aws:sagemaker:us-east-1:581320662326:experiment/experiment-cigzkzvfzo',\n",
       " 'display_name': 'experiment-CIGZKZVFZO',\n",
       " 'creation_time': datetime.datetime(2021, 4, 23, 15, 31, 9, 805000, tzinfo=tzlocal()),\n",
       " 'last_modified_time': datetime.datetime(2021, 4, 23, 15, 40, 58, 784000, tzinfo=tzlocal())}"
      ]
     },
     "execution_count": 6,
     "metadata": {},
     "output_type": "execute_result"
    }
   ],
   "source": [
    "experiment_summary.__dict__"
   ]
  },
  {
   "cell_type": "code",
   "execution_count": 7,
   "id": "collect-plain",
   "metadata": {},
   "outputs": [
    {
     "data": {
      "text/plain": [
       "['MAX_DELETE_ALL_ATTEMPTS',\n",
       " '__class__',\n",
       " '__delattr__',\n",
       " '__dict__',\n",
       " '__dir__',\n",
       " '__doc__',\n",
       " '__eq__',\n",
       " '__format__',\n",
       " '__ge__',\n",
       " '__getattribute__',\n",
       " '__gt__',\n",
       " '__hash__',\n",
       " '__init__',\n",
       " '__init_subclass__',\n",
       " '__le__',\n",
       " '__lt__',\n",
       " '__module__',\n",
       " '__ne__',\n",
       " '__new__',\n",
       " '__reduce__',\n",
       " '__reduce_ex__',\n",
       " '__repr__',\n",
       " '__setattr__',\n",
       " '__sizeof__',\n",
       " '__str__',\n",
       " '__subclasshook__',\n",
       " '__weakref__',\n",
       " '_boto_create_method',\n",
       " '_boto_delete_members',\n",
       " '_boto_delete_method',\n",
       " '_boto_ignore',\n",
       " '_boto_list_method',\n",
       " '_boto_load_method',\n",
       " '_boto_update_members',\n",
       " '_boto_update_method',\n",
       " '_construct',\n",
       " '_custom_boto_names',\n",
       " '_custom_boto_types',\n",
       " '_invoke_api',\n",
       " '_list',\n",
       " '_search',\n",
       " 'create',\n",
       " 'create_trial',\n",
       " 'delete',\n",
       " 'delete_all',\n",
       " 'description',\n",
       " 'experiment_name',\n",
       " 'from_boto',\n",
       " 'list',\n",
       " 'list_trials',\n",
       " 'load',\n",
       " 'save',\n",
       " 'search',\n",
       " 'tags',\n",
       " 'to_boto',\n",
       " 'with_boto']"
      ]
     },
     "execution_count": 7,
     "metadata": {},
     "output_type": "execute_result"
    }
   ],
   "source": [
    "dir(Experiment)"
   ]
  },
  {
   "cell_type": "code",
   "execution_count": 8,
   "id": "bridal-miniature",
   "metadata": {},
   "outputs": [
    {
     "data": {
      "text/plain": [
       "Experiment(sagemaker_boto_client=<botocore.client.SageMaker object at 0x7fc467a196a0>,experiment_name='experiment-CIGZKZVFZO',experiment_arn='arn:aws:sagemaker:us-east-1:581320662326:experiment/experiment-cigzkzvfzo',display_name='experiment-CIGZKZVFZO',description='Experiment Description',creation_time=datetime.datetime(2021, 4, 23, 15, 31, 9, 805000, tzinfo=tzlocal()),created_by={},last_modified_time=datetime.datetime(2021, 4, 23, 15, 40, 58, 784000, tzinfo=tzlocal()),last_modified_by={},response_metadata={'RequestId': '7dc484e8-6b24-48f6-8d22-8500471adc1c', 'HTTPStatusCode': 200, 'HTTPHeaders': {'x-amzn-requestid': '7dc484e8-6b24-48f6-8d22-8500471adc1c', 'content-type': 'application/x-amz-json-1.1', 'content-length': '314', 'date': 'Fri, 23 Apr 2021 15:50:53 GMT'}, 'RetryAttempts': 0})"
      ]
     },
     "execution_count": 8,
     "metadata": {},
     "output_type": "execute_result"
    }
   ],
   "source": [
    "experiment = Experiment.load(experiment_summary.experiment_name)\n",
    "experiment"
   ]
  },
  {
   "cell_type": "code",
   "execution_count": 9,
   "id": "phantom-insurance",
   "metadata": {},
   "outputs": [
    {
     "data": {
      "text/plain": [
       "{'sagemaker_boto_client': <botocore.client.SageMaker at 0x7fc467a196a0>,\n",
       " 'experiment_name': 'experiment-CIGZKZVFZO',\n",
       " 'experiment_arn': 'arn:aws:sagemaker:us-east-1:581320662326:experiment/experiment-cigzkzvfzo',\n",
       " 'display_name': 'experiment-CIGZKZVFZO',\n",
       " 'description': 'Experiment Description',\n",
       " 'creation_time': datetime.datetime(2021, 4, 23, 15, 31, 9, 805000, tzinfo=tzlocal()),\n",
       " 'created_by': {},\n",
       " 'last_modified_time': datetime.datetime(2021, 4, 23, 15, 40, 58, 784000, tzinfo=tzlocal()),\n",
       " 'last_modified_by': {},\n",
       " 'response_metadata': {'RequestId': '7dc484e8-6b24-48f6-8d22-8500471adc1c',\n",
       "  'HTTPStatusCode': 200,\n",
       "  'HTTPHeaders': {'x-amzn-requestid': '7dc484e8-6b24-48f6-8d22-8500471adc1c',\n",
       "   'content-type': 'application/x-amz-json-1.1',\n",
       "   'content-length': '314',\n",
       "   'date': 'Fri, 23 Apr 2021 15:50:53 GMT'},\n",
       "  'RetryAttempts': 0}}"
      ]
     },
     "execution_count": 9,
     "metadata": {},
     "output_type": "execute_result"
    }
   ],
   "source": [
    "experiment.__dict__"
   ]
  },
  {
   "cell_type": "code",
   "execution_count": 10,
   "id": "affected-notice",
   "metadata": {},
   "outputs": [
    {
     "data": {
      "text/plain": [
       "['MAX_DELETE_ALL_ATTEMPTS',\n",
       " '__class__',\n",
       " '__delattr__',\n",
       " '__dict__',\n",
       " '__dir__',\n",
       " '__doc__',\n",
       " '__eq__',\n",
       " '__format__',\n",
       " '__ge__',\n",
       " '__getattribute__',\n",
       " '__gt__',\n",
       " '__hash__',\n",
       " '__init__',\n",
       " '__init_subclass__',\n",
       " '__le__',\n",
       " '__lt__',\n",
       " '__module__',\n",
       " '__ne__',\n",
       " '__new__',\n",
       " '__reduce__',\n",
       " '__reduce_ex__',\n",
       " '__repr__',\n",
       " '__setattr__',\n",
       " '__sizeof__',\n",
       " '__str__',\n",
       " '__subclasshook__',\n",
       " '__weakref__',\n",
       " '_boto_create_method',\n",
       " '_boto_delete_members',\n",
       " '_boto_delete_method',\n",
       " '_boto_ignore',\n",
       " '_boto_list_method',\n",
       " '_boto_load_method',\n",
       " '_boto_update_members',\n",
       " '_boto_update_method',\n",
       " '_construct',\n",
       " '_custom_boto_names',\n",
       " '_custom_boto_types',\n",
       " '_invoke_api',\n",
       " '_list',\n",
       " '_search',\n",
       " 'create',\n",
       " 'create_trial',\n",
       " 'created_by',\n",
       " 'creation_time',\n",
       " 'delete',\n",
       " 'delete_all',\n",
       " 'description',\n",
       " 'display_name',\n",
       " 'experiment_arn',\n",
       " 'experiment_name',\n",
       " 'from_boto',\n",
       " 'last_modified_by',\n",
       " 'last_modified_time',\n",
       " 'list',\n",
       " 'list_trials',\n",
       " 'load',\n",
       " 'response_metadata',\n",
       " 'sagemaker_boto_client',\n",
       " 'save',\n",
       " 'search',\n",
       " 'tags',\n",
       " 'to_boto',\n",
       " 'with_boto']"
      ]
     },
     "execution_count": 10,
     "metadata": {},
     "output_type": "execute_result"
    }
   ],
   "source": [
    "dir(experiment)"
   ]
  },
  {
   "cell_type": "code",
   "execution_count": 11,
   "id": "moral-universal",
   "metadata": {},
   "outputs": [
    {
     "data": {
      "text/plain": [
       "[TrialSummary(trial_name='trial-DLLKOGQBPW',trial_arn='arn:aws:sagemaker:us-east-1:581320662326:experiment-trial/trial-dllkogqbpw',display_name='trial-DLLKOGQBPW',creation_time=datetime.datetime(2021, 4, 23, 15, 36, 4, 718000, tzinfo=tzlocal()),last_modified_time=datetime.datetime(2021, 4, 23, 15, 40, 54, 197000, tzinfo=tzlocal())),\n",
       " TrialSummary(trial_name='trial-DHMUPWSORF',trial_arn='arn:aws:sagemaker:us-east-1:581320662326:experiment-trial/trial-dhmupwsorf',display_name='trial-DHMUPWSORF',creation_time=datetime.datetime(2021, 4, 23, 15, 36, 2, 216000, tzinfo=tzlocal()),last_modified_time=datetime.datetime(2021, 4, 23, 15, 40, 54, 558000, tzinfo=tzlocal())),\n",
       " TrialSummary(trial_name='trial-HLMHVSHJLD',trial_arn='arn:aws:sagemaker:us-east-1:581320662326:experiment-trial/trial-hlmhvshjld',display_name='trial-HLMHVSHJLD',creation_time=datetime.datetime(2021, 4, 23, 15, 35, 59, 694000, tzinfo=tzlocal()),last_modified_time=datetime.datetime(2021, 4, 23, 15, 40, 27, 382000, tzinfo=tzlocal())),\n",
       " TrialSummary(trial_name='trial-IGYOEWLLKC',trial_arn='arn:aws:sagemaker:us-east-1:581320662326:experiment-trial/trial-igyoewllkc',display_name='trial-IGYOEWLLKC',creation_time=datetime.datetime(2021, 4, 23, 15, 35, 57, 163000, tzinfo=tzlocal()),last_modified_time=datetime.datetime(2021, 4, 23, 15, 40, 24, 725000, tzinfo=tzlocal())),\n",
       " TrialSummary(trial_name='trial-EEIGKCWSSO',trial_arn='arn:aws:sagemaker:us-east-1:581320662326:experiment-trial/trial-eeigkcwsso',display_name='trial-EEIGKCWSSO',creation_time=datetime.datetime(2021, 4, 23, 15, 35, 54, 657000, tzinfo=tzlocal()),last_modified_time=datetime.datetime(2021, 4, 23, 15, 40, 37, 945000, tzinfo=tzlocal())),\n",
       " TrialSummary(trial_name='trial-WLMUZICGAH',trial_arn='arn:aws:sagemaker:us-east-1:581320662326:experiment-trial/trial-wlmuzicgah',display_name='trial-WLMUZICGAH',creation_time=datetime.datetime(2021, 4, 23, 15, 35, 52, 101000, tzinfo=tzlocal()),last_modified_time=datetime.datetime(2021, 4, 23, 15, 40, 41, 802000, tzinfo=tzlocal())),\n",
       " TrialSummary(trial_name='trial-SVKXQJNJXR',trial_arn='arn:aws:sagemaker:us-east-1:581320662326:experiment-trial/trial-svkxqjnjxr',display_name='trial-SVKXQJNJXR',creation_time=datetime.datetime(2021, 4, 23, 15, 35, 49, 488000, tzinfo=tzlocal()),last_modified_time=datetime.datetime(2021, 4, 23, 15, 40, 58, 784000, tzinfo=tzlocal())),\n",
       " TrialSummary(trial_name='trial-UUMPHCNNKS',trial_arn='arn:aws:sagemaker:us-east-1:581320662326:experiment-trial/trial-uumphcnnks',display_name='trial-UUMPHCNNKS',creation_time=datetime.datetime(2021, 4, 23, 15, 35, 46, 958000, tzinfo=tzlocal()),last_modified_time=datetime.datetime(2021, 4, 23, 15, 40, 29, 352000, tzinfo=tzlocal())),\n",
       " TrialSummary(trial_name='trial-HEJMOENWXW',trial_arn='arn:aws:sagemaker:us-east-1:581320662326:experiment-trial/trial-hejmoenwxw',display_name='trial-HEJMOENWXW',creation_time=datetime.datetime(2021, 4, 23, 15, 34, 3, 713000, tzinfo=tzlocal()),last_modified_time=datetime.datetime(2021, 4, 23, 15, 34, 3, 713000, tzinfo=tzlocal())),\n",
       " TrialSummary(trial_name='trial-ZQRUWYEXTU',trial_arn='arn:aws:sagemaker:us-east-1:581320662326:experiment-trial/trial-zqruwyextu',display_name='trial-ZQRUWYEXTU',creation_time=datetime.datetime(2021, 4, 23, 15, 34, 2, 154000, tzinfo=tzlocal()),last_modified_time=datetime.datetime(2021, 4, 23, 15, 38, 48, 581000, tzinfo=tzlocal()))]"
      ]
     },
     "execution_count": 11,
     "metadata": {},
     "output_type": "execute_result"
    }
   ],
   "source": [
    "experiment_trials = list(experiment.list_trials())\n",
    "experiment_trials"
   ]
  },
  {
   "cell_type": "code",
   "execution_count": 12,
   "id": "compressed-davis",
   "metadata": {},
   "outputs": [
    {
     "data": {
      "text/plain": [
       "TrialSummary(trial_name='trial-DLLKOGQBPW',trial_arn='arn:aws:sagemaker:us-east-1:581320662326:experiment-trial/trial-dllkogqbpw',display_name='trial-DLLKOGQBPW',creation_time=datetime.datetime(2021, 4, 23, 15, 36, 4, 718000, tzinfo=tzlocal()),last_modified_time=datetime.datetime(2021, 4, 23, 15, 40, 54, 197000, tzinfo=tzlocal()))"
      ]
     },
     "execution_count": 12,
     "metadata": {},
     "output_type": "execute_result"
    }
   ],
   "source": [
    "experiment_trials[0]"
   ]
  },
  {
   "cell_type": "code",
   "execution_count": 13,
   "id": "smoking-pound",
   "metadata": {},
   "outputs": [
    {
     "data": {
      "text/plain": [
       "{'trial_name': 'trial-DLLKOGQBPW',\n",
       " 'trial_arn': 'arn:aws:sagemaker:us-east-1:581320662326:experiment-trial/trial-dllkogqbpw',\n",
       " 'display_name': 'trial-DLLKOGQBPW',\n",
       " 'creation_time': datetime.datetime(2021, 4, 23, 15, 36, 4, 718000, tzinfo=tzlocal()),\n",
       " 'last_modified_time': datetime.datetime(2021, 4, 23, 15, 40, 54, 197000, tzinfo=tzlocal())}"
      ]
     },
     "execution_count": 13,
     "metadata": {},
     "output_type": "execute_result"
    }
   ],
   "source": [
    "experiment_trials[0].__dict__"
   ]
  },
  {
   "cell_type": "code",
   "execution_count": 14,
   "id": "pregnant-rwanda",
   "metadata": {},
   "outputs": [
    {
     "data": {
      "text/plain": [
       "Trial(sagemaker_boto_client=<botocore.client.SageMaker object at 0x7fc467322940>,trial_name='trial-DLLKOGQBPW',trial_arn='arn:aws:sagemaker:us-east-1:581320662326:experiment-trial/trial-dllkogqbpw',display_name='trial-DLLKOGQBPW',experiment_name='experiment-CIGZKZVFZO',creation_time=datetime.datetime(2021, 4, 23, 15, 36, 4, 718000, tzinfo=tzlocal()),created_by={},last_modified_time=datetime.datetime(2021, 4, 23, 15, 40, 54, 197000, tzinfo=tzlocal()),last_modified_by={},response_metadata={'RequestId': 'a492a7ad-c8f3-4891-bb61-1296edf0ed62', 'HTTPStatusCode': 200, 'HTTPHeaders': {'x-amzn-requestid': 'a492a7ad-c8f3-4891-bb61-1296edf0ed62', 'content-type': 'application/x-amz-json-1.1', 'content-length': '297', 'date': 'Fri, 23 Apr 2021 15:51:35 GMT'}, 'RetryAttempts': 0})"
      ]
     },
     "execution_count": 14,
     "metadata": {},
     "output_type": "execute_result"
    }
   ],
   "source": [
    "trial = Trial.load(experiment_trials[0].trial_name)\n",
    "trial"
   ]
  },
  {
   "cell_type": "code",
   "execution_count": 15,
   "id": "level-nursery",
   "metadata": {},
   "outputs": [
    {
     "data": {
      "text/plain": [
       "{'sagemaker_boto_client': <botocore.client.SageMaker at 0x7fc467322940>,\n",
       " 'trial_name': 'trial-DLLKOGQBPW',\n",
       " 'trial_arn': 'arn:aws:sagemaker:us-east-1:581320662326:experiment-trial/trial-dllkogqbpw',\n",
       " 'display_name': 'trial-DLLKOGQBPW',\n",
       " 'experiment_name': 'experiment-CIGZKZVFZO',\n",
       " 'creation_time': datetime.datetime(2021, 4, 23, 15, 36, 4, 718000, tzinfo=tzlocal()),\n",
       " 'created_by': {},\n",
       " 'last_modified_time': datetime.datetime(2021, 4, 23, 15, 40, 54, 197000, tzinfo=tzlocal()),\n",
       " 'last_modified_by': {},\n",
       " 'response_metadata': {'RequestId': 'a492a7ad-c8f3-4891-bb61-1296edf0ed62',\n",
       "  'HTTPStatusCode': 200,\n",
       "  'HTTPHeaders': {'x-amzn-requestid': 'a492a7ad-c8f3-4891-bb61-1296edf0ed62',\n",
       "   'content-type': 'application/x-amz-json-1.1',\n",
       "   'content-length': '297',\n",
       "   'date': 'Fri, 23 Apr 2021 15:51:35 GMT'},\n",
       "  'RetryAttempts': 0}}"
      ]
     },
     "execution_count": 15,
     "metadata": {},
     "output_type": "execute_result"
    }
   ],
   "source": [
    "trial.__dict__"
   ]
  },
  {
   "cell_type": "code",
   "execution_count": 16,
   "id": "appreciated-aspect",
   "metadata": {},
   "outputs": [
    {
     "data": {
      "text/plain": [
       "['MAX_DELETE_ALL_ATTEMPTS',\n",
       " '__class__',\n",
       " '__delattr__',\n",
       " '__dict__',\n",
       " '__dir__',\n",
       " '__doc__',\n",
       " '__eq__',\n",
       " '__format__',\n",
       " '__ge__',\n",
       " '__getattribute__',\n",
       " '__gt__',\n",
       " '__hash__',\n",
       " '__init__',\n",
       " '__init_subclass__',\n",
       " '__le__',\n",
       " '__lt__',\n",
       " '__module__',\n",
       " '__ne__',\n",
       " '__new__',\n",
       " '__reduce__',\n",
       " '__reduce_ex__',\n",
       " '__repr__',\n",
       " '__setattr__',\n",
       " '__sizeof__',\n",
       " '__str__',\n",
       " '__subclasshook__',\n",
       " '__weakref__',\n",
       " '_boto_create_method',\n",
       " '_boto_delete_members',\n",
       " '_boto_delete_method',\n",
       " '_boto_ignore',\n",
       " '_boto_list_method',\n",
       " '_boto_load_method',\n",
       " '_boto_update_members',\n",
       " '_boto_update_method',\n",
       " '_construct',\n",
       " '_custom_boto_names',\n",
       " '_custom_boto_types',\n",
       " '_invoke_api',\n",
       " '_list',\n",
       " '_search',\n",
       " 'add_trial_component',\n",
       " 'create',\n",
       " 'created_by',\n",
       " 'creation_time',\n",
       " 'delete',\n",
       " 'delete_all',\n",
       " 'display_name',\n",
       " 'experiment_name',\n",
       " 'from_boto',\n",
       " 'last_modified_by',\n",
       " 'last_modified_time',\n",
       " 'list',\n",
       " 'list_trial_components',\n",
       " 'load',\n",
       " 'remove_trial_component',\n",
       " 'response_metadata',\n",
       " 'sagemaker_boto_client',\n",
       " 'save',\n",
       " 'search',\n",
       " 'tags',\n",
       " 'to_boto',\n",
       " 'trial_arn',\n",
       " 'trial_name',\n",
       " 'with_boto']"
      ]
     },
     "execution_count": 16,
     "metadata": {},
     "output_type": "execute_result"
    }
   ],
   "source": [
    "dir(trial)"
   ]
  },
  {
   "cell_type": "code",
   "execution_count": 17,
   "id": "minimal-bundle",
   "metadata": {},
   "outputs": [
    {
     "data": {
      "text/plain": [
       "[TrialComponentSummary(trial_component_name='job-DLLKOGQBPW-aws-training-job',trial_component_arn='arn:aws:sagemaker:us-east-1:581320662326:experiment-trial-component/job-dllkogqbpw-aws-training-job',display_name='job-DLLKOGQBPW',trial_component_source={'SourceArn': 'arn:aws:sagemaker:us-east-1:581320662326:training-job/job-dllkogqbpw', 'SourceType': 'SageMakerTrainingJob'},status=TrialComponentStatus(primary_status='Completed',message='Status: Completed, secondary status: Completed, failure reason: .'),creation_time=datetime.datetime(2021, 4, 23, 15, 36, 7, 794000, tzinfo=tzlocal()),created_by={},last_modified_time=datetime.datetime(2021, 4, 23, 15, 40, 54, 197000, tzinfo=tzlocal()),last_modified_by={}),\n",
       " TrialComponentSummary(trial_component_name='TrialComponent-2021-04-23-153604-yjbk',trial_component_arn='arn:aws:sagemaker:us-east-1:581320662326:experiment-trial-component/trialcomponent-2021-04-23-153604-yjbk',display_name='trial-metadata-DLLKOGQBPW',status=TrialComponentStatus(primary_status='Completed',message=None),start_time=datetime.datetime(2021, 4, 23, 15, 36, 4, tzinfo=tzlocal()),end_time=datetime.datetime(2021, 4, 23, 15, 36, 4, tzinfo=tzlocal()),creation_time=datetime.datetime(2021, 4, 23, 15, 36, 4, 598000, tzinfo=tzlocal()),created_by={},last_modified_time=datetime.datetime(2021, 4, 23, 15, 36, 4, 666000, tzinfo=tzlocal()),last_modified_by={}),\n",
       " TrialComponentSummary(trial_component_name='TrialComponent-2021-04-23-153256-bnxj',trial_component_arn='arn:aws:sagemaker:us-east-1:581320662326:experiment-trial-component/trialcomponent-2021-04-23-153256-bnxj',display_name='xgboost-experiment-display-name',status=TrialComponentStatus(primary_status='Completed',message=None),start_time=datetime.datetime(2021, 4, 23, 15, 32, 56, tzinfo=tzlocal()),end_time=datetime.datetime(2021, 4, 23, 15, 32, 56, tzinfo=tzlocal()),creation_time=datetime.datetime(2021, 4, 23, 15, 32, 56, 606000, tzinfo=tzlocal()),created_by={},last_modified_time=datetime.datetime(2021, 4, 23, 15, 32, 56, 672000, tzinfo=tzlocal()),last_modified_by={})]"
      ]
     },
     "execution_count": 17,
     "metadata": {},
     "output_type": "execute_result"
    }
   ],
   "source": [
    "trial_component_summary_list = list(trial.list_trial_components())\n",
    "trial_component_summary_list"
   ]
  },
  {
   "cell_type": "code",
   "execution_count": 18,
   "id": "characteristic-paste",
   "metadata": {},
   "outputs": [
    {
     "data": {
      "text/plain": [
       "TrialComponent(sagemaker_boto_client=<botocore.client.SageMaker object at 0x7fc466c29e80>,trial_component_name='job-DLLKOGQBPW-aws-training-job',trial_component_arn='arn:aws:sagemaker:us-east-1:581320662326:experiment-trial-component/job-dllkogqbpw-aws-training-job',display_name='job-DLLKOGQBPW',source=TrialComponentSource(source_arn='arn:aws:sagemaker:us-east-1:581320662326:training-job/job-dllkogqbpw',source_type='SageMakerTrainingJob'),status=TrialComponentStatus(primary_status='Completed',message='Status: Completed, secondary status: Completed, failure reason: .'),start_time=datetime.datetime(2021, 4, 23, 15, 38, 34, tzinfo=tzlocal()),end_time=datetime.datetime(2021, 4, 23, 15, 39, 49, tzinfo=tzlocal()),creation_time=datetime.datetime(2021, 4, 23, 15, 36, 7, 794000, tzinfo=tzlocal()),created_by={},last_modified_time=datetime.datetime(2021, 4, 23, 15, 40, 54, 197000, tzinfo=tzlocal()),last_modified_by={},parameters={'SageMaker.ImageUri': '683313688378.dkr.ecr.us-east-1.amazonaws.com/sagemaker-xgboost:0.90-2-cpu-py3', 'SageMaker.InstanceCount': 1.0, 'SageMaker.InstanceType': 'ml.m5.large', 'SageMaker.VolumeSizeInGB': 30.0, 'eta': 0.2, 'gamma': 4.0, 'max_depth': 8.0, 'min_child_weight': 6.0, 'num_round': 20.0, 'objective': 'binary:logistic', 'subsample': 0.4},input_artifacts={'train': TrialComponentArtifact(value='s3://sagemaker-cookbook-bucket/chapter05/input/training_data.csv',media_type='text/csv'), 'validation': TrialComponentArtifact(value='s3://sagemaker-cookbook-bucket/chapter05/input/validation_data.csv',media_type='text/csv')},output_artifacts={'SageMaker.ModelArtifact': TrialComponentArtifact(value='s3://sagemaker-cookbook-bucket/chapter05/output/job-DLLKOGQBPW/output/model.tar.gz',media_type=None)},metrics=[TrialComponentMetricSummary(metric_name='validation:error',source_arn='arn:aws:sagemaker:us-east-1:581320662326:training-job/job-dllkogqbpw',time_stamp=datetime.datetime(2021, 4, 23, 15, 39, 37, 413000, tzinfo=tzlocal()),max=0.172,min=0.16,last=0.164,count=20,avg=0.16455000000000006,std_dev=0.0025021043774769865), TrialComponentMetricSummary(metric_name='train:error',source_arn='arn:aws:sagemaker:us-east-1:581320662326:training-job/job-dllkogqbpw',time_stamp=datetime.datetime(2021, 4, 23, 15, 39, 37, 413000, tzinfo=tzlocal()),max=0.183667,min=0.169,last=0.169,count=20,avg=0.17490009999999998,std_dev=0.0043837282966611105)],response_metadata={'RequestId': 'cecaf35d-7dfd-4d27-86f6-214bf21adc3c', 'HTTPStatusCode': 200, 'HTTPHeaders': {'x-amzn-requestid': 'cecaf35d-7dfd-4d27-86f6-214bf21adc3c', 'content-type': 'application/x-amz-json-1.1', 'content-length': '2133', 'date': 'Fri, 23 Apr 2021 15:52:08 GMT'}, 'RetryAttempts': 0})"
      ]
     },
     "execution_count": 18,
     "metadata": {},
     "output_type": "execute_result"
    }
   ],
   "source": [
    "trial_component_summary = trial_component_summary_list[0]\n",
    "trial_component = TrialComponent.load(trial_component_name=trial_component_summary.trial_component_name)\n",
    "trial_component"
   ]
  },
  {
   "cell_type": "code",
   "execution_count": 19,
   "id": "dramatic-chancellor",
   "metadata": {},
   "outputs": [
    {
     "data": {
      "text/plain": [
       "{'sagemaker_boto_client': <botocore.client.SageMaker at 0x7fc466c29e80>,\n",
       " 'trial_component_name': 'job-DLLKOGQBPW-aws-training-job',\n",
       " 'trial_component_arn': 'arn:aws:sagemaker:us-east-1:581320662326:experiment-trial-component/job-dllkogqbpw-aws-training-job',\n",
       " 'display_name': 'job-DLLKOGQBPW',\n",
       " 'source': TrialComponentSource(source_arn='arn:aws:sagemaker:us-east-1:581320662326:training-job/job-dllkogqbpw',source_type='SageMakerTrainingJob'),\n",
       " 'status': TrialComponentStatus(primary_status='Completed',message='Status: Completed, secondary status: Completed, failure reason: .'),\n",
       " 'start_time': datetime.datetime(2021, 4, 23, 15, 38, 34, tzinfo=tzlocal()),\n",
       " 'end_time': datetime.datetime(2021, 4, 23, 15, 39, 49, tzinfo=tzlocal()),\n",
       " 'creation_time': datetime.datetime(2021, 4, 23, 15, 36, 7, 794000, tzinfo=tzlocal()),\n",
       " 'created_by': {},\n",
       " 'last_modified_time': datetime.datetime(2021, 4, 23, 15, 40, 54, 197000, tzinfo=tzlocal()),\n",
       " 'last_modified_by': {},\n",
       " 'parameters': {'SageMaker.ImageUri': '683313688378.dkr.ecr.us-east-1.amazonaws.com/sagemaker-xgboost:0.90-2-cpu-py3',\n",
       "  'SageMaker.InstanceCount': 1.0,\n",
       "  'SageMaker.InstanceType': 'ml.m5.large',\n",
       "  'SageMaker.VolumeSizeInGB': 30.0,\n",
       "  'eta': 0.2,\n",
       "  'gamma': 4.0,\n",
       "  'max_depth': 8.0,\n",
       "  'min_child_weight': 6.0,\n",
       "  'num_round': 20.0,\n",
       "  'objective': 'binary:logistic',\n",
       "  'subsample': 0.4},\n",
       " 'input_artifacts': {'train': TrialComponentArtifact(value='s3://sagemaker-cookbook-bucket/chapter05/input/training_data.csv',media_type='text/csv'),\n",
       "  'validation': TrialComponentArtifact(value='s3://sagemaker-cookbook-bucket/chapter05/input/validation_data.csv',media_type='text/csv')},\n",
       " 'output_artifacts': {'SageMaker.ModelArtifact': TrialComponentArtifact(value='s3://sagemaker-cookbook-bucket/chapter05/output/job-DLLKOGQBPW/output/model.tar.gz',media_type=None)},\n",
       " 'metrics': [TrialComponentMetricSummary(metric_name='validation:error',source_arn='arn:aws:sagemaker:us-east-1:581320662326:training-job/job-dllkogqbpw',time_stamp=datetime.datetime(2021, 4, 23, 15, 39, 37, 413000, tzinfo=tzlocal()),max=0.172,min=0.16,last=0.164,count=20,avg=0.16455000000000006,std_dev=0.0025021043774769865),\n",
       "  TrialComponentMetricSummary(metric_name='train:error',source_arn='arn:aws:sagemaker:us-east-1:581320662326:training-job/job-dllkogqbpw',time_stamp=datetime.datetime(2021, 4, 23, 15, 39, 37, 413000, tzinfo=tzlocal()),max=0.183667,min=0.169,last=0.169,count=20,avg=0.17490009999999998,std_dev=0.0043837282966611105)],\n",
       " 'response_metadata': {'RequestId': 'cecaf35d-7dfd-4d27-86f6-214bf21adc3c',\n",
       "  'HTTPStatusCode': 200,\n",
       "  'HTTPHeaders': {'x-amzn-requestid': 'cecaf35d-7dfd-4d27-86f6-214bf21adc3c',\n",
       "   'content-type': 'application/x-amz-json-1.1',\n",
       "   'content-length': '2133',\n",
       "   'date': 'Fri, 23 Apr 2021 15:52:08 GMT'},\n",
       "  'RetryAttempts': 0}}"
      ]
     },
     "execution_count": 19,
     "metadata": {},
     "output_type": "execute_result"
    }
   ],
   "source": [
    "trial_component.__dict__"
   ]
  },
  {
   "cell_type": "code",
   "execution_count": 20,
   "id": "prompt-piano",
   "metadata": {},
   "outputs": [
    {
     "data": {
      "text/plain": [
       "['__class__',\n",
       " '__delattr__',\n",
       " '__dict__',\n",
       " '__dir__',\n",
       " '__doc__',\n",
       " '__eq__',\n",
       " '__format__',\n",
       " '__ge__',\n",
       " '__getattribute__',\n",
       " '__gt__',\n",
       " '__hash__',\n",
       " '__init__',\n",
       " '__init_subclass__',\n",
       " '__le__',\n",
       " '__lt__',\n",
       " '__module__',\n",
       " '__ne__',\n",
       " '__new__',\n",
       " '__reduce__',\n",
       " '__reduce_ex__',\n",
       " '__repr__',\n",
       " '__setattr__',\n",
       " '__sizeof__',\n",
       " '__str__',\n",
       " '__subclasshook__',\n",
       " '__weakref__',\n",
       " '_boto_create_method',\n",
       " '_boto_delete_members',\n",
       " '_boto_delete_method',\n",
       " '_boto_ignore',\n",
       " '_boto_list_method',\n",
       " '_boto_load_method',\n",
       " '_boto_update_members',\n",
       " '_boto_update_method',\n",
       " '_construct',\n",
       " '_custom_boto_names',\n",
       " '_custom_boto_types',\n",
       " '_invoke_api',\n",
       " '_list',\n",
       " '_search',\n",
       " 'create',\n",
       " 'created_by',\n",
       " 'creation_time',\n",
       " 'delete',\n",
       " 'display_name',\n",
       " 'end_time',\n",
       " 'from_boto',\n",
       " 'input_artifacts',\n",
       " 'input_artifacts_to_remove',\n",
       " 'last_modified_by',\n",
       " 'last_modified_time',\n",
       " 'list',\n",
       " 'list_trials',\n",
       " 'load',\n",
       " 'metrics',\n",
       " 'output_artifacts',\n",
       " 'output_artifacts_to_remove',\n",
       " 'parameters',\n",
       " 'parameters_to_remove',\n",
       " 'response_metadata',\n",
       " 'sagemaker_boto_client',\n",
       " 'save',\n",
       " 'search',\n",
       " 'source',\n",
       " 'start_time',\n",
       " 'status',\n",
       " 'tags',\n",
       " 'to_boto',\n",
       " 'trial_component_arn',\n",
       " 'trial_component_name',\n",
       " 'with_boto']"
      ]
     },
     "execution_count": 20,
     "metadata": {},
     "output_type": "execute_result"
    }
   ],
   "source": [
    "dir(trial_component)"
   ]
  }
 ],
 "metadata": {
  "kernelspec": {
   "display_name": "conda_python3",
   "language": "python",
   "name": "conda_python3"
  },
  "language_info": {
   "codemirror_mode": {
    "name": "ipython",
    "version": 3
   },
   "file_extension": ".py",
   "mimetype": "text/x-python",
   "name": "python",
   "nbconvert_exporter": "python",
   "pygments_lexer": "ipython3",
   "version": "3.6.13"
  }
 },
 "nbformat": 4,
 "nbformat_minor": 5
}
