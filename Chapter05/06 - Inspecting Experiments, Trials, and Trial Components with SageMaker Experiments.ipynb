{
 "cells": [
  {
   "cell_type": "markdown",
   "id": "8d53f05c",
   "metadata": {},
   "source": [
    "# Inspecting Experiments, Trials, and Trial Components with SageMaker Experiments"
   ]
  },
  {
   "cell_type": "markdown",
   "id": "ac8bc473",
   "metadata": {},
   "source": [
    "<img align=\"left\" width=\"130\" src=\"https://raw.githubusercontent.com/PacktPublishing/Amazon-SageMaker-Cookbook/master/Extra/cover-small-padded.png\"/>\n",
    "\n",
    "This notebook contains the code to help readers work through one of the recipes of the book [Machine Learning with Amazon SageMaker Cookbook: 80 proven recipes for data scientists and developers to perform ML experiments and deployments](https://www.amazon.com/Machine-Learning-Amazon-SageMaker-Cookbook/dp/1800567030)"
   ]
  },
  {
   "cell_type": "markdown",
   "id": "e6c20f16",
   "metadata": {},
   "source": [
    "### How to do it..."
   ]
  },
  {
   "cell_type": "code",
   "execution_count": null,
   "id": "c86ca9c8",
   "metadata": {
    "scrolled": true
   },
   "outputs": [],
   "source": [
    "!pip install sagemaker-experiments"
   ]
  },
  {
   "cell_type": "code",
   "execution_count": null,
   "id": "be5abcf0",
   "metadata": {},
   "outputs": [],
   "source": [
    "from smexperiments.experiment import Experiment\n",
    "from smexperiments.trial import Trial\n",
    "from smexperiments.trial_component import TrialComponent\n",
    "from smexperiments.tracker import Tracker"
   ]
  },
  {
   "cell_type": "code",
   "execution_count": null,
   "id": "d4c5709e",
   "metadata": {},
   "outputs": [],
   "source": [
    "for experiment_summary in Experiment.list():\n",
    "    print(experiment_summary)"
   ]
  },
  {
   "cell_type": "code",
   "execution_count": null,
   "id": "5375c7d8",
   "metadata": {},
   "outputs": [],
   "source": [
    "experiment_summary"
   ]
  },
  {
   "cell_type": "code",
   "execution_count": null,
   "id": "d94206af",
   "metadata": {},
   "outputs": [],
   "source": [
    "dir(experiment_summary)"
   ]
  },
  {
   "cell_type": "code",
   "execution_count": null,
   "id": "0eb60ef0",
   "metadata": {},
   "outputs": [],
   "source": [
    "experiment_summary.__dict__"
   ]
  },
  {
   "cell_type": "code",
   "execution_count": null,
   "id": "636bd550",
   "metadata": {},
   "outputs": [],
   "source": [
    "dir(Experiment)"
   ]
  },
  {
   "cell_type": "code",
   "execution_count": null,
   "id": "bb24f992",
   "metadata": {},
   "outputs": [],
   "source": [
    "experiment = Experiment.load(\n",
    "    experiment_summary.experiment_name\n",
    ")\n",
    "\n",
    "experiment"
   ]
  },
  {
   "cell_type": "code",
   "execution_count": null,
   "id": "75cdb8da",
   "metadata": {},
   "outputs": [],
   "source": [
    "experiment.__dict__"
   ]
  },
  {
   "cell_type": "code",
   "execution_count": null,
   "id": "98d5a80a",
   "metadata": {},
   "outputs": [],
   "source": [
    "dir(experiment)"
   ]
  },
  {
   "cell_type": "code",
   "execution_count": null,
   "id": "6cfd0e09",
   "metadata": {},
   "outputs": [],
   "source": [
    "experiment_trials = list(\n",
    "    experiment.list_trials()\n",
    ")\n",
    "\n",
    "experiment_trials"
   ]
  },
  {
   "cell_type": "code",
   "execution_count": null,
   "id": "04fc980c",
   "metadata": {},
   "outputs": [],
   "source": [
    "experiment_trials[0]"
   ]
  },
  {
   "cell_type": "code",
   "execution_count": null,
   "id": "ac5fc120",
   "metadata": {},
   "outputs": [],
   "source": [
    "experiment_trials[0].__dict__"
   ]
  },
  {
   "cell_type": "code",
   "execution_count": null,
   "id": "bd71e142",
   "metadata": {},
   "outputs": [],
   "source": [
    "trial = Trial.load(experiment_trials[0].trial_name)\n",
    "trial"
   ]
  },
  {
   "cell_type": "code",
   "execution_count": null,
   "id": "f4448ac1",
   "metadata": {},
   "outputs": [],
   "source": [
    "trial.__dict__"
   ]
  },
  {
   "cell_type": "code",
   "execution_count": null,
   "id": "6bd3dcee",
   "metadata": {},
   "outputs": [],
   "source": [
    "dir(trial)"
   ]
  },
  {
   "cell_type": "code",
   "execution_count": null,
   "id": "30f75645",
   "metadata": {},
   "outputs": [],
   "source": [
    "trial_component_summary_list = list(\n",
    "    trial.list_trial_components()\n",
    ")\n",
    "\n",
    "trial_component_summary_list"
   ]
  },
  {
   "cell_type": "code",
   "execution_count": null,
   "id": "dfb08030",
   "metadata": {},
   "outputs": [],
   "source": [
    "trial_component_summary = trial_component_summary_list[0]\n",
    "tc_name = trial_component_summary.trial_component_name\n",
    "\n",
    "trial_component = TrialComponent.load(\n",
    "    trial_component_name=tc_name)\n",
    "\n",
    "trial_component"
   ]
  },
  {
   "cell_type": "code",
   "execution_count": null,
   "id": "1f3e15f3",
   "metadata": {},
   "outputs": [],
   "source": [
    "trial_component.__dict__"
   ]
  },
  {
   "cell_type": "code",
   "execution_count": null,
   "id": "934c07d0",
   "metadata": {},
   "outputs": [],
   "source": [
    "dir(trial_component)"
   ]
  },
  {
   "cell_type": "code",
   "execution_count": null,
   "id": "6618df5a",
   "metadata": {},
   "outputs": [],
   "source": [
    "trial_component.input_artifacts"
   ]
  },
  {
   "cell_type": "code",
   "execution_count": null,
   "id": "865c056a",
   "metadata": {},
   "outputs": [],
   "source": [
    "trial_component.output_artifacts"
   ]
  },
  {
   "cell_type": "code",
   "execution_count": null,
   "id": "13387b67",
   "metadata": {},
   "outputs": [],
   "source": [
    "trial_component.parameters"
   ]
  },
  {
   "cell_type": "code",
   "execution_count": null,
   "id": "be07a927",
   "metadata": {},
   "outputs": [],
   "source": [
    "trial_component.metrics"
   ]
  }
 ],
 "metadata": {
  "kernelspec": {
   "display_name": "conda_python3",
   "language": "python",
   "name": "conda_python3"
  },
  "language_info": {
   "codemirror_mode": {
    "name": "ipython",
    "version": 3
   },
   "file_extension": ".py",
   "mimetype": "text/x-python",
   "name": "python",
   "nbconvert_exporter": "python",
   "pygments_lexer": "ipython3",
   "version": "3.6.13"
  }
 },
 "nbformat": 4,
 "nbformat_minor": 5
}
