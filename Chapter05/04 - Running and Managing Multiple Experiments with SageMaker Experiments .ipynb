{
 "cells": [
  {
   "cell_type": "markdown",
   "id": "05341ac1",
   "metadata": {},
   "source": [
    "# Running and Managing Multiple Experiments with SageMaker Experiments"
   ]
  },
  {
   "cell_type": "markdown",
   "id": "19f8738b",
   "metadata": {},
   "source": [
    "<img align=\"left\" width=\"130\" src=\"https://raw.githubusercontent.com/PacktPublishing/Amazon-SageMaker-Cookbook/master/Extra/cover-small-padded.png\"/>\n",
    "\n",
    "This notebook contains the code to help readers work through one of the recipes of the book [Machine Learning with Amazon SageMaker Cookbook: 80 proven recipes for data scientists and developers to perform ML experiments and deployments](https://www.amazon.com/Machine-Learning-Amazon-SageMaker-Cookbook/dp/1800567030)"
   ]
  },
  {
   "cell_type": "markdown",
   "id": "8b87c553",
   "metadata": {},
   "source": [
    "### How to do it..."
   ]
  },
  {
   "cell_type": "code",
   "execution_count": null,
   "id": "ebbe30b5",
   "metadata": {},
   "outputs": [],
   "source": [
    "import sagemaker, boto3\n",
    "\n",
    "session = boto3.Session()\n",
    "sagemaker_session = sagemaker.Session(boto_session=session)\n",
    "sagemaker_client = session.client('sagemaker')\n",
    "role = sagemaker.get_execution_role()"
   ]
  },
  {
   "cell_type": "code",
   "execution_count": null,
   "id": "9090f604",
   "metadata": {},
   "outputs": [],
   "source": [
    "import time, os, sys\n",
    "import numpy as np\n",
    "import pandas as pd\n",
    "import itertools\n",
    "\n",
    "from pprint import pprint"
   ]
  },
  {
   "cell_type": "code",
   "execution_count": null,
   "id": "aed2a221",
   "metadata": {},
   "outputs": [],
   "source": [
    "!pip install sagemaker-experiments"
   ]
  },
  {
   "cell_type": "code",
   "execution_count": null,
   "id": "f6673c6f",
   "metadata": {},
   "outputs": [],
   "source": [
    "from smexperiments.experiment import Experiment\n",
    "from smexperiments.trial import Trial\n",
    "from smexperiments.trial_component import TrialComponent\n",
    "from smexperiments.tracker import Tracker"
   ]
  },
  {
   "cell_type": "code",
   "execution_count": null,
   "id": "a3550f7c",
   "metadata": {},
   "outputs": [],
   "source": [
    "import random\n",
    "import string\n",
    "\n",
    "def generate_random_string():\n",
    "    list_of_chars = random.choices(\n",
    "        string.ascii_uppercase, \n",
    "        k=10)\n",
    "    return ''.join(list_of_chars)"
   ]
  },
  {
   "cell_type": "code",
   "execution_count": null,
   "id": "ce3c1976",
   "metadata": {},
   "outputs": [],
   "source": [
    "label = generate_random_string() \n",
    "training_experiment = Experiment.create(\n",
    "    experiment_name = f\"experiment-{label}\",\n",
    "    description     = \"Experiment Description\",\n",
    "    sagemaker_boto_client=sagemaker_client)"
   ]
  },
  {
   "cell_type": "code",
   "execution_count": null,
   "id": "429a95ed",
   "metadata": {},
   "outputs": [],
   "source": [
    "hyperparam_options = {\n",
    "    'max_depth': [2, 8],\n",
    "    'eta': [0.2],\n",
    "    'gamma': [3, 4],\n",
    "    'min_child_weight': [6],\n",
    "    'subsample': [0.4],\n",
    "    'num_round': [10, 20],\n",
    "    'objective': ['binary:logistic']\n",
    "}"
   ]
  },
  {
   "cell_type": "code",
   "execution_count": null,
   "id": "e0325920",
   "metadata": {},
   "outputs": [],
   "source": [
    "def prepare_hyperparam_variations(options):\n",
    "    names, values = zip(*options.items())\n",
    "    return [dict(zip(names, value)) \n",
    "            for value in itertools.product(*values)]"
   ]
  },
  {
   "cell_type": "code",
   "execution_count": null,
   "id": "38165fee",
   "metadata": {},
   "outputs": [],
   "source": [
    "hyperparam_variations = prepare_hyperparam_variations(\n",
    "    hyperparam_options\n",
    ")\n",
    "\n",
    "hyperparam_variations"
   ]
  },
  {
   "cell_type": "code",
   "execution_count": null,
   "id": "9e7f9e79",
   "metadata": {},
   "outputs": [],
   "source": [
    "s3_bucket = 'sagemaker-cookbook-bucket'\n",
    "prefix = \"chapter05\"\n",
    "\n",
    "s3_bucket = \"sagemaker-cookbook-bucket\"\n",
    "prefix = \"chapter05\"\n",
    "path = f\"s3://{s3_bucket}/{prefix}/input\"\n",
    "training_path = f\"{path}/training_data.csv\" \n",
    "validation_path = f\"{path}/validation_data.csv\" \n",
    "output_path = f\"s3://{s3_bucket}/{prefix}/output/\""
   ]
  },
  {
   "cell_type": "code",
   "execution_count": null,
   "id": "c06d4b94",
   "metadata": {},
   "outputs": [],
   "source": [
    "from sagemaker.image_uris import retrieve\n",
    "container = retrieve('xgboost', \n",
    "                     boto3.Session().region_name, \n",
    "                     version=\"0.90-2\")\n",
    "container"
   ]
  },
  {
   "cell_type": "code",
   "execution_count": null,
   "id": "c315a9ec",
   "metadata": {},
   "outputs": [],
   "source": [
    "from sagemaker.inputs import TrainingInput\n",
    "    \n",
    "s3_input_training = TrainingInput(training_path, \n",
    "                                  content_type=\"text/csv\")\n",
    "\n",
    "s3_input_validation = TrainingInput(validation_path, \n",
    "                                    content_type=\"text/csv\")"
   ]
  },
  {
   "cell_type": "code",
   "execution_count": null,
   "id": "e5d05783",
   "metadata": {},
   "outputs": [],
   "source": [
    "with Tracker.create(\n",
    "    display_name=\"xgboost-experiment-display-name\", \n",
    "    artifact_bucket=s3_bucket,\n",
    "    artifact_prefix=training_experiment.experiment_name,\n",
    "    sagemaker_boto_client=sagemaker_client\n",
    ") as experiment_tracker:    \n",
    "    experiment_tracker.log_input(name=\"training-input\", \n",
    "                                 media_type=\"s3/uri\", \n",
    "                                 value=training_path)\n",
    "    \n",
    "    experiment_tracker.log_input(name=\"validation-input\", \n",
    "                                 media_type=\"s3/uri\", \n",
    "                                 value=validation_path)\n",
    "    \n",
    "    experiment_tracker.log_parameters(hyperparam_options)"
   ]
  },
  {
   "cell_type": "code",
   "execution_count": null,
   "id": "7dca24e8",
   "metadata": {},
   "outputs": [],
   "source": [
    "experiment_tracker.__dict__"
   ]
  },
  {
   "cell_type": "code",
   "execution_count": null,
   "id": "d5d105e8",
   "metadata": {},
   "outputs": [],
   "source": [
    "def track_and_generate_config(\n",
    "    experiment_tracker, \n",
    "    experiment_name, \n",
    "    job_name, \n",
    "    random_string, \n",
    "    hyperparameters):\n",
    "    \n",
    "    tracker_display_name = f\"trial-metadata-{random_string}\"\n",
    "    print(f\"{label} Create Tracker: {tracker_display_name}\")\n",
    "    \n",
    "    with Tracker.create(\n",
    "        display_name=tracker_display_name,\n",
    "        artifact_bucket=\"sagemaker-cookbook-bucket\",\n",
    "        artifact_prefix=f\"{experiment_name}/{job_name}\",\n",
    "        sagemaker_boto_client=sagemaker_client\n",
    "    ) as trial_tracker:\n",
    "        \n",
    "        trial_tracker.log_parameters(hyperparameters)\n",
    "\n",
    "    trial_name = f'trial-{random_string}'\n",
    "    print(f\"Create Trial: {trial_name}\")\n",
    "    \n",
    "    trial = Trial.create(\n",
    "        trial_name=trial_name, \n",
    "        experiment_name=experiment_name,\n",
    "        sagemaker_boto_client=sagemaker_client)\n",
    "    \n",
    "    trial.add_trial_component(\n",
    "        experiment_tracker.trial_component)\n",
    "    time.sleep(1) \n",
    "    trial.add_trial_component(\n",
    "        trial_tracker.trial_component)\n",
    "    \n",
    "    print(f\"Prepare Experiment Configuration\")\n",
    "\n",
    "    return {\n",
    "        \"ExperimentName\": experiment_name, \n",
    "        \"TrialName\": trial.trial_name,\n",
    "        \"TrialComponentDisplayName\": job_name\n",
    "    }"
   ]
  },
  {
   "cell_type": "code",
   "execution_count": null,
   "id": "b1e9ec05",
   "metadata": {},
   "outputs": [],
   "source": [
    "import time\n",
    "\n",
    "experiment_name = training_experiment.experiment_name\n",
    "\n",
    "for index, hyperparameters in enumerate(\n",
    "    hyperparam_variations\n",
    "):\n",
    "    iteration = index + 1\n",
    "    print(f\"Iteration # {iteration}\")\n",
    "    label = f\"[Iteration # {iteration}]\"\n",
    "    random_string = generate_random_string()\n",
    "    job_name = f\"job-{random_string}\"\n",
    "    \n",
    "    print(f\"{label} Track and Generate Config\")\n",
    "    experiment_config = track_and_generate_config(\n",
    "        experiment_tracker=experiment_tracker,\n",
    "        experiment_name=experiment_name,\n",
    "        job_name=job_name,\n",
    "        random_string=random_string,\n",
    "        hyperparameters=hyperparameters)\n",
    "    \n",
    "    time.sleep(1)\n",
    "    print(f\"{label} Initialize Estimator\")\n",
    "    estimator = sagemaker.estimator.Estimator( \n",
    "        container,\n",
    "        role,\n",
    "        instance_count=1, \n",
    "        instance_type='ml.m5.large', \n",
    "        output_path=output_path, \n",
    "        hyperparameters=hyperparameters,\n",
    "        enable_sagemaker_metrics = True,\n",
    "        sagemaker_session=sagemaker_session\n",
    "    )\n",
    "    \n",
    "    print(f\"{label} Call fit() function\")\n",
    "    estimator.fit({'train': s3_input_training, \n",
    "                   'validation': s3_input_validation},\n",
    "                   job_name = job_name, \n",
    "                   wait=False,\n",
    "                   experiment_config=experiment_config)"
   ]
  },
  {
   "cell_type": "code",
   "execution_count": null,
   "id": "9bf6f4e3",
   "metadata": {},
   "outputs": [],
   "source": [
    "experiment_name = training_experiment.experiment_name\n",
    "experiment_name"
   ]
  },
  {
   "cell_type": "code",
   "execution_count": null,
   "id": "b6e16acb",
   "metadata": {},
   "outputs": [],
   "source": [
    "%store experiment_name"
   ]
  }
 ],
 "metadata": {
  "kernelspec": {
   "display_name": "conda_python3",
   "language": "python",
   "name": "conda_python3"
  },
  "language_info": {
   "codemirror_mode": {
    "name": "ipython",
    "version": 3
   },
   "file_extension": ".py",
   "mimetype": "text/x-python",
   "name": "python",
   "nbconvert_exporter": "python",
   "pygments_lexer": "ipython3",
   "version": "3.6.13"
  }
 },
 "nbformat": 4,
 "nbformat_minor": 5
}
