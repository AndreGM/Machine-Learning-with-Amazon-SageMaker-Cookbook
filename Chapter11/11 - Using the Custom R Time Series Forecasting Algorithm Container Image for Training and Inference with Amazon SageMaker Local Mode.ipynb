{
 "cells": [
  {
   "cell_type": "code",
   "execution_count": null,
   "id": "severe-track",
   "metadata": {},
   "outputs": [],
   "source": [
    "cmd <- function(bash_command) {\n",
    "    output <- system(bash_command, intern=TRUE)\n",
    "    last_line = \"\"\n",
    "    \n",
    "    for (line in output) { \n",
    "        cat(line)\n",
    "        cat(\"\\n\")\n",
    "        last_line = line \n",
    "    }\n",
    "    \n",
    "    return(last_line) \n",
    "}"
   ]
  },
  {
   "cell_type": "code",
   "execution_count": null,
   "id": "cathedral-modeling",
   "metadata": {},
   "outputs": [],
   "source": [
    "cmd(\"pip install 'sagemaker[local]' --upgrade\")"
   ]
  },
  {
   "cell_type": "code",
   "execution_count": null,
   "id": "starting-rescue",
   "metadata": {},
   "outputs": [],
   "source": [
    "s3.bucket <- \"sagemaker-cookbook-bucket\"\n",
    "prefix <- \"chapter11\"\n",
    "\n",
    "training.s3_input_location <- paste0(\"s3://\", s3.bucket, \"/\", prefix ,\"/input/train.r.json\")\n",
    "training.s3_output_location <- paste0(\"s3://\", s3.bucket, \"/\", prefix ,\"/output/\")"
   ]
  },
  {
   "cell_type": "code",
   "execution_count": null,
   "id": "comfortable-dylan",
   "metadata": {},
   "outputs": [],
   "source": [
    "# optionally you can do this\n",
    "training.s3_input_location <- readRDS(\"tmp/s3.path\")\n",
    "training.s3_input_location"
   ]
  },
  {
   "cell_type": "code",
   "execution_count": null,
   "id": "democratic-lecture",
   "metadata": {},
   "outputs": [],
   "source": [
    "library('reticulate')\n",
    "\n",
    "sagemaker <- import('sagemaker')"
   ]
  },
  {
   "cell_type": "code",
   "execution_count": null,
   "id": "electrical-minneapolis",
   "metadata": {},
   "outputs": [],
   "source": [
    "container <- \"581320662326.dkr.ecr.us-east-1.amazonaws.com/r-forecast:1\""
   ]
  },
  {
   "cell_type": "code",
   "execution_count": null,
   "id": "familiar-graham",
   "metadata": {},
   "outputs": [],
   "source": [
    "role <- sagemaker$get_execution_role()"
   ]
  },
  {
   "cell_type": "code",
   "execution_count": null,
   "id": "visible-choir",
   "metadata": {},
   "outputs": [],
   "source": [
    "LocalSession <- sagemaker$local$LocalSession\n",
    "\n",
    "session <- LocalSession()\n",
    "session$config <- list(local=list(local_code=TRUE))"
   ]
  },
  {
   "cell_type": "code",
   "execution_count": null,
   "id": "instrumental-teacher",
   "metadata": {},
   "outputs": [],
   "source": [
    "TrainingInput <- sagemaker$inputs$TrainingInput\n",
    "\n",
    "sagemaker.train_input <- TrainingInput(training.s3_input_location, content_type=\"application/json\")"
   ]
  },
  {
   "cell_type": "code",
   "execution_count": null,
   "id": "spiritual-pantyhose",
   "metadata": {},
   "outputs": [],
   "source": [
    "Estimator <- sagemaker$estimator$Estimator\n",
    "\n",
    "estimator <- Estimator(\n",
    "    container,\n",
    "    role, \n",
    "    instance_count=1L, \n",
    "    instance_type=\"local\",\n",
    "    output_path=training.s3_output_location,\n",
    "    sagemaker_session=session)"
   ]
  },
  {
   "cell_type": "code",
   "execution_count": null,
   "id": "annual-response",
   "metadata": {},
   "outputs": [],
   "source": [
    "# estimator$set_hyperparameters(a=1L, b=2L, c=3L)"
   ]
  },
  {
   "cell_type": "code",
   "execution_count": null,
   "id": "liquid-intensity",
   "metadata": {},
   "outputs": [],
   "source": [
    "estimator$fit(list(train = sagemaker.train_input))"
   ]
  },
  {
   "cell_type": "code",
   "execution_count": null,
   "id": "cheap-thesaurus",
   "metadata": {},
   "outputs": [],
   "source": [
    "estimator$model_data"
   ]
  },
  {
   "cell_type": "code",
   "execution_count": null,
   "id": "czech-shark",
   "metadata": {},
   "outputs": [],
   "source": [
    "predictor <- estimator$deploy(\n",
    "    initial_instance_count=1L,\n",
    "    instance_type=\"local\",\n",
    "    endpoint_name=\"custom-local-r-forecast-endpoint\"\n",
    ")"
   ]
  },
  {
   "cell_type": "code",
   "execution_count": null,
   "id": "molecular-uncle",
   "metadata": {},
   "outputs": [],
   "source": [
    "response <- predictor$predict(\"100\")\n",
    "response"
   ]
  },
  {
   "cell_type": "code",
   "execution_count": null,
   "id": "general-earthquake",
   "metadata": {},
   "outputs": [],
   "source": [
    "library('rjson')"
   ]
  },
  {
   "cell_type": "code",
   "execution_count": null,
   "id": "technical-packet",
   "metadata": {},
   "outputs": [],
   "source": [
    "endpoint.values <- fromJSON(toString(response))\n",
    "endpoint.values"
   ]
  },
  {
   "cell_type": "code",
   "execution_count": null,
   "id": "smaller-locking",
   "metadata": {},
   "outputs": [],
   "source": [
    "library(forecast)\n",
    "\n",
    "tmp.x <- ts(endpoint.values$x.values, \n",
    "            start=endpoint.values$x.start, \n",
    "            frequency=endpoint.values$x.frequency)\n",
    "\n",
    "tmp.mean <- ts(endpoint.values$mean.values, \n",
    "               start=endpoint.values$mean.start, \n",
    "               frequency=endpoint.values$mean.frequency)\n",
    "\n",
    "tmp=list(x=tmp.x, mean=tmp.mean)\n",
    "\n",
    "tmp.forecast <- structure(tmp, class=\"forecast\")\n",
    "tmp.forecast"
   ]
  },
  {
   "cell_type": "code",
   "execution_count": null,
   "id": "turned-horizon",
   "metadata": {},
   "outputs": [],
   "source": [
    "options(repr.plot.width=15, repr.plot.height=6)\n",
    "tmp.forecast %>% autoplot()"
   ]
  },
  {
   "cell_type": "code",
   "execution_count": null,
   "id": "constant-palace",
   "metadata": {},
   "outputs": [],
   "source": [
    "predictor$delete_endpoint()"
   ]
  }
 ],
 "metadata": {
  "kernelspec": {
   "display_name": "R",
   "language": "R",
   "name": "ir"
  },
  "language_info": {
   "codemirror_mode": "r",
   "file_extension": ".r",
   "mimetype": "text/x-r-source",
   "name": "R",
   "pygments_lexer": "r",
   "version": "4.0.3"
  }
 },
 "nbformat": 4,
 "nbformat_minor": 5
}
