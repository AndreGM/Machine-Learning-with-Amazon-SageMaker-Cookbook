{
 "cells": [
  {
   "cell_type": "markdown",
   "id": "ba9c1da8",
   "metadata": {},
   "source": [
    "# Training and Deploying a scikit-learn model with Amazon SageMaker Local Mode"
   ]
  },
  {
   "cell_type": "markdown",
   "id": "3b7ca39c",
   "metadata": {},
   "source": [
    "<img align=\"left\" width=\"130\" src=\"https://raw.githubusercontent.com/PacktPublishing/Amazon-SageMaker-Cookbook/master/Extra/cover-small-padded.png\"/>\n",
    "\n",
    "This notebook contains the code to help readers work through one of the recipes of the book [Machine Learning with Amazon SageMaker Cookbook: 80 proven recipes for data scientists and developers to perform ML experiments and deployments](https://www.amazon.com/Machine-Learning-Amazon-SageMaker-Cookbook/dp/1800567030)"
   ]
  },
  {
   "cell_type": "markdown",
   "id": "60604447",
   "metadata": {},
   "source": [
    "### How to do it..."
   ]
  },
  {
   "cell_type": "code",
   "execution_count": null,
   "id": "76c5dd8e",
   "metadata": {},
   "outputs": [],
   "source": [
    "!pip install 'sagemaker[local]' --upgrade"
   ]
  },
  {
   "cell_type": "code",
   "execution_count": null,
   "id": "e05c76f6",
   "metadata": {},
   "outputs": [],
   "source": [
    "!sudo service docker restart"
   ]
  },
  {
   "cell_type": "code",
   "execution_count": null,
   "id": "251bbc1e",
   "metadata": {},
   "outputs": [],
   "source": [
    "!docker rmi -f $(docker images -a -q)"
   ]
  },
  {
   "cell_type": "code",
   "execution_count": null,
   "id": "ac74d815",
   "metadata": {},
   "outputs": [],
   "source": [
    "s3_bucket = 'sagemaker-cookbook-bucket'\n",
    "prefix = 'chapter03'"
   ]
  },
  {
   "cell_type": "code",
   "execution_count": null,
   "id": "d7c2ffbe",
   "metadata": {},
   "outputs": [],
   "source": [
    "train_s3 = \\\n",
    "f\"s3://{s3_bucket}/{prefix}/synthetic/training_data.csv\" "
   ]
  },
  {
   "cell_type": "code",
   "execution_count": null,
   "id": "7fb889d1",
   "metadata": {},
   "outputs": [],
   "source": [
    "from sagemaker.inputs import TrainingInput\n",
    "    \n",
    "train_input = TrainingInput(train_s3, content_type=\"text/csv\")"
   ]
  },
  {
   "cell_type": "code",
   "execution_count": null,
   "id": "c992bd6d",
   "metadata": {},
   "outputs": [],
   "source": [
    "import os\n",
    "import sagemaker\n",
    "from sagemaker import get_execution_role\n",
    "from sagemaker.local import LocalSession\n",
    "\n",
    "sagemaker_session = LocalSession()\n",
    "sagemaker_session.config = {'local': {'local_code': True}}\n",
    "\n",
    "role = get_execution_role()"
   ]
  },
  {
   "cell_type": "code",
   "execution_count": null,
   "id": "9ee1a97d",
   "metadata": {},
   "outputs": [],
   "source": [
    "from sagemaker.sklearn.estimator import SKLearn\n",
    "\n",
    "estimator = SKLearn(entry_point='sklearn_script.py',\n",
    "                    session=sagemaker_session,\n",
    "                    role=role,\n",
    "                    instance_type='local',\n",
    "                    instance_count=1,\n",
    "                    py_version='py3',\n",
    "                    framework_version='0.20.0')"
   ]
  },
  {
   "cell_type": "code",
   "execution_count": null,
   "id": "6d5c7935",
   "metadata": {},
   "outputs": [],
   "source": [
    "estimator.fit({'train': train_input})"
   ]
  },
  {
   "cell_type": "code",
   "execution_count": null,
   "id": "f311ac91",
   "metadata": {},
   "outputs": [],
   "source": [
    "predictor = estimator.deploy(initial_instance_count=1, instance_type='local')"
   ]
  },
  {
   "cell_type": "code",
   "execution_count": null,
   "id": "cf30e78b",
   "metadata": {},
   "outputs": [],
   "source": [
    "import numpy as np\n",
    "\n",
    "input_data = np.array([[100], [200]], dtype=np.float32)\n",
    "result = predictor.predict(input_data)\n",
    "\n",
    "result"
   ]
  },
  {
   "cell_type": "code",
   "execution_count": null,
   "id": "51e48586",
   "metadata": {},
   "outputs": [],
   "source": [
    "!mkdir -p tmp"
   ]
  },
  {
   "cell_type": "code",
   "execution_count": null,
   "id": "678e0569",
   "metadata": {},
   "outputs": [],
   "source": [
    "all_s3 = \\\n",
    "f\"s3://{s3_bucket}/{prefix}/synthetic/all_data.csv\" \n",
    "!aws s3 cp {all_s3} tmp/all_data.csv"
   ]
  },
  {
   "cell_type": "code",
   "execution_count": null,
   "id": "570ce14f",
   "metadata": {},
   "outputs": [],
   "source": [
    "import pandas as pd\n",
    "\n",
    "all_data = pd.read_csv(\"tmp/all_data.csv\", header=None)\n",
    "x = all_data[[1]].values\n",
    "y = all_data[[0]].values"
   ]
  },
  {
   "cell_type": "code",
   "execution_count": null,
   "id": "ad426252",
   "metadata": {},
   "outputs": [],
   "source": [
    "from numpy import arange\n",
    "\n",
    "line_x = arange(-5000, 5000, 10)\n",
    "line_x"
   ]
  },
  {
   "cell_type": "code",
   "execution_count": null,
   "id": "e6f246a6",
   "metadata": {},
   "outputs": [],
   "source": [
    "input_data = np.array(line_x.reshape(-1, 1), dtype=np.float32)\n",
    "result = predictor.predict(input_data)\n",
    "\n",
    "result"
   ]
  },
  {
   "cell_type": "code",
   "execution_count": null,
   "id": "2e3d7222",
   "metadata": {},
   "outputs": [],
   "source": [
    "line_y = result\n",
    "line_y"
   ]
  },
  {
   "cell_type": "code",
   "execution_count": null,
   "id": "cba54978",
   "metadata": {},
   "outputs": [],
   "source": [
    "from matplotlib import pyplot\n",
    "pyplot.plot(line_x, line_y, 'r')\n",
    "pyplot.scatter(x,y,s=1)\n",
    "pyplot.show()"
   ]
  },
  {
   "cell_type": "code",
   "execution_count": null,
   "id": "0065530b",
   "metadata": {},
   "outputs": [],
   "source": [
    "predictor.delete_endpoint()"
   ]
  }
 ],
 "metadata": {
  "kernelspec": {
   "display_name": "conda_python3",
   "language": "python",
   "name": "conda_python3"
  },
  "language_info": {
   "codemirror_mode": {
    "name": "ipython",
    "version": 3
   },
   "file_extension": ".py",
   "mimetype": "text/x-python",
   "name": "python",
   "nbconvert_exporter": "python",
   "pygments_lexer": "ipython3",
   "version": "3.6.13"
  }
 },
 "nbformat": 4,
 "nbformat_minor": 5
}
