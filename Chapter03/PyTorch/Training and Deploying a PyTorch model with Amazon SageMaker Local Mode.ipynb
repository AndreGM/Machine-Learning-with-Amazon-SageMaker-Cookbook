{
 "cells": [
  {
   "cell_type": "markdown",
   "id": "a0b00ab9",
   "metadata": {},
   "source": [
    "# Training and Deploying a PyTorch model with Amazon SageMaker Local Mode"
   ]
  },
  {
   "cell_type": "markdown",
   "id": "8214b2f4",
   "metadata": {},
   "source": [
    "<img align=\"left\" width=\"130\" src=\"https://raw.githubusercontent.com/PacktPublishing/Amazon-SageMaker-Cookbook/master/Extra/cover-small-padded.png\"/>\n",
    "\n",
    "This notebook contains the code to help readers work through one of the recipes of the book [Machine Learning with Amazon SageMaker Cookbook: 80 proven recipes for data scientists and developers to perform ML experiments and deployments](https://www.amazon.com/Machine-Learning-Amazon-SageMaker-Cookbook/dp/1800567030)"
   ]
  },
  {
   "cell_type": "markdown",
   "id": "8fc33d5e",
   "metadata": {},
   "source": [
    "### How to do it..."
   ]
  },
  {
   "cell_type": "code",
   "execution_count": null,
   "id": "a96e2201",
   "metadata": {},
   "outputs": [],
   "source": [
    "!pip install 'sagemaker[local]' --upgrade"
   ]
  },
  {
   "cell_type": "code",
   "execution_count": null,
   "id": "af0bfd40",
   "metadata": {},
   "outputs": [],
   "source": [
    "!sudo service docker restart"
   ]
  },
  {
   "cell_type": "code",
   "execution_count": null,
   "id": "6da4c0b0",
   "metadata": {},
   "outputs": [],
   "source": [
    "!docker rmi -f $(docker images -a -q)"
   ]
  },
  {
   "cell_type": "code",
   "execution_count": null,
   "id": "b952b5cb",
   "metadata": {},
   "outputs": [],
   "source": [
    "s3_bucket = '<insert s3 bucket name here>'\n",
    "prefix = 'chapter03'"
   ]
  },
  {
   "cell_type": "code",
   "execution_count": null,
   "id": "dccf2417",
   "metadata": {},
   "outputs": [],
   "source": [
    "train_s3 = \\\n",
    "f\"s3://{s3_bucket}/{prefix}/synthetic/training_data.csv\" "
   ]
  },
  {
   "cell_type": "code",
   "execution_count": null,
   "id": "fab2d3bd",
   "metadata": {},
   "outputs": [],
   "source": [
    "from sagemaker.inputs import TrainingInput\n",
    "    \n",
    "train_input = TrainingInput(train_s3, content_type=\"text/csv\")"
   ]
  },
  {
   "cell_type": "code",
   "execution_count": null,
   "id": "32475c13",
   "metadata": {},
   "outputs": [],
   "source": [
    "import os\n",
    "import sagemaker\n",
    "from sagemaker import get_execution_role\n",
    "from sagemaker.local import LocalSession\n",
    "\n",
    "sagemaker_session = LocalSession()\n",
    "sagemaker_session.config = {'local': {'local_code': True}}\n",
    "role = get_execution_role()"
   ]
  },
  {
   "cell_type": "code",
   "execution_count": null,
   "id": "7b571e63",
   "metadata": {},
   "outputs": [],
   "source": [
    "from sagemaker.pytorch import PyTorch\n",
    "\n",
    "estimator = PyTorch(entry_point='pytorch_training.py',\n",
    "                    session=sagemaker_session,\n",
    "                    role=role,\n",
    "                    instance_count=1,\n",
    "                    instance_type='local',\n",
    "                    framework_version='1.5.0',\n",
    "                    py_version='py3')"
   ]
  },
  {
   "cell_type": "code",
   "execution_count": null,
   "id": "2ca67364",
   "metadata": {},
   "outputs": [],
   "source": [
    "estimator.fit({'train': train_input})"
   ]
  },
  {
   "cell_type": "code",
   "execution_count": null,
   "id": "e0fe6a9a",
   "metadata": {},
   "outputs": [],
   "source": [
    "from sagemaker.pytorch.model import PyTorchModel\n",
    "\n",
    "pytorch_model = PyTorchModel(model_data=estimator.model_data, \n",
    "                             role=role, \n",
    "                             entry_point='pytorch_inference.py', \n",
    "                             framework_version='1.5.0',\n",
    "                             py_version=\"py3\")"
   ]
  },
  {
   "cell_type": "code",
   "execution_count": null,
   "id": "8973859a",
   "metadata": {},
   "outputs": [],
   "source": [
    "predictor = pytorch_model.deploy(instance_type='local', \n",
    "                                 initial_instance_count=1)"
   ]
  },
  {
   "cell_type": "code",
   "execution_count": null,
   "id": "40c1b1ef",
   "metadata": {},
   "outputs": [],
   "source": [
    "import numpy as np\n",
    "\n",
    "predictor.predict(np.array([[100], [200]], dtype=np.float32))"
   ]
  },
  {
   "cell_type": "code",
   "execution_count": null,
   "id": "58b2f8b2",
   "metadata": {},
   "outputs": [],
   "source": [
    "!mkdir -p tmp"
   ]
  },
  {
   "cell_type": "code",
   "execution_count": null,
   "id": "0dbf77c9",
   "metadata": {},
   "outputs": [],
   "source": [
    "all_s3 = f\"s3://{s3_bucket}/{prefix}/synthetic/all_data.csv\" \n",
    "!aws s3 cp {all_s3} tmp/all_data.csv"
   ]
  },
  {
   "cell_type": "code",
   "execution_count": null,
   "id": "ee7c2b1e",
   "metadata": {},
   "outputs": [],
   "source": [
    "import pandas as pd\n",
    "\n",
    "all_data = pd.read_csv(\"tmp/all_data.csv\", header=None)\n",
    "x = all_data[[1]].values\n",
    "y = all_data[[0]].values"
   ]
  },
  {
   "cell_type": "code",
   "execution_count": null,
   "id": "b393ff98",
   "metadata": {},
   "outputs": [],
   "source": [
    "from numpy import arange\n",
    "\n",
    "line_x = arange(-5000, 5000, 10)\n",
    "line_x"
   ]
  },
  {
   "cell_type": "code",
   "execution_count": null,
   "id": "be565662",
   "metadata": {},
   "outputs": [],
   "source": [
    "input_data = np.array(line_x.reshape(-1, 1), dtype=np.float32)\n",
    "result = predictor.predict(input_data)\n",
    "\n",
    "result"
   ]
  },
  {
   "cell_type": "code",
   "execution_count": null,
   "id": "307a0797",
   "metadata": {},
   "outputs": [],
   "source": [
    "line_y = result"
   ]
  },
  {
   "cell_type": "code",
   "execution_count": null,
   "id": "97590e62",
   "metadata": {},
   "outputs": [],
   "source": [
    "from matplotlib import pyplot\n",
    "pyplot.plot(line_x, line_y, 'r')\n",
    "pyplot.scatter(x,y,s=1)\n",
    "pyplot.show()"
   ]
  },
  {
   "cell_type": "code",
   "execution_count": null,
   "id": "aeea484f",
   "metadata": {},
   "outputs": [],
   "source": [
    "predictor.delete_endpoint()"
   ]
  }
 ],
 "metadata": {
  "kernelspec": {
   "display_name": "conda_pytorch_p36",
   "language": "python",
   "name": "conda_pytorch_p36"
  },
  "language_info": {
   "codemirror_mode": {
    "name": "ipython",
    "version": 3
   },
   "file_extension": ".py",
   "mimetype": "text/x-python",
   "name": "python",
   "nbconvert_exporter": "python",
   "pygments_lexer": "ipython3",
   "version": "3.6.13"
  }
 },
 "nbformat": 4,
 "nbformat_minor": 5
}
