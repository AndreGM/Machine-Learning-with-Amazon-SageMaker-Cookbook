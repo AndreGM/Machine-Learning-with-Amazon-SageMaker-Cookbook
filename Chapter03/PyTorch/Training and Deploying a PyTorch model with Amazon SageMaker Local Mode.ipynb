{
 "cells": [
  {
   "cell_type": "markdown",
   "id": "ecbffc52",
   "metadata": {},
   "source": [
    "# Training and Deploying a PyTorch model with Amazon SageMaker Local Mode"
   ]
  },
  {
   "cell_type": "markdown",
   "id": "4647d50c",
   "metadata": {},
   "source": [
    "<img align=\"left\" width=\"130\" src=\"https://raw.githubusercontent.com/PacktPublishing/Amazon-SageMaker-Cookbook/master/Extra/cover-small-padded.png\"/>\n",
    "\n",
    "This notebook contains the code to help readers work through one of the recipes of the book [Machine Learning with Amazon SageMaker Cookbook: 80 proven recipes for data scientists and developers to perform ML experiments and deployments](https://www.amazon.com/Machine-Learning-Amazon-SageMaker-Cookbook/dp/1800567030)"
   ]
  },
  {
   "cell_type": "markdown",
   "id": "2830111b",
   "metadata": {},
   "source": [
    "### How to do it..."
   ]
  },
  {
   "cell_type": "code",
   "execution_count": null,
   "id": "dc8b9ae9",
   "metadata": {},
   "outputs": [],
   "source": [
    "!pip install 'sagemaker[local]' --upgrade"
   ]
  },
  {
   "cell_type": "code",
   "execution_count": null,
   "id": "23b0c8c1",
   "metadata": {},
   "outputs": [],
   "source": [
    "!sudo service docker restart"
   ]
  },
  {
   "cell_type": "code",
   "execution_count": null,
   "id": "962c31e0",
   "metadata": {},
   "outputs": [],
   "source": [
    "!docker rmi -f $(docker images -a -q)"
   ]
  },
  {
   "cell_type": "code",
   "execution_count": null,
   "id": "5ed74c4b",
   "metadata": {},
   "outputs": [],
   "source": [
    "s3_bucket = 'sagemaker-cookbook-bucket'\n",
    "prefix = 'chapter03'"
   ]
  },
  {
   "cell_type": "code",
   "execution_count": null,
   "id": "eff55a04",
   "metadata": {},
   "outputs": [],
   "source": [
    "train_s3 = \\\n",
    "f\"s3://{s3_bucket}/{prefix}/synthetic/training_data.csv\" "
   ]
  },
  {
   "cell_type": "code",
   "execution_count": null,
   "id": "02de48b5",
   "metadata": {},
   "outputs": [],
   "source": [
    "from sagemaker.inputs import TrainingInput\n",
    "    \n",
    "train_input = TrainingInput(train_s3, content_type=\"text/csv\")"
   ]
  },
  {
   "cell_type": "code",
   "execution_count": null,
   "id": "e38211a4",
   "metadata": {},
   "outputs": [],
   "source": [
    "import os\n",
    "import sagemaker\n",
    "from sagemaker import get_execution_role\n",
    "from sagemaker.local import LocalSession\n",
    "\n",
    "sagemaker_session = LocalSession()\n",
    "sagemaker_session.config = {'local': {'local_code': True}}\n",
    "role = get_execution_role()"
   ]
  },
  {
   "cell_type": "code",
   "execution_count": null,
   "id": "3a39becc",
   "metadata": {},
   "outputs": [],
   "source": [
    "from sagemaker.pytorch import PyTorch\n",
    "\n",
    "estimator = PyTorch(entry_point='pytorch_training.py',\n",
    "                    session=sagemaker_session,\n",
    "                    role=role,\n",
    "                    instance_count=1,\n",
    "                    instance_type='local',\n",
    "                    framework_version='1.5.0',\n",
    "                    py_version='py3')"
   ]
  },
  {
   "cell_type": "code",
   "execution_count": null,
   "id": "c8e3fbf0",
   "metadata": {},
   "outputs": [],
   "source": [
    "estimator.fit({'train': train_input})"
   ]
  },
  {
   "cell_type": "code",
   "execution_count": null,
   "id": "337b71b5",
   "metadata": {},
   "outputs": [],
   "source": [
    "from sagemaker.pytorch.model import PyTorchModel\n",
    "\n",
    "pytorch_model = PyTorchModel(model_data=estimator.model_data, \n",
    "                             role=role, \n",
    "                             entry_point='pytorch_inference.py', \n",
    "                             framework_version='1.5.0',\n",
    "                             py_version=\"py3\")"
   ]
  },
  {
   "cell_type": "code",
   "execution_count": null,
   "id": "6d899c2a",
   "metadata": {},
   "outputs": [],
   "source": [
    "predictor = pytorch_model.deploy(instance_type='local', \n",
    "                                 initial_instance_count=1)"
   ]
  },
  {
   "cell_type": "code",
   "execution_count": null,
   "id": "613c63b7",
   "metadata": {},
   "outputs": [],
   "source": [
    "import numpy as np\n",
    "\n",
    "predictor.predict(np.array([[100], [200]], dtype=np.float32))"
   ]
  },
  {
   "cell_type": "code",
   "execution_count": null,
   "id": "968db4c3",
   "metadata": {},
   "outputs": [],
   "source": [
    "!mkdir -p tmp"
   ]
  },
  {
   "cell_type": "code",
   "execution_count": null,
   "id": "fafca845",
   "metadata": {},
   "outputs": [],
   "source": [
    "all_s3 = f\"s3://{s3_bucket}/{prefix}/synthetic/all_data.csv\" \n",
    "!aws s3 cp {all_s3} tmp/all_data.csv"
   ]
  },
  {
   "cell_type": "code",
   "execution_count": null,
   "id": "f047a300",
   "metadata": {},
   "outputs": [],
   "source": [
    "import pandas as pd\n",
    "\n",
    "all_data = pd.read_csv(\"tmp/all_data.csv\", header=None)\n",
    "x = all_data[[1]].values\n",
    "y = all_data[[0]].values"
   ]
  },
  {
   "cell_type": "code",
   "execution_count": null,
   "id": "c2bcc99b",
   "metadata": {},
   "outputs": [],
   "source": [
    "from numpy import arange\n",
    "\n",
    "line_x = arange(-5000, 5000, 10)\n",
    "line_x"
   ]
  },
  {
   "cell_type": "code",
   "execution_count": null,
   "id": "7b745fba",
   "metadata": {},
   "outputs": [],
   "source": [
    "input_data = np.array(line_x.reshape(-1, 1), dtype=np.float32)\n",
    "result = predictor.predict(input_data)\n",
    "\n",
    "result"
   ]
  },
  {
   "cell_type": "code",
   "execution_count": null,
   "id": "1603e280",
   "metadata": {},
   "outputs": [],
   "source": [
    "line_y = result"
   ]
  },
  {
   "cell_type": "code",
   "execution_count": null,
   "id": "bcc34c5c",
   "metadata": {},
   "outputs": [],
   "source": [
    "from matplotlib import pyplot\n",
    "pyplot.plot(line_x, line_y, 'r')\n",
    "pyplot.scatter(x,y,s=1)\n",
    "pyplot.show()"
   ]
  },
  {
   "cell_type": "code",
   "execution_count": null,
   "id": "fae7261d",
   "metadata": {},
   "outputs": [],
   "source": [
    "predictor.delete_endpoint()"
   ]
  }
 ],
 "metadata": {
  "kernelspec": {
   "display_name": "conda_pytorch_p36",
   "language": "python",
   "name": "conda_pytorch_p36"
  },
  "language_info": {
   "codemirror_mode": {
    "name": "ipython",
    "version": 3
   },
   "file_extension": ".py",
   "mimetype": "text/x-python",
   "name": "python",
   "nbconvert_exporter": "python",
   "pygments_lexer": "ipython3",
   "version": "3.6.13"
  }
 },
 "nbformat": 4,
 "nbformat_minor": 5
}
