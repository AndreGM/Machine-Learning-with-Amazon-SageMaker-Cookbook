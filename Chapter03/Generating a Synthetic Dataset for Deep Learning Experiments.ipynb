{
 "cells": [
  {
   "cell_type": "markdown",
   "id": "136a7e0b",
   "metadata": {},
   "source": [
    "# Generating a Synthetic Dataset for Deep Learning Experiments"
   ]
  },
  {
   "cell_type": "markdown",
   "id": "77bab6ec",
   "metadata": {},
   "source": [
    "<img align=\"left\" width=\"130\" src=\"https://raw.githubusercontent.com/PacktPublishing/Amazon-SageMaker-Cookbook/master/Extra/cover-small-padded.png\"/>\n",
    "\n",
    "This notebook contains the code to help readers work through one of the recipes of the book [Machine Learning with Amazon SageMaker Cookbook: 80 proven recipes for data scientists and developers to perform ML experiments and deployments](https://www.amazon.com/Machine-Learning-Amazon-SageMaker-Cookbook/dp/1800567030)"
   ]
  },
  {
   "cell_type": "markdown",
   "id": "388fd2b6",
   "metadata": {},
   "source": [
    "### How to do it..."
   ]
  },
  {
   "cell_type": "code",
   "execution_count": null,
   "id": "dcc4e1f3",
   "metadata": {},
   "outputs": [],
   "source": [
    "import numpy as np"
   ]
  },
  {
   "cell_type": "code",
   "execution_count": null,
   "id": "df035e7e",
   "metadata": {},
   "outputs": [],
   "source": [
    "def formula(x):\n",
    "    if x >= -2000:\n",
    "        return x\n",
    "    else:\n",
    "        return -x - 4000"
   ]
  },
  {
   "cell_type": "code",
   "execution_count": null,
   "id": "821e1d1b",
   "metadata": {},
   "outputs": [],
   "source": [
    "formula(100)"
   ]
  },
  {
   "cell_type": "code",
   "execution_count": null,
   "id": "9b03a6ac",
   "metadata": {},
   "outputs": [],
   "source": [
    "def generate_synthetic_data(n_samples=1000, \n",
    "                            start=-5000, \n",
    "                            end=5000):\n",
    "    np.random.seed(42)\n",
    "    x = np.random.randint(low=start, \n",
    "                          high=end, \n",
    "                          size=(n_samples,)).astype(int)\n",
    "    \n",
    "    y = np.vectorize(formula)(x) + \\\n",
    "        np.random.normal(150, 150, n_samples) \n",
    "    \n",
    "    return (x, y)"
   ]
  },
  {
   "cell_type": "code",
   "execution_count": null,
   "id": "14ef5197",
   "metadata": {},
   "outputs": [],
   "source": [
    "X, y = generate_synthetic_data()"
   ]
  },
  {
   "cell_type": "code",
   "execution_count": null,
   "id": "f2d585fc",
   "metadata": {},
   "outputs": [],
   "source": [
    "X[:10]"
   ]
  },
  {
   "cell_type": "code",
   "execution_count": null,
   "id": "a1aeb48e",
   "metadata": {},
   "outputs": [],
   "source": [
    "y[:10]"
   ]
  },
  {
   "cell_type": "code",
   "execution_count": null,
   "id": "76f2f76f",
   "metadata": {},
   "outputs": [],
   "source": [
    "from matplotlib import pyplot\n",
    "pyplot.rcParams[\"figure.figsize\"] = (10,8)\n",
    "pyplot.scatter(X,y,s=1)\n",
    "pyplot.show()"
   ]
  },
  {
   "cell_type": "code",
   "execution_count": null,
   "id": "a696b63c",
   "metadata": {},
   "outputs": [],
   "source": [
    "from sklearn.model_selection import train_test_split\n",
    "\n",
    "X_train, X_test, y_train, y_test = train_test_split(X, y, test_size=0.2, random_state=0)\n",
    "X_train, X_validation, y_train, y_validation = train_test_split(X_train, y_train, test_size=0.2, random_state=0)"
   ]
  },
  {
   "cell_type": "code",
   "execution_count": null,
   "id": "f7850e6f",
   "metadata": {},
   "outputs": [],
   "source": [
    "print(X_train.shape)\n",
    "print(X_validation.shape)\n",
    "print(X_test.shape)"
   ]
  },
  {
   "cell_type": "code",
   "execution_count": null,
   "id": "e2a514e3",
   "metadata": {},
   "outputs": [],
   "source": [
    "!mkdir -p tmp"
   ]
  },
  {
   "cell_type": "code",
   "execution_count": null,
   "id": "6ceb5e33",
   "metadata": {},
   "outputs": [],
   "source": [
    "import pandas as pd\n",
    "\n",
    "df_all_data = pd.DataFrame({ 'y': y, 'x': X})\n",
    "df_all_data.to_csv('tmp/all_data.csv', header=False, index=False)\n",
    "\n",
    "df_training_data = pd.DataFrame({ 'y': y_train, 'x': X_train})\n",
    "df_training_data.to_csv('tmp/training_data.csv', header=False, index=False)\n",
    "\n",
    "df_validation_data = pd.DataFrame({ 'y': y_validation, 'x': X_validation})\n",
    "df_validation_data.to_csv('tmp/validation_data.csv', header=False, index=False)\n",
    "\n",
    "df_test_data = pd.DataFrame({ 'y': y_test, 'x': X_test})\n",
    "df_test_data.to_csv('tmp/test_data.csv', header=False, index=False)"
   ]
  },
  {
   "cell_type": "code",
   "execution_count": null,
   "id": "39e3c0b1",
   "metadata": {},
   "outputs": [],
   "source": [
    "s3_bucket = '<insert s3 bucket name here>'\n",
    "prefix = \"chapter03\""
   ]
  },
  {
   "cell_type": "code",
   "execution_count": null,
   "id": "f8e5bf37",
   "metadata": {},
   "outputs": [],
   "source": [
    "!aws s3 cp tmp/training_data.csv \\\n",
    "s3://{s3_bucket}/{prefix}/synthetic/all_data.csv"
   ]
  },
  {
   "cell_type": "code",
   "execution_count": null,
   "id": "3f18d1cd",
   "metadata": {},
   "outputs": [],
   "source": [
    "!aws s3 cp tmp/training_data.csv \\\n",
    "s3://{s3_bucket}/{prefix}/synthetic/training_data.csv"
   ]
  },
  {
   "cell_type": "code",
   "execution_count": null,
   "id": "356b19d6",
   "metadata": {},
   "outputs": [],
   "source": [
    "!aws s3 cp tmp/validation_data.csv \\\n",
    "s3://{s3_bucket}/{prefix}/synthetic/validation_data.csv"
   ]
  },
  {
   "cell_type": "code",
   "execution_count": null,
   "id": "00fed73c",
   "metadata": {},
   "outputs": [],
   "source": [
    "!aws s3 cp tmp/test_data.csv \\\n",
    "s3://{s3_bucket}/{prefix}/synthetic/test_data.csv"
   ]
  }
 ],
 "metadata": {
  "kernelspec": {
   "display_name": "conda_python3",
   "language": "python",
   "name": "conda_python3"
  },
  "language_info": {
   "codemirror_mode": {
    "name": "ipython",
    "version": 3
   },
   "file_extension": ".py",
   "mimetype": "text/x-python",
   "name": "python",
   "nbconvert_exporter": "python",
   "pygments_lexer": "ipython3",
   "version": "3.6.13"
  }
 },
 "nbformat": 4,
 "nbformat_minor": 5
}
