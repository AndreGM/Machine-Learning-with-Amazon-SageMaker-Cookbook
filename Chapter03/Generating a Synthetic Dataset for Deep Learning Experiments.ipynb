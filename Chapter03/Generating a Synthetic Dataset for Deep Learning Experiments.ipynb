{
 "cells": [
  {
   "cell_type": "code",
   "execution_count": 1,
   "id": "searching-exclusive",
   "metadata": {},
   "outputs": [],
   "source": [
    "import numpy as np"
   ]
  },
  {
   "cell_type": "code",
   "execution_count": 2,
   "id": "tested-bankruptcy",
   "metadata": {},
   "outputs": [],
   "source": [
    "def formula(x):\n",
    "    if x >= -2000:\n",
    "        return x\n",
    "    else:\n",
    "        return -x - 4000"
   ]
  },
  {
   "cell_type": "code",
   "execution_count": 3,
   "id": "compact-provider",
   "metadata": {},
   "outputs": [
    {
     "data": {
      "text/plain": [
       "100"
      ]
     },
     "execution_count": 3,
     "metadata": {},
     "output_type": "execute_result"
    }
   ],
   "source": [
    "formula(100)"
   ]
  },
  {
   "cell_type": "code",
   "execution_count": 6,
   "id": "nasty-invitation",
   "metadata": {},
   "outputs": [],
   "source": [
    "def generate_synthetic_data(n_samples=1000, \n",
    "                            start=-5000, \n",
    "                            end=5000):\n",
    "    np.random.seed(42)\n",
    "    x = np.random.randint(low=start, \n",
    "                          high=end, \n",
    "                          size=(n_samples,)).astype(int)\n",
    "    \n",
    "    y = np.vectorize(formula)(x) + \\\n",
    "        np.random.normal(150, 150, n_samples) \n",
    "    \n",
    "    return (x, y)"
   ]
  },
  {
   "cell_type": "code",
   "execution_count": 7,
   "id": "convinced-behavior",
   "metadata": {},
   "outputs": [],
   "source": [
    "X, y = generate_synthetic_data()"
   ]
  },
  {
   "cell_type": "code",
   "execution_count": 6,
   "id": "guilty-intelligence",
   "metadata": {},
   "outputs": [
    {
     "data": {
      "text/plain": [
       "array([ 2270, -4140,   390,   191,   734,  1265, -4534,  -574,   578,\n",
       "        3322])"
      ]
     },
     "execution_count": 6,
     "metadata": {},
     "output_type": "execute_result"
    }
   ],
   "source": [
    "X[:10]"
   ]
  },
  {
   "cell_type": "code",
   "execution_count": 7,
   "id": "banner-nirvana",
   "metadata": {},
   "outputs": [
    {
     "data": {
      "text/plain": [
       "array([2516.50308966,  524.70568774,  720.7455971 ,  441.86375283,\n",
       "        789.51925316, 1387.47962696,  634.60894394, -494.54221701,\n",
       "        667.63233371, 3407.62929474])"
      ]
     },
     "execution_count": 7,
     "metadata": {},
     "output_type": "execute_result"
    }
   ],
   "source": [
    "y[:10]"
   ]
  },
  {
   "cell_type": "code",
   "execution_count": 8,
   "id": "consolidated-allowance",
   "metadata": {},
   "outputs": [
    {
     "data": {
      "image/png": "[encoded data removed]",
      "text/plain": [
       "<Figure size 720x576 with 1 Axes>"
      ]
     },
     "metadata": {
      "needs_background": "light"
     },
     "output_type": "display_data"
    }
   ],
   "source": [
    "from matplotlib import pyplot\n",
    "pyplot.rcParams[\"figure.figsize\"] = (10,8)\n",
    "pyplot.scatter(X,y,s=1)\n",
    "pyplot.show()"
   ]
  },
  {
   "cell_type": "code",
   "execution_count": 9,
   "id": "color-joint",
   "metadata": {},
   "outputs": [],
   "source": [
    "from sklearn.model_selection import train_test_split\n",
    "\n",
    "X_train, X_test, y_train, y_test = train_test_split(X, y, test_size=0.2, random_state=0)\n",
    "X_train, X_validation, y_train, y_validation = train_test_split(X_train, y_train, test_size=0.2, random_state=0)"
   ]
  },
  {
   "cell_type": "code",
   "execution_count": 10,
   "id": "failing-uncle",
   "metadata": {},
   "outputs": [
    {
     "name": "stdout",
     "output_type": "stream",
     "text": [
      "(640,)\n",
      "(160,)\n",
      "(200,)\n"
     ]
    }
   ],
   "source": [
    "print(X_train.shape)\n",
    "print(X_validation.shape)\n",
    "print(X_test.shape)"
   ]
  },
  {
   "cell_type": "code",
   "execution_count": 11,
   "id": "sporting-queen",
   "metadata": {},
   "outputs": [],
   "source": [
    "!mkdir -p tmp"
   ]
  },
  {
   "cell_type": "code",
   "execution_count": 12,
   "id": "cross-edinburgh",
   "metadata": {},
   "outputs": [],
   "source": [
    "import pandas as pd\n",
    "\n",
    "df_all_data = pd.DataFrame({ 'y': y, 'x': X})\n",
    "df_all_data.to_csv('tmp/all_data.csv', header=False, index=False)\n",
    "\n",
    "df_training_data = pd.DataFrame({ 'y': y_train, 'x': X_train})\n",
    "df_training_data.to_csv('tmp/training_data.csv', header=False, index=False)\n",
    "\n",
    "df_validation_data = pd.DataFrame({ 'y': y_validation, 'x': X_validation})\n",
    "df_validation_data.to_csv('tmp/validation_data.csv', header=False, index=False)\n",
    "\n",
    "df_test_data = pd.DataFrame({ 'y': y_test, 'x': X_test})\n",
    "df_test_data.to_csv('tmp/test_data.csv', header=False, index=False)"
   ]
  },
  {
   "cell_type": "code",
   "execution_count": 9,
   "id": "proper-singing",
   "metadata": {},
   "outputs": [],
   "source": [
    "s3_bucket = \"sagemaker-cookbook-bucket\"\n",
    "prefix = \"chapter03\""
   ]
  },
  {
   "cell_type": "code",
   "execution_count": 14,
   "id": "acting-inventory",
   "metadata": {},
   "outputs": [
    {
     "name": "stdout",
     "output_type": "stream",
     "text": [
      "Completed 15.0 KiB/15.0 KiB (217.7 KiB/s) with 1 file(s) remaining\r",
      "upload: tmp/training_data.csv to s3://sagemaker-cookbook-bucket/chapter03/synthetic/all_data.csv\r\n"
     ]
    }
   ],
   "source": [
    "!aws s3 cp tmp/training_data.csv \\\n",
    "s3://{s3_bucket}/{prefix}/synthetic/all_data.csv"
   ]
  },
  {
   "cell_type": "code",
   "execution_count": 13,
   "id": "wicked-report",
   "metadata": {},
   "outputs": [
    {
     "name": "stdout",
     "output_type": "stream",
     "text": [
      "Completed 15.0 KiB/15.0 KiB (176.0 KiB/s) with 1 file(s) remaining\r",
      "upload: tmp/training_data.csv to s3://sagemaker-cookbook-bucket/chapter03/synthetic/training_data.csv\r\n"
     ]
    }
   ],
   "source": [
    "!aws s3 cp tmp/training_data.csv \\\n",
    "s3://{s3_bucket}/{prefix}/synthetic/training_data.csv"
   ]
  },
  {
   "cell_type": "code",
   "execution_count": 12,
   "id": "accurate-methodology",
   "metadata": {},
   "outputs": [
    {
     "name": "stdout",
     "output_type": "stream",
     "text": [
      "Completed 3.7 KiB/3.7 KiB (62.0 KiB/s) with 1 file(s) remaining\r",
      "upload: tmp/validation_data.csv to s3://sagemaker-cookbook-bucket/chapter03/synthetic/validation_data.csv\r\n"
     ]
    }
   ],
   "source": [
    "!aws s3 cp tmp/validation_data.csv \\\n",
    "s3://{s3_bucket}/{prefix}/synthetic/validation_data.csv"
   ]
  },
  {
   "cell_type": "code",
   "execution_count": 11,
   "id": "racial-death",
   "metadata": {},
   "outputs": [
    {
     "name": "stdout",
     "output_type": "stream",
     "text": [
      "Completed 4.7 KiB/4.7 KiB (67.2 KiB/s) with 1 file(s) remaining\r",
      "upload: tmp/test_data.csv to s3://sagemaker-cookbook-bucket/chapter03/synthetic/test_data.csv\r\n"
     ]
    }
   ],
   "source": [
    "!aws s3 cp tmp/test_data.csv \\\n",
    "s3://{s3_bucket}/{prefix}/synthetic/test_data.csv"
   ]
  }
 ],
 "metadata": {
  "kernelspec": {
   "display_name": "conda_python3",
   "language": "python",
   "name": "conda_python3"
  },
  "language_info": {
   "codemirror_mode": {
    "name": "ipython",
    "version": 3
   },
   "file_extension": ".py",
   "mimetype": "text/x-python",
   "name": "python",
   "nbconvert_exporter": "python",
   "pygments_lexer": "ipython3",
   "version": "3.6.13"
  }
 },
 "nbformat": 4,
 "nbformat_minor": 5
}
