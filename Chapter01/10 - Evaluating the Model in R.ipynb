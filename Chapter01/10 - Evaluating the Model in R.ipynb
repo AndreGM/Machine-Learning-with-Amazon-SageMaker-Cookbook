{
 "cells": [
  {
   "cell_type": "markdown",
   "id": "parallel-springfield",
   "metadata": {},
   "source": [
    "## Evaluating the Model in R\n",
    "\n",
    "- **Kernel**: `R`"
   ]
  },
  {
   "cell_type": "code",
   "execution_count": 1,
   "id": "australian-roulette",
   "metadata": {},
   "outputs": [],
   "source": [
    "weight_and_bias <- readRDS(file=\"tmp/weight_and_bias\")"
   ]
  },
  {
   "cell_type": "code",
   "execution_count": 2,
   "id": "sonic-pharmaceutical",
   "metadata": {},
   "outputs": [
    {
     "data": {
      "text/html": [
       "<dl>\n",
       "\t<dt>$weight</dt>\n",
       "\t\t<dd>7.4460015296936</dd>\n",
       "\t<dt>$bias</dt>\n",
       "\t\t<dd>897.042419433594</dd>\n",
       "</dl>\n"
      ],
      "text/latex": [
       "\\begin{description}\n",
       "\\item[\\$weight] 7.4460015296936\n",
       "\\item[\\$bias] 897.042419433594\n",
       "\\end{description}\n"
      ],
      "text/markdown": [
       "$weight\n",
       ":   7.4460015296936\n",
       "$bias\n",
       ":   897.042419433594\n",
       "\n",
       "\n"
      ],
      "text/plain": [
       "$weight\n",
       "[1] 7.446002\n",
       "\n",
       "$bias\n",
       "[1] 897.0424\n"
      ]
     },
     "metadata": {},
     "output_type": "display_data"
    }
   ],
   "source": [
    "weight_and_bias"
   ]
  },
  {
   "cell_type": "code",
   "execution_count": 7,
   "id": "acting-comparison",
   "metadata": {},
   "outputs": [],
   "source": [
    "manual_predict <- function(x, params=weight_and_bias) {     \n",
    "    return(params$weight * x + params$bias)\n",
    "}"
   ]
  },
  {
   "cell_type": "code",
   "execution_count": 8,
   "id": "interracial-fetish",
   "metadata": {},
   "outputs": [
    {
     "data": {
      "text/html": [
       "1209.77448368073"
      ],
      "text/latex": [
       "1209.77448368073"
      ],
      "text/markdown": [
       "1209.77448368073"
      ],
      "text/plain": [
       "[1] 1209.774"
      ]
     },
     "metadata": {},
     "output_type": "display_data"
    }
   ],
   "source": [
    "manual_predict(42)"
   ]
  },
  {
   "cell_type": "code",
   "execution_count": 18,
   "id": "boxed-tractor",
   "metadata": {},
   "outputs": [],
   "source": [
    "df.test_data <- readRDS(\"tmp/df.test_data\")"
   ]
  },
  {
   "cell_type": "code",
   "execution_count": 19,
   "id": "dated-savings",
   "metadata": {},
   "outputs": [
    {
     "data": {
      "text/html": [
       "<table class=\"dataframe\">\n",
       "<caption>A data.frame: 6 × 3</caption>\n",
       "<thead>\n",
       "\t<tr><th></th><th scope=col>last_name</th><th scope=col>management_experience_months</th><th scope=col>monthly_salary</th></tr>\n",
       "\t<tr><th></th><th scope=col>&lt;chr&gt;</th><th scope=col>&lt;int&gt;</th><th scope=col>&lt;int&gt;</th></tr>\n",
       "</thead>\n",
       "<tbody>\n",
       "\t<tr><th scope=row>3</th><td>Brown</td><td>38</td><td>1290</td></tr>\n",
       "\t<tr><th scope=row>11</th><td>Chen </td><td>14</td><td>1090</td></tr>\n",
       "\t<tr><th scope=row>12</th><td>Kim  </td><td>67</td><td>1340</td></tr>\n",
       "\t<tr><th scope=row>13</th><td>Davis</td><td>29</td><td>1170</td></tr>\n",
       "\t<tr><th scope=row>14</th><td>James</td><td>49</td><td>1390</td></tr>\n",
       "\t<tr><th scope=row>15</th><td>Perez</td><td>46</td><td>1240</td></tr>\n",
       "</tbody>\n",
       "</table>\n"
      ],
      "text/latex": [
       "A data.frame: 6 × 3\n",
       "\\begin{tabular}{r|lll}\n",
       "  & last\\_name & management\\_experience\\_months & monthly\\_salary\\\\\n",
       "  & <chr> & <int> & <int>\\\\\n",
       "\\hline\n",
       "\t3 & Brown & 38 & 1290\\\\\n",
       "\t11 & Chen  & 14 & 1090\\\\\n",
       "\t12 & Kim   & 67 & 1340\\\\\n",
       "\t13 & Davis & 29 & 1170\\\\\n",
       "\t14 & James & 49 & 1390\\\\\n",
       "\t15 & Perez & 46 & 1240\\\\\n",
       "\\end{tabular}\n"
      ],
      "text/markdown": [
       "\n",
       "A data.frame: 6 × 3\n",
       "\n",
       "| <!--/--> | last_name &lt;chr&gt; | management_experience_months &lt;int&gt; | monthly_salary &lt;int&gt; |\n",
       "|---|---|---|---|\n",
       "| 3 | Brown | 38 | 1290 |\n",
       "| 11 | Chen  | 14 | 1090 |\n",
       "| 12 | Kim   | 67 | 1340 |\n",
       "| 13 | Davis | 29 | 1170 |\n",
       "| 14 | James | 49 | 1390 |\n",
       "| 15 | Perez | 46 | 1240 |\n",
       "\n"
      ],
      "text/plain": [
       "   last_name management_experience_months monthly_salary\n",
       "3  Brown     38                           1290          \n",
       "11 Chen      14                           1090          \n",
       "12 Kim       67                           1340          \n",
       "13 Davis     29                           1170          \n",
       "14 James     49                           1390          \n",
       "15 Perez     46                           1240          "
      ]
     },
     "metadata": {},
     "output_type": "display_data"
    }
   ],
   "source": [
    "df.test_data"
   ]
  },
  {
   "cell_type": "code",
   "execution_count": 9,
   "id": "numeric-novelty",
   "metadata": {},
   "outputs": [],
   "source": [
    "regression_line_df <- data.frame(management_experience_months=0:120, monthly_salary=manual_predict(0:120))"
   ]
  },
  {
   "cell_type": "code",
   "execution_count": 10,
   "id": "drawn-repository",
   "metadata": {},
   "outputs": [
    {
     "data": {
      "text/html": [
       "<table class=\"dataframe\">\n",
       "<caption>A data.frame: 121 × 2</caption>\n",
       "<thead>\n",
       "\t<tr><th scope=col>management_experience_months</th><th scope=col>monthly_salary</th></tr>\n",
       "\t<tr><th scope=col>&lt;int&gt;</th><th scope=col>&lt;dbl&gt;</th></tr>\n",
       "</thead>\n",
       "<tbody>\n",
       "\t<tr><td> 0</td><td> 897.0424</td></tr>\n",
       "\t<tr><td> 1</td><td> 904.4884</td></tr>\n",
       "\t<tr><td> 2</td><td> 911.9344</td></tr>\n",
       "\t<tr><td> 3</td><td> 919.3804</td></tr>\n",
       "\t<tr><td> 4</td><td> 926.8264</td></tr>\n",
       "\t<tr><td> 5</td><td> 934.2724</td></tr>\n",
       "\t<tr><td> 6</td><td> 941.7184</td></tr>\n",
       "\t<tr><td> 7</td><td> 949.1644</td></tr>\n",
       "\t<tr><td> 8</td><td> 956.6104</td></tr>\n",
       "\t<tr><td> 9</td><td> 964.0564</td></tr>\n",
       "\t<tr><td>10</td><td> 971.5024</td></tr>\n",
       "\t<tr><td>11</td><td> 978.9484</td></tr>\n",
       "\t<tr><td>12</td><td> 986.3944</td></tr>\n",
       "\t<tr><td>13</td><td> 993.8404</td></tr>\n",
       "\t<tr><td>14</td><td>1001.2864</td></tr>\n",
       "\t<tr><td>15</td><td>1008.7324</td></tr>\n",
       "\t<tr><td>16</td><td>1016.1784</td></tr>\n",
       "\t<tr><td>17</td><td>1023.6244</td></tr>\n",
       "\t<tr><td>18</td><td>1031.0704</td></tr>\n",
       "\t<tr><td>19</td><td>1038.5164</td></tr>\n",
       "\t<tr><td>20</td><td>1045.9625</td></tr>\n",
       "\t<tr><td>21</td><td>1053.4085</td></tr>\n",
       "\t<tr><td>22</td><td>1060.8545</td></tr>\n",
       "\t<tr><td>23</td><td>1068.3005</td></tr>\n",
       "\t<tr><td>24</td><td>1075.7465</td></tr>\n",
       "\t<tr><td>25</td><td>1083.1925</td></tr>\n",
       "\t<tr><td>26</td><td>1090.6385</td></tr>\n",
       "\t<tr><td>27</td><td>1098.0845</td></tr>\n",
       "\t<tr><td>28</td><td>1105.5305</td></tr>\n",
       "\t<tr><td>29</td><td>1112.9765</td></tr>\n",
       "\t<tr><td>⋮</td><td>⋮</td></tr>\n",
       "\t<tr><td> 91</td><td>1574.629</td></tr>\n",
       "\t<tr><td> 92</td><td>1582.075</td></tr>\n",
       "\t<tr><td> 93</td><td>1589.521</td></tr>\n",
       "\t<tr><td> 94</td><td>1596.967</td></tr>\n",
       "\t<tr><td> 95</td><td>1604.413</td></tr>\n",
       "\t<tr><td> 96</td><td>1611.859</td></tr>\n",
       "\t<tr><td> 97</td><td>1619.305</td></tr>\n",
       "\t<tr><td> 98</td><td>1626.751</td></tr>\n",
       "\t<tr><td> 99</td><td>1634.197</td></tr>\n",
       "\t<tr><td>100</td><td>1641.643</td></tr>\n",
       "\t<tr><td>101</td><td>1649.089</td></tr>\n",
       "\t<tr><td>102</td><td>1656.535</td></tr>\n",
       "\t<tr><td>103</td><td>1663.981</td></tr>\n",
       "\t<tr><td>104</td><td>1671.427</td></tr>\n",
       "\t<tr><td>105</td><td>1678.873</td></tr>\n",
       "\t<tr><td>106</td><td>1686.319</td></tr>\n",
       "\t<tr><td>107</td><td>1693.765</td></tr>\n",
       "\t<tr><td>108</td><td>1701.211</td></tr>\n",
       "\t<tr><td>109</td><td>1708.657</td></tr>\n",
       "\t<tr><td>110</td><td>1716.103</td></tr>\n",
       "\t<tr><td>111</td><td>1723.549</td></tr>\n",
       "\t<tr><td>112</td><td>1730.995</td></tr>\n",
       "\t<tr><td>113</td><td>1738.441</td></tr>\n",
       "\t<tr><td>114</td><td>1745.887</td></tr>\n",
       "\t<tr><td>115</td><td>1753.333</td></tr>\n",
       "\t<tr><td>116</td><td>1760.779</td></tr>\n",
       "\t<tr><td>117</td><td>1768.225</td></tr>\n",
       "\t<tr><td>118</td><td>1775.671</td></tr>\n",
       "\t<tr><td>119</td><td>1783.117</td></tr>\n",
       "\t<tr><td>120</td><td>1790.563</td></tr>\n",
       "</tbody>\n",
       "</table>\n"
      ],
      "text/latex": [
       "A data.frame: 121 × 2\n",
       "\\begin{tabular}{ll}\n",
       " management\\_experience\\_months & monthly\\_salary\\\\\n",
       " <int> & <dbl>\\\\\n",
       "\\hline\n",
       "\t  0 &  897.0424\\\\\n",
       "\t  1 &  904.4884\\\\\n",
       "\t  2 &  911.9344\\\\\n",
       "\t  3 &  919.3804\\\\\n",
       "\t  4 &  926.8264\\\\\n",
       "\t  5 &  934.2724\\\\\n",
       "\t  6 &  941.7184\\\\\n",
       "\t  7 &  949.1644\\\\\n",
       "\t  8 &  956.6104\\\\\n",
       "\t  9 &  964.0564\\\\\n",
       "\t 10 &  971.5024\\\\\n",
       "\t 11 &  978.9484\\\\\n",
       "\t 12 &  986.3944\\\\\n",
       "\t 13 &  993.8404\\\\\n",
       "\t 14 & 1001.2864\\\\\n",
       "\t 15 & 1008.7324\\\\\n",
       "\t 16 & 1016.1784\\\\\n",
       "\t 17 & 1023.6244\\\\\n",
       "\t 18 & 1031.0704\\\\\n",
       "\t 19 & 1038.5164\\\\\n",
       "\t 20 & 1045.9625\\\\\n",
       "\t 21 & 1053.4085\\\\\n",
       "\t 22 & 1060.8545\\\\\n",
       "\t 23 & 1068.3005\\\\\n",
       "\t 24 & 1075.7465\\\\\n",
       "\t 25 & 1083.1925\\\\\n",
       "\t 26 & 1090.6385\\\\\n",
       "\t 27 & 1098.0845\\\\\n",
       "\t 28 & 1105.5305\\\\\n",
       "\t 29 & 1112.9765\\\\\n",
       "\t ⋮ & ⋮\\\\\n",
       "\t  91 & 1574.629\\\\\n",
       "\t  92 & 1582.075\\\\\n",
       "\t  93 & 1589.521\\\\\n",
       "\t  94 & 1596.967\\\\\n",
       "\t  95 & 1604.413\\\\\n",
       "\t  96 & 1611.859\\\\\n",
       "\t  97 & 1619.305\\\\\n",
       "\t  98 & 1626.751\\\\\n",
       "\t  99 & 1634.197\\\\\n",
       "\t 100 & 1641.643\\\\\n",
       "\t 101 & 1649.089\\\\\n",
       "\t 102 & 1656.535\\\\\n",
       "\t 103 & 1663.981\\\\\n",
       "\t 104 & 1671.427\\\\\n",
       "\t 105 & 1678.873\\\\\n",
       "\t 106 & 1686.319\\\\\n",
       "\t 107 & 1693.765\\\\\n",
       "\t 108 & 1701.211\\\\\n",
       "\t 109 & 1708.657\\\\\n",
       "\t 110 & 1716.103\\\\\n",
       "\t 111 & 1723.549\\\\\n",
       "\t 112 & 1730.995\\\\\n",
       "\t 113 & 1738.441\\\\\n",
       "\t 114 & 1745.887\\\\\n",
       "\t 115 & 1753.333\\\\\n",
       "\t 116 & 1760.779\\\\\n",
       "\t 117 & 1768.225\\\\\n",
       "\t 118 & 1775.671\\\\\n",
       "\t 119 & 1783.117\\\\\n",
       "\t 120 & 1790.563\\\\\n",
       "\\end{tabular}\n"
      ],
      "text/markdown": [
       "\n",
       "A data.frame: 121 × 2\n",
       "\n",
       "| management_experience_months &lt;int&gt; | monthly_salary &lt;dbl&gt; |\n",
       "|---|---|\n",
       "|  0 |  897.0424 |\n",
       "|  1 |  904.4884 |\n",
       "|  2 |  911.9344 |\n",
       "|  3 |  919.3804 |\n",
       "|  4 |  926.8264 |\n",
       "|  5 |  934.2724 |\n",
       "|  6 |  941.7184 |\n",
       "|  7 |  949.1644 |\n",
       "|  8 |  956.6104 |\n",
       "|  9 |  964.0564 |\n",
       "| 10 |  971.5024 |\n",
       "| 11 |  978.9484 |\n",
       "| 12 |  986.3944 |\n",
       "| 13 |  993.8404 |\n",
       "| 14 | 1001.2864 |\n",
       "| 15 | 1008.7324 |\n",
       "| 16 | 1016.1784 |\n",
       "| 17 | 1023.6244 |\n",
       "| 18 | 1031.0704 |\n",
       "| 19 | 1038.5164 |\n",
       "| 20 | 1045.9625 |\n",
       "| 21 | 1053.4085 |\n",
       "| 22 | 1060.8545 |\n",
       "| 23 | 1068.3005 |\n",
       "| 24 | 1075.7465 |\n",
       "| 25 | 1083.1925 |\n",
       "| 26 | 1090.6385 |\n",
       "| 27 | 1098.0845 |\n",
       "| 28 | 1105.5305 |\n",
       "| 29 | 1112.9765 |\n",
       "| ⋮ | ⋮ |\n",
       "|  91 | 1574.629 |\n",
       "|  92 | 1582.075 |\n",
       "|  93 | 1589.521 |\n",
       "|  94 | 1596.967 |\n",
       "|  95 | 1604.413 |\n",
       "|  96 | 1611.859 |\n",
       "|  97 | 1619.305 |\n",
       "|  98 | 1626.751 |\n",
       "|  99 | 1634.197 |\n",
       "| 100 | 1641.643 |\n",
       "| 101 | 1649.089 |\n",
       "| 102 | 1656.535 |\n",
       "| 103 | 1663.981 |\n",
       "| 104 | 1671.427 |\n",
       "| 105 | 1678.873 |\n",
       "| 106 | 1686.319 |\n",
       "| 107 | 1693.765 |\n",
       "| 108 | 1701.211 |\n",
       "| 109 | 1708.657 |\n",
       "| 110 | 1716.103 |\n",
       "| 111 | 1723.549 |\n",
       "| 112 | 1730.995 |\n",
       "| 113 | 1738.441 |\n",
       "| 114 | 1745.887 |\n",
       "| 115 | 1753.333 |\n",
       "| 116 | 1760.779 |\n",
       "| 117 | 1768.225 |\n",
       "| 118 | 1775.671 |\n",
       "| 119 | 1783.117 |\n",
       "| 120 | 1790.563 |\n",
       "\n"
      ],
      "text/plain": [
       "    management_experience_months monthly_salary\n",
       "1    0                            897.0424     \n",
       "2    1                            904.4884     \n",
       "3    2                            911.9344     \n",
       "4    3                            919.3804     \n",
       "5    4                            926.8264     \n",
       "6    5                            934.2724     \n",
       "7    6                            941.7184     \n",
       "8    7                            949.1644     \n",
       "9    8                            956.6104     \n",
       "10   9                            964.0564     \n",
       "11  10                            971.5024     \n",
       "12  11                            978.9484     \n",
       "13  12                            986.3944     \n",
       "14  13                            993.8404     \n",
       "15  14                           1001.2864     \n",
       "16  15                           1008.7324     \n",
       "17  16                           1016.1784     \n",
       "18  17                           1023.6244     \n",
       "19  18                           1031.0704     \n",
       "20  19                           1038.5164     \n",
       "21  20                           1045.9625     \n",
       "22  21                           1053.4085     \n",
       "23  22                           1060.8545     \n",
       "24  23                           1068.3005     \n",
       "25  24                           1075.7465     \n",
       "26  25                           1083.1925     \n",
       "27  26                           1090.6385     \n",
       "28  27                           1098.0845     \n",
       "29  28                           1105.5305     \n",
       "30  29                           1112.9765     \n",
       "⋮   ⋮                            ⋮             \n",
       "92   91                          1574.629      \n",
       "93   92                          1582.075      \n",
       "94   93                          1589.521      \n",
       "95   94                          1596.967      \n",
       "96   95                          1604.413      \n",
       "97   96                          1611.859      \n",
       "98   97                          1619.305      \n",
       "99   98                          1626.751      \n",
       "100  99                          1634.197      \n",
       "101 100                          1641.643      \n",
       "102 101                          1649.089      \n",
       "103 102                          1656.535      \n",
       "104 103                          1663.981      \n",
       "105 104                          1671.427      \n",
       "106 105                          1678.873      \n",
       "107 106                          1686.319      \n",
       "108 107                          1693.765      \n",
       "109 108                          1701.211      \n",
       "110 109                          1708.657      \n",
       "111 110                          1716.103      \n",
       "112 111                          1723.549      \n",
       "113 112                          1730.995      \n",
       "114 113                          1738.441      \n",
       "115 114                          1745.887      \n",
       "116 115                          1753.333      \n",
       "117 116                          1760.779      \n",
       "118 117                          1768.225      \n",
       "119 118                          1775.671      \n",
       "120 119                          1783.117      \n",
       "121 120                          1790.563      "
      ]
     },
     "metadata": {},
     "output_type": "display_data"
    }
   ],
   "source": [
    "regression_line_df"
   ]
  },
  {
   "cell_type": "code",
   "execution_count": 13,
   "id": "painful-innocent",
   "metadata": {},
   "outputs": [
    {
     "data": {
      "text/html": [
       "<table class=\"dataframe\">\n",
       "<caption>A data.frame: 20 × 3</caption>\n",
       "<thead>\n",
       "\t<tr><th scope=col>last_name</th><th scope=col>management_experience_months</th><th scope=col>monthly_salary</th></tr>\n",
       "\t<tr><th scope=col>&lt;chr&gt;</th><th scope=col>&lt;int&gt;</th><th scope=col>&lt;int&gt;</th></tr>\n",
       "</thead>\n",
       "<tbody>\n",
       "\t<tr><td>Taylor  </td><td>65</td><td>1630</td></tr>\n",
       "\t<tr><td>Wang    </td><td>61</td><td>1330</td></tr>\n",
       "\t<tr><td>Brown   </td><td>38</td><td>1290</td></tr>\n",
       "\t<tr><td>Harris  </td><td>71</td><td>1480</td></tr>\n",
       "\t<tr><td>Jones   </td><td>94</td><td>1590</td></tr>\n",
       "\t<tr><td>Garcia  </td><td>93</td><td>1750</td></tr>\n",
       "\t<tr><td>Williams</td><td>15</td><td>1020</td></tr>\n",
       "\t<tr><td>Lee     </td><td>56</td><td>1290</td></tr>\n",
       "\t<tr><td>White   </td><td>59</td><td>1430</td></tr>\n",
       "\t<tr><td>Tan     </td><td> 7</td><td> 960</td></tr>\n",
       "\t<tr><td>Chen    </td><td>14</td><td>1090</td></tr>\n",
       "\t<tr><td>Kim     </td><td>67</td><td>1340</td></tr>\n",
       "\t<tr><td>Davis   </td><td>29</td><td>1170</td></tr>\n",
       "\t<tr><td>James   </td><td>49</td><td>1390</td></tr>\n",
       "\t<tr><td>Perez   </td><td>46</td><td>1240</td></tr>\n",
       "\t<tr><td>Cruz    </td><td>73</td><td>1390</td></tr>\n",
       "\t<tr><td>Smith   </td><td>19</td><td> 960</td></tr>\n",
       "\t<tr><td>Thompson</td><td>22</td><td>1040</td></tr>\n",
       "\t<tr><td>Joseph  </td><td>32</td><td>1090</td></tr>\n",
       "\t<tr><td>Singh   </td><td>37</td><td>1300</td></tr>\n",
       "</tbody>\n",
       "</table>\n"
      ],
      "text/latex": [
       "A data.frame: 20 × 3\n",
       "\\begin{tabular}{lll}\n",
       " last\\_name & management\\_experience\\_months & monthly\\_salary\\\\\n",
       " <chr> & <int> & <int>\\\\\n",
       "\\hline\n",
       "\t Taylor   & 65 & 1630\\\\\n",
       "\t Wang     & 61 & 1330\\\\\n",
       "\t Brown    & 38 & 1290\\\\\n",
       "\t Harris   & 71 & 1480\\\\\n",
       "\t Jones    & 94 & 1590\\\\\n",
       "\t Garcia   & 93 & 1750\\\\\n",
       "\t Williams & 15 & 1020\\\\\n",
       "\t Lee      & 56 & 1290\\\\\n",
       "\t White    & 59 & 1430\\\\\n",
       "\t Tan      &  7 &  960\\\\\n",
       "\t Chen     & 14 & 1090\\\\\n",
       "\t Kim      & 67 & 1340\\\\\n",
       "\t Davis    & 29 & 1170\\\\\n",
       "\t James    & 49 & 1390\\\\\n",
       "\t Perez    & 46 & 1240\\\\\n",
       "\t Cruz     & 73 & 1390\\\\\n",
       "\t Smith    & 19 &  960\\\\\n",
       "\t Thompson & 22 & 1040\\\\\n",
       "\t Joseph   & 32 & 1090\\\\\n",
       "\t Singh    & 37 & 1300\\\\\n",
       "\\end{tabular}\n"
      ],
      "text/markdown": [
       "\n",
       "A data.frame: 20 × 3\n",
       "\n",
       "| last_name &lt;chr&gt; | management_experience_months &lt;int&gt; | monthly_salary &lt;int&gt; |\n",
       "|---|---|---|\n",
       "| Taylor   | 65 | 1630 |\n",
       "| Wang     | 61 | 1330 |\n",
       "| Brown    | 38 | 1290 |\n",
       "| Harris   | 71 | 1480 |\n",
       "| Jones    | 94 | 1590 |\n",
       "| Garcia   | 93 | 1750 |\n",
       "| Williams | 15 | 1020 |\n",
       "| Lee      | 56 | 1290 |\n",
       "| White    | 59 | 1430 |\n",
       "| Tan      |  7 |  960 |\n",
       "| Chen     | 14 | 1090 |\n",
       "| Kim      | 67 | 1340 |\n",
       "| Davis    | 29 | 1170 |\n",
       "| James    | 49 | 1390 |\n",
       "| Perez    | 46 | 1240 |\n",
       "| Cruz     | 73 | 1390 |\n",
       "| Smith    | 19 |  960 |\n",
       "| Thompson | 22 | 1040 |\n",
       "| Joseph   | 32 | 1090 |\n",
       "| Singh    | 37 | 1300 |\n",
       "\n"
      ],
      "text/plain": [
       "   last_name management_experience_months monthly_salary\n",
       "1  Taylor    65                           1630          \n",
       "2  Wang      61                           1330          \n",
       "3  Brown     38                           1290          \n",
       "4  Harris    71                           1480          \n",
       "5  Jones     94                           1590          \n",
       "6  Garcia    93                           1750          \n",
       "7  Williams  15                           1020          \n",
       "8  Lee       56                           1290          \n",
       "9  White     59                           1430          \n",
       "10 Tan        7                            960          \n",
       "11 Chen      14                           1090          \n",
       "12 Kim       67                           1340          \n",
       "13 Davis     29                           1170          \n",
       "14 James     49                           1390          \n",
       "15 Perez     46                           1240          \n",
       "16 Cruz      73                           1390          \n",
       "17 Smith     19                            960          \n",
       "18 Thompson  22                           1040          \n",
       "19 Joseph    32                           1090          \n",
       "20 Singh     37                           1300          "
      ]
     },
     "metadata": {},
     "output_type": "display_data"
    }
   ],
   "source": [
    "df.all_data <- readRDS(\"tmp/df.all_data\")\n",
    "df.all_data"
   ]
  },
  {
   "cell_type": "code",
   "execution_count": null,
   "id": "strategic-regulation",
   "metadata": {},
   "outputs": [],
   "source": [
    "library('ggplot2')\n",
    "options(repr.plot.width=8, repr.plot.height=8)"
   ]
  },
  {
   "cell_type": "code",
   "execution_count": null,
   "id": "built-trailer",
   "metadata": {},
   "outputs": [],
   "source": [
    "regression_line_part = geom_line(\n",
    "    data = regression_line_df, \n",
    "    aes(\n",
    "        x=management_experience_months, \n",
    "        y=monthly_salary), \n",
    "    color=\"blue\", size=1)"
   ]
  },
  {
   "cell_type": "code",
   "execution_count": 16,
   "id": "minimal-athletics",
   "metadata": {},
   "outputs": [
    {
     "data": {
      "image/png": "[encoded data removed]",
      "text/plain": [
       "plot without title"
      ]
     },
     "metadata": {
      "image/png": {
       "height": 480,
       "width": 480
      }
     },
     "output_type": "display_data"
    }
   ],
   "source": [
    "gg.list <- list(\n",
    "    ggplot(\n",
    "        df.all_data, \n",
    "        aes(\n",
    "            x=management_experience_months, \n",
    "            y=monthly_salary)),\n",
    "    geom_point(size = 3),\n",
    "    regression_line_part,\n",
    "    expand_limits(x = 0, y = 0),\n",
    "    scale_x_continuous(\n",
    "        expand = c(0, 0), \n",
    "        limits = c(0,120)), \n",
    "    scale_y_continuous(\n",
    "        expand = c(0, 0), \n",
    "        limits = c(0,2400)), \n",
    "    labs(y=\"Monthly Salary (USD)\", \n",
    "         x = \"Management Experience (Months)\")) \n",
    "\n",
    "Reduce(\"+\", gg.list)"
   ]
  },
  {
   "cell_type": "code",
   "execution_count": 17,
   "id": "preliminary-avenue",
   "metadata": {},
   "outputs": [
    {
     "name": "stderr",
     "output_type": "stream",
     "text": [
      "Updating HTML index of packages in '.Library'\n",
      "\n",
      "Making 'packages.html' ...\n",
      " done\n",
      "\n"
     ]
    }
   ],
   "source": [
    "install.packages(\"Metrics\") \n",
    "library(Metrics)"
   ]
  },
  {
   "cell_type": "code",
   "execution_count": 20,
   "id": "equipped-directive",
   "metadata": {},
   "outputs": [],
   "source": [
    "test.pred <- manual_predict(df.test_data$management_experience_months)"
   ]
  },
  {
   "cell_type": "code",
   "execution_count": 21,
   "id": "controlling-processor",
   "metadata": {},
   "outputs": [
    {
     "data": {
      "text/html": [
       "<style>\n",
       ".list-inline {list-style: none; margin:0; padding: 0}\n",
       ".list-inline>li {display: inline-block}\n",
       ".list-inline>li:not(:last-child)::after {content: \"\\00b7\"; padding: 0 .5ex}\n",
       "</style>\n",
       "<ol class=list-inline><li>1179.99047756195</li><li>1001.2864408493</li><li>1395.92452192307</li><li>1112.97646379471</li><li>1261.89649438858</li><li>1239.5584897995</li></ol>\n"
      ],
      "text/latex": [
       "\\begin{enumerate*}\n",
       "\\item 1179.99047756195\n",
       "\\item 1001.2864408493\n",
       "\\item 1395.92452192307\n",
       "\\item 1112.97646379471\n",
       "\\item 1261.89649438858\n",
       "\\item 1239.5584897995\n",
       "\\end{enumerate*}\n"
      ],
      "text/markdown": [
       "1. 1179.99047756195\n",
       "2. 1001.2864408493\n",
       "3. 1395.92452192307\n",
       "4. 1112.97646379471\n",
       "5. 1261.89649438858\n",
       "6. 1239.5584897995\n",
       "\n",
       "\n"
      ],
      "text/plain": [
       "[1] 1179.990 1001.286 1395.925 1112.976 1261.896 1239.558"
      ]
     },
     "metadata": {},
     "output_type": "display_data"
    }
   ],
   "source": [
    "test.pred"
   ]
  },
  {
   "cell_type": "code",
   "execution_count": 22,
   "id": "rolled-packing",
   "metadata": {},
   "outputs": [
    {
     "data": {
      "text/html": [
       "84.421689076429"
      ],
      "text/latex": [
       "84.421689076429"
      ],
      "text/markdown": [
       "84.421689076429"
      ],
      "text/plain": [
       "[1] 84.42169"
      ]
     },
     "metadata": {},
     "output_type": "display_data"
    }
   ],
   "source": [
    "rmse(df.test_data$monthly_salary, test.pred)  "
   ]
  },
  {
   "cell_type": "code",
   "execution_count": 23,
   "id": "owned-packing",
   "metadata": {},
   "outputs": [
    {
     "data": {
      "text/html": [
       "7127.02158651725"
      ],
      "text/latex": [
       "7127.02158651725"
      ],
      "text/markdown": [
       "7127.02158651725"
      ],
      "text/plain": [
       "[1] 7127.022"
      ]
     },
     "metadata": {},
     "output_type": "display_data"
    }
   ],
   "source": [
    "mse(df.test_data$monthly_salary, test.pred)"
   ]
  },
  {
   "cell_type": "code",
   "execution_count": 24,
   "id": "separated-blues",
   "metadata": {},
   "outputs": [
    {
     "data": {
      "text/html": [
       "73.369359254837"
      ],
      "text/latex": [
       "73.369359254837"
      ],
      "text/markdown": [
       "73.369359254837"
      ],
      "text/plain": [
       "[1] 73.36936"
      ]
     },
     "metadata": {},
     "output_type": "display_data"
    }
   ],
   "source": [
    "mae(df.test_data$monthly_salary, test.pred)"
   ]
  }
 ],
 "metadata": {
  "kernelspec": {
   "display_name": "R",
   "language": "R",
   "name": "ir"
  },
  "language_info": {
   "codemirror_mode": "r",
   "file_extension": ".r",
   "mimetype": "text/x-r-source",
   "name": "R",
   "pygments_lexer": "r",
   "version": "4.0.3"
  }
 },
 "nbformat": 4,
 "nbformat_minor": 5
}
