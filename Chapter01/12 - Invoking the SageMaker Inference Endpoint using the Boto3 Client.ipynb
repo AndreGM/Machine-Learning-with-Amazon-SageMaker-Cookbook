{
 "cells": [
  {
   "cell_type": "markdown",
   "id": "lucky-contrary",
   "metadata": {},
   "source": [
    "## Invoking the SageMaker Inference Endpoint using the Boto3 Client\n",
    "\n",
    "- **Kernel**: `conda_python3`"
   ]
  },
  {
   "cell_type": "code",
   "execution_count": 1,
   "id": "unlikely-innocent",
   "metadata": {},
   "outputs": [],
   "source": [
    "import boto3"
   ]
  },
  {
   "cell_type": "code",
   "execution_count": 2,
   "id": "posted-offset",
   "metadata": {},
   "outputs": [],
   "source": [
    "sagemaker_client = boto3.client('sagemaker-runtime')"
   ]
  },
  {
   "cell_type": "code",
   "execution_count": 3,
   "id": "confidential-folder",
   "metadata": {},
   "outputs": [],
   "source": [
    "endpoint = 'linear-learner-r'"
   ]
  },
  {
   "cell_type": "code",
   "execution_count": 15,
   "id": "corresponding-canvas",
   "metadata": {},
   "outputs": [
    {
     "data": {
      "text/plain": [
       "{'ResponseMetadata': {'RequestId': '4cbd320f-1e5e-4877-ba2c-e8e17b6977dd',\n",
       "  'HTTPStatusCode': 200,\n",
       "  'HTTPHeaders': {'x-amzn-requestid': '4cbd320f-1e5e-4877-ba2c-e8e17b6977dd',\n",
       "   'x-amzn-invoked-production-variant': 'AllTraffic',\n",
       "   'date': 'Sat, 13 Mar 2021 13:32:46 GMT',\n",
       "   'content-type': 'application/json',\n",
       "   'content-length': '45'},\n",
       "  'RetryAttempts': 0},\n",
       " 'ContentType': 'application/json',\n",
       " 'InvokedProductionVariant': 'AllTraffic',\n",
       " 'Body': <botocore.response.StreamingBody at 0x7fdbb107a128>}"
      ]
     },
     "execution_count": 15,
     "metadata": {},
     "output_type": "execute_result"
    }
   ],
   "source": [
    "payload=\"42\"\n",
    "response = sagemaker_client.invoke_endpoint(EndpointName=endpoint, ContentType='text/csv', Body=payload)\n",
    "response"
   ]
  },
  {
   "cell_type": "code",
   "execution_count": 17,
   "id": "foster-moment",
   "metadata": {},
   "outputs": [
    {
     "data": {
      "text/plain": [
       "{'predictions': [{'score': 1209.7744140625}]}"
      ]
     },
     "execution_count": 17,
     "metadata": {},
     "output_type": "execute_result"
    }
   ],
   "source": [
    "import json\n",
    "\n",
    "result = json.loads(response['Body'].read().decode('utf-8'))\n",
    "result"
   ]
  }
 ],
 "metadata": {
  "kernelspec": {
   "display_name": "conda_python3",
   "language": "python",
   "name": "conda_python3"
  },
  "language_info": {
   "codemirror_mode": {
    "name": "ipython",
    "version": 3
   },
   "file_extension": ".py",
   "mimetype": "text/x-python",
   "name": "python",
   "nbconvert_exporter": "python",
   "pygments_lexer": "ipython3",
   "version": "3.6.13"
  }
 },
 "nbformat": 4,
 "nbformat_minor": 5
}
