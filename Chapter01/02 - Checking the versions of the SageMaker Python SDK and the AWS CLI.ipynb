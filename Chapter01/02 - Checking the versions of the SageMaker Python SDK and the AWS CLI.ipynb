{
 "cells": [
  {
   "cell_type": "markdown",
   "id": "bb3bb023",
   "metadata": {},
   "source": [
    "# Checking the versions of the SageMaker Python SDK and the AWS CLI\n",
    "\n",
    "In this recipe, we will check the **SageMaker Python SDK** version inside a notebook running the *conda_python3* kernel. The **SageMaker Python SDK** is a library which helps data scientists and machine learning practitioners train and deploy machine learning models on **Amazon SageMaker**. Knowing the version of this is critical as there are several differences between Version 1.X and Version 2.X of the **SageMaker Python SDK**. In this book, we will use Version 2.X."
   ]
  },
  {
   "cell_type": "markdown",
   "id": "551fe02b",
   "metadata": {},
   "source": [
    "### How to do it..."
   ]
  },
  {
   "cell_type": "code",
   "execution_count": null,
   "id": "b784e163",
   "metadata": {},
   "outputs": [],
   "source": [
    "import sagemaker"
   ]
  },
  {
   "cell_type": "code",
   "execution_count": null,
   "id": "41c2a148",
   "metadata": {},
   "outputs": [],
   "source": [
    "sagemaker.__version__"
   ]
  },
  {
   "cell_type": "markdown",
   "id": "265f61b0",
   "metadata": {},
   "source": [
    "<table>\n",
    "    <tr>\n",
    "        <td style=\"font-size: 14px;\">This notebook contains the code to help readers work through each of the recipes of the book <a href=\"https://www.amazon.com/Machine-Learning-Amazon-SageMaker-Cookbook/dp/1800567030\" style=\"text-decoration:none; font-weight: bold;\">Machine Learning with Amazon SageMaker Cookbook: 80 proven recipes for data scientists and developers to perform ML experiments and deployments</a>\n",
    "        </td>\n",
    "        <td width=\"150px\">\n",
    "            <img src=\"https://raw.githubusercontent.com/PacktPublishing/Amazon-SageMaker-Cookbook/master/Extra/cover.png\" width=\"150px\"/>\n",
    "        </td>\n",
    "    </tr>\n",
    "</table>"
   ]
  }
 ],
 "metadata": {
  "kernelspec": {
   "display_name": "conda_python3",
   "language": "python",
   "name": "conda_python3"
  },
  "language_info": {
   "codemirror_mode": {
    "name": "ipython",
    "version": 3
   },
   "file_extension": ".py",
   "mimetype": "text/x-python",
   "name": "python",
   "nbconvert_exporter": "python",
   "pygments_lexer": "ipython3",
   "version": "3.6.13"
  }
 },
 "nbformat": 4,
 "nbformat_minor": 5
}
