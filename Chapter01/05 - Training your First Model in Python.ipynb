{
 "cells": [
  {
   "cell_type": "markdown",
   "id": "dd4dd379",
   "metadata": {},
   "source": [
    "# Training your First Model in Python\n",
    "\n",
    "In the previous recipe, we generated a scatterplot diagram to explore the relationship between the 2 variables in the dataset. In this recipe, we will use the SageMaker **Linear Learner** built-in algorithm to build a linear regression model which predicts a professional’s salary using the number of months of relevant managerial experience. This recipe aims to demonstrate how a SageMaker built-in algorithm is used in a machine learning experiment that involves the train-test split and running the training job.\n",
    "\n",
    "![Book Cover](../Extra/chap01/05.png)\n",
    "\n",
    "The image above shows us what we will do in this recipe. Using the DataFrame loaded from the recipe `Visualizing and Understanding your Data in Python`, we will perform the train-test split and use the training dataset to train and build the model."
   ]
  },
  {
   "cell_type": "markdown",
   "id": "ffe62f15",
   "metadata": {},
   "source": [
    "### How to do it..."
   ]
  },
  {
   "cell_type": "code",
   "execution_count": null,
   "id": "81213017",
   "metadata": {},
   "outputs": [],
   "source": [
    "%store -r df_all_data"
   ]
  },
  {
   "cell_type": "code",
   "execution_count": null,
   "id": "a002a5b7",
   "metadata": {},
   "outputs": [],
   "source": [
    "from sklearn.model_selection import train_test_split\n",
    "\n",
    "X = df_all_data['management_experience_months'].values \n",
    "y = df_all_data['monthly_salary'].values\n",
    "X_train, X_test, y_train, y_test = train_test_split(X, y, test_size=0.3, random_state=0)"
   ]
  },
  {
   "cell_type": "code",
   "execution_count": null,
   "id": "4e37e881",
   "metadata": {},
   "outputs": [],
   "source": [
    "X_train"
   ]
  },
  {
   "cell_type": "code",
   "execution_count": null,
   "id": "db5a6fbf",
   "metadata": {},
   "outputs": [],
   "source": [
    "X_test"
   ]
  },
  {
   "cell_type": "code",
   "execution_count": null,
   "id": "2cfdc6c1",
   "metadata": {},
   "outputs": [],
   "source": [
    "import pandas as pd\n",
    "df_training_data = pd.DataFrame({ 'monthly_salary': y_train, 'management_experience_months': X_train})\n",
    "df_training_data"
   ]
  },
  {
   "cell_type": "code",
   "execution_count": null,
   "id": "b827015d",
   "metadata": {},
   "outputs": [],
   "source": [
    "!mkdir -p tmp"
   ]
  },
  {
   "cell_type": "code",
   "execution_count": null,
   "id": "c4f513bf",
   "metadata": {},
   "outputs": [],
   "source": [
    "df_training_data.to_csv('tmp/training_data.csv', header=False, index=False)"
   ]
  },
  {
   "cell_type": "code",
   "execution_count": null,
   "id": "5bd45b8b",
   "metadata": {},
   "outputs": [],
   "source": [
    "s3_bucket = '<insert bucket name here>'\n",
    "prefix = 'chapter01'"
   ]
  },
  {
   "cell_type": "code",
   "execution_count": null,
   "id": "63e6dea7",
   "metadata": {},
   "outputs": [],
   "source": [
    "!aws s3 cp tmp/training_data.csv s3://{s3_bucket}/{prefix}/input/training_data.csv"
   ]
  },
  {
   "cell_type": "code",
   "execution_count": null,
   "id": "dc9b40d3",
   "metadata": {},
   "outputs": [],
   "source": [
    "import sagemaker \n",
    "import boto3\n",
    "from sagemaker import get_execution_role \n",
    "\n",
    "role = get_execution_role()\n",
    "session = sagemaker.Session()\n",
    "region_name = boto3.Session().region_name"
   ]
  },
  {
   "cell_type": "code",
   "execution_count": null,
   "id": "f2944630",
   "metadata": {},
   "outputs": [],
   "source": [
    "training_s3_input_location = f\"s3://{s3_bucket}/{prefix}/input/training_data.csv\" \n",
    "training_s3_output_location = f\"s3://{s3_bucket}/{prefix}/output/\""
   ]
  },
  {
   "cell_type": "code",
   "execution_count": null,
   "id": "6554b3ec",
   "metadata": {},
   "outputs": [],
   "source": [
    "from sagemaker.inputs import TrainingInput\n",
    "\n",
    "train = TrainingInput(training_s3_input_location, content_type=\"text/csv\")"
   ]
  },
  {
   "cell_type": "code",
   "execution_count": null,
   "id": "49c544ca",
   "metadata": {},
   "outputs": [],
   "source": [
    "train.__dict__"
   ]
  },
  {
   "cell_type": "code",
   "execution_count": null,
   "id": "b056e60f",
   "metadata": {},
   "outputs": [],
   "source": [
    "from sagemaker.image_uris import retrieve \n",
    "\n",
    "container = retrieve(\"linear-learner\", region_name, \"1\")\n",
    "container"
   ]
  },
  {
   "cell_type": "code",
   "execution_count": null,
   "id": "923a56b7",
   "metadata": {},
   "outputs": [],
   "source": [
    "estimator = sagemaker.estimator.Estimator(\n",
    "    container,\n",
    "    role, \n",
    "    instance_count=1, \n",
    "    instance_type='ml.m5.xlarge',\n",
    "    output_path=training_s3_output_location,\n",
    "    sagemaker_session=session)"
   ]
  },
  {
   "cell_type": "code",
   "execution_count": null,
   "id": "1715136b",
   "metadata": {},
   "outputs": [],
   "source": [
    "estimator.set_hyperparameters(predictor_type='regressor', mini_batch_size=4)"
   ]
  },
  {
   "cell_type": "code",
   "execution_count": null,
   "id": "e13d72e5",
   "metadata": {},
   "outputs": [],
   "source": [
    "estimator.fit({'train': train})"
   ]
  },
  {
   "cell_type": "code",
   "execution_count": null,
   "id": "89ca13c7",
   "metadata": {},
   "outputs": [],
   "source": [
    "model_data = estimator.model_data\n",
    "model_data"
   ]
  },
  {
   "cell_type": "code",
   "execution_count": null,
   "id": "bcf8430f",
   "metadata": {},
   "outputs": [],
   "source": [
    "%store model_data"
   ]
  },
  {
   "cell_type": "code",
   "execution_count": null,
   "id": "05b71d23",
   "metadata": {},
   "outputs": [],
   "source": [
    "model_uri = estimator.image_uri\n",
    "model_uri"
   ]
  },
  {
   "cell_type": "code",
   "execution_count": null,
   "id": "830108a5",
   "metadata": {},
   "outputs": [],
   "source": [
    "%store model_uri"
   ]
  },
  {
   "cell_type": "code",
   "execution_count": null,
   "id": "d26bad0f",
   "metadata": {},
   "outputs": [],
   "source": [
    "%store X_test\n",
    "%store y_test"
   ]
  },
  {
   "cell_type": "markdown",
   "id": "2d12d1ad",
   "metadata": {},
   "source": [
    "<img align=\"left\" width=\"130\" src=\"https://raw.githubusercontent.com/PacktPublishing/Amazon-SageMaker-Cookbook/master/Extra/cover-small-padded.png\"/>\n",
    "\n",
    "This notebook contains the code to help readers work through each of the recipes of the book [Machine Learning with Amazon SageMaker Cookbook: 80 proven recipes for data scientists and developers to perform ML experiments and deployments](https://www.amazon.com/Machine-Learning-Amazon-SageMaker-Cookbook/dp/1800567030)"
   ]
  }
 ],
 "metadata": {
  "kernelspec": {
   "display_name": "conda_python3",
   "language": "python",
   "name": "conda_python3"
  },
  "language_info": {
   "codemirror_mode": {
    "name": "ipython",
    "version": 3
   },
   "file_extension": ".py",
   "mimetype": "text/x-python",
   "name": "python",
   "nbconvert_exporter": "python",
   "pygments_lexer": "ipython3",
   "version": "3.6.13"
  }
 },
 "nbformat": 4,
 "nbformat_minor": 5
}
