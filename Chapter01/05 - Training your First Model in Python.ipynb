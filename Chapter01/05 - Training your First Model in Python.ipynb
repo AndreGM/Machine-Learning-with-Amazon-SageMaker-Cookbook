{
 "cells": [
  {
   "cell_type": "markdown",
   "id": "c4bb4a01",
   "metadata": {},
   "source": [
    "# Training your First Model in Python"
   ]
  },
  {
   "cell_type": "markdown",
   "id": "3ebb9ac0",
   "metadata": {},
   "source": [
    "<img align=\"left\" width=\"130\" src=\"https://raw.githubusercontent.com/PacktPublishing/Amazon-SageMaker-Cookbook/master/Extra/cover-small-padded.png\"/>\n",
    "\n",
    "This notebook contains the code to help readers work through one of the recipes of the book [Machine Learning with Amazon SageMaker Cookbook: 80 proven recipes for data scientists and developers to perform ML experiments and deployments](https://www.amazon.com/Machine-Learning-Amazon-SageMaker-Cookbook/dp/1800567030)"
   ]
  },
  {
   "cell_type": "markdown",
   "id": "75fd69c5",
   "metadata": {},
   "source": [
    "### How to do it..."
   ]
  },
  {
   "cell_type": "code",
   "execution_count": null,
   "id": "f84f2f98",
   "metadata": {},
   "outputs": [],
   "source": [
    "%store -r df_all_data"
   ]
  },
  {
   "cell_type": "code",
   "execution_count": null,
   "id": "61582510",
   "metadata": {},
   "outputs": [],
   "source": [
    "from sklearn.model_selection import train_test_split\n",
    "\n",
    "X = df_all_data['management_experience_months'].values \n",
    "y = df_all_data['monthly_salary'].values\n",
    "X_train, X_test, y_train, y_test = train_test_split(X, y, test_size=0.3, random_state=0)"
   ]
  },
  {
   "cell_type": "code",
   "execution_count": null,
   "id": "e3fb3ae8",
   "metadata": {},
   "outputs": [],
   "source": [
    "X_train"
   ]
  },
  {
   "cell_type": "code",
   "execution_count": null,
   "id": "5516fb39",
   "metadata": {},
   "outputs": [],
   "source": [
    "X_test"
   ]
  },
  {
   "cell_type": "code",
   "execution_count": null,
   "id": "966cb5e5",
   "metadata": {},
   "outputs": [],
   "source": [
    "import pandas as pd\n",
    "df_training_data = pd.DataFrame({ 'monthly_salary': y_train, 'management_experience_months': X_train})\n",
    "df_training_data"
   ]
  },
  {
   "cell_type": "code",
   "execution_count": null,
   "id": "1da773d4",
   "metadata": {},
   "outputs": [],
   "source": [
    "!mkdir -p tmp"
   ]
  },
  {
   "cell_type": "code",
   "execution_count": null,
   "id": "520138d9",
   "metadata": {},
   "outputs": [],
   "source": [
    "df_training_data.to_csv('tmp/training_data.csv', header=False, index=False)"
   ]
  },
  {
   "cell_type": "code",
   "execution_count": null,
   "id": "043582c2",
   "metadata": {},
   "outputs": [],
   "source": [
    "s3_bucket = '<insert bucket name here>'\n",
    "prefix = 'chapter01'"
   ]
  },
  {
   "cell_type": "code",
   "execution_count": null,
   "id": "d11bba2d",
   "metadata": {},
   "outputs": [],
   "source": [
    "!aws s3 cp tmp/training_data.csv s3://{s3_bucket}/{prefix}/input/training_data.csv"
   ]
  },
  {
   "cell_type": "code",
   "execution_count": null,
   "id": "4db435c4",
   "metadata": {},
   "outputs": [],
   "source": [
    "import sagemaker \n",
    "import boto3\n",
    "from sagemaker import get_execution_role \n",
    "\n",
    "role = get_execution_role()\n",
    "session = sagemaker.Session()\n",
    "region_name = boto3.Session().region_name"
   ]
  },
  {
   "cell_type": "code",
   "execution_count": null,
   "id": "260d251f",
   "metadata": {},
   "outputs": [],
   "source": [
    "training_s3_input_location = f\"s3://{s3_bucket}/{prefix}/input/training_data.csv\" \n",
    "training_s3_output_location = f\"s3://{s3_bucket}/{prefix}/output/\""
   ]
  },
  {
   "cell_type": "code",
   "execution_count": null,
   "id": "a96e9823",
   "metadata": {},
   "outputs": [],
   "source": [
    "from sagemaker.inputs import TrainingInput\n",
    "\n",
    "train = TrainingInput(training_s3_input_location, content_type=\"text/csv\")"
   ]
  },
  {
   "cell_type": "code",
   "execution_count": null,
   "id": "40ea3a93",
   "metadata": {},
   "outputs": [],
   "source": [
    "train.__dict__"
   ]
  },
  {
   "cell_type": "code",
   "execution_count": null,
   "id": "13d1e6b8",
   "metadata": {},
   "outputs": [],
   "source": [
    "from sagemaker.image_uris import retrieve \n",
    "\n",
    "container = retrieve(\"linear-learner\", region_name, \"1\")\n",
    "container"
   ]
  },
  {
   "cell_type": "code",
   "execution_count": null,
   "id": "a6a8d0fc",
   "metadata": {},
   "outputs": [],
   "source": [
    "estimator = sagemaker.estimator.Estimator(\n",
    "    container,\n",
    "    role, \n",
    "    instance_count=1, \n",
    "    instance_type='ml.m5.xlarge',\n",
    "    output_path=training_s3_output_location,\n",
    "    sagemaker_session=session)"
   ]
  },
  {
   "cell_type": "code",
   "execution_count": null,
   "id": "6cd059aa",
   "metadata": {},
   "outputs": [],
   "source": [
    "estimator.set_hyperparameters(predictor_type='regressor', mini_batch_size=4)"
   ]
  },
  {
   "cell_type": "code",
   "execution_count": null,
   "id": "88eba2ae",
   "metadata": {},
   "outputs": [],
   "source": [
    "estimator.fit({'train': train})"
   ]
  },
  {
   "cell_type": "code",
   "execution_count": null,
   "id": "1d369bd3",
   "metadata": {},
   "outputs": [],
   "source": [
    "model_data = estimator.model_data\n",
    "model_data"
   ]
  },
  {
   "cell_type": "code",
   "execution_count": null,
   "id": "78fdc0d8",
   "metadata": {},
   "outputs": [],
   "source": [
    "%store model_data"
   ]
  },
  {
   "cell_type": "code",
   "execution_count": null,
   "id": "b78d3fee",
   "metadata": {},
   "outputs": [],
   "source": [
    "model_uri = estimator.image_uri\n",
    "model_uri"
   ]
  },
  {
   "cell_type": "code",
   "execution_count": null,
   "id": "9494a162",
   "metadata": {},
   "outputs": [],
   "source": [
    "%store model_uri"
   ]
  },
  {
   "cell_type": "code",
   "execution_count": null,
   "id": "2cf70669",
   "metadata": {},
   "outputs": [],
   "source": [
    "%store X_test\n",
    "%store y_test"
   ]
  }
 ],
 "metadata": {
  "kernelspec": {
   "display_name": "conda_python3",
   "language": "python",
   "name": "conda_python3"
  },
  "language_info": {
   "codemirror_mode": {
    "name": "ipython",
    "version": 3
   },
   "file_extension": ".py",
   "mimetype": "text/x-python",
   "name": "python",
   "nbconvert_exporter": "python",
   "pygments_lexer": "ipython3",
   "version": "3.6.13"
  }
 },
 "nbformat": 4,
 "nbformat_minor": 5
}
