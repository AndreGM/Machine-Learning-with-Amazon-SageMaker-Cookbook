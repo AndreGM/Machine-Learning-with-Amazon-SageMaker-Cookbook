{
 "cells": [
  {
   "cell_type": "markdown",
   "id": "widespread-quarterly",
   "metadata": {},
   "source": [
    "## Visualizing and Understanding your Data in R\n",
    "\n",
    "- **Kernel**: `R`"
   ]
  },
  {
   "cell_type": "code",
   "execution_count": 3,
   "id": "republican-maryland",
   "metadata": {},
   "outputs": [],
   "source": [
    "df.all_data <- readRDS(\"tmp/df.all_data\")"
   ]
  },
  {
   "cell_type": "code",
   "execution_count": 5,
   "id": "greenhouse-occasion",
   "metadata": {},
   "outputs": [],
   "source": [
    "set.seed(42)\n",
    "\n",
    "random.row.numbers <- sample(1:nrow(df.all_data), 0.7*nrow(df.all_data)) \n",
    "df.training_data <- df.all_data[random.row.numbers,]\n",
    "df.test_data <- df.all_data[-random.row.numbers,]"
   ]
  },
  {
   "cell_type": "code",
   "execution_count": 6,
   "id": "trained-premises",
   "metadata": {},
   "outputs": [],
   "source": [
    "df.training_data <- df.training_data[c(3,2)] \n",
    "row.names(df.training_data) <- NULL"
   ]
  },
  {
   "cell_type": "code",
   "execution_count": 7,
   "id": "accepted-hardwood",
   "metadata": {},
   "outputs": [
    {
     "data": {
      "text/html": [
       "<table class=\"dataframe\">\n",
       "<caption>A data.frame: 14 × 2</caption>\n",
       "<thead>\n",
       "\t<tr><th scope=col>monthly_salary</th><th scope=col>management_experience_months</th></tr>\n",
       "\t<tr><th scope=col>&lt;int&gt;</th><th scope=col>&lt;int&gt;</th></tr>\n",
       "</thead>\n",
       "<tbody>\n",
       "\t<tr><td> 960</td><td>19</td></tr>\n",
       "\t<tr><td>1590</td><td>94</td></tr>\n",
       "\t<tr><td>1630</td><td>65</td></tr>\n",
       "\t<tr><td> 960</td><td> 7</td></tr>\n",
       "\t<tr><td>1480</td><td>71</td></tr>\n",
       "\t<tr><td>1330</td><td>61</td></tr>\n",
       "\t<tr><td>1300</td><td>37</td></tr>\n",
       "\t<tr><td>1040</td><td>22</td></tr>\n",
       "\t<tr><td>1290</td><td>56</td></tr>\n",
       "\t<tr><td>1020</td><td>15</td></tr>\n",
       "\t<tr><td>1390</td><td>73</td></tr>\n",
       "\t<tr><td>1430</td><td>59</td></tr>\n",
       "\t<tr><td>1090</td><td>32</td></tr>\n",
       "\t<tr><td>1750</td><td>93</td></tr>\n",
       "</tbody>\n",
       "</table>\n"
      ],
      "text/latex": [
       "A data.frame: 14 × 2\n",
       "\\begin{tabular}{ll}\n",
       " monthly\\_salary & management\\_experience\\_months\\\\\n",
       " <int> & <int>\\\\\n",
       "\\hline\n",
       "\t  960 & 19\\\\\n",
       "\t 1590 & 94\\\\\n",
       "\t 1630 & 65\\\\\n",
       "\t  960 &  7\\\\\n",
       "\t 1480 & 71\\\\\n",
       "\t 1330 & 61\\\\\n",
       "\t 1300 & 37\\\\\n",
       "\t 1040 & 22\\\\\n",
       "\t 1290 & 56\\\\\n",
       "\t 1020 & 15\\\\\n",
       "\t 1390 & 73\\\\\n",
       "\t 1430 & 59\\\\\n",
       "\t 1090 & 32\\\\\n",
       "\t 1750 & 93\\\\\n",
       "\\end{tabular}\n"
      ],
      "text/markdown": [
       "\n",
       "A data.frame: 14 × 2\n",
       "\n",
       "| monthly_salary &lt;int&gt; | management_experience_months &lt;int&gt; |\n",
       "|---|---|\n",
       "|  960 | 19 |\n",
       "| 1590 | 94 |\n",
       "| 1630 | 65 |\n",
       "|  960 |  7 |\n",
       "| 1480 | 71 |\n",
       "| 1330 | 61 |\n",
       "| 1300 | 37 |\n",
       "| 1040 | 22 |\n",
       "| 1290 | 56 |\n",
       "| 1020 | 15 |\n",
       "| 1390 | 73 |\n",
       "| 1430 | 59 |\n",
       "| 1090 | 32 |\n",
       "| 1750 | 93 |\n",
       "\n"
      ],
      "text/plain": [
       "   monthly_salary management_experience_months\n",
       "1   960           19                          \n",
       "2  1590           94                          \n",
       "3  1630           65                          \n",
       "4   960            7                          \n",
       "5  1480           71                          \n",
       "6  1330           61                          \n",
       "7  1300           37                          \n",
       "8  1040           22                          \n",
       "9  1290           56                          \n",
       "10 1020           15                          \n",
       "11 1390           73                          \n",
       "12 1430           59                          \n",
       "13 1090           32                          \n",
       "14 1750           93                          "
      ]
     },
     "metadata": {},
     "output_type": "display_data"
    }
   ],
   "source": [
    "df.training_data"
   ]
  },
  {
   "cell_type": "code",
   "execution_count": 8,
   "id": "colonial-session",
   "metadata": {},
   "outputs": [
    {
     "data": {
      "text/html": [
       "<table class=\"dataframe\">\n",
       "<caption>A data.frame: 6 × 3</caption>\n",
       "<thead>\n",
       "\t<tr><th></th><th scope=col>last_name</th><th scope=col>management_experience_months</th><th scope=col>monthly_salary</th></tr>\n",
       "\t<tr><th></th><th scope=col>&lt;chr&gt;</th><th scope=col>&lt;int&gt;</th><th scope=col>&lt;int&gt;</th></tr>\n",
       "</thead>\n",
       "<tbody>\n",
       "\t<tr><th scope=row>3</th><td>Brown</td><td>38</td><td>1290</td></tr>\n",
       "\t<tr><th scope=row>11</th><td>Chen </td><td>14</td><td>1090</td></tr>\n",
       "\t<tr><th scope=row>12</th><td>Kim  </td><td>67</td><td>1340</td></tr>\n",
       "\t<tr><th scope=row>13</th><td>Davis</td><td>29</td><td>1170</td></tr>\n",
       "\t<tr><th scope=row>14</th><td>James</td><td>49</td><td>1390</td></tr>\n",
       "\t<tr><th scope=row>15</th><td>Perez</td><td>46</td><td>1240</td></tr>\n",
       "</tbody>\n",
       "</table>\n"
      ],
      "text/latex": [
       "A data.frame: 6 × 3\n",
       "\\begin{tabular}{r|lll}\n",
       "  & last\\_name & management\\_experience\\_months & monthly\\_salary\\\\\n",
       "  & <chr> & <int> & <int>\\\\\n",
       "\\hline\n",
       "\t3 & Brown & 38 & 1290\\\\\n",
       "\t11 & Chen  & 14 & 1090\\\\\n",
       "\t12 & Kim   & 67 & 1340\\\\\n",
       "\t13 & Davis & 29 & 1170\\\\\n",
       "\t14 & James & 49 & 1390\\\\\n",
       "\t15 & Perez & 46 & 1240\\\\\n",
       "\\end{tabular}\n"
      ],
      "text/markdown": [
       "\n",
       "A data.frame: 6 × 3\n",
       "\n",
       "| <!--/--> | last_name &lt;chr&gt; | management_experience_months &lt;int&gt; | monthly_salary &lt;int&gt; |\n",
       "|---|---|---|---|\n",
       "| 3 | Brown | 38 | 1290 |\n",
       "| 11 | Chen  | 14 | 1090 |\n",
       "| 12 | Kim   | 67 | 1340 |\n",
       "| 13 | Davis | 29 | 1170 |\n",
       "| 14 | James | 49 | 1390 |\n",
       "| 15 | Perez | 46 | 1240 |\n",
       "\n"
      ],
      "text/plain": [
       "   last_name management_experience_months monthly_salary\n",
       "3  Brown     38                           1290          \n",
       "11 Chen      14                           1090          \n",
       "12 Kim       67                           1340          \n",
       "13 Davis     29                           1170          \n",
       "14 James     49                           1390          \n",
       "15 Perez     46                           1240          "
      ]
     },
     "metadata": {},
     "output_type": "display_data"
    }
   ],
   "source": [
    "df.test_data"
   ]
  },
  {
   "cell_type": "code",
   "execution_count": 37,
   "id": "fitted-detail",
   "metadata": {},
   "outputs": [],
   "source": [
    "saveRDS(df.test_data, \"tmp/df.test_data\")"
   ]
  },
  {
   "cell_type": "code",
   "execution_count": 5,
   "id": "straight-tuesday",
   "metadata": {},
   "outputs": [],
   "source": [
    "cmd <- function(bash_command) {\n",
    "    output <- system(bash_command, intern=TRUE)\n",
    "    last_line = \"\"\n",
    "    \n",
    "    for (line in output) { \n",
    "        cat(line)\n",
    "        cat(\"\\n\")\n",
    "        last_line = line \n",
    "    }\n",
    "    \n",
    "    return(last_line) \n",
    "}"
   ]
  },
  {
   "cell_type": "code",
   "execution_count": 6,
   "id": "optimum-tolerance",
   "metadata": {},
   "outputs": [
    {
     "data": {
      "text/html": [
       "''"
      ],
      "text/latex": [
       "''"
      ],
      "text/markdown": [
       "''"
      ],
      "text/plain": [
       "[1] \"\""
      ]
     },
     "metadata": {},
     "output_type": "display_data"
    }
   ],
   "source": [
    "cmd('mkdir -p tmp')"
   ]
  },
  {
   "cell_type": "code",
   "execution_count": 7,
   "id": "animal-january",
   "metadata": {},
   "outputs": [],
   "source": [
    "write.table(df.training_data, \"tmp/training_data.csv\", \n",
    "            sep=\",\",\n",
    "            col.names=FALSE, row.names=FALSE)"
   ]
  },
  {
   "cell_type": "code",
   "execution_count": 8,
   "id": "actual-knowing",
   "metadata": {},
   "outputs": [],
   "source": [
    "s3.bucket <- 'sagemaker-cookbook-bucket'\n",
    "s3.prefix <- 'chapter01'\n",
    "local.source <- \"tmp/training_data.csv\"\n",
    "s3.destination <- paste0('s3://', s3.bucket, '/', s3.prefix, '/input/', 'training_data.csv')\n",
    "upload.s3.command <- paste('aws s3 cp', local.source, s3.destination) "
   ]
  },
  {
   "cell_type": "code",
   "execution_count": 9,
   "id": "earlier-bonus",
   "metadata": {},
   "outputs": [
    {
     "name": "stdout",
     "output_type": "stream",
     "text": [
      "Completed 109 Bytes/109 Bytes (1.4 KiB/s) with 1 file(s) remaining\r",
      "upload: tmp/training_data.csv to s3://sagemaker-cookbook-bucket/chapter01/input/training_data.csv\n"
     ]
    },
    {
     "data": {
      "text/html": [
       "'Completed 109 Bytes/109 Bytes (1.4 KiB/s) with 1 file(s) remaining\\rupload: tmp/training_data.csv to s3://sagemaker-cookbook-bucket/chapter01/input/training_data.csv'"
      ],
      "text/latex": [
       "'Completed 109 Bytes/109 Bytes (1.4 KiB/s) with 1 file(s) remaining\\textbackslash{}rupload: tmp/training\\_data.csv to s3://sagemaker-cookbook-bucket/chapter01/input/training\\_data.csv'"
      ],
      "text/markdown": [
       "'Completed 109 Bytes/109 Bytes (1.4 KiB/s) with 1 file(s) remaining\\rupload: tmp/training_data.csv to s3://sagemaker-cookbook-bucket/chapter01/input/training_data.csv'"
      ],
      "text/plain": [
       "[1] \"Completed 109 Bytes/109 Bytes (1.4 KiB/s) with 1 file(s) remaining\\rupload: tmp/training_data.csv to s3://sagemaker-cookbook-bucket/chapter01/input/training_data.csv\""
      ]
     },
     "metadata": {},
     "output_type": "display_data"
    }
   ],
   "source": [
    "cmd(upload.s3.command)"
   ]
  },
  {
   "cell_type": "code",
   "execution_count": 18,
   "id": "cooked-rainbow",
   "metadata": {},
   "outputs": [],
   "source": [
    "library('reticulate')\n",
    "\n",
    "sagemaker <- import('sagemaker')\n",
    "session <- sagemaker$Session()\n",
    "role <- sagemaker$get_execution_role()\n",
    "boto3 <- import('boto3')\n",
    "region_name = boto3$Session()$region_name"
   ]
  },
  {
   "cell_type": "code",
   "execution_count": 13,
   "id": "noted-rates",
   "metadata": {},
   "outputs": [],
   "source": [
    "training.s3_input_location <- s3.destination\n",
    "training.s3_output_location <- paste0('s3://', s3.bucket, '/', s3.prefix, '/output/')"
   ]
  },
  {
   "cell_type": "code",
   "execution_count": 21,
   "id": "processed-associate",
   "metadata": {},
   "outputs": [],
   "source": [
    "TrainingInput <- sagemaker$inputs$TrainingInput\n",
    "\n",
    "sagemaker.train_input <- TrainingInput(training.s3_input_location, content_type=\"text/csv\")"
   ]
  },
  {
   "cell_type": "code",
   "execution_count": 22,
   "id": "grave-rebate",
   "metadata": {},
   "outputs": [
    {
     "data": {
      "text/html": [
       "'382416733822.dkr.ecr.us-east-1.amazonaws.com/linear-learner:1'"
      ],
      "text/latex": [
       "'382416733822.dkr.ecr.us-east-1.amazonaws.com/linear-learner:1'"
      ],
      "text/markdown": [
       "'382416733822.dkr.ecr.us-east-1.amazonaws.com/linear-learner:1'"
      ],
      "text/plain": [
       "[1] \"382416733822.dkr.ecr.us-east-1.amazonaws.com/linear-learner:1\""
      ]
     },
     "metadata": {},
     "output_type": "display_data"
    }
   ],
   "source": [
    "retrieve <- sagemaker$image_uris$retrieve \n",
    "\n",
    "container <- retrieve(\"linear-learner\", region_name, \"1\")\n",
    "container"
   ]
  },
  {
   "cell_type": "code",
   "execution_count": 23,
   "id": "injured-recipe",
   "metadata": {},
   "outputs": [],
   "source": [
    "Estimator <- sagemaker$estimator$Estimator\n",
    "\n",
    "estimator <- Estimator(\n",
    "    container,\n",
    "    role, \n",
    "    instance_count=1L, \n",
    "    instance_type=\"ml.m5.xlarge\",\n",
    "    output_path=training.s3_output_location,\n",
    "    sagemaker_session=session)"
   ]
  },
  {
   "cell_type": "code",
   "execution_count": 24,
   "id": "published-andorra",
   "metadata": {},
   "outputs": [],
   "source": [
    "estimator$set_hyperparameters(predictor_type='regressor', mini_batch_size=4L)"
   ]
  },
  {
   "cell_type": "code",
   "execution_count": 25,
   "id": "excess-bradford",
   "metadata": {},
   "outputs": [],
   "source": [
    "estimator$fit(list(train = sagemaker.train_input))"
   ]
  },
  {
   "cell_type": "code",
   "execution_count": 30,
   "id": "nominated-antibody",
   "metadata": {},
   "outputs": [
    {
     "data": {
      "text/html": [
       "'s3://sagemaker-cookbook-bucket/chapter01/output/linear-learner-2021-03-13-09-45-05-295/output/model.tar.gz'"
      ],
      "text/latex": [
       "'s3://sagemaker-cookbook-bucket/chapter01/output/linear-learner-2021-03-13-09-45-05-295/output/model.tar.gz'"
      ],
      "text/markdown": [
       "'s3://sagemaker-cookbook-bucket/chapter01/output/linear-learner-2021-03-13-09-45-05-295/output/model.tar.gz'"
      ],
      "text/plain": [
       "[1] \"s3://sagemaker-cookbook-bucket/chapter01/output/linear-learner-2021-03-13-09-45-05-295/output/model.tar.gz\""
      ]
     },
     "metadata": {},
     "output_type": "display_data"
    }
   ],
   "source": [
    "estimator$model_data"
   ]
  },
  {
   "cell_type": "code",
   "execution_count": 32,
   "id": "unsigned-cookbook",
   "metadata": {},
   "outputs": [],
   "source": [
    "saveRDS(estimator$model_data, file=\"tmp/estimator$model_data\")"
   ]
  },
  {
   "cell_type": "code",
   "execution_count": 34,
   "id": "ready-haiti",
   "metadata": {},
   "outputs": [
    {
     "data": {
      "text/html": [
       "'382416733822.dkr.ecr.us-east-1.amazonaws.com/linear-learner:1'"
      ],
      "text/latex": [
       "'382416733822.dkr.ecr.us-east-1.amazonaws.com/linear-learner:1'"
      ],
      "text/markdown": [
       "'382416733822.dkr.ecr.us-east-1.amazonaws.com/linear-learner:1'"
      ],
      "text/plain": [
       "[1] \"382416733822.dkr.ecr.us-east-1.amazonaws.com/linear-learner:1\""
      ]
     },
     "metadata": {},
     "output_type": "display_data"
    }
   ],
   "source": [
    "estimator$image_uri"
   ]
  },
  {
   "cell_type": "code",
   "execution_count": 35,
   "id": "overall-direction",
   "metadata": {},
   "outputs": [],
   "source": [
    "saveRDS(estimator$image_uri, file=\"tmp/estimator$image_uri\")"
   ]
  }
 ],
 "metadata": {
  "kernelspec": {
   "display_name": "R",
   "language": "R",
   "name": "ir"
  },
  "language_info": {
   "codemirror_mode": "r",
   "file_extension": ".r",
   "mimetype": "text/x-r-source",
   "name": "R",
   "pygments_lexer": "r",
   "version": "4.0.3"
  }
 },
 "nbformat": 4,
 "nbformat_minor": 5
}
