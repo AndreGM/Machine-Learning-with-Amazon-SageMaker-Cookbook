{
 "cells": [
  {
   "cell_type": "markdown",
   "id": "012c1ac4",
   "metadata": {},
   "source": [
    "# Visualizing and Understanding your Data in Python\n",
    "\n",
    "In this recipe, we will load the sample dataset and generate a scatter plot to explore the relationship between the variables in the dataset. As you can see in the following image, we have started with a DataFrame containing the *management_experience_months* and *monthly_salary* values and generated a visualization that allows us to observe the linear relationship of these two variables.\n",
    "\n",
    "![Book Cover](../Extra/chap01/04.png)\n",
    "\n",
    "The objective of this recipe is for us to understand the data first using plotting libraries (e.g., matplotlib) before diving in directly to the other steps of the machine learning process. We will start by loading a sample dataset from a CSV file to a Pandas DataFrame and then use matplotlib to generate a scatterplot."
   ]
  },
  {
   "cell_type": "markdown",
   "id": "c73b0d15",
   "metadata": {},
   "source": [
    "### How to do it..."
   ]
  },
  {
   "cell_type": "code",
   "execution_count": null,
   "id": "72fcd743",
   "metadata": {},
   "outputs": [],
   "source": [
    "import pandas as pd\n",
    "filename = \"files/management_experience_and_salary.csv\"\n",
    "df_all_data = pd.read_csv(filename)"
   ]
  },
  {
   "cell_type": "code",
   "execution_count": null,
   "id": "95508aa1",
   "metadata": {},
   "outputs": [],
   "source": [
    "df_all_data"
   ]
  },
  {
   "cell_type": "code",
   "execution_count": null,
   "id": "739459c6",
   "metadata": {},
   "outputs": [],
   "source": [
    "%store df_all_data"
   ]
  },
  {
   "cell_type": "code",
   "execution_count": null,
   "id": "50e4e3af",
   "metadata": {},
   "outputs": [],
   "source": [
    "%matplotlib inline\n",
    "import matplotlib.pyplot as plt"
   ]
  },
  {
   "cell_type": "code",
   "execution_count": null,
   "id": "5e81a49c",
   "metadata": {},
   "outputs": [],
   "source": [
    "plt.rcParams[\"figure.figsize\"] = (8,8) \n",
    "plt.scatter(df_all_data.management_experience_months, df_all_data.monthly_salary)\n",
    "plt.xlabel('Management Experience (Months)', fontsize=18) \n",
    "plt.ylabel('Monthly Salary (USD)', fontsize=16) \n",
    "plt.xlim(0, 120)\n",
    "plt.ylim(0, 2400)"
   ]
  },
  {
   "cell_type": "markdown",
   "id": "7558c69b",
   "metadata": {},
   "source": [
    "<img align=\"left\" width=\"130\" src=\"https://raw.githubusercontent.com/PacktPublishing/Amazon-SageMaker-Cookbook/master/Extra/cover-small-padded.png\"/>\n",
    "\n",
    "This notebook contains the code to help readers work through one of the recipes of the book [Machine Learning with Amazon SageMaker Cookbook: 80 proven recipes for data scientists and developers to perform ML experiments and deployments](https://www.amazon.com/Machine-Learning-Amazon-SageMaker-Cookbook/dp/1800567030)"
   ]
  }
 ],
 "metadata": {
  "kernelspec": {
   "display_name": "conda_python3",
   "language": "python",
   "name": "conda_python3"
  },
  "language_info": {
   "codemirror_mode": {
    "name": "ipython",
    "version": 3
   },
   "file_extension": ".py",
   "mimetype": "text/x-python",
   "name": "python",
   "nbconvert_exporter": "python",
   "pygments_lexer": "ipython3",
   "version": "3.6.13"
  }
 },
 "nbformat": 4,
 "nbformat_minor": 5
}
