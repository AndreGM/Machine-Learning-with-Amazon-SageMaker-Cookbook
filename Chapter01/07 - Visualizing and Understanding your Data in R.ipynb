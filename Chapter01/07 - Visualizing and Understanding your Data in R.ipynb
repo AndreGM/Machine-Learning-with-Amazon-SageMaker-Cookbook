{
 "cells": [
  {
   "cell_type": "markdown",
   "id": "ceramic-generator",
   "metadata": {},
   "source": [
    "## Visualizing and Understanding your Data in R\n",
    "\n",
    "- **Kernel**: `R`"
   ]
  },
  {
   "cell_type": "code",
   "execution_count": 1,
   "id": "temporal-lexington",
   "metadata": {},
   "outputs": [],
   "source": [
    "df.all_data <- read.csv(\"files/management_experience_and_salary.csv\", header=TRUE)"
   ]
  },
  {
   "cell_type": "code",
   "execution_count": 14,
   "id": "confused-scene",
   "metadata": {},
   "outputs": [
    {
     "data": {
      "text/html": [
       "<table class=\"dataframe\">\n",
       "<caption>A data.frame: 20 × 3</caption>\n",
       "<thead>\n",
       "\t<tr><th scope=col>last_name</th><th scope=col>management_experience_months</th><th scope=col>monthly_salary</th></tr>\n",
       "\t<tr><th scope=col>&lt;chr&gt;</th><th scope=col>&lt;int&gt;</th><th scope=col>&lt;int&gt;</th></tr>\n",
       "</thead>\n",
       "<tbody>\n",
       "\t<tr><td>Taylor  </td><td>65</td><td>1630</td></tr>\n",
       "\t<tr><td>Wang    </td><td>61</td><td>1330</td></tr>\n",
       "\t<tr><td>Brown   </td><td>38</td><td>1290</td></tr>\n",
       "\t<tr><td>Harris  </td><td>71</td><td>1480</td></tr>\n",
       "\t<tr><td>Jones   </td><td>94</td><td>1590</td></tr>\n",
       "\t<tr><td>Garcia  </td><td>93</td><td>1750</td></tr>\n",
       "\t<tr><td>Williams</td><td>15</td><td>1020</td></tr>\n",
       "\t<tr><td>Lee     </td><td>56</td><td>1290</td></tr>\n",
       "\t<tr><td>White   </td><td>59</td><td>1430</td></tr>\n",
       "\t<tr><td>Tan     </td><td> 7</td><td> 960</td></tr>\n",
       "\t<tr><td>Chen    </td><td>14</td><td>1090</td></tr>\n",
       "\t<tr><td>Kim     </td><td>67</td><td>1340</td></tr>\n",
       "\t<tr><td>Davis   </td><td>29</td><td>1170</td></tr>\n",
       "\t<tr><td>James   </td><td>49</td><td>1390</td></tr>\n",
       "\t<tr><td>Perez   </td><td>46</td><td>1240</td></tr>\n",
       "\t<tr><td>Cruz    </td><td>73</td><td>1390</td></tr>\n",
       "\t<tr><td>Smith   </td><td>19</td><td> 960</td></tr>\n",
       "\t<tr><td>Thompson</td><td>22</td><td>1040</td></tr>\n",
       "\t<tr><td>Joseph  </td><td>32</td><td>1090</td></tr>\n",
       "\t<tr><td>Singh   </td><td>37</td><td>1300</td></tr>\n",
       "</tbody>\n",
       "</table>\n"
      ],
      "text/latex": [
       "A data.frame: 20 × 3\n",
       "\\begin{tabular}{lll}\n",
       " last\\_name & management\\_experience\\_months & monthly\\_salary\\\\\n",
       " <chr> & <int> & <int>\\\\\n",
       "\\hline\n",
       "\t Taylor   & 65 & 1630\\\\\n",
       "\t Wang     & 61 & 1330\\\\\n",
       "\t Brown    & 38 & 1290\\\\\n",
       "\t Harris   & 71 & 1480\\\\\n",
       "\t Jones    & 94 & 1590\\\\\n",
       "\t Garcia   & 93 & 1750\\\\\n",
       "\t Williams & 15 & 1020\\\\\n",
       "\t Lee      & 56 & 1290\\\\\n",
       "\t White    & 59 & 1430\\\\\n",
       "\t Tan      &  7 &  960\\\\\n",
       "\t Chen     & 14 & 1090\\\\\n",
       "\t Kim      & 67 & 1340\\\\\n",
       "\t Davis    & 29 & 1170\\\\\n",
       "\t James    & 49 & 1390\\\\\n",
       "\t Perez    & 46 & 1240\\\\\n",
       "\t Cruz     & 73 & 1390\\\\\n",
       "\t Smith    & 19 &  960\\\\\n",
       "\t Thompson & 22 & 1040\\\\\n",
       "\t Joseph   & 32 & 1090\\\\\n",
       "\t Singh    & 37 & 1300\\\\\n",
       "\\end{tabular}\n"
      ],
      "text/markdown": [
       "\n",
       "A data.frame: 20 × 3\n",
       "\n",
       "| last_name &lt;chr&gt; | management_experience_months &lt;int&gt; | monthly_salary &lt;int&gt; |\n",
       "|---|---|---|\n",
       "| Taylor   | 65 | 1630 |\n",
       "| Wang     | 61 | 1330 |\n",
       "| Brown    | 38 | 1290 |\n",
       "| Harris   | 71 | 1480 |\n",
       "| Jones    | 94 | 1590 |\n",
       "| Garcia   | 93 | 1750 |\n",
       "| Williams | 15 | 1020 |\n",
       "| Lee      | 56 | 1290 |\n",
       "| White    | 59 | 1430 |\n",
       "| Tan      |  7 |  960 |\n",
       "| Chen     | 14 | 1090 |\n",
       "| Kim      | 67 | 1340 |\n",
       "| Davis    | 29 | 1170 |\n",
       "| James    | 49 | 1390 |\n",
       "| Perez    | 46 | 1240 |\n",
       "| Cruz     | 73 | 1390 |\n",
       "| Smith    | 19 |  960 |\n",
       "| Thompson | 22 | 1040 |\n",
       "| Joseph   | 32 | 1090 |\n",
       "| Singh    | 37 | 1300 |\n",
       "\n"
      ],
      "text/plain": [
       "   last_name management_experience_months monthly_salary\n",
       "1  Taylor    65                           1630          \n",
       "2  Wang      61                           1330          \n",
       "3  Brown     38                           1290          \n",
       "4  Harris    71                           1480          \n",
       "5  Jones     94                           1590          \n",
       "6  Garcia    93                           1750          \n",
       "7  Williams  15                           1020          \n",
       "8  Lee       56                           1290          \n",
       "9  White     59                           1430          \n",
       "10 Tan        7                            960          \n",
       "11 Chen      14                           1090          \n",
       "12 Kim       67                           1340          \n",
       "13 Davis     29                           1170          \n",
       "14 James     49                           1390          \n",
       "15 Perez     46                           1240          \n",
       "16 Cruz      73                           1390          \n",
       "17 Smith     19                            960          \n",
       "18 Thompson  22                           1040          \n",
       "19 Joseph    32                           1090          \n",
       "20 Singh     37                           1300          "
      ]
     },
     "metadata": {},
     "output_type": "display_data"
    }
   ],
   "source": [
    "df.all_data"
   ]
  },
  {
   "cell_type": "code",
   "execution_count": 15,
   "id": "executive-custom",
   "metadata": {},
   "outputs": [],
   "source": [
    "saveRDS(df.all_data, \"tmp/df.all_data\")"
   ]
  },
  {
   "cell_type": "code",
   "execution_count": 11,
   "id": "bigger-tuition",
   "metadata": {},
   "outputs": [],
   "source": [
    "library(ggplot2)\n",
    "\n",
    "options(repr.plot.width=8, repr.plot.height=8)"
   ]
  },
  {
   "cell_type": "code",
   "execution_count": 13,
   "id": "center-variance",
   "metadata": {},
   "outputs": [
    {
     "data": {
      "image/png": "[encoded data removed]",
      "text/plain": [
       "plot without title"
      ]
     },
     "metadata": {
      "image/png": {
       "height": 480,
       "width": 480
      }
     },
     "output_type": "display_data"
    }
   ],
   "source": [
    "gg.list <- list(ggplot(df.all_data, aes(x=management_experience_months, y=monthly_salary)),\n",
    "                geom_point(size = 3),\n",
    "                expand_limits(x = 0, y = 0),\n",
    "                scale_x_continuous(expand = c(0, 0), \n",
    "                                   limits = c(0,120)), \n",
    "                scale_y_continuous(expand = c(0, 0), \n",
    "                                   limits = c(0,2400)), \n",
    "                labs(y=\"Monthly Salary (USD)\", x = \"Management Experience(Months)\")) \n",
    "\n",
    "\n",
    "Reduce(\"+\", gg.list)"
   ]
  }
 ],
 "metadata": {
  "kernelspec": {
   "display_name": "R",
   "language": "R",
   "name": "ir"
  },
  "language_info": {
   "codemirror_mode": "r",
   "file_extension": ".r",
   "mimetype": "text/x-r-source",
   "name": "R",
   "pygments_lexer": "r",
   "version": "4.0.3"
  }
 },
 "nbformat": 4,
 "nbformat_minor": 5
}
