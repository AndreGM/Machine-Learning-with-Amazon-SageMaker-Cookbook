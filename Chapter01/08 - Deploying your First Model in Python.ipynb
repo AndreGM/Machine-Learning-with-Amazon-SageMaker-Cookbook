{
 "cells": [
  {
   "cell_type": "markdown",
   "id": "a350a8c1",
   "metadata": {},
   "source": [
    "# Deploying your First Model in Python\n",
    "\n",
    "In the previous recipe, we performed the model evaluation step. In this recipe, we will deploy the Linear Learner model to an inference endpoint using the **SageMaker Python SDK**. What’s an inference endpoint? An inference endpoint is a web application endpoint that (1) accepts a set of values as input (e.g., x value/s), (2) loads the trained model, (3) uses the trained model to predict a value using the input, and finally (4) returns the predicted value in the preferred format.\n",
    "\n",
    "After we have deployed the model, we will test the inference endpoint with a few test predictions using sample *management_experience_months* values. We should get the corresponding predicted *monthly_salary* values within a second or less!"
   ]
  },
  {
   "cell_type": "markdown",
   "id": "1d4f3b79",
   "metadata": {},
   "source": [
    "### How to do it..."
   ]
  },
  {
   "cell_type": "code",
   "execution_count": null,
   "id": "f1286636",
   "metadata": {},
   "outputs": [],
   "source": [
    "%store -r model_data"
   ]
  },
  {
   "cell_type": "code",
   "execution_count": null,
   "id": "ae72b038",
   "metadata": {},
   "outputs": [],
   "source": [
    "model_data"
   ]
  },
  {
   "cell_type": "code",
   "execution_count": null,
   "id": "89f3751f",
   "metadata": {},
   "outputs": [],
   "source": [
    "%store -r model_uri"
   ]
  },
  {
   "cell_type": "code",
   "execution_count": null,
   "id": "2fe61fc4",
   "metadata": {},
   "outputs": [],
   "source": [
    "model_uri"
   ]
  },
  {
   "cell_type": "code",
   "execution_count": null,
   "id": "69a3b6bd",
   "metadata": {},
   "outputs": [],
   "source": [
    "import sagemaker \n",
    "from sagemaker import get_execution_role \n",
    "\n",
    "role = get_execution_role()\n",
    "session = sagemaker.Session()"
   ]
  },
  {
   "cell_type": "code",
   "execution_count": null,
   "id": "67790d66",
   "metadata": {},
   "outputs": [],
   "source": [
    "from sagemaker.model import Model\n",
    "model = Model(image_uri=model_uri, \n",
    "              model_data=model_data,\n",
    "              role=role,\n",
    "              sagemaker_session=session)"
   ]
  },
  {
   "cell_type": "code",
   "execution_count": null,
   "id": "c4f585cb",
   "metadata": {},
   "outputs": [],
   "source": [
    "from sagemaker.predictor import Predictor\n",
    "model.predictor_cls = Predictor"
   ]
  },
  {
   "cell_type": "code",
   "execution_count": null,
   "id": "294d18ae",
   "metadata": {},
   "outputs": [],
   "source": [
    "predictor = model.deploy(\n",
    "    initial_instance_count=1, \n",
    "    instance_type='ml.m5.xlarge', \n",
    "    endpoint_name=\"linear-learner-python\")"
   ]
  },
  {
   "cell_type": "code",
   "execution_count": null,
   "id": "201f8d32",
   "metadata": {},
   "outputs": [],
   "source": [
    "from sagemaker.serializers import CSVSerializer\n",
    "from sagemaker.deserializers import JSONDeserializer\n",
    "\n",
    "predictor.serializer = CSVSerializer()\n",
    "predictor.deserializer = JSONDeserializer()"
   ]
  },
  {
   "cell_type": "code",
   "execution_count": null,
   "id": "1bdba1b3",
   "metadata": {},
   "outputs": [],
   "source": [
    "predictor.predict(\"42\")"
   ]
  },
  {
   "cell_type": "code",
   "execution_count": null,
   "id": "cdce5142",
   "metadata": {},
   "outputs": [],
   "source": [
    "predictor.predict(\"81\")"
   ]
  },
  {
   "cell_type": "code",
   "execution_count": null,
   "id": "a383459b",
   "metadata": {},
   "outputs": [],
   "source": [
    "predictor.predict([\"42\", \"81\"])"
   ]
  },
  {
   "cell_type": "markdown",
   "id": "2281b713",
   "metadata": {},
   "source": [
    "<img align=\"left\" width=\"130\" src=\"https://raw.githubusercontent.com/PacktPublishing/Amazon-SageMaker-Cookbook/master/Extra/cover-small-padded.png\"/>\n",
    "\n",
    "This notebook contains the code to help readers work through each of the recipes of the book [Machine Learning with Amazon SageMaker Cookbook: 80 proven recipes for data scientists and developers to perform ML experiments and deployments](https://www.amazon.com/Machine-Learning-Amazon-SageMaker-Cookbook/dp/1800567030)"
   ]
  }
 ],
 "metadata": {
  "kernelspec": {
   "display_name": "conda_python3",
   "language": "python",
   "name": "conda_python3"
  },
  "language_info": {
   "codemirror_mode": {
    "name": "ipython",
    "version": 3
   },
   "file_extension": ".py",
   "mimetype": "text/x-python",
   "name": "python",
   "nbconvert_exporter": "python",
   "pygments_lexer": "ipython3",
   "version": "3.6.13"
  }
 },
 "nbformat": 4,
 "nbformat_minor": 5
}
