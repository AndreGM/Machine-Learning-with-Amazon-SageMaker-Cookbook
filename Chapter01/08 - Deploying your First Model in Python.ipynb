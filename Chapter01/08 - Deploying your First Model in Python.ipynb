{
 "cells": [
  {
   "cell_type": "markdown",
   "id": "73694cc2",
   "metadata": {},
   "source": [
    "# Deploying your First Model in Python\n",
    "\n",
    "In the previous recipe, we performed the model evaluation step. In this recipe, we will deploy the Linear Learner model to an inference endpoint using the **SageMaker Python SDK**. What’s an inference endpoint? An inference endpoint is a web application endpoint that (1) accepts a set of values as input (e.g., x value/s), (2) loads the trained model, (3) uses the trained model to predict a value using the input, and finally (4) returns the predicted value in the preferred format.\n",
    "\n",
    "After we have deployed the model, we will test the inference endpoint with a few test predictions using sample *management_experience_months* values. We should get the corresponding predicted *monthly_salary* values within a second or less!"
   ]
  },
  {
   "cell_type": "markdown",
   "id": "d7f7492a",
   "metadata": {},
   "source": [
    "### How to do it..."
   ]
  },
  {
   "cell_type": "code",
   "execution_count": null,
   "id": "82751e9e",
   "metadata": {},
   "outputs": [],
   "source": [
    "%store -r model_data"
   ]
  },
  {
   "cell_type": "code",
   "execution_count": null,
   "id": "efbcaf35",
   "metadata": {},
   "outputs": [],
   "source": [
    "model_data"
   ]
  },
  {
   "cell_type": "code",
   "execution_count": null,
   "id": "b83fbca2",
   "metadata": {},
   "outputs": [],
   "source": [
    "%store -r model_uri"
   ]
  },
  {
   "cell_type": "code",
   "execution_count": null,
   "id": "9c1afcb3",
   "metadata": {},
   "outputs": [],
   "source": [
    "model_uri"
   ]
  },
  {
   "cell_type": "code",
   "execution_count": null,
   "id": "b8819477",
   "metadata": {},
   "outputs": [],
   "source": [
    "import sagemaker \n",
    "from sagemaker import get_execution_role \n",
    "\n",
    "role = get_execution_role()\n",
    "session = sagemaker.Session()"
   ]
  },
  {
   "cell_type": "code",
   "execution_count": null,
   "id": "c730bd97",
   "metadata": {},
   "outputs": [],
   "source": [
    "from sagemaker.model import Model\n",
    "model = Model(image_uri=model_uri, \n",
    "              model_data=model_data,\n",
    "              role=role,\n",
    "              sagemaker_session=session)"
   ]
  },
  {
   "cell_type": "code",
   "execution_count": null,
   "id": "8bd88385",
   "metadata": {},
   "outputs": [],
   "source": [
    "from sagemaker.predictor import Predictor\n",
    "model.predictor_cls = Predictor"
   ]
  },
  {
   "cell_type": "code",
   "execution_count": null,
   "id": "f34398c4",
   "metadata": {},
   "outputs": [],
   "source": [
    "predictor = model.deploy(\n",
    "    initial_instance_count=1, \n",
    "    instance_type='ml.m5.xlarge', \n",
    "    endpoint_name=\"linear-learner-python\")"
   ]
  },
  {
   "cell_type": "code",
   "execution_count": null,
   "id": "b5dabd57",
   "metadata": {},
   "outputs": [],
   "source": [
    "from sagemaker.serializers import CSVSerializer\n",
    "from sagemaker.deserializers import JSONDeserializer\n",
    "\n",
    "predictor.serializer = CSVSerializer()\n",
    "predictor.deserializer = JSONDeserializer()"
   ]
  },
  {
   "cell_type": "code",
   "execution_count": null,
   "id": "d3a6b370",
   "metadata": {},
   "outputs": [],
   "source": [
    "predictor.predict(\"42\")"
   ]
  },
  {
   "cell_type": "code",
   "execution_count": null,
   "id": "99f3e122",
   "metadata": {},
   "outputs": [],
   "source": [
    "predictor.predict(\"81\")"
   ]
  },
  {
   "cell_type": "code",
   "execution_count": null,
   "id": "061732dc",
   "metadata": {},
   "outputs": [],
   "source": [
    "predictor.predict([\"42\", \"81\"])"
   ]
  },
  {
   "cell_type": "markdown",
   "id": "10a17e74",
   "metadata": {},
   "source": [
    "<img align=\"left\" width=\"130\" src=\"https://raw.githubusercontent.com/PacktPublishing/Amazon-SageMaker-Cookbook/master/Extra/cover-small-padded.png\"/>\n",
    "\n",
    "This notebook contains the code to help readers work through one of the recipes of the book [Machine Learning with Amazon SageMaker Cookbook: 80 proven recipes for data scientists and developers to perform ML experiments and deployments](https://www.amazon.com/Machine-Learning-Amazon-SageMaker-Cookbook/dp/1800567030)"
   ]
  }
 ],
 "metadata": {
  "kernelspec": {
   "display_name": "conda_python3",
   "language": "python",
   "name": "conda_python3"
  },
  "language_info": {
   "codemirror_mode": {
    "name": "ipython",
    "version": 3
   },
   "file_extension": ".py",
   "mimetype": "text/x-python",
   "name": "python",
   "nbconvert_exporter": "python",
   "pygments_lexer": "ipython3",
   "version": "3.6.13"
  }
 },
 "nbformat": 4,
 "nbformat_minor": 5
}
