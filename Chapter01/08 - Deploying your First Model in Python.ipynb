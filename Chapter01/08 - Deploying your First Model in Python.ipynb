{
 "cells": [
  {
   "cell_type": "markdown",
   "id": "16d0c2fd",
   "metadata": {},
   "source": [
    "# Deploying your First Model in Python"
   ]
  },
  {
   "cell_type": "markdown",
   "id": "da9f2fd6",
   "metadata": {},
   "source": [
    "<img align=\"left\" width=\"130\" src=\"https://raw.githubusercontent.com/PacktPublishing/Amazon-SageMaker-Cookbook/master/Extra/cover-small-padded.png\"/>\n",
    "\n",
    "This notebook contains the code to help readers work through one of the recipes of the book [Machine Learning with Amazon SageMaker Cookbook: 80 proven recipes for data scientists and developers to perform ML experiments and deployments](https://www.amazon.com/Machine-Learning-Amazon-SageMaker-Cookbook/dp/1800567030)"
   ]
  },
  {
   "cell_type": "markdown",
   "id": "42d4416f",
   "metadata": {},
   "source": [
    "### How to do it..."
   ]
  },
  {
   "cell_type": "code",
   "execution_count": null,
   "id": "db1d49c9",
   "metadata": {},
   "outputs": [],
   "source": [
    "%store -r model_data"
   ]
  },
  {
   "cell_type": "code",
   "execution_count": null,
   "id": "97ccdf1e",
   "metadata": {},
   "outputs": [],
   "source": [
    "model_data"
   ]
  },
  {
   "cell_type": "code",
   "execution_count": null,
   "id": "72bced9b",
   "metadata": {},
   "outputs": [],
   "source": [
    "%store -r model_uri"
   ]
  },
  {
   "cell_type": "code",
   "execution_count": null,
   "id": "2978ad01",
   "metadata": {},
   "outputs": [],
   "source": [
    "model_uri"
   ]
  },
  {
   "cell_type": "code",
   "execution_count": null,
   "id": "746c3d1c",
   "metadata": {},
   "outputs": [],
   "source": [
    "import sagemaker \n",
    "from sagemaker import get_execution_role \n",
    "\n",
    "role = get_execution_role()\n",
    "session = sagemaker.Session()"
   ]
  },
  {
   "cell_type": "code",
   "execution_count": null,
   "id": "df45a78a",
   "metadata": {},
   "outputs": [],
   "source": [
    "from sagemaker.model import Model\n",
    "model = Model(image_uri=model_uri, \n",
    "              model_data=model_data,\n",
    "              role=role,\n",
    "              sagemaker_session=session)"
   ]
  },
  {
   "cell_type": "code",
   "execution_count": null,
   "id": "1630ab72",
   "metadata": {},
   "outputs": [],
   "source": [
    "from sagemaker.predictor import Predictor\n",
    "model.predictor_cls = Predictor"
   ]
  },
  {
   "cell_type": "code",
   "execution_count": null,
   "id": "e331b9f3",
   "metadata": {},
   "outputs": [],
   "source": [
    "predictor = model.deploy(\n",
    "    initial_instance_count=1, \n",
    "    instance_type='ml.m5.xlarge', \n",
    "    endpoint_name=\"linear-learner-python\")"
   ]
  },
  {
   "cell_type": "code",
   "execution_count": null,
   "id": "c6cf1a89",
   "metadata": {},
   "outputs": [],
   "source": [
    "from sagemaker.serializers import CSVSerializer\n",
    "from sagemaker.deserializers import JSONDeserializer\n",
    "\n",
    "predictor.serializer = CSVSerializer()\n",
    "predictor.deserializer = JSONDeserializer()"
   ]
  },
  {
   "cell_type": "code",
   "execution_count": null,
   "id": "149714c7",
   "metadata": {},
   "outputs": [],
   "source": [
    "predictor.predict(\"42\")"
   ]
  },
  {
   "cell_type": "code",
   "execution_count": null,
   "id": "1393b575",
   "metadata": {},
   "outputs": [],
   "source": [
    "predictor.predict(\"81\")"
   ]
  },
  {
   "cell_type": "code",
   "execution_count": null,
   "id": "a3036a0f",
   "metadata": {},
   "outputs": [],
   "source": [
    "predictor.predict([\"42\", \"81\"])"
   ]
  }
 ],
 "metadata": {
  "kernelspec": {
   "display_name": "conda_python3",
   "language": "python",
   "name": "conda_python3"
  },
  "language_info": {
   "codemirror_mode": {
    "name": "ipython",
    "version": 3
   },
   "file_extension": ".py",
   "mimetype": "text/x-python",
   "name": "python",
   "nbconvert_exporter": "python",
   "pygments_lexer": "ipython3",
   "version": "3.6.13"
  }
 },
 "nbformat": 4,
 "nbformat_minor": 5
}
