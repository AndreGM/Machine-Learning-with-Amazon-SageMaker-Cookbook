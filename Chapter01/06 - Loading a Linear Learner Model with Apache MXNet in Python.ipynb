{
 "cells": [
  {
   "cell_type": "markdown",
   "id": "educational-advance",
   "metadata": {},
   "source": [
    "## Loading a Linear Learner Model with Apache MXNet in Python\n",
    "\n",
    "- **Kernel**: `conda_mxnet_p36`\n",
    "- **SageMaker Python SDK Version**: `2.X`"
   ]
  },
  {
   "cell_type": "code",
   "execution_count": 1,
   "id": "tired-window",
   "metadata": {},
   "outputs": [],
   "source": [
    "%store -r model_data"
   ]
  },
  {
   "cell_type": "code",
   "execution_count": 2,
   "id": "attached-halloween",
   "metadata": {},
   "outputs": [
    {
     "data": {
      "text/plain": [
       "'s3://sagemaker-cookbook-bucket/chapter01/output/linear-learner-2021-03-13-02-23-18-930/output/model.tar.gz'"
      ]
     },
     "execution_count": 2,
     "metadata": {},
     "output_type": "execute_result"
    }
   ],
   "source": [
    "model_data"
   ]
  },
  {
   "cell_type": "code",
   "execution_count": 3,
   "id": "considerable-shopper",
   "metadata": {},
   "outputs": [],
   "source": [
    "import sagemaker \n",
    "session = sagemaker.Session()"
   ]
  },
  {
   "cell_type": "code",
   "execution_count": 4,
   "id": "configured-contrast",
   "metadata": {},
   "outputs": [],
   "source": [
    "from sagemaker.s3 import S3Downloader"
   ]
  },
  {
   "cell_type": "code",
   "execution_count": 6,
   "id": "lovely-riverside",
   "metadata": {},
   "outputs": [],
   "source": [
    "S3Downloader.download(s3_uri=model_data,\n",
    "                      local_path=\"tmp/\",\n",
    "                      sagemaker_session=session)"
   ]
  },
  {
   "cell_type": "code",
   "execution_count": 7,
   "id": "established-angel",
   "metadata": {},
   "outputs": [
    {
     "name": "stdout",
     "output_type": "stream",
     "text": [
      "model.tar.gz  training_data.csv\r\n"
     ]
    }
   ],
   "source": [
    "!ls tmp"
   ]
  },
  {
   "cell_type": "code",
   "execution_count": 1,
   "id": "stuck-processing",
   "metadata": {},
   "outputs": [
    {
     "name": "stdout",
     "output_type": "stream",
     "text": [
      "model_algo-1\r\n"
     ]
    }
   ],
   "source": [
    "!tar -xzvf tmp/model.tar.gz"
   ]
  },
  {
   "cell_type": "code",
   "execution_count": 33,
   "id": "grateful-connecticut",
   "metadata": {},
   "outputs": [
    {
     "data": {
      "text/plain": [
       "256"
      ]
     },
     "execution_count": 33,
     "metadata": {},
     "output_type": "execute_result"
    }
   ],
   "source": [
    "!unzip model_algo-1 "
   ]
  },
  {
   "cell_type": "code",
   "execution_count": 31,
   "id": "subjective-moisture",
   "metadata": {},
   "outputs": [],
   "source": [
    "import mxnet\n",
    "\n",
    "from mxnet import gluon\n",
    "from json import load as json_load \n",
    "from json import dumps as json_dumps"
   ]
  },
  {
   "cell_type": "code",
   "execution_count": 35,
   "id": "anticipated-gamma",
   "metadata": {},
   "outputs": [
    {
     "name": "stderr",
     "output_type": "stream",
     "text": [
      "/home/ec2-user/anaconda3/envs/mxnet_p36/lib/python3.6/site-packages/mxnet/gluon/block.py:1454: UserWarning: Cannot decide type for the following arguments. Consider providing them as input:\n",
      "\tdata: None\n",
      "  input_sym_arg_type = in_param.infer_type()[0]\n"
     ]
    }
   ],
   "source": [
    "sym_json = json_load(open('mx-mod-symbol.json')) \n",
    "sym_json_string = json_dumps(sym_json)\n",
    "\n",
    "model = gluon.nn.SymbolBlock( \n",
    "    outputs=mxnet.sym.load_json(sym_json_string), \n",
    "    inputs=mxnet.sym.var('data'))\n",
    "\n",
    "model.load_parameters('mx-mod-0000.params', allow_missing=True)"
   ]
  },
  {
   "cell_type": "code",
   "execution_count": 36,
   "id": "advance-output",
   "metadata": {},
   "outputs": [
    {
     "name": "stderr",
     "output_type": "stream",
     "text": [
      "/home/ec2-user/anaconda3/envs/mxnet_p36/lib/python3.6/site-packages/mxnet/gluon/parameter.py:887: UserWarning: Parameter 'fc0_weight' is already initialized, ignoring. Set force_reinit=True to re-initialize.\n",
      "  v.initialize(None, ctx, init, force_reinit=force_reinit)\n",
      "/home/ec2-user/anaconda3/envs/mxnet_p36/lib/python3.6/site-packages/mxnet/gluon/parameter.py:887: UserWarning: Parameter 'fc0_bias' is already initialized, ignoring. Set force_reinit=True to re-initialize.\n",
      "  v.initialize(None, ctx, init, force_reinit=force_reinit)\n"
     ]
    }
   ],
   "source": [
    "model.initialize()\n",
    "\n",
    "def mxnet_predict(x, model=model):\n",
    "    return model(mxnet.nd.array([x]))[0].asscalar()"
   ]
  },
  {
   "cell_type": "code",
   "execution_count": 37,
   "id": "friendly-forward",
   "metadata": {},
   "outputs": [
    {
     "data": {
      "text/plain": [
       "1226.6005"
      ]
     },
     "execution_count": 37,
     "metadata": {},
     "output_type": "execute_result"
    }
   ],
   "source": [
    "mxnet_predict(42)"
   ]
  },
  {
   "cell_type": "code",
   "execution_count": 38,
   "id": "dietary-richardson",
   "metadata": {},
   "outputs": [],
   "source": [
    "def extract_weight_and_bias(model):\n",
    "    params = model.collect_params()\n",
    "    weight = params['fc0_weight'].data()[0].asscalar() \n",
    "    bias = params['fc0_bias'].data()[0].asscalar()\n",
    "    \n",
    "    return {\n",
    "        \"weight\": weight, \n",
    "        \"bias\": bias\n",
    "    } "
   ]
  },
  {
   "cell_type": "code",
   "execution_count": 40,
   "id": "impaired-emperor",
   "metadata": {},
   "outputs": [
    {
     "data": {
      "text/plain": [
       "{'weight': 8.219234, 'bias': 881.3926}"
      ]
     },
     "execution_count": 40,
     "metadata": {},
     "output_type": "execute_result"
    }
   ],
   "source": [
    "weight_and_bias = extract_weight_and_bias(model)\n",
    "weight_and_bias"
   ]
  },
  {
   "cell_type": "code",
   "execution_count": 41,
   "id": "painful-cross",
   "metadata": {},
   "outputs": [
    {
     "name": "stdout",
     "output_type": "stream",
     "text": [
      "Stored 'weight_and_bias' (dict)\n"
     ]
    }
   ],
   "source": [
    "%store weight_and_bias"
   ]
  },
  {
   "cell_type": "code",
   "execution_count": 44,
   "id": "fifth-aviation",
   "metadata": {},
   "outputs": [],
   "source": [
    "%%bash\n",
    "\n",
    "rm -f additional-params.json\n",
    "rm -f manifest.json\n",
    "rm -f model_algo-1\n",
    "rm -f mx-mod-symbol.json\n",
    "rm -f mx-mod-0000.params"
   ]
  }
 ],
 "metadata": {
  "kernelspec": {
   "display_name": "conda_mxnet_p36",
   "language": "python",
   "name": "conda_mxnet_p36"
  },
  "language_info": {
   "codemirror_mode": {
    "name": "ipython",
    "version": 3
   },
   "file_extension": ".py",
   "mimetype": "text/x-python",
   "name": "python",
   "nbconvert_exporter": "python",
   "pygments_lexer": "ipython3",
   "version": "3.6.13"
  }
 },
 "nbformat": 4,
 "nbformat_minor": 5
}
