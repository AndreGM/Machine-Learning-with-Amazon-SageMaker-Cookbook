{
 "cells": [
  {
   "cell_type": "markdown",
   "id": "af1fd37d",
   "metadata": {},
   "source": [
    "# Loading a Linear Learner Model with Apache MXNet in Python\n",
    "\n",
    "In the previous recipe, we ran a training job using the **SageMaker Python SDK**. In this recipe, we will use **Apache MXNet** and **Gluon** to load the model, extract its parameters, and perform predictions locally. If you are wondering what **Gluon** is and how it differs from **Apache MXNet**, **Gluon** is a high-level API for deep learning while **Apache MXNet** is the deep learning framework usually categorized with **TensorFlow** and **PyTorch**.\n",
    "\n",
    "![Book Cover](../Extra/chap01/06.png)\n",
    "\n",
    "That said, the objective of this recipe is to show that the model file uploaded to the **Amazon S3** bucket after the training step can be loaded and analyzed using **Apache MXNet** as shown in the image above."
   ]
  },
  {
   "cell_type": "markdown",
   "id": "2bc25e42",
   "metadata": {},
   "source": [
    "### How to do it..."
   ]
  },
  {
   "cell_type": "code",
   "execution_count": null,
   "id": "37ee0b5f",
   "metadata": {},
   "outputs": [],
   "source": [
    "%store -r model_data"
   ]
  },
  {
   "cell_type": "code",
   "execution_count": null,
   "id": "22a0ce46",
   "metadata": {},
   "outputs": [],
   "source": [
    "model_data"
   ]
  },
  {
   "cell_type": "code",
   "execution_count": null,
   "id": "87e616e4",
   "metadata": {},
   "outputs": [],
   "source": [
    "import sagemaker \n",
    "session = sagemaker.Session()"
   ]
  },
  {
   "cell_type": "code",
   "execution_count": null,
   "id": "1a3908ee",
   "metadata": {},
   "outputs": [],
   "source": [
    "from sagemaker.s3 import S3Downloader"
   ]
  },
  {
   "cell_type": "code",
   "execution_count": null,
   "id": "23ea08fa",
   "metadata": {},
   "outputs": [],
   "source": [
    "S3Downloader.download(s3_uri=model_data,\n",
    "                      local_path=\"tmp/\",\n",
    "                      sagemaker_session=session)"
   ]
  },
  {
   "cell_type": "code",
   "execution_count": null,
   "id": "9d6df870",
   "metadata": {},
   "outputs": [],
   "source": [
    "!ls tmp"
   ]
  },
  {
   "cell_type": "code",
   "execution_count": null,
   "id": "fa58bfd9",
   "metadata": {},
   "outputs": [],
   "source": [
    "!tar -xzvf tmp/model.tar.gz"
   ]
  },
  {
   "cell_type": "code",
   "execution_count": null,
   "id": "29918466",
   "metadata": {},
   "outputs": [],
   "source": [
    "!unzip model_algo-1 "
   ]
  },
  {
   "cell_type": "code",
   "execution_count": null,
   "id": "4554cc96",
   "metadata": {},
   "outputs": [],
   "source": [
    "import mxnet\n",
    "\n",
    "from mxnet import gluon\n",
    "from json import load as json_load \n",
    "from json import dumps as json_dumps"
   ]
  },
  {
   "cell_type": "code",
   "execution_count": null,
   "id": "23e8562d",
   "metadata": {},
   "outputs": [],
   "source": [
    "sym_json = json_load(open('mx-mod-symbol.json')) \n",
    "sym_json_string = json_dumps(sym_json)\n",
    "\n",
    "model = gluon.nn.SymbolBlock( \n",
    "    outputs=mxnet.sym.load_json(sym_json_string), \n",
    "    inputs=mxnet.sym.var('data'))\n",
    "\n",
    "model.load_parameters('mx-mod-0000.params', allow_missing=True)"
   ]
  },
  {
   "cell_type": "code",
   "execution_count": null,
   "id": "6dd15fb5",
   "metadata": {},
   "outputs": [],
   "source": [
    "model.initialize()\n",
    "\n",
    "def mxnet_predict(x, model=model):\n",
    "    return model(mxnet.nd.array([x]))[0].asscalar()"
   ]
  },
  {
   "cell_type": "code",
   "execution_count": null,
   "id": "9d71ff14",
   "metadata": {},
   "outputs": [],
   "source": [
    "mxnet_predict(42)"
   ]
  },
  {
   "cell_type": "code",
   "execution_count": null,
   "id": "b28d1534",
   "metadata": {},
   "outputs": [],
   "source": [
    "def extract_weight_and_bias(model):\n",
    "    params = model.collect_params()\n",
    "    weight = params['fc0_weight'].data()[0].asscalar() \n",
    "    bias = params['fc0_bias'].data()[0].asscalar()\n",
    "    \n",
    "    return {\n",
    "        \"weight\": weight, \n",
    "        \"bias\": bias\n",
    "    } "
   ]
  },
  {
   "cell_type": "code",
   "execution_count": null,
   "id": "37189b9e",
   "metadata": {},
   "outputs": [],
   "source": [
    "weight_and_bias = extract_weight_and_bias(model)\n",
    "weight_and_bias"
   ]
  },
  {
   "cell_type": "code",
   "execution_count": null,
   "id": "290d990c",
   "metadata": {},
   "outputs": [],
   "source": [
    "%store weight_and_bias"
   ]
  },
  {
   "cell_type": "code",
   "execution_count": null,
   "id": "981c2b89",
   "metadata": {},
   "outputs": [],
   "source": [
    "%%bash\n",
    "\n",
    "rm -f additional-params.json\n",
    "rm -f manifest.json\n",
    "rm -f model_algo-1\n",
    "rm -f mx-mod-symbol.json\n",
    "rm -f mx-mod-0000.params"
   ]
  },
  {
   "cell_type": "markdown",
   "id": "d4f6412f",
   "metadata": {},
   "source": [
    "<img align=\"left\" width=\"130\" src=\"https://raw.githubusercontent.com/PacktPublishing/Amazon-SageMaker-Cookbook/master/Extra/cover-small-padded.png\"/>\n",
    "\n",
    "This notebook contains the code to help readers work through each of the recipes of the book [Machine Learning with Amazon SageMaker Cookbook: 80 proven recipes for data scientists and developers to perform ML experiments and deployments](https://www.amazon.com/Machine-Learning-Amazon-SageMaker-Cookbook/dp/1800567030)"
   ]
  }
 ],
 "metadata": {
  "kernelspec": {
   "display_name": "conda_mxnet_p36",
   "language": "python",
   "name": "conda_mxnet_p36"
  },
  "language_info": {
   "codemirror_mode": {
    "name": "ipython",
    "version": 3
   },
   "file_extension": ".py",
   "mimetype": "text/x-python",
   "name": "python",
   "nbconvert_exporter": "python",
   "pygments_lexer": "ipython3",
   "version": "3.6.13"
  }
 },
 "nbformat": 4,
 "nbformat_minor": 5
}
