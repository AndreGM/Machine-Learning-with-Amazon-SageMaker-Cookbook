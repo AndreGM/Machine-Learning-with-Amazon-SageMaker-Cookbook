{
 "cells": [
  {
   "cell_type": "markdown",
   "id": "8adb4501",
   "metadata": {},
   "source": [
    "# Loading a Linear Learner Model with Apache MXNet in Python\n",
    "\n",
    "In the previous recipe, we ran a training job using the **SageMaker Python SDK**. In this recipe, we will use **Apache MXNet** and **Gluon** to load the model, extract its parameters, and perform predictions locally. If you are wondering what **Gluon** is and how it differs from **Apache MXNet**, **Gluon** is a high-level API for deep learning while **Apache MXNet** is the deep learning framework usually categorized with **TensorFlow** and **PyTorch**.\n",
    "\n",
    "![Book Cover](../Extra/chap01/06.png)\n",
    "\n",
    "That said, the objective of this recipe is to show that the model file uploaded to the **Amazon S3** bucket after the training step can be loaded and analyzed using **Apache MXNet** as shown in the image above."
   ]
  },
  {
   "cell_type": "markdown",
   "id": "27a4cf04",
   "metadata": {},
   "source": [
    "### How to do it..."
   ]
  },
  {
   "cell_type": "code",
   "execution_count": null,
   "id": "7a72f5cc",
   "metadata": {},
   "outputs": [],
   "source": [
    "%store -r model_data"
   ]
  },
  {
   "cell_type": "code",
   "execution_count": null,
   "id": "766bd995",
   "metadata": {},
   "outputs": [],
   "source": [
    "model_data"
   ]
  },
  {
   "cell_type": "code",
   "execution_count": null,
   "id": "b6b5c1aa",
   "metadata": {},
   "outputs": [],
   "source": [
    "import sagemaker \n",
    "session = sagemaker.Session()"
   ]
  },
  {
   "cell_type": "code",
   "execution_count": null,
   "id": "d4a4c504",
   "metadata": {},
   "outputs": [],
   "source": [
    "from sagemaker.s3 import S3Downloader"
   ]
  },
  {
   "cell_type": "code",
   "execution_count": null,
   "id": "778eae1d",
   "metadata": {},
   "outputs": [],
   "source": [
    "S3Downloader.download(s3_uri=model_data,\n",
    "                      local_path=\"tmp/\",\n",
    "                      sagemaker_session=session)"
   ]
  },
  {
   "cell_type": "code",
   "execution_count": null,
   "id": "b43c9c8c",
   "metadata": {},
   "outputs": [],
   "source": [
    "!ls tmp"
   ]
  },
  {
   "cell_type": "code",
   "execution_count": null,
   "id": "be5728e5",
   "metadata": {},
   "outputs": [],
   "source": [
    "!tar -xzvf tmp/model.tar.gz"
   ]
  },
  {
   "cell_type": "code",
   "execution_count": null,
   "id": "ca3b86b8",
   "metadata": {},
   "outputs": [],
   "source": [
    "!unzip model_algo-1 "
   ]
  },
  {
   "cell_type": "code",
   "execution_count": null,
   "id": "b5e69878",
   "metadata": {},
   "outputs": [],
   "source": [
    "import mxnet\n",
    "\n",
    "from mxnet import gluon\n",
    "from json import load as json_load \n",
    "from json import dumps as json_dumps"
   ]
  },
  {
   "cell_type": "code",
   "execution_count": null,
   "id": "45b816ba",
   "metadata": {},
   "outputs": [],
   "source": [
    "sym_json = json_load(open('mx-mod-symbol.json')) \n",
    "sym_json_string = json_dumps(sym_json)\n",
    "\n",
    "model = gluon.nn.SymbolBlock( \n",
    "    outputs=mxnet.sym.load_json(sym_json_string), \n",
    "    inputs=mxnet.sym.var('data'))\n",
    "\n",
    "model.load_parameters('mx-mod-0000.params', allow_missing=True)"
   ]
  },
  {
   "cell_type": "code",
   "execution_count": null,
   "id": "e9196fca",
   "metadata": {},
   "outputs": [],
   "source": [
    "model.initialize()\n",
    "\n",
    "def mxnet_predict(x, model=model):\n",
    "    return model(mxnet.nd.array([x]))[0].asscalar()"
   ]
  },
  {
   "cell_type": "code",
   "execution_count": null,
   "id": "ec39b7bf",
   "metadata": {},
   "outputs": [],
   "source": [
    "mxnet_predict(42)"
   ]
  },
  {
   "cell_type": "code",
   "execution_count": null,
   "id": "eb18e875",
   "metadata": {},
   "outputs": [],
   "source": [
    "def extract_weight_and_bias(model):\n",
    "    params = model.collect_params()\n",
    "    weight = params['fc0_weight'].data()[0].asscalar() \n",
    "    bias = params['fc0_bias'].data()[0].asscalar()\n",
    "    \n",
    "    return {\n",
    "        \"weight\": weight, \n",
    "        \"bias\": bias\n",
    "    } "
   ]
  },
  {
   "cell_type": "code",
   "execution_count": null,
   "id": "2e14a68b",
   "metadata": {},
   "outputs": [],
   "source": [
    "weight_and_bias = extract_weight_and_bias(model)\n",
    "weight_and_bias"
   ]
  },
  {
   "cell_type": "code",
   "execution_count": null,
   "id": "d1436831",
   "metadata": {},
   "outputs": [],
   "source": [
    "%store weight_and_bias"
   ]
  },
  {
   "cell_type": "code",
   "execution_count": null,
   "id": "50992432",
   "metadata": {},
   "outputs": [],
   "source": [
    "%%bash\n",
    "\n",
    "rm -f additional-params.json\n",
    "rm -f manifest.json\n",
    "rm -f model_algo-1\n",
    "rm -f mx-mod-symbol.json\n",
    "rm -f mx-mod-0000.params"
   ]
  },
  {
   "cell_type": "markdown",
   "id": "e7b33592",
   "metadata": {},
   "source": [
    "<img align=\"left\" width=\"130\" src=\"https://raw.githubusercontent.com/PacktPublishing/Amazon-SageMaker-Cookbook/master/Extra/cover-small-padded.png\"/>\n",
    "\n",
    "This notebook contains the code to help readers work through one of the recipes of the book [Machine Learning with Amazon SageMaker Cookbook: 80 proven recipes for data scientists and developers to perform ML experiments and deployments](https://www.amazon.com/Machine-Learning-Amazon-SageMaker-Cookbook/dp/1800567030)"
   ]
  }
 ],
 "metadata": {
  "kernelspec": {
   "display_name": "conda_mxnet_p36",
   "language": "python",
   "name": "conda_mxnet_p36"
  },
  "language_info": {
   "codemirror_mode": {
    "name": "ipython",
    "version": 3
   },
   "file_extension": ".py",
   "mimetype": "text/x-python",
   "name": "python",
   "nbconvert_exporter": "python",
   "pygments_lexer": "ipython3",
   "version": "3.6.13"
  }
 },
 "nbformat": 4,
 "nbformat_minor": 5
}
