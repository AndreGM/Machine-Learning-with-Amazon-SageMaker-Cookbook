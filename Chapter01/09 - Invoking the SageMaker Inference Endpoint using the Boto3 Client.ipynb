{
 "cells": [
  {
   "cell_type": "markdown",
   "id": "28c17900",
   "metadata": {},
   "source": [
    "# Invoking the SageMaker Inference Endpoint using the Boto3 Client"
   ]
  },
  {
   "cell_type": "markdown",
   "id": "9b3484bd",
   "metadata": {},
   "source": [
    "<img align=\"left\" width=\"130\" src=\"https://raw.githubusercontent.com/PacktPublishing/Amazon-SageMaker-Cookbook/master/Extra/cover-small-padded.png\"/>\n",
    "\n",
    "This notebook contains the code to help readers work through one of the recipes of the book [Machine Learning with Amazon SageMaker Cookbook: 80 proven recipes for data scientists and developers to perform ML experiments and deployments](https://www.amazon.com/Machine-Learning-Amazon-SageMaker-Cookbook/dp/1800567030)"
   ]
  },
  {
   "cell_type": "markdown",
   "id": "49fe293b",
   "metadata": {},
   "source": [
    "### How to do it..."
   ]
  },
  {
   "cell_type": "code",
   "execution_count": null,
   "id": "71ca5adf",
   "metadata": {},
   "outputs": [],
   "source": [
    "import boto3"
   ]
  },
  {
   "cell_type": "code",
   "execution_count": null,
   "id": "61efa907",
   "metadata": {},
   "outputs": [],
   "source": [
    "sagemaker_client = boto3.client('sagemaker-runtime')"
   ]
  },
  {
   "cell_type": "code",
   "execution_count": null,
   "id": "113b28b0",
   "metadata": {},
   "outputs": [],
   "source": [
    "endpoint = 'linear-learner-python'"
   ]
  },
  {
   "cell_type": "code",
   "execution_count": null,
   "id": "a0032aca",
   "metadata": {},
   "outputs": [],
   "source": [
    "payload=\"42\"\n",
    "response = sagemaker_client.invoke_endpoint(\n",
    "    EndpointName=endpoint, \n",
    "    ContentType='text/csv', \n",
    "    Body=payload)\n",
    "\n",
    "response"
   ]
  },
  {
   "cell_type": "code",
   "execution_count": null,
   "id": "a5d0dc24",
   "metadata": {},
   "outputs": [],
   "source": [
    "import json\n",
    "\n",
    "result = json.loads(response['Body'].read().decode('utf-8'))\n",
    "result"
   ]
  }
 ],
 "metadata": {
  "kernelspec": {
   "display_name": "conda_python3",
   "language": "python",
   "name": "conda_python3"
  },
  "language_info": {
   "codemirror_mode": {
    "name": "ipython",
    "version": 3
   },
   "file_extension": ".py",
   "mimetype": "text/x-python",
   "name": "python",
   "nbconvert_exporter": "python",
   "pygments_lexer": "ipython3",
   "version": "3.6.13"
  }
 },
 "nbformat": 4,
 "nbformat_minor": 5
}
