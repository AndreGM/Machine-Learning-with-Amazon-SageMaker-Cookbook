{
 "cells": [
  {
   "cell_type": "markdown",
   "id": "1d96a9d3",
   "metadata": {},
   "source": [
    "# Invoking the SageMaker Inference Endpoint using the Boto3 Client\n",
    "\n",
    "With our model deployed in an inference endpoint using the `SageMaker` hosting services, we can now use the SageMakerRuntime client from `boto3` to invoke the endpoint. This will help us invoke the SageMaker inference endpoint within any application code using boto3 or a similar SDK. For example, we can use this in an **AWS Lambda** function with **Amazon API Gateway** to build a serverless API endpoint that accepts an HTTP request containing the number of months of management experience of a professional and returns a response with the predicted monthly salary of that individual.\n",
    "\n",
    "In this recipe, we will use the `invoke_endpoint()` function from the `SageMakerRuntime` Client from `boto3` to trigger an existing SageMaker inference endpoint. We can use the deployed endpoint from the recipe `Deploying your First Model in Python`."
   ]
  },
  {
   "cell_type": "markdown",
   "id": "cfdd2603",
   "metadata": {},
   "source": [
    "### How to do it..."
   ]
  },
  {
   "cell_type": "code",
   "execution_count": null,
   "id": "84dacab0",
   "metadata": {},
   "outputs": [],
   "source": [
    "import boto3"
   ]
  },
  {
   "cell_type": "code",
   "execution_count": null,
   "id": "4bea9514",
   "metadata": {},
   "outputs": [],
   "source": [
    "sagemaker_client = boto3.client('sagemaker-runtime')"
   ]
  },
  {
   "cell_type": "code",
   "execution_count": null,
   "id": "f559c582",
   "metadata": {},
   "outputs": [],
   "source": [
    "endpoint = 'linear-learner-python'"
   ]
  },
  {
   "cell_type": "code",
   "execution_count": null,
   "id": "dc218d17",
   "metadata": {},
   "outputs": [],
   "source": [
    "payload=\"42\"\n",
    "response = sagemaker_client.invoke_endpoint(\n",
    "    EndpointName=endpoint, \n",
    "    ContentType='text/csv', \n",
    "    Body=payload)\n",
    "\n",
    "response"
   ]
  },
  {
   "cell_type": "code",
   "execution_count": null,
   "id": "ed83f000",
   "metadata": {},
   "outputs": [],
   "source": [
    "import json\n",
    "\n",
    "result = json.loads(response['Body'].read().decode('utf-8'))\n",
    "result"
   ]
  },
  {
   "cell_type": "markdown",
   "id": "ede8283f",
   "metadata": {},
   "source": [
    "<img align=\"left\" width=\"130\" src=\"https://raw.githubusercontent.com/PacktPublishing/Amazon-SageMaker-Cookbook/master/Extra/cover-small-padded.png\"/>\n",
    "\n",
    "This notebook contains the code to help readers work through one of the recipes of the book [Machine Learning with Amazon SageMaker Cookbook: 80 proven recipes for data scientists and developers to perform ML experiments and deployments](https://www.amazon.com/Machine-Learning-Amazon-SageMaker-Cookbook/dp/1800567030)"
   ]
  }
 ],
 "metadata": {
  "kernelspec": {
   "display_name": "conda_python3",
   "language": "python",
   "name": "conda_python3"
  },
  "language_info": {
   "codemirror_mode": {
    "name": "ipython",
    "version": 3
   },
   "file_extension": ".py",
   "mimetype": "text/x-python",
   "name": "python",
   "nbconvert_exporter": "python",
   "pygments_lexer": "ipython3",
   "version": "3.6.13"
  }
 },
 "nbformat": 4,
 "nbformat_minor": 5
}
