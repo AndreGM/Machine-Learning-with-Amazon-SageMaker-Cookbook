{
 "cells": [
  {
   "cell_type": "markdown",
   "id": "confused-nickname",
   "metadata": {},
   "source": [
    "## Visualizing and Understanding your Data in R\n",
    "\n",
    "- **Kernel**: `conda_mxnet_p36` when running `import mxnet` then `R` for everything else"
   ]
  },
  {
   "cell_type": "markdown",
   "id": "failing-landing",
   "metadata": {},
   "source": [
    "### Import MXNet"
   ]
  },
  {
   "cell_type": "code",
   "execution_count": 1,
   "id": "competent-restaurant",
   "metadata": {},
   "outputs": [],
   "source": [
    "# ensure kernel is conda_mxnet_p36"
   ]
  },
  {
   "cell_type": "code",
   "execution_count": 2,
   "id": "spectacular-support",
   "metadata": {},
   "outputs": [],
   "source": [
    "import mxnet"
   ]
  },
  {
   "cell_type": "code",
   "execution_count": null,
   "id": "grateful-precipitation",
   "metadata": {},
   "outputs": [],
   "source": [
    "# Change kernel to R"
   ]
  },
  {
   "cell_type": "code",
   "execution_count": 1,
   "id": "moderate-announcement",
   "metadata": {},
   "outputs": [
    {
     "name": "stdout",
     "output_type": "stream",
     "text": [
      "[1] \"hello from R\"\n"
     ]
    }
   ],
   "source": [
    "print('hello from R')"
   ]
  },
  {
   "cell_type": "code",
   "execution_count": 2,
   "id": "found-satellite",
   "metadata": {},
   "outputs": [],
   "source": [
    "library('reticulate')"
   ]
  },
  {
   "cell_type": "code",
   "execution_count": 3,
   "id": "narrative-mathematics",
   "metadata": {},
   "outputs": [],
   "source": [
    "import.MXNet.attempt = function() {\n",
    "    mxnet <- NULL\n",
    "\n",
    "    tryCatch({\n",
    "        mxnet <- import('mxnet')\n",
    "        print('Successfully loaded MXNet')\n",
    "    }, error = function(e) {\n",
    "        print('Error loading MXNet')\n",
    "    })  \n",
    "    \n",
    "    return(mxnet)\n",
    "}\n",
    "\n",
    "import.MXNet = function() {\n",
    "    mxnet = NULL\n",
    "    \n",
    "    for (i in 1:10) {\n",
    "        mxnet <- import.MXNet.attempt()\n",
    "        if (!is.null(mxnet)) {\n",
    "            return(mxnet)\n",
    "        }\n",
    "    }\n",
    "    \n",
    "    return(mxnet)\n",
    "}"
   ]
  },
  {
   "cell_type": "code",
   "execution_count": 4,
   "id": "productive-father",
   "metadata": {},
   "outputs": [
    {
     "name": "stdout",
     "output_type": "stream",
     "text": [
      "[1] \"Error loading MXNet\"\n",
      "[1] \"Successfully loaded MXNet\"\n"
     ]
    }
   ],
   "source": [
    "mxnet <- import.MXNet()"
   ]
  },
  {
   "cell_type": "code",
   "execution_count": 5,
   "id": "alone-inspector",
   "metadata": {},
   "outputs": [
    {
     "data": {
      "text/plain": [
       "Module(mxnet)"
      ]
     },
     "metadata": {},
     "output_type": "display_data"
    }
   ],
   "source": [
    "mxnet"
   ]
  },
  {
   "cell_type": "code",
   "execution_count": 32,
   "id": "personalized-throat",
   "metadata": {},
   "outputs": [
    {
     "data": {
      "text/html": [
       "'1.5.1'"
      ],
      "text/latex": [
       "'1.5.1'"
      ],
      "text/markdown": [
       "'1.5.1'"
      ],
      "text/plain": [
       "[1] \"1.5.1\""
      ]
     },
     "metadata": {},
     "output_type": "display_data"
    }
   ],
   "source": [
    "mxnet['__version__']"
   ]
  },
  {
   "cell_type": "markdown",
   "id": "defensive-diagnosis",
   "metadata": {},
   "source": [
    "### Load Model with Apache MXNet"
   ]
  },
  {
   "cell_type": "code",
   "execution_count": 7,
   "id": "guilty-bridge",
   "metadata": {},
   "outputs": [],
   "source": [
    "json <- import(\"json\") \n",
    "builtins <- import_builtins()"
   ]
  },
  {
   "cell_type": "code",
   "execution_count": 8,
   "id": "increasing-firmware",
   "metadata": {},
   "outputs": [],
   "source": [
    "model_data <- readRDS(file=\"tmp/estimator$model_data\")"
   ]
  },
  {
   "cell_type": "code",
   "execution_count": 9,
   "id": "unlimited-vessel",
   "metadata": {},
   "outputs": [
    {
     "data": {
      "text/html": [
       "'s3://sagemaker-cookbook-bucket/chapter01/output/linear-learner-2021-03-13-09-45-05-295/output/model.tar.gz'"
      ],
      "text/latex": [
       "'s3://sagemaker-cookbook-bucket/chapter01/output/linear-learner-2021-03-13-09-45-05-295/output/model.tar.gz'"
      ],
      "text/markdown": [
       "'s3://sagemaker-cookbook-bucket/chapter01/output/linear-learner-2021-03-13-09-45-05-295/output/model.tar.gz'"
      ],
      "text/plain": [
       "[1] \"s3://sagemaker-cookbook-bucket/chapter01/output/linear-learner-2021-03-13-09-45-05-295/output/model.tar.gz\""
      ]
     },
     "metadata": {},
     "output_type": "display_data"
    }
   ],
   "source": [
    "model_data"
   ]
  },
  {
   "cell_type": "code",
   "execution_count": 10,
   "id": "aware-referral",
   "metadata": {},
   "outputs": [],
   "source": [
    "cmd <- function(bash_command) {\n",
    "    output <- system(bash_command, intern=TRUE)\n",
    "    last_line = \"\"\n",
    "    \n",
    "    for (line in output) { \n",
    "        cat(line)\n",
    "        cat(\"\\n\")\n",
    "        last_line = line \n",
    "    }\n",
    "    \n",
    "    return(last_line) \n",
    "}"
   ]
  },
  {
   "cell_type": "code",
   "execution_count": 11,
   "id": "convinced-concert",
   "metadata": {},
   "outputs": [
    {
     "name": "stdout",
     "output_type": "stream",
     "text": [
      "Completed 851 Bytes/851 Bytes (7.9 KiB/s) with 1 file(s) remaining\r",
      "download: s3://sagemaker-cookbook-bucket/chapter01/output/linear-learner-2021-03-13-09-45-05-295/output/model.tar.gz to tmp/model.tar.gz\n"
     ]
    },
    {
     "data": {
      "text/html": [
       "'Completed 851 Bytes/851 Bytes (7.9 KiB/s) with 1 file(s) remaining\\rdownload: s3://sagemaker-cookbook-bucket/chapter01/output/linear-learner-2021-03-13-09-45-05-295/output/model.tar.gz to tmp/model.tar.gz'"
      ],
      "text/latex": [
       "'Completed 851 Bytes/851 Bytes (7.9 KiB/s) with 1 file(s) remaining\\textbackslash{}rdownload: s3://sagemaker-cookbook-bucket/chapter01/output/linear-learner-2021-03-13-09-45-05-295/output/model.tar.gz to tmp/model.tar.gz'"
      ],
      "text/markdown": [
       "'Completed 851 Bytes/851 Bytes (7.9 KiB/s) with 1 file(s) remaining\\rdownload: s3://sagemaker-cookbook-bucket/chapter01/output/linear-learner-2021-03-13-09-45-05-295/output/model.tar.gz to tmp/model.tar.gz'"
      ],
      "text/plain": [
       "[1] \"Completed 851 Bytes/851 Bytes (7.9 KiB/s) with 1 file(s) remaining\\rdownload: s3://sagemaker-cookbook-bucket/chapter01/output/linear-learner-2021-03-13-09-45-05-295/output/model.tar.gz to tmp/model.tar.gz\""
      ]
     },
     "metadata": {},
     "output_type": "display_data"
    }
   ],
   "source": [
    "cmd(paste(\"aws s3 cp\", model_data, \"tmp/model.tar.gz\"))"
   ]
  },
  {
   "cell_type": "code",
   "execution_count": 12,
   "id": "current-motivation",
   "metadata": {},
   "outputs": [
    {
     "name": "stdout",
     "output_type": "stream",
     "text": [
      "model_algo-1\n"
     ]
    },
    {
     "data": {
      "text/html": [
       "'model_algo-1'"
      ],
      "text/latex": [
       "'model\\_algo-1'"
      ],
      "text/markdown": [
       "'model_algo-1'"
      ],
      "text/plain": [
       "[1] \"model_algo-1\""
      ]
     },
     "metadata": {},
     "output_type": "display_data"
    }
   ],
   "source": [
    "cmd(\"tar -xzvf tmp/model.tar.gz\")"
   ]
  },
  {
   "cell_type": "code",
   "execution_count": 13,
   "id": "serial-cycling",
   "metadata": {},
   "outputs": [
    {
     "name": "stdout",
     "output_type": "stream",
     "text": [
      "Archive:  model_algo-1\n",
      " extracting: additional-params.json  \n",
      " extracting: mx-mod-0000.params      \n",
      " extracting: manifest.json           \n",
      " extracting: mx-mod-symbol.json      \n"
     ]
    },
    {
     "data": {
      "text/html": [
       "<span style=white-space:pre-wrap>' extracting: mx-mod-symbol.json      '</span>"
      ],
      "text/latex": [
       "' extracting: mx-mod-symbol.json      '"
      ],
      "text/markdown": [
       "<span style=white-space:pre-wrap>' extracting: mx-mod-symbol.json      '</span>"
      ],
      "text/plain": [
       "[1] \" extracting: mx-mod-symbol.json      \""
      ]
     },
     "metadata": {},
     "output_type": "display_data"
    }
   ],
   "source": [
    "cmd(\"unzip model_algo-1\")"
   ]
  },
  {
   "cell_type": "code",
   "execution_count": 15,
   "id": "naked-group",
   "metadata": {},
   "outputs": [],
   "source": [
    "sym_json <- json$load(builtins$open('mx-mod-symbol.json')) \n",
    "sym_json_string = json$dumps(sym_json)\n",
    "\n",
    "outputs <- mxnet$sym$load_json(sym_json_string) \n",
    "inputs <- mxnet$sym$var('data')\n",
    "\n",
    "model <- mxnet$gluon$nn$SymbolBlock(outputs=outputs,\n",
    "                                    inputs=inputs) \n",
    "\n",
    "model$load_parameters('mx-mod-0000.params', allow_missing=TRUE)\n",
    "model$initialize()"
   ]
  },
  {
   "cell_type": "code",
   "execution_count": 16,
   "id": "selective-transition",
   "metadata": {},
   "outputs": [],
   "source": [
    "mxnet_predict <- function(x, target_model=model) {\n",
    "    output = target_model(mxnet$nd$array(as.list(x)))[0]$asscalar()\n",
    "    \n",
    "    return(output) \n",
    "}"
   ]
  },
  {
   "cell_type": "code",
   "execution_count": 17,
   "id": "neither-niagara",
   "metadata": {},
   "outputs": [
    {
     "data": {
      "text/html": [
       "1209.7744140625"
      ],
      "text/latex": [
       "1209.7744140625"
      ],
      "text/markdown": [
       "1209.7744140625"
      ],
      "text/plain": [
       "[1] 1209.774"
      ]
     },
     "metadata": {},
     "output_type": "display_data"
    }
   ],
   "source": [
    "mxnet_predict(\"42\")"
   ]
  },
  {
   "cell_type": "code",
   "execution_count": 19,
   "id": "unlimited-kenya",
   "metadata": {},
   "outputs": [],
   "source": [
    "extract_weight_and_bias <- function(model) {\n",
    "    params <- model$collect_params()\n",
    "    weight <- params['fc0_weight']$data()[0]$asscalar() \n",
    "    bias <- params['fc0_bias']$data()[0]$asscalar()\n",
    "    \n",
    "    return (list(weight=weight, bias=bias)) \n",
    "}"
   ]
  },
  {
   "cell_type": "code",
   "execution_count": 20,
   "id": "acknowledged-restaurant",
   "metadata": {},
   "outputs": [
    {
     "data": {
      "text/html": [
       "<dl>\n",
       "\t<dt>$weight</dt>\n",
       "\t\t<dd>7.4460015296936</dd>\n",
       "\t<dt>$bias</dt>\n",
       "\t\t<dd>897.042419433594</dd>\n",
       "</dl>\n"
      ],
      "text/latex": [
       "\\begin{description}\n",
       "\\item[\\$weight] 7.4460015296936\n",
       "\\item[\\$bias] 897.042419433594\n",
       "\\end{description}\n"
      ],
      "text/markdown": [
       "$weight\n",
       ":   7.4460015296936\n",
       "$bias\n",
       ":   897.042419433594\n",
       "\n",
       "\n"
      ],
      "text/plain": [
       "$weight\n",
       "[1] 7.446002\n",
       "\n",
       "$bias\n",
       "[1] 897.0424\n"
      ]
     },
     "metadata": {},
     "output_type": "display_data"
    }
   ],
   "source": [
    "weight_and_bias <- extract_weight_and_bias(model)\n",
    "weight_and_bias "
   ]
  },
  {
   "cell_type": "code",
   "execution_count": 21,
   "id": "primary-income",
   "metadata": {},
   "outputs": [],
   "source": [
    "saveRDS(weight_and_bias, file=\"tmp/weight_and_bias\")"
   ]
  },
  {
   "cell_type": "code",
   "execution_count": 23,
   "id": "fancy-connection",
   "metadata": {},
   "outputs": [],
   "source": [
    "to.be.deleted <- c(\n",
    "  'additional-params.json',\n",
    "  'manifest.json',\n",
    "  'model_algo-1',\n",
    "  'mx-mod-symbol.json',\n",
    "  'mx-mod-0000.params'\n",
    ")"
   ]
  },
  {
   "cell_type": "code",
   "execution_count": 25,
   "id": "electric-audio",
   "metadata": {},
   "outputs": [],
   "source": [
    "for (file in to.be.deleted) {\n",
    "    delete_command <- paste(\"rm -f\", file)\n",
    "    cmd(delete_command)\n",
    "}"
   ]
  }
 ],
 "metadata": {
  "kernelspec": {
   "display_name": "R",
   "language": "R",
   "name": "ir"
  },
  "language_info": {
   "codemirror_mode": "r",
   "file_extension": ".r",
   "mimetype": "text/x-r-source",
   "name": "R",
   "pygments_lexer": "r",
   "version": "4.0.3"
  }
 },
 "nbformat": 4,
 "nbformat_minor": 5
}
