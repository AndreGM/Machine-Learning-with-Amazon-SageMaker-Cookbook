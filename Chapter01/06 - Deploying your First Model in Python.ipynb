{
 "cells": [
  {
   "cell_type": "markdown",
   "id": "accessible-example",
   "metadata": {},
   "source": [
    "## Deploying your First Model in Python\n",
    "\n",
    "- **Kernel**: `conda_python3`\n",
    "- **SageMaker Python SDK Version**: `2.X`"
   ]
  },
  {
   "cell_type": "code",
   "execution_count": 1,
   "id": "forward-motel",
   "metadata": {},
   "outputs": [],
   "source": [
    "%store -r model_data"
   ]
  },
  {
   "cell_type": "code",
   "execution_count": 2,
   "id": "pretty-center",
   "metadata": {},
   "outputs": [
    {
     "data": {
      "text/plain": [
       "'s3://sagemaker-cookbook-bucket/chapter01/output/linear-learner-2021-03-13-02-23-18-930/output/model.tar.gz'"
      ]
     },
     "execution_count": 2,
     "metadata": {},
     "output_type": "execute_result"
    }
   ],
   "source": [
    "model_data"
   ]
  },
  {
   "cell_type": "code",
   "execution_count": 4,
   "id": "theoretical-chinese",
   "metadata": {},
   "outputs": [],
   "source": [
    "%store -r model_uri"
   ]
  },
  {
   "cell_type": "code",
   "execution_count": 5,
   "id": "competent-straight",
   "metadata": {},
   "outputs": [
    {
     "data": {
      "text/plain": [
       "'382416733822.dkr.ecr.us-east-1.amazonaws.com/linear-learner:1'"
      ]
     },
     "execution_count": 5,
     "metadata": {},
     "output_type": "execute_result"
    }
   ],
   "source": [
    "model_uri"
   ]
  },
  {
   "cell_type": "code",
   "execution_count": 28,
   "id": "proprietary-graph",
   "metadata": {},
   "outputs": [],
   "source": [
    "import sagemaker \n",
    "from sagemaker import get_execution_role \n",
    "\n",
    "role = get_execution_role()\n",
    "session = sagemaker.Session()"
   ]
  },
  {
   "cell_type": "code",
   "execution_count": 16,
   "id": "previous-jefferson",
   "metadata": {},
   "outputs": [],
   "source": [
    "from sagemaker.model import Model\n",
    "model = Model(image_uri=model_uri, \n",
    "              model_data=model_data,\n",
    "              role=role,\n",
    "              sagemaker_session=session)"
   ]
  },
  {
   "cell_type": "code",
   "execution_count": 17,
   "id": "surgical-province",
   "metadata": {},
   "outputs": [],
   "source": [
    "from sagemaker.predictor import Predictor\n",
    "model.predictor_cls = Predictor"
   ]
  },
  {
   "cell_type": "code",
   "execution_count": 19,
   "id": "backed-simpson",
   "metadata": {},
   "outputs": [
    {
     "name": "stdout",
     "output_type": "stream",
     "text": [
      "-------------!"
     ]
    }
   ],
   "source": [
    "predictor = model.deploy(\n",
    "    initial_instance_count=1, \n",
    "    instance_type='ml.m5.xlarge', \n",
    "    endpoint_name=\"linear-learner-python\")"
   ]
  },
  {
   "cell_type": "code",
   "execution_count": 22,
   "id": "billion-badge",
   "metadata": {},
   "outputs": [],
   "source": [
    "from sagemaker.serializers import CSVSerializer\n",
    "from sagemaker.deserializers import JSONDeserializer\n",
    "\n",
    "predictor.serializer = CSVSerializer()\n",
    "predictor.deserializer = JSONDeserializer()"
   ]
  },
  {
   "cell_type": "code",
   "execution_count": 24,
   "id": "exclusive-angle",
   "metadata": {},
   "outputs": [
    {
     "data": {
      "text/plain": [
       "{'predictions': [{'score': 1226.6004638671875}]}"
      ]
     },
     "execution_count": 24,
     "metadata": {},
     "output_type": "execute_result"
    }
   ],
   "source": [
    "predictor.predict(\"42\")"
   ]
  },
  {
   "cell_type": "code",
   "execution_count": 26,
   "id": "soviet-worth",
   "metadata": {},
   "outputs": [
    {
     "data": {
      "text/plain": [
       "{'predictions': [{'score': 1547.150634765625}]}"
      ]
     },
     "execution_count": 26,
     "metadata": {},
     "output_type": "execute_result"
    }
   ],
   "source": [
    "predictor.predict(\"81\")"
   ]
  },
  {
   "cell_type": "code",
   "execution_count": 27,
   "id": "pacific-handling",
   "metadata": {},
   "outputs": [
    {
     "data": {
      "text/plain": [
       "{'predictions': [{'score': 1226.6004638671875}, {'score': 1547.150634765625}]}"
      ]
     },
     "execution_count": 27,
     "metadata": {},
     "output_type": "execute_result"
    }
   ],
   "source": [
    "predictor.predict([\"42\", \"81\"])"
   ]
  }
 ],
 "metadata": {
  "kernelspec": {
   "display_name": "conda_python3",
   "language": "python",
   "name": "conda_python3"
  },
  "language_info": {
   "codemirror_mode": {
    "name": "ipython",
    "version": 3
   },
   "file_extension": ".py",
   "mimetype": "text/x-python",
   "name": "python",
   "nbconvert_exporter": "python",
   "pygments_lexer": "ipython3",
   "version": "3.6.13"
  }
 },
 "nbformat": 4,
 "nbformat_minor": 5
}
