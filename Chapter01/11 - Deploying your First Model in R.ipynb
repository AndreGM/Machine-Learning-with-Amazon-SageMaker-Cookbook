{
 "cells": [
  {
   "cell_type": "markdown",
   "id": "surprised-engineering",
   "metadata": {},
   "source": [
    "## Deploying your First Model in R\n",
    "\n",
    "- **Kernel**: `R`"
   ]
  },
  {
   "cell_type": "code",
   "execution_count": 3,
   "id": "complex-hunter",
   "metadata": {},
   "outputs": [],
   "source": [
    "model_data <- readRDS(file=\"tmp/estimator$model_data\")"
   ]
  },
  {
   "cell_type": "code",
   "execution_count": 4,
   "id": "attached-attack",
   "metadata": {},
   "outputs": [
    {
     "data": {
      "text/html": [
       "'s3://sagemaker-cookbook-bucket/chapter01/output/linear-learner-2021-03-13-09-45-05-295/output/model.tar.gz'"
      ],
      "text/latex": [
       "'s3://sagemaker-cookbook-bucket/chapter01/output/linear-learner-2021-03-13-09-45-05-295/output/model.tar.gz'"
      ],
      "text/markdown": [
       "'s3://sagemaker-cookbook-bucket/chapter01/output/linear-learner-2021-03-13-09-45-05-295/output/model.tar.gz'"
      ],
      "text/plain": [
       "[1] \"s3://sagemaker-cookbook-bucket/chapter01/output/linear-learner-2021-03-13-09-45-05-295/output/model.tar.gz\""
      ]
     },
     "metadata": {},
     "output_type": "display_data"
    }
   ],
   "source": [
    "model_data"
   ]
  },
  {
   "cell_type": "code",
   "execution_count": 5,
   "id": "devoted-visitor",
   "metadata": {},
   "outputs": [],
   "source": [
    "image_uri <- readRDS(file=\"tmp/estimator$image_uri\")"
   ]
  },
  {
   "cell_type": "code",
   "execution_count": 6,
   "id": "buried-parameter",
   "metadata": {},
   "outputs": [
    {
     "data": {
      "text/html": [
       "'382416733822.dkr.ecr.us-east-1.amazonaws.com/linear-learner:1'"
      ],
      "text/latex": [
       "'382416733822.dkr.ecr.us-east-1.amazonaws.com/linear-learner:1'"
      ],
      "text/markdown": [
       "'382416733822.dkr.ecr.us-east-1.amazonaws.com/linear-learner:1'"
      ],
      "text/plain": [
       "[1] \"382416733822.dkr.ecr.us-east-1.amazonaws.com/linear-learner:1\""
      ]
     },
     "metadata": {},
     "output_type": "display_data"
    }
   ],
   "source": [
    "image_uri"
   ]
  },
  {
   "cell_type": "code",
   "execution_count": 7,
   "id": "acceptable-father",
   "metadata": {},
   "outputs": [],
   "source": [
    "library('reticulate')\n",
    "\n",
    "sagemaker <- import('sagemaker')\n",
    "session <- sagemaker$Session()\n",
    "role <- sagemaker$get_execution_role()"
   ]
  },
  {
   "cell_type": "code",
   "execution_count": 8,
   "id": "ordered-window",
   "metadata": {},
   "outputs": [],
   "source": [
    "Model <- sagemaker$model$Model\n",
    "model <- Model(image_uri=image_uri, \n",
    "               model_data=model_data,\n",
    "               role=role,\n",
    "               sagemaker_session=session)"
   ]
  },
  {
   "cell_type": "code",
   "execution_count": 11,
   "id": "compliant-blink",
   "metadata": {},
   "outputs": [],
   "source": [
    "Predictor <- sagemaker$predictor$Predictor\n",
    "model$predictor_cls <- Predictor"
   ]
  },
  {
   "cell_type": "code",
   "execution_count": 12,
   "id": "tested-violence",
   "metadata": {},
   "outputs": [],
   "source": [
    "predictor <- model$deploy(initial_instance_count=1L, \n",
    "                          instance_type='ml.m5.xlarge', \n",
    "                          endpoint_name=\"linear-learner-r\")"
   ]
  },
  {
   "cell_type": "code",
   "execution_count": 13,
   "id": "civil-subsection",
   "metadata": {},
   "outputs": [],
   "source": [
    "CSVSerializer <- sagemaker$serializers$CSVSerializer\n",
    "JSONDeserializer <- sagemaker$deserializers$JSONDeserializer\n",
    "\n",
    "predictor$serializer <- CSVSerializer()\n",
    "predictor$deserializer <- JSONDeserializer()"
   ]
  },
  {
   "cell_type": "code",
   "execution_count": 16,
   "id": "instructional-regulation",
   "metadata": {},
   "outputs": [
    {
     "data": {
      "text/html": [
       "<strong>$predictions</strong> = <ol>\n",
       "\t<li><strong>$score</strong> = 1209.7744140625</li>\n",
       "</ol>\n"
      ],
      "text/latex": [
       "\\textbf{\\$predictions} = \\begin{enumerate}\n",
       "\\item \\textbf{\\$score} = 1209.7744140625\n",
       "\\end{enumerate}\n"
      ],
      "text/markdown": [
       "**$predictions** = 1. **$score** = 1209.7744140625\n",
       "\n",
       "\n"
      ],
      "text/plain": [
       "$predictions\n",
       "$predictions[[1]]\n",
       "$predictions[[1]]$score\n",
       "[1] 1209.774\n",
       "\n",
       "\n"
      ]
     },
     "metadata": {},
     "output_type": "display_data"
    }
   ],
   "source": [
    "predictor$predict(\"42\")"
   ]
  },
  {
   "cell_type": "code",
   "execution_count": 18,
   "id": "postal-latest",
   "metadata": {},
   "outputs": [
    {
     "data": {
      "text/html": [
       "<strong>$predictions</strong> = <ol>\n",
       "\t<li><strong>$score</strong> = 1500.16845703125</li>\n",
       "</ol>\n"
      ],
      "text/latex": [
       "\\textbf{\\$predictions} = \\begin{enumerate}\n",
       "\\item \\textbf{\\$score} = 1500.16845703125\n",
       "\\end{enumerate}\n"
      ],
      "text/markdown": [
       "**$predictions** = 1. **$score** = 1500.16845703125\n",
       "\n",
       "\n"
      ],
      "text/plain": [
       "$predictions\n",
       "$predictions[[1]]\n",
       "$predictions[[1]]$score\n",
       "[1] 1500.168\n",
       "\n",
       "\n"
      ]
     },
     "metadata": {},
     "output_type": "display_data"
    }
   ],
   "source": [
    "predictor$predict(\"81\")"
   ]
  },
  {
   "cell_type": "code",
   "execution_count": 19,
   "id": "formed-clearance",
   "metadata": {},
   "outputs": [
    {
     "data": {
      "text/html": [
       "<strong>$predictions</strong> = <ol>\n",
       "\t<li><strong>$score</strong> = 1209.7744140625</li>\n",
       "\t<li><strong>$score</strong> = 1500.16845703125</li>\n",
       "</ol>\n"
      ],
      "text/latex": [
       "\\textbf{\\$predictions} = \\begin{enumerate}\n",
       "\\item \\textbf{\\$score} = 1209.7744140625\n",
       "\\item \\textbf{\\$score} = 1500.16845703125\n",
       "\\end{enumerate}\n"
      ],
      "text/markdown": [
       "**$predictions** = 1. **$score** = 1209.7744140625\n",
       "2. **$score** = 1500.16845703125\n",
       "\n",
       "\n"
      ],
      "text/plain": [
       "$predictions\n",
       "$predictions[[1]]\n",
       "$predictions[[1]]$score\n",
       "[1] 1209.774\n",
       "\n",
       "\n",
       "$predictions[[2]]\n",
       "$predictions[[2]]$score\n",
       "[1] 1500.168\n",
       "\n",
       "\n"
      ]
     },
     "metadata": {},
     "output_type": "display_data"
    }
   ],
   "source": [
    "predictor$predict(c(\"42\", \"81\"))"
   ]
  }
 ],
 "metadata": {
  "kernelspec": {
   "display_name": "R",
   "language": "R",
   "name": "ir"
  },
  "language_info": {
   "codemirror_mode": "r",
   "file_extension": ".r",
   "mimetype": "text/x-r-source",
   "name": "R",
   "pygments_lexer": "r",
   "version": "4.0.3"
  }
 },
 "nbformat": 4,
 "nbformat_minor": 5
}
