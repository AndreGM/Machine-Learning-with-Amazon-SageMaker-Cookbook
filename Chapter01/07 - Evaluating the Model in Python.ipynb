{
 "cells": [
  {
   "cell_type": "markdown",
   "id": "7a4bc989",
   "metadata": {},
   "source": [
    "# Evaluating the Model in Python"
   ]
  },
  {
   "cell_type": "markdown",
   "id": "35e14f0e",
   "metadata": {},
   "source": [
    "<img align=\"left\" width=\"130\" src=\"https://raw.githubusercontent.com/PacktPublishing/Amazon-SageMaker-Cookbook/master/Extra/cover-small-padded.png\"/>\n",
    "\n",
    "This notebook contains the code to help readers work through one of the recipes of the book [Machine Learning with Amazon SageMaker Cookbook: 80 proven recipes for data scientists and developers to perform ML experiments and deployments](https://www.amazon.com/Machine-Learning-Amazon-SageMaker-Cookbook/dp/1800567030)"
   ]
  },
  {
   "cell_type": "markdown",
   "id": "94dad1f5",
   "metadata": {},
   "source": [
    "### How to do it..."
   ]
  },
  {
   "cell_type": "code",
   "execution_count": null,
   "id": "ceac6423",
   "metadata": {},
   "outputs": [],
   "source": [
    "%store -r weight_and_bias\n",
    "weight_and_bias"
   ]
  },
  {
   "cell_type": "code",
   "execution_count": null,
   "id": "9c5e0fe2",
   "metadata": {},
   "outputs": [],
   "source": [
    "%store -r df_all_data\n",
    "df_all_data"
   ]
  },
  {
   "cell_type": "code",
   "execution_count": null,
   "id": "a7b4ee8f",
   "metadata": {},
   "outputs": [],
   "source": [
    "%store -r X_test\n",
    "X_test"
   ]
  },
  {
   "cell_type": "code",
   "execution_count": null,
   "id": "e4bf73b5",
   "metadata": {},
   "outputs": [],
   "source": [
    "%store -r y_test\n",
    "y_test"
   ]
  },
  {
   "cell_type": "code",
   "execution_count": null,
   "id": "378d0551",
   "metadata": {},
   "outputs": [],
   "source": [
    "def manual_predict(x, weight_and_bias=weight_and_bias):\n",
    "    params = weight_and_bias \n",
    "    \n",
    "    return params['weight'] * x + params['bias']"
   ]
  },
  {
   "cell_type": "code",
   "execution_count": null,
   "id": "fadaea18",
   "metadata": {},
   "outputs": [],
   "source": [
    "manual_predict(42)"
   ]
  },
  {
   "cell_type": "code",
   "execution_count": null,
   "id": "5bcbe983",
   "metadata": {},
   "outputs": [],
   "source": [
    "import pandas as pd"
   ]
  },
  {
   "cell_type": "code",
   "execution_count": null,
   "id": "b00dd62f",
   "metadata": {},
   "outputs": [],
   "source": [
    "regression_line_df = pd.DataFrame(list(range(0, 121)), columns=['management_experience_months']) \n",
    "regression_line_df['monthly_salary'] = manual_predict(regression_line_df['management_experience_months'])"
   ]
  },
  {
   "cell_type": "code",
   "execution_count": null,
   "id": "12ec3ec5",
   "metadata": {},
   "outputs": [],
   "source": [
    "regression_line_df"
   ]
  },
  {
   "cell_type": "code",
   "execution_count": null,
   "id": "56885b91",
   "metadata": {},
   "outputs": [],
   "source": [
    "%matplotlib inline\n",
    "import matplotlib.pyplot as plt"
   ]
  },
  {
   "cell_type": "code",
   "execution_count": null,
   "id": "bd982694",
   "metadata": {},
   "outputs": [],
   "source": [
    "plt.rcParams[\"figure.figsize\"] = (8,8)\n",
    "plt.scatter(df_all_data.management_experience_months, df_all_data.monthly_salary)\n",
    "\n",
    "plt.plot(regression_line_df['management_experience_months'], \n",
    "         regression_line_df['monthly_salary'],\n",
    "         color='red',\n",
    "         linewidth=3)\n",
    "\n",
    "plt.xlabel('Management Experience (Months)', fontsize=18) \n",
    "plt.ylabel('Monthly Salary (USD)', fontsize=16) \n",
    "\n",
    "plt.xlim(0, 120)\n",
    "plt.ylim(0, 2400)"
   ]
  },
  {
   "cell_type": "code",
   "execution_count": null,
   "id": "893b0edb",
   "metadata": {},
   "outputs": [],
   "source": [
    "from sklearn import metrics \n",
    "import numpy as np"
   ]
  },
  {
   "cell_type": "code",
   "execution_count": null,
   "id": "c9b8b35d",
   "metadata": {},
   "outputs": [],
   "source": [
    "df_test_data = pd.DataFrame({ \n",
    "    'monthly_salary': y_test, \n",
    "    'management_experience_months': X_test\n",
    "}) \n",
    "\n",
    "df_test_data"
   ]
  },
  {
   "cell_type": "code",
   "execution_count": null,
   "id": "88e73d3a",
   "metadata": {},
   "outputs": [],
   "source": [
    "test_pred = manual_predict(df_test_data['management_experience_months'])"
   ]
  },
  {
   "cell_type": "code",
   "execution_count": null,
   "id": "e5b28270",
   "metadata": {},
   "outputs": [],
   "source": [
    "np.sqrt(metrics.mean_squared_error(df_test_data['monthly_salary'], test_pred)) "
   ]
  },
  {
   "cell_type": "code",
   "execution_count": null,
   "id": "f5e9d89d",
   "metadata": {},
   "outputs": [],
   "source": [
    "metrics.mean_squared_error(df_test_data['monthly_salary'], test_pred) "
   ]
  },
  {
   "cell_type": "code",
   "execution_count": null,
   "id": "5ba9cc14",
   "metadata": {},
   "outputs": [],
   "source": [
    "metrics.mean_absolute_error(df_test_data['monthly_salary'], test_pred)"
   ]
  }
 ],
 "metadata": {
  "kernelspec": {
   "display_name": "conda_python3",
   "language": "python",
   "name": "conda_python3"
  },
  "language_info": {
   "codemirror_mode": {
    "name": "ipython",
    "version": 3
   },
   "file_extension": ".py",
   "mimetype": "text/x-python",
   "name": "python",
   "nbconvert_exporter": "python",
   "pygments_lexer": "ipython3",
   "version": "3.6.13"
  }
 },
 "nbformat": 4,
 "nbformat_minor": 5
}
