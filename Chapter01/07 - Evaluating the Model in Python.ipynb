{
 "cells": [
  {
   "cell_type": "markdown",
   "id": "27df3b7f",
   "metadata": {},
   "source": [
    "# Evaluating the Model in Python\n",
    "\n",
    "In the previous recipes, we have trained the regression model using the **Linear Learner** algorithm and loaded the model using the **MXNet** and **Gluon**. After the training step, the model needs to be evaluated and the results and metric values need to be compared with other models. Model evaluation is a critical part of the machine learning process as this helps us find the best model which will be used to perform predictions on future unseen values. This recipe aims to provide a simplified set of steps when evaluating regression models.\n",
    "\n",
    "With the Python programming language, we will (1) generate the visualization of the regression line over the original scatterplot chart and (2) evaluate the machine learning model using the relevant metrics (e.g., **RMSE**, **MAE**, **MSE**)"
   ]
  },
  {
   "cell_type": "markdown",
   "id": "537837a8",
   "metadata": {},
   "source": [
    "### How to do it..."
   ]
  },
  {
   "cell_type": "code",
   "execution_count": null,
   "id": "da4d8b41",
   "metadata": {},
   "outputs": [],
   "source": [
    "%store -r weight_and_bias\n",
    "weight_and_bias"
   ]
  },
  {
   "cell_type": "code",
   "execution_count": null,
   "id": "6f368e6c",
   "metadata": {},
   "outputs": [],
   "source": [
    "%store -r df_all_data\n",
    "df_all_data"
   ]
  },
  {
   "cell_type": "code",
   "execution_count": null,
   "id": "7c720200",
   "metadata": {},
   "outputs": [],
   "source": [
    "%store -r X_test\n",
    "X_test"
   ]
  },
  {
   "cell_type": "code",
   "execution_count": null,
   "id": "1e8f97b0",
   "metadata": {},
   "outputs": [],
   "source": [
    "%store -r y_test\n",
    "y_test"
   ]
  },
  {
   "cell_type": "code",
   "execution_count": null,
   "id": "adc2463b",
   "metadata": {},
   "outputs": [],
   "source": [
    "def manual_predict(x, weight_and_bias=weight_and_bias):\n",
    "    params = weight_and_bias \n",
    "    \n",
    "    return params['weight'] * x + params['bias']"
   ]
  },
  {
   "cell_type": "code",
   "execution_count": null,
   "id": "1c6c089e",
   "metadata": {},
   "outputs": [],
   "source": [
    "manual_predict(42)"
   ]
  },
  {
   "cell_type": "code",
   "execution_count": null,
   "id": "4d15b307",
   "metadata": {},
   "outputs": [],
   "source": [
    "import pandas as pd"
   ]
  },
  {
   "cell_type": "code",
   "execution_count": null,
   "id": "2d2c839a",
   "metadata": {},
   "outputs": [],
   "source": [
    "regression_line_df = pd.DataFrame(list(range(0, 121)), columns=['management_experience_months']) \n",
    "regression_line_df['monthly_salary'] = manual_predict(regression_line_df['management_experience_months'])"
   ]
  },
  {
   "cell_type": "code",
   "execution_count": null,
   "id": "8e67f5f9",
   "metadata": {},
   "outputs": [],
   "source": [
    "regression_line_df"
   ]
  },
  {
   "cell_type": "code",
   "execution_count": null,
   "id": "c69c9732",
   "metadata": {},
   "outputs": [],
   "source": [
    "%matplotlib inline\n",
    "import matplotlib.pyplot as plt"
   ]
  },
  {
   "cell_type": "code",
   "execution_count": null,
   "id": "1343d13a",
   "metadata": {},
   "outputs": [],
   "source": [
    "plt.rcParams[\"figure.figsize\"] = (8,8)\n",
    "plt.scatter(df_all_data.management_experience_months, df_all_data.monthly_salary)\n",
    "\n",
    "plt.plot(regression_line_df['management_experience_months'], \n",
    "         regression_line_df['monthly_salary'],\n",
    "         color='red',\n",
    "         linewidth=3)\n",
    "\n",
    "plt.xlabel('Management Experience (Months)', fontsize=18) \n",
    "plt.ylabel('Monthly Salary (USD)', fontsize=16) \n",
    "\n",
    "plt.xlim(0, 120)\n",
    "plt.ylim(0, 2400)"
   ]
  },
  {
   "cell_type": "code",
   "execution_count": null,
   "id": "bdf0f70a",
   "metadata": {},
   "outputs": [],
   "source": [
    "from sklearn import metrics \n",
    "import numpy as np"
   ]
  },
  {
   "cell_type": "code",
   "execution_count": null,
   "id": "9fec485e",
   "metadata": {},
   "outputs": [],
   "source": [
    "df_test_data = pd.DataFrame({ \n",
    "    'monthly_salary': y_test, \n",
    "    'management_experience_months': X_test\n",
    "}) \n",
    "\n",
    "df_test_data"
   ]
  },
  {
   "cell_type": "code",
   "execution_count": null,
   "id": "5a2f8976",
   "metadata": {},
   "outputs": [],
   "source": [
    "test_pred = manual_predict(df_test_data['management_experience_months'])"
   ]
  },
  {
   "cell_type": "code",
   "execution_count": null,
   "id": "f020dbdc",
   "metadata": {},
   "outputs": [],
   "source": [
    "np.sqrt(metrics.mean_squared_error(df_test_data['monthly_salary'], test_pred)) "
   ]
  },
  {
   "cell_type": "code",
   "execution_count": null,
   "id": "2501de1d",
   "metadata": {},
   "outputs": [],
   "source": [
    "metrics.mean_squared_error(df_test_data['monthly_salary'], test_pred) "
   ]
  },
  {
   "cell_type": "code",
   "execution_count": null,
   "id": "8ddcd81c",
   "metadata": {},
   "outputs": [],
   "source": [
    "metrics.mean_absolute_error(df_test_data['monthly_salary'], test_pred)"
   ]
  },
  {
   "cell_type": "markdown",
   "id": "0713fa1d",
   "metadata": {},
   "source": [
    "<img align=\"left\" width=\"130\" src=\"https://raw.githubusercontent.com/PacktPublishing/Amazon-SageMaker-Cookbook/master/Extra/cover-small-padded.png\"/>\n",
    "\n",
    "This notebook contains the code to help readers work through each of the recipes of the book [Machine Learning with Amazon SageMaker Cookbook: 80 proven recipes for data scientists and developers to perform ML experiments and deployments](https://www.amazon.com/Machine-Learning-Amazon-SageMaker-Cookbook/dp/1800567030)"
   ]
  }
 ],
 "metadata": {
  "kernelspec": {
   "display_name": "conda_python3",
   "language": "python",
   "name": "conda_python3"
  },
  "language_info": {
   "codemirror_mode": {
    "name": "ipython",
    "version": 3
   },
   "file_extension": ".py",
   "mimetype": "text/x-python",
   "name": "python",
   "nbconvert_exporter": "python",
   "pygments_lexer": "ipython3",
   "version": "3.6.13"
  }
 },
 "nbformat": 4,
 "nbformat_minor": 5
}
