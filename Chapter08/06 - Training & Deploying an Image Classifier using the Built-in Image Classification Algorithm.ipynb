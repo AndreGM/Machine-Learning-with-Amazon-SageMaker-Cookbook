{
 "cells": [
  {
   "cell_type": "markdown",
   "metadata": {},
   "source": [
    "# Training & Deploying an Image Classifier using the Built-in Image Classification Algorithm"
   ]
  },
  {
   "cell_type": "markdown",
   "metadata": {},
   "source": [
    "<img align=\"left\" width=\"130\" src=\"https://raw.githubusercontent.com/PacktPublishing/Amazon-SageMaker-Cookbook/master/Extra/cover-small-padded.png\"/>\n",
    "\n",
    "This notebook contains the code to help readers work through one of the recipes of the book [Machine Learning with Amazon SageMaker Cookbook: 80 proven recipes for data scientists and developers to perform ML experiments and deployments](https://www.amazon.com/Machine-Learning-Amazon-SageMaker-Cookbook/dp/1800567030)"
   ]
  },
  {
   "cell_type": "markdown",
   "metadata": {},
   "source": [
    "### How to do it..."
   ]
  },
  {
   "cell_type": "code",
   "execution_count": null,
   "metadata": {},
   "outputs": [],
   "source": [
    "import sagemaker\n",
    "from sagemaker import get_execution_role\n",
    "import json\n",
    "import boto3\n",
    "\n",
    "session = sagemaker.Session()\n",
    "role = get_execution_role()\n",
    "region_name = boto3.Session().region_name"
   ]
  },
  {
   "cell_type": "code",
   "execution_count": null,
   "metadata": {},
   "outputs": [],
   "source": [
    "%store -r s3_bucket\n",
    "%store -r prefix"
   ]
  },
  {
   "cell_type": "code",
   "execution_count": null,
   "metadata": {},
   "outputs": [],
   "source": [
    "s3_train_data = 's3://{}/{}/{}'.format(\n",
    "    s3_bucket, \n",
    "    prefix, \n",
    "    \"train\"\n",
    ")\n",
    "s3_validation_data = 's3://{}/{}/{}'.format(\n",
    "    s3_bucket, \n",
    "    prefix, \n",
    "    \"validation\"\n",
    ")\n",
    "s3_train_lst_path = 's3://{}/{}/{}'.format(\n",
    "    s3_bucket, \n",
    "    prefix, \n",
    "    \"train_lst\"\n",
    ")\n",
    "s3_validation_lst_path = 's3://{}/{}/{}'.format(\n",
    "    s3_bucket, \n",
    "    prefix, \n",
    "    \"validation_lst\"\n",
    ")\n",
    "s3_output_location = 's3://{}/{}/output'.format(\n",
    "    s3_bucket, \n",
    "    prefix\n",
    ")"
   ]
  },
  {
   "cell_type": "code",
   "execution_count": null,
   "metadata": {},
   "outputs": [],
   "source": [
    "from sagemaker.image_uris import retrieve \n",
    "\n",
    "container = retrieve(\n",
    "    \"image-classification\", \n",
    "    region_name, \n",
    "    \"1\"\n",
    ")\n",
    "container"
   ]
  },
  {
   "cell_type": "code",
   "execution_count": null,
   "metadata": {},
   "outputs": [],
   "source": [
    "estimator = sagemaker.estimator.Estimator(\n",
    "    container,\n",
    "    role, \n",
    "    instance_count=1, \n",
    "    instance_type='ml.p2.xlarge',\n",
    "    output_path=s3_output_location,\n",
    "    sagemaker_session=session\n",
    ")"
   ]
  },
  {
   "cell_type": "code",
   "execution_count": null,
   "metadata": {},
   "outputs": [],
   "source": [
    "estimator.set_hyperparameters(\n",
    "    num_layers=18,\n",
    "    image_shape = \"1,28,28\",\n",
    "    num_classes=10,\n",
    "    num_training_samples=600,\n",
    "    mini_batch_size=20,\n",
    "    epochs=5,\n",
    "    learning_rate=0.01,\n",
    "    top_k=2,\n",
    "    precision_dtype='float32'\n",
    ")"
   ]
  },
  {
   "cell_type": "code",
   "execution_count": null,
   "metadata": {},
   "outputs": [],
   "source": [
    "from sagemaker.inputs import TrainingInput\n",
    "\n",
    "train = TrainingInput(\n",
    "    s3_train_data, \n",
    "    distribution='FullyReplicated', \n",
    "    content_type='application/x-image', \n",
    "    s3_data_type='S3Prefix'\n",
    ")\n",
    "\n",
    "validation = TrainingInput(\n",
    "    s3_validation_data, \n",
    "    distribution='FullyReplicated', \n",
    "    content_type='application/x-image', \n",
    "    s3_data_type='S3Prefix'\n",
    ")"
   ]
  },
  {
   "cell_type": "code",
   "execution_count": null,
   "metadata": {},
   "outputs": [],
   "source": [
    "content_type = 'application/x-image'\n",
    "\n",
    "train_lst = TrainingInput(\n",
    "    s3_train_lst_path, \n",
    "    distribution='FullyReplicated', \n",
    "    content_type=content_type, \n",
    "    s3_data_type='S3Prefix'\n",
    ")\n",
    "\n",
    "validation_lst = TrainingInput(\n",
    "    s3_validation_lst_path, \n",
    "    distribution='FullyReplicated', \n",
    "    content_type=content_type, \n",
    "    s3_data_type='S3Prefix'\n",
    ")"
   ]
  },
  {
   "cell_type": "code",
   "execution_count": null,
   "metadata": {},
   "outputs": [],
   "source": [
    "data_channels = {\n",
    "    'train': train, \n",
    "    'validation': validation,\n",
    "    'train_lst': train_lst,\n",
    "    'validation_lst': validation_lst\n",
    "}"
   ]
  },
  {
   "cell_type": "code",
   "execution_count": null,
   "metadata": {
    "scrolled": true
   },
   "outputs": [],
   "source": [
    "%%time\n",
    "\n",
    "estimator.fit(inputs=data_channels, logs=True)"
   ]
  },
  {
   "cell_type": "code",
   "execution_count": null,
   "metadata": {},
   "outputs": [],
   "source": [
    "endpoint = estimator.deploy(\n",
    "    initial_instance_count = 1,\n",
    "    instance_type = 'ml.m4.xlarge'\n",
    ")"
   ]
  },
  {
   "cell_type": "code",
   "execution_count": null,
   "metadata": {},
   "outputs": [],
   "source": [
    "from sagemaker.serializers import IdentitySerializer\n",
    "\n",
    "endpoint.serializer = IdentitySerializer(\n",
    "    content_type=\"application/x-image\"\n",
    ")"
   ]
  },
  {
   "cell_type": "code",
   "execution_count": null,
   "metadata": {},
   "outputs": [],
   "source": [
    "import json\n",
    "\n",
    "def get_class_from_results(results):\n",
    "    results_prob_list = json.loads(results)\n",
    "    best_index = results_prob_list.index(\n",
    "        max(results_prob_list)\n",
    "    )\n",
    "    \n",
    "    return {\n",
    "        0: \"ZERO\",\n",
    "        1: \"ONE\",\n",
    "        2: \"TWO\",\n",
    "        3: \"THREE\",\n",
    "        4: \"FOUR\",\n",
    "        5: \"FIVE\",\n",
    "        6: \"SIX\",\n",
    "        7: \"SEVEN\",\n",
    "        8: \"EIGHT\",\n",
    "        9: \"NINE\"\n",
    "    }[best_index]"
   ]
  },
  {
   "cell_type": "code",
   "execution_count": null,
   "metadata": {},
   "outputs": [],
   "source": [
    "from IPython.display import Image, display\n",
    "\n",
    "def predict(filename, endpoint=endpoint):\n",
    "    byte_array_input = None\n",
    "    \n",
    "    with open(filename, 'rb') as image:\n",
    "        f = image.read()\n",
    "        byte_array_input = bytearray(f)\n",
    "        \n",
    "    display(Image(filename))\n",
    "        \n",
    "    results = endpoint.predict(byte_array_input)\n",
    "    return get_class_from_results(results)"
   ]
  },
  {
   "cell_type": "code",
   "execution_count": null,
   "metadata": {
    "scrolled": true
   },
   "outputs": [],
   "source": [
    "!ls tmp/test"
   ]
  },
  {
   "cell_type": "code",
   "execution_count": null,
   "metadata": {
    "scrolled": true
   },
   "outputs": [],
   "source": [
    "results = !ls -1 tmp/test\n",
    "for filename in results:\n",
    "    print(predict(f\"tmp/test/{filename}\"))"
   ]
  },
  {
   "cell_type": "code",
   "execution_count": null,
   "metadata": {},
   "outputs": [],
   "source": [
    "endpoint.delete_endpoint()"
   ]
  },
  {
   "cell_type": "code",
   "execution_count": null,
   "metadata": {},
   "outputs": [],
   "source": [
    "tn = estimator.latest_training_job.name\n",
    "training_job_name = tn\n",
    "%store training_job_name"
   ]
  }
 ],
 "metadata": {
  "instance_type": "ml.t3.medium",
  "kernelspec": {
   "display_name": "Python 3 (Data Science)",
   "language": "python",
   "name": "python3__SAGEMAKER_INTERNAL__arn:aws:sagemaker:us-east-1:081325390199:image/datascience-1.0"
  },
  "language_info": {
   "codemirror_mode": {
    "name": "ipython",
    "version": 3
   },
   "file_extension": ".py",
   "mimetype": "text/x-python",
   "name": "python",
   "nbconvert_exporter": "python",
   "pygments_lexer": "ipython3",
   "version": "3.7.10"
  }
 },
 "nbformat": 4,
 "nbformat_minor": 4
}
