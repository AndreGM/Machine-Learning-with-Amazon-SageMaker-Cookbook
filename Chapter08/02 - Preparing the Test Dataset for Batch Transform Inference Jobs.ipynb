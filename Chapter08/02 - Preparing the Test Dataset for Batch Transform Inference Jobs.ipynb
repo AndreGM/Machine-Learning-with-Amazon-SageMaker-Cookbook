{
 "cells": [
  {
   "cell_type": "code",
   "execution_count": 9,
   "metadata": {},
   "outputs": [],
   "source": [
    "%store -r test_df\n",
    "%store -r s3_bucket\n",
    "%store -r prefix"
   ]
  },
  {
   "cell_type": "code",
   "execution_count": 10,
   "metadata": {},
   "outputs": [],
   "source": [
    "test_df_without_label = test_df.drop(\n",
    "    columns=\"label\"\n",
    ")"
   ]
  },
  {
   "cell_type": "code",
   "execution_count": 11,
   "metadata": {},
   "outputs": [],
   "source": [
    "def to_jsonlines(text):\n",
    "    return '{\"source\": \"' + text +'\"}'"
   ]
  },
  {
   "cell_type": "code",
   "execution_count": 12,
   "metadata": {},
   "outputs": [
    {
     "data": {
      "text/html": [
       "<div>\n",
       "<style scoped>\n",
       "    .dataframe tbody tr th:only-of-type {\n",
       "        vertical-align: middle;\n",
       "    }\n",
       "\n",
       "    .dataframe tbody tr th {\n",
       "        vertical-align: top;\n",
       "    }\n",
       "\n",
       "    .dataframe thead th {\n",
       "        text-align: right;\n",
       "    }\n",
       "</style>\n",
       "<table border=\"1\" class=\"dataframe\">\n",
       "  <thead>\n",
       "    <tr style=\"text-align: right;\">\n",
       "      <th></th>\n",
       "      <th>text</th>\n",
       "    </tr>\n",
       "  </thead>\n",
       "  <tbody>\n",
       "    <tr>\n",
       "      <th>1035</th>\n",
       "      <td>{\"source\": \"There Are Better Restaurants Out T...</td>\n",
       "    </tr>\n",
       "    <tr>\n",
       "      <th>1154</th>\n",
       "      <td>{\"source\": \"Not Impressive i will not recommen...</td>\n",
       "    </tr>\n",
       "    <tr>\n",
       "      <th>1946</th>\n",
       "      <td>{\"source\": \"I Will Not Recommend This To My Fr...</td>\n",
       "    </tr>\n",
       "    <tr>\n",
       "      <th>1099</th>\n",
       "      <td>{\"source\": \"There Are Better Restaurants Out T...</td>\n",
       "    </tr>\n",
       "    <tr>\n",
       "      <th>1747</th>\n",
       "      <td>{\"source\": \"Spaghetti Chicken Soup this is bad...</td>\n",
       "    </tr>\n",
       "    <tr>\n",
       "      <th>...</th>\n",
       "      <td>...</td>\n",
       "    </tr>\n",
       "    <tr>\n",
       "      <th>272</th>\n",
       "      <td>{\"source\": \"Dinner Time impressive this is goo...</td>\n",
       "    </tr>\n",
       "    <tr>\n",
       "      <th>1951</th>\n",
       "      <td>{\"source\": \"There Are Better Restaurants Out T...</td>\n",
       "    </tr>\n",
       "    <tr>\n",
       "      <th>1897</th>\n",
       "      <td>{\"source\": \"I Hate It i hate it spaghetti chic...</td>\n",
       "    </tr>\n",
       "    <tr>\n",
       "      <th>989</th>\n",
       "      <td>{\"source\": \"Spaghetti Chicken Soup very good v...</td>\n",
       "    </tr>\n",
       "    <tr>\n",
       "      <th>1790</th>\n",
       "      <td>{\"source\": \"Tastes Bad this is bad donut this ...</td>\n",
       "    </tr>\n",
       "  </tbody>\n",
       "</table>\n",
       "<p>400 rows × 1 columns</p>\n",
       "</div>"
      ],
      "text/plain": [
       "                                                   text\n",
       "1035  {\"source\": \"There Are Better Restaurants Out T...\n",
       "1154  {\"source\": \"Not Impressive i will not recommen...\n",
       "1946  {\"source\": \"I Will Not Recommend This To My Fr...\n",
       "1099  {\"source\": \"There Are Better Restaurants Out T...\n",
       "1747  {\"source\": \"Spaghetti Chicken Soup this is bad...\n",
       "...                                                 ...\n",
       "272   {\"source\": \"Dinner Time impressive this is goo...\n",
       "1951  {\"source\": \"There Are Better Restaurants Out T...\n",
       "1897  {\"source\": \"I Hate It i hate it spaghetti chic...\n",
       "989   {\"source\": \"Spaghetti Chicken Soup very good v...\n",
       "1790  {\"source\": \"Tastes Bad this is bad donut this ...\n",
       "\n",
       "[400 rows x 1 columns]"
      ]
     },
     "execution_count": 12,
     "metadata": {},
     "output_type": "execute_result"
    }
   ],
   "source": [
    "tmp = test_df_without_label['text'].apply(\n",
    "    to_jsonlines\n",
    ")\n",
    "\n",
    "test_df_without_label['text'] = tmp\n",
    "\n",
    "test_df_without_label"
   ]
  },
  {
   "cell_type": "code",
   "execution_count": 13,
   "metadata": {},
   "outputs": [
    {
     "name": "stdout",
     "output_type": "stream",
     "text": [
      " {\"source\":  \"There  Are  Better  Restaurants  Out  There  tastes  bad  spaghetti  chicken  soup  food  in  the  restaurant\"} \n",
      " {\"source\":  \"Not  Impressive  i  will  not  recommend  this  to  my  friends  there  are  better  restaurants  out  there  spaghetti  chicken  soup  food  in  the  restaurant  donut\"} \n",
      " {\"source\":  \"I  Will  Not  Recommend  This  To  My  Friends  spaghetti  chicken  soup  food  in  the  restaurant\"} \n",
      " {\"source\":  \"There  Are  Better  Restaurants  Out  There  there  are  better  restaurants  out  there  spaghetti  chicken  soup  tastes  bad  dinner  time  tastes  bad  this  is  bad\"} \n",
      " {\"source\":  \"Spaghetti  Chicken  Soup  this  is  bad  i  will  not  recommend  this  to  my  friends  i  hate  it  very  bad\"} \n",
      " {\"source\":  \"Not  Impressive  spaghetti  chicken  soup  i  will  not  recommend  this  to  my  friends  spaghetti  chicken  soup\"} \n",
      " {\"source\":  \"There  Are  Better  Restaurants  Out  There  spaghetti  chicken  soup  i  hate  it  this  is  bad  i  hate  it\"} \n",
      " {\"source\":  \"Food  In  The  Restaurant  tastes  bad  tastes  bad  there  are  better  restaurants  out  there  i  hate  it\"} \n",
      " {\"source\":  \"This  Is  Good  very  good  i  like  it  very  delicious\"} \n",
      " {\"source\":  \"Dinner  Time  very  good  very  delicious  very  good  very  good  very  good  very  delicious  very  good\"} \n"
     ]
    }
   ],
   "source": [
    "test_df_without_label.to_csv(\n",
    "    \"tmp/synthetic.test_without_labels.txt\", \n",
    "    header=False, \n",
    "    index=False, \n",
    "    sep=\" \", \n",
    "    quotechar=\" \"\n",
    ")\n",
    "\n",
    "!head tmp/synthetic.test_without_labels.txt"
   ]
  },
  {
   "cell_type": "code",
   "execution_count": 14,
   "metadata": {},
   "outputs": [
    {
     "name": "stdout",
     "output_type": "stream",
     "text": [
      "upload: tmp/synthetic.test_without_labels.txt to s3://sagemaker-cookbook-bucket/chapter08/input/synthetic.test_without_labels.txt\n"
     ]
    }
   ],
   "source": [
    "!aws s3 cp tmp/synthetic.test_without_labels.txt s3://{s3_bucket}/{prefix}/input/synthetic.test_without_labels.txt"
   ]
  }
 ],
 "metadata": {
  "instance_type": "ml.t3.medium",
  "kernelspec": {
   "display_name": "Python 3 (Data Science)",
   "language": "python",
   "name": "python3__SAGEMAKER_INTERNAL__arn:aws:sagemaker:us-east-1:081325390199:image/datascience-1.0"
  },
  "language_info": {
   "codemirror_mode": {
    "name": "ipython",
    "version": 3
   },
   "file_extension": ".py",
   "mimetype": "text/x-python",
   "name": "python",
   "nbconvert_exporter": "python",
   "pygments_lexer": "ipython3",
   "version": "3.7.10"
  }
 },
 "nbformat": 4,
 "nbformat_minor": 4
}
