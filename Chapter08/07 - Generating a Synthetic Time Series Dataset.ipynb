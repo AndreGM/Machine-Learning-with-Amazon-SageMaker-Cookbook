{
 "cells": [
  {
   "cell_type": "markdown",
   "metadata": {},
   "source": [
    "# Generating a Synthetic Time Series Dataset"
   ]
  },
  {
   "cell_type": "markdown",
   "metadata": {},
   "source": [
    "<img align=\"left\" width=\"130\" src=\"https://raw.githubusercontent.com/PacktPublishing/Amazon-SageMaker-Cookbook/master/Extra/cover-small-padded.png\"/>\n",
    "\n",
    "This notebook contains the code to help readers work through one of the recipes of the book [Machine Learning with Amazon SageMaker Cookbook: 80 proven recipes for data scientists and developers to perform ML experiments and deployments](https://www.amazon.com/Machine-Learning-Amazon-SageMaker-Cookbook/dp/1800567030)"
   ]
  },
  {
   "cell_type": "markdown",
   "metadata": {},
   "source": [
    "### How to do it..."
   ]
  },
  {
   "cell_type": "code",
   "execution_count": null,
   "metadata": {},
   "outputs": [],
   "source": [
    "import numpy as np\n",
    "import matplotlib.pyplot as plt\n",
    "import pandas as pd\n",
    "\n",
    "%matplotlib inline"
   ]
  },
  {
   "cell_type": "code",
   "execution_count": null,
   "metadata": {},
   "outputs": [],
   "source": [
    "def generate_time_series(\n",
    "    t0=\"2020-01-01 00:00:00\"\n",
    "):\n",
    "    time = np.arange(50)\n",
    "    values = np.where(time < 20, time**2, \n",
    "                      (time-5)**2)\n",
    "\n",
    "    base = []\n",
    "    for iteration in range(10):\n",
    "        for y in range(50):\n",
    "            base.append(values[y])\n",
    "            \n",
    "    base += np.random.randn(500)*100\n",
    "    \n",
    "    freq = \"H\"\n",
    "    data_length = len(base)\n",
    "    index = pd.date_range(start=t0, \n",
    "                          freq=freq, \n",
    "                          periods=data_length)\n",
    "    ts = pd.Series(data=base, index=index)\n",
    "    \n",
    "    return {\n",
    "        \"freq\": freq,\n",
    "        \"t0\": t0,\n",
    "        \"length\": len(ts),\n",
    "        \"data\": ts\n",
    "    }"
   ]
  },
  {
   "cell_type": "code",
   "execution_count": null,
   "metadata": {},
   "outputs": [],
   "source": [
    "time_series_data = generate_time_series()\n",
    "time_series_data"
   ]
  },
  {
   "cell_type": "code",
   "execution_count": null,
   "metadata": {},
   "outputs": [],
   "source": [
    "data = time_series_data[\"data\"]\n",
    "time = data.index\n",
    "values = data\n",
    "\n",
    "plt.figure(figsize=(14,6))\n",
    "plt.plot(time, values)\n",
    "plt.grid(True)\n",
    "plt.xlabel(\"DATE\")\n",
    "plt.ylabel(\"VALUE\")"
   ]
  },
  {
   "cell_type": "code",
   "execution_count": null,
   "metadata": {},
   "outputs": [],
   "source": [
    "!mkdir -p tmp"
   ]
  },
  {
   "cell_type": "code",
   "execution_count": null,
   "metadata": {},
   "outputs": [],
   "source": [
    "import json\n",
    "\n",
    "def save_data_to_json(time_series_data, \n",
    "                      filename):\n",
    "    tmp = {}\n",
    "\n",
    "    tmp[\"freq\"] = time_series_data[\"freq\"]\n",
    "    tmp[\"t0\"] = time_series_data[\"t0\"]\n",
    "    tmp[\"length\"] = time_series_data[\"length\"]\n",
    "    tmp[\"data\"] = list(time_series_data[\"data\"])\n",
    "    \n",
    "    with open(filename, 'w') as file:\n",
    "        json.dump(tmp, file)"
   ]
  },
  {
   "cell_type": "code",
   "execution_count": null,
   "metadata": {},
   "outputs": [],
   "source": [
    "save_data_to_json(time_series_data, \n",
    "                  \"tmp/all.json\")"
   ]
  },
  {
   "cell_type": "code",
   "execution_count": null,
   "metadata": {
    "scrolled": true
   },
   "outputs": [],
   "source": [
    "!head tmp/all.json"
   ]
  }
 ],
 "metadata": {
  "instance_type": "ml.t3.medium",
  "kernelspec": {
   "display_name": "Python 3 (Data Science)",
   "language": "python",
   "name": "python3__SAGEMAKER_INTERNAL__arn:aws:sagemaker:us-east-1:081325390199:image/datascience-1.0"
  },
  "language_info": {
   "codemirror_mode": {
    "name": "ipython",
    "version": 3
   },
   "file_extension": ".py",
   "mimetype": "text/x-python",
   "name": "python",
   "nbconvert_exporter": "python",
   "pygments_lexer": "ipython3",
   "version": "3.7.10"
  }
 },
 "nbformat": 4,
 "nbformat_minor": 4
}
