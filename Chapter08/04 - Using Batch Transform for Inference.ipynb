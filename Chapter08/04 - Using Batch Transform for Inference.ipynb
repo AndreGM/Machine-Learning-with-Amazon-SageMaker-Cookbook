{
 "cells": [
  {
   "cell_type": "code",
   "execution_count": 1,
   "metadata": {},
   "outputs": [],
   "source": [
    "%store -r s3_bucket\n",
    "%store -r prefix\n",
    "%store -r training_job_name"
   ]
  },
  {
   "cell_type": "code",
   "execution_count": 2,
   "metadata": {},
   "outputs": [],
   "source": [
    "path = 's3://{}/{}/input/{}'.format(\n",
    "    s3_bucket, \n",
    "    prefix, \n",
    "    \"synthetic.test_without_labels.txt\"\n",
    ")\n",
    "s3_test_without_labels_data = path\n",
    "\n",
    "path = 's3://{}/{}/batch-prediction'.format(\n",
    "    s3_bucket, \n",
    "    prefix\n",
    ")\n",
    "batch_output = path"
   ]
  },
  {
   "cell_type": "code",
   "execution_count": 3,
   "metadata": {},
   "outputs": [
    {
     "name": "stdout",
     "output_type": "stream",
     "text": [
      "\n",
      "2021-06-01 10:13:37 Starting - Preparing the instances for training\n",
      "2021-06-01 10:13:37 Downloading - Downloading input data\n",
      "2021-06-01 10:13:37 Training - Training image download completed. Training in progress.\n",
      "2021-06-01 10:13:37 Uploading - Uploading generated training model\n",
      "2021-06-01 10:13:37 Completed - Training job completed\n"
     ]
    }
   ],
   "source": [
    "from sagemaker.estimator import Estimator\n",
    "\n",
    "estimator = Estimator.attach(training_job_name)"
   ]
  },
  {
   "cell_type": "code",
   "execution_count": 4,
   "metadata": {},
   "outputs": [],
   "source": [
    "transformer = estimator.transformer(\n",
    "    instance_count=1, \n",
    "    instance_type='ml.m4.xlarge', \n",
    "    output_path=batch_output\n",
    ")"
   ]
  },
  {
   "cell_type": "code",
   "execution_count": 5,
   "metadata": {
    "scrolled": true
   },
   "outputs": [
    {
     "name": "stdout",
     "output_type": "stream",
     "text": [
      "...............................\u001b[34mArguments: serve\u001b[0m\n",
      "\u001b[35mArguments: serve\u001b[0m\n",
      "\u001b[34m[06/01/2021 10:40:16 INFO 140349593466240] Finding and loading model\u001b[0m\n",
      "\u001b[34m[06/01/2021 10:40:16 INFO 140349593466240] Trying to load model from /opt/ml/model/model.bin\u001b[0m\n",
      "\u001b[34m[06/01/2021 10:40:17 INFO 140349593466240] Number of server workers: 4\u001b[0m\n",
      "\u001b[34m[2021-06-01 10:40:17 +0000] [1] [INFO] Starting gunicorn 19.7.1\u001b[0m\n",
      "\u001b[34m[2021-06-01 10:40:17 +0000] [1] [INFO] Listening at: http://0.0.0.0:8080 (1)\u001b[0m\n",
      "\u001b[34m[2021-06-01 10:40:17 +0000] [1] [INFO] Using worker: sync\u001b[0m\n",
      "\u001b[34m[2021-06-01 10:40:17 +0000] [32] [INFO] Booting worker with pid: 32\u001b[0m\n",
      "\u001b[34m[2021-06-01 10:40:17 +0000] [33] [INFO] Booting worker with pid: 33\u001b[0m\n",
      "\u001b[34m[2021-06-01 10:40:17 +0000] [34] [INFO] Booting worker with pid: 34\u001b[0m\n",
      "\u001b[34m[2021-06-01 10:40:17 +0000] [35] [INFO] Booting worker with pid: 35\u001b[0m\n",
      "\u001b[35m[06/01/2021 10:40:16 INFO 140349593466240] Finding and loading model\u001b[0m\n",
      "\u001b[35m[06/01/2021 10:40:16 INFO 140349593466240] Trying to load model from /opt/ml/model/model.bin\u001b[0m\n",
      "\u001b[35m[06/01/2021 10:40:17 INFO 140349593466240] Number of server workers: 4\u001b[0m\n",
      "\u001b[35m[2021-06-01 10:40:17 +0000] [1] [INFO] Starting gunicorn 19.7.1\u001b[0m\n",
      "\u001b[35m[2021-06-01 10:40:17 +0000] [1] [INFO] Listening at: http://0.0.0.0:8080 (1)\u001b[0m\n",
      "\u001b[35m[2021-06-01 10:40:17 +0000] [1] [INFO] Using worker: sync\u001b[0m\n",
      "\u001b[35m[2021-06-01 10:40:17 +0000] [32] [INFO] Booting worker with pid: 32\u001b[0m\n",
      "\u001b[35m[2021-06-01 10:40:17 +0000] [33] [INFO] Booting worker with pid: 33\u001b[0m\n",
      "\u001b[35m[2021-06-01 10:40:17 +0000] [34] [INFO] Booting worker with pid: 34\u001b[0m\n",
      "\u001b[35m[2021-06-01 10:40:17 +0000] [35] [INFO] Booting worker with pid: 35\u001b[0m\n",
      "\u001b[32m2021-06-01T10:40:20.552:[sagemaker logs]: MaxConcurrentTransforms=4, MaxPayloadInMB=6, BatchStrategy=MULTI_RECORD\u001b[0m\n",
      "\n",
      "\u001b[34mArguments: serve\u001b[0m\n",
      "\u001b[35mArguments: serve\u001b[0m\n",
      "\u001b[34m[06/01/2021 10:40:16 INFO 140349593466240] Finding and loading model\u001b[0m\n",
      "\u001b[34m[06/01/2021 10:40:16 INFO 140349593466240] Trying to load model from /opt/ml/model/model.bin\u001b[0m\n",
      "\u001b[34m[06/01/2021 10:40:17 INFO 140349593466240] Number of server workers: 4\u001b[0m\n",
      "\u001b[34m[2021-06-01 10:40:17 +0000] [1] [INFO] Starting gunicorn 19.7.1\u001b[0m\n",
      "\u001b[34m[2021-06-01 10:40:17 +0000] [1] [INFO] Listening at: http://0.0.0.0:8080 (1)\u001b[0m\n",
      "\u001b[34m[2021-06-01 10:40:17 +0000] [1] [INFO] Using worker: sync\u001b[0m\n",
      "\u001b[34m[2021-06-01 10:40:17 +0000] [32] [INFO] Booting worker with pid: 32\u001b[0m\n",
      "\u001b[34m[2021-06-01 10:40:17 +0000] [33] [INFO] Booting worker with pid: 33\u001b[0m\n",
      "\u001b[34m[2021-06-01 10:40:17 +0000] [34] [INFO] Booting worker with pid: 34\u001b[0m\n",
      "\u001b[34m[2021-06-01 10:40:17 +0000] [35] [INFO] Booting worker with pid: 35\u001b[0m\n",
      "\u001b[35m[06/01/2021 10:40:16 INFO 140349593466240] Finding and loading model\u001b[0m\n",
      "\u001b[35m[06/01/2021 10:40:16 INFO 140349593466240] Trying to load model from /opt/ml/model/model.bin\u001b[0m\n",
      "\u001b[35m[06/01/2021 10:40:17 INFO 140349593466240] Number of server workers: 4\u001b[0m\n",
      "\u001b[35m[2021-06-01 10:40:17 +0000] [1] [INFO] Starting gunicorn 19.7.1\u001b[0m\n",
      "\u001b[35m[2021-06-01 10:40:17 +0000] [1] [INFO] Listening at: http://0.0.0.0:8080 (1)\u001b[0m\n",
      "\u001b[35m[2021-06-01 10:40:17 +0000] [1] [INFO] Using worker: sync\u001b[0m\n",
      "\u001b[35m[2021-06-01 10:40:17 +0000] [32] [INFO] Booting worker with pid: 32\u001b[0m\n",
      "\u001b[35m[2021-06-01 10:40:17 +0000] [33] [INFO] Booting worker with pid: 33\u001b[0m\n",
      "\u001b[35m[2021-06-01 10:40:17 +0000] [34] [INFO] Booting worker with pid: 34\u001b[0m\n",
      "\u001b[35m[2021-06-01 10:40:17 +0000] [35] [INFO] Booting worker with pid: 35\u001b[0m\n",
      "\u001b[32m2021-06-01T10:40:20.552:[sagemaker logs]: MaxConcurrentTransforms=4, MaxPayloadInMB=6, BatchStrategy=MULTI_RECORD\u001b[0m\n"
     ]
    }
   ],
   "source": [
    "transformer.transform(\n",
    "    data=s3_test_without_labels_data, \n",
    "    data_type='S3Prefix',\n",
    "    content_type='application/jsonlines', \n",
    "    split_type='Line'\n",
    ")\n",
    "\n",
    "transformer.wait()"
   ]
  },
  {
   "cell_type": "code",
   "execution_count": 6,
   "metadata": {},
   "outputs": [
    {
     "name": "stdout",
     "output_type": "stream",
     "text": [
      "download: s3://sagemaker-cookbook-bucket/chapter08/batch-prediction/synthetic.test_without_labels.txt.out to tmp/synthetic.test_without_labels.txt.out\n"
     ]
    }
   ],
   "source": [
    "!aws s3 cp {batch_output} ./tmp --recursive"
   ]
  },
  {
   "cell_type": "code",
   "execution_count": 7,
   "metadata": {},
   "outputs": [
    {
     "name": "stdout",
     "output_type": "stream",
     "text": [
      "{\"label\": [\"__label__negative\"], \"prob\": [0.609320878982544]}\n",
      "{\"label\": [\"__label__negative\"], \"prob\": [0.6484045386314392]}\n",
      "{\"label\": [\"__label__positive\"], \"prob\": [0.5025691986083984]}\n",
      "{\"label\": [\"__label__negative\"], \"prob\": [0.7442595958709717]}\n",
      "{\"label\": [\"__label__negative\"], \"prob\": [0.6708104610443115]}\n",
      "{\"label\": [\"__label__negative\"], \"prob\": [0.5628624558448792]}\n",
      "{\"label\": [\"__label__negative\"], \"prob\": [0.6374379992485046]}\n",
      "{\"label\": [\"__label__negative\"], \"prob\": [0.7534217238426208]}\n",
      "{\"label\": [\"__label__positive\"], \"prob\": [0.8219373226165771]}\n",
      "{\"label\": [\"__label__positive\"], \"prob\": [0.9115214943885803]}\n"
     ]
    }
   ],
   "source": [
    "!head tmp/synthetic.test_without_labels.txt.out"
   ]
  },
  {
   "cell_type": "code",
   "execution_count": 8,
   "metadata": {},
   "outputs": [
    {
     "name": "stdout",
     "output_type": "stream",
     "text": [
      " {\"source\":  \"There  Are  Better  Restaurants  Out  There  tastes  bad  spaghetti  chicken  soup  food  in  the  restaurant\"} \n",
      " {\"source\":  \"Not  Impressive  i  will  not  recommend  this  to  my  friends  there  are  better  restaurants  out  there  spaghetti  chicken  soup  food  in  the  restaurant  donut\"} \n",
      " {\"source\":  \"I  Will  Not  Recommend  This  To  My  Friends  spaghetti  chicken  soup  food  in  the  restaurant\"} \n",
      " {\"source\":  \"There  Are  Better  Restaurants  Out  There  there  are  better  restaurants  out  there  spaghetti  chicken  soup  tastes  bad  dinner  time  tastes  bad  this  is  bad\"} \n",
      " {\"source\":  \"Spaghetti  Chicken  Soup  this  is  bad  i  will  not  recommend  this  to  my  friends  i  hate  it  very  bad\"} \n",
      " {\"source\":  \"Not  Impressive  spaghetti  chicken  soup  i  will  not  recommend  this  to  my  friends  spaghetti  chicken  soup\"} \n",
      " {\"source\":  \"There  Are  Better  Restaurants  Out  There  spaghetti  chicken  soup  i  hate  it  this  is  bad  i  hate  it\"} \n",
      " {\"source\":  \"Food  In  The  Restaurant  tastes  bad  tastes  bad  there  are  better  restaurants  out  there  i  hate  it\"} \n",
      " {\"source\":  \"This  Is  Good  very  good  i  like  it  very  delicious\"} \n",
      " {\"source\":  \"Dinner  Time  very  good  very  delicious  very  good  very  good  very  good  very  delicious  very  good\"} \n"
     ]
    }
   ],
   "source": [
    "!head tmp/synthetic.test_without_labels.txt"
   ]
  }
 ],
 "metadata": {
  "instance_type": "ml.t3.medium",
  "kernelspec": {
   "display_name": "Python 3 (Data Science)",
   "language": "python",
   "name": "python3__SAGEMAKER_INTERNAL__arn:aws:sagemaker:us-east-1:081325390199:image/datascience-1.0"
  },
  "language_info": {
   "codemirror_mode": {
    "name": "ipython",
    "version": 3
   },
   "file_extension": ".py",
   "mimetype": "text/x-python",
   "name": "python",
   "nbconvert_exporter": "python",
   "pygments_lexer": "ipython3",
   "version": "3.7.10"
  }
 },
 "nbformat": 4,
 "nbformat_minor": 4
}
