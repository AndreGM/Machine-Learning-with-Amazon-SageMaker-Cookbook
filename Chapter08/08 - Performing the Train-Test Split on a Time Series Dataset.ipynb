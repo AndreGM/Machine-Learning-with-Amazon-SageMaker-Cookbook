{
 "cells": [
  {
   "cell_type": "markdown",
   "metadata": {},
   "source": [
    "# Performing the Train-Test Split on a Time Series Dataset"
   ]
  },
  {
   "cell_type": "markdown",
   "metadata": {},
   "source": [
    "<img align=\"left\" width=\"130\" src=\"https://raw.githubusercontent.com/PacktPublishing/Amazon-SageMaker-Cookbook/master/Extra/cover-small-padded.png\"/>\n",
    "\n",
    "This notebook contains the code to help readers work through one of the recipes of the book [Machine Learning with Amazon SageMaker Cookbook: 80 proven recipes for data scientists and developers to perform ML experiments and deployments](https://www.amazon.com/Machine-Learning-Amazon-SageMaker-Cookbook/dp/1800567030)"
   ]
  },
  {
   "cell_type": "markdown",
   "metadata": {},
   "source": [
    "### How to do it..."
   ]
  },
  {
   "cell_type": "code",
   "execution_count": null,
   "metadata": {},
   "outputs": [],
   "source": [
    "import json\n",
    "import numpy as np\n",
    "import matplotlib.pyplot as plt\n",
    "import pandas as pd\n",
    "\n",
    "%matplotlib inline"
   ]
  },
  {
   "cell_type": "code",
   "execution_count": null,
   "metadata": {},
   "outputs": [],
   "source": [
    "def load_data_from_json(filename):\n",
    "    tmp = {}\n",
    "    \n",
    "    with open(filename) as file:\n",
    "        tmp = json.load(file)\n",
    "        \n",
    "    index = pd.date_range(\n",
    "        start=tmp[\"t0\"], \n",
    "        freq=tmp[\"freq\"], \n",
    "        periods=tmp[\"length\"])\n",
    "    tmp[\"data\"] = pd.Series(\n",
    "        data=tmp[\"data\"], \n",
    "        index=index)\n",
    "        \n",
    "    return tmp"
   ]
  },
  {
   "cell_type": "code",
   "execution_count": null,
   "metadata": {},
   "outputs": [],
   "source": [
    "time_series_data = load_data_from_json(\n",
    "    \"tmp/all.json\"\n",
    ")\n",
    "time_series_data"
   ]
  },
  {
   "cell_type": "code",
   "execution_count": null,
   "metadata": {},
   "outputs": [],
   "source": [
    "def train_test_split(data, ratio=0.9):\n",
    "    train_length = int(len(data) * ratio)\n",
    "    pl = int(len(data)) - train_length\n",
    "    prediction_length = pl\n",
    "    training_dataset = data[:-prediction_length]\n",
    "    target_dataset = data[train_length-1:]\n",
    "    test_dataset = data\n",
    "    \n",
    "    return {\n",
    "        \"prediction_length\": prediction_length,\n",
    "        \"training_dataset\": training_dataset,\n",
    "        \"target_dataset\": target_dataset,\n",
    "        \"test_dataset\": test_dataset\n",
    "    }"
   ]
  },
  {
   "cell_type": "code",
   "execution_count": null,
   "metadata": {},
   "outputs": [],
   "source": [
    "results = train_test_split(\n",
    "    time_series_data[\"data\"]\n",
    ")\n",
    "print(results[\"prediction_length\"])"
   ]
  },
  {
   "cell_type": "code",
   "execution_count": null,
   "metadata": {},
   "outputs": [],
   "source": [
    "training_dataset = results[\"training_dataset\"]\n",
    "target_dataset = results[\"target_dataset\"]\n",
    "\n",
    "plt.figure(figsize=(14,6))\n",
    "plt.plot(training_dataset.index, \n",
    "         training_dataset, label=\"training\")\n",
    "plt.plot(target_dataset.index, \n",
    "         target_dataset, \n",
    "         label=\"target\")\n",
    "plt.grid(True)\n",
    "plt.xlabel(\"DATE\")\n",
    "plt.ylabel(\"VALUE\")    \n",
    "plt.legend()\n",
    "plt.show()"
   ]
  },
  {
   "cell_type": "code",
   "execution_count": null,
   "metadata": {},
   "outputs": [],
   "source": [
    "def series_to_object(data):\n",
    "    return {\"start\": str(data.index[0]), \n",
    "            \"target\": list(data)}"
   ]
  },
  {
   "cell_type": "code",
   "execution_count": null,
   "metadata": {},
   "outputs": [],
   "source": [
    "def series_to_jsonline(data):\n",
    "    return json.dumps(series_to_object(data))"
   ]
  },
  {
   "cell_type": "code",
   "execution_count": null,
   "metadata": {},
   "outputs": [],
   "source": [
    "def save_data_to_jsonlines(data, filename):\n",
    "    tmp = {}\n",
    "    \n",
    "    with open(filename, 'wb') as file:\n",
    "        t = series_to_jsonline(data)\n",
    "        t = t.encode(\"utf-8\")\n",
    "        file.write(t)\n",
    "        file.write(\"\\n\".encode(\"utf-8\"))"
   ]
  },
  {
   "cell_type": "code",
   "execution_count": null,
   "metadata": {},
   "outputs": [],
   "source": [
    "save_data_to_jsonlines(\n",
    "    results[\"training_dataset\"], \n",
    "    \"tmp/training.jsonl\"\n",
    ")\n",
    "save_data_to_jsonlines(\n",
    "    results[\"test_dataset\"], \n",
    "    \"tmp/test.jsonl\"\n",
    ")"
   ]
  },
  {
   "cell_type": "code",
   "execution_count": null,
   "metadata": {},
   "outputs": [],
   "source": [
    "s3_bucket = 'sagemaker-cookbook-bucket'\n",
    "prefix = 'chapter08'"
   ]
  },
  {
   "cell_type": "code",
   "execution_count": null,
   "metadata": {},
   "outputs": [],
   "source": [
    "!aws s3 cp tmp/training.jsonl s3://{s3_bucket}/{prefix}/input/training.jsonl\n",
    "!aws s3 cp tmp/test.jsonl s3://{s3_bucket}/{prefix}/input/test.jsonl\n"
   ]
  },
  {
   "cell_type": "code",
   "execution_count": null,
   "metadata": {},
   "outputs": [],
   "source": [
    "prediction_length = results[\"prediction_length\"]\n",
    "%store prediction_length"
   ]
  },
  {
   "cell_type": "code",
   "execution_count": null,
   "metadata": {},
   "outputs": [],
   "source": [
    "freq = time_series_data[\"freq\"]\n",
    "%store freq"
   ]
  },
  {
   "cell_type": "code",
   "execution_count": null,
   "metadata": {},
   "outputs": [],
   "source": [
    "training_dataset = results[\"training_dataset\"]\n",
    "%store training_dataset\n",
    "training_dataset"
   ]
  },
  {
   "cell_type": "code",
   "execution_count": null,
   "metadata": {
    "scrolled": true
   },
   "outputs": [],
   "source": [
    "target_dataset = results[\"target_dataset\"]\n",
    "%store target_dataset\n",
    "target_dataset"
   ]
  },
  {
   "cell_type": "code",
   "execution_count": null,
   "metadata": {},
   "outputs": [],
   "source": [
    "%store s3_bucket\n",
    "%store prefix"
   ]
  }
 ],
 "metadata": {
  "instance_type": "ml.t3.medium",
  "kernelspec": {
   "display_name": "Python 3 (Data Science)",
   "language": "python",
   "name": "python3__SAGEMAKER_INTERNAL__arn:aws:sagemaker:us-east-1:081325390199:image/datascience-1.0"
  },
  "language_info": {
   "codemirror_mode": {
    "name": "ipython",
    "version": 3
   },
   "file_extension": ".py",
   "mimetype": "text/x-python",
   "name": "python",
   "nbconvert_exporter": "python",
   "pygments_lexer": "ipython3",
   "version": "3.7.10"
  }
 },
 "nbformat": 4,
 "nbformat_minor": 4
}
