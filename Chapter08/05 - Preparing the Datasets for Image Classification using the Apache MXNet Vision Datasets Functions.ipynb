{
 "cells": [
  {
   "cell_type": "markdown",
   "metadata": {},
   "source": [
    "# Preparing the Datasets for Image Classification using the Apache MXNet Vision Datasets Functions"
   ]
  },
  {
   "cell_type": "markdown",
   "metadata": {},
   "source": [
    "<img align=\"left\" width=\"130\" src=\"https://raw.githubusercontent.com/PacktPublishing/Amazon-SageMaker-Cookbook/master/Extra/cover-small-padded.png\"/>\n",
    "\n",
    "This notebook contains the code to help readers work through one of the recipes of the book [Machine Learning with Amazon SageMaker Cookbook: 80 proven recipes for data scientists and developers to perform ML experiments and deployments](https://www.amazon.com/Machine-Learning-Amazon-SageMaker-Cookbook/dp/1800567030)"
   ]
  },
  {
   "cell_type": "markdown",
   "metadata": {},
   "source": [
    "### How to do it..."
   ]
  },
  {
   "cell_type": "code",
   "execution_count": null,
   "metadata": {},
   "outputs": [],
   "source": [
    "%%bash\n",
    "\n",
    "mkdir -p tmp/train/0 tmp/train/1 tmp/train/2 tmp/train/3 tmp/train/4\n",
    "mkdir -p tmp/train/5 tmp/train/6 tmp/train/7 tmp/train/8 tmp/train/9\n",
    "mkdir -p tmp/validation/0 tmp/validation/1 tmp/validation/2 tmp/validation/3 tmp/validation/4\n",
    "mkdir -p tmp/validation/5 tmp/validation/6 tmp/validation/7 tmp/validation/8 tmp/validation/9"
   ]
  },
  {
   "cell_type": "code",
   "execution_count": null,
   "metadata": {},
   "outputs": [],
   "source": [
    "%%bash\n",
    "\n",
    "mkdir -p tmp/train_lst\n",
    "mkdir -p tmp/validation_lst\n",
    "mkdir -p tmp/test"
   ]
  },
  {
   "cell_type": "code",
   "execution_count": null,
   "metadata": {},
   "outputs": [],
   "source": [
    "%%bash\n",
    "\n",
    "ls -1F tmp/train"
   ]
  },
  {
   "cell_type": "code",
   "execution_count": null,
   "metadata": {},
   "outputs": [],
   "source": [
    "%%bash\n",
    "\n",
    "ls -1F tmp/validation"
   ]
  },
  {
   "cell_type": "code",
   "execution_count": null,
   "metadata": {},
   "outputs": [],
   "source": [
    "import mxnet as mx\n",
    "mx.random.seed(21)"
   ]
  },
  {
   "cell_type": "code",
   "execution_count": null,
   "metadata": {},
   "outputs": [],
   "source": [
    "def transform_fxn(data, label):\n",
    "    data = data.astype('float32')\n",
    "    data = data / 255\n",
    "    return data, label\n",
    "\n",
    "ds = mx.gluon.data.vision.datasets.MNIST(\n",
    "    train=True, \n",
    "    transform=transform_fxn\n",
    ")\n",
    "training_and_validation_dataset = ds\n",
    "\n",
    "ds = mx.gluon.data.vision.datasets.MNIST(\n",
    "    train=False, \n",
    "    transform=transform_fxn\n",
    ")\n",
    "test_dataset = ds"
   ]
  },
  {
   "cell_type": "code",
   "execution_count": null,
   "metadata": {},
   "outputs": [],
   "source": [
    "print(len(training_and_validation_dataset))\n",
    "print(len(test_dataset))"
   ]
  },
  {
   "cell_type": "code",
   "execution_count": null,
   "metadata": {},
   "outputs": [],
   "source": [
    "def get_training_row_indexes(row_count, \n",
    "                             percent=0.5, \n",
    "                             ratio=0.8):\n",
    "    training_index_start = 0\n",
    "    end = int(row_count * ratio * percent)\n",
    "    training_index_end = end\n",
    "    \n",
    "    print(\"Range Index Start:\", \n",
    "          training_index_start)\n",
    "    print(\"Range Index End:\", \n",
    "          training_index_end)\n",
    "    \n",
    "    output = list(range(training_index_start, \n",
    "                        training_index_end))\n",
    "    \n",
    "    print(\"Output Length:\", len(output))\n",
    "    print(\"Last Index:\", output[-1])\n",
    "    \n",
    "    return output"
   ]
  },
  {
   "cell_type": "code",
   "execution_count": null,
   "metadata": {},
   "outputs": [],
   "source": [
    "def get_validation_row_indexes(row_count, \n",
    "                               percent=0.5, \n",
    "                               ratio=0.8):\n",
    "    start = int(row_count * ratio)\n",
    "    validation_index_start = start\n",
    "    \n",
    "    count = int((1 - ratio) * row_count * percent) + 1\n",
    "    element_count = count\n",
    "    validation_index_end = validation_index_start + element_count\n",
    "    \n",
    "    print(\"Range Index Start:\", \n",
    "          validation_index_start)\n",
    "    print(\"Element Count:\", \n",
    "          element_count)\n",
    "    print(\"Range Index End:\", \n",
    "          validation_index_end)\n",
    "    \n",
    "    output = list(range(validation_index_start, \n",
    "                        validation_index_end))\n",
    "    \n",
    "    print(\"Output Length:\", len(output))\n",
    "    print(\"Last Index:\", output[-1])\n",
    "    \n",
    "    return output"
   ]
  },
  {
   "cell_type": "code",
   "execution_count": null,
   "metadata": {},
   "outputs": [],
   "source": [
    "def get_test_row_indexes(row_count, \n",
    "                         percent=0.5):\n",
    "    test_index_start = 0\n",
    "    test_index_end = int(row_count * percent)\n",
    "    \n",
    "    print(\"Range Index Start:\", \n",
    "          test_index_start)\n",
    "    print(\"Range Index End:\", \n",
    "          test_index_end)\n",
    "    \n",
    "    output = list(range(test_index_start, \n",
    "                        test_index_end))\n",
    "    \n",
    "    print(\"Output Length:\", len(output))\n",
    "    print(\"Last Index:\", output[-1])\n",
    "    \n",
    "    return output"
   ]
  },
  {
   "cell_type": "code",
   "execution_count": null,
   "metadata": {
    "scrolled": true
   },
   "outputs": [],
   "source": [
    "get_training_row_indexes(row_count=60000, \n",
    "                         percent=0.5)"
   ]
  },
  {
   "cell_type": "code",
   "execution_count": null,
   "metadata": {
    "scrolled": true
   },
   "outputs": [],
   "source": [
    "get_validation_row_indexes(row_count=60000, \n",
    "                           percent=0.5)"
   ]
  },
  {
   "cell_type": "code",
   "execution_count": null,
   "metadata": {
    "scrolled": true
   },
   "outputs": [],
   "source": [
    "get_test_row_indexes(row_count=10000, \n",
    "                     percent=0.1)"
   ]
  },
  {
   "cell_type": "code",
   "execution_count": null,
   "metadata": {},
   "outputs": [],
   "source": [
    "import string \n",
    "import random\n",
    "\n",
    "def generate_random_string():\n",
    "    return ''.join(\n",
    "        random.sample(\n",
    "        string.ascii_uppercase,12)\n",
    "    )\n"
   ]
  },
  {
   "cell_type": "code",
   "execution_count": null,
   "metadata": {},
   "outputs": [],
   "source": [
    "generate_random_string()"
   ]
  },
  {
   "cell_type": "code",
   "execution_count": null,
   "metadata": {},
   "outputs": [],
   "source": [
    "import matplotlib\n",
    "import matplotlib.pyplot\n",
    "\n",
    "def save_image(image_data, filename):\n",
    "    matplotlib.pyplot.imsave(\n",
    "        f\"tmp/{filename}\", \n",
    "        image_data[:,:,0].asnumpy())"
   ]
  },
  {
   "cell_type": "code",
   "execution_count": null,
   "metadata": {},
   "outputs": [],
   "source": [
    "def generate_image_files_and_lst_dict(\n",
    "    dataset, \n",
    "    indexes, \n",
    "    tag\n",
    "):\n",
    "    list_of_lst_dicts = []\n",
    "    \n",
    "    for index in indexes:\n",
    "        image_label_pair = dataset[index]\n",
    "        image_data = image_label_pair[0]\n",
    "        label = image_label_pair[1]\n",
    "        random_string = generate_random_string()\n",
    "\n",
    "        if tag == \"test\":\n",
    "            rp = f\"{random_string}.png\"\n",
    "            relative_path = rp\n",
    "            filename = f\"{tag}/{relative_path}\"\n",
    "        else:\n",
    "            rp = f\"{label}/{random_string}.png\"\n",
    "            relative_path = rp\n",
    "            filename = f\"{tag}/{relative_path}\"\n",
    "\n",
    "        save_image(\n",
    "            image_data, \n",
    "            filename=filename\n",
    "        )\n",
    "        \n",
    "        lst_dict = {\n",
    "            'relative_path': relative_path, \n",
    "            'class': label\n",
    "        }\n",
    "        list_of_lst_dicts.append(lst_dict)\n",
    "\n",
    "    return list_of_lst_dicts"
   ]
  },
  {
   "cell_type": "code",
   "execution_count": null,
   "metadata": {},
   "outputs": [],
   "source": [
    "train_dataset_length = len(\n",
    "    training_and_validation_dataset\n",
    ")\n",
    "train_indexes = get_training_row_indexes(\n",
    "    row_count=train_dataset_length, \n",
    "    percent=0.01)\n",
    "\n",
    "t = generate_image_files_and_lst_dict(\n",
    "    dataset=training_and_validation_dataset,\n",
    "    indexes=train_indexes,\n",
    "    tag = \"train\"\n",
    ")\n",
    "train_lst_dict = t"
   ]
  },
  {
   "cell_type": "code",
   "execution_count": null,
   "metadata": {
    "scrolled": true
   },
   "outputs": [],
   "source": [
    "train_lst_dict"
   ]
  },
  {
   "cell_type": "code",
   "execution_count": null,
   "metadata": {},
   "outputs": [],
   "source": [
    "train_dataset_length = len(\n",
    "    training_and_validation_dataset\n",
    ")\n",
    "validation_indexes = get_validation_row_indexes(\n",
    "     row_count=train_dataset_length, \n",
    "     percent=0.01)\n",
    "\n",
    "v = generate_image_files_and_lst_dict(\n",
    "    dataset=training_and_validation_dataset,\n",
    "    indexes=validation_indexes,\n",
    "    tag = \"validation\"\n",
    ")\n",
    "validation_lst_dict = v"
   ]
  },
  {
   "cell_type": "code",
   "execution_count": null,
   "metadata": {
    "scrolled": true
   },
   "outputs": [],
   "source": [
    "validation_lst_dict"
   ]
  },
  {
   "cell_type": "code",
   "execution_count": null,
   "metadata": {},
   "outputs": [],
   "source": [
    "test_dataset_length = len(test_dataset)\n",
    "test_indexes = get_test_row_indexes(\n",
    "    row_count=test_dataset_length, \n",
    "    percent=0.01)\n",
    "\n",
    "test_lst_dict = generate_image_files_and_lst_dict(\n",
    "    dataset=test_dataset,\n",
    "    indexes=test_indexes,\n",
    "    tag = \"test\"\n",
    ")"
   ]
  },
  {
   "cell_type": "code",
   "execution_count": null,
   "metadata": {
    "scrolled": true
   },
   "outputs": [],
   "source": [
    "test_lst_dict"
   ]
  },
  {
   "cell_type": "code",
   "execution_count": null,
   "metadata": {},
   "outputs": [],
   "source": [
    "def save_lsts_to_file(values, filename):\n",
    "    with open(filename, 'w') as output:\n",
    "        for index, row in enumerate(\n",
    "            values, \n",
    "            start=1\n",
    "        ):\n",
    "            relative_path = row['relative_path']\n",
    "            cls = row['class']\n",
    "            tmp = f\"{index}\\t{cls}\\t{relative_path}\\n\"\n",
    "            output.write(tmp)"
   ]
  },
  {
   "cell_type": "code",
   "execution_count": null,
   "metadata": {},
   "outputs": [],
   "source": [
    "save_lsts_to_file(\n",
    "    train_lst_dict, \n",
    "    filename=\"tmp/train_lst/train.lst\"\n",
    ")\n",
    "save_lsts_to_file(\n",
    "    validation_lst_dict, \n",
    "    filename=\"tmp/validation_lst/validation.lst\"\n",
    ")"
   ]
  },
  {
   "cell_type": "code",
   "execution_count": null,
   "metadata": {},
   "outputs": [],
   "source": [
    "%%bash\n",
    "\n",
    "head tmp/train_lst/train.lst"
   ]
  },
  {
   "cell_type": "code",
   "execution_count": null,
   "metadata": {
    "scrolled": true
   },
   "outputs": [],
   "source": [
    "s3_bucket = \"sagemaker-cookbook-bucket\"\n",
    "prefix = \"image-experiments\"\n",
    "!aws s3 cp tmp/.  s3://{s3_bucket}/{prefix}/ --recursive"
   ]
  },
  {
   "cell_type": "code",
   "execution_count": null,
   "metadata": {},
   "outputs": [],
   "source": [
    "%store s3_bucket\n",
    "%store prefix"
   ]
  }
 ],
 "metadata": {
  "kernelspec": {
   "display_name": "Python 3 (MXNet 1.8 Python 3.7 CPU Optimized)",
   "language": "python",
   "name": "python3__SAGEMAKER_INTERNAL__arn:aws:sagemaker:us-east-1:081325390199:image/mxnet-1.8-cpu-py37-ubuntu16.04-v1"
  },
  "language_info": {
   "codemirror_mode": {
    "name": "ipython",
    "version": 3
   },
   "file_extension": ".py",
   "mimetype": "text/x-python",
   "name": "python",
   "nbconvert_exporter": "python",
   "pygments_lexer": "ipython3",
   "version": "3.7.10"
  }
 },
 "nbformat": 4,
 "nbformat_minor": 4
}
