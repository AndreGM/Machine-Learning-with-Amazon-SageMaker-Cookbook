{
 "cells": [
  {
   "cell_type": "code",
   "execution_count": 18,
   "metadata": {
    "scrolled": true
   },
   "outputs": [
    {
     "name": "stdout",
     "output_type": "stream",
     "text": [
      "/opt/conda/lib/python3.7/site-packages/secretstorage/dhcrypto.py:16: CryptographyDeprecationWarning: int_from_bytes is deprecated, use int.from_bytes instead\n",
      "  from cryptography.utils import int_from_bytes\n",
      "/opt/conda/lib/python3.7/site-packages/secretstorage/util.py:25: CryptographyDeprecationWarning: int_from_bytes is deprecated, use int.from_bytes instead\n",
      "  from cryptography.utils import int_from_bytes\n",
      "Requirement already satisfied: faker in /opt/conda/lib/python3.7/site-packages (8.4.0)\n",
      "Requirement already satisfied: text-unidecode==1.3 in /opt/conda/lib/python3.7/site-packages (from faker) (1.3)\n",
      "Requirement already satisfied: python-dateutil>=2.4 in /opt/conda/lib/python3.7/site-packages (from faker) (2.8.1)\n",
      "Requirement already satisfied: six>=1.5 in /opt/conda/lib/python3.7/site-packages (from python-dateutil>=2.4->faker) (1.14.0)\n",
      "\u001b[33mWARNING: Running pip as root will break packages and permissions. You should install packages reliably by using venv: https://pip.pypa.io/warnings/venv\u001b[0m\n",
      "\u001b[33mWARNING: You are using pip version 21.1.1; however, version 21.1.2 is available.\n",
      "You should consider upgrading via the '/opt/conda/bin/python -m pip install --upgrade pip' command.\u001b[0m\n"
     ]
    }
   ],
   "source": [
    "!pip install faker"
   ]
  },
  {
   "cell_type": "code",
   "execution_count": 19,
   "metadata": {},
   "outputs": [],
   "source": [
    "from faker import Faker\n",
    "faker = Faker()"
   ]
  },
  {
   "cell_type": "code",
   "execution_count": 20,
   "metadata": {},
   "outputs": [],
   "source": [
    "positive_custom_list = [\n",
    "    'this is good', \n",
    "    'i like it', \n",
    "    'very delicious', \n",
    "    'i would recommend this to my friends',\n",
    "    'food in the restaurant',\n",
    "    'spaghetti chicken soup',\n",
    "    'dinner time',\n",
    "    'tastes good',\n",
    "    'donut',\n",
    "    'very good',\n",
    "    'impressive']"
   ]
  },
  {
   "cell_type": "code",
   "execution_count": 21,
   "metadata": {},
   "outputs": [],
   "source": [
    "def generate_positive_sentences():\n",
    "    return faker.sentence(\n",
    "        ext_word_list=positive_custom_list\n",
    "    )"
   ]
  },
  {
   "cell_type": "code",
   "execution_count": 22,
   "metadata": {},
   "outputs": [],
   "source": [
    "negative_custom_list = [\n",
    "    'this is bad', \n",
    "    'i hate it', \n",
    "    'there are better restaurants out there', \n",
    "    'i will not recommend this to my friends',\n",
    "    'food in the restaurant',\n",
    "    'spaghetti chicken soup',\n",
    "    'dinner time',\n",
    "    'tastes bad',\n",
    "    'donut',\n",
    "    'very bad',\n",
    "    'not impressive']"
   ]
  },
  {
   "cell_type": "code",
   "execution_count": 23,
   "metadata": {},
   "outputs": [],
   "source": [
    "def generate_negative_sentences():\n",
    "    return faker.sentence(\n",
    "        ext_word_list=negative_custom_list\n",
    "    )"
   ]
  },
  {
   "cell_type": "code",
   "execution_count": 24,
   "metadata": {},
   "outputs": [],
   "source": [
    "positive_sentences = []\n",
    "\n",
    "for i in range(0, 1000):\n",
    "    item = generate_positive_sentences()\n",
    "    item = item.replace(\".\",\"\")\n",
    "    positive_sentences.append(item)"
   ]
  },
  {
   "cell_type": "code",
   "execution_count": 25,
   "metadata": {},
   "outputs": [],
   "source": [
    "negative_sentences = []\n",
    "\n",
    "for i in range(0, 1000):\n",
    "    item = generate_negative_sentences()\n",
    "    item = item.replace(\".\",\"\")\n",
    "    negative_sentences.append(item)"
   ]
  },
  {
   "cell_type": "code",
   "execution_count": 26,
   "metadata": {},
   "outputs": [],
   "source": [
    "import pandas as pd \n",
    "\n",
    "positive_df = pd.DataFrame(\n",
    "    positive_sentences, \n",
    "    columns=['text']\n",
    ")\n",
    "\n",
    "positive_df.insert(\n",
    "    0, \n",
    "    \"label\", \n",
    "    \"__label__positive\"\n",
    ")"
   ]
  },
  {
   "cell_type": "code",
   "execution_count": 27,
   "metadata": {},
   "outputs": [],
   "source": [
    "negative_df = pd.DataFrame(\n",
    "    negative_sentences, \n",
    "    columns=['text']\n",
    ")\n",
    "negative_df.insert(\n",
    "    0, \n",
    "    \"label\", \n",
    "    \"__label__negative\"\n",
    ")"
   ]
  },
  {
   "cell_type": "code",
   "execution_count": 28,
   "metadata": {},
   "outputs": [],
   "source": [
    "all_df = pd.concat(\n",
    "    [positive_df, negative_df], \n",
    "    ignore_index=True\n",
    ")"
   ]
  },
  {
   "cell_type": "code",
   "execution_count": 29,
   "metadata": {},
   "outputs": [],
   "source": [
    "from sklearn.model_selection import train_test_split\n",
    "train_val_df, test_df = train_test_split(\n",
    "    all_df, \n",
    "    test_size=0.2\n",
    ") \n",
    "train_df, val_df = train_test_split(\n",
    "    train_val_df, \n",
    "    test_size=0.25\n",
    ")"
   ]
  },
  {
   "cell_type": "code",
   "execution_count": 30,
   "metadata": {},
   "outputs": [
    {
     "name": "stdout",
     "output_type": "stream",
     "text": [
      "mkdir: cannot create directory ‘tmp’: File exists\n"
     ]
    }
   ],
   "source": [
    "!mkdir tmp \n",
    "train_df.to_csv(\n",
    "    \"tmp/synthetic.train.txt\", \n",
    "    header=False, \n",
    "    index=False, \n",
    "    sep=\" \", \n",
    "    quotechar=\" \"\n",
    ")\n",
    "val_df.to_csv(\n",
    "    \"tmp/synthetic.validation.txt\", \n",
    "    header=False, \n",
    "    index=False, \n",
    "    sep=\" \", \n",
    "    quotechar=\" \"\n",
    ") \n",
    "test_df.to_csv(\n",
    "    \"tmp/synthetic.test.txt\", \n",
    "    header=False, \n",
    "    index=False, \n",
    "    sep=\" \", \n",
    "    quotechar=\" \"\n",
    ")"
   ]
  },
  {
   "cell_type": "code",
   "execution_count": 31,
   "metadata": {},
   "outputs": [
    {
     "name": "stdout",
     "output_type": "stream",
     "text": [
      "upload: tmp/synthetic.train.txt to s3://sagemaker-cookbook-bucket/chapter08/input/synthetic.train.txt\n",
      "upload: tmp/synthetic.validation.txt to s3://sagemaker-cookbook-bucket/chapter08/input/synthetic.validation.txt\n"
     ]
    }
   ],
   "source": [
    "s3_bucket = \"sagemaker-cookbook-bucket\"\n",
    "prefix = \"chapter08\"\n",
    "!aws s3 cp tmp/synthetic.train.txt s3://{s3_bucket}/{prefix}/input/synthetic.train.txt \n",
    "!aws s3 cp tmp/synthetic.validation.txt s3://{s3_bucket}/{prefix}/input/synthetic.validation.txt"
   ]
  },
  {
   "cell_type": "code",
   "execution_count": 32,
   "metadata": {},
   "outputs": [
    {
     "name": "stdout",
     "output_type": "stream",
     "text": [
      "Stored 'test_df' (DataFrame)\n",
      "Stored 's3_bucket' (str)\n",
      "Stored 'prefix' (str)\n"
     ]
    }
   ],
   "source": [
    "%store test_df\n",
    "%store s3_bucket\n",
    "%store prefix"
   ]
  }
 ],
 "metadata": {
  "instance_type": "ml.t3.medium",
  "kernelspec": {
   "display_name": "Python 3 (Data Science)",
   "language": "python",
   "name": "python3__SAGEMAKER_INTERNAL__arn:aws:sagemaker:us-east-1:081325390199:image/datascience-1.0"
  },
  "language_info": {
   "codemirror_mode": {
    "name": "ipython",
    "version": 3
   },
   "file_extension": ".py",
   "mimetype": "text/x-python",
   "name": "python",
   "nbconvert_exporter": "python",
   "pygments_lexer": "ipython3",
   "version": "3.7.10"
  }
 },
 "nbformat": 4,
 "nbformat_minor": 4
}
