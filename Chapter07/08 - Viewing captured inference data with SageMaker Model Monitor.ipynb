{
 "cells": [
  {
   "cell_type": "code",
   "execution_count": 1,
   "metadata": {},
   "outputs": [
    {
     "data": {
      "text/plain": [
       "'s3://sagemaker-cookbook-bucket/chapter07/model-monitor'"
      ]
     },
     "execution_count": 1,
     "metadata": {},
     "output_type": "execute_result"
    }
   ],
   "source": [
    "%store -r s3_capture_upload_path\n",
    "s3_capture_upload_path"
   ]
  },
  {
   "cell_type": "code",
   "execution_count": 8,
   "metadata": {},
   "outputs": [
    {
     "data": {
      "text/plain": [
       "'2021-05-24 15:11:19        407 chapter07/model-monitor/model-ACBOE-2021-05-24-14-51-44-733/AllTraffic/2021/05/24/15/10-15-629-6c69d3ca-19f7-45a5-9b92-2522f26c0e43.jsonl'"
      ]
     },
     "execution_count": 8,
     "metadata": {},
     "output_type": "execute_result"
    }
   ],
   "source": [
    "jsonl_files = !aws s3 ls {s3_capture_upload_path} --recursive\n",
    "jsonl_file = jsonl_files[0]\n",
    "jsonl_file"
   ]
  },
  {
   "cell_type": "code",
   "execution_count": 10,
   "metadata": {},
   "outputs": [
    {
     "data": {
      "text/plain": [
       "'chapter07/model-monitor/model-ACBOE-2021-05-24-14-51-44-733/AllTraffic/2021/05/24/15/10-15-629-6c69d3ca-19f7-45a5-9b92-2522f26c0e43.jsonl'"
      ]
     },
     "execution_count": 10,
     "metadata": {},
     "output_type": "execute_result"
    }
   ],
   "source": [
    "file_path = jsonl_file.split(\" \")[-1]\n",
    "file_path"
   ]
  },
  {
   "cell_type": "code",
   "execution_count": 13,
   "metadata": {},
   "outputs": [],
   "source": [
    "%store -r s3_bucket_name"
   ]
  },
  {
   "cell_type": "code",
   "execution_count": 16,
   "metadata": {},
   "outputs": [
    {
     "data": {
      "text/plain": [
       "'s3://sagemaker-cookbook-bucket/chapter07/model-monitor/model-ACBOE-2021-05-24-14-51-44-733/AllTraffic/2021/05/24/15/10-15-629-6c69d3ca-19f7-45a5-9b92-2522f26c0e43.jsonl'"
      ]
     },
     "execution_count": 16,
     "metadata": {},
     "output_type": "execute_result"
    }
   ],
   "source": [
    "log_data_s3_uri = f\"s3://{s3_bucket_name}/{file_path}\"\n",
    "log_data_s3_uri"
   ]
  },
  {
   "cell_type": "code",
   "execution_count": 15,
   "metadata": {},
   "outputs": [],
   "source": [
    "!mkdir -p tmp"
   ]
  },
  {
   "cell_type": "code",
   "execution_count": 18,
   "metadata": {},
   "outputs": [
    {
     "name": "stdout",
     "output_type": "stream",
     "text": [
      "download: s3://sagemaker-cookbook-bucket/chapter07/model-monitor/model-ACBOE-2021-05-24-14-51-44-733/AllTraffic/2021/05/24/15/10-15-629-6c69d3ca-19f7-45a5-9b92-2522f26c0e43.jsonl to tmp/sample.jsonl\n"
     ]
    }
   ],
   "source": [
    "!aws s3 cp {log_data_s3_uri} tmp/sample.jsonl"
   ]
  },
  {
   "cell_type": "code",
   "execution_count": 20,
   "metadata": {},
   "outputs": [
    {
     "name": "stdout",
     "output_type": "stream",
     "text": [
      "{\n",
      "    \"captureData\": {\n",
      "        \"endpointInput\": {\n",
      "            \"observedContentType\": \"text/csv\",\n",
      "            \"mode\": \"INPUT\",\n",
      "            \"data\": \"-3.585282409963491,-4.820820583530444,88,51\",\n",
      "            \"encoding\": \"CSV\"\n",
      "        },\n",
      "        \"endpointOutput\": {\n",
      "            \"observedContentType\": \"text/csv; charset=utf-8\",\n",
      "            \"mode\": \"OUTPUT\",\n",
      "            \"data\": \"0.9837374687194824\",\n",
      "            \"encoding\": \"CSV\"\n",
      "        }\n",
      "    },\n",
      "    \"eventMetadata\": {\n",
      "        \"eventId\": \"3a39c0e9-2c02-4eeb-a8cf-3bfa4564d931\",\n",
      "        \"inferenceTime\": \"2021-05-24T15:10:15Z\"\n",
      "    },\n",
      "    \"eventVersion\": \"0\"\n",
      "}\n"
     ]
    }
   ],
   "source": [
    "!cat tmp/sample.jsonl | python -m json.tool"
   ]
  }
 ],
 "metadata": {
  "instance_type": "ml.t3.medium",
  "kernelspec": {
   "display_name": "Python 3 (Data Science)",
   "language": "python",
   "name": "python3__SAGEMAKER_INTERNAL__arn:aws:sagemaker:us-east-1:081325390199:image/datascience-1.0"
  },
  "language_info": {
   "codemirror_mode": {
    "name": "ipython",
    "version": 3
   },
   "file_extension": ".py",
   "mimetype": "text/x-python",
   "name": "python",
   "nbconvert_exporter": "python",
   "pygments_lexer": "ipython3",
   "version": "3.7.10"
  }
 },
 "nbformat": 4,
 "nbformat_minor": 5
}
