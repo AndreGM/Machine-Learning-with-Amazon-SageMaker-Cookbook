{
 "cells": [
  {
   "cell_type": "code",
   "execution_count": 52,
   "metadata": {},
   "outputs": [],
   "source": [
    "%store -r s3_bucket_name\n",
    "%store -r prefix\n",
    "%store -r training_data_path\n",
    "%store -r test_data_path\n",
    "%store -r model_name"
   ]
  },
  {
   "cell_type": "code",
   "execution_count": 54,
   "metadata": {},
   "outputs": [],
   "source": [
    "import sagemaker\n",
    "\n",
    "session = sagemaker.Session()\n",
    "region = session.boto_region_name\n",
    "role = sagemaker.get_execution_role()"
   ]
  },
  {
   "cell_type": "code",
   "execution_count": 55,
   "metadata": {},
   "outputs": [],
   "source": [
    "s3_training_data_path = training_data_path\n",
    "s3_test_data_path = test_data_path\n",
    "s3_output_path = f\"s3://{s3_bucket_name}/{prefix}/output\""
   ]
  },
  {
   "cell_type": "code",
   "execution_count": 56,
   "metadata": {},
   "outputs": [
    {
     "name": "stdout",
     "output_type": "stream",
     "text": [
      "download: s3://sagemaker-cookbook-bucket/chapter07/input/training_data.csv to tmp/training_data.csv\n",
      "download: s3://sagemaker-cookbook-bucket/chapter07/input/test_data.csv to tmp/test_data.csv\n"
     ]
    }
   ],
   "source": [
    "!aws s3 cp {s3_training_data_path} tmp/training_data.csv\n",
    "!aws s3 cp {s3_test_data_path} tmp/test_data.csv"
   ]
  },
  {
   "cell_type": "code",
   "execution_count": 57,
   "metadata": {},
   "outputs": [],
   "source": [
    "import pandas as pd\n",
    "\n",
    "training_data = pd.read_csv(\"tmp/training_data.csv\")\n",
    "test_data = pd.read_csv(\"tmp/test_data.csv\")\n",
    "\n",
    "target = test_data['label']\n",
    "features = test_data.drop(columns=['label'])\n",
    "features.to_csv('tmp/test_features.csv', index=False, header=False)"
   ]
  },
  {
   "cell_type": "code",
   "execution_count": 60,
   "metadata": {},
   "outputs": [
    {
     "data": {
      "text/html": [
       "<div>\n",
       "<style scoped>\n",
       "    .dataframe tbody tr th:only-of-type {\n",
       "        vertical-align: middle;\n",
       "    }\n",
       "\n",
       "    .dataframe tbody tr th {\n",
       "        vertical-align: top;\n",
       "    }\n",
       "\n",
       "    .dataframe thead th {\n",
       "        text-align: right;\n",
       "    }\n",
       "</style>\n",
       "<table border=\"1\" class=\"dataframe\">\n",
       "  <thead>\n",
       "    <tr style=\"text-align: right;\">\n",
       "      <th></th>\n",
       "      <th>a</th>\n",
       "      <th>b</th>\n",
       "      <th>c</th>\n",
       "      <th>d</th>\n",
       "    </tr>\n",
       "  </thead>\n",
       "  <tbody>\n",
       "    <tr>\n",
       "      <th>0</th>\n",
       "      <td>-10.488853</td>\n",
       "      <td>0.632800</td>\n",
       "      <td>-79</td>\n",
       "      <td>5</td>\n",
       "    </tr>\n",
       "    <tr>\n",
       "      <th>1</th>\n",
       "      <td>8.455742</td>\n",
       "      <td>4.183267</td>\n",
       "      <td>-7</td>\n",
       "      <td>-83</td>\n",
       "    </tr>\n",
       "    <tr>\n",
       "      <th>2</th>\n",
       "      <td>-15.466566</td>\n",
       "      <td>-0.372287</td>\n",
       "      <td>19</td>\n",
       "      <td>39</td>\n",
       "    </tr>\n",
       "    <tr>\n",
       "      <th>3</th>\n",
       "      <td>-3.134794</td>\n",
       "      <td>-4.258036</td>\n",
       "      <td>9</td>\n",
       "      <td>39</td>\n",
       "    </tr>\n",
       "    <tr>\n",
       "      <th>4</th>\n",
       "      <td>-8.362027</td>\n",
       "      <td>-9.802120</td>\n",
       "      <td>23</td>\n",
       "      <td>75</td>\n",
       "    </tr>\n",
       "    <tr>\n",
       "      <th>...</th>\n",
       "      <td>...</td>\n",
       "      <td>...</td>\n",
       "      <td>...</td>\n",
       "      <td>...</td>\n",
       "    </tr>\n",
       "    <tr>\n",
       "      <th>995</th>\n",
       "      <td>0.659784</td>\n",
       "      <td>1.414005</td>\n",
       "      <td>50</td>\n",
       "      <td>-36</td>\n",
       "    </tr>\n",
       "    <tr>\n",
       "      <th>996</th>\n",
       "      <td>-12.388167</td>\n",
       "      <td>-3.860623</td>\n",
       "      <td>2</td>\n",
       "      <td>-49</td>\n",
       "    </tr>\n",
       "    <tr>\n",
       "      <th>997</th>\n",
       "      <td>-4.294561</td>\n",
       "      <td>-8.472893</td>\n",
       "      <td>-41</td>\n",
       "      <td>-14</td>\n",
       "    </tr>\n",
       "    <tr>\n",
       "      <th>998</th>\n",
       "      <td>-6.044883</td>\n",
       "      <td>-5.261760</td>\n",
       "      <td>-49</td>\n",
       "      <td>-97</td>\n",
       "    </tr>\n",
       "    <tr>\n",
       "      <th>999</th>\n",
       "      <td>-3.585282</td>\n",
       "      <td>-4.820821</td>\n",
       "      <td>88</td>\n",
       "      <td>51</td>\n",
       "    </tr>\n",
       "  </tbody>\n",
       "</table>\n",
       "<p>1000 rows × 4 columns</p>\n",
       "</div>"
      ],
      "text/plain": [
       "             a         b   c   d\n",
       "0   -10.488853  0.632800 -79   5\n",
       "1     8.455742  4.183267  -7 -83\n",
       "2   -15.466566 -0.372287  19  39\n",
       "3    -3.134794 -4.258036   9  39\n",
       "4    -8.362027 -9.802120  23  75\n",
       "..         ...       ...  ..  ..\n",
       "995   0.659784  1.414005  50 -36\n",
       "996 -12.388167 -3.860623   2 -49\n",
       "997  -4.294561 -8.472893 -41 -14\n",
       "998  -6.044883 -5.261760 -49 -97\n",
       "999  -3.585282 -4.820821  88  51\n",
       "\n",
       "[1000 rows x 4 columns]"
      ]
     },
     "execution_count": 60,
     "metadata": {},
     "output_type": "execute_result"
    }
   ],
   "source": [
    "features"
   ]
  },
  {
   "cell_type": "code",
   "execution_count": 61,
   "metadata": {},
   "outputs": [
    {
     "name": "stdout",
     "output_type": "stream",
     "text": [
      "upload: tmp/test_features.csv to s3://sagemaker-cookbook-bucket/chapter07/input/test_features.csv\n"
     ]
    }
   ],
   "source": [
    "base = f\"s3://{s3_bucket_name}/{prefix}/input\"\n",
    "s3_feature_path = f\"{base}/test_features.csv\"\n",
    "\n",
    "!aws s3 cp tmp/test_features.csv {s3_feature_path}"
   ]
  },
  {
   "cell_type": "code",
   "execution_count": 62,
   "metadata": {},
   "outputs": [],
   "source": [
    "from sagemaker.clarify import ModelConfig\n",
    "\n",
    "model_config = ModelConfig(\n",
    "    model_name=model_name,\n",
    "    instance_type='ml.c5.xlarge',\n",
    "    instance_count=1,\n",
    "    accept_type='text/csv'\n",
    ")"
   ]
  },
  {
   "cell_type": "code",
   "execution_count": 63,
   "metadata": {},
   "outputs": [],
   "source": [
    "from sagemaker.clarify import SageMakerClarifyProcessor\n",
    "\n",
    "processor = SageMakerClarifyProcessor(\n",
    "    role=role,\n",
    "    instance_count=1,\n",
    "    instance_type='ml.m5.large',\n",
    "    sagemaker_session=session\n",
    ")"
   ]
  },
  {
   "cell_type": "code",
   "execution_count": 64,
   "metadata": {},
   "outputs": [
    {
     "data": {
      "text/plain": [
       "[[-10.488853298702775, 0.6328000699807923, -79.0, 5.0]]"
      ]
     },
     "execution_count": 64,
     "metadata": {},
     "output_type": "execute_result"
    }
   ],
   "source": [
    "baseline = [features.iloc[0].values.tolist()]\n",
    "baseline"
   ]
  },
  {
   "cell_type": "code",
   "execution_count": 65,
   "metadata": {},
   "outputs": [],
   "source": [
    "from sagemaker.clarify import SHAPConfig\n",
    "\n",
    "shap_config = SHAPConfig(\n",
    "    baseline=baseline,\n",
    "    num_samples=30,\n",
    "    agg_method='median'\n",
    ")"
   ]
  },
  {
   "cell_type": "code",
   "execution_count": 66,
   "metadata": {},
   "outputs": [],
   "source": [
    "headers = training_data.columns.to_list()"
   ]
  },
  {
   "cell_type": "code",
   "execution_count": 67,
   "metadata": {},
   "outputs": [],
   "source": [
    "from sagemaker.clarify import DataConfig\n",
    "\n",
    "data_config = DataConfig(\n",
    "    s3_data_input_path=s3_training_data_path,\n",
    "    s3_output_path=s3_output_path,\n",
    "    label='label',\n",
    "    headers=headers,\n",
    "    dataset_type='text/csv'\n",
    ")"
   ]
  },
  {
   "cell_type": "code",
   "execution_count": 68,
   "metadata": {
    "scrolled": true
   },
   "outputs": [
    {
     "name": "stdout",
     "output_type": "stream",
     "text": [
      "\n",
      "Job Name:  Clarify-Explainability-2021-05-24-14-53-00-659\n",
      "Inputs:  [{'InputName': 'dataset', 'AppManaged': False, 'S3Input': {'S3Uri': 's3://sagemaker-cookbook-bucket/chapter07/input/training_data.csv', 'LocalPath': '/opt/ml/processing/input/data', 'S3DataType': 'S3Prefix', 'S3InputMode': 'File', 'S3DataDistributionType': 'FullyReplicated', 'S3CompressionType': 'None'}}, {'InputName': 'analysis_config', 'AppManaged': False, 'S3Input': {'S3Uri': 's3://sagemaker-cookbook-bucket/chapter07/output/analysis_config.json', 'LocalPath': '/opt/ml/processing/input/config', 'S3DataType': 'S3Prefix', 'S3InputMode': 'File', 'S3DataDistributionType': 'FullyReplicated', 'S3CompressionType': 'None'}}]\n",
      "Outputs:  [{'OutputName': 'analysis_result', 'AppManaged': False, 'S3Output': {'S3Uri': 's3://sagemaker-cookbook-bucket/chapter07/output', 'LocalPath': '/opt/ml/processing/output', 'S3UploadMode': 'EndOfJob'}}]\n",
      "................................\u001b[34mINFO:sagemaker-clarify-processing:Starting SageMaker Clarify Processing job\u001b[0m\n",
      "\u001b[34mINFO:analyzer.data_loading.data_loader_util:Analysis config path: /opt/ml/processing/input/config\u001b[0m\n",
      "\u001b[34mINFO:analyzer.data_loading.data_loader_util:Analysis result path: /opt/ml/processing/output\u001b[0m\n",
      "\u001b[34mINFO:analyzer.data_loading.data_loader_util:This host is algo-1.\u001b[0m\n",
      "\u001b[34mINFO:analyzer.data_loading.data_loader_util:This host is the leader.\u001b[0m\n",
      "\u001b[34mINFO:analyzer.data_loading.data_loader_util:Number of hosts in the cluster is 1.\u001b[0m\n",
      "\u001b[34mINFO:sagemaker-clarify-processing:Running Python / Pandas based analyzer.\u001b[0m\n",
      "\u001b[34mINFO:analyzer.data_loading.data_loader_util:Dataset uri: /opt/ml/processing/input/data\u001b[0m\n",
      "\u001b[34mINFO:analyzer.data_loading.data_loader_util:Dataset type: text/csv\u001b[0m\n",
      "\u001b[34mINFO:analyzer.predictor:Spinning up shadow endpoint\u001b[0m\n",
      "\u001b[34mINFO:sagemaker:Creating endpoint-config with name sagemaker-clarify-endpoint-config-1621868294-0617\u001b[0m\n",
      "\u001b[34mINFO:analyzer.predictor:Creating endpoint sagemaker-clarify-endpoint-1621868294-4365\u001b[0m\n",
      "\u001b[34mINFO:explainers.shap.kernel_shap:SHAP n_samples 14\u001b[0m\n",
      "\u001b[34mINFO:analyzer.predictor:Checking endpoint status\u001b[0m\n",
      "\u001b[34mINFO:analyzer.predictor:Endpoint is in service after 421 seconds\u001b[0m\n",
      "\u001b[34mINFO:analyzer.shap_analyzer:=====================================================\u001b[0m\n",
      "\u001b[34mINFO:analyzer.shap_analyzer:Shap analyzer: explaining 3000 rows, 4 columns...\u001b[0m\n",
      "\u001b[34mINFO:analyzer.shap_analyzer:=====================================================\u001b[0m\n",
      "\u001b[34mINFO:analyzer.predictor:Prediction batch size is initialized with 128397\u001b[0m\n",
      "\u001b[34mN/A% (0 of 3000) |                       | Elapsed Time: 0:00:00 ETA:  --:--:--\u001b[0m\n",
      "\u001b[34m100% (3000 of 3000) |####################| Elapsed Time: 0:00:24 Time:  0:00:24\u001b[0m\n",
      "\u001b[34mINFO:analyzer.shap_analyzer:getting explanations took 24.56 seconds.\u001b[0m\n",
      "\u001b[34mINFO:analyzer.shap_analyzer:===================================================\u001b[0m\n",
      "\u001b[34mINFO:analyzer.shap_analyzer:converting explanations to tabular took 0.17 seconds.\u001b[0m\n",
      "\u001b[34mINFO:analyzer.shap_analyzer:===================================================\u001b[0m\n",
      "\u001b[34mINFO:analyzer.shap_analyzer:Wrote 3000 local explanations to: /opt/ml/processing/output/explanations_shap/out.csv, baseline used compute them to: /opt/ml/processing/output/explanations_shap/baseline.csv\u001b[0m\n",
      "\u001b[34mINFO:analyzer.shap_analyzer:writing local explanations took 0.02 seconds.\u001b[0m\n",
      "\u001b[34mINFO:analyzer.shap_analyzer:===================================================\u001b[0m\n",
      "\u001b[34mINFO:analyzer.shap_analyzer:aggregating local explanations took 0.00 seconds.\u001b[0m\n",
      "\u001b[34mINFO:analyzer.shap_analyzer:===================================================\u001b[0m\n",
      "\u001b[34mINFO:analyzer.shap_analyzer:Shap analysis finished.\u001b[0m\n",
      "\u001b[34mINFO:analyzer.predictor:Stop using endpoint: sagemaker-clarify-endpoint-1621868294-4365\u001b[0m\n",
      "\u001b[34mINFO:sagemaker:Deleting endpoint configuration with name: sagemaker-clarify-endpoint-config-1621868294-0617\u001b[0m\n",
      "\u001b[34mINFO:sagemaker:Deleting endpoint with name: sagemaker-clarify-endpoint-1621868294-4365\u001b[0m\n",
      "\u001b[34mINFO:analyzer.predictor:Model endpoint delivered 120.58653 requests per second and a total of 3001 requests over 25 seconds\u001b[0m\n",
      "\u001b[34mINFO:analyzer.predictor:Delivered 3001 predict calls with a total of 45001 examples.\u001b[0m\n",
      "\u001b[34m[NbConvertApp] Converting notebook /opt/ml/processing/output/report.ipynb to html\u001b[0m\n",
      "\u001b[34m[NbConvertApp] Writing 286525 bytes to /opt/ml/processing/output/report.html\u001b[0m\n",
      "\u001b[34mINFO:analyzer.report:HTML report '/opt/ml/processing/output/report.html' generated successfully.\u001b[0m\n",
      "\u001b[34mINFO:analyzer.report:PDF report '/opt/ml/processing/output/report.pdf' generated successfully.\u001b[0m\n",
      "\u001b[34mINFO:sagemaker-clarify-processing:Collected analyses: \u001b[0m\n",
      "\u001b[34m{\n",
      "    \"version\": \"1.0\",\n",
      "    \"explanations\": {\n",
      "        \"kernel_shap\": {\n",
      "            \"label0\": {\n",
      "                \"global_shap_values\": {\n",
      "                    \"a\": -0.23615066885249675,\n",
      "                    \"b\": 0.23931414559483516,\n",
      "                    \"c\": -0.16817792626097805,\n",
      "                    \"d\": -0.0255478889434015\n",
      "                },\n",
      "                \"expected_value\": 0.8622586131095886\n",
      "            }\n",
      "        }\n",
      "    }\u001b[0m\n",
      "\u001b[34m}\u001b[0m\n",
      "\u001b[34mINFO:analyzer.system_util:exit_message: Completed: SageMaker XAI Analyzer ran successfully\u001b[0m\n",
      "\u001b[34m-------!\u001b[0m\n",
      "\n",
      "CPU times: user 1.61 s, sys: 79.1 ms, total: 1.69 s\n",
      "Wall time: 13min 20s\n"
     ]
    }
   ],
   "source": [
    "%%time\n",
    "\n",
    "processor.run_explainability(\n",
    "    data_config=data_config,       \n",
    "    model_config=model_config,                                 \n",
    "    explainability_config=shap_config\n",
    ")"
   ]
  },
  {
   "cell_type": "code",
   "execution_count": 69,
   "metadata": {},
   "outputs": [
    {
     "data": {
      "text/plain": [
       "'s3://sagemaker-cookbook-bucket/chapter07/output'"
      ]
     },
     "execution_count": 69,
     "metadata": {},
     "output_type": "execute_result"
    }
   ],
   "source": [
    "output = processor.latest_job.outputs[0]\n",
    "output_destination = output.destination\n",
    "output_destination"
   ]
  },
  {
   "cell_type": "code",
   "execution_count": 70,
   "metadata": {},
   "outputs": [
    {
     "name": "stdout",
     "output_type": "stream",
     "text": [
      "download: s3://sagemaker-cookbook-bucket/chapter07/output/analysis_config.json to tmp/analysis_config.json\n",
      "download: s3://sagemaker-cookbook-bucket/chapter07/output/analysis.json to tmp/analysis.json\n",
      "download: s3://sagemaker-cookbook-bucket/chapter07/output/explanations_shap/baseline.csv to tmp/explanations_shap/baseline.csv\n",
      "download: s3://sagemaker-cookbook-bucket/chapter07/output/report.ipynb to tmp/report.ipynb\n",
      "download: s3://sagemaker-cookbook-bucket/chapter07/output/explanations_shap/out.csv to tmp/explanations_shap/out.csv\n",
      "download: s3://sagemaker-cookbook-bucket/chapter07/output/report.html to tmp/report.html\n",
      "download: s3://sagemaker-cookbook-bucket/chapter07/output/report.pdf to tmp/report.pdf\n"
     ]
    }
   ],
   "source": [
    "!aws s3 cp {output_destination}/ tmp/ --recursive"
   ]
  },
  {
   "cell_type": "code",
   "execution_count": 71,
   "metadata": {},
   "outputs": [
    {
     "name": "stdout",
     "output_type": "stream",
     "text": [
      "total 876K\n",
      "drwxr-xr-x 3 root root 6.0K May 24 15:06 ./\n",
      "drwxr-xr-x 4 root root 6.0K May 24 15:04 ../\n",
      "-rw-r--r-- 1 root root  423 May 24 15:05 analysis.json\n",
      "-rw-r--r-- 1 root root  466 May 24 14:53 analysis_config.json\n",
      "drwxr-xr-x 2 root root 6.0K May 24 15:06 explanations_shap/\n",
      "-rw-r--r-- 1 root root 280K May 24 15:05 report.html\n",
      "-rw-r--r-- 1 root root  14K May 24 15:05 report.ipynb\n",
      "-rw-r--r-- 1 root root  37K May 24 15:05 report.pdf\n",
      "-rw-r--r-- 1 root root  46K May 24 13:26 test_data.csv\n",
      "-rw-r--r-- 1 root root  46K May 24 13:26 test_data_no_header.csv\n",
      "-rw-r--r-- 1 root root  45K May 24 14:52 test_features.csv\n",
      "-rw-r--r-- 1 root root 139K May 24 13:26 training_data.csv\n",
      "-rw-r--r-- 1 root root 139K May 24 13:26 training_data_no_header.csv\n",
      "-rw-r--r-- 1 root root  47K May 24 13:26 validation_data.csv\n",
      "-rw-r--r-- 1 root root  47K May 24 13:26 validation_data_no_header.csv\n"
     ]
    }
   ],
   "source": [
    "!ls -lahF tmp/"
   ]
  },
  {
   "cell_type": "code",
   "execution_count": 72,
   "metadata": {},
   "outputs": [
    {
     "name": "stdout",
     "output_type": "stream",
     "text": [
      "{\n",
      "    \"version\": \"1.0\",\n",
      "    \"explanations\": {\n",
      "        \"kernel_shap\": {\n",
      "            \"label0\": {\n",
      "                \"global_shap_values\": {\n",
      "                    \"a\": -0.23615066885249675,\n",
      "                    \"b\": 0.23931414559483516,\n",
      "                    \"c\": -0.16817792626097805,\n",
      "                    \"d\": -0.0255478889434015\n",
      "                },\n",
      "                \"expected_value\": 0.8622586131095886\n",
      "            }\n",
      "        }\n",
      "    }\n",
      "}"
     ]
    }
   ],
   "source": [
    "!cat tmp/analysis.json"
   ]
  }
 ],
 "metadata": {
  "instance_type": "ml.t3.medium",
  "kernelspec": {
   "display_name": "Python 3 (Data Science)",
   "language": "python",
   "name": "python3__SAGEMAKER_INTERNAL__arn:aws:sagemaker:us-east-1:081325390199:image/datascience-1.0"
  },
  "language_info": {
   "codemirror_mode": {
    "name": "ipython",
    "version": 3
   },
   "file_extension": ".py",
   "mimetype": "text/x-python",
   "name": "python",
   "nbconvert_exporter": "python",
   "pygments_lexer": "ipython3",
   "version": "3.7.10"
  }
 },
 "nbformat": 4,
 "nbformat_minor": 5
}
