{
 "cells": [
  {
   "cell_type": "markdown",
   "metadata": {},
   "source": [
    "# Querying data from the offline store of SageMaker Feature Store and uploading it to Amazon S3"
   ]
  },
  {
   "cell_type": "markdown",
   "metadata": {},
   "source": [
    "<img align=\"left\" width=\"130\" src=\"https://raw.githubusercontent.com/PacktPublishing/Amazon-SageMaker-Cookbook/master/Extra/cover-small-padded.png\"/>\n",
    "\n",
    "This notebook contains the code to help readers work through one of the recipes of the book [Machine Learning with Amazon SageMaker Cookbook: 80 proven recipes for data scientists and developers to perform ML experiments and deployments](https://www.amazon.com/Machine-Learning-Amazon-SageMaker-Cookbook/dp/1800567030)"
   ]
  },
  {
   "cell_type": "markdown",
   "metadata": {},
   "source": [
    "### How to do it..."
   ]
  },
  {
   "cell_type": "code",
   "execution_count": null,
   "metadata": {},
   "outputs": [],
   "source": [
    "import boto3\n",
    "import sagemaker\n",
    "\n",
    "from sagemaker.session import Session\n",
    "from sagemaker.feature_store.feature_group import FeatureGroup"
   ]
  },
  {
   "cell_type": "code",
   "execution_count": null,
   "metadata": {},
   "outputs": [],
   "source": [
    "region = boto3.Session().region_name\n",
    "session = boto3.Session(region_name=region)\n",
    "\n",
    "client = session.client(\n",
    "    service_name='sagemaker', \n",
    "    region_name=region\n",
    ")\n",
    "runtime = session.client(\n",
    "    service_name='sagemaker-featurestore-runtime', \n",
    "    region_name=region\n",
    ")\n",
    "\n",
    "feature_store_session = Session(\n",
    "    boto_session=session,\n",
    "    sagemaker_client=client,\n",
    "    sagemaker_featurestore_runtime_client=runtime\n",
    ")"
   ]
  },
  {
   "cell_type": "code",
   "execution_count": null,
   "metadata": {},
   "outputs": [],
   "source": [
    "%store -r feature_group_name\n",
    "\n",
    "feature_group = FeatureGroup(\n",
    "    name=feature_group_name, \n",
    "    sagemaker_session=feature_store_session\n",
    ")"
   ]
  },
  {
   "cell_type": "code",
   "execution_count": null,
   "metadata": {},
   "outputs": [],
   "source": [
    "feature_group.describe()"
   ]
  },
  {
   "cell_type": "code",
   "execution_count": null,
   "metadata": {},
   "outputs": [],
   "source": [
    "table = feature_group.athena_query().table_name\n",
    "table"
   ]
  },
  {
   "cell_type": "code",
   "execution_count": null,
   "metadata": {},
   "outputs": [],
   "source": [
    "describe_response = feature_group.describe()\n",
    "offline_config = describe_response['OfflineStoreConfig']\n",
    "s3_uri = offline_config['S3StorageConfig']['S3Uri']\n",
    "s3_uri"
   ]
  },
  {
   "cell_type": "code",
   "execution_count": null,
   "metadata": {
    "scrolled": true
   },
   "outputs": [],
   "source": [
    "!aws s3 ls {s3_uri} --recursive"
   ]
  },
  {
   "cell_type": "code",
   "execution_count": null,
   "metadata": {},
   "outputs": [],
   "source": [
    "%store -r s3_bucket_name\n",
    "%store -r prefix"
   ]
  },
  {
   "cell_type": "code",
   "execution_count": null,
   "metadata": {},
   "outputs": [],
   "source": [
    "base = f's3://{s3_bucket_name}/{prefix}'\n",
    "output_location = f'{base}/query_results/'\n",
    "\n",
    "print(output_location)"
   ]
  },
  {
   "cell_type": "code",
   "execution_count": null,
   "metadata": {},
   "outputs": [],
   "source": [
    "def query_data(query_string):\n",
    "    print(f\"QUERY: {query_string}\\n\")\n",
    "    query = feature_group.athena_query()\n",
    "    query.run(query_string=query_string, \n",
    "              output_location=output_location)\n",
    "    \n",
    "    query.wait()\n",
    "    \n",
    "    return query.as_dataframe()"
   ]
  },
  {
   "cell_type": "code",
   "execution_count": null,
   "metadata": {},
   "outputs": [],
   "source": [
    "from time import sleep\n",
    "\n",
    "# wait for 5 minutes for the offline store to be ready\n",
    "sleep(5 * 60)"
   ]
  },
  {
   "cell_type": "code",
   "execution_count": null,
   "metadata": {},
   "outputs": [],
   "source": [
    "query = f\"\"\"SELECT approved, sex, math, science, technology, random1, random2 FROM \"{table}\" ORDER BY index ASC LIMIT 600\"\"\"\n",
    "\n",
    "training_df = query_data(query)\n",
    "training_df"
   ]
  },
  {
   "cell_type": "code",
   "execution_count": null,
   "metadata": {},
   "outputs": [],
   "source": [
    "query = f\"\"\"SELECT approved, sex, math, science, technology, random1, random2 FROM \"{table}\" WHERE index > 600 ORDER BY index ASC LIMIT 200\"\"\"\n",
    "\n",
    "validation_df = query_data(query)\n",
    "validation_df"
   ]
  },
  {
   "cell_type": "code",
   "execution_count": null,
   "metadata": {},
   "outputs": [],
   "source": [
    "query = f\"\"\"SELECT approved, sex, math, science, technology, random1, random2 FROM \"{table}\" WHERE index > 800 ORDER BY index ASC LIMIT 200 \"\"\"\n",
    "\n",
    "test_df = query_data(query)\n",
    "test_df"
   ]
  },
  {
   "cell_type": "code",
   "execution_count": null,
   "metadata": {},
   "outputs": [],
   "source": [
    "!mkdir -p tmp"
   ]
  },
  {
   "cell_type": "code",
   "execution_count": null,
   "metadata": {},
   "outputs": [],
   "source": [
    "training_df.to_csv('tmp/training_data.csv', \n",
    "                   header=True, \n",
    "                   index=False)\n",
    "validation_df.to_csv('tmp/validation_data.csv', \n",
    "                     header=True, \n",
    "                     index=False)\n",
    "test_df.to_csv('tmp/test_data.csv', \n",
    "               header=True, \n",
    "               index=False)"
   ]
  },
  {
   "cell_type": "code",
   "execution_count": null,
   "metadata": {},
   "outputs": [],
   "source": [
    "path = f\"s3://{s3_bucket_name}/{prefix}\"\n",
    "training_data_path = f\"{path}/input/training_data.csv\"\n",
    "validation_data_path = f\"{path}/input/validation_data.csv\"\n",
    "test_data_path = f\"{path}/input/test_data.csv\""
   ]
  },
  {
   "cell_type": "code",
   "execution_count": null,
   "metadata": {},
   "outputs": [],
   "source": [
    "!aws s3 cp tmp/training_data.csv {training_data_path}\n",
    "!aws s3 cp tmp/validation_data.csv {validation_data_path}\n",
    "!aws s3 cp tmp/test_data.csv {test_data_path}"
   ]
  },
  {
   "cell_type": "code",
   "execution_count": null,
   "metadata": {},
   "outputs": [],
   "source": [
    "training_df.to_csv('tmp/training_data_no_header.csv', \n",
    "                   header=False, \n",
    "                   index=False)\n",
    "validation_df.to_csv('tmp/validation_data_no_header.csv', \n",
    "                     header=False, \n",
    "                     index=False)\n",
    "test_df.to_csv('tmp/test_data_no_header.csv', \n",
    "               header=False, \n",
    "               index=False)"
   ]
  },
  {
   "cell_type": "code",
   "execution_count": null,
   "metadata": {},
   "outputs": [],
   "source": [
    "training_data_path_nh = f\"{path}/input/training_data_no_header.csv\"\n",
    "validation_data_path_nh = f\"{path}/input/validation_data_no_header.csv\"\n",
    "test_data_path_nh = f\"{path}/input/test_data_no_header.csv\""
   ]
  },
  {
   "cell_type": "code",
   "execution_count": null,
   "metadata": {},
   "outputs": [],
   "source": [
    "!aws s3 cp tmp/training_data_no_header.csv {training_data_path_nh}\n",
    "!aws s3 cp tmp/validation_data_no_header.csv {validation_data_path_nh}\n",
    "!aws s3 cp tmp/test_data_no_header.csv {test_data_path_nh}"
   ]
  },
  {
   "cell_type": "code",
   "execution_count": null,
   "metadata": {},
   "outputs": [],
   "source": [
    "%store training_data_path\n",
    "%store validation_data_path\n",
    "%store test_data_path\n",
    "%store training_data_path_nh\n",
    "%store validation_data_path_nh\n",
    "%store test_data_path_nh"
   ]
  }
 ],
 "metadata": {
  "instance_type": "ml.t3.medium",
  "kernelspec": {
   "display_name": "Python 3 (Data Science)",
   "language": "python",
   "name": "python3__SAGEMAKER_INTERNAL__arn:aws:sagemaker:us-east-1:081325390199:image/datascience-1.0"
  },
  "language_info": {
   "codemirror_mode": {
    "name": "ipython",
    "version": 3
   },
   "file_extension": ".py",
   "mimetype": "text/x-python",
   "name": "python",
   "nbconvert_exporter": "python",
   "pygments_lexer": "ipython3",
   "version": "3.7.10"
  }
 },
 "nbformat": 4,
 "nbformat_minor": 5
}
