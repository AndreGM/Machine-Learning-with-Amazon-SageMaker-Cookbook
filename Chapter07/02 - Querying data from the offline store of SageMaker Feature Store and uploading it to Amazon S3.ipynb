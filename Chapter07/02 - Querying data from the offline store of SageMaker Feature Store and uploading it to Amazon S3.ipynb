{
 "cells": [
  {
   "cell_type": "code",
   "execution_count": 34,
   "metadata": {},
   "outputs": [],
   "source": [
    "import boto3\n",
    "import sagemaker\n",
    "\n",
    "from sagemaker.session import Session\n",
    "from sagemaker.feature_store.feature_group import FeatureGroup"
   ]
  },
  {
   "cell_type": "code",
   "execution_count": 35,
   "metadata": {},
   "outputs": [],
   "source": [
    "region = boto3.Session().region_name\n",
    "session = boto3.Session(region_name=region)\n",
    "\n",
    "client = session.client(\n",
    "    service_name='sagemaker', \n",
    "    region_name=region\n",
    ")\n",
    "runtime = session.client(\n",
    "    service_name='sagemaker-featurestore-runtime', \n",
    "    region_name=region\n",
    ")\n",
    "\n",
    "feature_store_session = Session(\n",
    "    boto_session=session,\n",
    "    sagemaker_client=client,\n",
    "    sagemaker_featurestore_runtime_client=runtime\n",
    ")"
   ]
  },
  {
   "cell_type": "code",
   "execution_count": 36,
   "metadata": {},
   "outputs": [],
   "source": [
    "%store -r feature_group_name\n",
    "\n",
    "feature_group = FeatureGroup(\n",
    "    name=feature_group_name, \n",
    "    sagemaker_session=feature_store_session\n",
    ")"
   ]
  },
  {
   "cell_type": "code",
   "execution_count": 37,
   "metadata": {
    "scrolled": true
   },
   "outputs": [
    {
     "data": {
      "text/plain": [
       "{'FeatureGroupArn': 'arn:aws:sagemaker:us-east-1:581320662326:feature-group/cookbook-feature-group',\n",
       " 'FeatureGroupName': 'cookbook-feature-group',\n",
       " 'RecordIdentifierFeatureName': 'index',\n",
       " 'EventTimeFeatureName': 'event_time',\n",
       " 'FeatureDefinitions': [{'FeatureName': 'label', 'FeatureType': 'Integral'},\n",
       "  {'FeatureName': 'a', 'FeatureType': 'Fractional'},\n",
       "  {'FeatureName': 'b', 'FeatureType': 'Fractional'},\n",
       "  {'FeatureName': 'c', 'FeatureType': 'Integral'},\n",
       "  {'FeatureName': 'd', 'FeatureType': 'Integral'},\n",
       "  {'FeatureName': 'index', 'FeatureType': 'Integral'},\n",
       "  {'FeatureName': 'event_time', 'FeatureType': 'Fractional'}],\n",
       " 'CreationTime': datetime.datetime(2021, 5, 24, 13, 18, 9, 536000, tzinfo=tzlocal()),\n",
       " 'OnlineStoreConfig': {'EnableOnlineStore': True},\n",
       " 'OfflineStoreConfig': {'S3StorageConfig': {'S3Uri': 's3://sagemaker-cookbook-bucket/chapter07/input',\n",
       "   'ResolvedOutputS3Uri': 's3://sagemaker-cookbook-bucket/chapter07/input/581320662326/sagemaker/us-east-1/offline-store/cookbook-feature-group-1621862289/data'},\n",
       "  'DisableGlueTableCreation': False,\n",
       "  'DataCatalogConfig': {'TableName': 'cookbook-feature-group-1621862289',\n",
       "   'Catalog': 'AwsDataCatalog',\n",
       "   'Database': 'sagemaker_featurestore'}},\n",
       " 'RoleArn': 'arn:aws:iam::581320662326:role/SuperAdminRole',\n",
       " 'FeatureGroupStatus': 'Created',\n",
       " 'OfflineStoreStatus': {'Status': 'Active'},\n",
       " 'ResponseMetadata': {'RequestId': 'eb67f7f1-3b45-487a-a691-c6dc1b8f1e25',\n",
       "  'HTTPStatusCode': 200,\n",
       "  'HTTPHeaders': {'x-amzn-requestid': 'eb67f7f1-3b45-487a-a691-c6dc1b8f1e25',\n",
       "   'content-type': 'application/x-amz-json-1.1',\n",
       "   'content-length': '1535',\n",
       "   'date': 'Mon, 24 May 2021 13:26:08 GMT'},\n",
       "  'RetryAttempts': 0}}"
      ]
     },
     "execution_count": 37,
     "metadata": {},
     "output_type": "execute_result"
    }
   ],
   "source": [
    "feature_group.describe()"
   ]
  },
  {
   "cell_type": "code",
   "execution_count": 38,
   "metadata": {},
   "outputs": [
    {
     "data": {
      "text/plain": [
       "'cookbook-feature-group-1621862289'"
      ]
     },
     "execution_count": 38,
     "metadata": {},
     "output_type": "execute_result"
    }
   ],
   "source": [
    "table = feature_group.athena_query().table_name\n",
    "table"
   ]
  },
  {
   "cell_type": "code",
   "execution_count": 39,
   "metadata": {},
   "outputs": [
    {
     "data": {
      "text/plain": [
       "'s3://sagemaker-cookbook-bucket/chapter07/input'"
      ]
     },
     "execution_count": 39,
     "metadata": {},
     "output_type": "execute_result"
    }
   ],
   "source": [
    "describe_response = feature_group.describe()\n",
    "offline_config = describe_response['OfflineStoreConfig']\n",
    "s3_uri = offline_config['S3StorageConfig']['S3Uri']\n",
    "s3_uri"
   ]
  },
  {
   "cell_type": "code",
   "execution_count": 40,
   "metadata": {},
   "outputs": [],
   "source": [
    "%store -r s3_bucket_name\n",
    "%store -r prefix"
   ]
  },
  {
   "cell_type": "code",
   "execution_count": 41,
   "metadata": {},
   "outputs": [
    {
     "name": "stdout",
     "output_type": "stream",
     "text": [
      "s3://sagemaker-cookbook-bucket/chapter07/query_results/\n"
     ]
    }
   ],
   "source": [
    "base = f's3://{s3_bucket_name}/{prefix}'\n",
    "output_location = f'{base}/query_results/'\n",
    "\n",
    "print(output_location)"
   ]
  },
  {
   "cell_type": "code",
   "execution_count": 42,
   "metadata": {},
   "outputs": [],
   "source": [
    "def query_data(query_string):\n",
    "    print(f\"QUERY: {query_string}\\n\")\n",
    "    query = feature_group.athena_query()\n",
    "    query.run(query_string=query_string, \n",
    "              output_location=output_location)\n",
    "    \n",
    "    query.wait()\n",
    "    \n",
    "    return query.as_dataframe()"
   ]
  },
  {
   "cell_type": "code",
   "execution_count": 43,
   "metadata": {},
   "outputs": [
    {
     "name": "stdout",
     "output_type": "stream",
     "text": [
      "QUERY: SELECT label, a, b, c, d FROM \"cookbook-feature-group-1621862289\" ORDER BY index ASC LIMIT 3000\n",
      "\n"
     ]
    },
    {
     "data": {
      "text/html": [
       "<div>\n",
       "<style scoped>\n",
       "    .dataframe tbody tr th:only-of-type {\n",
       "        vertical-align: middle;\n",
       "    }\n",
       "\n",
       "    .dataframe tbody tr th {\n",
       "        vertical-align: top;\n",
       "    }\n",
       "\n",
       "    .dataframe thead th {\n",
       "        text-align: right;\n",
       "    }\n",
       "</style>\n",
       "<table border=\"1\" class=\"dataframe\">\n",
       "  <thead>\n",
       "    <tr style=\"text-align: right;\">\n",
       "      <th></th>\n",
       "      <th>label</th>\n",
       "      <th>a</th>\n",
       "      <th>b</th>\n",
       "      <th>c</th>\n",
       "      <th>d</th>\n",
       "    </tr>\n",
       "  </thead>\n",
       "  <tbody>\n",
       "    <tr>\n",
       "      <th>0</th>\n",
       "      <td>1</td>\n",
       "      <td>-8.837413</td>\n",
       "      <td>-6.551265</td>\n",
       "      <td>23</td>\n",
       "      <td>-75</td>\n",
       "    </tr>\n",
       "    <tr>\n",
       "      <th>1</th>\n",
       "      <td>1</td>\n",
       "      <td>-9.216749</td>\n",
       "      <td>-2.483494</td>\n",
       "      <td>2</td>\n",
       "      <td>-51</td>\n",
       "    </tr>\n",
       "    <tr>\n",
       "      <th>2</th>\n",
       "      <td>1</td>\n",
       "      <td>-2.017317</td>\n",
       "      <td>-6.326533</td>\n",
       "      <td>91</td>\n",
       "      <td>34</td>\n",
       "    </tr>\n",
       "    <tr>\n",
       "      <th>3</th>\n",
       "      <td>1</td>\n",
       "      <td>-10.748736</td>\n",
       "      <td>-4.622519</td>\n",
       "      <td>8</td>\n",
       "      <td>-78</td>\n",
       "    </tr>\n",
       "    <tr>\n",
       "      <th>4</th>\n",
       "      <td>0</td>\n",
       "      <td>-3.675848</td>\n",
       "      <td>12.629029</td>\n",
       "      <td>47</td>\n",
       "      <td>32</td>\n",
       "    </tr>\n",
       "    <tr>\n",
       "      <th>...</th>\n",
       "      <td>...</td>\n",
       "      <td>...</td>\n",
       "      <td>...</td>\n",
       "      <td>...</td>\n",
       "      <td>...</td>\n",
       "    </tr>\n",
       "    <tr>\n",
       "      <th>2995</th>\n",
       "      <td>0</td>\n",
       "      <td>-5.786462</td>\n",
       "      <td>-6.790668</td>\n",
       "      <td>-65</td>\n",
       "      <td>70</td>\n",
       "    </tr>\n",
       "    <tr>\n",
       "      <th>2996</th>\n",
       "      <td>1</td>\n",
       "      <td>-2.552410</td>\n",
       "      <td>-1.793217</td>\n",
       "      <td>42</td>\n",
       "      <td>4</td>\n",
       "    </tr>\n",
       "    <tr>\n",
       "      <th>2997</th>\n",
       "      <td>0</td>\n",
       "      <td>-10.692197</td>\n",
       "      <td>1.583437</td>\n",
       "      <td>-90</td>\n",
       "      <td>-62</td>\n",
       "    </tr>\n",
       "    <tr>\n",
       "      <th>2998</th>\n",
       "      <td>1</td>\n",
       "      <td>-14.109003</td>\n",
       "      <td>-4.745680</td>\n",
       "      <td>37</td>\n",
       "      <td>64</td>\n",
       "    </tr>\n",
       "    <tr>\n",
       "      <th>2999</th>\n",
       "      <td>1</td>\n",
       "      <td>-8.801795</td>\n",
       "      <td>-5.552834</td>\n",
       "      <td>26</td>\n",
       "      <td>19</td>\n",
       "    </tr>\n",
       "  </tbody>\n",
       "</table>\n",
       "<p>3000 rows × 5 columns</p>\n",
       "</div>"
      ],
      "text/plain": [
       "      label          a          b   c   d\n",
       "0         1  -8.837413  -6.551265  23 -75\n",
       "1         1  -9.216749  -2.483494   2 -51\n",
       "2         1  -2.017317  -6.326533  91  34\n",
       "3         1 -10.748736  -4.622519   8 -78\n",
       "4         0  -3.675848  12.629029  47  32\n",
       "...     ...        ...        ...  ..  ..\n",
       "2995      0  -5.786462  -6.790668 -65  70\n",
       "2996      1  -2.552410  -1.793217  42   4\n",
       "2997      0 -10.692197   1.583437 -90 -62\n",
       "2998      1 -14.109003  -4.745680  37  64\n",
       "2999      1  -8.801795  -5.552834  26  19\n",
       "\n",
       "[3000 rows x 5 columns]"
      ]
     },
     "execution_count": 43,
     "metadata": {},
     "output_type": "execute_result"
    }
   ],
   "source": [
    "query = f\"\"\"SELECT label, a, b, c, d FROM \"{table}\" ORDER BY index ASC LIMIT 3000\"\"\"\n",
    "\n",
    "training_df = query_data(query)\n",
    "training_df"
   ]
  },
  {
   "cell_type": "code",
   "execution_count": 44,
   "metadata": {},
   "outputs": [
    {
     "name": "stdout",
     "output_type": "stream",
     "text": [
      "QUERY: SELECT label, a, b, c, d FROM \"cookbook-feature-group-1621862289\" WHERE index > 3000 ORDER BY index ASC LIMIT 1000\n",
      "\n"
     ]
    },
    {
     "data": {
      "text/html": [
       "<div>\n",
       "<style scoped>\n",
       "    .dataframe tbody tr th:only-of-type {\n",
       "        vertical-align: middle;\n",
       "    }\n",
       "\n",
       "    .dataframe tbody tr th {\n",
       "        vertical-align: top;\n",
       "    }\n",
       "\n",
       "    .dataframe thead th {\n",
       "        text-align: right;\n",
       "    }\n",
       "</style>\n",
       "<table border=\"1\" class=\"dataframe\">\n",
       "  <thead>\n",
       "    <tr style=\"text-align: right;\">\n",
       "      <th></th>\n",
       "      <th>label</th>\n",
       "      <th>a</th>\n",
       "      <th>b</th>\n",
       "      <th>c</th>\n",
       "      <th>d</th>\n",
       "    </tr>\n",
       "  </thead>\n",
       "  <tbody>\n",
       "    <tr>\n",
       "      <th>0</th>\n",
       "      <td>0</td>\n",
       "      <td>-7.328588</td>\n",
       "      <td>-3.077598</td>\n",
       "      <td>54</td>\n",
       "      <td>-9</td>\n",
       "    </tr>\n",
       "    <tr>\n",
       "      <th>1</th>\n",
       "      <td>1</td>\n",
       "      <td>-10.128341</td>\n",
       "      <td>-3.126609</td>\n",
       "      <td>-96</td>\n",
       "      <td>81</td>\n",
       "    </tr>\n",
       "    <tr>\n",
       "      <th>2</th>\n",
       "      <td>1</td>\n",
       "      <td>-7.863698</td>\n",
       "      <td>-8.622445</td>\n",
       "      <td>96</td>\n",
       "      <td>-71</td>\n",
       "    </tr>\n",
       "    <tr>\n",
       "      <th>3</th>\n",
       "      <td>1</td>\n",
       "      <td>-5.904219</td>\n",
       "      <td>-3.370329</td>\n",
       "      <td>15</td>\n",
       "      <td>-56</td>\n",
       "    </tr>\n",
       "    <tr>\n",
       "      <th>4</th>\n",
       "      <td>0</td>\n",
       "      <td>-3.451493</td>\n",
       "      <td>-2.471520</td>\n",
       "      <td>-10</td>\n",
       "      <td>-66</td>\n",
       "    </tr>\n",
       "    <tr>\n",
       "      <th>...</th>\n",
       "      <td>...</td>\n",
       "      <td>...</td>\n",
       "      <td>...</td>\n",
       "      <td>...</td>\n",
       "      <td>...</td>\n",
       "    </tr>\n",
       "    <tr>\n",
       "      <th>995</th>\n",
       "      <td>1</td>\n",
       "      <td>-7.286751</td>\n",
       "      <td>-6.346180</td>\n",
       "      <td>-51</td>\n",
       "      <td>-21</td>\n",
       "    </tr>\n",
       "    <tr>\n",
       "      <th>996</th>\n",
       "      <td>0</td>\n",
       "      <td>-8.717633</td>\n",
       "      <td>18.595339</td>\n",
       "      <td>32</td>\n",
       "      <td>17</td>\n",
       "    </tr>\n",
       "    <tr>\n",
       "      <th>997</th>\n",
       "      <td>0</td>\n",
       "      <td>-7.991978</td>\n",
       "      <td>-6.598361</td>\n",
       "      <td>36</td>\n",
       "      <td>14</td>\n",
       "    </tr>\n",
       "    <tr>\n",
       "      <th>998</th>\n",
       "      <td>0</td>\n",
       "      <td>-23.082488</td>\n",
       "      <td>1.267317</td>\n",
       "      <td>-43</td>\n",
       "      <td>-89</td>\n",
       "    </tr>\n",
       "    <tr>\n",
       "      <th>999</th>\n",
       "      <td>0</td>\n",
       "      <td>-16.682715</td>\n",
       "      <td>-1.308996</td>\n",
       "      <td>-61</td>\n",
       "      <td>85</td>\n",
       "    </tr>\n",
       "  </tbody>\n",
       "</table>\n",
       "<p>1000 rows × 5 columns</p>\n",
       "</div>"
      ],
      "text/plain": [
       "     label          a          b   c   d\n",
       "0        0  -7.328588  -3.077598  54  -9\n",
       "1        1 -10.128341  -3.126609 -96  81\n",
       "2        1  -7.863698  -8.622445  96 -71\n",
       "3        1  -5.904219  -3.370329  15 -56\n",
       "4        0  -3.451493  -2.471520 -10 -66\n",
       "..     ...        ...        ...  ..  ..\n",
       "995      1  -7.286751  -6.346180 -51 -21\n",
       "996      0  -8.717633  18.595339  32  17\n",
       "997      0  -7.991978  -6.598361  36  14\n",
       "998      0 -23.082488   1.267317 -43 -89\n",
       "999      0 -16.682715  -1.308996 -61  85\n",
       "\n",
       "[1000 rows x 5 columns]"
      ]
     },
     "execution_count": 44,
     "metadata": {},
     "output_type": "execute_result"
    }
   ],
   "source": [
    "query = f\"\"\"SELECT label, a, b, c, d FROM \"{table}\" WHERE index > 3000 ORDER BY index ASC LIMIT 1000\"\"\"\n",
    "\n",
    "validation_df = query_data(query)\n",
    "validation_df"
   ]
  },
  {
   "cell_type": "code",
   "execution_count": 45,
   "metadata": {},
   "outputs": [
    {
     "name": "stdout",
     "output_type": "stream",
     "text": [
      "QUERY: SELECT label, a, b, c, d FROM \"cookbook-feature-group-1621862289\" WHERE index > 4000 ORDER BY index ASC LIMIT 1000 \n",
      "\n"
     ]
    },
    {
     "data": {
      "text/html": [
       "<div>\n",
       "<style scoped>\n",
       "    .dataframe tbody tr th:only-of-type {\n",
       "        vertical-align: middle;\n",
       "    }\n",
       "\n",
       "    .dataframe tbody tr th {\n",
       "        vertical-align: top;\n",
       "    }\n",
       "\n",
       "    .dataframe thead th {\n",
       "        text-align: right;\n",
       "    }\n",
       "</style>\n",
       "<table border=\"1\" class=\"dataframe\">\n",
       "  <thead>\n",
       "    <tr style=\"text-align: right;\">\n",
       "      <th></th>\n",
       "      <th>label</th>\n",
       "      <th>a</th>\n",
       "      <th>b</th>\n",
       "      <th>c</th>\n",
       "      <th>d</th>\n",
       "    </tr>\n",
       "  </thead>\n",
       "  <tbody>\n",
       "    <tr>\n",
       "      <th>0</th>\n",
       "      <td>0</td>\n",
       "      <td>-10.488853</td>\n",
       "      <td>0.632800</td>\n",
       "      <td>-79</td>\n",
       "      <td>5</td>\n",
       "    </tr>\n",
       "    <tr>\n",
       "      <th>1</th>\n",
       "      <td>0</td>\n",
       "      <td>8.455742</td>\n",
       "      <td>4.183267</td>\n",
       "      <td>-7</td>\n",
       "      <td>-83</td>\n",
       "    </tr>\n",
       "    <tr>\n",
       "      <th>2</th>\n",
       "      <td>0</td>\n",
       "      <td>-15.466566</td>\n",
       "      <td>-0.372287</td>\n",
       "      <td>19</td>\n",
       "      <td>39</td>\n",
       "    </tr>\n",
       "    <tr>\n",
       "      <th>3</th>\n",
       "      <td>1</td>\n",
       "      <td>-3.134794</td>\n",
       "      <td>-4.258036</td>\n",
       "      <td>9</td>\n",
       "      <td>39</td>\n",
       "    </tr>\n",
       "    <tr>\n",
       "      <th>4</th>\n",
       "      <td>1</td>\n",
       "      <td>-8.362027</td>\n",
       "      <td>-9.802120</td>\n",
       "      <td>23</td>\n",
       "      <td>75</td>\n",
       "    </tr>\n",
       "    <tr>\n",
       "      <th>...</th>\n",
       "      <td>...</td>\n",
       "      <td>...</td>\n",
       "      <td>...</td>\n",
       "      <td>...</td>\n",
       "      <td>...</td>\n",
       "    </tr>\n",
       "    <tr>\n",
       "      <th>995</th>\n",
       "      <td>0</td>\n",
       "      <td>0.659784</td>\n",
       "      <td>1.414005</td>\n",
       "      <td>50</td>\n",
       "      <td>-36</td>\n",
       "    </tr>\n",
       "    <tr>\n",
       "      <th>996</th>\n",
       "      <td>0</td>\n",
       "      <td>-12.388167</td>\n",
       "      <td>-3.860623</td>\n",
       "      <td>2</td>\n",
       "      <td>-49</td>\n",
       "    </tr>\n",
       "    <tr>\n",
       "      <th>997</th>\n",
       "      <td>1</td>\n",
       "      <td>-4.294561</td>\n",
       "      <td>-8.472893</td>\n",
       "      <td>-41</td>\n",
       "      <td>-14</td>\n",
       "    </tr>\n",
       "    <tr>\n",
       "      <th>998</th>\n",
       "      <td>1</td>\n",
       "      <td>-6.044883</td>\n",
       "      <td>-5.261760</td>\n",
       "      <td>-49</td>\n",
       "      <td>-97</td>\n",
       "    </tr>\n",
       "    <tr>\n",
       "      <th>999</th>\n",
       "      <td>1</td>\n",
       "      <td>-3.585282</td>\n",
       "      <td>-4.820821</td>\n",
       "      <td>88</td>\n",
       "      <td>51</td>\n",
       "    </tr>\n",
       "  </tbody>\n",
       "</table>\n",
       "<p>1000 rows × 5 columns</p>\n",
       "</div>"
      ],
      "text/plain": [
       "     label          a         b   c   d\n",
       "0        0 -10.488853  0.632800 -79   5\n",
       "1        0   8.455742  4.183267  -7 -83\n",
       "2        0 -15.466566 -0.372287  19  39\n",
       "3        1  -3.134794 -4.258036   9  39\n",
       "4        1  -8.362027 -9.802120  23  75\n",
       "..     ...        ...       ...  ..  ..\n",
       "995      0   0.659784  1.414005  50 -36\n",
       "996      0 -12.388167 -3.860623   2 -49\n",
       "997      1  -4.294561 -8.472893 -41 -14\n",
       "998      1  -6.044883 -5.261760 -49 -97\n",
       "999      1  -3.585282 -4.820821  88  51\n",
       "\n",
       "[1000 rows x 5 columns]"
      ]
     },
     "execution_count": 45,
     "metadata": {},
     "output_type": "execute_result"
    }
   ],
   "source": [
    "query = f\"\"\"SELECT label, a, b, c, d FROM \"{table}\" WHERE index > 4000 ORDER BY index ASC LIMIT 1000 \"\"\"\n",
    "\n",
    "test_df = query_data(query)\n",
    "test_df"
   ]
  },
  {
   "cell_type": "code",
   "execution_count": 46,
   "metadata": {},
   "outputs": [],
   "source": [
    "!mkdir -p tmp"
   ]
  },
  {
   "cell_type": "code",
   "execution_count": 47,
   "metadata": {},
   "outputs": [],
   "source": [
    "training_df.to_csv('tmp/training_data.csv', \n",
    "                   header=True, \n",
    "                   index=False)\n",
    "validation_df.to_csv('tmp/validation_data.csv', \n",
    "                     header=True, \n",
    "                     index=False)\n",
    "test_df.to_csv('tmp/test_data.csv', \n",
    "               header=True, \n",
    "               index=False)"
   ]
  },
  {
   "cell_type": "code",
   "execution_count": 54,
   "metadata": {},
   "outputs": [],
   "source": [
    "path = f\"s3://{s3_bucket_name}/{prefix}\"\n",
    "training_data_path = f\"{path}/input/training_data.csv\"\n",
    "validation_data_path = f\"{path}/input/validation_data.csv\"\n",
    "test_data_path = f\"{path}/input/test_data.csv\""
   ]
  },
  {
   "cell_type": "code",
   "execution_count": 55,
   "metadata": {},
   "outputs": [
    {
     "name": "stdout",
     "output_type": "stream",
     "text": [
      "upload: tmp/training_data.csv to s3://sagemaker-cookbook-bucket/chapter07/input/training_data.csv\n",
      "upload: tmp/validation_data.csv to s3://sagemaker-cookbook-bucket/chapter07/input/validation_data.csv\n",
      "upload: tmp/test_data.csv to s3://sagemaker-cookbook-bucket/chapter07/input/test_data.csv\n"
     ]
    }
   ],
   "source": [
    "!aws s3 cp tmp/training_data.csv {training_data_path}\n",
    "!aws s3 cp tmp/validation_data.csv {validation_data_path}\n",
    "!aws s3 cp tmp/test_data.csv {test_data_path}"
   ]
  },
  {
   "cell_type": "code",
   "execution_count": 50,
   "metadata": {},
   "outputs": [],
   "source": [
    "training_df.to_csv('tmp/training_data_no_header.csv', \n",
    "                   header=False, \n",
    "                   index=False)\n",
    "validation_df.to_csv('tmp/validation_data_no_header.csv', \n",
    "                     header=False, \n",
    "                     index=False)\n",
    "test_df.to_csv('tmp/test_data_no_header.csv', \n",
    "               header=False, \n",
    "               index=False)"
   ]
  },
  {
   "cell_type": "code",
   "execution_count": 57,
   "metadata": {},
   "outputs": [],
   "source": [
    "training_data_path_nh = f\"{path}/input/training_data_no_header.csv\"\n",
    "validation_data_path_nh = f\"{path}/input/validation_data_no_header.csv\"\n",
    "test_data_path_nh = f\"{path}/input/test_data_no_header.csv\""
   ]
  },
  {
   "cell_type": "code",
   "execution_count": 58,
   "metadata": {},
   "outputs": [
    {
     "name": "stdout",
     "output_type": "stream",
     "text": [
      "upload: tmp/training_data_no_header.csv to s3://sagemaker-cookbook-bucket/chapter07/input/training_data_no_header.csv\n",
      "upload: tmp/validation_data_no_header.csv to s3://sagemaker-cookbook-bucket/chapter07/input/validation_data_no_header.csv\n",
      "upload: tmp/test_data_no_header.csv to s3://sagemaker-cookbook-bucket/chapter07/input/test_data_no_header.csv\n"
     ]
    }
   ],
   "source": [
    "!aws s3 cp tmp/training_data_no_header.csv {training_data_path_nh}\n",
    "!aws s3 cp tmp/validation_data_no_header.csv {validation_data_path_nh}\n",
    "!aws s3 cp tmp/test_data_no_header.csv {test_data_path_nh}"
   ]
  },
  {
   "cell_type": "code",
   "execution_count": 53,
   "metadata": {},
   "outputs": [
    {
     "name": "stdout",
     "output_type": "stream",
     "text": [
      "Stored 'training_data_path' (str)\n",
      "Stored 'validation_data_path' (str)\n",
      "Stored 'test_data_path' (str)\n",
      "Stored 'training_data_path_nh' (str)\n",
      "Stored 'validation_data_path_nh' (str)\n",
      "Stored 'test_data_path_nh' (str)\n"
     ]
    }
   ],
   "source": [
    "%store training_data_path\n",
    "%store validation_data_path\n",
    "%store test_data_path\n",
    "%store training_data_path_nh\n",
    "%store validation_data_path_nh\n",
    "%store test_data_path_nh"
   ]
  }
 ],
 "metadata": {
  "instance_type": "ml.t3.medium",
  "kernelspec": {
   "display_name": "Python 3 (Data Science)",
   "language": "python",
   "name": "python3__SAGEMAKER_INTERNAL__arn:aws:sagemaker:us-east-1:081325390199:image/datascience-1.0"
  },
  "language_info": {
   "codemirror_mode": {
    "name": "ipython",
    "version": 3
   },
   "file_extension": ".py",
   "mimetype": "text/x-python",
   "name": "python",
   "nbconvert_exporter": "python",
   "pygments_lexer": "ipython3",
   "version": "3.7.10"
  }
 },
 "nbformat": 4,
 "nbformat_minor": 5
}
