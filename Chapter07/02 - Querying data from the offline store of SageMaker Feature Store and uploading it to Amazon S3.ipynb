{
 "cells": [
  {
   "cell_type": "code",
   "execution_count": 26,
   "metadata": {},
   "outputs": [],
   "source": [
    "import boto3\n",
    "import sagemaker\n",
    "\n",
    "from sagemaker.session import Session\n",
    "from sagemaker.feature_store.feature_group import FeatureGroup"
   ]
  },
  {
   "cell_type": "code",
   "execution_count": 27,
   "metadata": {},
   "outputs": [],
   "source": [
    "region = boto3.Session().region_name\n",
    "session = boto3.Session(region_name=region)\n",
    "\n",
    "client = session.client(\n",
    "    service_name='sagemaker', \n",
    "    region_name=region\n",
    ")\n",
    "runtime = session.client(\n",
    "    service_name='sagemaker-featurestore-runtime', \n",
    "    region_name=region\n",
    ")\n",
    "\n",
    "feature_store_session = Session(\n",
    "    boto_session=session,\n",
    "    sagemaker_client=client,\n",
    "    sagemaker_featurestore_runtime_client=runtime\n",
    ")"
   ]
  },
  {
   "cell_type": "code",
   "execution_count": 28,
   "metadata": {},
   "outputs": [],
   "source": [
    "%store -r feature_group_name\n",
    "\n",
    "feature_group = FeatureGroup(\n",
    "    name=feature_group_name, \n",
    "    sagemaker_session=feature_store_session\n",
    ")"
   ]
  },
  {
   "cell_type": "code",
   "execution_count": 29,
   "metadata": {
    "scrolled": true
   },
   "outputs": [
    {
     "data": {
      "text/plain": [
       "{'FeatureGroupArn': 'arn:aws:sagemaker:us-east-1:581320662326:feature-group/cookbook-feature-group',\n",
       " 'FeatureGroupName': 'cookbook-feature-group',\n",
       " 'RecordIdentifierFeatureName': 'index',\n",
       " 'EventTimeFeatureName': 'event_time',\n",
       " 'FeatureDefinitions': [{'FeatureName': 'label', 'FeatureType': 'Integral'},\n",
       "  {'FeatureName': 'a', 'FeatureType': 'Fractional'},\n",
       "  {'FeatureName': 'b', 'FeatureType': 'Fractional'},\n",
       "  {'FeatureName': 'c', 'FeatureType': 'Integral'},\n",
       "  {'FeatureName': 'd', 'FeatureType': 'Integral'},\n",
       "  {'FeatureName': 'index', 'FeatureType': 'Integral'},\n",
       "  {'FeatureName': 'event_time', 'FeatureType': 'Fractional'}],\n",
       " 'CreationTime': datetime.datetime(2021, 5, 29, 14, 11, 57, 610000, tzinfo=tzlocal()),\n",
       " 'OnlineStoreConfig': {'EnableOnlineStore': True},\n",
       " 'OfflineStoreConfig': {'S3StorageConfig': {'S3Uri': 's3://sagemaker-cookbook-bucket/chapter07/input',\n",
       "   'ResolvedOutputS3Uri': 's3://sagemaker-cookbook-bucket/chapter07/input/581320662326/sagemaker/us-east-1/offline-store/cookbook-feature-group-1622297517/data'},\n",
       "  'DisableGlueTableCreation': False,\n",
       "  'DataCatalogConfig': {'TableName': 'cookbook-feature-group-1622297517',\n",
       "   'Catalog': 'AwsDataCatalog',\n",
       "   'Database': 'sagemaker_featurestore'}},\n",
       " 'RoleArn': 'arn:aws:iam::581320662326:role/SuperAdminRole',\n",
       " 'FeatureGroupStatus': 'Created',\n",
       " 'OfflineStoreStatus': {'Status': 'Active'},\n",
       " 'ResponseMetadata': {'RequestId': '8e6753bf-fada-49a7-82b6-74e3871baa67',\n",
       "  'HTTPStatusCode': 200,\n",
       "  'HTTPHeaders': {'x-amzn-requestid': '8e6753bf-fada-49a7-82b6-74e3871baa67',\n",
       "   'content-type': 'application/x-amz-json-1.1',\n",
       "   'content-length': '1534',\n",
       "   'date': 'Sat, 29 May 2021 14:21:10 GMT'},\n",
       "  'RetryAttempts': 0}}"
      ]
     },
     "execution_count": 29,
     "metadata": {},
     "output_type": "execute_result"
    }
   ],
   "source": [
    "feature_group.describe()"
   ]
  },
  {
   "cell_type": "code",
   "execution_count": 30,
   "metadata": {},
   "outputs": [
    {
     "data": {
      "text/plain": [
       "'cookbook-feature-group-1622297517'"
      ]
     },
     "execution_count": 30,
     "metadata": {},
     "output_type": "execute_result"
    }
   ],
   "source": [
    "table = feature_group.athena_query().table_name\n",
    "table"
   ]
  },
  {
   "cell_type": "code",
   "execution_count": 31,
   "metadata": {},
   "outputs": [
    {
     "data": {
      "text/plain": [
       "'s3://sagemaker-cookbook-bucket/chapter07/input'"
      ]
     },
     "execution_count": 31,
     "metadata": {},
     "output_type": "execute_result"
    }
   ],
   "source": [
    "describe_response = feature_group.describe()\n",
    "offline_config = describe_response['OfflineStoreConfig']\n",
    "s3_uri = offline_config['S3StorageConfig']['S3Uri']\n",
    "s3_uri"
   ]
  },
  {
   "cell_type": "code",
   "execution_count": 32,
   "metadata": {},
   "outputs": [
    {
     "name": "stdout",
     "output_type": "stream",
     "text": [
      "2021-05-24 13:19:31          0 chapter07/input/581320662326/sagemaker/us-east-1/offline-store/cookbook-feature-group-1621862289/cookbook-feature-group2021-05-24T13:18:09.536Z.txt\n",
      "2021-05-24 13:24:04      39388 chapter07/input/581320662326/sagemaker/us-east-1/offline-store/cookbook-feature-group-1621862289/data/year=2021/month=05/day=24/hour=13/20210524T131737Z_e6ORP4xrgB871rdp.parquet\n",
      "2021-05-24 13:24:04      36764 chapter07/input/581320662326/sagemaker/us-east-1/offline-store/cookbook-feature-group-1621862289/data/year=2021/month=05/day=24/hour=13/20210524T131737Z_iEvmDP797Fbl6RAm.parquet\n",
      "2021-05-24 13:24:04      39184 chapter07/input/581320662326/sagemaker/us-east-1/offline-store/cookbook-feature-group-1621862289/data/year=2021/month=05/day=24/hour=13/20210524T131737Z_vYGXQWqeKRLH7OJb.parquet\n",
      "2021-05-24 13:24:04      38418 chapter07/input/581320662326/sagemaker/us-east-1/offline-store/cookbook-feature-group-1621862289/data/year=2021/month=05/day=24/hour=13/20210524T131737Z_xfb8J2vUWHOA4pKz.parquet\n",
      "2021-05-26 20:16:15          0 chapter07/input/581320662326/sagemaker/us-east-1/offline-store/cookbook-feature-group-1622060091/cookbook-feature-group2021-05-26T20:14:51.846Z.txt\n",
      "2021-05-26 20:20:08      38469 chapter07/input/581320662326/sagemaker/us-east-1/offline-store/cookbook-feature-group-1622060091/data/year=2021/month=05/day=26/hour=20/20210526T200348Z_0DsmSLxIsJBe2iaH.parquet\n",
      "2021-05-26 20:20:27      36797 chapter07/input/581320662326/sagemaker/us-east-1/offline-store/cookbook-feature-group-1622060091/data/year=2021/month=05/day=26/hour=20/20210526T200348Z_GqJXZqjs3SaUZkll.parquet\n",
      "2021-05-26 20:20:27      39431 chapter07/input/581320662326/sagemaker/us-east-1/offline-store/cookbook-feature-group-1622060091/data/year=2021/month=05/day=26/hour=20/20210526T200348Z_QQgZCWZMEy00k6iB.parquet\n",
      "2021-05-26 20:20:07      39207 chapter07/input/581320662326/sagemaker/us-east-1/offline-store/cookbook-feature-group-1622060091/data/year=2021/month=05/day=26/hour=20/20210526T200348Z_cI08NPIfqR4jZK9T.parquet\n",
      "2021-05-26 20:21:49          0 chapter07/input/581320662326/sagemaker/us-east-1/offline-store/cookbook-feature-group-1622060427/cookbook-feature-group2021-05-26T20:20:27.173Z.txt\n",
      "2021-05-26 20:26:37      38452 chapter07/input/581320662326/sagemaker/us-east-1/offline-store/cookbook-feature-group-1622060427/data/year=2021/month=05/day=26/hour=20/20210526T200348Z_436EcQIGr80f6npT.parquet\n",
      "2021-05-26 20:26:27      36781 chapter07/input/581320662326/sagemaker/us-east-1/offline-store/cookbook-feature-group-1622060427/data/year=2021/month=05/day=26/hour=20/20210526T200348Z_5YI1sQyx76iyen41.parquet\n",
      "2021-05-26 20:26:27      39181 chapter07/input/581320662326/sagemaker/us-east-1/offline-store/cookbook-feature-group-1622060427/data/year=2021/month=05/day=26/hour=20/20210526T200348Z_B5w609Dy9R3Ir8Ol.parquet\n",
      "2021-05-26 20:26:37      39395 chapter07/input/581320662326/sagemaker/us-east-1/offline-store/cookbook-feature-group-1622060427/data/year=2021/month=05/day=26/hour=20/20210526T200348Z_yHnA6JEQiXtX2sah.parquet\n",
      "2021-05-26 21:07:42          0 chapter07/input/581320662326/sagemaker/us-east-1/offline-store/cookbook-feature-group-1622063180/cookbook-feature-group2021-05-26T21:06:20.467Z.txt\n",
      "2021-05-26 21:12:25      39192 chapter07/input/581320662326/sagemaker/us-east-1/offline-store/cookbook-feature-group-1622063180/data/year=2021/month=05/day=26/hour=21/20210526T210547Z_RX55BCuiXdgVutHd.parquet\n",
      "2021-05-26 21:12:56      38449 chapter07/input/581320662326/sagemaker/us-east-1/offline-store/cookbook-feature-group-1622063180/data/year=2021/month=05/day=26/hour=21/20210526T210547Z_WXO9OjzYJ28cxgdS.parquet\n",
      "2021-05-26 21:12:15      36788 chapter07/input/581320662326/sagemaker/us-east-1/offline-store/cookbook-feature-group-1622063180/data/year=2021/month=05/day=26/hour=21/20210526T210547Z_boMyGx2R2v3pINa1.parquet\n",
      "2021-05-26 21:13:00      39399 chapter07/input/581320662326/sagemaker/us-east-1/offline-store/cookbook-feature-group-1622063180/data/year=2021/month=05/day=26/hour=21/20210526T210547Z_rwLEiycQCDBAmMqC.parquet\n",
      "2021-05-29 14:13:19          0 chapter07/input/581320662326/sagemaker/us-east-1/offline-store/cookbook-feature-group-1622297517/cookbook-feature-group2021-05-29T14:11:57.610Z.txt\n",
      "2021-05-29 14:18:15      38429 chapter07/input/581320662326/sagemaker/us-east-1/offline-store/cookbook-feature-group-1622297517/data/year=2021/month=05/day=29/hour=14/20210529T141125Z_6rLVAFsdbpzGPTVb.parquet\n",
      "2021-05-29 14:18:15      36809 chapter07/input/581320662326/sagemaker/us-east-1/offline-store/cookbook-feature-group-1622297517/data/year=2021/month=05/day=29/hour=14/20210529T141125Z_86mmGh2e8330fxXX.parquet\n",
      "2021-05-29 14:18:46      39197 chapter07/input/581320662326/sagemaker/us-east-1/offline-store/cookbook-feature-group-1622297517/data/year=2021/month=05/day=29/hour=14/20210529T141125Z_AzZbgG7Mv5DMLG3N.parquet\n",
      "2021-05-29 14:18:05      39405 chapter07/input/581320662326/sagemaker/us-east-1/offline-store/cookbook-feature-group-1622297517/data/year=2021/month=05/day=29/hour=14/20210529T141125Z_MQsq0vZVZmEwQuBD.parquet\n",
      "2021-05-24 17:28:46     135348 chapter07/input/baseline_nl.csv\n",
      "2021-05-29 14:14:21         14 chapter07/input/test_data.csv\n",
      "2021-05-29 14:14:24          0 chapter07/input/test_data_no_header.csv\n",
      "2021-05-24 14:53:00      45068 chapter07/input/test_features.csv\n",
      "2021-05-29 14:14:20         14 chapter07/input/training_data.csv\n",
      "2021-05-29 14:14:22          0 chapter07/input/training_data_no_header.csv\n",
      "2021-05-29 14:14:21         14 chapter07/input/validation_data.csv\n",
      "2021-05-29 14:14:23          0 chapter07/input/validation_data_no_header.csv\n"
     ]
    }
   ],
   "source": [
    "!aws s3 ls {s3_uri} --recursive"
   ]
  },
  {
   "cell_type": "code",
   "execution_count": 33,
   "metadata": {},
   "outputs": [],
   "source": [
    "%store -r s3_bucket_name\n",
    "%store -r prefix"
   ]
  },
  {
   "cell_type": "code",
   "execution_count": 34,
   "metadata": {},
   "outputs": [
    {
     "name": "stdout",
     "output_type": "stream",
     "text": [
      "s3://sagemaker-cookbook-bucket/chapter07/query_results/\n"
     ]
    }
   ],
   "source": [
    "base = f's3://{s3_bucket_name}/{prefix}'\n",
    "output_location = f'{base}/query_results/'\n",
    "\n",
    "print(output_location)"
   ]
  },
  {
   "cell_type": "code",
   "execution_count": 35,
   "metadata": {},
   "outputs": [],
   "source": [
    "def query_data(query_string):\n",
    "    print(f\"QUERY: {query_string}\\n\")\n",
    "    query = feature_group.athena_query()\n",
    "    query.run(query_string=query_string, \n",
    "              output_location=output_location)\n",
    "    \n",
    "    query.wait()\n",
    "    \n",
    "    return query.as_dataframe()"
   ]
  },
  {
   "cell_type": "code",
   "execution_count": 36,
   "metadata": {},
   "outputs": [
    {
     "name": "stdout",
     "output_type": "stream",
     "text": [
      "QUERY: SELECT label, a, b, c, d FROM \"cookbook-feature-group-1622297517\" ORDER BY index ASC LIMIT 3000\n",
      "\n"
     ]
    },
    {
     "data": {
      "text/html": [
       "<div>\n",
       "<style scoped>\n",
       "    .dataframe tbody tr th:only-of-type {\n",
       "        vertical-align: middle;\n",
       "    }\n",
       "\n",
       "    .dataframe tbody tr th {\n",
       "        vertical-align: top;\n",
       "    }\n",
       "\n",
       "    .dataframe thead th {\n",
       "        text-align: right;\n",
       "    }\n",
       "</style>\n",
       "<table border=\"1\" class=\"dataframe\">\n",
       "  <thead>\n",
       "    <tr style=\"text-align: right;\">\n",
       "      <th></th>\n",
       "      <th>label</th>\n",
       "      <th>a</th>\n",
       "      <th>b</th>\n",
       "      <th>c</th>\n",
       "      <th>d</th>\n",
       "    </tr>\n",
       "  </thead>\n",
       "  <tbody>\n",
       "    <tr>\n",
       "      <th>0</th>\n",
       "      <td>1</td>\n",
       "      <td>-8.837413</td>\n",
       "      <td>-6.551265</td>\n",
       "      <td>50</td>\n",
       "      <td>88</td>\n",
       "    </tr>\n",
       "    <tr>\n",
       "      <th>1</th>\n",
       "      <td>1</td>\n",
       "      <td>-9.216749</td>\n",
       "      <td>-2.483494</td>\n",
       "      <td>77</td>\n",
       "      <td>-3</td>\n",
       "    </tr>\n",
       "    <tr>\n",
       "      <th>2</th>\n",
       "      <td>1</td>\n",
       "      <td>-2.017317</td>\n",
       "      <td>-6.326533</td>\n",
       "      <td>1</td>\n",
       "      <td>-50</td>\n",
       "    </tr>\n",
       "    <tr>\n",
       "      <th>3</th>\n",
       "      <td>1</td>\n",
       "      <td>-10.748736</td>\n",
       "      <td>-4.622519</td>\n",
       "      <td>23</td>\n",
       "      <td>59</td>\n",
       "    </tr>\n",
       "    <tr>\n",
       "      <th>4</th>\n",
       "      <td>0</td>\n",
       "      <td>-3.675848</td>\n",
       "      <td>12.629029</td>\n",
       "      <td>-20</td>\n",
       "      <td>-37</td>\n",
       "    </tr>\n",
       "    <tr>\n",
       "      <th>...</th>\n",
       "      <td>...</td>\n",
       "      <td>...</td>\n",
       "      <td>...</td>\n",
       "      <td>...</td>\n",
       "      <td>...</td>\n",
       "    </tr>\n",
       "    <tr>\n",
       "      <th>2995</th>\n",
       "      <td>0</td>\n",
       "      <td>-5.786462</td>\n",
       "      <td>-6.790668</td>\n",
       "      <td>-81</td>\n",
       "      <td>-45</td>\n",
       "    </tr>\n",
       "    <tr>\n",
       "      <th>2996</th>\n",
       "      <td>1</td>\n",
       "      <td>-2.552410</td>\n",
       "      <td>-1.793217</td>\n",
       "      <td>47</td>\n",
       "      <td>8</td>\n",
       "    </tr>\n",
       "    <tr>\n",
       "      <th>2997</th>\n",
       "      <td>0</td>\n",
       "      <td>-10.692197</td>\n",
       "      <td>1.583437</td>\n",
       "      <td>23</td>\n",
       "      <td>22</td>\n",
       "    </tr>\n",
       "    <tr>\n",
       "      <th>2998</th>\n",
       "      <td>1</td>\n",
       "      <td>-14.109003</td>\n",
       "      <td>-4.745680</td>\n",
       "      <td>89</td>\n",
       "      <td>5</td>\n",
       "    </tr>\n",
       "    <tr>\n",
       "      <th>2999</th>\n",
       "      <td>1</td>\n",
       "      <td>-8.801795</td>\n",
       "      <td>-5.552834</td>\n",
       "      <td>-67</td>\n",
       "      <td>86</td>\n",
       "    </tr>\n",
       "  </tbody>\n",
       "</table>\n",
       "<p>3000 rows × 5 columns</p>\n",
       "</div>"
      ],
      "text/plain": [
       "      label          a          b   c   d\n",
       "0         1  -8.837413  -6.551265  50  88\n",
       "1         1  -9.216749  -2.483494  77  -3\n",
       "2         1  -2.017317  -6.326533   1 -50\n",
       "3         1 -10.748736  -4.622519  23  59\n",
       "4         0  -3.675848  12.629029 -20 -37\n",
       "...     ...        ...        ...  ..  ..\n",
       "2995      0  -5.786462  -6.790668 -81 -45\n",
       "2996      1  -2.552410  -1.793217  47   8\n",
       "2997      0 -10.692197   1.583437  23  22\n",
       "2998      1 -14.109003  -4.745680  89   5\n",
       "2999      1  -8.801795  -5.552834 -67  86\n",
       "\n",
       "[3000 rows x 5 columns]"
      ]
     },
     "execution_count": 36,
     "metadata": {},
     "output_type": "execute_result"
    }
   ],
   "source": [
    "query = f\"\"\"SELECT label, a, b, c, d FROM \"{table}\" ORDER BY index ASC LIMIT 3000\"\"\"\n",
    "\n",
    "training_df = query_data(query)\n",
    "training_df"
   ]
  },
  {
   "cell_type": "code",
   "execution_count": 37,
   "metadata": {},
   "outputs": [
    {
     "name": "stdout",
     "output_type": "stream",
     "text": [
      "QUERY: SELECT label, a, b, c, d FROM \"cookbook-feature-group-1622297517\" WHERE index > 3000 ORDER BY index ASC LIMIT 1000\n",
      "\n"
     ]
    },
    {
     "data": {
      "text/html": [
       "<div>\n",
       "<style scoped>\n",
       "    .dataframe tbody tr th:only-of-type {\n",
       "        vertical-align: middle;\n",
       "    }\n",
       "\n",
       "    .dataframe tbody tr th {\n",
       "        vertical-align: top;\n",
       "    }\n",
       "\n",
       "    .dataframe thead th {\n",
       "        text-align: right;\n",
       "    }\n",
       "</style>\n",
       "<table border=\"1\" class=\"dataframe\">\n",
       "  <thead>\n",
       "    <tr style=\"text-align: right;\">\n",
       "      <th></th>\n",
       "      <th>label</th>\n",
       "      <th>a</th>\n",
       "      <th>b</th>\n",
       "      <th>c</th>\n",
       "      <th>d</th>\n",
       "    </tr>\n",
       "  </thead>\n",
       "  <tbody>\n",
       "    <tr>\n",
       "      <th>0</th>\n",
       "      <td>0</td>\n",
       "      <td>-7.328588</td>\n",
       "      <td>-3.077598</td>\n",
       "      <td>-42</td>\n",
       "      <td>38</td>\n",
       "    </tr>\n",
       "    <tr>\n",
       "      <th>1</th>\n",
       "      <td>1</td>\n",
       "      <td>-10.128341</td>\n",
       "      <td>-3.126609</td>\n",
       "      <td>-89</td>\n",
       "      <td>-83</td>\n",
       "    </tr>\n",
       "    <tr>\n",
       "      <th>2</th>\n",
       "      <td>1</td>\n",
       "      <td>-7.863698</td>\n",
       "      <td>-8.622445</td>\n",
       "      <td>73</td>\n",
       "      <td>-88</td>\n",
       "    </tr>\n",
       "    <tr>\n",
       "      <th>3</th>\n",
       "      <td>1</td>\n",
       "      <td>-5.904219</td>\n",
       "      <td>-3.370329</td>\n",
       "      <td>1</td>\n",
       "      <td>50</td>\n",
       "    </tr>\n",
       "    <tr>\n",
       "      <th>4</th>\n",
       "      <td>0</td>\n",
       "      <td>-3.451493</td>\n",
       "      <td>-2.471520</td>\n",
       "      <td>-80</td>\n",
       "      <td>95</td>\n",
       "    </tr>\n",
       "    <tr>\n",
       "      <th>...</th>\n",
       "      <td>...</td>\n",
       "      <td>...</td>\n",
       "      <td>...</td>\n",
       "      <td>...</td>\n",
       "      <td>...</td>\n",
       "    </tr>\n",
       "    <tr>\n",
       "      <th>995</th>\n",
       "      <td>1</td>\n",
       "      <td>-7.286751</td>\n",
       "      <td>-6.346180</td>\n",
       "      <td>-7</td>\n",
       "      <td>80</td>\n",
       "    </tr>\n",
       "    <tr>\n",
       "      <th>996</th>\n",
       "      <td>0</td>\n",
       "      <td>-8.717633</td>\n",
       "      <td>18.595339</td>\n",
       "      <td>-80</td>\n",
       "      <td>-60</td>\n",
       "    </tr>\n",
       "    <tr>\n",
       "      <th>997</th>\n",
       "      <td>0</td>\n",
       "      <td>-7.991978</td>\n",
       "      <td>-6.598361</td>\n",
       "      <td>-9</td>\n",
       "      <td>-43</td>\n",
       "    </tr>\n",
       "    <tr>\n",
       "      <th>998</th>\n",
       "      <td>0</td>\n",
       "      <td>-23.082488</td>\n",
       "      <td>1.267317</td>\n",
       "      <td>53</td>\n",
       "      <td>84</td>\n",
       "    </tr>\n",
       "    <tr>\n",
       "      <th>999</th>\n",
       "      <td>0</td>\n",
       "      <td>-16.682715</td>\n",
       "      <td>-1.308996</td>\n",
       "      <td>-38</td>\n",
       "      <td>-53</td>\n",
       "    </tr>\n",
       "  </tbody>\n",
       "</table>\n",
       "<p>1000 rows × 5 columns</p>\n",
       "</div>"
      ],
      "text/plain": [
       "     label          a          b   c   d\n",
       "0        0  -7.328588  -3.077598 -42  38\n",
       "1        1 -10.128341  -3.126609 -89 -83\n",
       "2        1  -7.863698  -8.622445  73 -88\n",
       "3        1  -5.904219  -3.370329   1  50\n",
       "4        0  -3.451493  -2.471520 -80  95\n",
       "..     ...        ...        ...  ..  ..\n",
       "995      1  -7.286751  -6.346180  -7  80\n",
       "996      0  -8.717633  18.595339 -80 -60\n",
       "997      0  -7.991978  -6.598361  -9 -43\n",
       "998      0 -23.082488   1.267317  53  84\n",
       "999      0 -16.682715  -1.308996 -38 -53\n",
       "\n",
       "[1000 rows x 5 columns]"
      ]
     },
     "execution_count": 37,
     "metadata": {},
     "output_type": "execute_result"
    }
   ],
   "source": [
    "query = f\"\"\"SELECT label, a, b, c, d FROM \"{table}\" WHERE index > 3000 ORDER BY index ASC LIMIT 1000\"\"\"\n",
    "\n",
    "validation_df = query_data(query)\n",
    "validation_df"
   ]
  },
  {
   "cell_type": "code",
   "execution_count": 38,
   "metadata": {},
   "outputs": [
    {
     "name": "stdout",
     "output_type": "stream",
     "text": [
      "QUERY: SELECT label, a, b, c, d FROM \"cookbook-feature-group-1622297517\" WHERE index > 4000 ORDER BY index ASC LIMIT 1000 \n",
      "\n"
     ]
    },
    {
     "data": {
      "text/html": [
       "<div>\n",
       "<style scoped>\n",
       "    .dataframe tbody tr th:only-of-type {\n",
       "        vertical-align: middle;\n",
       "    }\n",
       "\n",
       "    .dataframe tbody tr th {\n",
       "        vertical-align: top;\n",
       "    }\n",
       "\n",
       "    .dataframe thead th {\n",
       "        text-align: right;\n",
       "    }\n",
       "</style>\n",
       "<table border=\"1\" class=\"dataframe\">\n",
       "  <thead>\n",
       "    <tr style=\"text-align: right;\">\n",
       "      <th></th>\n",
       "      <th>label</th>\n",
       "      <th>a</th>\n",
       "      <th>b</th>\n",
       "      <th>c</th>\n",
       "      <th>d</th>\n",
       "    </tr>\n",
       "  </thead>\n",
       "  <tbody>\n",
       "    <tr>\n",
       "      <th>0</th>\n",
       "      <td>0</td>\n",
       "      <td>-10.488853</td>\n",
       "      <td>0.632800</td>\n",
       "      <td>-69</td>\n",
       "      <td>-33</td>\n",
       "    </tr>\n",
       "    <tr>\n",
       "      <th>1</th>\n",
       "      <td>0</td>\n",
       "      <td>8.455742</td>\n",
       "      <td>4.183267</td>\n",
       "      <td>96</td>\n",
       "      <td>-26</td>\n",
       "    </tr>\n",
       "    <tr>\n",
       "      <th>2</th>\n",
       "      <td>0</td>\n",
       "      <td>-15.466566</td>\n",
       "      <td>-0.372287</td>\n",
       "      <td>-1</td>\n",
       "      <td>-11</td>\n",
       "    </tr>\n",
       "    <tr>\n",
       "      <th>3</th>\n",
       "      <td>1</td>\n",
       "      <td>-3.134794</td>\n",
       "      <td>-4.258036</td>\n",
       "      <td>-55</td>\n",
       "      <td>88</td>\n",
       "    </tr>\n",
       "    <tr>\n",
       "      <th>4</th>\n",
       "      <td>1</td>\n",
       "      <td>-8.362027</td>\n",
       "      <td>-9.802120</td>\n",
       "      <td>12</td>\n",
       "      <td>-14</td>\n",
       "    </tr>\n",
       "    <tr>\n",
       "      <th>...</th>\n",
       "      <td>...</td>\n",
       "      <td>...</td>\n",
       "      <td>...</td>\n",
       "      <td>...</td>\n",
       "      <td>...</td>\n",
       "    </tr>\n",
       "    <tr>\n",
       "      <th>995</th>\n",
       "      <td>0</td>\n",
       "      <td>0.659784</td>\n",
       "      <td>1.414005</td>\n",
       "      <td>49</td>\n",
       "      <td>95</td>\n",
       "    </tr>\n",
       "    <tr>\n",
       "      <th>996</th>\n",
       "      <td>0</td>\n",
       "      <td>-12.388167</td>\n",
       "      <td>-3.860623</td>\n",
       "      <td>-5</td>\n",
       "      <td>49</td>\n",
       "    </tr>\n",
       "    <tr>\n",
       "      <th>997</th>\n",
       "      <td>1</td>\n",
       "      <td>-4.294561</td>\n",
       "      <td>-8.472893</td>\n",
       "      <td>-90</td>\n",
       "      <td>-42</td>\n",
       "    </tr>\n",
       "    <tr>\n",
       "      <th>998</th>\n",
       "      <td>1</td>\n",
       "      <td>-6.044883</td>\n",
       "      <td>-5.261760</td>\n",
       "      <td>64</td>\n",
       "      <td>69</td>\n",
       "    </tr>\n",
       "    <tr>\n",
       "      <th>999</th>\n",
       "      <td>1</td>\n",
       "      <td>-3.585282</td>\n",
       "      <td>-4.820821</td>\n",
       "      <td>-20</td>\n",
       "      <td>-7</td>\n",
       "    </tr>\n",
       "  </tbody>\n",
       "</table>\n",
       "<p>1000 rows × 5 columns</p>\n",
       "</div>"
      ],
      "text/plain": [
       "     label          a         b   c   d\n",
       "0        0 -10.488853  0.632800 -69 -33\n",
       "1        0   8.455742  4.183267  96 -26\n",
       "2        0 -15.466566 -0.372287  -1 -11\n",
       "3        1  -3.134794 -4.258036 -55  88\n",
       "4        1  -8.362027 -9.802120  12 -14\n",
       "..     ...        ...       ...  ..  ..\n",
       "995      0   0.659784  1.414005  49  95\n",
       "996      0 -12.388167 -3.860623  -5  49\n",
       "997      1  -4.294561 -8.472893 -90 -42\n",
       "998      1  -6.044883 -5.261760  64  69\n",
       "999      1  -3.585282 -4.820821 -20  -7\n",
       "\n",
       "[1000 rows x 5 columns]"
      ]
     },
     "execution_count": 38,
     "metadata": {},
     "output_type": "execute_result"
    }
   ],
   "source": [
    "query = f\"\"\"SELECT label, a, b, c, d FROM \"{table}\" WHERE index > 4000 ORDER BY index ASC LIMIT 1000 \"\"\"\n",
    "\n",
    "test_df = query_data(query)\n",
    "test_df"
   ]
  },
  {
   "cell_type": "code",
   "execution_count": 39,
   "metadata": {},
   "outputs": [],
   "source": [
    "!mkdir -p tmp"
   ]
  },
  {
   "cell_type": "code",
   "execution_count": 40,
   "metadata": {},
   "outputs": [],
   "source": [
    "training_df.to_csv('tmp/training_data.csv', \n",
    "                   header=True, \n",
    "                   index=False)\n",
    "validation_df.to_csv('tmp/validation_data.csv', \n",
    "                     header=True, \n",
    "                     index=False)\n",
    "test_df.to_csv('tmp/test_data.csv', \n",
    "               header=True, \n",
    "               index=False)"
   ]
  },
  {
   "cell_type": "code",
   "execution_count": 41,
   "metadata": {},
   "outputs": [],
   "source": [
    "path = f\"s3://{s3_bucket_name}/{prefix}\"\n",
    "training_data_path = f\"{path}/input/training_data.csv\"\n",
    "validation_data_path = f\"{path}/input/validation_data.csv\"\n",
    "test_data_path = f\"{path}/input/test_data.csv\""
   ]
  },
  {
   "cell_type": "code",
   "execution_count": 42,
   "metadata": {},
   "outputs": [
    {
     "name": "stdout",
     "output_type": "stream",
     "text": [
      "upload: tmp/training_data.csv to s3://sagemaker-cookbook-bucket/chapter07/input/training_data.csv\n",
      "upload: tmp/validation_data.csv to s3://sagemaker-cookbook-bucket/chapter07/input/validation_data.csv\n",
      "upload: tmp/test_data.csv to s3://sagemaker-cookbook-bucket/chapter07/input/test_data.csv\n"
     ]
    }
   ],
   "source": [
    "!aws s3 cp tmp/training_data.csv {training_data_path}\n",
    "!aws s3 cp tmp/validation_data.csv {validation_data_path}\n",
    "!aws s3 cp tmp/test_data.csv {test_data_path}"
   ]
  },
  {
   "cell_type": "code",
   "execution_count": 43,
   "metadata": {},
   "outputs": [],
   "source": [
    "training_df.to_csv('tmp/training_data_no_header.csv', \n",
    "                   header=False, \n",
    "                   index=False)\n",
    "validation_df.to_csv('tmp/validation_data_no_header.csv', \n",
    "                     header=False, \n",
    "                     index=False)\n",
    "test_df.to_csv('tmp/test_data_no_header.csv', \n",
    "               header=False, \n",
    "               index=False)"
   ]
  },
  {
   "cell_type": "code",
   "execution_count": 44,
   "metadata": {},
   "outputs": [],
   "source": [
    "training_data_path_nh = f\"{path}/input/training_data_no_header.csv\"\n",
    "validation_data_path_nh = f\"{path}/input/validation_data_no_header.csv\"\n",
    "test_data_path_nh = f\"{path}/input/test_data_no_header.csv\""
   ]
  },
  {
   "cell_type": "code",
   "execution_count": 45,
   "metadata": {},
   "outputs": [
    {
     "name": "stdout",
     "output_type": "stream",
     "text": [
      "upload: tmp/training_data_no_header.csv to s3://sagemaker-cookbook-bucket/chapter07/input/training_data_no_header.csv\n",
      "upload: tmp/validation_data_no_header.csv to s3://sagemaker-cookbook-bucket/chapter07/input/validation_data_no_header.csv\n",
      "upload: tmp/test_data_no_header.csv to s3://sagemaker-cookbook-bucket/chapter07/input/test_data_no_header.csv\n"
     ]
    }
   ],
   "source": [
    "!aws s3 cp tmp/training_data_no_header.csv {training_data_path_nh}\n",
    "!aws s3 cp tmp/validation_data_no_header.csv {validation_data_path_nh}\n",
    "!aws s3 cp tmp/test_data_no_header.csv {test_data_path_nh}"
   ]
  },
  {
   "cell_type": "code",
   "execution_count": 46,
   "metadata": {},
   "outputs": [
    {
     "name": "stdout",
     "output_type": "stream",
     "text": [
      "Stored 'training_data_path' (str)\n",
      "Stored 'validation_data_path' (str)\n",
      "Stored 'test_data_path' (str)\n",
      "Stored 'training_data_path_nh' (str)\n",
      "Stored 'validation_data_path_nh' (str)\n",
      "Stored 'test_data_path_nh' (str)\n"
     ]
    }
   ],
   "source": [
    "%store training_data_path\n",
    "%store validation_data_path\n",
    "%store test_data_path\n",
    "%store training_data_path_nh\n",
    "%store validation_data_path_nh\n",
    "%store test_data_path_nh"
   ]
  }
 ],
 "metadata": {
  "instance_type": "ml.t3.medium",
  "kernelspec": {
   "display_name": "Python 3 (Data Science)",
   "language": "python",
   "name": "python3__SAGEMAKER_INTERNAL__arn:aws:sagemaker:us-east-1:081325390199:image/datascience-1.0"
  },
  "language_info": {
   "codemirror_mode": {
    "name": "ipython",
    "version": 3
   },
   "file_extension": ".py",
   "mimetype": "text/x-python",
   "name": "python",
   "nbconvert_exporter": "python",
   "pygments_lexer": "ipython3",
   "version": "3.7.10"
  }
 },
 "nbformat": 4,
 "nbformat_minor": 5
}
