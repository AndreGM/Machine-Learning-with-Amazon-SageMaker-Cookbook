{
 "cells": [
  {
   "cell_type": "markdown",
   "metadata": {},
   "source": [
    "# Generating a synthetic dataset and using the SageMaker Feature Store for storage and management"
   ]
  },
  {
   "cell_type": "markdown",
   "metadata": {},
   "source": [
    "<img align=\"left\" width=\"130\" src=\"https://raw.githubusercontent.com/PacktPublishing/Amazon-SageMaker-Cookbook/master/Extra/cover-small-padded.png\"/>\n",
    "\n",
    "This notebook contains the code to help readers work through one of the recipes of the book [Machine Learning with Amazon SageMaker Cookbook: 80 proven recipes for data scientists and developers to perform ML experiments and deployments](https://www.amazon.com/Machine-Learning-Amazon-SageMaker-Cookbook/dp/1800567030)"
   ]
  },
  {
   "cell_type": "markdown",
   "metadata": {},
   "source": [
    "### How to do it..."
   ]
  },
  {
   "cell_type": "code",
   "execution_count": null,
   "metadata": {},
   "outputs": [],
   "source": [
    "# %load https://raw.githubusercontent.com/PacktPublishing/Amazon-SageMaker-Cookbook/master/Chapter07/scripts/generator.py\n",
    "import random\n",
    "import pandas as pd\n",
    "from time import time, sleep\n",
    "\n",
    "\n",
    "def log(message):\n",
    "    print(f\"[+] {message}\\n\")\n",
    "\n",
    "    \n",
    "def generate_random_score():\n",
    "    return random.randint(60, 100)\n",
    "\n",
    "\n",
    "def generate_list_of_random_scores(total_records=1000):\n",
    "    return list(map(lambda x: generate_random_score(), range(total_records)))\n",
    "\n",
    "\n",
    "def generate_event_time_records(num_records):\n",
    "    time_value = int(round(time()))\n",
    "    output = pd.Series([time_value]*num_records, \n",
    "                       dtype=\"float64\")\n",
    "    \n",
    "    return output\n",
    "\n",
    "\n",
    "def main():\n",
    "    log(\"Generating column values for math, science, technology\")\n",
    "    math = generate_list_of_random_scores()\n",
    "    science = generate_list_of_random_scores()\n",
    "    technology = generate_list_of_random_scores()\n",
    "    \n",
    "    log(\"Generating column values for random1 and random2\")\n",
    "    random1 = generate_list_of_random_scores()\n",
    "    random2 = generate_list_of_random_scores()\n",
    "    sex = [\"male\"] * 800 + [\"female\"] * 200\n",
    "\n",
    "    all_df = pd.DataFrame(dict(sex=sex, \n",
    "                               math=math,\n",
    "                               science=science,\n",
    "                               technology=technology,\n",
    "                               random1=random1,\n",
    "                               random2=random2))\n",
    "\n",
    "    log(\"Computing values for the approved column\")\n",
    "    all_df['approved'] = all_df.apply(lambda row: (row.math + row.science + row.technology) > 240, axis=1)\n",
    "    approved_col = all_df.pop(\"approved\")\n",
    "    all_df.insert(0, \"approved\", approved_col)\n",
    "    all_df.loc[0:599, 'approved'] = True\n",
    "    \n",
    "    log(\"Shuffling DataFrame rows\")\n",
    "    all_df = all_df.sample(frac=1).reset_index(drop=True)\n",
    "    \n",
    "    log(\"Generating the index and event_time column values\")\n",
    "    all_df['index'] = range(1, len(all_df) + 1)\n",
    "    all_df['event_time'] = generate_event_time_records(len(all_df))\n",
    "    \n",
    "    print(all_df)\n",
    "\n",
    "    log(\"Converting approved and sex columns\")\n",
    "    all_df['approved'] = all_df.apply(lambda row: 1 if row.approved else 0, axis=1)\n",
    "    all_df['sex'] = all_df.apply(lambda row: 1 if row.sex == \"male\" else 0, axis=1)\n",
    "\n",
    "    print(all_df)\n",
    "    \n",
    "    return all_df\n",
    "\n",
    "\n",
    "log(\"Running the main() function\")\n",
    "all_df = main()"
   ]
  },
  {
   "cell_type": "code",
   "execution_count": null,
   "metadata": {},
   "outputs": [],
   "source": [
    "all_df"
   ]
  },
  {
   "cell_type": "code",
   "execution_count": null,
   "metadata": {},
   "outputs": [],
   "source": [
    "import boto3\n",
    "import sagemaker\n",
    "from sagemaker.session import Session"
   ]
  },
  {
   "cell_type": "code",
   "execution_count": null,
   "metadata": {},
   "outputs": [],
   "source": [
    "region = boto3.Session().region_name\n",
    "session = boto3.Session(region_name=region)\n",
    "\n",
    "client = session.client(\n",
    "    service_name='sagemaker', \n",
    "    region_name=region\n",
    ")\n",
    "\n",
    "runtime = session.client(\n",
    "    service_name='sagemaker-featurestore-runtime', \n",
    "    region_name=region\n",
    ")\n",
    "\n",
    "feature_store_session = Session(\n",
    "    boto_session=session,\n",
    "    sagemaker_client=client,\n",
    "    sagemaker_featurestore_runtime_client=runtime\n",
    ")"
   ]
  },
  {
   "cell_type": "code",
   "execution_count": null,
   "metadata": {},
   "outputs": [],
   "source": [
    "s3_bucket_name = \"sagemaker-cookbook-bucket\"\n",
    "prefix = \"chapter07\"\n",
    "\n",
    "from sagemaker import get_execution_role\n",
    "role = get_execution_role()"
   ]
  },
  {
   "cell_type": "code",
   "execution_count": null,
   "metadata": {},
   "outputs": [],
   "source": [
    "s3_client = boto3.client('s3', region_name=region)"
   ]
  },
  {
   "cell_type": "code",
   "execution_count": null,
   "metadata": {},
   "outputs": [],
   "source": [
    "feature_group_name = 'cookbook-feature-group'"
   ]
  },
  {
   "cell_type": "code",
   "execution_count": null,
   "metadata": {},
   "outputs": [],
   "source": [
    "from sagemaker.feature_store.feature_group import FeatureGroup\n",
    "\n",
    "feature_group = FeatureGroup(\n",
    "    name=feature_group_name, \n",
    "    sagemaker_session=feature_store_session\n",
    ")"
   ]
  },
  {
   "cell_type": "code",
   "execution_count": null,
   "metadata": {},
   "outputs": [],
   "source": [
    "try:\n",
    "    feature_group.delete()\n",
    "    sleep(30)\n",
    "except:\n",
    "    print(\"Feature group does not exist\")\n",
    "    pass"
   ]
  },
  {
   "cell_type": "code",
   "execution_count": null,
   "metadata": {},
   "outputs": [],
   "source": [
    "%%time\n",
    "\n",
    "feature_group.load_feature_definitions(data_frame=all_df)\n",
    "sleep(1)"
   ]
  },
  {
   "cell_type": "code",
   "execution_count": null,
   "metadata": {},
   "outputs": [],
   "source": [
    "feature_group.create(\n",
    "    s3_uri=f\"s3://{s3_bucket_name}/{prefix}/input\",\n",
    "    record_identifier_name=\"index\",\n",
    "    event_time_feature_name=\"event_time\",\n",
    "    role_arn=role,\n",
    "    enable_online_store=True\n",
    ")\n",
    "\n",
    "sleep(60)"
   ]
  },
  {
   "cell_type": "code",
   "execution_count": null,
   "metadata": {},
   "outputs": [],
   "source": [
    "feature_group.describe()"
   ]
  },
  {
   "cell_type": "code",
   "execution_count": null,
   "metadata": {},
   "outputs": [],
   "source": [
    "feature_group.describe().get(\"FeatureGroupStatus\")"
   ]
  },
  {
   "cell_type": "code",
   "execution_count": null,
   "metadata": {},
   "outputs": [],
   "source": [
    "client.list_feature_groups()"
   ]
  },
  {
   "cell_type": "code",
   "execution_count": null,
   "metadata": {},
   "outputs": [],
   "source": [
    "all_df.dtypes"
   ]
  },
  {
   "cell_type": "code",
   "execution_count": null,
   "metadata": {},
   "outputs": [],
   "source": [
    "%%time\n",
    "\n",
    "feature_group.ingest(\n",
    "    data_frame=all_df, max_workers=3, wait=True\n",
    ")"
   ]
  },
  {
   "cell_type": "code",
   "execution_count": null,
   "metadata": {},
   "outputs": [],
   "source": [
    "runtime.get_record(\n",
    "    FeatureGroupName=feature_group.name, \n",
    "    RecordIdentifierValueAsString=\"300\"\n",
    ")"
   ]
  },
  {
   "cell_type": "code",
   "execution_count": null,
   "metadata": {},
   "outputs": [],
   "source": [
    "%store feature_group_name\n",
    "%store s3_bucket_name\n",
    "%store prefix"
   ]
  }
 ],
 "metadata": {
  "instance_type": "ml.t3.medium",
  "kernelspec": {
   "display_name": "Python 3 (Data Science)",
   "language": "python",
   "name": "python3__SAGEMAKER_INTERNAL__arn:aws:sagemaker:us-east-1:081325390199:image/datascience-1.0"
  },
  "language_info": {
   "codemirror_mode": {
    "name": "ipython",
    "version": 3
   },
   "file_extension": ".py",
   "mimetype": "text/x-python",
   "name": "python",
   "nbconvert_exporter": "python",
   "pygments_lexer": "ipython3",
   "version": "3.7.10"
  }
 },
 "nbformat": 4,
 "nbformat_minor": 4
}
