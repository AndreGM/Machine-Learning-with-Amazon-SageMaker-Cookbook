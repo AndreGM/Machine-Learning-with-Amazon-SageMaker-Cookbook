{
 "cells": [
  {
   "cell_type": "code",
   "execution_count": 26,
   "metadata": {},
   "outputs": [
    {
     "name": "stdout",
     "output_type": "stream",
     "text": [
      "[+] Running the main() function\n",
      "\n",
      "[+] Generating column values for math, science, technology\n",
      "\n",
      "[+] Generating column values for random1 and random2\n",
      "\n",
      "[+] Computing values for the approved column\n",
      "\n",
      "[+] Shuffling DataFrame rows\n",
      "\n",
      "[+] Generating the index and event_time column values\n",
      "\n",
      "     approved     sex  math  science  technology  random1  random2  index  \\\n",
      "0        True    male    97       97          98       93       82      1   \n",
      "1        True    male    85       68          62       92       65      2   \n",
      "2        True    male    99      100          80       71       60      3   \n",
      "3        True    male    91       79          84       60       70      4   \n",
      "4        True    male    73       86          66       70       98      5   \n",
      "..        ...     ...   ...      ...         ...      ...      ...    ...   \n",
      "995      True  female    99       62          92       71       75    996   \n",
      "996      True  female    85       74          91       69       63    997   \n",
      "997      True    male    72       99          86       61       65    998   \n",
      "998      True    male    79       89          79       98       80    999   \n",
      "999      True    male    72       97          79       87       60   1000   \n",
      "\n",
      "       event_time  \n",
      "0    1.623605e+09  \n",
      "1    1.623605e+09  \n",
      "2    1.623605e+09  \n",
      "3    1.623605e+09  \n",
      "4    1.623605e+09  \n",
      "..            ...  \n",
      "995  1.623605e+09  \n",
      "996  1.623605e+09  \n",
      "997  1.623605e+09  \n",
      "998  1.623605e+09  \n",
      "999  1.623605e+09  \n",
      "\n",
      "[1000 rows x 9 columns]\n",
      "[+] Converting approved and sex columns\n",
      "\n",
      "     approved  sex  math  science  technology  random1  random2  index  \\\n",
      "0           1    1    97       97          98       93       82      1   \n",
      "1           1    1    85       68          62       92       65      2   \n",
      "2           1    1    99      100          80       71       60      3   \n",
      "3           1    1    91       79          84       60       70      4   \n",
      "4           1    1    73       86          66       70       98      5   \n",
      "..        ...  ...   ...      ...         ...      ...      ...    ...   \n",
      "995         1    0    99       62          92       71       75    996   \n",
      "996         1    0    85       74          91       69       63    997   \n",
      "997         1    1    72       99          86       61       65    998   \n",
      "998         1    1    79       89          79       98       80    999   \n",
      "999         1    1    72       97          79       87       60   1000   \n",
      "\n",
      "       event_time  \n",
      "0    1.623605e+09  \n",
      "1    1.623605e+09  \n",
      "2    1.623605e+09  \n",
      "3    1.623605e+09  \n",
      "4    1.623605e+09  \n",
      "..            ...  \n",
      "995  1.623605e+09  \n",
      "996  1.623605e+09  \n",
      "997  1.623605e+09  \n",
      "998  1.623605e+09  \n",
      "999  1.623605e+09  \n",
      "\n",
      "[1000 rows x 9 columns]\n"
     ]
    }
   ],
   "source": [
    "# %load https://raw.githubusercontent.com/PacktPublishing/Amazon-SageMaker-Cookbook/master/Chapter07/scripts/generator.py\n",
    "import random\n",
    "import pandas as pd\n",
    "from time import time, sleep\n",
    "\n",
    "\n",
    "def log(message):\n",
    "    print(f\"[+] {message}\\n\")\n",
    "\n",
    "    \n",
    "def generate_random_score():\n",
    "    return random.randint(60, 100)\n",
    "\n",
    "\n",
    "def generate_list_of_random_scores(total_records=1000):\n",
    "    return list(map(lambda x: generate_random_score(), range(total_records)))\n",
    "\n",
    "\n",
    "def generate_event_time_records(num_records):\n",
    "    time_value = int(round(time()))\n",
    "    output = pd.Series([time_value]*num_records, \n",
    "                       dtype=\"float64\")\n",
    "    \n",
    "    return output\n",
    "\n",
    "\n",
    "def main():\n",
    "    log(\"Generating column values for math, science, technology\")\n",
    "    math = generate_list_of_random_scores()\n",
    "    science = generate_list_of_random_scores()\n",
    "    technology = generate_list_of_random_scores()\n",
    "    \n",
    "    log(\"Generating column values for random1 and random2\")\n",
    "    random1 = generate_list_of_random_scores()\n",
    "    random2 = generate_list_of_random_scores()\n",
    "    sex = [\"male\"] * 800 + [\"female\"] * 200\n",
    "\n",
    "    all_df = pd.DataFrame(dict(sex=sex, \n",
    "                               math=math,\n",
    "                               science=science,\n",
    "                               technology=technology,\n",
    "                               random1=random1,\n",
    "                               random2=random2))\n",
    "\n",
    "    log(\"Computing values for the approved column\")\n",
    "    all_df['approved'] = all_df.apply(lambda row: (row.math + row.science + row.technology) > 240, axis=1)\n",
    "    approved_col = all_df.pop(\"approved\")\n",
    "    all_df.insert(0, \"approved\", approved_col)\n",
    "    all_df.loc[0:599, 'approved'] = True\n",
    "    \n",
    "    log(\"Shuffling DataFrame rows\")\n",
    "    all_df = all_df.sample(frac=1).reset_index(drop=True)\n",
    "    \n",
    "    log(\"Generating the index and event_time column values\")\n",
    "    all_df['index'] = range(1, len(all_df) + 1)\n",
    "    all_df['event_time'] = generate_event_time_records(len(all_df))\n",
    "    \n",
    "    print(all_df)\n",
    "\n",
    "    log(\"Converting approved and sex columns\")\n",
    "    all_df['approved'] = all_df.apply(lambda row: 1 if row.approved else 0, axis=1)\n",
    "    all_df['sex'] = all_df.apply(lambda row: 1 if row.sex == \"male\" else 0, axis=1)\n",
    "\n",
    "    print(all_df)\n",
    "    \n",
    "    return all_df\n",
    "\n",
    "\n",
    "log(\"Running the main() function\")\n",
    "all_df = main()"
   ]
  },
  {
   "cell_type": "code",
   "execution_count": 27,
   "metadata": {},
   "outputs": [
    {
     "data": {
      "text/html": [
       "<div>\n",
       "<style scoped>\n",
       "    .dataframe tbody tr th:only-of-type {\n",
       "        vertical-align: middle;\n",
       "    }\n",
       "\n",
       "    .dataframe tbody tr th {\n",
       "        vertical-align: top;\n",
       "    }\n",
       "\n",
       "    .dataframe thead th {\n",
       "        text-align: right;\n",
       "    }\n",
       "</style>\n",
       "<table border=\"1\" class=\"dataframe\">\n",
       "  <thead>\n",
       "    <tr style=\"text-align: right;\">\n",
       "      <th></th>\n",
       "      <th>approved</th>\n",
       "      <th>sex</th>\n",
       "      <th>math</th>\n",
       "      <th>science</th>\n",
       "      <th>technology</th>\n",
       "      <th>random1</th>\n",
       "      <th>random2</th>\n",
       "      <th>index</th>\n",
       "      <th>event_time</th>\n",
       "    </tr>\n",
       "  </thead>\n",
       "  <tbody>\n",
       "    <tr>\n",
       "      <th>0</th>\n",
       "      <td>1</td>\n",
       "      <td>1</td>\n",
       "      <td>97</td>\n",
       "      <td>97</td>\n",
       "      <td>98</td>\n",
       "      <td>93</td>\n",
       "      <td>82</td>\n",
       "      <td>1</td>\n",
       "      <td>1.623605e+09</td>\n",
       "    </tr>\n",
       "    <tr>\n",
       "      <th>1</th>\n",
       "      <td>1</td>\n",
       "      <td>1</td>\n",
       "      <td>85</td>\n",
       "      <td>68</td>\n",
       "      <td>62</td>\n",
       "      <td>92</td>\n",
       "      <td>65</td>\n",
       "      <td>2</td>\n",
       "      <td>1.623605e+09</td>\n",
       "    </tr>\n",
       "    <tr>\n",
       "      <th>2</th>\n",
       "      <td>1</td>\n",
       "      <td>1</td>\n",
       "      <td>99</td>\n",
       "      <td>100</td>\n",
       "      <td>80</td>\n",
       "      <td>71</td>\n",
       "      <td>60</td>\n",
       "      <td>3</td>\n",
       "      <td>1.623605e+09</td>\n",
       "    </tr>\n",
       "    <tr>\n",
       "      <th>3</th>\n",
       "      <td>1</td>\n",
       "      <td>1</td>\n",
       "      <td>91</td>\n",
       "      <td>79</td>\n",
       "      <td>84</td>\n",
       "      <td>60</td>\n",
       "      <td>70</td>\n",
       "      <td>4</td>\n",
       "      <td>1.623605e+09</td>\n",
       "    </tr>\n",
       "    <tr>\n",
       "      <th>4</th>\n",
       "      <td>1</td>\n",
       "      <td>1</td>\n",
       "      <td>73</td>\n",
       "      <td>86</td>\n",
       "      <td>66</td>\n",
       "      <td>70</td>\n",
       "      <td>98</td>\n",
       "      <td>5</td>\n",
       "      <td>1.623605e+09</td>\n",
       "    </tr>\n",
       "    <tr>\n",
       "      <th>...</th>\n",
       "      <td>...</td>\n",
       "      <td>...</td>\n",
       "      <td>...</td>\n",
       "      <td>...</td>\n",
       "      <td>...</td>\n",
       "      <td>...</td>\n",
       "      <td>...</td>\n",
       "      <td>...</td>\n",
       "      <td>...</td>\n",
       "    </tr>\n",
       "    <tr>\n",
       "      <th>995</th>\n",
       "      <td>1</td>\n",
       "      <td>0</td>\n",
       "      <td>99</td>\n",
       "      <td>62</td>\n",
       "      <td>92</td>\n",
       "      <td>71</td>\n",
       "      <td>75</td>\n",
       "      <td>996</td>\n",
       "      <td>1.623605e+09</td>\n",
       "    </tr>\n",
       "    <tr>\n",
       "      <th>996</th>\n",
       "      <td>1</td>\n",
       "      <td>0</td>\n",
       "      <td>85</td>\n",
       "      <td>74</td>\n",
       "      <td>91</td>\n",
       "      <td>69</td>\n",
       "      <td>63</td>\n",
       "      <td>997</td>\n",
       "      <td>1.623605e+09</td>\n",
       "    </tr>\n",
       "    <tr>\n",
       "      <th>997</th>\n",
       "      <td>1</td>\n",
       "      <td>1</td>\n",
       "      <td>72</td>\n",
       "      <td>99</td>\n",
       "      <td>86</td>\n",
       "      <td>61</td>\n",
       "      <td>65</td>\n",
       "      <td>998</td>\n",
       "      <td>1.623605e+09</td>\n",
       "    </tr>\n",
       "    <tr>\n",
       "      <th>998</th>\n",
       "      <td>1</td>\n",
       "      <td>1</td>\n",
       "      <td>79</td>\n",
       "      <td>89</td>\n",
       "      <td>79</td>\n",
       "      <td>98</td>\n",
       "      <td>80</td>\n",
       "      <td>999</td>\n",
       "      <td>1.623605e+09</td>\n",
       "    </tr>\n",
       "    <tr>\n",
       "      <th>999</th>\n",
       "      <td>1</td>\n",
       "      <td>1</td>\n",
       "      <td>72</td>\n",
       "      <td>97</td>\n",
       "      <td>79</td>\n",
       "      <td>87</td>\n",
       "      <td>60</td>\n",
       "      <td>1000</td>\n",
       "      <td>1.623605e+09</td>\n",
       "    </tr>\n",
       "  </tbody>\n",
       "</table>\n",
       "<p>1000 rows × 9 columns</p>\n",
       "</div>"
      ],
      "text/plain": [
       "     approved  sex  math  science  technology  random1  random2  index  \\\n",
       "0           1    1    97       97          98       93       82      1   \n",
       "1           1    1    85       68          62       92       65      2   \n",
       "2           1    1    99      100          80       71       60      3   \n",
       "3           1    1    91       79          84       60       70      4   \n",
       "4           1    1    73       86          66       70       98      5   \n",
       "..        ...  ...   ...      ...         ...      ...      ...    ...   \n",
       "995         1    0    99       62          92       71       75    996   \n",
       "996         1    0    85       74          91       69       63    997   \n",
       "997         1    1    72       99          86       61       65    998   \n",
       "998         1    1    79       89          79       98       80    999   \n",
       "999         1    1    72       97          79       87       60   1000   \n",
       "\n",
       "       event_time  \n",
       "0    1.623605e+09  \n",
       "1    1.623605e+09  \n",
       "2    1.623605e+09  \n",
       "3    1.623605e+09  \n",
       "4    1.623605e+09  \n",
       "..            ...  \n",
       "995  1.623605e+09  \n",
       "996  1.623605e+09  \n",
       "997  1.623605e+09  \n",
       "998  1.623605e+09  \n",
       "999  1.623605e+09  \n",
       "\n",
       "[1000 rows x 9 columns]"
      ]
     },
     "execution_count": 27,
     "metadata": {},
     "output_type": "execute_result"
    }
   ],
   "source": [
    "all_df"
   ]
  },
  {
   "cell_type": "code",
   "execution_count": 28,
   "metadata": {},
   "outputs": [],
   "source": [
    "import boto3\n",
    "import sagemaker\n",
    "from sagemaker.session import Session"
   ]
  },
  {
   "cell_type": "code",
   "execution_count": 29,
   "metadata": {},
   "outputs": [],
   "source": [
    "region = boto3.Session().region_name\n",
    "session = boto3.Session(region_name=region)\n",
    "\n",
    "client = session.client(\n",
    "    service_name='sagemaker', \n",
    "    region_name=region\n",
    ")\n",
    "\n",
    "runtime = session.client(\n",
    "    service_name='sagemaker-featurestore-runtime', \n",
    "    region_name=region\n",
    ")\n",
    "\n",
    "feature_store_session = Session(\n",
    "    boto_session=session,\n",
    "    sagemaker_client=client,\n",
    "    sagemaker_featurestore_runtime_client=runtime\n",
    ")"
   ]
  },
  {
   "cell_type": "code",
   "execution_count": 30,
   "metadata": {},
   "outputs": [],
   "source": [
    "s3_bucket_name = \"sagemaker-cookbook-bucket\"\n",
    "prefix = \"chapter07\"\n",
    "\n",
    "from sagemaker import get_execution_role\n",
    "role = get_execution_role()"
   ]
  },
  {
   "cell_type": "code",
   "execution_count": 31,
   "metadata": {},
   "outputs": [],
   "source": [
    "s3_client = boto3.client('s3', region_name=region)"
   ]
  },
  {
   "cell_type": "code",
   "execution_count": 32,
   "metadata": {},
   "outputs": [],
   "source": [
    "feature_group_name = 'cookbook-feature-group'"
   ]
  },
  {
   "cell_type": "code",
   "execution_count": 33,
   "metadata": {},
   "outputs": [],
   "source": [
    "from sagemaker.feature_store.feature_group import FeatureGroup\n",
    "\n",
    "feature_group = FeatureGroup(\n",
    "    name=feature_group_name, \n",
    "    sagemaker_session=feature_store_session\n",
    ")"
   ]
  },
  {
   "cell_type": "code",
   "execution_count": 34,
   "metadata": {},
   "outputs": [],
   "source": [
    "try:\n",
    "    feature_group.delete()\n",
    "    sleep(30)\n",
    "except:\n",
    "    print(\"Feature group does not exist\")\n",
    "    pass"
   ]
  },
  {
   "cell_type": "code",
   "execution_count": 35,
   "metadata": {},
   "outputs": [
    {
     "name": "stdout",
     "output_type": "stream",
     "text": [
      "CPU times: user 0 ns, sys: 2.13 ms, total: 2.13 ms\n",
      "Wall time: 1 s\n"
     ]
    }
   ],
   "source": [
    "%%time\n",
    "\n",
    "feature_group.load_feature_definitions(data_frame=all_df)\n",
    "sleep(1)"
   ]
  },
  {
   "cell_type": "code",
   "execution_count": 36,
   "metadata": {},
   "outputs": [],
   "source": [
    "feature_group.create(\n",
    "    s3_uri=f\"s3://{s3_bucket_name}/{prefix}/input\",\n",
    "    record_identifier_name=\"index\",\n",
    "    event_time_feature_name=\"event_time\",\n",
    "    role_arn=role,\n",
    "    enable_online_store=True\n",
    ")\n",
    "\n",
    "sleep(60)"
   ]
  },
  {
   "cell_type": "code",
   "execution_count": 37,
   "metadata": {},
   "outputs": [
    {
     "data": {
      "text/plain": [
       "{'FeatureGroupArn': 'arn:aws:sagemaker:us-east-1:581320662326:feature-group/cookbook-feature-group',\n",
       " 'FeatureGroupName': 'cookbook-feature-group',\n",
       " 'RecordIdentifierFeatureName': 'index',\n",
       " 'EventTimeFeatureName': 'event_time',\n",
       " 'FeatureDefinitions': [{'FeatureName': 'approved', 'FeatureType': 'Integral'},\n",
       "  {'FeatureName': 'sex', 'FeatureType': 'Integral'},\n",
       "  {'FeatureName': 'math', 'FeatureType': 'Integral'},\n",
       "  {'FeatureName': 'science', 'FeatureType': 'Integral'},\n",
       "  {'FeatureName': 'technology', 'FeatureType': 'Integral'},\n",
       "  {'FeatureName': 'random1', 'FeatureType': 'Integral'},\n",
       "  {'FeatureName': 'random2', 'FeatureType': 'Integral'},\n",
       "  {'FeatureName': 'index', 'FeatureType': 'Integral'},\n",
       "  {'FeatureName': 'event_time', 'FeatureType': 'Fractional'}],\n",
       " 'CreationTime': datetime.datetime(2021, 6, 13, 17, 15, 42, 30000, tzinfo=tzlocal()),\n",
       " 'OnlineStoreConfig': {'EnableOnlineStore': True},\n",
       " 'OfflineStoreConfig': {'S3StorageConfig': {'S3Uri': 's3://sagemaker-cookbook-bucket/chapter07/input',\n",
       "   'ResolvedOutputS3Uri': 's3://sagemaker-cookbook-bucket/chapter07/input/581320662326/sagemaker/us-east-1/offline-store/cookbook-feature-group-1623604542/data'},\n",
       "  'DisableGlueTableCreation': False,\n",
       "  'DataCatalogConfig': {'TableName': 'cookbook-feature-group-1623604542',\n",
       "   'Catalog': 'AwsDataCatalog',\n",
       "   'Database': 'sagemaker_featurestore'}},\n",
       " 'RoleArn': 'arn:aws:iam::581320662326:role/SuperAdminRole',\n",
       " 'FeatureGroupStatus': 'Created',\n",
       " 'ResponseMetadata': {'RequestId': 'f67f3434-e47b-47cf-b32b-856b598fb3e1',\n",
       "  'HTTPStatusCode': 200,\n",
       "  'HTTPHeaders': {'x-amzn-requestid': 'f67f3434-e47b-47cf-b32b-856b598fb3e1',\n",
       "   'content-type': 'application/x-amz-json-1.1',\n",
       "   'content-length': '1614',\n",
       "   'date': 'Sun, 13 Jun 2021 17:16:42 GMT'},\n",
       "  'RetryAttempts': 0}}"
      ]
     },
     "execution_count": 37,
     "metadata": {},
     "output_type": "execute_result"
    }
   ],
   "source": [
    "feature_group.describe()"
   ]
  },
  {
   "cell_type": "code",
   "execution_count": 38,
   "metadata": {},
   "outputs": [
    {
     "data": {
      "text/plain": [
       "'Created'"
      ]
     },
     "execution_count": 38,
     "metadata": {},
     "output_type": "execute_result"
    }
   ],
   "source": [
    "feature_group.describe().get(\"FeatureGroupStatus\")"
   ]
  },
  {
   "cell_type": "code",
   "execution_count": 39,
   "metadata": {},
   "outputs": [
    {
     "data": {
      "text/plain": [
       "{'FeatureGroupSummaries': [{'FeatureGroupName': 'feature-group-16-17-50-17',\n",
       "   'FeatureGroupArn': 'arn:aws:sagemaker:us-east-1:581320662326:feature-group/feature-group-16-17-50-17',\n",
       "   'CreationTime': datetime.datetime(2021, 1, 16, 17, 50, 42, 246000, tzinfo=tzlocal()),\n",
       "   'FeatureGroupStatus': 'Created',\n",
       "   'OfflineStoreStatus': {'Status': 'Active'}},\n",
       "  {'FeatureGroupName': 'feature-group-10-20-17-14',\n",
       "   'FeatureGroupArn': 'arn:aws:sagemaker:us-east-1:581320662326:feature-group/feature-group-10-20-17-14',\n",
       "   'CreationTime': datetime.datetime(2021, 1, 10, 20, 26, 30, 564000, tzinfo=tzlocal()),\n",
       "   'FeatureGroupStatus': 'Created',\n",
       "   'OfflineStoreStatus': {'Status': 'Active'}},\n",
       "  {'FeatureGroupName': 'cookbook-feature-group-07',\n",
       "   'FeatureGroupArn': 'arn:aws:sagemaker:us-east-1:581320662326:feature-group/cookbook-feature-group-07',\n",
       "   'CreationTime': datetime.datetime(2021, 1, 17, 0, 29, 3, 52000, tzinfo=tzlocal()),\n",
       "   'FeatureGroupStatus': 'Created',\n",
       "   'OfflineStoreStatus': {'Status': 'Active'}},\n",
       "  {'FeatureGroupName': 'cookbook-feature-group-06',\n",
       "   'FeatureGroupArn': 'arn:aws:sagemaker:us-east-1:581320662326:feature-group/cookbook-feature-group-06',\n",
       "   'CreationTime': datetime.datetime(2021, 1, 16, 23, 0, 38, 35000, tzinfo=tzlocal()),\n",
       "   'FeatureGroupStatus': 'Created',\n",
       "   'OfflineStoreStatus': {'Status': 'Active'}},\n",
       "  {'FeatureGroupName': 'cookbook-feature-group-05',\n",
       "   'FeatureGroupArn': 'arn:aws:sagemaker:us-east-1:581320662326:feature-group/cookbook-feature-group-05',\n",
       "   'CreationTime': datetime.datetime(2021, 1, 16, 22, 53, 15, 468000, tzinfo=tzlocal()),\n",
       "   'FeatureGroupStatus': 'Created'},\n",
       "  {'FeatureGroupName': 'cookbook-feature-group-04',\n",
       "   'FeatureGroupArn': 'arn:aws:sagemaker:us-east-1:581320662326:feature-group/cookbook-feature-group-04',\n",
       "   'CreationTime': datetime.datetime(2021, 1, 16, 22, 50, 24, 138000, tzinfo=tzlocal()),\n",
       "   'FeatureGroupStatus': 'Created'},\n",
       "  {'FeatureGroupName': 'cookbook-feature-group-03',\n",
       "   'FeatureGroupArn': 'arn:aws:sagemaker:us-east-1:581320662326:feature-group/cookbook-feature-group-03',\n",
       "   'CreationTime': datetime.datetime(2021, 1, 16, 22, 46, 28, 212000, tzinfo=tzlocal()),\n",
       "   'FeatureGroupStatus': 'Created',\n",
       "   'OfflineStoreStatus': {'Status': 'Active'}},\n",
       "  {'FeatureGroupName': 'cookbook-feature-group-02',\n",
       "   'FeatureGroupArn': 'arn:aws:sagemaker:us-east-1:581320662326:feature-group/cookbook-feature-group-02',\n",
       "   'CreationTime': datetime.datetime(2021, 1, 16, 22, 36, 34, 344000, tzinfo=tzlocal()),\n",
       "   'FeatureGroupStatus': 'Created'},\n",
       "  {'FeatureGroupName': 'cookbook-feature-group-01',\n",
       "   'FeatureGroupArn': 'arn:aws:sagemaker:us-east-1:581320662326:feature-group/cookbook-feature-group-01',\n",
       "   'CreationTime': datetime.datetime(2021, 1, 16, 22, 26, 52, 314000, tzinfo=tzlocal()),\n",
       "   'FeatureGroupStatus': 'Created'},\n",
       "  {'FeatureGroupName': 'cookbook-feature-group',\n",
       "   'FeatureGroupArn': 'arn:aws:sagemaker:us-east-1:581320662326:feature-group/cookbook-feature-group',\n",
       "   'CreationTime': datetime.datetime(2021, 6, 13, 17, 15, 42, 30000, tzinfo=tzlocal()),\n",
       "   'FeatureGroupStatus': 'Created'}],\n",
       " 'ResponseMetadata': {'RequestId': 'd675ac41-c46f-4cb1-81f8-f2b58afa47f0',\n",
       "  'HTTPStatusCode': 200,\n",
       "  'HTTPHeaders': {'x-amzn-requestid': 'd675ac41-c46f-4cb1-81f8-f2b58afa47f0',\n",
       "   'content-type': 'application/x-amz-json-1.1',\n",
       "   'content-length': '2355',\n",
       "   'date': 'Sun, 13 Jun 2021 17:16:42 GMT'},\n",
       "  'RetryAttempts': 0}}"
      ]
     },
     "execution_count": 39,
     "metadata": {},
     "output_type": "execute_result"
    }
   ],
   "source": [
    "client.list_feature_groups()"
   ]
  },
  {
   "cell_type": "code",
   "execution_count": 40,
   "metadata": {},
   "outputs": [
    {
     "data": {
      "text/plain": [
       "approved        int64\n",
       "sex             int64\n",
       "math            int64\n",
       "science         int64\n",
       "technology      int64\n",
       "random1         int64\n",
       "random2         int64\n",
       "index           int64\n",
       "event_time    float64\n",
       "dtype: object"
      ]
     },
     "execution_count": 40,
     "metadata": {},
     "output_type": "execute_result"
    }
   ],
   "source": [
    "all_df.dtypes"
   ]
  },
  {
   "cell_type": "code",
   "execution_count": 41,
   "metadata": {},
   "outputs": [
    {
     "name": "stdout",
     "output_type": "stream",
     "text": [
      "CPU times: user 20.4 ms, sys: 1.84 ms, total: 22.3 ms\n",
      "Wall time: 5.04 s\n"
     ]
    },
    {
     "data": {
      "text/plain": [
       "IngestionManagerPandas(feature_group_name='cookbook-feature-group', sagemaker_fs_runtime_client_config=<botocore.config.Config object at 0x7f2aff912410>, max_workers=3, max_processes=1, _async_result=<multiprocess.pool.MapResult object at 0x7f2aff40f410>, _processing_pool=<pool ProcessPool(ncpus=1)>, _failed_indices=[])"
      ]
     },
     "execution_count": 41,
     "metadata": {},
     "output_type": "execute_result"
    }
   ],
   "source": [
    "%%time\n",
    "\n",
    "feature_group.ingest(\n",
    "    data_frame=all_df, max_workers=3, wait=True\n",
    ")"
   ]
  },
  {
   "cell_type": "code",
   "execution_count": 42,
   "metadata": {},
   "outputs": [
    {
     "data": {
      "text/plain": [
       "{'ResponseMetadata': {'RequestId': '3f780b7f-ec25-4bb3-8381-d61a46f4c3b8',\n",
       "  'HTTPStatusCode': 200,\n",
       "  'HTTPHeaders': {'x-amzn-requestid': '3f780b7f-ec25-4bb3-8381-d61a46f4c3b8',\n",
       "   'content-type': 'application/json',\n",
       "   'content-length': '442',\n",
       "   'date': 'Sun, 13 Jun 2021 17:16:48 GMT'},\n",
       "  'RetryAttempts': 0},\n",
       " 'Record': [{'FeatureName': 'approved', 'ValueAsString': '0'},\n",
       "  {'FeatureName': 'sex', 'ValueAsString': '0'},\n",
       "  {'FeatureName': 'math', 'ValueAsString': '65'},\n",
       "  {'FeatureName': 'science', 'ValueAsString': '61'},\n",
       "  {'FeatureName': 'technology', 'ValueAsString': '86'},\n",
       "  {'FeatureName': 'random1', 'ValueAsString': '91'},\n",
       "  {'FeatureName': 'random2', 'ValueAsString': '68'},\n",
       "  {'FeatureName': 'index', 'ValueAsString': '300'},\n",
       "  {'FeatureName': 'event_time', 'ValueAsString': '1623604510.0'}]}"
      ]
     },
     "execution_count": 42,
     "metadata": {},
     "output_type": "execute_result"
    }
   ],
   "source": [
    "runtime.get_record(\n",
    "    FeatureGroupName=feature_group.name, \n",
    "    RecordIdentifierValueAsString=\"300\"\n",
    ")"
   ]
  },
  {
   "cell_type": "code",
   "execution_count": 43,
   "metadata": {},
   "outputs": [
    {
     "name": "stdout",
     "output_type": "stream",
     "text": [
      "Stored 'feature_group_name' (str)\n",
      "Stored 's3_bucket_name' (str)\n",
      "Stored 'prefix' (str)\n"
     ]
    }
   ],
   "source": [
    "%store feature_group_name\n",
    "%store s3_bucket_name\n",
    "%store prefix"
   ]
  }
 ],
 "metadata": {
  "instance_type": "ml.t3.medium",
  "kernelspec": {
   "display_name": "Python 3 (Data Science)",
   "language": "python",
   "name": "python3__SAGEMAKER_INTERNAL__arn:aws:sagemaker:us-east-1:081325390199:image/datascience-1.0"
  },
  "language_info": {
   "codemirror_mode": {
    "name": "ipython",
    "version": 3
   },
   "file_extension": ".py",
   "mimetype": "text/x-python",
   "name": "python",
   "nbconvert_exporter": "python",
   "pygments_lexer": "ipython3",
   "version": "3.7.10"
  }
 },
 "nbformat": 4,
 "nbformat_minor": 4
}
