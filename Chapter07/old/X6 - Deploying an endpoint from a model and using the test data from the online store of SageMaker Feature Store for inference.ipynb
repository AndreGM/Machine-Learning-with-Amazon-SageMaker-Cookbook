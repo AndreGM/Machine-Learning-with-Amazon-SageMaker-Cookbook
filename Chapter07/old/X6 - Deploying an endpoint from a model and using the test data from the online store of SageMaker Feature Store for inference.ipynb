{
 "cells": [
  {
   "cell_type": "code",
   "execution_count": 1,
   "metadata": {},
   "outputs": [],
   "source": [
    "import sagemaker\n",
    "\n",
    "session = sagemaker.Session()\n",
    "region = session.boto_region_name\n",
    "role = sagemaker.get_execution_role()"
   ]
  },
  {
   "cell_type": "code",
   "execution_count": 2,
   "metadata": {},
   "outputs": [],
   "source": [
    "%store -r model_name"
   ]
  },
  {
   "cell_type": "code",
   "execution_count": 3,
   "metadata": {},
   "outputs": [],
   "source": [
    "import boto3\n",
    "client = boto3.client('sagemaker')"
   ]
  },
  {
   "cell_type": "code",
   "execution_count": 4,
   "metadata": {},
   "outputs": [
    {
     "data": {
      "text/plain": [
       "{'ModelName': 'model-ACBOE',\n",
       " 'PrimaryContainer': {'Image': '683313688378.dkr.ecr.us-east-1.amazonaws.com/sagemaker-xgboost:1.2-1',\n",
       "  'Mode': 'SingleModel',\n",
       "  'ModelDataUrl': 's3://sagemaker-us-east-1-581320662326/sagemaker-xgboost-2021-05-24-14-02-24-886/output/model.tar.gz',\n",
       "  'Environment': {}},\n",
       " 'ExecutionRoleArn': 'arn:aws:iam::581320662326:role/SuperAdminRole',\n",
       " 'CreationTime': datetime.datetime(2021, 5, 24, 14, 16, 28, 85000, tzinfo=tzlocal()),\n",
       " 'ModelArn': 'arn:aws:sagemaker:us-east-1:581320662326:model/model-acboe',\n",
       " 'EnableNetworkIsolation': False,\n",
       " 'ResponseMetadata': {'RequestId': '1ff5ee42-077b-482f-8917-1f01cb75aa3a',\n",
       "  'HTTPStatusCode': 200,\n",
       "  'HTTPHeaders': {'x-amzn-requestid': '1ff5ee42-077b-482f-8917-1f01cb75aa3a',\n",
       "   'content-type': 'application/x-amz-json-1.1',\n",
       "   'content-length': '484',\n",
       "   'date': 'Mon, 24 May 2021 14:50:29 GMT'},\n",
       "  'RetryAttempts': 0}}"
      ]
     },
     "execution_count": 4,
     "metadata": {},
     "output_type": "execute_result"
    }
   ],
   "source": [
    "response = client.describe_model(ModelName=model_name)\n",
    "response"
   ]
  },
  {
   "cell_type": "code",
   "execution_count": 5,
   "metadata": {},
   "outputs": [
    {
     "data": {
      "text/plain": [
       "'683313688378.dkr.ecr.us-east-1.amazonaws.com/sagemaker-xgboost:1.2-1'"
      ]
     },
     "execution_count": 5,
     "metadata": {},
     "output_type": "execute_result"
    }
   ],
   "source": [
    "container = response['PrimaryContainer']['Image']\n",
    "container"
   ]
  },
  {
   "cell_type": "code",
   "execution_count": 6,
   "metadata": {},
   "outputs": [
    {
     "data": {
      "text/plain": [
       "'s3://sagemaker-us-east-1-581320662326/sagemaker-xgboost-2021-05-24-14-02-24-886/output/model.tar.gz'"
      ]
     },
     "execution_count": 6,
     "metadata": {},
     "output_type": "execute_result"
    }
   ],
   "source": [
    "model_data = response['PrimaryContainer']['ModelDataUrl']\n",
    "model_data"
   ]
  },
  {
   "cell_type": "code",
   "execution_count": 7,
   "metadata": {},
   "outputs": [
    {
     "data": {
      "text/plain": [
       "{'model_data': 's3://sagemaker-us-east-1-581320662326/sagemaker-xgboost-2021-05-24-14-02-24-886/output/model.tar.gz',\n",
       " 'image_uri': '683313688378.dkr.ecr.us-east-1.amazonaws.com/sagemaker-xgboost:1.2-1',\n",
       " 'role': 'arn:aws:iam::581320662326:role/SuperAdminRole',\n",
       " 'predictor_cls': None,\n",
       " 'env': {},\n",
       " 'name': 'model-ACBOE',\n",
       " '_base_name': None,\n",
       " 'vpc_config': None,\n",
       " 'sagemaker_session': <sagemaker.session.Session at 0x7fa440769ed0>,\n",
       " 'endpoint_name': None,\n",
       " '_is_compiled_model': False,\n",
       " '_compilation_job_name': None,\n",
       " '_is_edge_packaged_model': False,\n",
       " '_enable_network_isolation': False,\n",
       " 'model_kms_key': None,\n",
       " 'image_config': None}"
      ]
     },
     "execution_count": 7,
     "metadata": {},
     "output_type": "execute_result"
    }
   ],
   "source": [
    "model = sagemaker.model.Model(\n",
    "    name=model_name,\n",
    "    image_uri=container,\n",
    "    model_data=model_data,\n",
    "    role=role,\n",
    "    sagemaker_session=session\n",
    ")"
   ]
  },
  {
   "cell_type": "code",
   "execution_count": 9,
   "metadata": {},
   "outputs": [
    {
     "name": "stderr",
     "output_type": "stream",
     "text": [
      "Using already existing model: model-ACBOE\n"
     ]
    },
    {
     "name": "stdout",
     "output_type": "stream",
     "text": [
      "---------------!CPU times: user 251 ms, sys: 11.6 ms, total: 263 ms\n",
      "Wall time: 7min 32s\n"
     ]
    }
   ],
   "source": [
    "%%time\n",
    "\n",
    "model.deploy(\n",
    "    initial_instance_count = 1, \n",
    "    instance_type = 'ml.m5.large'\n",
    ")"
   ]
  },
  {
   "cell_type": "code",
   "execution_count": 10,
   "metadata": {},
   "outputs": [
    {
     "data": {
      "text/plain": [
       "'model-ACBOE-2021-05-24-14-51-44-733'"
      ]
     },
     "execution_count": 10,
     "metadata": {},
     "output_type": "execute_result"
    }
   ],
   "source": [
    "model.endpoint_name"
   ]
  },
  {
   "cell_type": "code",
   "execution_count": 11,
   "metadata": {},
   "outputs": [],
   "source": [
    "from sagemaker import Predictor\n",
    "predictor = Predictor(endpoint_name=model.endpoint_name)"
   ]
  },
  {
   "cell_type": "code",
   "execution_count": 12,
   "metadata": {},
   "outputs": [],
   "source": [
    "boto_session = boto3.Session(region_name=region)\n",
    "runtime = boto_session.client(\n",
    "    service_name='sagemaker-featurestore-runtime', \n",
    "    region_name=region\n",
    ")"
   ]
  },
  {
   "cell_type": "code",
   "execution_count": 13,
   "metadata": {},
   "outputs": [],
   "source": [
    "feature_group_name = 'cookbook-feature-group'\n",
    "\n",
    "record_response = runtime.get_record(\n",
    "    FeatureGroupName=feature_group_name, \n",
    "    RecordIdentifierValueAsString=\"5000\"\n",
    ")"
   ]
  },
  {
   "cell_type": "code",
   "execution_count": 14,
   "metadata": {},
   "outputs": [
    {
     "data": {
      "text/plain": [
       "[{'FeatureName': 'label', 'ValueAsString': '1'},\n",
       " {'FeatureName': 'a', 'ValueAsString': '-3.585282409963491'},\n",
       " {'FeatureName': 'b', 'ValueAsString': '-4.820820583530444'},\n",
       " {'FeatureName': 'c', 'ValueAsString': '88'},\n",
       " {'FeatureName': 'd', 'ValueAsString': '51'},\n",
       " {'FeatureName': 'index', 'ValueAsString': '5000'},\n",
       " {'FeatureName': 'event_time', 'ValueAsString': '1621862257.0'}]"
      ]
     },
     "execution_count": 14,
     "metadata": {},
     "output_type": "execute_result"
    }
   ],
   "source": [
    "record_response['Record']"
   ]
  },
  {
   "cell_type": "code",
   "execution_count": 15,
   "metadata": {},
   "outputs": [
    {
     "data": {
      "text/plain": [
       "['-3.585282409963491', '-4.820820583530444', '88', '51']"
      ]
     },
     "execution_count": 15,
     "metadata": {},
     "output_type": "execute_result"
    }
   ],
   "source": [
    "test_record_list = [\n",
    "    record_response['Record'][1]['ValueAsString'],\n",
    "    record_response['Record'][2]['ValueAsString'],\n",
    "    record_response['Record'][3]['ValueAsString'],\n",
    "    record_response['Record'][4]['ValueAsString']\n",
    "]\n",
    "\n",
    "test_record_list"
   ]
  },
  {
   "cell_type": "code",
   "execution_count": 16,
   "metadata": {},
   "outputs": [
    {
     "data": {
      "text/plain": [
       "'-3.585282409963491,-4.820820583530444,88,51'"
      ]
     },
     "execution_count": 16,
     "metadata": {},
     "output_type": "execute_result"
    }
   ],
   "source": [
    "csv_input = ','.join(test_record_list)\n",
    "csv_input"
   ]
  },
  {
   "cell_type": "code",
   "execution_count": 17,
   "metadata": {},
   "outputs": [],
   "source": [
    "from sagemaker.deserializers import JSONDeserializer\n",
    "from sagemaker.serializers import CSVSerializer\n",
    "\n",
    "predictor.serializer = CSVSerializer()\n",
    "predictor.deserializer = JSONDeserializer()"
   ]
  },
  {
   "cell_type": "code",
   "execution_count": 18,
   "metadata": {},
   "outputs": [
    {
     "data": {
      "text/plain": [
       "0.9837374687194824"
      ]
     },
     "execution_count": 18,
     "metadata": {},
     "output_type": "execute_result"
    }
   ],
   "source": [
    "predictor.predict(csv_input)"
   ]
  },
  {
   "cell_type": "code",
   "execution_count": 20,
   "metadata": {},
   "outputs": [
    {
     "name": "stdout",
     "output_type": "stream",
     "text": [
      "Stored 'endpoint_name' (str)\n"
     ]
    },
    {
     "data": {
      "text/plain": [
       "'model-ACBOE-2021-05-24-14-51-44-733'"
      ]
     },
     "execution_count": 20,
     "metadata": {},
     "output_type": "execute_result"
    }
   ],
   "source": [
    "endpoint_name = predictor.endpoint_name\n",
    "\n",
    "%store endpoint_name\n",
    "endpoint_name"
   ]
  },
  {
   "cell_type": "code",
   "execution_count": 21,
   "metadata": {},
   "outputs": [
    {
     "name": "stdout",
     "output_type": "stream",
     "text": [
      "Stored 'csv_input' (str)\n"
     ]
    }
   ],
   "source": [
    "%store csv_input"
   ]
  }
 ],
 "metadata": {
  "instance_type": "ml.t3.medium",
  "kernelspec": {
   "display_name": "Python 3 (Data Science)",
   "language": "python",
   "name": "python3__SAGEMAKER_INTERNAL__arn:aws:sagemaker:us-east-1:081325390199:image/datascience-1.0"
  },
  "language_info": {
   "codemirror_mode": {
    "name": "ipython",
    "version": 3
   },
   "file_extension": ".py",
   "mimetype": "text/x-python",
   "name": "python",
   "nbconvert_exporter": "python",
   "pygments_lexer": "ipython3",
   "version": "3.7.10"
  }
 },
 "nbformat": 4,
 "nbformat_minor": 5
}
