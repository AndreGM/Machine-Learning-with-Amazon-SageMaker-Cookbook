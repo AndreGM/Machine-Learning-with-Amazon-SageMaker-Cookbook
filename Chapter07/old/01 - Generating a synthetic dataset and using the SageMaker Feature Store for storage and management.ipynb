{
 "cells": [
  {
   "cell_type": "code",
   "execution_count": 1,
   "metadata": {},
   "outputs": [],
   "source": [
    "from sklearn.datasets import make_blobs\n",
    "\n",
    "X, y = make_blobs(n_samples=5000, centers=2, \n",
    "                  cluster_std=[7, 3], n_features=2, \n",
    "                  random_state=43)"
   ]
  },
  {
   "cell_type": "code",
   "execution_count": 2,
   "metadata": {},
   "outputs": [
    {
     "data": {
      "text/plain": [
       "5000"
      ]
     },
     "execution_count": 2,
     "metadata": {},
     "output_type": "execute_result"
    }
   ],
   "source": [
    "n_samples = len(X)\n",
    "n_samples"
   ]
  },
  {
   "cell_type": "code",
   "execution_count": 3,
   "metadata": {},
   "outputs": [],
   "source": [
    "import numpy as np\n",
    "\n",
    "r1 = np.random.randint(low=-100, high=100, \n",
    "                       size=(n_samples,)).astype(int)\n",
    "\n",
    "r2 = np.random.randint(low=-100, high=100, \n",
    "                       size=(n_samples,)).astype(int)"
   ]
  },
  {
   "cell_type": "code",
   "execution_count": 4,
   "metadata": {},
   "outputs": [
    {
     "name": "stdout",
     "output_type": "stream",
     "text": [
      "      label          a          b   c   d\n",
      "0         1  -8.837413  -6.551265  23 -75\n",
      "1         1  -9.216749  -2.483494   2 -51\n",
      "2         1  -2.017317  -6.326533  91  34\n",
      "3         1 -10.748736  -4.622519   8 -78\n",
      "4         0  -3.675848  12.629029  47  32\n",
      "...     ...        ...        ...  ..  ..\n",
      "4995      0   0.659784   1.414005  50 -36\n",
      "4996      0 -12.388167  -3.860623   2 -49\n",
      "4997      1  -4.294561  -8.472893 -41 -14\n",
      "4998      1  -6.044883  -5.261760 -49 -97\n",
      "4999      1  -3.585282  -4.820821  88  51\n",
      "\n",
      "[5000 rows x 5 columns]\n"
     ]
    }
   ],
   "source": [
    "import pandas as pd\n",
    "\n",
    "all_df = pd.DataFrame(dict(label=y, a=X[:,0], \n",
    "                           b=X[:,1], c=r1, d=r2))\n",
    "print(all_df)"
   ]
  },
  {
   "cell_type": "code",
   "execution_count": 5,
   "metadata": {},
   "outputs": [
    {
     "data": {
      "text/html": [
       "<div>\n",
       "<style scoped>\n",
       "    .dataframe tbody tr th:only-of-type {\n",
       "        vertical-align: middle;\n",
       "    }\n",
       "\n",
       "    .dataframe tbody tr th {\n",
       "        vertical-align: top;\n",
       "    }\n",
       "\n",
       "    .dataframe thead th {\n",
       "        text-align: right;\n",
       "    }\n",
       "</style>\n",
       "<table border=\"1\" class=\"dataframe\">\n",
       "  <thead>\n",
       "    <tr style=\"text-align: right;\">\n",
       "      <th></th>\n",
       "      <th>label</th>\n",
       "      <th>a</th>\n",
       "      <th>b</th>\n",
       "      <th>c</th>\n",
       "      <th>d</th>\n",
       "      <th>index</th>\n",
       "    </tr>\n",
       "  </thead>\n",
       "  <tbody>\n",
       "    <tr>\n",
       "      <th>0</th>\n",
       "      <td>1</td>\n",
       "      <td>-8.837413</td>\n",
       "      <td>-6.551265</td>\n",
       "      <td>23</td>\n",
       "      <td>-75</td>\n",
       "      <td>1</td>\n",
       "    </tr>\n",
       "    <tr>\n",
       "      <th>1</th>\n",
       "      <td>1</td>\n",
       "      <td>-9.216749</td>\n",
       "      <td>-2.483494</td>\n",
       "      <td>2</td>\n",
       "      <td>-51</td>\n",
       "      <td>2</td>\n",
       "    </tr>\n",
       "    <tr>\n",
       "      <th>2</th>\n",
       "      <td>1</td>\n",
       "      <td>-2.017317</td>\n",
       "      <td>-6.326533</td>\n",
       "      <td>91</td>\n",
       "      <td>34</td>\n",
       "      <td>3</td>\n",
       "    </tr>\n",
       "    <tr>\n",
       "      <th>3</th>\n",
       "      <td>1</td>\n",
       "      <td>-10.748736</td>\n",
       "      <td>-4.622519</td>\n",
       "      <td>8</td>\n",
       "      <td>-78</td>\n",
       "      <td>4</td>\n",
       "    </tr>\n",
       "    <tr>\n",
       "      <th>4</th>\n",
       "      <td>0</td>\n",
       "      <td>-3.675848</td>\n",
       "      <td>12.629029</td>\n",
       "      <td>47</td>\n",
       "      <td>32</td>\n",
       "      <td>5</td>\n",
       "    </tr>\n",
       "    <tr>\n",
       "      <th>...</th>\n",
       "      <td>...</td>\n",
       "      <td>...</td>\n",
       "      <td>...</td>\n",
       "      <td>...</td>\n",
       "      <td>...</td>\n",
       "      <td>...</td>\n",
       "    </tr>\n",
       "    <tr>\n",
       "      <th>4995</th>\n",
       "      <td>0</td>\n",
       "      <td>0.659784</td>\n",
       "      <td>1.414005</td>\n",
       "      <td>50</td>\n",
       "      <td>-36</td>\n",
       "      <td>4996</td>\n",
       "    </tr>\n",
       "    <tr>\n",
       "      <th>4996</th>\n",
       "      <td>0</td>\n",
       "      <td>-12.388167</td>\n",
       "      <td>-3.860623</td>\n",
       "      <td>2</td>\n",
       "      <td>-49</td>\n",
       "      <td>4997</td>\n",
       "    </tr>\n",
       "    <tr>\n",
       "      <th>4997</th>\n",
       "      <td>1</td>\n",
       "      <td>-4.294561</td>\n",
       "      <td>-8.472893</td>\n",
       "      <td>-41</td>\n",
       "      <td>-14</td>\n",
       "      <td>4998</td>\n",
       "    </tr>\n",
       "    <tr>\n",
       "      <th>4998</th>\n",
       "      <td>1</td>\n",
       "      <td>-6.044883</td>\n",
       "      <td>-5.261760</td>\n",
       "      <td>-49</td>\n",
       "      <td>-97</td>\n",
       "      <td>4999</td>\n",
       "    </tr>\n",
       "    <tr>\n",
       "      <th>4999</th>\n",
       "      <td>1</td>\n",
       "      <td>-3.585282</td>\n",
       "      <td>-4.820821</td>\n",
       "      <td>88</td>\n",
       "      <td>51</td>\n",
       "      <td>5000</td>\n",
       "    </tr>\n",
       "  </tbody>\n",
       "</table>\n",
       "<p>5000 rows × 6 columns</p>\n",
       "</div>"
      ],
      "text/plain": [
       "      label          a          b   c   d  index\n",
       "0         1  -8.837413  -6.551265  23 -75      1\n",
       "1         1  -9.216749  -2.483494   2 -51      2\n",
       "2         1  -2.017317  -6.326533  91  34      3\n",
       "3         1 -10.748736  -4.622519   8 -78      4\n",
       "4         0  -3.675848  12.629029  47  32      5\n",
       "...     ...        ...        ...  ..  ..    ...\n",
       "4995      0   0.659784   1.414005  50 -36   4996\n",
       "4996      0 -12.388167  -3.860623   2 -49   4997\n",
       "4997      1  -4.294561  -8.472893 -41 -14   4998\n",
       "4998      1  -6.044883  -5.261760 -49 -97   4999\n",
       "4999      1  -3.585282  -4.820821  88  51   5000\n",
       "\n",
       "[5000 rows x 6 columns]"
      ]
     },
     "execution_count": 5,
     "metadata": {},
     "output_type": "execute_result"
    }
   ],
   "source": [
    "all_df['index'] = range(1, len(all_df) + 1)\n",
    "all_df"
   ]
  },
  {
   "cell_type": "code",
   "execution_count": 6,
   "metadata": {},
   "outputs": [],
   "source": [
    "from time import time, sleep\n",
    "\n",
    "def generate_event_time_records(num_records):\n",
    "    time_value = int(round(time()))\n",
    "    output = pd.Series([time_value]*num_records, \n",
    "                       dtype=\"float64\")\n",
    "    \n",
    "    return output"
   ]
  },
  {
   "cell_type": "code",
   "execution_count": 7,
   "metadata": {},
   "outputs": [
    {
     "data": {
      "text/plain": [
       "0       1.621862e+09\n",
       "1       1.621862e+09\n",
       "2       1.621862e+09\n",
       "3       1.621862e+09\n",
       "4       1.621862e+09\n",
       "            ...     \n",
       "4995    1.621862e+09\n",
       "4996    1.621862e+09\n",
       "4997    1.621862e+09\n",
       "4998    1.621862e+09\n",
       "4999    1.621862e+09\n",
       "Length: 5000, dtype: float64"
      ]
     },
     "execution_count": 7,
     "metadata": {},
     "output_type": "execute_result"
    }
   ],
   "source": [
    "generate_event_time_records(5000)"
   ]
  },
  {
   "cell_type": "code",
   "execution_count": 27,
   "metadata": {},
   "outputs": [
    {
     "data": {
      "text/html": [
       "<div>\n",
       "<style scoped>\n",
       "    .dataframe tbody tr th:only-of-type {\n",
       "        vertical-align: middle;\n",
       "    }\n",
       "\n",
       "    .dataframe tbody tr th {\n",
       "        vertical-align: top;\n",
       "    }\n",
       "\n",
       "    .dataframe thead th {\n",
       "        text-align: right;\n",
       "    }\n",
       "</style>\n",
       "<table border=\"1\" class=\"dataframe\">\n",
       "  <thead>\n",
       "    <tr style=\"text-align: right;\">\n",
       "      <th></th>\n",
       "      <th>label</th>\n",
       "      <th>a</th>\n",
       "      <th>b</th>\n",
       "      <th>c</th>\n",
       "      <th>d</th>\n",
       "      <th>index</th>\n",
       "      <th>event_time</th>\n",
       "    </tr>\n",
       "  </thead>\n",
       "  <tbody>\n",
       "    <tr>\n",
       "      <th>0</th>\n",
       "      <td>1</td>\n",
       "      <td>-8.837413</td>\n",
       "      <td>-6.551265</td>\n",
       "      <td>23</td>\n",
       "      <td>-75</td>\n",
       "      <td>1</td>\n",
       "      <td>1.621875e+09</td>\n",
       "    </tr>\n",
       "    <tr>\n",
       "      <th>1</th>\n",
       "      <td>1</td>\n",
       "      <td>-9.216749</td>\n",
       "      <td>-2.483494</td>\n",
       "      <td>2</td>\n",
       "      <td>-51</td>\n",
       "      <td>2</td>\n",
       "      <td>1.621875e+09</td>\n",
       "    </tr>\n",
       "    <tr>\n",
       "      <th>2</th>\n",
       "      <td>1</td>\n",
       "      <td>-2.017317</td>\n",
       "      <td>-6.326533</td>\n",
       "      <td>91</td>\n",
       "      <td>34</td>\n",
       "      <td>3</td>\n",
       "      <td>1.621875e+09</td>\n",
       "    </tr>\n",
       "    <tr>\n",
       "      <th>3</th>\n",
       "      <td>1</td>\n",
       "      <td>-10.748736</td>\n",
       "      <td>-4.622519</td>\n",
       "      <td>8</td>\n",
       "      <td>-78</td>\n",
       "      <td>4</td>\n",
       "      <td>1.621875e+09</td>\n",
       "    </tr>\n",
       "    <tr>\n",
       "      <th>4</th>\n",
       "      <td>0</td>\n",
       "      <td>-3.675848</td>\n",
       "      <td>12.629029</td>\n",
       "      <td>47</td>\n",
       "      <td>32</td>\n",
       "      <td>5</td>\n",
       "      <td>1.621875e+09</td>\n",
       "    </tr>\n",
       "    <tr>\n",
       "      <th>...</th>\n",
       "      <td>...</td>\n",
       "      <td>...</td>\n",
       "      <td>...</td>\n",
       "      <td>...</td>\n",
       "      <td>...</td>\n",
       "      <td>...</td>\n",
       "      <td>...</td>\n",
       "    </tr>\n",
       "    <tr>\n",
       "      <th>4995</th>\n",
       "      <td>0</td>\n",
       "      <td>0.659784</td>\n",
       "      <td>1.414005</td>\n",
       "      <td>50</td>\n",
       "      <td>-36</td>\n",
       "      <td>4996</td>\n",
       "      <td>1.621875e+09</td>\n",
       "    </tr>\n",
       "    <tr>\n",
       "      <th>4996</th>\n",
       "      <td>0</td>\n",
       "      <td>-12.388167</td>\n",
       "      <td>-3.860623</td>\n",
       "      <td>2</td>\n",
       "      <td>-49</td>\n",
       "      <td>4997</td>\n",
       "      <td>1.621875e+09</td>\n",
       "    </tr>\n",
       "    <tr>\n",
       "      <th>4997</th>\n",
       "      <td>1</td>\n",
       "      <td>-4.294561</td>\n",
       "      <td>-8.472893</td>\n",
       "      <td>-41</td>\n",
       "      <td>-14</td>\n",
       "      <td>4998</td>\n",
       "      <td>1.621875e+09</td>\n",
       "    </tr>\n",
       "    <tr>\n",
       "      <th>4998</th>\n",
       "      <td>1</td>\n",
       "      <td>-6.044883</td>\n",
       "      <td>-5.261760</td>\n",
       "      <td>-49</td>\n",
       "      <td>-97</td>\n",
       "      <td>4999</td>\n",
       "      <td>1.621875e+09</td>\n",
       "    </tr>\n",
       "    <tr>\n",
       "      <th>4999</th>\n",
       "      <td>1</td>\n",
       "      <td>-3.585282</td>\n",
       "      <td>-4.820821</td>\n",
       "      <td>88</td>\n",
       "      <td>51</td>\n",
       "      <td>5000</td>\n",
       "      <td>1.621875e+09</td>\n",
       "    </tr>\n",
       "  </tbody>\n",
       "</table>\n",
       "<p>5000 rows × 7 columns</p>\n",
       "</div>"
      ],
      "text/plain": [
       "      label          a          b   c   d  index    event_time\n",
       "0         1  -8.837413  -6.551265  23 -75      1  1.621875e+09\n",
       "1         1  -9.216749  -2.483494   2 -51      2  1.621875e+09\n",
       "2         1  -2.017317  -6.326533  91  34      3  1.621875e+09\n",
       "3         1 -10.748736  -4.622519   8 -78      4  1.621875e+09\n",
       "4         0  -3.675848  12.629029  47  32      5  1.621875e+09\n",
       "...     ...        ...        ...  ..  ..    ...           ...\n",
       "4995      0   0.659784   1.414005  50 -36   4996  1.621875e+09\n",
       "4996      0 -12.388167  -3.860623   2 -49   4997  1.621875e+09\n",
       "4997      1  -4.294561  -8.472893 -41 -14   4998  1.621875e+09\n",
       "4998      1  -6.044883  -5.261760 -49 -97   4999  1.621875e+09\n",
       "4999      1  -3.585282  -4.820821  88  51   5000  1.621875e+09\n",
       "\n",
       "[5000 rows x 7 columns]"
      ]
     },
     "execution_count": 27,
     "metadata": {},
     "output_type": "execute_result"
    }
   ],
   "source": [
    "all_df[\"event_time\"] = generate_event_time_records(\n",
    "    len(all_df)\n",
    ")\n",
    "\n",
    "all_df"
   ]
  },
  {
   "cell_type": "code",
   "execution_count": 10,
   "metadata": {},
   "outputs": [
    {
     "data": {
      "image/png": "[encoded data removed]",
      "text/plain": [
       "<Figure size 432x288 with 1 Axes>"
      ]
     },
     "metadata": {
      "needs_background": "light"
     },
     "output_type": "display_data"
    }
   ],
   "source": [
    "from matplotlib import pyplot\n",
    "\n",
    "colors = {0:'red', 1:'blue'}\n",
    "fig, ax = pyplot.subplots()\n",
    "grouped = all_df.groupby('label')\n",
    "\n",
    "for key, group in grouped:\n",
    "    group.plot(ax=ax, \n",
    "               kind='scatter', \n",
    "               x='a', \n",
    "               y='b', \n",
    "               label=key, \n",
    "               color=colors[key])\n",
    "    \n",
    "pyplot.show()"
   ]
  },
  {
   "cell_type": "code",
   "execution_count": 11,
   "metadata": {},
   "outputs": [],
   "source": [
    "import boto3\n",
    "import sagemaker\n",
    "from sagemaker.session import Session"
   ]
  },
  {
   "cell_type": "code",
   "execution_count": 12,
   "metadata": {},
   "outputs": [],
   "source": [
    "region = boto3.Session().region_name\n",
    "session = boto3.Session(region_name=region)\n",
    "\n",
    "client = session.client(\n",
    "    service_name='sagemaker', \n",
    "    region_name=region\n",
    ")\n",
    "\n",
    "runtime = session.client(\n",
    "    service_name='sagemaker-featurestore-runtime', \n",
    "    region_name=region\n",
    ")\n",
    "\n",
    "feature_store_session = Session(\n",
    "    boto_session=session,\n",
    "    sagemaker_client=client,\n",
    "    sagemaker_featurestore_runtime_client=runtime\n",
    ")"
   ]
  },
  {
   "cell_type": "code",
   "execution_count": 13,
   "metadata": {},
   "outputs": [],
   "source": [
    "s3_bucket_name = \"sagemaker-cookbook-bucket\"\n",
    "prefix = \"chapter07\"\n",
    "\n",
    "from sagemaker import get_execution_role\n",
    "role = get_execution_role()"
   ]
  },
  {
   "cell_type": "code",
   "execution_count": 14,
   "metadata": {},
   "outputs": [],
   "source": [
    "s3_client = boto3.client('s3', region_name=region)"
   ]
  },
  {
   "cell_type": "code",
   "execution_count": 15,
   "metadata": {},
   "outputs": [],
   "source": [
    "feature_group_name = 'cookbook-feature-group'"
   ]
  },
  {
   "cell_type": "code",
   "execution_count": 16,
   "metadata": {},
   "outputs": [],
   "source": [
    "from sagemaker.feature_store.feature_group import FeatureGroup\n",
    "\n",
    "feature_group = FeatureGroup(\n",
    "    name=feature_group_name, \n",
    "    sagemaker_session=feature_store_session\n",
    ")"
   ]
  },
  {
   "cell_type": "code",
   "execution_count": 17,
   "metadata": {},
   "outputs": [],
   "source": [
    "try:\n",
    "    feature_group.delete()\n",
    "    sleep(30)\n",
    "except:\n",
    "    print(\"Feature group does not exist\")\n",
    "    pass"
   ]
  },
  {
   "cell_type": "code",
   "execution_count": 18,
   "metadata": {},
   "outputs": [
    {
     "name": "stdout",
     "output_type": "stream",
     "text": [
      "CPU times: user 2.35 ms, sys: 409 µs, total: 2.75 ms\n",
      "Wall time: 1 s\n"
     ]
    }
   ],
   "source": [
    "%%time\n",
    "\n",
    "feature_group.load_feature_definitions(data_frame=all_df)\n",
    "sleep(1)"
   ]
  },
  {
   "cell_type": "code",
   "execution_count": 19,
   "metadata": {},
   "outputs": [],
   "source": [
    "feature_group.create(\n",
    "    s3_uri=f\"s3://{s3_bucket_name}/{prefix}/input\",\n",
    "    record_identifier_name=\"index\",\n",
    "    event_time_feature_name=\"event_time\",\n",
    "    role_arn=role,\n",
    "    enable_online_store=True\n",
    ")\n",
    "\n",
    "sleep(60)"
   ]
  },
  {
   "cell_type": "code",
   "execution_count": 20,
   "metadata": {},
   "outputs": [
    {
     "data": {
      "text/plain": [
       "{'FeatureGroupArn': 'arn:aws:sagemaker:us-east-1:581320662326:feature-group/cookbook-feature-group',\n",
       " 'FeatureGroupName': 'cookbook-feature-group',\n",
       " 'RecordIdentifierFeatureName': 'index',\n",
       " 'EventTimeFeatureName': 'event_time',\n",
       " 'FeatureDefinitions': [{'FeatureName': 'label', 'FeatureType': 'Integral'},\n",
       "  {'FeatureName': 'a', 'FeatureType': 'Fractional'},\n",
       "  {'FeatureName': 'b', 'FeatureType': 'Fractional'},\n",
       "  {'FeatureName': 'c', 'FeatureType': 'Integral'},\n",
       "  {'FeatureName': 'd', 'FeatureType': 'Integral'},\n",
       "  {'FeatureName': 'index', 'FeatureType': 'Integral'},\n",
       "  {'FeatureName': 'event_time', 'FeatureType': 'Fractional'}],\n",
       " 'CreationTime': datetime.datetime(2021, 5, 24, 13, 18, 9, 536000, tzinfo=tzlocal()),\n",
       " 'OnlineStoreConfig': {'EnableOnlineStore': True},\n",
       " 'OfflineStoreConfig': {'S3StorageConfig': {'S3Uri': 's3://sagemaker-cookbook-bucket/chapter07/input',\n",
       "   'ResolvedOutputS3Uri': 's3://sagemaker-cookbook-bucket/chapter07/input/581320662326/sagemaker/us-east-1/offline-store/cookbook-feature-group-1621862289/data'},\n",
       "  'DisableGlueTableCreation': False,\n",
       "  'DataCatalogConfig': {'TableName': 'cookbook-feature-group-1621862289',\n",
       "   'Catalog': 'AwsDataCatalog',\n",
       "   'Database': 'sagemaker_featurestore'}},\n",
       " 'RoleArn': 'arn:aws:iam::581320662326:role/SuperAdminRole',\n",
       " 'FeatureGroupStatus': 'Created',\n",
       " 'ResponseMetadata': {'RequestId': '36eaa816-638f-411c-a575-a8e6ac5ef28a',\n",
       "  'HTTPStatusCode': 200,\n",
       "  'HTTPHeaders': {'x-amzn-requestid': '36eaa816-638f-411c-a575-a8e6ac5ef28a',\n",
       "   'content-type': 'application/x-amz-json-1.1',\n",
       "   'content-length': '1494',\n",
       "   'date': 'Mon, 24 May 2021 13:19:09 GMT'},\n",
       "  'RetryAttempts': 0}}"
      ]
     },
     "execution_count": 20,
     "metadata": {},
     "output_type": "execute_result"
    }
   ],
   "source": [
    "feature_group.describe()"
   ]
  },
  {
   "cell_type": "code",
   "execution_count": 21,
   "metadata": {},
   "outputs": [
    {
     "data": {
      "text/plain": [
       "'Created'"
      ]
     },
     "execution_count": 21,
     "metadata": {},
     "output_type": "execute_result"
    }
   ],
   "source": [
    "feature_group.describe().get(\"FeatureGroupStatus\")"
   ]
  },
  {
   "cell_type": "code",
   "execution_count": 22,
   "metadata": {
    "scrolled": true
   },
   "outputs": [
    {
     "data": {
      "text/plain": [
       "{'FeatureGroupSummaries': [{'FeatureGroupName': 'feature-group-16-17-50-17',\n",
       "   'FeatureGroupArn': 'arn:aws:sagemaker:us-east-1:581320662326:feature-group/feature-group-16-17-50-17',\n",
       "   'CreationTime': datetime.datetime(2021, 1, 16, 17, 50, 42, 246000, tzinfo=tzlocal()),\n",
       "   'FeatureGroupStatus': 'Created',\n",
       "   'OfflineStoreStatus': {'Status': 'Active'}},\n",
       "  {'FeatureGroupName': 'feature-group-10-20-17-14',\n",
       "   'FeatureGroupArn': 'arn:aws:sagemaker:us-east-1:581320662326:feature-group/feature-group-10-20-17-14',\n",
       "   'CreationTime': datetime.datetime(2021, 1, 10, 20, 26, 30, 564000, tzinfo=tzlocal()),\n",
       "   'FeatureGroupStatus': 'Created',\n",
       "   'OfflineStoreStatus': {'Status': 'Active'}},\n",
       "  {'FeatureGroupName': 'cookbook-feature-group-07',\n",
       "   'FeatureGroupArn': 'arn:aws:sagemaker:us-east-1:581320662326:feature-group/cookbook-feature-group-07',\n",
       "   'CreationTime': datetime.datetime(2021, 1, 17, 0, 29, 3, 52000, tzinfo=tzlocal()),\n",
       "   'FeatureGroupStatus': 'Created',\n",
       "   'OfflineStoreStatus': {'Status': 'Active'}},\n",
       "  {'FeatureGroupName': 'cookbook-feature-group-06',\n",
       "   'FeatureGroupArn': 'arn:aws:sagemaker:us-east-1:581320662326:feature-group/cookbook-feature-group-06',\n",
       "   'CreationTime': datetime.datetime(2021, 1, 16, 23, 0, 38, 35000, tzinfo=tzlocal()),\n",
       "   'FeatureGroupStatus': 'Created',\n",
       "   'OfflineStoreStatus': {'Status': 'Active'}},\n",
       "  {'FeatureGroupName': 'cookbook-feature-group-05',\n",
       "   'FeatureGroupArn': 'arn:aws:sagemaker:us-east-1:581320662326:feature-group/cookbook-feature-group-05',\n",
       "   'CreationTime': datetime.datetime(2021, 1, 16, 22, 53, 15, 468000, tzinfo=tzlocal()),\n",
       "   'FeatureGroupStatus': 'Created'},\n",
       "  {'FeatureGroupName': 'cookbook-feature-group-04',\n",
       "   'FeatureGroupArn': 'arn:aws:sagemaker:us-east-1:581320662326:feature-group/cookbook-feature-group-04',\n",
       "   'CreationTime': datetime.datetime(2021, 1, 16, 22, 50, 24, 138000, tzinfo=tzlocal()),\n",
       "   'FeatureGroupStatus': 'Created'},\n",
       "  {'FeatureGroupName': 'cookbook-feature-group-03',\n",
       "   'FeatureGroupArn': 'arn:aws:sagemaker:us-east-1:581320662326:feature-group/cookbook-feature-group-03',\n",
       "   'CreationTime': datetime.datetime(2021, 1, 16, 22, 46, 28, 212000, tzinfo=tzlocal()),\n",
       "   'FeatureGroupStatus': 'Created',\n",
       "   'OfflineStoreStatus': {'Status': 'Active'}},\n",
       "  {'FeatureGroupName': 'cookbook-feature-group-02',\n",
       "   'FeatureGroupArn': 'arn:aws:sagemaker:us-east-1:581320662326:feature-group/cookbook-feature-group-02',\n",
       "   'CreationTime': datetime.datetime(2021, 1, 16, 22, 36, 34, 344000, tzinfo=tzlocal()),\n",
       "   'FeatureGroupStatus': 'Created'},\n",
       "  {'FeatureGroupName': 'cookbook-feature-group-01',\n",
       "   'FeatureGroupArn': 'arn:aws:sagemaker:us-east-1:581320662326:feature-group/cookbook-feature-group-01',\n",
       "   'CreationTime': datetime.datetime(2021, 1, 16, 22, 26, 52, 314000, tzinfo=tzlocal()),\n",
       "   'FeatureGroupStatus': 'Created'},\n",
       "  {'FeatureGroupName': 'cookbook-feature-group',\n",
       "   'FeatureGroupArn': 'arn:aws:sagemaker:us-east-1:581320662326:feature-group/cookbook-feature-group',\n",
       "   'CreationTime': datetime.datetime(2021, 5, 24, 13, 18, 9, 536000, tzinfo=tzlocal()),\n",
       "   'FeatureGroupStatus': 'Created'}],\n",
       " 'ResponseMetadata': {'RequestId': 'f184b068-3c29-4006-ace3-ada2d80d324e',\n",
       "  'HTTPStatusCode': 200,\n",
       "  'HTTPHeaders': {'x-amzn-requestid': 'f184b068-3c29-4006-ace3-ada2d80d324e',\n",
       "   'content-type': 'application/x-amz-json-1.1',\n",
       "   'content-length': '2356',\n",
       "   'date': 'Mon, 24 May 2021 13:19:10 GMT'},\n",
       "  'RetryAttempts': 0}}"
      ]
     },
     "execution_count": 22,
     "metadata": {},
     "output_type": "execute_result"
    }
   ],
   "source": [
    "client.list_feature_groups()"
   ]
  },
  {
   "cell_type": "code",
   "execution_count": 23,
   "metadata": {},
   "outputs": [
    {
     "data": {
      "text/plain": [
       "label           int64\n",
       "a             float64\n",
       "b             float64\n",
       "c               int64\n",
       "d               int64\n",
       "index           int64\n",
       "event_time    float64\n",
       "dtype: object"
      ]
     },
     "execution_count": 23,
     "metadata": {},
     "output_type": "execute_result"
    }
   ],
   "source": [
    "all_df.dtypes"
   ]
  },
  {
   "cell_type": "code",
   "execution_count": 24,
   "metadata": {},
   "outputs": [
    {
     "name": "stdout",
     "output_type": "stream",
     "text": [
      "CPU times: user 15.2 ms, sys: 22.8 ms, total: 38 ms\n",
      "Wall time: 21 s\n"
     ]
    },
    {
     "data": {
      "text/plain": [
       "IngestionManagerPandas(feature_group_name='cookbook-feature-group', sagemaker_fs_runtime_client_config=<botocore.config.Config object at 0x7f8a487356d0>, max_workers=3, max_processes=1, _async_result=<multiprocess.pool.MapResult object at 0x7f8a4e689410>, _processing_pool=<pool ProcessPool(ncpus=1)>, _failed_indices=[])"
      ]
     },
     "execution_count": 24,
     "metadata": {},
     "output_type": "execute_result"
    }
   ],
   "source": [
    "%%time\n",
    "\n",
    "feature_group.ingest(\n",
    "    data_frame=all_df, max_workers=3, wait=True\n",
    ")"
   ]
  },
  {
   "cell_type": "code",
   "execution_count": 25,
   "metadata": {},
   "outputs": [
    {
     "data": {
      "text/plain": [
       "{'ResponseMetadata': {'RequestId': '7ce3226e-7168-4ccd-95a7-ed65f22d840f',\n",
       "  'HTTPStatusCode': 200,\n",
       "  'HTTPHeaders': {'x-amzn-requestid': '7ce3226e-7168-4ccd-95a7-ed65f22d840f',\n",
       "   'content-type': 'application/json',\n",
       "   'content-length': '359',\n",
       "   'date': 'Mon, 24 May 2021 13:19:31 GMT'},\n",
       "  'RetryAttempts': 0},\n",
       " 'Record': [{'FeatureName': 'label', 'ValueAsString': '1'},\n",
       "  {'FeatureName': 'a', 'ValueAsString': '-3.585282409963491'},\n",
       "  {'FeatureName': 'b', 'ValueAsString': '-4.820820583530444'},\n",
       "  {'FeatureName': 'c', 'ValueAsString': '88'},\n",
       "  {'FeatureName': 'd', 'ValueAsString': '51'},\n",
       "  {'FeatureName': 'index', 'ValueAsString': '5000'},\n",
       "  {'FeatureName': 'event_time', 'ValueAsString': '1621862257.0'}]}"
      ]
     },
     "execution_count": 25,
     "metadata": {},
     "output_type": "execute_result"
    }
   ],
   "source": [
    "runtime.get_record(\n",
    "    FeatureGroupName=feature_group.name, \n",
    "    RecordIdentifierValueAsString=\"5000\"\n",
    ")"
   ]
  },
  {
   "cell_type": "code",
   "execution_count": 26,
   "metadata": {},
   "outputs": [
    {
     "name": "stdout",
     "output_type": "stream",
     "text": [
      "Stored 'feature_group_name' (str)\n",
      "Stored 's3_bucket_name' (str)\n",
      "Stored 'prefix' (str)\n"
     ]
    }
   ],
   "source": [
    "%store feature_group_name\n",
    "%store s3_bucket_name\n",
    "%store prefix"
   ]
  }
 ],
 "metadata": {
  "instance_type": "ml.t3.medium",
  "kernelspec": {
   "display_name": "Python 3 (Data Science)",
   "language": "python",
   "name": "python3__SAGEMAKER_INTERNAL__arn:aws:sagemaker:us-east-1:081325390199:image/datascience-1.0"
  },
  "language_info": {
   "codemirror_mode": {
    "name": "ipython",
    "version": 3
   },
   "file_extension": ".py",
   "mimetype": "text/x-python",
   "name": "python",
   "nbconvert_exporter": "python",
   "pygments_lexer": "ipython3",
   "version": "3.7.10"
  }
 },
 "nbformat": 4,
 "nbformat_minor": 5
}
