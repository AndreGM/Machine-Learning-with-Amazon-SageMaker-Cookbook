{
 "cells": [
  {
   "cell_type": "code",
   "execution_count": 20,
   "metadata": {},
   "outputs": [],
   "source": [
    "from sklearn.datasets import make_blobs\n",
    "\n",
    "X, y = make_blobs(n_samples=5000, centers=2, \n",
    "                  cluster_std=[6, 4], n_features=2, \n",
    "                  random_state=42)"
   ]
  },
  {
   "cell_type": "code",
   "execution_count": 21,
   "metadata": {},
   "outputs": [
    {
     "data": {
      "text/plain": [
       "5000"
      ]
     },
     "execution_count": 21,
     "metadata": {},
     "output_type": "execute_result"
    }
   ],
   "source": [
    "n_samples = len(X)\n",
    "n_samples"
   ]
  },
  {
   "cell_type": "code",
   "execution_count": 22,
   "metadata": {},
   "outputs": [],
   "source": [
    "import numpy as np\n",
    "\n",
    "r1 = np.random.randint(low=-100, high=100, \n",
    "                       size=(n_samples,)).astype(int)\n",
    "r2 = np.random.randint(low=-100, high=100, \n",
    "                       size=(n_samples,)).astype(int)"
   ]
  },
  {
   "cell_type": "code",
   "execution_count": 23,
   "metadata": {},
   "outputs": [
    {
     "name": "stdout",
     "output_type": "stream",
     "text": [
      "      label         a          b   c   d\n",
      "0         0 -0.498849  10.911222 -38  34\n",
      "1         0  7.387688  15.437949  51  -1\n",
      "2         1  1.073705   2.251987  82  46\n",
      "3         1  4.203785   2.110671  -2  74\n",
      "4         1  7.425170   3.088369  -1  42\n",
      "...     ...       ...        ...  ..  ..\n",
      "4995      0 -3.868102   3.257651 -54  52\n",
      "4996      0 -3.057595   8.529015  15  17\n",
      "4997      0  0.084380  11.834551  85  65\n",
      "4998      1  4.585866  -2.453762   0 -16\n",
      "4999      0  5.888370   0.961520  37 -22\n",
      "\n",
      "[5000 rows x 5 columns]\n"
     ]
    }
   ],
   "source": [
    "import pandas as pd\n",
    "\n",
    "all_dataset = pd.DataFrame(\n",
    "    dict(label=y, a=X[:,0], b=X[:,1], c=r1, d=r2))\n",
    "\n",
    "print(all_dataset)"
   ]
  },
  {
   "cell_type": "code",
   "execution_count": 24,
   "metadata": {},
   "outputs": [
    {
     "data": {
      "image/png": "[encoded data removed]",
      "text/plain": [
       "<Figure size 432x288 with 1 Axes>"
      ]
     },
     "metadata": {
      "needs_background": "light"
     },
     "output_type": "display_data"
    }
   ],
   "source": [
    "from matplotlib import pyplot\n",
    "\n",
    "colors = {0:'red', 1:'blue'}\n",
    "fig, ax = pyplot.subplots()\n",
    "grouped = all_dataset.groupby('label')\n",
    "\n",
    "for key, group in grouped:\n",
    "    group.plot(ax=ax, kind='scatter', x='a', y='b', label=key, color=colors[key])\n",
    "    \n",
    "pyplot.show()"
   ]
  },
  {
   "cell_type": "code",
   "execution_count": 25,
   "metadata": {},
   "outputs": [],
   "source": [
    "from sklearn.model_selection import train_test_split\n",
    "\n",
    "train_val, test = train_test_split(all_dataset, \n",
    "                                   test_size=0.2, \n",
    "                                   random_state=0)\n",
    "\n",
    "training, validation = train_test_split(train_val, \n",
    "                                        test_size=0.25, \n",
    "                                        random_state=0)"
   ]
  },
  {
   "cell_type": "code",
   "execution_count": 26,
   "metadata": {},
   "outputs": [],
   "source": [
    "!mkdir -p tmp"
   ]
  },
  {
   "cell_type": "code",
   "execution_count": 27,
   "metadata": {},
   "outputs": [],
   "source": [
    "s3_bucket_name = \"sagemaker-cookbook-bucket\"\n",
    "prefix = \"chapter06/input\""
   ]
  },
  {
   "cell_type": "code",
   "execution_count": 28,
   "metadata": {},
   "outputs": [],
   "source": [
    "training.to_csv('tmp/training_data.csv', header=True, index=False)\n",
    "validation.to_csv('tmp/validation_data.csv', header=True, index=False)\n",
    "test.to_csv('tmp/test_data.csv', header=True, index=False)"
   ]
  },
  {
   "cell_type": "code",
   "execution_count": 29,
   "metadata": {},
   "outputs": [
    {
     "name": "stdout",
     "output_type": "stream",
     "text": [
      "upload: tmp/training_data.csv to s3://sagemaker-cookbook-bucket/chapter06/input/training_data.csv\n",
      "upload: tmp/validation_data.csv to s3://sagemaker-cookbook-bucket/chapter06/input/validation_data.csv\n",
      "upload: tmp/test_data.csv to s3://sagemaker-cookbook-bucket/chapter06/input/test_data.csv\n"
     ]
    }
   ],
   "source": [
    "!aws s3 cp tmp/training_data.csv s3://{s3_bucket_name}/{prefix}/training_data.csv\n",
    "!aws s3 cp tmp/validation_data.csv s3://{s3_bucket_name}/{prefix}/validation_data.csv\n",
    "!aws s3 cp tmp/test_data.csv s3://{s3_bucket_name}/{prefix}/test_data.csv"
   ]
  },
  {
   "cell_type": "code",
   "execution_count": 30,
   "metadata": {},
   "outputs": [
    {
     "name": "stdout",
     "output_type": "stream",
     "text": [
      "upload: tmp/training_data_no_header.csv to s3://sagemaker-cookbook-bucket/chapter06/input/training_data_no_header.csv\n",
      "upload: tmp/validation_data_no_header.csv to s3://sagemaker-cookbook-bucket/chapter06/input/validation_data_no_header.csv\n",
      "upload: tmp/test_data_no_header.csv to s3://sagemaker-cookbook-bucket/chapter06/input/test_data_no_header.csv\n"
     ]
    }
   ],
   "source": [
    "!aws s3 cp tmp/training_data_no_header.csv s3://{s3_bucket_name}/{prefix}/training_data_no_header.csv\n",
    "!aws s3 cp tmp/validation_data_no_header.csv s3://{s3_bucket_name}/{prefix}/validation_data_no_header.csv\n",
    "!aws s3 cp tmp/test_data_no_header.csv s3://{s3_bucket_name}/{prefix}/test_data_no_header.csv"
   ]
  },
  {
   "cell_type": "code",
   "execution_count": 31,
   "metadata": {},
   "outputs": [
    {
     "name": "stdout",
     "output_type": "stream",
     "text": [
      "Stored 's3_bucket_name' (str)\n",
      "Stored 'prefix' (str)\n"
     ]
    }
   ],
   "source": [
    "%store s3_bucket_name\n",
    "%store prefix"
   ]
  }
 ],
 "metadata": {
  "instance_type": "ml.t3.medium",
  "kernelspec": {
   "display_name": "Python 3 (Data Science)",
   "language": "python",
   "name": "python3__SAGEMAKER_INTERNAL__arn:aws:sagemaker:us-east-1:081325390199:image/datascience-1.0"
  },
  "language_info": {
   "codemirror_mode": {
    "name": "ipython",
    "version": 3
   },
   "file_extension": ".py",
   "mimetype": "text/x-python",
   "name": "python",
   "nbconvert_exporter": "python",
   "pygments_lexer": "ipython3",
   "version": "3.7.10"
  }
 },
 "nbformat": 4,
 "nbformat_minor": 4
}
