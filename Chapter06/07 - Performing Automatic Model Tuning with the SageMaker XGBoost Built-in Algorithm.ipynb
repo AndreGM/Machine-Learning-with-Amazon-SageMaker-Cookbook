{
 "cells": [
  {
   "cell_type": "code",
   "execution_count": 28,
   "metadata": {},
   "outputs": [],
   "source": [
    "import sagemaker\n",
    "import boto3\n",
    "import numpy as np                                \n",
    "import pandas as pd                               \n",
    "import os \n",
    "from sagemaker import tuner\n",
    "\n",
    "region = boto3.Session().region_name    \n",
    "client = boto3.Session().client('sagemaker')\n",
    "session = sagemaker.Session()\n",
    "role = sagemaker.get_execution_role()"
   ]
  },
  {
   "cell_type": "code",
   "execution_count": 29,
   "metadata": {},
   "outputs": [
    {
     "data": {
      "text/plain": [
       "'sagemaker-cookbook-bucket'"
      ]
     },
     "execution_count": 29,
     "metadata": {},
     "output_type": "execute_result"
    }
   ],
   "source": [
    "%store -r s3_bucket_name\n",
    "s3_bucket_name"
   ]
  },
  {
   "cell_type": "code",
   "execution_count": 30,
   "metadata": {},
   "outputs": [
    {
     "data": {
      "text/plain": [
       "'chapter06/input'"
      ]
     },
     "execution_count": 30,
     "metadata": {},
     "output_type": "execute_result"
    }
   ],
   "source": [
    "%store -r prefix\n",
    "prefix"
   ]
  },
  {
   "cell_type": "code",
   "execution_count": 31,
   "metadata": {},
   "outputs": [],
   "source": [
    "training_s3_input_location = \\\n",
    "f\"s3://{s3_bucket_name}/{prefix}/training_data_no_header.csv\" \n",
    "validation_s3_input_location = \\\n",
    "f\"s3://{s3_bucket_name}/{prefix}/validation_data_no_header.csv\" \n",
    "test_s3_input_location = \\\n",
    "f\"s3://{s3_bucket_name}/{prefix}/test_data_no_header.csv\" \n",
    "training_s3_output_location = \\\n",
    "f\"s3://{s3_bucket_name}/output/\""
   ]
  },
  {
   "cell_type": "code",
   "execution_count": 32,
   "metadata": {},
   "outputs": [
    {
     "data": {
      "text/plain": [
       "'683313688378.dkr.ecr.us-east-1.amazonaws.com/sagemaker-xgboost:0.90-2-cpu-py3'"
      ]
     },
     "execution_count": 32,
     "metadata": {},
     "output_type": "execute_result"
    }
   ],
   "source": [
    "from sagemaker.image_uris import retrieve\n",
    "container = retrieve('xgboost', region, version=\"0.90-2\")\n",
    "container"
   ]
  },
  {
   "cell_type": "code",
   "execution_count": 33,
   "metadata": {},
   "outputs": [],
   "source": [
    "from sagemaker.inputs import TrainingInput\n",
    "    \n",
    "s3_input_training = TrainingInput(\n",
    "    training_s3_input_location, \n",
    "    content_type=\"text/csv\")\n",
    "s3_input_validation = TrainingInput(\n",
    "    validation_s3_input_location, \n",
    "    content_type=\"text/csv\")"
   ]
  },
  {
   "cell_type": "code",
   "execution_count": 34,
   "metadata": {},
   "outputs": [],
   "source": [
    "estimator = sagemaker.estimator.Estimator( \n",
    "            container,\n",
    "            role,\n",
    "            instance_count=1, \n",
    "            instance_type='ml.m5.large', \n",
    "            output_path=training_s3_output_location, \n",
    "            sagemaker_session=session)"
   ]
  },
  {
   "cell_type": "code",
   "execution_count": 35,
   "metadata": {},
   "outputs": [],
   "source": [
    "estimator.set_hyperparameters(\n",
    "    eval_metric='auc',\n",
    "    objective='binary:logistic',\n",
    "    num_round=50)"
   ]
  },
  {
   "cell_type": "code",
   "execution_count": 36,
   "metadata": {},
   "outputs": [],
   "source": [
    "hyperparameter_ranges = {\n",
    "    'eta': tuner.ContinuousParameter(0, 1),\n",
    "    'min_child_weight': tuner.ContinuousParameter(3, 7),\n",
    "    'max_depth': tuner.IntegerParameter(2, 8)\n",
    "}"
   ]
  },
  {
   "cell_type": "code",
   "execution_count": 37,
   "metadata": {},
   "outputs": [],
   "source": [
    "objective_metric_name = 'validation:auc'"
   ]
  },
  {
   "cell_type": "code",
   "execution_count": 38,
   "metadata": {},
   "outputs": [],
   "source": [
    "hyperparameter_tuner = tuner.HyperparameterTuner(\n",
    "    estimator,\n",
    "    objective_metric_name,\n",
    "    hyperparameter_ranges,\n",
    "    max_jobs=20,\n",
    "    max_parallel_jobs=3)"
   ]
  },
  {
   "cell_type": "code",
   "execution_count": 39,
   "metadata": {},
   "outputs": [],
   "source": [
    "hyperparameter_tuner.fit(\n",
    "    {'train': s3_input_training, \n",
    "     'validation': s3_input_validation},\n",
    "    include_cls_metadata=False,\n",
    "    wait=False\n",
    ")"
   ]
  },
  {
   "cell_type": "code",
   "execution_count": 40,
   "metadata": {},
   "outputs": [
    {
     "data": {
      "text/plain": [
       "'InProgress'"
      ]
     },
     "execution_count": 40,
     "metadata": {},
     "output_type": "execute_result"
    }
   ],
   "source": [
    "job_name = hyperparameter_tuner.latest_tuning_job.job_name\n",
    "\n",
    "response = client.describe_hyper_parameter_tuning_job(\n",
    "    HyperParameterTuningJobName=job_name\n",
    ")\n",
    "\n",
    "response['HyperParameterTuningJobStatus']"
   ]
  },
  {
   "cell_type": "code",
   "execution_count": 41,
   "metadata": {
    "scrolled": true
   },
   "outputs": [
    {
     "name": "stdout",
     "output_type": "stream",
     "text": [
      "{'CreationTime': datetime.datetime(2021, 5, 21, 14, 8, 43, 808000, tzinfo=tzlocal()),\n",
      " 'HyperParameterTuningJobArn': 'arn:aws:sagemaker:us-east-1:581320662326:hyper-parameter-tuning-job/sagemaker-xgboost-210521-1408',\n",
      " 'HyperParameterTuningJobConfig': {'HyperParameterTuningJobObjective': {'MetricName': 'validation:auc',\n",
      "                                                                        'Type': 'Maximize'},\n",
      "                                   'ParameterRanges': {'CategoricalParameterRanges': [],\n",
      "                                                       'ContinuousParameterRanges': [{'MaxValue': '1',\n",
      "                                                                                      'MinValue': '0',\n",
      "                                                                                      'Name': 'eta',\n",
      "                                                                                      'ScalingType': 'Auto'},\n",
      "                                                                                     {'MaxValue': '7',\n",
      "                                                                                      'MinValue': '3',\n",
      "                                                                                      'Name': 'min_child_weight',\n",
      "                                                                                      'ScalingType': 'Auto'}],\n",
      "                                                       'IntegerParameterRanges': [{'MaxValue': '8',\n",
      "                                                                                   'MinValue': '2',\n",
      "                                                                                   'Name': 'max_depth',\n",
      "                                                                                   'ScalingType': 'Auto'}]},\n",
      "                                   'ResourceLimits': {'MaxNumberOfTrainingJobs': 20,\n",
      "                                                      'MaxParallelTrainingJobs': 3},\n",
      "                                   'Strategy': 'Bayesian',\n",
      "                                   'TrainingJobEarlyStoppingType': 'Off'},\n",
      " 'HyperParameterTuningJobName': 'sagemaker-xgboost-210521-1408',\n",
      " 'HyperParameterTuningJobStatus': 'InProgress',\n",
      " 'LastModifiedTime': datetime.datetime(2021, 5, 21, 14, 8, 43, 808000, tzinfo=tzlocal()),\n",
      " 'ObjectiveStatusCounters': {'Failed': 0, 'Pending': 0, 'Succeeded': 0},\n",
      " 'ResponseMetadata': {'HTTPHeaders': {'content-length': '7044',\n",
      "                                      'content-type': 'application/x-amz-json-1.1',\n",
      "                                      'date': 'Fri, 21 May 2021 14:08:43 GMT',\n",
      "                                      'x-amzn-requestid': '5b7d7af3-3949-438d-86ec-028a47648fbe'},\n",
      "                      'HTTPStatusCode': 200,\n",
      "                      'RequestId': '5b7d7af3-3949-438d-86ec-028a47648fbe',\n",
      "                      'RetryAttempts': 0},\n",
      " 'TrainingJobDefinition': {'AlgorithmSpecification': {'MetricDefinitions': [{'Name': 'train:mae',\n",
      "                                                                             'Regex': '.*\\\\[[0-9]+\\\\].*#011train-mae:([-+]?[0-9]*\\\\.?[0-9]+(?:[eE][-+]?[0-9]+)?).*'},\n",
      "                                                                            {'Name': 'validation:aucpr',\n",
      "                                                                             'Regex': '.*\\\\[[0-9]+\\\\].*#011validation-aucpr:([-+]?[0-9]*\\\\.?[0-9]+(?:[eE][-+]?[0-9]+)?).*'},\n",
      "                                                                            {'Name': 'validation:f1_binary',\n",
      "                                                                             'Regex': '.*\\\\[[0-9]+\\\\].*#011validation-f1_binary:([-+]?[0-9]*\\\\.?[0-9]+(?:[eE][-+]?[0-9]+)?).*'},\n",
      "                                                                            {'Name': 'train:merror',\n",
      "                                                                             'Regex': '.*\\\\[[0-9]+\\\\].*#011train-merror:([-+]?[0-9]*\\\\.?[0-9]+(?:[eE][-+]?[0-9]+)?).*'},\n",
      "                                                                            {'Name': 'train:gamma-nloglik',\n",
      "                                                                             'Regex': '.*\\\\[[0-9]+\\\\].*#011train-gamma-nloglik:([-+]?[0-9]*\\\\.?[0-9]+(?:[eE][-+]?[0-9]+)?).*'},\n",
      "                                                                            {'Name': 'validation:mae',\n",
      "                                                                             'Regex': '.*\\\\[[0-9]+\\\\].*#011validation-mae:([-+]?[0-9]*\\\\.?[0-9]+(?:[eE][-+]?[0-9]+)?).*'},\n",
      "                                                                            {'Name': 'validation:logloss',\n",
      "                                                                             'Regex': '.*\\\\[[0-9]+\\\\].*#011validation-logloss:([-+]?[0-9]*\\\\.?[0-9]+(?:[eE][-+]?[0-9]+)?).*'},\n",
      "                                                                            {'Name': 'train:mlogloss',\n",
      "                                                                             'Regex': '.*\\\\[[0-9]+\\\\].*#011train-mlogloss:([-+]?[0-9]*\\\\.?[0-9]+(?:[eE][-+]?[0-9]+)?).*'},\n",
      "                                                                            {'Name': 'train:cox-nloglik',\n",
      "                                                                             'Regex': '.*\\\\[[0-9]+\\\\].*#011train-cox-nloglik:([-+]?[0-9]*\\\\.?[0-9]+(?:[eE][-+]?[0-9]+)?).*'},\n",
      "                                                                            {'Name': 'validation:f1',\n",
      "                                                                             'Regex': '.*\\\\[[0-9]+\\\\].*#011validation-f1:([-+]?[0-9]*\\\\.?[0-9]+(?:[eE][-+]?[0-9]+)?).*'},\n",
      "                                                                            {'Name': 'validation:cox-nloglik',\n",
      "                                                                             'Regex': '.*\\\\[[0-9]+\\\\].*#011validation-cox-nloglik:([-+]?[0-9]*\\\\.?[0-9]+(?:[eE][-+]?[0-9]+)?).*'},\n",
      "                                                                            {'Name': 'train:accuracy',\n",
      "                                                                             'Regex': '.*\\\\[[0-9]+\\\\].*#011train-accuracy:([-+]?[0-9]*\\\\.?[0-9]+(?:[eE][-+]?[0-9]+)?).*'},\n",
      "                                                                            {'Name': 'train:mse',\n",
      "                                                                             'Regex': '.*\\\\[[0-9]+\\\\].*#011train-mse:([-+]?[0-9]*\\\\.?[0-9]+(?:[eE][-+]?[0-9]+)?).*'},\n",
      "                                                                            {'Name': 'validation:poisson-nloglik',\n",
      "                                                                             'Regex': '.*\\\\[[0-9]+\\\\].*#011validation-poisson-nloglik:([-+]?[0-9]*\\\\.?[0-9]+(?:[eE][-+]?[0-9]+)?).*'},\n",
      "                                                                            {'Name': 'train:tweedie-nloglik',\n",
      "                                                                             'Regex': '.*\\\\[[0-9]+\\\\].*#011train-tweedie-nloglik:([-+]?[0-9]*\\\\.?[0-9]+(?:[eE][-+]?[0-9]+)?).*'},\n",
      "                                                                            {'Name': 'train:error',\n",
      "                                                                             'Regex': '.*\\\\[[0-9]+\\\\].*#011train-error:([-+]?[0-9]*\\\\.?[0-9]+(?:[eE][-+]?[0-9]+)?).*'},\n",
      "                                                                            {'Name': 'train:ndcg',\n",
      "                                                                             'Regex': '.*\\\\[[0-9]+\\\\].*#011train-ndcg:([-+]?[0-9]*\\\\.?[0-9]+(?:[eE][-+]?[0-9]+)?).*'},\n",
      "                                                                            {'Name': 'validation:map',\n",
      "                                                                             'Regex': '.*\\\\[[0-9]+\\\\].*#011validation-map:([-+]?[0-9]*\\\\.?[0-9]+(?:[eE][-+]?[0-9]+)?).*'},\n",
      "                                                                            {'Name': 'train:f1_binary',\n",
      "                                                                             'Regex': '.*\\\\[[0-9]+\\\\].*#011train-f1_binary:([-+]?[0-9]*\\\\.?[0-9]+(?:[eE][-+]?[0-9]+)?).*'},\n",
      "                                                                            {'Name': 'validation:auc',\n",
      "                                                                             'Regex': '.*\\\\[[0-9]+\\\\].*#011validation-auc:([-+]?[0-9]*\\\\.?[0-9]+(?:[eE][-+]?[0-9]+)?).*'},\n",
      "                                                                            {'Name': 'validation:gamma-deviance',\n",
      "                                                                             'Regex': '.*\\\\[[0-9]+\\\\].*#011validation-gamma-deviance:([-+]?[0-9]*\\\\.?[0-9]+(?:[eE][-+]?[0-9]+)?).*'},\n",
      "                                                                            {'Name': 'train:auc',\n",
      "                                                                             'Regex': '.*\\\\[[0-9]+\\\\].*#011train-auc:([-+]?[0-9]*\\\\.?[0-9]+(?:[eE][-+]?[0-9]+)?).*'},\n",
      "                                                                            {'Name': 'validation:error',\n",
      "                                                                             'Regex': '.*\\\\[[0-9]+\\\\].*#011validation-error:([-+]?[0-9]*\\\\.?[0-9]+(?:[eE][-+]?[0-9]+)?).*'},\n",
      "                                                                            {'Name': 'validation:merror',\n",
      "                                                                             'Regex': '.*\\\\[[0-9]+\\\\].*#011validation-merror:([-+]?[0-9]*\\\\.?[0-9]+(?:[eE][-+]?[0-9]+)?).*'},\n",
      "                                                                            {'Name': 'train:poisson-nloglik',\n",
      "                                                                             'Regex': '.*\\\\[[0-9]+\\\\].*#011train-poisson-nloglik:([-+]?[0-9]*\\\\.?[0-9]+(?:[eE][-+]?[0-9]+)?).*'},\n",
      "                                                                            {'Name': 'train:rmse',\n",
      "                                                                             'Regex': '.*\\\\[[0-9]+\\\\].*#011train-rmse:([-+]?[0-9]*\\\\.?[0-9]+(?:[eE][-+]?[0-9]+)?).*'},\n",
      "                                                                            {'Name': 'train:logloss',\n",
      "                                                                             'Regex': '.*\\\\[[0-9]+\\\\].*#011train-logloss:([-+]?[0-9]*\\\\.?[0-9]+(?:[eE][-+]?[0-9]+)?).*'},\n",
      "                                                                            {'Name': 'validation:accuracy',\n",
      "                                                                             'Regex': '.*\\\\[[0-9]+\\\\].*#011validation-accuracy:([-+]?[0-9]*\\\\.?[0-9]+(?:[eE][-+]?[0-9]+)?).*'},\n",
      "                                                                            {'Name': 'train:aucpr',\n",
      "                                                                             'Regex': '.*\\\\[[0-9]+\\\\].*#011train-aucpr:([-+]?[0-9]*\\\\.?[0-9]+(?:[eE][-+]?[0-9]+)?).*'},\n",
      "                                                                            {'Name': 'validation:tweedie-nloglik',\n",
      "                                                                             'Regex': '.*\\\\[[0-9]+\\\\].*#011validation-tweedie-nloglik:([-+]?[0-9]*\\\\.?[0-9]+(?:[eE][-+]?[0-9]+)?).*'},\n",
      "                                                                            {'Name': 'validation:rmse',\n",
      "                                                                             'Regex': '.*\\\\[[0-9]+\\\\].*#011validation-rmse:([-+]?[0-9]*\\\\.?[0-9]+(?:[eE][-+]?[0-9]+)?).*'},\n",
      "                                                                            {'Name': 'train:gamma-deviance',\n",
      "                                                                             'Regex': '.*\\\\[[0-9]+\\\\].*#011train-gamma-deviance:([-+]?[0-9]*\\\\.?[0-9]+(?:[eE][-+]?[0-9]+)?).*'},\n",
      "                                                                            {'Name': 'validation:mse',\n",
      "                                                                             'Regex': '.*\\\\[[0-9]+\\\\].*#011validation-mse:([-+]?[0-9]*\\\\.?[0-9]+(?:[eE][-+]?[0-9]+)?).*'},\n",
      "                                                                            {'Name': 'validation:ndcg',\n",
      "                                                                             'Regex': '.*\\\\[[0-9]+\\\\].*#011validation-ndcg:([-+]?[0-9]*\\\\.?[0-9]+(?:[eE][-+]?[0-9]+)?).*'},\n",
      "                                                                            {'Name': 'train:f1',\n",
      "                                                                             'Regex': '.*\\\\[[0-9]+\\\\].*#011train-f1:([-+]?[0-9]*\\\\.?[0-9]+(?:[eE][-+]?[0-9]+)?).*'},\n",
      "                                                                            {'Name': 'validation:mlogloss',\n",
      "                                                                             'Regex': '.*\\\\[[0-9]+\\\\].*#011validation-mlogloss:([-+]?[0-9]*\\\\.?[0-9]+(?:[eE][-+]?[0-9]+)?).*'},\n",
      "                                                                            {'Name': 'train:map',\n",
      "                                                                             'Regex': '.*\\\\[[0-9]+\\\\].*#011train-map:([-+]?[0-9]*\\\\.?[0-9]+(?:[eE][-+]?[0-9]+)?).*'},\n",
      "                                                                            {'Name': 'validation:gamma-nloglik',\n",
      "                                                                             'Regex': '.*\\\\[[0-9]+\\\\].*#011validation-gamma-nloglik:([-+]?[0-9]*\\\\.?[0-9]+(?:[eE][-+]?[0-9]+)?).*'},\n",
      "                                                                            {'Name': 'ObjectiveMetric',\n",
      "                                                                             'Regex': '.*\\\\[[0-9]+\\\\].*#011validation-auc:([-+]?[0-9]*\\\\.?[0-9]+(?:[eE][-+]?[0-9]+)?).*'}],\n",
      "                                                      'TrainingImage': '683313688378.dkr.ecr.us-east-1.amazonaws.com/sagemaker-xgboost:0.90-2-cpu-py3',\n",
      "                                                      'TrainingInputMode': 'File'},\n",
      "                           'EnableInterContainerTrafficEncryption': False,\n",
      "                           'EnableManagedSpotTraining': False,\n",
      "                           'EnableNetworkIsolation': False,\n",
      "                           'InputDataConfig': [{'ChannelName': 'train',\n",
      "                                                'ContentType': 'text/csv',\n",
      "                                                'DataSource': {'S3DataSource': {'S3DataDistributionType': 'FullyReplicated',\n",
      "                                                                                'S3DataType': 'S3Prefix',\n",
      "                                                                                'S3Uri': 's3://sagemaker-cookbook-bucket/chapter06/input/training_data_no_header.csv'}}},\n",
      "                                               {'ChannelName': 'validation',\n",
      "                                                'ContentType': 'text/csv',\n",
      "                                                'DataSource': {'S3DataSource': {'S3DataDistributionType': 'FullyReplicated',\n",
      "                                                                                'S3DataType': 'S3Prefix',\n",
      "                                                                                'S3Uri': 's3://sagemaker-cookbook-bucket/chapter06/input/validation_data_no_header.csv'}}}],\n",
      "                           'OutputDataConfig': {'S3OutputPath': 's3://sagemaker-cookbook-bucket/output/'},\n",
      "                           'ResourceConfig': {'InstanceCount': 1,\n",
      "                                              'InstanceType': 'ml.m5.large',\n",
      "                                              'VolumeSizeInGB': 30},\n",
      "                           'RoleArn': 'arn:aws:iam::581320662326:role/SuperAdminRole',\n",
      "                           'StaticHyperParameters': {'_tuning_objective_metric': 'validation:auc',\n",
      "                                                     'eval_metric': 'auc',\n",
      "                                                     'num_round': '50',\n",
      "                                                     'objective': 'binary:logistic'},\n",
      "                           'StoppingCondition': {'MaxRuntimeInSeconds': 86400}},\n",
      " 'TrainingJobStatusCounters': {'Completed': 0,\n",
      "                               'InProgress': 0,\n",
      "                               'NonRetryableError': 0,\n",
      "                               'RetryableError': 0,\n",
      "                               'Stopped': 0}}\n"
     ]
    }
   ],
   "source": [
    "from pprint import pprint\n",
    "pprint(response)"
   ]
  },
  {
   "cell_type": "code",
   "execution_count": 43,
   "metadata": {},
   "outputs": [
    {
     "name": "stdout",
     "output_type": "stream",
     "text": [
      "Stored 'tuning_job_name' (str)\n"
     ]
    },
    {
     "data": {
      "text/plain": [
       "'sagemaker-xgboost-210521-1408'"
      ]
     },
     "execution_count": 43,
     "metadata": {},
     "output_type": "execute_result"
    }
   ],
   "source": [
    "tuning_job_name = response['HyperParameterTuningJobName']\n",
    "%store tuning_job_name\n",
    "tuning_job_name"
   ]
  }
 ],
 "metadata": {
  "instance_type": "ml.t3.medium",
  "kernelspec": {
   "display_name": "Python 3 (Data Science)",
   "language": "python",
   "name": "python3__SAGEMAKER_INTERNAL__arn:aws:sagemaker:us-east-1:081325390199:image/datascience-1.0"
  },
  "language_info": {
   "codemirror_mode": {
    "name": "ipython",
    "version": 3
   },
   "file_extension": ".py",
   "mimetype": "text/x-python",
   "name": "python",
   "nbconvert_exporter": "python",
   "pygments_lexer": "ipython3",
   "version": "3.7.10"
  }
 },
 "nbformat": 4,
 "nbformat_minor": 4
}
