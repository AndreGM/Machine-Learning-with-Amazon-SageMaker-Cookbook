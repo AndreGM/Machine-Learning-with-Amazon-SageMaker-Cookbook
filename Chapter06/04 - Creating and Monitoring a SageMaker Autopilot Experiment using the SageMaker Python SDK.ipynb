{
 "cells": [
  {
   "cell_type": "code",
   "execution_count": 29,
   "metadata": {},
   "outputs": [
    {
     "data": {
      "text/plain": [
       "'sagemaker-cookbook-bucket'"
      ]
     },
     "execution_count": 29,
     "metadata": {},
     "output_type": "execute_result"
    }
   ],
   "source": [
    "%store -r s3_bucket_name\n",
    "s3_bucket_name"
   ]
  },
  {
   "cell_type": "code",
   "execution_count": 30,
   "metadata": {},
   "outputs": [
    {
     "data": {
      "text/plain": [
       "'chapter06/input'"
      ]
     },
     "execution_count": 30,
     "metadata": {},
     "output_type": "execute_result"
    }
   ],
   "source": [
    "%store -r prefix\n",
    "prefix"
   ]
  },
  {
   "cell_type": "code",
   "execution_count": 31,
   "metadata": {},
   "outputs": [],
   "source": [
    "s3_data_source = \\\n",
    "f\"s3://{s3_bucket_name}/{prefix}/training_data.csv\"\n",
    "output_target = f\"s3://{s3_bucket_name}/{prefix}/output\"\n",
    "max_candidates = 25"
   ]
  },
  {
   "cell_type": "code",
   "execution_count": 32,
   "metadata": {},
   "outputs": [],
   "source": [
    "import sagemaker\n",
    "session = sagemaker.Session()\n",
    "role = sagemaker.get_execution_role()"
   ]
  },
  {
   "cell_type": "code",
   "execution_count": 33,
   "metadata": {},
   "outputs": [],
   "source": [
    "from sagemaker.automl.automl import AutoML\n",
    "\n",
    "experiment = AutoML(\n",
    "    role=role,\n",
    "    sagemaker_session=session,\n",
    "    target_attribute_name=\"label\",\n",
    "    output_path=output_target,\n",
    "    max_candidates=25,\n",
    "    max_runtime_per_training_job_in_seconds=1000,\n",
    "    total_job_runtime_in_seconds=6000\n",
    ")"
   ]
  },
  {
   "cell_type": "code",
   "execution_count": 34,
   "metadata": {},
   "outputs": [],
   "source": [
    "experiment.fit(inputs=s3_data_source, logs=False, wait=False)"
   ]
  },
  {
   "cell_type": "code",
   "execution_count": 35,
   "metadata": {},
   "outputs": [
    {
     "data": {
      "text/plain": [
       "{'AutoMLJobName': 'automl-2021-05-21-11-24-23-889',\n",
       " 'AutoMLJobArn': 'arn:aws:sagemaker:us-east-1:581320662326:automl-job/automl-2021-05-21-11-24-23-889',\n",
       " 'InputDataConfig': [{'DataSource': {'S3DataSource': {'S3DataType': 'S3Prefix',\n",
       "     'S3Uri': 's3://sagemaker-cookbook-bucket/chapter06/input/training_data.csv'}},\n",
       "   'TargetAttributeName': 'label'}],\n",
       " 'OutputDataConfig': {'S3OutputPath': 's3://sagemaker-cookbook-bucket/chapter06/input/output'},\n",
       " 'RoleArn': 'arn:aws:iam::581320662326:role/SuperAdminRole',\n",
       " 'AutoMLJobConfig': {'CompletionCriteria': {'MaxCandidates': 25,\n",
       "   'MaxRuntimePerTrainingJobInSeconds': 1000,\n",
       "   'MaxAutoMLJobRuntimeInSeconds': 6000},\n",
       "  'SecurityConfig': {'EnableInterContainerTrafficEncryption': False}},\n",
       " 'CreationTime': datetime.datetime(2021, 5, 21, 11, 24, 24, 21000, tzinfo=tzlocal()),\n",
       " 'LastModifiedTime': datetime.datetime(2021, 5, 21, 11, 24, 24, 21000, tzinfo=tzlocal()),\n",
       " 'AutoMLJobStatus': 'InProgress',\n",
       " 'AutoMLJobSecondaryStatus': 'Starting',\n",
       " 'GenerateCandidateDefinitionsOnly': False,\n",
       " 'ResponseMetadata': {'RequestId': '2eaca5e0-ff17-4996-b35f-0c105fbd817f',\n",
       "  'HTTPStatusCode': 200,\n",
       "  'HTTPHeaders': {'x-amzn-requestid': '2eaca5e0-ff17-4996-b35f-0c105fbd817f',\n",
       "   'content-type': 'application/x-amz-json-1.1',\n",
       "   'content-length': '865',\n",
       "   'date': 'Fri, 21 May 2021 11:24:23 GMT'},\n",
       "  'RetryAttempts': 0}}"
      ]
     },
     "execution_count": 35,
     "metadata": {},
     "output_type": "execute_result"
    }
   ],
   "source": [
    "response = experiment.describe_auto_ml_job()\n",
    "response"
   ]
  },
  {
   "cell_type": "code",
   "execution_count": 36,
   "metadata": {},
   "outputs": [],
   "source": [
    "from pprint import pprint\n",
    "from time import sleep"
   ]
  },
  {
   "cell_type": "code",
   "execution_count": 37,
   "metadata": {
    "scrolled": true
   },
   "outputs": [
    {
     "name": "stdout",
     "output_type": "stream",
     "text": [
      "InProgress - Starting\n",
      "InProgress - AnalyzingData\n",
      "InProgress - AnalyzingData\n",
      "InProgress - AnalyzingData\n",
      "InProgress - AnalyzingData\n",
      "InProgress - AnalyzingData\n",
      "InProgress - AnalyzingData\n",
      "InProgress - AnalyzingData\n",
      "InProgress - AnalyzingData\n",
      "InProgress - AnalyzingData\n",
      "InProgress - AnalyzingData\n",
      "InProgress - AnalyzingData\n",
      "InProgress - AnalyzingData\n",
      "InProgress - AnalyzingData\n",
      "InProgress - AnalyzingData\n",
      "InProgress - AnalyzingData\n",
      "InProgress - AnalyzingData\n",
      "InProgress - AnalyzingData\n",
      "InProgress - AnalyzingData\n",
      "InProgress - AnalyzingData\n",
      "InProgress - AnalyzingData\n",
      "InProgress - AnalyzingData\n",
      "InProgress - AnalyzingData\n",
      "InProgress - AnalyzingData\n",
      "InProgress - AnalyzingData\n",
      "InProgress - AnalyzingData\n",
      "InProgress - AnalyzingData\n",
      "InProgress - AnalyzingData\n",
      "InProgress - AnalyzingData\n",
      "InProgress - AnalyzingData\n",
      "InProgress - AnalyzingData\n",
      "InProgress - AnalyzingData\n",
      "InProgress - FeatureEngineering\n",
      "InProgress - FeatureEngineering\n",
      "InProgress - FeatureEngineering\n",
      "InProgress - FeatureEngineering\n",
      "InProgress - FeatureEngineering\n",
      "InProgress - FeatureEngineering\n",
      "InProgress - FeatureEngineering\n",
      "InProgress - FeatureEngineering\n",
      "InProgress - FeatureEngineering\n",
      "InProgress - FeatureEngineering\n",
      "InProgress - FeatureEngineering\n",
      "InProgress - FeatureEngineering\n",
      "InProgress - FeatureEngineering\n",
      "InProgress - FeatureEngineering\n",
      "InProgress - FeatureEngineering\n",
      "InProgress - FeatureEngineering\n",
      "InProgress - FeatureEngineering\n",
      "InProgress - FeatureEngineering\n",
      "InProgress - FeatureEngineering\n",
      "InProgress - FeatureEngineering\n",
      "InProgress - FeatureEngineering\n",
      "InProgress - FeatureEngineering\n",
      "InProgress - FeatureEngineering\n",
      "InProgress - FeatureEngineering\n",
      "InProgress - FeatureEngineering\n",
      "InProgress - FeatureEngineering\n",
      "InProgress - FeatureEngineering\n",
      "InProgress - FeatureEngineering\n",
      "InProgress - FeatureEngineering\n",
      "InProgress - FeatureEngineering\n",
      "InProgress - FeatureEngineering\n",
      "InProgress - FeatureEngineering\n",
      "InProgress - FeatureEngineering\n",
      "InProgress - FeatureEngineering\n",
      "InProgress - FeatureEngineering\n",
      "InProgress - FeatureEngineering\n",
      "InProgress - ModelTuning\n",
      "InProgress - ModelTuning\n",
      "InProgress - ModelTuning\n",
      "InProgress - ModelTuning\n",
      "InProgress - ModelTuning\n",
      "InProgress - ModelTuning\n",
      "InProgress - ModelTuning\n",
      "InProgress - ModelTuning\n",
      "InProgress - ModelTuning\n",
      "InProgress - ModelTuning\n",
      "InProgress - ModelTuning\n",
      "InProgress - ModelTuning\n",
      "InProgress - ModelTuning\n",
      "InProgress - ModelTuning\n",
      "InProgress - ModelTuning\n",
      "InProgress - ModelTuning\n",
      "InProgress - ModelTuning\n",
      "InProgress - ModelTuning\n",
      "InProgress - ModelTuning\n",
      "InProgress - ModelTuning\n",
      "InProgress - ModelTuning\n",
      "InProgress - ModelTuning\n",
      "InProgress - ModelTuning\n",
      "InProgress - ModelTuning\n",
      "InProgress - ModelTuning\n",
      "InProgress - ModelTuning\n",
      "InProgress - ModelTuning\n",
      "InProgress - ModelTuning\n",
      "InProgress - ModelTuning\n",
      "InProgress - ModelTuning\n",
      "InProgress - ModelTuning\n",
      "InProgress - ModelTuning\n",
      "InProgress - ModelTuning\n",
      "InProgress - ModelTuning\n",
      "InProgress - ModelTuning\n",
      "InProgress - ModelTuning\n",
      "InProgress - ModelTuning\n",
      "InProgress - ModelTuning\n",
      "InProgress - ModelTuning\n",
      "InProgress - GeneratingExplainabilityReport\n",
      "InProgress - GeneratingExplainabilityReport\n",
      "InProgress - GeneratingExplainabilityReport\n",
      "InProgress - GeneratingExplainabilityReport\n",
      "InProgress - GeneratingExplainabilityReport\n",
      "InProgress - GeneratingExplainabilityReport\n",
      "InProgress - GeneratingExplainabilityReport\n",
      "InProgress - GeneratingExplainabilityReport\n",
      "InProgress - GeneratingExplainabilityReport\n",
      "InProgress - GeneratingExplainabilityReport\n",
      "InProgress - GeneratingExplainabilityReport\n",
      "InProgress - GeneratingExplainabilityReport\n",
      "InProgress - GeneratingExplainabilityReport\n",
      "InProgress - GeneratingExplainabilityReport\n",
      "InProgress - GeneratingExplainabilityReport\n",
      "InProgress - GeneratingExplainabilityReport\n",
      "InProgress - GeneratingExplainabilityReport\n",
      "InProgress - GeneratingExplainabilityReport\n",
      "InProgress - GeneratingExplainabilityReport\n",
      "InProgress - GeneratingExplainabilityReport\n",
      "InProgress - GeneratingExplainabilityReport\n",
      "InProgress - GeneratingExplainabilityReport\n",
      "InProgress - GeneratingExplainabilityReport\n",
      "InProgress - GeneratingExplainabilityReport\n",
      "InProgress - GeneratingExplainabilityReport\n",
      "InProgress - GeneratingExplainabilityReport\n",
      "InProgress - GeneratingExplainabilityReport\n",
      "InProgress - GeneratingExplainabilityReport\n",
      "InProgress - GeneratingExplainabilityReport\n",
      "InProgress - GeneratingExplainabilityReport\n",
      "InProgress - GeneratingExplainabilityReport\n",
      "InProgress - GeneratingExplainabilityReport\n",
      "InProgress - GeneratingExplainabilityReport\n",
      "InProgress - GeneratingExplainabilityReport\n",
      "InProgress - GeneratingExplainabilityReport\n",
      "InProgress - GeneratingExplainabilityReport\n",
      "Completed - Completed\n",
      "CPU times: user 1.77 s, sys: 143 ms, total: 1.91 s\n",
      "Wall time: 36min 12s\n"
     ]
    }
   ],
   "source": [
    "%%time\n",
    "\n",
    "status = \"InProgress\"\n",
    "\n",
    "while status == \"InProgress\":\n",
    "    response = experiment.describe_auto_ml_job()\n",
    "    status = response['AutoMLJobStatus']\n",
    "    secondary_status = response['AutoMLJobSecondaryStatus']\n",
    "    \n",
    "    print(f\"{status} - {secondary_status}\")\n",
    "\n",
    "    sleep(15)"
   ]
  },
  {
   "cell_type": "code",
   "execution_count": 38,
   "metadata": {},
   "outputs": [],
   "source": [
    "response = experiment.describe_auto_ml_job()"
   ]
  },
  {
   "cell_type": "code",
   "execution_count": 39,
   "metadata": {},
   "outputs": [
    {
     "data": {
      "text/plain": [
       "35"
      ]
     },
     "execution_count": 39,
     "metadata": {},
     "output_type": "execute_result"
    }
   ],
   "source": [
    "delta = response['EndTime'] - response['CreationTime']\n",
    "total_minutes = int(delta.total_seconds() / 60)\n",
    "total_minutes"
   ]
  },
  {
   "cell_type": "code",
   "execution_count": 40,
   "metadata": {},
   "outputs": [
    {
     "data": {
      "text/plain": [
       "{'CandidateDefinitionNotebookLocation': 's3://sagemaker-cookbook-bucket/chapter06/input/output/automl-2021-05-21-11-24-23-889/sagemaker-automl-candidates/automl-2021-05-21-11-24-23-889-pr-1-87a141a5b40e4650abd19edc6f3/notebooks/SageMakerAutopilotCandidateDefinitionNotebook.ipynb',\n",
       " 'DataExplorationNotebookLocation': 's3://sagemaker-cookbook-bucket/chapter06/input/output/automl-2021-05-21-11-24-23-889/sagemaker-automl-candidates/automl-2021-05-21-11-24-23-889-pr-1-87a141a5b40e4650abd19edc6f3/notebooks/SageMakerAutopilotDataExplorationNotebook.ipynb'}"
      ]
     },
     "execution_count": 40,
     "metadata": {},
     "output_type": "execute_result"
    }
   ],
   "source": [
    "artifacts = response['AutoMLJobArtifacts']\n",
    "artifacts"
   ]
  },
  {
   "cell_type": "code",
   "execution_count": 41,
   "metadata": {},
   "outputs": [
    {
     "name": "stdout",
     "output_type": "stream",
     "text": [
      "download: s3://sagemaker-cookbook-bucket/chapter06/input/output/automl-2021-05-21-11-24-23-889/sagemaker-automl-candidates/automl-2021-05-21-11-24-23-889-pr-1-87a141a5b40e4650abd19edc6f3/notebooks/SageMakerAutopilotCandidateDefinitionNotebook.ipynb to tmp/SageMakerAutopilotCandidateDefinitionNotebook.ipynb\n",
      "download: s3://sagemaker-cookbook-bucket/chapter06/input/output/automl-2021-05-21-11-24-23-889/sagemaker-automl-candidates/automl-2021-05-21-11-24-23-889-pr-1-87a141a5b40e4650abd19edc6f3/notebooks/SageMakerAutopilotDataExplorationNotebook.ipynb to tmp/SageMakerAutopilotDataExplorationNotebook.ipynb\n"
     ]
    }
   ],
   "source": [
    "for s3_path in list(artifacts.values()):\n",
    "    !aws s3 cp {s3_path} tmp/.\n"
   ]
  },
  {
   "cell_type": "code",
   "execution_count": 42,
   "metadata": {},
   "outputs": [
    {
     "data": {
      "text/plain": [
       "{'CandidateName': 'tuning-job-1-da61eaf8193b4bbba9-019-313d539c',\n",
       " 'FinalAutoMLJobObjectiveMetric': {'MetricName': 'validation:f1',\n",
       "  'Value': 0.8604900240898132},\n",
       " 'ObjectiveStatus': 'Succeeded',\n",
       " 'CandidateSteps': [{'CandidateStepType': 'AWS::SageMaker::ProcessingJob',\n",
       "   'CandidateStepArn': 'arn:aws:sagemaker:us-east-1:581320662326:processing-job/automl-2021-05-21-11-24-23-889-db-1-177d60a5b7654af59aa9625caa0',\n",
       "   'CandidateStepName': 'automl-2021-05-21-11-24-23-889-db-1-177d60a5b7654af59aa9625caa0'},\n",
       "  {'CandidateStepType': 'AWS::SageMaker::TrainingJob',\n",
       "   'CandidateStepArn': 'arn:aws:sagemaker:us-east-1:581320662326:training-job/automl-2021-05-21-11-24-23-889-automl-202-dpp1-1-3bc0d7ae36e14c',\n",
       "   'CandidateStepName': 'automl-2021-05-21-11-24-23-889-automl-202-dpp1-1-3bc0d7ae36e14c'},\n",
       "  {'CandidateStepType': 'AWS::SageMaker::TransformJob',\n",
       "   'CandidateStepArn': 'arn:aws:sagemaker:us-east-1:581320662326:transform-job/automl-2021-05-21-11-24-23-889-automl-202-dpp1-csv-1-40f56230c5',\n",
       "   'CandidateStepName': 'automl-2021-05-21-11-24-23-889-automl-202-dpp1-csv-1-40f56230c5'},\n",
       "  {'CandidateStepType': 'AWS::SageMaker::TrainingJob',\n",
       "   'CandidateStepArn': 'arn:aws:sagemaker:us-east-1:581320662326:training-job/tuning-job-1-da61eaf8193b4bbba9-019-313d539c',\n",
       "   'CandidateStepName': 'tuning-job-1-da61eaf8193b4bbba9-019-313d539c'}],\n",
       " 'CandidateStatus': 'Completed',\n",
       " 'InferenceContainers': [{'Image': '683313688378.dkr.ecr.us-east-1.amazonaws.com/sagemaker-sklearn-automl:0.2-1-cpu-py3',\n",
       "   'ModelDataUrl': 's3://sagemaker-cookbook-bucket/chapter06/input/output/automl-2021-05-21-11-24-23-889/data-processor-models/automl-2021-05-21-11-24-23-889-automl-202-dpp1-1-3bc0d7ae36e14c/output/model.tar.gz',\n",
       "   'Environment': {'AUTOML_TRANSFORM_MODE': 'feature-transform',\n",
       "    'SAGEMAKER_DEFAULT_INVOCATIONS_ACCEPT': 'application/x-recordio-protobuf',\n",
       "    'SAGEMAKER_PROGRAM': 'sagemaker_serve',\n",
       "    'SAGEMAKER_SUBMIT_DIRECTORY': '/opt/ml/model/code'}},\n",
       "  {'Image': '683313688378.dkr.ecr.us-east-1.amazonaws.com/sagemaker-xgboost:1.2-2-cpu-py3',\n",
       "   'ModelDataUrl': 's3://sagemaker-cookbook-bucket/chapter06/input/output/automl-2021-05-21-11-24-23-889/tuning/automl-202-dpp1-xgb/tuning-job-1-da61eaf8193b4bbba9-019-313d539c/output/model.tar.gz',\n",
       "   'Environment': {'MAX_CONTENT_LENGTH': '20971520',\n",
       "    'SAGEMAKER_DEFAULT_INVOCATIONS_ACCEPT': 'text/csv',\n",
       "    'SAGEMAKER_INFERENCE_OUTPUT': 'predicted_label',\n",
       "    'SAGEMAKER_INFERENCE_SUPPORTED': 'predicted_label,probability,probabilities'}},\n",
       "  {'Image': '683313688378.dkr.ecr.us-east-1.amazonaws.com/sagemaker-sklearn-automl:0.2-1-cpu-py3',\n",
       "   'ModelDataUrl': 's3://sagemaker-cookbook-bucket/chapter06/input/output/automl-2021-05-21-11-24-23-889/data-processor-models/automl-2021-05-21-11-24-23-889-automl-202-dpp1-1-3bc0d7ae36e14c/output/model.tar.gz',\n",
       "   'Environment': {'AUTOML_TRANSFORM_MODE': 'inverse-label-transform',\n",
       "    'SAGEMAKER_DEFAULT_INVOCATIONS_ACCEPT': 'text/csv',\n",
       "    'SAGEMAKER_INFERENCE_INPUT': 'predicted_label',\n",
       "    'SAGEMAKER_INFERENCE_OUTPUT': 'predicted_label',\n",
       "    'SAGEMAKER_INFERENCE_SUPPORTED': 'predicted_label,probability,labels,probabilities',\n",
       "    'SAGEMAKER_PROGRAM': 'sagemaker_serve',\n",
       "    'SAGEMAKER_SUBMIT_DIRECTORY': '/opt/ml/model/code'}}],\n",
       " 'CreationTime': datetime.datetime(2021, 5, 21, 11, 46, 18, tzinfo=tzlocal()),\n",
       " 'EndTime': datetime.datetime(2021, 5, 21, 11, 47, 4, tzinfo=tzlocal()),\n",
       " 'LastModifiedTime': datetime.datetime(2021, 5, 21, 11, 51, 5, 947000, tzinfo=tzlocal()),\n",
       " 'CandidateProperties': {'CandidateArtifactLocations': {'Explainability': 's3://sagemaker-cookbook-bucket/chapter06/input/output/automl-2021-05-21-11-24-23-889/documentation/explainability/output'}}}"
      ]
     },
     "execution_count": 42,
     "metadata": {},
     "output_type": "execute_result"
    }
   ],
   "source": [
    "best = experiment.best_candidate()\n",
    "best"
   ]
  },
  {
   "cell_type": "code",
   "execution_count": 43,
   "metadata": {},
   "outputs": [
    {
     "data": {
      "text/plain": [
       "{'MetricName': 'validation:f1', 'Value': 0.8604900240898132}"
      ]
     },
     "execution_count": 43,
     "metadata": {},
     "output_type": "execute_result"
    }
   ],
   "source": [
    "best['FinalAutoMLJobObjectiveMetric']"
   ]
  },
  {
   "cell_type": "code",
   "execution_count": 44,
   "metadata": {},
   "outputs": [
    {
     "name": "stdout",
     "output_type": "stream",
     "text": [
      "Stored 'autopilot_job_name' (str)\n"
     ]
    },
    {
     "data": {
      "text/plain": [
       "'automl-2021-05-21-11-24-23-889'"
      ]
     },
     "execution_count": 44,
     "metadata": {},
     "output_type": "execute_result"
    }
   ],
   "source": [
    "autopilot_job_name = response['AutoMLJobName']\n",
    "%store autopilot_job_name\n",
    "autopilot_job_name"
   ]
  }
 ],
 "metadata": {
  "instance_type": "ml.t3.medium",
  "kernelspec": {
   "display_name": "Python 3 (Data Science)",
   "language": "python",
   "name": "python3__SAGEMAKER_INTERNAL__arn:aws:sagemaker:us-east-1:081325390199:image/datascience-1.0"
  },
  "language_info": {
   "codemirror_mode": {
    "name": "ipython",
    "version": 3
   },
   "file_extension": ".py",
   "mimetype": "text/x-python",
   "name": "python",
   "nbconvert_exporter": "python",
   "pygments_lexer": "ipython3",
   "version": "3.7.10"
  }
 },
 "nbformat": 4,
 "nbformat_minor": 4
}
