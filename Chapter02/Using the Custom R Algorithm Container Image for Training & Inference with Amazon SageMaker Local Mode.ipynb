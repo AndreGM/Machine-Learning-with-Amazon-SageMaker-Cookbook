{
 "cells": [
  {
   "cell_type": "code",
   "execution_count": null,
   "id": "inside-ranch",
   "metadata": {},
   "outputs": [],
   "source": [
    "cmd <- function(bash_command) {\n",
    "    output <- system(bash_command, intern=TRUE)\n",
    "    last_line = \"\"\n",
    "    \n",
    "    for (line in output) { \n",
    "        cat(line)\n",
    "        cat(\"\\n\")\n",
    "        last_line = line \n",
    "    }\n",
    "    \n",
    "    return(last_line) \n",
    "}"
   ]
  },
  {
   "cell_type": "code",
   "execution_count": null,
   "id": "stopped-interstate",
   "metadata": {},
   "outputs": [],
   "source": [
    "cmd(\"pip install 'sagemaker[local]' --upgrade\")"
   ]
  },
  {
   "cell_type": "code",
   "execution_count": null,
   "id": "comparable-honey",
   "metadata": {},
   "outputs": [],
   "source": [
    "s3.bucket <- \"<insert S3 bucket name>\"\n",
    "s3.prefix <- \"<insert prefix>\""
   ]
  },
  {
   "cell_type": "code",
   "execution_count": null,
   "id": "governing-surname",
   "metadata": {},
   "outputs": [],
   "source": [
    "training.s3_input_location <- paste0('s3://', s3.bucket, '/', s3.prefix, '/input/training_data.csv')\n",
    "print(training.s3_input_location)\n",
    "\n",
    "training.s3_output_location <- paste0('s3://', s3.bucket, '/', s3.prefix, '/output/custom/')\n",
    "print(training.s3_output_location)"
   ]
  },
  {
   "cell_type": "code",
   "execution_count": null,
   "id": "ordinary-republic",
   "metadata": {},
   "outputs": [],
   "source": [
    "library('reticulate')\n",
    "\n",
    "sagemaker <- import('sagemaker')"
   ]
  },
  {
   "cell_type": "code",
   "execution_count": null,
   "id": "enormous-mounting",
   "metadata": {},
   "outputs": [],
   "source": [
    "sagemaker[['__version__']]"
   ]
  },
  {
   "cell_type": "code",
   "execution_count": null,
   "id": "french-draft",
   "metadata": {},
   "outputs": [],
   "source": [
    "container <- \"<insert container image URI>\""
   ]
  },
  {
   "cell_type": "code",
   "execution_count": null,
   "id": "super-calendar",
   "metadata": {},
   "outputs": [],
   "source": [
    "role <- sagemaker$get_execution_role()"
   ]
  },
  {
   "cell_type": "code",
   "execution_count": null,
   "id": "equal-cliff",
   "metadata": {},
   "outputs": [],
   "source": [
    "LocalSession <- sagemaker$local$LocalSession\n",
    "\n",
    "session <- LocalSession()\n",
    "session$config <- list(local=list(local_code=TRUE))"
   ]
  },
  {
   "cell_type": "code",
   "execution_count": null,
   "id": "silent-watch",
   "metadata": {},
   "outputs": [],
   "source": [
    "TrainingInput <- sagemaker$inputs$TrainingInput\n",
    "\n",
    "sagemaker.train_input <- TrainingInput(training.s3_input_location, content_type=\"text/csv\")"
   ]
  },
  {
   "cell_type": "code",
   "execution_count": null,
   "id": "turkish-reward",
   "metadata": {},
   "outputs": [],
   "source": [
    "Estimator <- sagemaker$estimator$Estimator\n",
    "\n",
    "estimator <- Estimator(\n",
    "    container,\n",
    "    role, \n",
    "    instance_count=1L, \n",
    "    instance_type=\"local\",\n",
    "    output_path=training.s3_output_location,\n",
    "    sagemaker_session=session)"
   ]
  },
  {
   "cell_type": "code",
   "execution_count": null,
   "id": "expected-instrument",
   "metadata": {},
   "outputs": [],
   "source": [
    "estimator$set_hyperparameters(a=1L, b=2L, c=3L)"
   ]
  },
  {
   "cell_type": "code",
   "execution_count": null,
   "id": "wireless-karma",
   "metadata": {},
   "outputs": [],
   "source": [
    "estimator$fit(list(train = sagemaker.train_input))"
   ]
  },
  {
   "cell_type": "code",
   "execution_count": null,
   "id": "recreational-thousand",
   "metadata": {},
   "outputs": [],
   "source": [
    "estimator$model_data"
   ]
  },
  {
   "cell_type": "code",
   "execution_count": null,
   "id": "involved-envelope",
   "metadata": {},
   "outputs": [],
   "source": [
    "predictor <- estimator$deploy(\n",
    "    initial_instance_count=1L,\n",
    "    instance_type=\"local\",\n",
    "    endpoint_name=\"custom-local-r-endpoint\"\n",
    ")"
   ]
  },
  {
   "cell_type": "code",
   "execution_count": null,
   "id": "distributed-sandwich",
   "metadata": {},
   "outputs": [],
   "source": [
    "predictor$predict(\"42\")"
   ]
  },
  {
   "cell_type": "code",
   "execution_count": null,
   "id": "genuine-entity",
   "metadata": {},
   "outputs": [],
   "source": [
    "predictor$delete_endpoint()"
   ]
  }
 ],
 "metadata": {
  "kernelspec": {
   "display_name": "R",
   "language": "R",
   "name": "ir"
  },
  "language_info": {
   "codemirror_mode": "r",
   "file_extension": ".r",
   "mimetype": "text/x-r-source",
   "name": "R",
   "pygments_lexer": "r",
   "version": "4.0.3"
  }
 },
 "nbformat": 4,
 "nbformat_minor": 5
}
