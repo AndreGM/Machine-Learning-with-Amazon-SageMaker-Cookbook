{
 "cells": [
  {
   "cell_type": "markdown",
   "id": "28427bb4",
   "metadata": {},
   "source": [
    "# Using the Custom Python Algorithm Container Image for Training & Inference with Amazon SageMaker Local Mode\n",
    "\n",
    "In this recipe, we will perform the training and deployment steps in **Amazon Sagemaker** using the custom container image we have pushed to the ECR repository in the recipe `Pushing the Custom Python Algorithm Container Image to an Amazon ECR Repository`. In the first chapter, we used the image URI of the container image of the built-in **Linear Learner**. In this chapter, we will use the image URI of the custom container image instead."
   ]
  },
  {
   "cell_type": "markdown",
   "id": "0195c1e1",
   "metadata": {},
   "source": [
    "### How to do it..."
   ]
  },
  {
   "cell_type": "code",
   "execution_count": null,
   "id": "d9972dba",
   "metadata": {},
   "outputs": [],
   "source": [
    "!pip install 'sagemaker[local]' --upgrade"
   ]
  },
  {
   "cell_type": "code",
   "execution_count": null,
   "id": "0d109b91",
   "metadata": {},
   "outputs": [],
   "source": [
    "s3_bucket = \"<insert S3 bucket name here>\"\n",
    "prefix = \"chapter01\""
   ]
  },
  {
   "cell_type": "code",
   "execution_count": null,
   "id": "ae9320ad",
   "metadata": {},
   "outputs": [],
   "source": [
    "training_s3_input_location = f\"s3://{s3_bucket}/{prefix}/input/training_data.csv\""
   ]
  },
  {
   "cell_type": "code",
   "execution_count": null,
   "id": "572f4877",
   "metadata": {},
   "outputs": [],
   "source": [
    "training_s3_output_location = f\"s3://{s3_bucket}/{prefix}/output/custom/\""
   ]
  },
  {
   "cell_type": "code",
   "execution_count": null,
   "id": "23869d39",
   "metadata": {},
   "outputs": [],
   "source": [
    "import sagemaker"
   ]
  },
  {
   "cell_type": "code",
   "execution_count": null,
   "id": "78bf7ae1",
   "metadata": {},
   "outputs": [],
   "source": [
    "sagemaker.__version__"
   ]
  },
  {
   "cell_type": "code",
   "execution_count": null,
   "id": "d5573a03",
   "metadata": {},
   "outputs": [],
   "source": [
    "container=\"581320662326.dkr.ecr.us-east-1.amazonaws.com/chap02_python:1\""
   ]
  },
  {
   "cell_type": "code",
   "execution_count": null,
   "id": "91dda1b5",
   "metadata": {},
   "outputs": [],
   "source": [
    "import sagemaker \n",
    "import boto3\n",
    "from sagemaker import get_execution_role \n",
    "\n",
    "role = get_execution_role()"
   ]
  },
  {
   "cell_type": "code",
   "execution_count": null,
   "id": "e02a0fa6",
   "metadata": {},
   "outputs": [],
   "source": [
    "from sagemaker.local import LocalSession\n",
    "\n",
    "session = LocalSession()\n",
    "session.config = {'local': {'local_code': True}}"
   ]
  },
  {
   "cell_type": "code",
   "execution_count": null,
   "id": "0ee4f56a",
   "metadata": {},
   "outputs": [],
   "source": [
    "from sagemaker.inputs import TrainingInput\n",
    "\n",
    "train = TrainingInput(training_s3_input_location, content_type=\"text/csv\")"
   ]
  },
  {
   "cell_type": "code",
   "execution_count": null,
   "id": "29121b0e",
   "metadata": {},
   "outputs": [],
   "source": [
    "estimator = sagemaker.estimator.Estimator(\n",
    "    container,\n",
    "    role, \n",
    "    instance_count=1, \n",
    "    base_job_name=\"abcdefghij\",\n",
    "    instance_type='ml.m5.large',\n",
    "    output_path=training_s3_output_location,\n",
    "    sagemaker_session=sagemaker.Session())"
   ]
  },
  {
   "cell_type": "code",
   "execution_count": null,
   "id": "e66aa9d9",
   "metadata": {},
   "outputs": [],
   "source": [
    "estimator.set_hyperparameters(a=1, b=2, c=3)"
   ]
  },
  {
   "cell_type": "code",
   "execution_count": null,
   "id": "7f67774d",
   "metadata": {},
   "outputs": [],
   "source": [
    "estimator.fit({'train': train})"
   ]
  },
  {
   "cell_type": "code",
   "execution_count": null,
   "id": "f3d087a5",
   "metadata": {},
   "outputs": [],
   "source": [
    "predictor = estimator.deploy(\n",
    "    initial_instance_count=1, \n",
    "    instance_type='ml.t2.medium', \n",
    "    endpoint_name=\"custom-local-py-endpoint\")"
   ]
  },
  {
   "cell_type": "code",
   "execution_count": null,
   "id": "bad3dafc",
   "metadata": {},
   "outputs": [],
   "source": [
    "predictor.predict(\"1\")"
   ]
  },
  {
   "cell_type": "code",
   "execution_count": null,
   "id": "d86704e4",
   "metadata": {},
   "outputs": [],
   "source": [
    "predictor.delete_endpoint()"
   ]
  },
  {
   "cell_type": "markdown",
   "id": "62ce8d08",
   "metadata": {},
   "source": [
    "<img align=\"left\" width=\"130\" src=\"https://raw.githubusercontent.com/PacktPublishing/Amazon-SageMaker-Cookbook/master/Extra/cover-small-padded.png\"/>\n",
    "\n",
    "This notebook contains the code to help readers work through one of the recipes of the book [Machine Learning with Amazon SageMaker Cookbook: 80 proven recipes for data scientists and developers to perform ML experiments and deployments](https://www.amazon.com/Machine-Learning-Amazon-SageMaker-Cookbook/dp/1800567030)"
   ]
  }
 ],
 "metadata": {
  "kernelspec": {
   "display_name": "conda_python3",
   "language": "python",
   "name": "conda_python3"
  },
  "language_info": {
   "codemirror_mode": {
    "name": "ipython",
    "version": 3
   },
   "file_extension": ".py",
   "mimetype": "text/x-python",
   "name": "python",
   "nbconvert_exporter": "python",
   "pygments_lexer": "ipython3",
   "version": "3.6.13"
  }
 },
 "nbformat": 4,
 "nbformat_minor": 5
}
