{
 "cells": [
  {
   "cell_type": "code",
   "execution_count": null,
   "id": "proved-chance",
   "metadata": {},
   "outputs": [],
   "source": [
    "!pip install 'sagemaker[local]' --upgrade"
   ]
  },
  {
   "cell_type": "code",
   "execution_count": null,
   "id": "powered-hunter",
   "metadata": {},
   "outputs": [],
   "source": [
    "s3_bucket = \"<insert S3 bucket here>\"\n",
    "prefix = \"<insert prefix here>\""
   ]
  },
  {
   "cell_type": "code",
   "execution_count": null,
   "id": "hawaiian-naples",
   "metadata": {},
   "outputs": [],
   "source": [
    "training_s3_input_location = f\"s3://{s3_bucket}/{prefix}/input/training_data.csv\""
   ]
  },
  {
   "cell_type": "code",
   "execution_count": null,
   "id": "seven-novel",
   "metadata": {},
   "outputs": [],
   "source": [
    "training_s3_output_location = f\"s3://{s3_bucket}/{prefix}/output/custom/\""
   ]
  },
  {
   "cell_type": "code",
   "execution_count": null,
   "id": "suburban-sucking",
   "metadata": {},
   "outputs": [],
   "source": [
    "import sagemaker"
   ]
  },
  {
   "cell_type": "code",
   "execution_count": null,
   "id": "banner-belfast",
   "metadata": {},
   "outputs": [],
   "source": [
    "sagemaker.__version__"
   ]
  },
  {
   "cell_type": "code",
   "execution_count": null,
   "id": "electrical-cloud",
   "metadata": {},
   "outputs": [],
   "source": [
    "container=\"<insert container image URI here>\""
   ]
  },
  {
   "cell_type": "code",
   "execution_count": null,
   "id": "sunset-procedure",
   "metadata": {},
   "outputs": [],
   "source": [
    "import sagemaker \n",
    "import boto3\n",
    "from sagemaker import get_execution_role \n",
    "\n",
    "role = get_execution_role()"
   ]
  },
  {
   "cell_type": "code",
   "execution_count": null,
   "id": "premier-double",
   "metadata": {},
   "outputs": [],
   "source": [
    "from sagemaker.local import LocalSession\n",
    "\n",
    "session = LocalSession()\n",
    "session.config = {'local': {'local_code': True}}"
   ]
  },
  {
   "cell_type": "code",
   "execution_count": null,
   "id": "restricted-ground",
   "metadata": {},
   "outputs": [],
   "source": [
    "from sagemaker.inputs import TrainingInput\n",
    "\n",
    "train = TrainingInput(training_s3_input_location, content_type=\"text/csv\")"
   ]
  },
  {
   "cell_type": "code",
   "execution_count": null,
   "id": "insured-governor",
   "metadata": {},
   "outputs": [],
   "source": [
    "estimator = sagemaker.estimator.Estimator(\n",
    "    container,\n",
    "    role, \n",
    "    instance_count=1, \n",
    "    instance_type='local',\n",
    "    output_path=training_s3_output_location,\n",
    "    sagemaker_session=session)"
   ]
  },
  {
   "cell_type": "code",
   "execution_count": null,
   "id": "immediate-thunder",
   "metadata": {},
   "outputs": [],
   "source": [
    "estimator.set_hyperparameters(a=1, b=2, c=3)"
   ]
  },
  {
   "cell_type": "code",
   "execution_count": null,
   "id": "realistic-reality",
   "metadata": {},
   "outputs": [],
   "source": [
    "estimator.fit({'train': train})"
   ]
  },
  {
   "cell_type": "code",
   "execution_count": null,
   "id": "pleasant-milwaukee",
   "metadata": {},
   "outputs": [],
   "source": [
    "predictor = estimator.deploy(\n",
    "    initial_instance_count=1, \n",
    "    instance_type='local', \n",
    "    endpoint_name=\"custom-local-py-endpoint\")"
   ]
  },
  {
   "cell_type": "code",
   "execution_count": null,
   "id": "banner-teddy",
   "metadata": {},
   "outputs": [],
   "source": [
    "predictor.predict(\"1\")"
   ]
  },
  {
   "cell_type": "code",
   "execution_count": null,
   "id": "quick-doctor",
   "metadata": {},
   "outputs": [],
   "source": [
    "predictor.delete_endpoint()"
   ]
  }
 ],
 "metadata": {
  "kernelspec": {
   "display_name": "conda_python3",
   "language": "python",
   "name": "conda_python3"
  },
  "language_info": {
   "codemirror_mode": {
    "name": "ipython",
    "version": 3
   },
   "file_extension": ".py",
   "mimetype": "text/x-python",
   "name": "python",
   "nbconvert_exporter": "python",
   "pygments_lexer": "ipython3",
   "version": "3.6.13"
  }
 },
 "nbformat": 4,
 "nbformat_minor": 5
}
