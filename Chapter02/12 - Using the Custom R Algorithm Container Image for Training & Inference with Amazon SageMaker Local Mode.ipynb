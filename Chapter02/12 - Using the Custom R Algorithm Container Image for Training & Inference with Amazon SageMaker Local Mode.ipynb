{
 "cells": [
  {
   "cell_type": "markdown",
   "id": "c90d4459",
   "metadata": {},
   "source": [
    "# Using the Custom R Algorithm Container Image for Training & Inference with Amazon SageMaker Local Mode\n",
    "\n",
    "In the previous recipe, we pushed the custom R container image to an **Amazon ECR** repository. In this recipe, we will perform the training and deployment steps in **Amazon SageMaker** using this custom container image. In the first chapter, we used the image URI of the container image of the built-in **Linear Learner**. In this chapter, we will use the image URI of the custom container image instead."
   ]
  },
  {
   "cell_type": "markdown",
   "id": "a9007478",
   "metadata": {},
   "source": [
    "### How to do it..."
   ]
  },
  {
   "cell_type": "code",
   "execution_count": null,
   "id": "6d2d27ab",
   "metadata": {},
   "outputs": [],
   "source": [
    "cmd <- function(bash_command) {\n",
    "    output <- system(bash_command, intern=TRUE)\n",
    "    last_line = \"\"\n",
    "    \n",
    "    for (line in output) { \n",
    "        cat(line)\n",
    "        cat(\"\\n\")\n",
    "        last_line = line \n",
    "    }\n",
    "    \n",
    "    return(last_line) \n",
    "}"
   ]
  },
  {
   "cell_type": "code",
   "execution_count": null,
   "id": "6c2d3c4d",
   "metadata": {},
   "outputs": [],
   "source": [
    "cmd(\"pip install 'sagemaker[local]' --upgrade\")"
   ]
  },
  {
   "cell_type": "code",
   "execution_count": null,
   "id": "783eca53",
   "metadata": {},
   "outputs": [],
   "source": [
    "s3.bucket <- \"<insert S3 bucket name here>\"\n",
    "s3.prefix <- \"chapter01\""
   ]
  },
  {
   "cell_type": "code",
   "execution_count": null,
   "id": "238c46cf",
   "metadata": {},
   "outputs": [],
   "source": [
    "training.s3_input_location <- paste0('s3://', s3.bucket, '/', s3.prefix, '/input/training_data.csv')\n",
    "print(training.s3_input_location)\n",
    "\n",
    "training.s3_output_location <- paste0('s3://', s3.bucket, '/', s3.prefix, '/output/custom/')\n",
    "print(training.s3_output_location)"
   ]
  },
  {
   "cell_type": "code",
   "execution_count": null,
   "id": "93219e95",
   "metadata": {},
   "outputs": [],
   "source": [
    "library('reticulate')\n",
    "\n",
    "sagemaker <- import('sagemaker')"
   ]
  },
  {
   "cell_type": "code",
   "execution_count": null,
   "id": "9200ef24",
   "metadata": {},
   "outputs": [],
   "source": [
    "sagemaker[['__version__']]"
   ]
  },
  {
   "cell_type": "code",
   "execution_count": null,
   "id": "6e7c4a28",
   "metadata": {},
   "outputs": [],
   "source": [
    "container <- \"<insert container image URI>\""
   ]
  },
  {
   "cell_type": "code",
   "execution_count": null,
   "id": "88b83278",
   "metadata": {},
   "outputs": [],
   "source": [
    "role <- sagemaker$get_execution_role()"
   ]
  },
  {
   "cell_type": "code",
   "execution_count": null,
   "id": "b9fb1fc1",
   "metadata": {},
   "outputs": [],
   "source": [
    "LocalSession <- sagemaker$local$LocalSession\n",
    "\n",
    "session <- LocalSession()\n",
    "session$config <- list(local=list(local_code=TRUE))"
   ]
  },
  {
   "cell_type": "code",
   "execution_count": null,
   "id": "5972eb97",
   "metadata": {},
   "outputs": [],
   "source": [
    "TrainingInput <- sagemaker$inputs$TrainingInput\n",
    "\n",
    "sagemaker.train_input <- TrainingInput(training.s3_input_location, content_type=\"text/csv\")"
   ]
  },
  {
   "cell_type": "code",
   "execution_count": null,
   "id": "7976824e",
   "metadata": {},
   "outputs": [],
   "source": [
    "Estimator <- sagemaker$estimator$Estimator\n",
    "\n",
    "estimator <- Estimator(\n",
    "    container,\n",
    "    role, \n",
    "    instance_count=1L, \n",
    "    instance_type=\"local\",\n",
    "    output_path=training.s3_output_location,\n",
    "    sagemaker_session=session)"
   ]
  },
  {
   "cell_type": "code",
   "execution_count": null,
   "id": "4222255c",
   "metadata": {},
   "outputs": [],
   "source": [
    "estimator$set_hyperparameters(a=1L, b=2L, c=3L)"
   ]
  },
  {
   "cell_type": "code",
   "execution_count": null,
   "id": "bdcfaeb5",
   "metadata": {},
   "outputs": [],
   "source": [
    "estimator$fit(list(train = sagemaker.train_input))"
   ]
  },
  {
   "cell_type": "code",
   "execution_count": null,
   "id": "8dfb31a0",
   "metadata": {},
   "outputs": [],
   "source": [
    "estimator$model_data"
   ]
  },
  {
   "cell_type": "code",
   "execution_count": null,
   "id": "3b335482",
   "metadata": {},
   "outputs": [],
   "source": [
    "predictor <- estimator$deploy(\n",
    "    initial_instance_count=1L,\n",
    "    instance_type=\"local\",\n",
    "    endpoint_name=\"custom-local-r-endpoint\"\n",
    ")"
   ]
  },
  {
   "cell_type": "code",
   "execution_count": null,
   "id": "a2b61830",
   "metadata": {},
   "outputs": [],
   "source": [
    "predictor$predict(\"42\")"
   ]
  },
  {
   "cell_type": "code",
   "execution_count": null,
   "id": "0a4e0259",
   "metadata": {},
   "outputs": [],
   "source": [
    "predictor$delete_endpoint()"
   ]
  },
  {
   "cell_type": "markdown",
   "id": "5745be6b",
   "metadata": {},
   "source": [
    "<img align=\"left\" width=\"130\" src=\"https://raw.githubusercontent.com/PacktPublishing/Amazon-SageMaker-Cookbook/master/Extra/cover-small-padded.png\"/>\n",
    "\n",
    "This notebook contains the code to help readers work through one of the recipes of the book [Machine Learning with Amazon SageMaker Cookbook: 80 proven recipes for data scientists and developers to perform ML experiments and deployments](https://www.amazon.com/Machine-Learning-Amazon-SageMaker-Cookbook/dp/1800567030)"
   ]
  }
 ],
 "metadata": {
  "kernelspec": {
   "display_name": "R",
   "language": "R",
   "name": "ir"
  },
  "language_info": {
   "codemirror_mode": "r",
   "file_extension": ".r",
   "mimetype": "text/x-r-source",
   "name": "R",
   "pygments_lexer": "r",
   "version": "4.1.0"
  }
 },
 "nbformat": 4,
 "nbformat_minor": 5
}
