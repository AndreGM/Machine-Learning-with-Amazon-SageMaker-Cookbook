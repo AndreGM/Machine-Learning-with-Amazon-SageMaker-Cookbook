{
 "cells": [
  {
   "cell_type": "markdown",
   "id": "b6d3a284",
   "metadata": {},
   "source": [
    "# Using the Custom R Algorithm Container Image for Training & Inference with Amazon SageMaker Local Mode"
   ]
  },
  {
   "cell_type": "markdown",
   "id": "9d24325d",
   "metadata": {},
   "source": [
    "<img align=\"left\" width=\"130\" src=\"https://raw.githubusercontent.com/PacktPublishing/Amazon-SageMaker-Cookbook/master/Extra/cover-small-padded.png\"/>\n",
    "\n",
    "This notebook contains the code to help readers work through one of the recipes of the book [Machine Learning with Amazon SageMaker Cookbook: 80 proven recipes for data scientists and developers to perform ML experiments and deployments](https://www.amazon.com/Machine-Learning-Amazon-SageMaker-Cookbook/dp/1800567030)"
   ]
  },
  {
   "cell_type": "markdown",
   "id": "fef389d7",
   "metadata": {},
   "source": [
    "### How to do it..."
   ]
  },
  {
   "cell_type": "code",
   "execution_count": null,
   "id": "b8134d34",
   "metadata": {},
   "outputs": [],
   "source": [
    "cmd <- function(bash_command) {\n",
    "    output <- system(bash_command, intern=TRUE)\n",
    "    last_line = \"\"\n",
    "    \n",
    "    for (line in output) { \n",
    "        cat(line)\n",
    "        cat(\"\\n\")\n",
    "        last_line = line \n",
    "    }\n",
    "    \n",
    "    return(last_line) \n",
    "}"
   ]
  },
  {
   "cell_type": "code",
   "execution_count": null,
   "id": "65f51723",
   "metadata": {},
   "outputs": [],
   "source": [
    "cmd(\"pip install 'sagemaker[local]' --upgrade\")"
   ]
  },
  {
   "cell_type": "code",
   "execution_count": null,
   "id": "8bd43efd",
   "metadata": {},
   "outputs": [],
   "source": [
    "s3.bucket <- \"<insert S3 bucket name here>\"\n",
    "s3.prefix <- \"chapter01\""
   ]
  },
  {
   "cell_type": "code",
   "execution_count": null,
   "id": "585f757e",
   "metadata": {},
   "outputs": [],
   "source": [
    "training.s3_input_location <- paste0('s3://', s3.bucket, '/', s3.prefix, '/input/training_data.csv')\n",
    "print(training.s3_input_location)\n",
    "\n",
    "training.s3_output_location <- paste0('s3://', s3.bucket, '/', s3.prefix, '/output/custom/')\n",
    "print(training.s3_output_location)"
   ]
  },
  {
   "cell_type": "code",
   "execution_count": null,
   "id": "85d47ca8",
   "metadata": {},
   "outputs": [],
   "source": [
    "library('reticulate')\n",
    "\n",
    "sagemaker <- import('sagemaker')"
   ]
  },
  {
   "cell_type": "code",
   "execution_count": null,
   "id": "c83a1def",
   "metadata": {},
   "outputs": [],
   "source": [
    "sagemaker[['__version__']]"
   ]
  },
  {
   "cell_type": "code",
   "execution_count": null,
   "id": "44fea657",
   "metadata": {},
   "outputs": [],
   "source": [
    "container <- \"<insert container image URI>\""
   ]
  },
  {
   "cell_type": "code",
   "execution_count": null,
   "id": "188a85fd",
   "metadata": {},
   "outputs": [],
   "source": [
    "role <- sagemaker$get_execution_role()"
   ]
  },
  {
   "cell_type": "code",
   "execution_count": null,
   "id": "232c9b90",
   "metadata": {},
   "outputs": [],
   "source": [
    "LocalSession <- sagemaker$local$LocalSession\n",
    "\n",
    "session <- LocalSession()\n",
    "session$config <- list(local=list(local_code=TRUE))"
   ]
  },
  {
   "cell_type": "code",
   "execution_count": null,
   "id": "dd8b6997",
   "metadata": {},
   "outputs": [],
   "source": [
    "TrainingInput <- sagemaker$inputs$TrainingInput\n",
    "\n",
    "sagemaker.train_input <- TrainingInput(training.s3_input_location, content_type=\"text/csv\")"
   ]
  },
  {
   "cell_type": "code",
   "execution_count": null,
   "id": "30b6e3a3",
   "metadata": {},
   "outputs": [],
   "source": [
    "Estimator <- sagemaker$estimator$Estimator\n",
    "\n",
    "estimator <- Estimator(\n",
    "    container,\n",
    "    role, \n",
    "    instance_count=1L, \n",
    "    instance_type=\"local\",\n",
    "    output_path=training.s3_output_location,\n",
    "    sagemaker_session=session)"
   ]
  },
  {
   "cell_type": "code",
   "execution_count": null,
   "id": "2de21a7c",
   "metadata": {},
   "outputs": [],
   "source": [
    "estimator$set_hyperparameters(a=1L, b=2L, c=3L)"
   ]
  },
  {
   "cell_type": "code",
   "execution_count": null,
   "id": "fd98cc13",
   "metadata": {},
   "outputs": [],
   "source": [
    "estimator$fit(list(train = sagemaker.train_input))"
   ]
  },
  {
   "cell_type": "code",
   "execution_count": null,
   "id": "25bd8f93",
   "metadata": {},
   "outputs": [],
   "source": [
    "estimator$model_data"
   ]
  },
  {
   "cell_type": "code",
   "execution_count": null,
   "id": "bf71d0c1",
   "metadata": {},
   "outputs": [],
   "source": [
    "predictor <- estimator$deploy(\n",
    "    initial_instance_count=1L,\n",
    "    instance_type=\"local\",\n",
    "    endpoint_name=\"custom-local-r-endpoint\"\n",
    ")"
   ]
  },
  {
   "cell_type": "code",
   "execution_count": null,
   "id": "fbd6a3d1",
   "metadata": {},
   "outputs": [],
   "source": [
    "predictor$predict(\"42\")"
   ]
  },
  {
   "cell_type": "code",
   "execution_count": null,
   "id": "f120e8a4",
   "metadata": {},
   "outputs": [],
   "source": [
    "predictor$delete_endpoint()"
   ]
  }
 ],
 "metadata": {
  "kernelspec": {
   "display_name": "R",
   "language": "R",
   "name": "ir"
  },
  "language_info": {
   "codemirror_mode": "r",
   "file_extension": ".r",
   "mimetype": "text/x-r-source",
   "name": "R",
   "pygments_lexer": "r",
   "version": "4.1.0"
  }
 },
 "nbformat": 4,
 "nbformat_minor": 5
}
