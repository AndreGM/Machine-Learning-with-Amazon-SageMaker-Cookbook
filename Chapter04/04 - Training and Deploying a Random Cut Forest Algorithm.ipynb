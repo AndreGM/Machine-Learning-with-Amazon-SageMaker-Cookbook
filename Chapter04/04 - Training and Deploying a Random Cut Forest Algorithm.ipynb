{
 "cells": [
  {
   "cell_type": "markdown",
   "id": "b93aaf7c",
   "metadata": {},
   "source": [
    "# Training and Deploying a Random Cut Forest Algorithm"
   ]
  },
  {
   "cell_type": "markdown",
   "id": "ca10b65b",
   "metadata": {},
   "source": [
    "<img align=\"left\" width=\"130\" src=\"https://raw.githubusercontent.com/PacktPublishing/Amazon-SageMaker-Cookbook/master/Extra/cover-small-padded.png\"/>\n",
    "\n",
    "This notebook contains the code to help readers work through one of the recipes of the book [Machine Learning with Amazon SageMaker Cookbook: 80 proven recipes for data scientists and developers to perform ML experiments and deployments](https://www.amazon.com/Machine-Learning-Amazon-SageMaker-Cookbook/dp/1800567030)"
   ]
  },
  {
   "cell_type": "markdown",
   "id": "543e4d9e",
   "metadata": {},
   "source": [
    "### How to do it..."
   ]
  },
  {
   "cell_type": "code",
   "execution_count": null,
   "id": "60a94eca",
   "metadata": {},
   "outputs": [],
   "source": [
    "%store -r list_of_points\n",
    "list_of_points"
   ]
  },
  {
   "cell_type": "code",
   "execution_count": null,
   "id": "a94dad5e",
   "metadata": {},
   "outputs": [],
   "source": [
    "point_values = list(map(lambda x: x[\"value\"], list_of_points))\n",
    "point_values"
   ]
  },
  {
   "cell_type": "code",
   "execution_count": null,
   "id": "13240f94",
   "metadata": {},
   "outputs": [],
   "source": [
    "import numpy as np\n",
    "np_array = np.array(point_values)\n",
    "np_array = np_array.reshape(-1,1)\n",
    "np_array"
   ]
  },
  {
   "cell_type": "code",
   "execution_count": null,
   "id": "3dc817a4",
   "metadata": {},
   "outputs": [],
   "source": [
    "import sagemaker \n",
    "import boto3\n",
    "from sagemaker import get_execution_role \n",
    "\n",
    "role_arn = get_execution_role()\n",
    "session = sagemaker.Session()"
   ]
  },
  {
   "cell_type": "code",
   "execution_count": null,
   "id": "5af2428a",
   "metadata": {},
   "outputs": [],
   "source": [
    "from sagemaker import RandomCutForest\n",
    "\n",
    "estimator = RandomCutForest(\n",
    "    role_arn, \n",
    "    instance_count=1, \n",
    "    instance_type='ml.m5.xlarge',\n",
    "    sagemaker_session=session)"
   ]
  },
  {
   "cell_type": "code",
   "execution_count": null,
   "id": "869d4006",
   "metadata": {},
   "outputs": [],
   "source": [
    "train = estimator.record_set(np_array)"
   ]
  },
  {
   "cell_type": "code",
   "execution_count": null,
   "id": "bbc97642",
   "metadata": {},
   "outputs": [],
   "source": [
    "estimator.fit(train)"
   ]
  },
  {
   "cell_type": "code",
   "execution_count": null,
   "id": "7c6a9849",
   "metadata": {},
   "outputs": [],
   "source": [
    "predictor = estimator.deploy(initial_instance_count=1, \n",
    "                             instance_type=\"ml.m5.xlarge\", \n",
    "                             endpoint_name=\"sagemaker-cookbook-rcf\")"
   ]
  },
  {
   "cell_type": "code",
   "execution_count": null,
   "id": "963b9f06",
   "metadata": {},
   "outputs": [],
   "source": [
    "results = predictor.predict(np_array)\n",
    "\n",
    "results"
   ]
  }
 ],
 "metadata": {
  "kernelspec": {
   "display_name": "conda_python3",
   "language": "python",
   "name": "conda_python3"
  },
  "language_info": {
   "codemirror_mode": {
    "name": "ipython",
    "version": 3
   },
   "file_extension": ".py",
   "mimetype": "text/x-python",
   "name": "python",
   "nbconvert_exporter": "python",
   "pygments_lexer": "ipython3",
   "version": "3.6.13"
  }
 },
 "nbformat": 4,
 "nbformat_minor": 5
}
