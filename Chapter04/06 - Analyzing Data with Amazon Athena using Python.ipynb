{
 "cells": [
  {
   "cell_type": "markdown",
   "id": "f01b745a",
   "metadata": {},
   "source": [
    "# Analyzing Data with Amazon Athena using Python"
   ]
  },
  {
   "cell_type": "markdown",
   "id": "35c9f4f3",
   "metadata": {},
   "source": [
    "<img align=\"left\" width=\"130\" src=\"https://raw.githubusercontent.com/PacktPublishing/Amazon-SageMaker-Cookbook/master/Extra/cover-small-padded.png\"/>\n",
    "\n",
    "This notebook contains the code to help readers work through one of the recipes of the book [Machine Learning with Amazon SageMaker Cookbook: 80 proven recipes for data scientists and developers to perform ML experiments and deployments](https://www.amazon.com/Machine-Learning-Amazon-SageMaker-Cookbook/dp/1800567030)"
   ]
  },
  {
   "cell_type": "markdown",
   "id": "9b62cce4",
   "metadata": {},
   "source": [
    "### How to do it..."
   ]
  },
  {
   "cell_type": "code",
   "execution_count": null,
   "id": "8e0eb304",
   "metadata": {},
   "outputs": [],
   "source": [
    "import boto3"
   ]
  },
  {
   "cell_type": "code",
   "execution_count": null,
   "id": "a1fd81cd",
   "metadata": {},
   "outputs": [],
   "source": [
    "athena = boto3.client('athena', region_name='us-east-1')"
   ]
  },
  {
   "cell_type": "code",
   "execution_count": null,
   "id": "53fd538b",
   "metadata": {},
   "outputs": [],
   "source": [
    "athena_results_bucket = \"cookbook-athena-results\"\n",
    "\n",
    "!aws s3 mb s3://{athena_results_bucket}"
   ]
  },
  {
   "cell_type": "code",
   "execution_count": null,
   "id": "d6d5ba40",
   "metadata": {},
   "outputs": [],
   "source": [
    "query = \"SELECT label, value FROM cookbook_athena_db.athena_table;\"\n",
    "database = \"cookbook_athena_db\"\n",
    "results_bucket = \"s3://\" + athena_results_bucket"
   ]
  },
  {
   "cell_type": "code",
   "execution_count": null,
   "id": "7b777c6c",
   "metadata": {},
   "outputs": [],
   "source": [
    "def execute_athena_query(query, database, results_bucket):\n",
    "    response = athena.start_query_execution(\n",
    "        QueryString = query,\n",
    "        QueryExecutionContext = {\n",
    "            'Database' : database\n",
    "        },\n",
    "        ResultConfiguration = {\n",
    "            'OutputLocation': results_bucket\n",
    "        }\n",
    "    )\n",
    "    \n",
    "    return response['QueryExecutionId']"
   ]
  },
  {
   "cell_type": "code",
   "execution_count": null,
   "id": "f6bc2392",
   "metadata": {},
   "outputs": [],
   "source": [
    "def get_output_path(execution_id):\n",
    "    query_details = athena.get_query_execution(\n",
    "        QueryExecutionId = execution_id\n",
    "    )\n",
    "    \n",
    "    execution = query_details['QueryExecution']\n",
    "    configuration = execution['ResultConfiguration']\n",
    "    return configuration['OutputLocation']"
   ]
  },
  {
   "cell_type": "code",
   "execution_count": null,
   "id": "0a8fd0ee",
   "metadata": {},
   "outputs": [],
   "source": [
    "execution_id = execute_athena_query(query, database, results_bucket)\n",
    "output_path = get_output_path(execution_id)\n",
    "output_path"
   ]
  },
  {
   "cell_type": "code",
   "execution_count": null,
   "id": "439b47bb",
   "metadata": {},
   "outputs": [],
   "source": [
    "!mkdir -p tmp"
   ]
  },
  {
   "cell_type": "code",
   "execution_count": null,
   "id": "485c7382",
   "metadata": {},
   "outputs": [],
   "source": [
    "!aws s3 cp {output_path} tmp/output.csv"
   ]
  },
  {
   "cell_type": "code",
   "execution_count": null,
   "id": "61967c4a",
   "metadata": {},
   "outputs": [],
   "source": [
    "import pandas as pd\n",
    "\n",
    "pd.read_csv(\"tmp/output.csv\")"
   ]
  },
  {
   "cell_type": "code",
   "execution_count": null,
   "id": "5bfe1920",
   "metadata": {},
   "outputs": [],
   "source": [
    "query = \"\"\"\n",
    "USING EXTERNAL FUNCTION detect_anomaly(value INT)\n",
    "    RETURNS DOUBLE\n",
    "    SAGEMAKER 'sagemaker-cookbook-rcf'\n",
    "SELECT label, value, detect_anomaly(value) AS anomaly_score\n",
    "    FROM cookbook_athena_db.athena_table\n",
    "\"\"\""
   ]
  },
  {
   "cell_type": "code",
   "execution_count": null,
   "id": "4c39ca5d",
   "metadata": {},
   "outputs": [],
   "source": [
    "execution_id = execute_athena_query(query, database, results_bucket)\n",
    "output_path = get_output_path(execution_id)\n",
    "output_path"
   ]
  },
  {
   "cell_type": "code",
   "execution_count": null,
   "id": "6b4e19a7",
   "metadata": {},
   "outputs": [],
   "source": [
    "!aws s3 cp {output_path} tmp/output.csv"
   ]
  },
  {
   "cell_type": "code",
   "execution_count": null,
   "id": "f6059d66",
   "metadata": {},
   "outputs": [],
   "source": [
    "df = pd.read_csv(\"tmp/output.csv\")\n",
    "df"
   ]
  },
  {
   "cell_type": "code",
   "execution_count": null,
   "id": "ff58634b",
   "metadata": {},
   "outputs": [],
   "source": [
    "len(df[df.anomaly_score > 2])"
   ]
  }
 ],
 "metadata": {
  "kernelspec": {
   "display_name": "conda_python3",
   "language": "python",
   "name": "conda_python3"
  },
  "language_info": {
   "codemirror_mode": {
    "name": "ipython",
    "version": 3
   },
   "file_extension": ".py",
   "mimetype": "text/x-python",
   "name": "python",
   "nbconvert_exporter": "python",
   "pygments_lexer": "ipython3",
   "version": "3.6.13"
  }
 },
 "nbformat": 4,
 "nbformat_minor": 5
}
