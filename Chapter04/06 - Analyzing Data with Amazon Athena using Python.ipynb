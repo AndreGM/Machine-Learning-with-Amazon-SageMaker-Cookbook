{
 "cells": [
  {
   "cell_type": "code",
   "execution_count": 1,
   "id": "registered-emphasis",
   "metadata": {},
   "outputs": [],
   "source": [
    "import boto3"
   ]
  },
  {
   "cell_type": "code",
   "execution_count": 3,
   "id": "intimate-shannon",
   "metadata": {},
   "outputs": [],
   "source": [
    "athena = boto3.client('athena', region_name='us-east-1')"
   ]
  },
  {
   "cell_type": "code",
   "execution_count": 4,
   "id": "assumed-grant",
   "metadata": {},
   "outputs": [
    {
     "name": "stdout",
     "output_type": "stream",
     "text": [
      "make_bucket: cookbook-athena-results\r\n"
     ]
    }
   ],
   "source": [
    "athena_results_bucket = \"cookbook-athena-results\"\n",
    "\n",
    "!aws s3 mb s3://{athena_results_bucket}"
   ]
  },
  {
   "cell_type": "code",
   "execution_count": 5,
   "id": "applicable-resistance",
   "metadata": {},
   "outputs": [],
   "source": [
    "query = \"SELECT label, value FROM cookbook_athena_db.athena_table;\"\n",
    "database = \"cookbook_athena_db\"\n",
    "results_bucket = \"s3://\" + athena_results_bucket"
   ]
  },
  {
   "cell_type": "code",
   "execution_count": 14,
   "id": "breeding-petersburg",
   "metadata": {},
   "outputs": [],
   "source": [
    "def execute_athena_query(query, database, results_bucket):\n",
    "    response = athena.start_query_execution(\n",
    "        QueryString = query,\n",
    "        QueryExecutionContext = {\n",
    "            'Database' : database\n",
    "        },\n",
    "        ResultConfiguration = {\n",
    "            'OutputLocation': results_bucket\n",
    "        }\n",
    "    )\n",
    "    \n",
    "    return response['QueryExecutionId']"
   ]
  },
  {
   "cell_type": "code",
   "execution_count": 15,
   "id": "upper-induction",
   "metadata": {},
   "outputs": [],
   "source": [
    "def get_output_path(execution_id):\n",
    "    query_details = athena.get_query_execution(\n",
    "        QueryExecutionId = execution_id\n",
    "    )\n",
    "    \n",
    "    execution = query_details['QueryExecution']\n",
    "    configuration = execution['ResultConfiguration']\n",
    "    return configuration['OutputLocation']"
   ]
  },
  {
   "cell_type": "code",
   "execution_count": 17,
   "id": "fifth-experience",
   "metadata": {},
   "outputs": [
    {
     "data": {
      "text/plain": [
       "'s3://cookbook-athena-results/64957fbb-b873-48ec-91aa-7377343da412.csv'"
      ]
     },
     "execution_count": 17,
     "metadata": {},
     "output_type": "execute_result"
    }
   ],
   "source": [
    "execution_id = execute_athena_query(query, database, results_bucket)\n",
    "output_path = get_output_path(execution_id)\n",
    "output_path"
   ]
  },
  {
   "cell_type": "code",
   "execution_count": 10,
   "id": "sorted-appendix",
   "metadata": {},
   "outputs": [],
   "source": [
    "!mkdir -p tmp"
   ]
  },
  {
   "cell_type": "code",
   "execution_count": 11,
   "id": "damaged-publicity",
   "metadata": {},
   "outputs": [
    {
     "name": "stdout",
     "output_type": "stream",
     "text": [
      "Completed 16.8 KiB/16.8 KiB (360.0 KiB/s) with 1 file(s) remaining\r",
      "download: s3://cookbook-athena-results/97d9da6f-6426-46a1-b775-c96580fd29f4.csv to tmp/output.csv\r\n"
     ]
    }
   ],
   "source": [
    "!aws s3 cp {output_path} tmp/output.csv"
   ]
  },
  {
   "cell_type": "code",
   "execution_count": 12,
   "id": "statutory-danish",
   "metadata": {},
   "outputs": [
    {
     "data": {
      "text/html": [
       "<div>\n",
       "<style scoped>\n",
       "    .dataframe tbody tr th:only-of-type {\n",
       "        vertical-align: middle;\n",
       "    }\n",
       "\n",
       "    .dataframe tbody tr th {\n",
       "        vertical-align: top;\n",
       "    }\n",
       "\n",
       "    .dataframe thead th {\n",
       "        text-align: right;\n",
       "    }\n",
       "</style>\n",
       "<table border=\"1\" class=\"dataframe\">\n",
       "  <thead>\n",
       "    <tr style=\"text-align: right;\">\n",
       "      <th></th>\n",
       "      <th>label</th>\n",
       "      <th>value</th>\n",
       "    </tr>\n",
       "  </thead>\n",
       "  <tbody>\n",
       "    <tr>\n",
       "      <th>0</th>\n",
       "      <td>GCWKINKQYM</td>\n",
       "      <td>6</td>\n",
       "    </tr>\n",
       "    <tr>\n",
       "      <th>1</th>\n",
       "      <td>LTBDZXYYZB</td>\n",
       "      <td>78</td>\n",
       "    </tr>\n",
       "    <tr>\n",
       "      <th>2</th>\n",
       "      <td>UIRHTTIVJQ</td>\n",
       "      <td>10</td>\n",
       "    </tr>\n",
       "    <tr>\n",
       "      <th>3</th>\n",
       "      <td>QFIKGEMAYH</td>\n",
       "      <td>4</td>\n",
       "    </tr>\n",
       "    <tr>\n",
       "      <th>4</th>\n",
       "      <td>OSUQRHPDQX</td>\n",
       "      <td>3</td>\n",
       "    </tr>\n",
       "    <tr>\n",
       "      <th>...</th>\n",
       "      <td>...</td>\n",
       "      <td>...</td>\n",
       "    </tr>\n",
       "    <tr>\n",
       "      <th>995</th>\n",
       "      <td>QCWDWGUFQL</td>\n",
       "      <td>7</td>\n",
       "    </tr>\n",
       "    <tr>\n",
       "      <th>996</th>\n",
       "      <td>SCOWIGYIHW</td>\n",
       "      <td>10</td>\n",
       "    </tr>\n",
       "    <tr>\n",
       "      <th>997</th>\n",
       "      <td>ZUFCRCVYMD</td>\n",
       "      <td>4</td>\n",
       "    </tr>\n",
       "    <tr>\n",
       "      <th>998</th>\n",
       "      <td>FIWVSQWNJS</td>\n",
       "      <td>9</td>\n",
       "    </tr>\n",
       "    <tr>\n",
       "      <th>999</th>\n",
       "      <td>OWCDZSRNTF</td>\n",
       "      <td>2</td>\n",
       "    </tr>\n",
       "  </tbody>\n",
       "</table>\n",
       "<p>1000 rows × 2 columns</p>\n",
       "</div>"
      ],
      "text/plain": [
       "          label  value\n",
       "0    GCWKINKQYM      6\n",
       "1    LTBDZXYYZB     78\n",
       "2    UIRHTTIVJQ     10\n",
       "3    QFIKGEMAYH      4\n",
       "4    OSUQRHPDQX      3\n",
       "..          ...    ...\n",
       "995  QCWDWGUFQL      7\n",
       "996  SCOWIGYIHW     10\n",
       "997  ZUFCRCVYMD      4\n",
       "998  FIWVSQWNJS      9\n",
       "999  OWCDZSRNTF      2\n",
       "\n",
       "[1000 rows x 2 columns]"
      ]
     },
     "execution_count": 12,
     "metadata": {},
     "output_type": "execute_result"
    }
   ],
   "source": [
    "import pandas as pd\n",
    "\n",
    "pd.read_csv(\"tmp/output.csv\")"
   ]
  },
  {
   "cell_type": "code",
   "execution_count": 18,
   "id": "amber-coordinator",
   "metadata": {},
   "outputs": [],
   "source": [
    "query = \"\"\"\n",
    "USING EXTERNAL FUNCTION detect_anomaly(value INT)\n",
    "    RETURNS DOUBLE\n",
    "    SAGEMAKER 'sagemaker-cookbook-rcf'\n",
    "SELECT label, value, detect_anomaly(value) AS anomaly_score\n",
    "    FROM cookbook_athena_db.athena_table\n",
    "\"\"\""
   ]
  },
  {
   "cell_type": "code",
   "execution_count": 19,
   "id": "micro-diving",
   "metadata": {},
   "outputs": [
    {
     "data": {
      "text/plain": [
       "'s3://cookbook-athena-results/d457328e-b456-4d11-a012-6ea26a22ceb9.csv'"
      ]
     },
     "execution_count": 19,
     "metadata": {},
     "output_type": "execute_result"
    }
   ],
   "source": [
    "execution_id = execute_athena_query(query, database, results_bucket)\n",
    "output_path = get_output_path(execution_id)\n",
    "output_path"
   ]
  },
  {
   "cell_type": "code",
   "execution_count": 20,
   "id": "beginning-reunion",
   "metadata": {},
   "outputs": [
    {
     "name": "stdout",
     "output_type": "stream",
     "text": [
      "Completed 37.0 KiB/37.0 KiB (777.9 KiB/s) with 1 file(s) remaining\r",
      "download: s3://cookbook-athena-results/d457328e-b456-4d11-a012-6ea26a22ceb9.csv to tmp/output.csv\r\n"
     ]
    }
   ],
   "source": [
    "!aws s3 cp {output_path} tmp/output.csv"
   ]
  },
  {
   "cell_type": "code",
   "execution_count": 22,
   "id": "cubic-panama",
   "metadata": {},
   "outputs": [
    {
     "data": {
      "text/html": [
       "<div>\n",
       "<style scoped>\n",
       "    .dataframe tbody tr th:only-of-type {\n",
       "        vertical-align: middle;\n",
       "    }\n",
       "\n",
       "    .dataframe tbody tr th {\n",
       "        vertical-align: top;\n",
       "    }\n",
       "\n",
       "    .dataframe thead th {\n",
       "        text-align: right;\n",
       "    }\n",
       "</style>\n",
       "<table border=\"1\" class=\"dataframe\">\n",
       "  <thead>\n",
       "    <tr style=\"text-align: right;\">\n",
       "      <th></th>\n",
       "      <th>label</th>\n",
       "      <th>value</th>\n",
       "      <th>anomaly_score</th>\n",
       "    </tr>\n",
       "  </thead>\n",
       "  <tbody>\n",
       "    <tr>\n",
       "      <th>0</th>\n",
       "      <td>TWQNHWXFHX</td>\n",
       "      <td>3</td>\n",
       "      <td>0.931371</td>\n",
       "    </tr>\n",
       "    <tr>\n",
       "      <th>1</th>\n",
       "      <td>DAVLHEUSFA</td>\n",
       "      <td>10</td>\n",
       "      <td>1.311903</td>\n",
       "    </tr>\n",
       "    <tr>\n",
       "      <th>2</th>\n",
       "      <td>DGOPPHCDLB</td>\n",
       "      <td>10</td>\n",
       "      <td>1.311903</td>\n",
       "    </tr>\n",
       "    <tr>\n",
       "      <th>3</th>\n",
       "      <td>THNNUOYJVZ</td>\n",
       "      <td>6</td>\n",
       "      <td>0.828076</td>\n",
       "    </tr>\n",
       "    <tr>\n",
       "      <th>4</th>\n",
       "      <td>FVHAEGAHGQ</td>\n",
       "      <td>10</td>\n",
       "      <td>1.311903</td>\n",
       "    </tr>\n",
       "    <tr>\n",
       "      <th>...</th>\n",
       "      <td>...</td>\n",
       "      <td>...</td>\n",
       "      <td>...</td>\n",
       "    </tr>\n",
       "    <tr>\n",
       "      <th>995</th>\n",
       "      <td>WRMIRAXDUP</td>\n",
       "      <td>10</td>\n",
       "      <td>1.311903</td>\n",
       "    </tr>\n",
       "    <tr>\n",
       "      <th>996</th>\n",
       "      <td>QWNYXWMTNZ</td>\n",
       "      <td>5</td>\n",
       "      <td>0.848408</td>\n",
       "    </tr>\n",
       "    <tr>\n",
       "      <th>997</th>\n",
       "      <td>RRBZBPZEOW</td>\n",
       "      <td>3</td>\n",
       "      <td>0.931371</td>\n",
       "    </tr>\n",
       "    <tr>\n",
       "      <th>998</th>\n",
       "      <td>WUYBRZQEXF</td>\n",
       "      <td>76</td>\n",
       "      <td>2.603616</td>\n",
       "    </tr>\n",
       "    <tr>\n",
       "      <th>999</th>\n",
       "      <td>EZZOWESLKD</td>\n",
       "      <td>5</td>\n",
       "      <td>0.848408</td>\n",
       "    </tr>\n",
       "  </tbody>\n",
       "</table>\n",
       "<p>1000 rows × 3 columns</p>\n",
       "</div>"
      ],
      "text/plain": [
       "          label  value  anomaly_score\n",
       "0    TWQNHWXFHX      3       0.931371\n",
       "1    DAVLHEUSFA     10       1.311903\n",
       "2    DGOPPHCDLB     10       1.311903\n",
       "3    THNNUOYJVZ      6       0.828076\n",
       "4    FVHAEGAHGQ     10       1.311903\n",
       "..          ...    ...            ...\n",
       "995  WRMIRAXDUP     10       1.311903\n",
       "996  QWNYXWMTNZ      5       0.848408\n",
       "997  RRBZBPZEOW      3       0.931371\n",
       "998  WUYBRZQEXF     76       2.603616\n",
       "999  EZZOWESLKD      5       0.848408\n",
       "\n",
       "[1000 rows x 3 columns]"
      ]
     },
     "execution_count": 22,
     "metadata": {},
     "output_type": "execute_result"
    }
   ],
   "source": [
    "df = pd.read_csv(\"tmp/output.csv\")\n",
    "df"
   ]
  },
  {
   "cell_type": "code",
   "execution_count": 25,
   "id": "declared-habitat",
   "metadata": {},
   "outputs": [
    {
     "data": {
      "text/plain": [
       "47"
      ]
     },
     "execution_count": 25,
     "metadata": {},
     "output_type": "execute_result"
    }
   ],
   "source": [
    "len(df[df.anomaly_score > 2])"
   ]
  }
 ],
 "metadata": {
  "kernelspec": {
   "display_name": "conda_python3",
   "language": "python",
   "name": "conda_python3"
  },
  "language_info": {
   "codemirror_mode": {
    "name": "ipython",
    "version": 3
   },
   "file_extension": ".py",
   "mimetype": "text/x-python",
   "name": "python",
   "nbconvert_exporter": "python",
   "pygments_lexer": "ipython3",
   "version": "3.6.13"
  }
 },
 "nbformat": 4,
 "nbformat_minor": 5
}
