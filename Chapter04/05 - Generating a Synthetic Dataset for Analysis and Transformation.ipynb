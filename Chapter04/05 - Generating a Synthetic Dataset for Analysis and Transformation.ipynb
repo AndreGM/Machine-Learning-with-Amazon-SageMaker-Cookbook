{
 "cells": [
  {
   "cell_type": "markdown",
   "id": "e929ad06",
   "metadata": {},
   "source": [
    "# Generating a Synthetic Dataset for Analysis and Transformation"
   ]
  },
  {
   "cell_type": "markdown",
   "id": "038cd3df",
   "metadata": {},
   "source": [
    "<img align=\"left\" width=\"130\" src=\"https://raw.githubusercontent.com/PacktPublishing/Amazon-SageMaker-Cookbook/master/Extra/cover-small-padded.png\"/>\n",
    "\n",
    "This notebook contains the code to help readers work through one of the recipes of the book [Machine Learning with Amazon SageMaker Cookbook: 80 proven recipes for data scientists and developers to perform ML experiments and deployments](https://www.amazon.com/Machine-Learning-Amazon-SageMaker-Cookbook/dp/1800567030)"
   ]
  },
  {
   "cell_type": "markdown",
   "id": "d0443030",
   "metadata": {},
   "source": [
    "### How to do it..."
   ]
  },
  {
   "cell_type": "code",
   "execution_count": null,
   "id": "354d7160",
   "metadata": {},
   "outputs": [],
   "source": [
    "import random\n",
    "from numpy.random import seed as np_seed\n",
    "from random import randint"
   ]
  },
  {
   "cell_type": "code",
   "execution_count": null,
   "id": "939edf95",
   "metadata": {},
   "outputs": [],
   "source": [
    "np_seed(42)\n",
    "random.seed(42)"
   ]
  },
  {
   "cell_type": "code",
   "execution_count": null,
   "id": "e77fb4c8",
   "metadata": {},
   "outputs": [],
   "source": [
    "def generate_x_value():\n",
    "    return randint(500,2000)\n",
    "\n",
    "def generate_y_value():\n",
    "    return randint(20,50)"
   ]
  },
  {
   "cell_type": "code",
   "execution_count": null,
   "id": "dd98ae41",
   "metadata": {},
   "outputs": [],
   "source": [
    "x_values = []\n",
    "\n",
    "for _ in range(0, 100):\n",
    "    x_values.append(generate_x_value())\n",
    "    \n",
    "x_values[0:5]"
   ]
  },
  {
   "cell_type": "code",
   "execution_count": null,
   "id": "ab7efcaa",
   "metadata": {},
   "outputs": [],
   "source": [
    "y_values = []\n",
    "\n",
    "for _ in range(0, 100):\n",
    "    y_values.append(generate_y_value())\n",
    "    \n",
    "y_values[0:5]"
   ]
  },
  {
   "cell_type": "code",
   "execution_count": null,
   "id": "a4f1def9",
   "metadata": {},
   "outputs": [],
   "source": [
    "x2_values = list(map(lambda x: x * 2 + 7000, x_values))\n",
    "x2_values[0:5]"
   ]
  },
  {
   "cell_type": "code",
   "execution_count": null,
   "id": "e964dbf1",
   "metadata": {},
   "outputs": [],
   "source": [
    "x3_values = list(map(lambda x: x * 3 - 20, x_values))\n",
    "x3_values[0:5]"
   ]
  },
  {
   "cell_type": "code",
   "execution_count": null,
   "id": "593c34f4",
   "metadata": {},
   "outputs": [],
   "source": [
    "y2_values = list(map(lambda y: y * 2 + 1000, y_values))\n",
    "y2_values[0:5]"
   ]
  },
  {
   "cell_type": "code",
   "execution_count": null,
   "id": "00a9de74",
   "metadata": {},
   "outputs": [],
   "source": [
    "import pandas as pd\n",
    "\n",
    "df = pd.DataFrame({\n",
    "    \"x\": x_values,\n",
    "    \"x2\": x2_values,\n",
    "    \"x3\": x3_values,\n",
    "    \"y\": y_values,\n",
    "    \"y2\": y2_values\n",
    "})\n",
    "\n",
    "df"
   ]
  },
  {
   "cell_type": "code",
   "execution_count": null,
   "id": "fca67648",
   "metadata": {},
   "outputs": [],
   "source": [
    "import numpy as np"
   ]
  },
  {
   "cell_type": "code",
   "execution_count": null,
   "id": "72898967",
   "metadata": {},
   "outputs": [],
   "source": [
    "df[\"label\"] = (df.x > 1000) & (df.y > 35)\n",
    "df['label'] = df['label'].apply(lambda x: 1 if x else 0)\n",
    "df"
   ]
  },
  {
   "cell_type": "code",
   "execution_count": null,
   "id": "df80b375",
   "metadata": {},
   "outputs": [],
   "source": [
    "df[\"keep\"] = ((df.x > 1000) & (df.y > 35)) | ((df.x < 800) & (df.y < 30))\n",
    "df"
   ]
  },
  {
   "cell_type": "code",
   "execution_count": null,
   "id": "fc7fc7b2",
   "metadata": {},
   "outputs": [],
   "source": [
    "df = df[df.keep]\n",
    "df.head()"
   ]
  },
  {
   "cell_type": "code",
   "execution_count": null,
   "id": "f24fdf44",
   "metadata": {},
   "outputs": [],
   "source": [
    "del df[\"keep\"]\n",
    "df.head()"
   ]
  },
  {
   "cell_type": "code",
   "execution_count": null,
   "id": "0d0e2ab6",
   "metadata": {},
   "outputs": [],
   "source": [
    "import matplotlib.pyplot as plt\n",
    "\n",
    "groups = df.groupby(\"label\")\n",
    "\n",
    "for name, group in groups:\n",
    "    plt.plot(group[\"x\"], group[\"y\"], marker=\"o\", linestyle=\"\", label=name)\n",
    "    \n",
    "plt.legend()"
   ]
  },
  {
   "cell_type": "code",
   "execution_count": null,
   "id": "b99e9a6b",
   "metadata": {},
   "outputs": [],
   "source": [
    "!mkdir -p tmp"
   ]
  },
  {
   "cell_type": "code",
   "execution_count": null,
   "id": "ed93da63",
   "metadata": {},
   "outputs": [],
   "source": [
    "df.to_csv(\"tmp/synthetic.all.labeled.csv\")"
   ]
  },
  {
   "cell_type": "code",
   "execution_count": null,
   "id": "be84a8b8",
   "metadata": {},
   "outputs": [],
   "source": [
    "labeled_df = df\n",
    "%store labeled_df"
   ]
  },
  {
   "cell_type": "code",
   "execution_count": null,
   "id": "0577bc20",
   "metadata": {},
   "outputs": [],
   "source": [
    "del df[\"label\"]\n",
    "df.head()"
   ]
  },
  {
   "cell_type": "code",
   "execution_count": null,
   "id": "f7b09232",
   "metadata": {},
   "outputs": [],
   "source": [
    "from sklearn.preprocessing import MinMaxScaler\n",
    "\n",
    "scaler = MinMaxScaler()\n",
    "scaled_array = scaler.fit_transform(df.astype(float))\n",
    "normalized_df = pd.DataFrame(scaled_array)\n",
    "normalized_df.columns = df.columns\n",
    "normalized_df.index = df.index\n",
    "\n",
    "display(normalized_df.head())"
   ]
  },
  {
   "cell_type": "code",
   "execution_count": null,
   "id": "c98bd978",
   "metadata": {},
   "outputs": [],
   "source": [
    "normalized_df.to_csv(\"tmp/synthetic.all_normalized.unlabeled.csv\")"
   ]
  },
  {
   "cell_type": "code",
   "execution_count": null,
   "id": "da229420",
   "metadata": {},
   "outputs": [],
   "source": [
    "unlabeled_normalized_df = normalized_df\n",
    "%store unlabeled_normalized_df"
   ]
  }
 ],
 "metadata": {
  "kernelspec": {
   "display_name": "conda_python3",
   "language": "python",
   "name": "conda_python3"
  },
  "language_info": {
   "codemirror_mode": {
    "name": "ipython",
    "version": 3
   },
   "file_extension": ".py",
   "mimetype": "text/x-python",
   "name": "python",
   "nbconvert_exporter": "python",
   "pygments_lexer": "ipython3",
   "version": "3.6.13"
  }
 },
 "nbformat": 4,
 "nbformat_minor": 5
}
