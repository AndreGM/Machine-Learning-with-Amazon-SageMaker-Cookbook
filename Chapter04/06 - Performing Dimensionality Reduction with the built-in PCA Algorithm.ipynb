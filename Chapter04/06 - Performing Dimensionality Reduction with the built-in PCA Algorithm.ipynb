{
 "cells": [
  {
   "cell_type": "markdown",
   "id": "28ac6ea4",
   "metadata": {},
   "source": [
    "# Performing Dimensionality Reduction with the built-in PCA Algorithm"
   ]
  },
  {
   "cell_type": "markdown",
   "id": "3c4e4384",
   "metadata": {},
   "source": [
    "<img align=\"left\" width=\"130\" src=\"https://raw.githubusercontent.com/PacktPublishing/Amazon-SageMaker-Cookbook/master/Extra/cover-small-padded.png\"/>\n",
    "\n",
    "This notebook contains the code to help readers work through one of the recipes of the book [Machine Learning with Amazon SageMaker Cookbook: 80 proven recipes for data scientists and developers to perform ML experiments and deployments](https://www.amazon.com/Machine-Learning-Amazon-SageMaker-Cookbook/dp/1800567030)"
   ]
  },
  {
   "cell_type": "markdown",
   "id": "82569ee9",
   "metadata": {},
   "source": [
    "### How to do it..."
   ]
  },
  {
   "cell_type": "code",
   "execution_count": null,
   "id": "38818ccd",
   "metadata": {},
   "outputs": [],
   "source": [
    "%store -r unlabeled_normalized_df"
   ]
  },
  {
   "cell_type": "code",
   "execution_count": null,
   "id": "0629ef57",
   "metadata": {},
   "outputs": [],
   "source": [
    "import sagemaker\n",
    "from sagemaker import get_execution_role\n",
    "\n",
    "session = sagemaker.Session()\n",
    "role = get_execution_role()\n",
    "bucket = session.default_bucket()"
   ]
  },
  {
   "cell_type": "code",
   "execution_count": null,
   "id": "49063c7c",
   "metadata": {},
   "outputs": [],
   "source": [
    "from sagemaker import PCA\n",
    "\n",
    "estimator = PCA(\n",
    "    role=role,\n",
    "    instance_count=1,\n",
    "    instance_type='ml.c4.xlarge',\n",
    "    num_components=2,\n",
    "    sagemaker_session=session)"
   ]
  },
  {
   "cell_type": "code",
   "execution_count": null,
   "id": "02aaf037",
   "metadata": {},
   "outputs": [],
   "source": [
    "data_np = unlabeled_normalized_df.values.astype('float32')\n",
    "record_set = estimator.record_set(data_np)"
   ]
  },
  {
   "cell_type": "code",
   "execution_count": null,
   "id": "b0fe41ee",
   "metadata": {},
   "outputs": [],
   "source": [
    "estimator.fit(record_set)"
   ]
  },
  {
   "cell_type": "code",
   "execution_count": null,
   "id": "34c584e3",
   "metadata": {},
   "outputs": [],
   "source": [
    "predictor = estimator.deploy(\n",
    "    initial_instance_count=1,\n",
    "    instance_type='ml.t2.medium')"
   ]
  },
  {
   "cell_type": "code",
   "execution_count": null,
   "id": "ce859809",
   "metadata": {},
   "outputs": [],
   "source": [
    "results = predictor.predict(data_np)\n",
    "results"
   ]
  },
  {
   "cell_type": "code",
   "execution_count": null,
   "id": "95deae55",
   "metadata": {},
   "outputs": [],
   "source": [
    "results[0].label['projection'].float32_tensor.values"
   ]
  },
  {
   "cell_type": "code",
   "execution_count": null,
   "id": "461d32a9",
   "metadata": {},
   "outputs": [],
   "source": [
    "def extract_values(item):\n",
    "    projection = item.label['projection']\n",
    "    pair = projection.float32_tensor.values\n",
    "    x = pair[0]\n",
    "    y = pair[1]\n",
    "    \n",
    "    return {\n",
    "        \"x\": x,\n",
    "        \"y\": y\n",
    "    }"
   ]
  },
  {
   "cell_type": "code",
   "execution_count": null,
   "id": "6114b54f",
   "metadata": {},
   "outputs": [],
   "source": [
    "new_xs = []\n",
    "new_ys = []\n",
    "\n",
    "for result in results:\n",
    "    x_and_y = extract_values(result)\n",
    "    new_xs.append(x_and_y[\"x\"])\n",
    "    new_ys.append(x_and_y[\"y\"])"
   ]
  },
  {
   "cell_type": "code",
   "execution_count": null,
   "id": "aeb5b032",
   "metadata": {},
   "outputs": [],
   "source": [
    "new_xs[0:5]"
   ]
  },
  {
   "cell_type": "code",
   "execution_count": null,
   "id": "523c9f2c",
   "metadata": {},
   "outputs": [],
   "source": [
    "new_ys[0:5]"
   ]
  },
  {
   "cell_type": "code",
   "execution_count": null,
   "id": "8b4ffa42",
   "metadata": {},
   "outputs": [],
   "source": [
    "import pandas as pd\n",
    "\n",
    "new_df = pd.DataFrame({\n",
    "    \"new_x\": new_xs,\n",
    "    \"new_y\": new_ys\n",
    "})\n",
    "\n",
    "new_df"
   ]
  },
  {
   "cell_type": "code",
   "execution_count": null,
   "id": "8d5813a1",
   "metadata": {},
   "outputs": [],
   "source": [
    "new_df.plot.scatter(x=\"new_x\", y=\"new_y\")"
   ]
  }
 ],
 "metadata": {
  "kernelspec": {
   "display_name": "conda_python3",
   "language": "python",
   "name": "conda_python3"
  },
  "language_info": {
   "codemirror_mode": {
    "name": "ipython",
    "version": 3
   },
   "file_extension": ".py",
   "mimetype": "text/x-python",
   "name": "python",
   "nbconvert_exporter": "python",
   "pygments_lexer": "ipython3",
   "version": "3.6.13"
  }
 },
 "nbformat": 4,
 "nbformat_minor": 5
}
