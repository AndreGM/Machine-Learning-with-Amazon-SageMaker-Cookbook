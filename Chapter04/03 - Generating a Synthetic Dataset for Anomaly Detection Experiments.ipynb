{
 "cells": [
  {
   "cell_type": "markdown",
   "id": "d77ac34c",
   "metadata": {},
   "source": [
    "# Generating a Synthetic Dataset for Anomaly Detection Experiments"
   ]
  },
  {
   "cell_type": "markdown",
   "id": "1dfaab0d",
   "metadata": {},
   "source": [
    "<img align=\"left\" width=\"130\" src=\"https://raw.githubusercontent.com/PacktPublishing/Amazon-SageMaker-Cookbook/master/Extra/cover-small-padded.png\"/>\n",
    "\n",
    "This notebook contains the code to help readers work through one of the recipes of the book [Machine Learning with Amazon SageMaker Cookbook: 80 proven recipes for data scientists and developers to perform ML experiments and deployments](https://www.amazon.com/Machine-Learning-Amazon-SageMaker-Cookbook/dp/1800567030)"
   ]
  },
  {
   "cell_type": "markdown",
   "id": "6455088e",
   "metadata": {},
   "source": [
    "### How to do it..."
   ]
  },
  {
   "cell_type": "code",
   "execution_count": null,
   "id": "de87666a",
   "metadata": {},
   "outputs": [],
   "source": [
    "import random\n",
    "\n",
    "from string import ascii_uppercase\n",
    "from random import randint, choice"
   ]
  },
  {
   "cell_type": "code",
   "execution_count": null,
   "id": "a198a008",
   "metadata": {},
   "outputs": [],
   "source": [
    "def generate_normal_point():\n",
    "    return randint(0,10)\n",
    "\n",
    "def generate_abnormal_point():\n",
    "    return randint(70,80)\n",
    "\n",
    "def normal_or_abnormal():\n",
    "    tmp = randint(0,20)\n",
    "    \n",
    "    if tmp == 20:\n",
    "        return \"abnormal\"\n",
    "    else:\n",
    "        return \"normal\"\n",
    "    \n",
    "def generate_random_string():\n",
    "    letters = ascii_uppercase\n",
    "    \n",
    "    return ''.join(choice(letters) for i in range(10))"
   ]
  },
  {
   "cell_type": "code",
   "execution_count": null,
   "id": "bc8d2cd4",
   "metadata": {},
   "outputs": [],
   "source": [
    "list_of_points = []\n",
    "\n",
    "for _ in range (0,1000):\n",
    "    point_type = normal_or_abnormal()\n",
    "    \n",
    "    point_value = 0\n",
    "    string_value = generate_random_string()\n",
    "    \n",
    "    if point_type == \"normal\":\n",
    "        point_value = generate_normal_point()\n",
    "    else:\n",
    "        point_value = generate_abnormal_point()\n",
    "    \n",
    "    point = {\n",
    "        \"label\": string_value,\n",
    "        \"value\": point_value\n",
    "    }\n",
    "    \n",
    "    list_of_points.append(point)"
   ]
  },
  {
   "cell_type": "code",
   "execution_count": null,
   "id": "434bb307",
   "metadata": {},
   "outputs": [],
   "source": [
    "list_of_points"
   ]
  },
  {
   "cell_type": "code",
   "execution_count": null,
   "id": "0acdd284",
   "metadata": {},
   "outputs": [],
   "source": [
    "import pandas as pd\n",
    "import matplotlib.pyplot as plt\n",
    "\n",
    "plt.rcParams['figure.figsize'] = [15, 5]\n",
    "pd.DataFrame(list_of_points).plot()"
   ]
  },
  {
   "cell_type": "code",
   "execution_count": null,
   "id": "3bc85fcf",
   "metadata": {},
   "outputs": [],
   "source": [
    "!rm -rf s3_files\n",
    "!mkdir -p s3_files"
   ]
  },
  {
   "cell_type": "code",
   "execution_count": null,
   "id": "9c313b8b",
   "metadata": {},
   "outputs": [],
   "source": [
    "import json\n",
    "\n",
    "def save_json_file(point):\n",
    "    label = point['label']\n",
    "    filename = \"s3_files/\" + label + '.json'\n",
    "    with open(filename, 'w') as file:\n",
    "        json.dump(point, file)\n",
    "        print(f\"Saved {label}!\")"
   ]
  },
  {
   "cell_type": "code",
   "execution_count": null,
   "id": "ff023375",
   "metadata": {},
   "outputs": [],
   "source": [
    "for point in list_of_points:\n",
    "    save_json_file(point)"
   ]
  },
  {
   "cell_type": "code",
   "execution_count": null,
   "id": "ec053083",
   "metadata": {},
   "outputs": [],
   "source": [
    "bucket_name = \"sagemaker-cookbook-anomaly-detection-data-bucket\""
   ]
  },
  {
   "cell_type": "code",
   "execution_count": null,
   "id": "7b1e6fdb",
   "metadata": {},
   "outputs": [],
   "source": [
    "!aws s3 mb s3://{bucket_name}"
   ]
  },
  {
   "cell_type": "code",
   "execution_count": null,
   "id": "8e975af5",
   "metadata": {},
   "outputs": [],
   "source": [
    "!aws s3 cp s3_files/ s3://{bucket_name}/ --recursive"
   ]
  },
  {
   "cell_type": "code",
   "execution_count": null,
   "id": "7798e370",
   "metadata": {},
   "outputs": [],
   "source": [
    "%store list_of_points"
   ]
  },
  {
   "cell_type": "code",
   "execution_count": null,
   "id": "c31c67a4",
   "metadata": {},
   "outputs": [],
   "source": [
    "athena_bucket_name = bucket_name\n",
    "%store athena_bucket_name"
   ]
  }
 ],
 "metadata": {
  "kernelspec": {
   "display_name": "conda_python3",
   "language": "python",
   "name": "conda_python3"
  },
  "language_info": {
   "codemirror_mode": {
    "name": "ipython",
    "version": 3
   },
   "file_extension": ".py",
   "mimetype": "text/x-python",
   "name": "python",
   "nbconvert_exporter": "python",
   "pygments_lexer": "ipython3",
   "version": "3.6.13"
  }
 },
 "nbformat": 4,
 "nbformat_minor": 5
}
