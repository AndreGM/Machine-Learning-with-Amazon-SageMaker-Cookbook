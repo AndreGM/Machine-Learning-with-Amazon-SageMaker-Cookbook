{
 "cells": [
  {
   "cell_type": "markdown",
   "id": "0045a549",
   "metadata": {},
   "source": [
    "# Converting CSV data into RecordIO Protobuf format"
   ]
  },
  {
   "cell_type": "markdown",
   "id": "182a20b6",
   "metadata": {},
   "source": [
    "<img align=\"left\" width=\"130\" src=\"https://raw.githubusercontent.com/PacktPublishing/Amazon-SageMaker-Cookbook/master/Extra/cover-small-padded.png\"/>\n",
    "\n",
    "This notebook contains the code to help readers work through one of the recipes of the book [Machine Learning with Amazon SageMaker Cookbook: 80 proven recipes for data scientists and developers to perform ML experiments and deployments](https://www.amazon.com/Machine-Learning-Amazon-SageMaker-Cookbook/dp/1800567030)"
   ]
  },
  {
   "cell_type": "markdown",
   "id": "734df81c",
   "metadata": {},
   "source": [
    "### How it works"
   ]
  },
  {
   "cell_type": "code",
   "execution_count": null,
   "id": "3ea32e10",
   "metadata": {},
   "outputs": [],
   "source": [
    "%store -r labeled_df\n",
    "labeled_df.head()"
   ]
  },
  {
   "cell_type": "code",
   "execution_count": null,
   "id": "eba362da",
   "metadata": {},
   "outputs": [],
   "source": [
    "import pandas as pd\n",
    "from sklearn.preprocessing import MinMaxScaler\n",
    "\n",
    "scaler = MinMaxScaler()\n",
    "scaled_values = scaler.fit_transform(labeled_df.astype(float))\n",
    "normalized_df = pd.DataFrame(scaled_values)\n",
    "normalized_df.columns = labeled_df.columns\n",
    "normalized_df.index = labeled_df.index\n",
    "\n",
    "display(normalized_df.head())"
   ]
  },
  {
   "cell_type": "code",
   "execution_count": null,
   "id": "504233d8",
   "metadata": {},
   "outputs": [],
   "source": [
    "normalized_df.shape"
   ]
  },
  {
   "cell_type": "code",
   "execution_count": null,
   "id": "45b4a6ad",
   "metadata": {},
   "outputs": [],
   "source": [
    "from sklearn.model_selection import train_test_split\n",
    "\n",
    "y = normalized_df[\"label\"].values\n",
    "X = normalized_df[[\"x\", \"x2\", \"x3\", \"y\", \"y2\"]].values\n",
    "\n",
    "X_train, X_test, y_train, y_test = train_test_split(X, y, test_size=0.2, random_state=0)"
   ]
  },
  {
   "cell_type": "code",
   "execution_count": null,
   "id": "2e561ff8",
   "metadata": {},
   "outputs": [],
   "source": [
    "train_np = X_train\n",
    "label_np = y_train"
   ]
  },
  {
   "cell_type": "code",
   "execution_count": null,
   "id": "916358e6",
   "metadata": {},
   "outputs": [],
   "source": [
    "import io\n",
    "from sagemaker.amazon.common import write_numpy_to_dense_tensor\n",
    "\n",
    "buf = io.BytesIO()\n",
    "write_numpy_to_dense_tensor(buf, train_np, label_np)\n",
    "buf.seek(0)"
   ]
  },
  {
   "cell_type": "code",
   "execution_count": null,
   "id": "28eff73c",
   "metadata": {},
   "outputs": [],
   "source": [
    "!mkdir -p tmp"
   ]
  },
  {
   "cell_type": "code",
   "execution_count": null,
   "id": "22511e87",
   "metadata": {},
   "outputs": [],
   "source": [
    "def save_bytesio(filename, buf):\n",
    "    with open(\"tmp/\" + filename, \"wb\") as file:\n",
    "        file.write(buf.getbuffer())\n",
    "        print(f\"Successfully saved {filename}\")"
   ]
  },
  {
   "cell_type": "code",
   "execution_count": null,
   "id": "74cfa5b8",
   "metadata": {},
   "outputs": [],
   "source": [
    "save_bytesio(\"train.io\", buf)"
   ]
  },
  {
   "cell_type": "code",
   "execution_count": null,
   "id": "f9180b2f",
   "metadata": {},
   "outputs": [],
   "source": [
    "%store buf"
   ]
  },
  {
   "cell_type": "code",
   "execution_count": null,
   "id": "cfefaaa5",
   "metadata": {},
   "outputs": [],
   "source": [
    "%store X_train\n",
    "%store X_test\n",
    "%store y_train\n",
    "%store y_test"
   ]
  }
 ],
 "metadata": {
  "kernelspec": {
   "display_name": "conda_python3",
   "language": "python",
   "name": "conda_python3"
  },
  "language_info": {
   "codemirror_mode": {
    "name": "ipython",
    "version": 3
   },
   "file_extension": ".py",
   "mimetype": "text/x-python",
   "name": "python",
   "nbconvert_exporter": "python",
   "pygments_lexer": "ipython3",
   "version": "3.6.13"
  }
 },
 "nbformat": 4,
 "nbformat_minor": 5
}
