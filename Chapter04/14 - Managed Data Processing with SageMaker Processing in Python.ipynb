{
 "cells": [
  {
   "cell_type": "code",
   "execution_count": 1,
   "id": "annual-fleet",
   "metadata": {},
   "outputs": [],
   "source": [
    "import boto3\n",
    "import sagemaker\n",
    "from sagemaker import get_execution_role\n",
    "from sagemaker.sklearn.processing import SKLearnProcessor"
   ]
  },
  {
   "cell_type": "code",
   "execution_count": 2,
   "id": "hollow-dollar",
   "metadata": {},
   "outputs": [],
   "source": [
    "role = get_execution_role()\n",
    "\n",
    "sklearn_processor = SKLearnProcessor(framework_version='0.20.0',\n",
    "                                     role=role,\n",
    "                                     instance_count=1,\n",
    "                                     instance_type='ml.m5.large')"
   ]
  },
  {
   "cell_type": "code",
   "execution_count": 12,
   "id": "faced-hearing",
   "metadata": {},
   "outputs": [],
   "source": [
    "from sagemaker.processing import ProcessingInput, ProcessingOutput\n",
    "\n",
    "source = 'tmp/dataset.processing.csv'\n",
    "pinput1 = ProcessingInput(\n",
    "    source=source, \n",
    "    destination='/opt/ml/processing/input')\n",
    "\n",
    "poutput1 = ProcessingOutput(source='/opt/ml/processing/output')"
   ]
  },
  {
   "cell_type": "code",
   "execution_count": 13,
   "id": "dressed-green",
   "metadata": {
    "scrolled": true
   },
   "outputs": [
    {
     "name": "stdout",
     "output_type": "stream",
     "text": [
      "\n",
      "Job Name:  sagemaker-scikit-learn-2021-04-18-19-43-54-783\n",
      "Inputs:  [{'InputName': 'input-1', 'AppManaged': False, 'S3Input': {'S3Uri': 's3://sagemaker-us-east-1-581320662326/sagemaker-scikit-learn-2021-04-18-19-43-54-783/input/input-1/dataset.processing.csv', 'LocalPath': '/opt/ml/processing/input', 'S3DataType': 'S3Prefix', 'S3InputMode': 'File', 'S3DataDistributionType': 'FullyReplicated', 'S3CompressionType': 'None'}}, {'InputName': 'code', 'AppManaged': False, 'S3Input': {'S3Uri': 's3://sagemaker-us-east-1-581320662326/sagemaker-scikit-learn-2021-04-18-19-43-54-783/input/code/processing.py', 'LocalPath': '/opt/ml/processing/input/code', 'S3DataType': 'S3Prefix', 'S3InputMode': 'File', 'S3DataDistributionType': 'FullyReplicated', 'S3CompressionType': 'None'}}]\n",
      "Outputs:  [{'OutputName': 'output-1', 'AppManaged': False, 'S3Output': {'S3Uri': 's3://sagemaker-us-east-1-581320662326/sagemaker-scikit-learn-2021-04-18-19-43-54-783/output/output-1', 'LocalPath': '/opt/ml/processing/output', 'S3UploadMode': 'EndOfJob'}}]\n",
      "...........................\u001b[34mNamespace(sample_argument=3)\u001b[0m\n",
      "\u001b[34mCollecting matplotlib\n",
      "  Downloading matplotlib-3.4.1-cp37-cp37m-manylinux1_x86_64.whl (10.3 MB)\u001b[0m\n",
      "\u001b[34mCollecting pyparsing>=2.2.1\n",
      "  Downloading pyparsing-2.4.7-py2.py3-none-any.whl (67 kB)\u001b[0m\n",
      "\u001b[34mRequirement already satisfied: numpy>=1.16 in /miniconda3/lib/python3.7/site-packages (from matplotlib) (1.20.1)\u001b[0m\n",
      "\u001b[34mCollecting pillow>=6.2.0\n",
      "  Downloading Pillow-8.2.0-cp37-cp37m-manylinux1_x86_64.whl (3.0 MB)\u001b[0m\n",
      "\u001b[34mRequirement already satisfied: python-dateutil>=2.7 in /miniconda3/lib/python3.7/site-packages (from matplotlib) (2.8.1)\u001b[0m\n",
      "\u001b[34mCollecting cycler>=0.10\u001b[0m\n",
      "\u001b[34m  Downloading cycler-0.10.0-py2.py3-none-any.whl (6.5 kB)\u001b[0m\n",
      "\u001b[34mCollecting kiwisolver>=1.0.1\n",
      "  Downloading kiwisolver-1.3.1-cp37-cp37m-manylinux1_x86_64.whl (1.1 MB)\u001b[0m\n",
      "\u001b[34mRequirement already satisfied: six in /miniconda3/lib/python3.7/site-packages (from cycler>=0.10->matplotlib) (1.15.0)\u001b[0m\n",
      "\u001b[34mInstalling collected packages: pyparsing, pillow, kiwisolver, cycler, matplotlib\u001b[0m\n",
      "\u001b[34mSuccessfully installed cycler-0.10.0 kiwisolver-1.3.1 matplotlib-3.4.1 pillow-8.2.0 pyparsing-2.4.7\u001b[0m\n",
      "\u001b[34m[+] Successfully installed matplotlib\u001b[0m\n",
      "\u001b[34m<module 'matplotlib' from '/miniconda3/lib/python3.7/site-packages/matplotlib/__init__.py'>\u001b[0m\n",
      "\u001b[34mFound existing installation: matplotlib 3.4.1\u001b[0m\n",
      "\u001b[34mUninstalling matplotlib-3.4.1:\n",
      "  Successfully uninstalled matplotlib-3.4.1\u001b[0m\n",
      "\u001b[34m[+] Successfully uninstalled matplotlib\n",
      "  label  a  b\u001b[0m\n",
      "\u001b[34m0   one  1  2\u001b[0m\n",
      "\u001b[34m1   two  3  4\u001b[0m\n",
      "\u001b[34m[+] DONE\u001b[0m\n",
      "\n"
     ]
    }
   ],
   "source": [
    "sklearn_processor.run(\n",
    "    code='processing.py',\n",
    "    arguments = ['--sample-argument', '3'],\n",
    "    inputs=[pinput1],\n",
    "    outputs=[poutput1]\n",
    ")"
   ]
  },
  {
   "cell_type": "code",
   "execution_count": 14,
   "id": "macro-cycle",
   "metadata": {},
   "outputs": [
    {
     "data": {
      "text/plain": [
       "{'_CODE_CONTAINER_BASE_PATH': '/opt/ml/processing/input/',\n",
       " '_CODE_CONTAINER_INPUT_NAME': 'code',\n",
       " 'command': ['python3'],\n",
       " 'role': 'arn:aws:iam::581320662326:role/service-role/AmazonSageMaker-ExecutionRole-20210311T060130',\n",
       " 'image_uri': '683313688378.dkr.ecr.us-east-1.amazonaws.com/sagemaker-scikit-learn:0.20.0-cpu-py3',\n",
       " 'instance_count': 1,\n",
       " 'instance_type': 'ml.m5.large',\n",
       " 'entrypoint': ['python3', '/opt/ml/processing/input/code/processing.py'],\n",
       " 'volume_size_in_gb': 30,\n",
       " 'volume_kms_key': None,\n",
       " 'output_kms_key': None,\n",
       " 'max_runtime_in_seconds': None,\n",
       " 'base_job_name': None,\n",
       " 'env': None,\n",
       " 'tags': None,\n",
       " 'network_config': None,\n",
       " 'jobs': [<sagemaker.processing.ProcessingJob at 0x7f474b3bbe48>,\n",
       "  <sagemaker.processing.ProcessingJob at 0x7f474b2530b8>],\n",
       " 'latest_job': <sagemaker.processing.ProcessingJob at 0x7f474b2530b8>,\n",
       " '_current_job_name': 'sagemaker-scikit-learn-2021-04-18-19-43-54-783',\n",
       " 'arguments': ['--sample-argument', '3'],\n",
       " 'sagemaker_session': <sagemaker.session.Session at 0x7f474d665f28>}"
      ]
     },
     "execution_count": 14,
     "metadata": {},
     "output_type": "execute_result"
    }
   ],
   "source": [
    "sklearn_processor.__dict__"
   ]
  },
  {
   "cell_type": "code",
   "execution_count": 15,
   "id": "focal-bidder",
   "metadata": {},
   "outputs": [
    {
     "data": {
      "text/plain": [
       "{'inputs': [<sagemaker.processing.ProcessingInput at 0x7f474b2be780>,\n",
       "  <sagemaker.processing.ProcessingInput at 0x7f474c5a0278>],\n",
       " 'outputs': [<sagemaker.processing.ProcessingOutput at 0x7f474b2becc0>],\n",
       " 'output_kms_key': None,\n",
       " 'sagemaker_session': <sagemaker.session.Session at 0x7f474d665f28>,\n",
       " 'job_name': 'sagemaker-scikit-learn-2021-04-18-19-43-54-783'}"
      ]
     },
     "execution_count": 15,
     "metadata": {},
     "output_type": "execute_result"
    }
   ],
   "source": [
    "sklearn_processor.latest_job.__dict__"
   ]
  },
  {
   "cell_type": "code",
   "execution_count": 16,
   "id": "horizontal-partition",
   "metadata": {},
   "outputs": [
    {
     "data": {
      "text/plain": [
       "'s3://sagemaker-us-east-1-581320662326/sagemaker-scikit-learn-2021-04-18-19-43-54-783/output/output-1'"
      ]
     },
     "execution_count": 16,
     "metadata": {},
     "output_type": "execute_result"
    }
   ],
   "source": [
    "latest_job = sklearn_processor.latest_job\n",
    "destination = latest_job.outputs[0].destination\n",
    "destination"
   ]
  },
  {
   "cell_type": "code",
   "execution_count": 17,
   "id": "patent-trinidad",
   "metadata": {},
   "outputs": [
    {
     "name": "stdout",
     "output_type": "stream",
     "text": [
      "Completed 14 Bytes/14 Bytes (211 Bytes/s) with 1 file(s) remaining\r",
      "download: s3://sagemaker-us-east-1-581320662326/sagemaker-scikit-learn-2021-04-18-19-43-54-783/output/output-1/output.csv to tmp/output.processing.csv\r\n"
     ]
    }
   ],
   "source": [
    "!aws s3 cp \"{destination}/output.csv\" tmp/output.processing.csv"
   ]
  },
  {
   "cell_type": "code",
   "execution_count": 18,
   "id": "asian-grounds",
   "metadata": {},
   "outputs": [
    {
     "name": "stdout",
     "output_type": "stream",
     "text": [
      "sample output\r\n"
     ]
    }
   ],
   "source": [
    "!cat tmp/output.processing.csv"
   ]
  }
 ],
 "metadata": {
  "kernelspec": {
   "display_name": "conda_python3",
   "language": "python",
   "name": "conda_python3"
  },
  "language_info": {
   "codemirror_mode": {
    "name": "ipython",
    "version": 3
   },
   "file_extension": ".py",
   "mimetype": "text/x-python",
   "name": "python",
   "nbconvert_exporter": "python",
   "pygments_lexer": "ipython3",
   "version": "3.6.13"
  }
 },
 "nbformat": 4,
 "nbformat_minor": 5
}
