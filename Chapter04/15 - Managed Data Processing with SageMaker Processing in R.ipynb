{
 "cells": [
  {
   "cell_type": "code",
   "execution_count": 35,
   "id": "quick-sterling",
   "metadata": {},
   "outputs": [],
   "source": [
    "library('reticulate')\n",
    "sagemaker <- import('sagemaker')\n",
    "boto3 <- import('boto3')\n",
    "role <- sagemaker$get_execution_role()"
   ]
  },
  {
   "cell_type": "code",
   "execution_count": 36,
   "id": "trained-accident",
   "metadata": {},
   "outputs": [],
   "source": [
    "processing_repository_uri <- \"581320662326.dkr.ecr.us-east-1.amazonaws.com/sagemaker-processing-r:2\"\n",
    "\n",
    "session <- boto3$session$Session()\n",
    "sagemaker_session <- sagemaker$Session(\n",
    "    boto_session=session)"
   ]
  },
  {
   "cell_type": "code",
   "execution_count": 37,
   "id": "published-recognition",
   "metadata": {},
   "outputs": [],
   "source": [
    "ScriptProcessor <- sagemaker$processing$ScriptProcessor\n",
    "\n",
    "script_processor <- ScriptProcessor(\n",
    "    command=list('Rscript'),\n",
    "    image_uri=processing_repository_uri,\n",
    "    role=role,\n",
    "    sagemaker_session=sagemaker_session,\n",
    "    instance_count=1L,\n",
    "    instance_type='ml.m5.xlarge')"
   ]
  },
  {
   "cell_type": "code",
   "execution_count": 38,
   "id": "korean-airport",
   "metadata": {},
   "outputs": [],
   "source": [
    "ProcessingInput <- sagemaker$processing$ProcessingInput\n",
    "ProcessingOutput <- sagemaker$processing$ProcessingOutput"
   ]
  },
  {
   "cell_type": "code",
   "execution_count": 39,
   "id": "current-white",
   "metadata": {},
   "outputs": [],
   "source": [
    "source <- 'tmp/dataset.processing.csv'\n",
    "pinput1 <- ProcessingInput(source=source, destination='/opt/ml/processing/input')\n",
    "poutput1 <- ProcessingOutput(source='/opt/ml/processing/output')"
   ]
  },
  {
   "cell_type": "code",
   "execution_count": 40,
   "id": "coated-dryer",
   "metadata": {},
   "outputs": [],
   "source": [
    "script_processor$run(code='processing.r',\n",
    "                     inputs=list(pinput1),\n",
    "                     outputs=list(poutput1),\n",
    "                     arguments=list('--sample-argument','3'),\n",
    "                     wait=TRUE)"
   ]
  },
  {
   "cell_type": "code",
   "execution_count": 41,
   "id": "answering-labor",
   "metadata": {},
   "outputs": [],
   "source": [
    "cmd <- function(bash_command) {\n",
    "    print(bash_command)\n",
    "    output <- system(bash_command, intern=TRUE)\n",
    "    last_line = \"\"\n",
    "    \n",
    "    for (line in output) { \n",
    "        cat(line)\n",
    "        cat(\"\\n\")\n",
    "        last_line = line \n",
    "    }\n",
    "    \n",
    "    return(last_line) \n",
    "}"
   ]
  },
  {
   "cell_type": "code",
   "execution_count": 42,
   "id": "tender-backup",
   "metadata": {
    "scrolled": true
   },
   "outputs": [
    {
     "name": "stdout",
     "output_type": "stream",
     "text": [
      "[1] \"pip install awslogs\"\n",
      "Requirement already satisfied: awslogs in /home/ec2-user/anaconda3/envs/R/lib/python3.9/site-packages (0.14.0)\n",
      "Requirement already satisfied: python-dateutil>=2.4.0 in /home/ec2-user/anaconda3/envs/R/lib/python3.9/site-packages (from awslogs) (2.8.1)\n",
      "Requirement already satisfied: jmespath<1.0.0,>=0.7.1 in /home/ec2-user/anaconda3/envs/R/lib/python3.9/site-packages (from awslogs) (0.10.0)\n",
      "Requirement already satisfied: termcolor>=1.1.0 in /home/ec2-user/anaconda3/envs/R/lib/python3.9/site-packages (from awslogs) (1.1.0)\n",
      "Requirement already satisfied: boto3>=1.5.0 in /home/ec2-user/anaconda3/envs/R/lib/python3.9/site-packages (from awslogs) (1.17.35)\n",
      "Requirement already satisfied: botocore<1.21.0,>=1.20.35 in /home/ec2-user/anaconda3/envs/R/lib/python3.9/site-packages (from boto3>=1.5.0->awslogs) (1.20.35)\n",
      "Requirement already satisfied: s3transfer<0.4.0,>=0.3.0 in /home/ec2-user/anaconda3/envs/R/lib/python3.9/site-packages (from boto3>=1.5.0->awslogs) (0.3.6)\n",
      "Requirement already satisfied: urllib3<1.27,>=1.25.4 in /home/ec2-user/anaconda3/envs/R/lib/python3.9/site-packages (from botocore<1.21.0,>=1.20.35->boto3>=1.5.0->awslogs) (1.26.4)\n",
      "Requirement already satisfied: six>=1.5 in /home/ec2-user/anaconda3/envs/R/lib/python3.9/site-packages (from python-dateutil>=2.4.0->awslogs) (1.15.0)\n"
     ]
    },
    {
     "data": {
      "text/html": [
       "'Requirement already satisfied: six&gt;=1.5 in /home/ec2-user/anaconda3/envs/R/lib/python3.9/site-packages (from python-dateutil&gt;=2.4.0-&gt;awslogs) (1.15.0)'"
      ],
      "text/latex": [
       "'Requirement already satisfied: six>=1.5 in /home/ec2-user/anaconda3/envs/R/lib/python3.9/site-packages (from python-dateutil>=2.4.0->awslogs) (1.15.0)'"
      ],
      "text/markdown": [
       "'Requirement already satisfied: six&gt;=1.5 in /home/ec2-user/anaconda3/envs/R/lib/python3.9/site-packages (from python-dateutil&gt;=2.4.0-&gt;awslogs) (1.15.0)'"
      ],
      "text/plain": [
       "[1] \"Requirement already satisfied: six>=1.5 in /home/ec2-user/anaconda3/envs/R/lib/python3.9/site-packages (from python-dateutil>=2.4.0->awslogs) (1.15.0)\""
      ]
     },
     "metadata": {},
     "output_type": "display_data"
    }
   ],
   "source": [
    "cmd('pip install awslogs')"
   ]
  },
  {
   "cell_type": "code",
   "execution_count": 43,
   "id": "alleged-theme",
   "metadata": {},
   "outputs": [
    {
     "name": "stdout",
     "output_type": "stream",
     "text": [
      "[1] \"awslogs get /aws/sagemaker/ProcessingJobs -s1h --aws-region=us-east-1\"\n",
      "/aws/sagemaker/ProcessingJobs sagemaker-scikit-learn-2021-04-18-19-34-01-181/algo-1-1618774641 Namespace(sample_argument=3)\n",
      "/aws/sagemaker/ProcessingJobs sagemaker-scikit-learn-2021-04-18-19-34-01-181/algo-1-1618774641 Collecting matplotlib\n",
      "  Downloading matplotlib-3.4.1-cp37-cp37m-manylinux1_x86_64.whl (10.3 MB)\n",
      "/aws/sagemaker/ProcessingJobs sagemaker-scikit-learn-2021-04-18-19-34-01-181/algo-1-1618774641 Collecting kiwisolver>=1.0.1\n",
      "  Downloading kiwisolver-1.3.1-cp37-cp37m-manylinux1_x86_64.whl (1.1 MB)\n",
      "/aws/sagemaker/ProcessingJobs sagemaker-scikit-learn-2021-04-18-19-34-01-181/algo-1-1618774641 Requirement already satisfied: numpy>=1.16 in /miniconda3/lib/python3.7/site-packages (from matplotlib) (1.20.1)\n",
      "/aws/sagemaker/ProcessingJobs sagemaker-scikit-learn-2021-04-18-19-34-01-181/algo-1-1618774641 Collecting pillow>=6.2.0\n",
      "  Downloading Pillow-8.2.0-cp37-cp37m-manylinux1_x86_64.whl (3.0 MB)\n",
      "/aws/sagemaker/ProcessingJobs sagemaker-scikit-learn-2021-04-18-19-34-01-181/algo-1-1618774641 Collecting cycler>=0.10\n",
      "  Downloading cycler-0.10.0-py2.py3-none-any.whl (6.5 kB)\n",
      "/aws/sagemaker/ProcessingJobs sagemaker-scikit-learn-2021-04-18-19-34-01-181/algo-1-1618774641 Requirement already satisfied: python-dateutil>=2.7 in /miniconda3/lib/python3.7/site-packages (from matplotlib) (2.8.1)\n",
      "/aws/sagemaker/ProcessingJobs sagemaker-scikit-learn-2021-04-18-19-34-01-181/algo-1-1618774641 Collecting pyparsing>=2.2.1\n",
      "  Downloading pyparsing-2.4.7-py2.py3-none-any.whl (67 kB)\n",
      "/aws/sagemaker/ProcessingJobs sagemaker-scikit-learn-2021-04-18-19-34-01-181/algo-1-1618774641 Requirement already satisfied: six in /miniconda3/lib/python3.7/site-packages (from cycler>=0.10->matplotlib) (1.15.0)\n",
      "/aws/sagemaker/ProcessingJobs sagemaker-scikit-learn-2021-04-18-19-34-01-181/algo-1-1618774641 Installing collected packages: pyparsing, pillow, kiwisolver, cycler, matplotlib\n",
      "/aws/sagemaker/ProcessingJobs sagemaker-scikit-learn-2021-04-18-19-34-01-181/algo-1-1618774641 Successfully installed cycler-0.10.0 kiwisolver-1.3.1 matplotlib-3.4.1 pillow-8.2.0 pyparsing-2.4.7\n",
      "/aws/sagemaker/ProcessingJobs sagemaker-scikit-learn-2021-04-18-19-34-01-181/algo-1-1618774641 [+] Successfully installed matplotlib\n",
      "/aws/sagemaker/ProcessingJobs sagemaker-scikit-learn-2021-04-18-19-34-01-181/algo-1-1618774641 <module 'matplotlib' from '/miniconda3/lib/python3.7/site-packages/matplotlib/__init__.py'>\n",
      "/aws/sagemaker/ProcessingJobs sagemaker-scikit-learn-2021-04-18-19-34-01-181/algo-1-1618774641 Found existing installation: matplotlib 3.4.1\n",
      "/aws/sagemaker/ProcessingJobs sagemaker-scikit-learn-2021-04-18-19-34-01-181/algo-1-1618774641 Uninstalling matplotlib-3.4.1:\n",
      "  Successfully uninstalled matplotlib-3.4.1\n",
      "/aws/sagemaker/ProcessingJobs sagemaker-scikit-learn-2021-04-18-19-34-01-181/algo-1-1618774641 [+] Successfully uninstalled matplotlib\n",
      "/aws/sagemaker/ProcessingJobs sagemaker-scikit-learn-2021-04-18-19-34-01-181/algo-1-1618774641 Traceback (most recent call last):\n",
      "  File \"/opt/ml/processing/input/code/processing.py\", line 58, in <module>\n",
      "    main()\n",
      "  File \"/opt/ml/processing/input/code/processing.py\", line 50, in main\n",
      "    sample_input = load_input(\"/opt/ml/processing/input/dataset.csv\")\n",
      "  File \"/opt/ml/processing/input/code/processing.py\", line 33, in load_input\n",
      "    df = pd.read_csv(input_target)\n",
      "  File \"/miniconda3/lib/python3.7/site-packages/pandas/io/parsers.py\", line 685, in parser_f\n",
      "    return _read(filepath_or_buffer, kwds)\n",
      "  File \"/miniconda3/lib/python3.7/site-packages/pandas/io/parsers.py\", line 457, in _read\n",
      "    parser = TextFileReader(fp_or_buf, **kwds)\n",
      "  File \"/miniconda3/lib/python3.7/site-packages/pandas/io/parsers.py\", line 895, in __init__\n",
      "    self._make_engine(self.engine)\n",
      "  File \"/miniconda3/lib/python3.7/site-packages/pandas/io/parsers.py\", line 1135, in _make_engine\n",
      "    self._engine = CParserWrapper(self.f, **self.options)\n",
      "  File \"/miniconda3/lib/python3.7/site-packages/pandas/io/parsers.py\", line 1917, in __init__\n",
      "    self._reader = parsers.TextReader(src, **kwds)\n",
      "  File \"pandas/_libs/parsers.pyx\", line 382, in pandas._libs.parsers.TextReader.__cinit__\n",
      "  File \"pandas/_libs/parsers.pyx\", line 689, in pandas._libs.parsers.TextReader._setup_parser_source\n",
      "/aws/sagemaker/ProcessingJobs sagemaker-scikit-learn-2021-04-18-19-34-01-181/algo-1-1618774641 FileNotFoundError: [Errno 2] File b'/opt/ml/processing/input/dataset.csv' does not exist: b'/opt/ml/processing/input/dataset.csv'\n",
      "/aws/sagemaker/ProcessingJobs sagemaker-scikit-learn-2021-04-18-19-43-54-783/algo-1-1618775261 Namespace(sample_argument=3)\n",
      "/aws/sagemaker/ProcessingJobs sagemaker-scikit-learn-2021-04-18-19-43-54-783/algo-1-1618775261 Collecting matplotlib\n",
      "  Downloading matplotlib-3.4.1-cp37-cp37m-manylinux1_x86_64.whl (10.3 MB)\n",
      "/aws/sagemaker/ProcessingJobs sagemaker-scikit-learn-2021-04-18-19-43-54-783/algo-1-1618775261 Collecting pyparsing>=2.2.1\n",
      "  Downloading pyparsing-2.4.7-py2.py3-none-any.whl (67 kB)\n",
      "/aws/sagemaker/ProcessingJobs sagemaker-scikit-learn-2021-04-18-19-43-54-783/algo-1-1618775261 Requirement already satisfied: numpy>=1.16 in /miniconda3/lib/python3.7/site-packages (from matplotlib) (1.20.1)\n",
      "/aws/sagemaker/ProcessingJobs sagemaker-scikit-learn-2021-04-18-19-43-54-783/algo-1-1618775261 Collecting pillow>=6.2.0\n",
      "  Downloading Pillow-8.2.0-cp37-cp37m-manylinux1_x86_64.whl (3.0 MB)\n",
      "/aws/sagemaker/ProcessingJobs sagemaker-scikit-learn-2021-04-18-19-43-54-783/algo-1-1618775261 Requirement already satisfied: python-dateutil>=2.7 in /miniconda3/lib/python3.7/site-packages (from matplotlib) (2.8.1)\n",
      "/aws/sagemaker/ProcessingJobs sagemaker-scikit-learn-2021-04-18-19-43-54-783/algo-1-1618775261 Collecting cycler>=0.10\n",
      "/aws/sagemaker/ProcessingJobs sagemaker-scikit-learn-2021-04-18-19-43-54-783/algo-1-1618775261   Downloading cycler-0.10.0-py2.py3-none-any.whl (6.5 kB)\n",
      "/aws/sagemaker/ProcessingJobs sagemaker-scikit-learn-2021-04-18-19-43-54-783/algo-1-1618775261 Collecting kiwisolver>=1.0.1\n",
      "  Downloading kiwisolver-1.3.1-cp37-cp37m-manylinux1_x86_64.whl (1.1 MB)\n",
      "/aws/sagemaker/ProcessingJobs sagemaker-scikit-learn-2021-04-18-19-43-54-783/algo-1-1618775261 Requirement already satisfied: six in /miniconda3/lib/python3.7/site-packages (from cycler>=0.10->matplotlib) (1.15.0)\n",
      "/aws/sagemaker/ProcessingJobs sagemaker-scikit-learn-2021-04-18-19-43-54-783/algo-1-1618775261 Installing collected packages: pyparsing, pillow, kiwisolver, cycler, matplotlib\n",
      "/aws/sagemaker/ProcessingJobs sagemaker-scikit-learn-2021-04-18-19-43-54-783/algo-1-1618775261 Successfully installed cycler-0.10.0 kiwisolver-1.3.1 matplotlib-3.4.1 pillow-8.2.0 pyparsing-2.4.7\n",
      "/aws/sagemaker/ProcessingJobs sagemaker-scikit-learn-2021-04-18-19-43-54-783/algo-1-1618775261 [+] Successfully installed matplotlib\n",
      "/aws/sagemaker/ProcessingJobs sagemaker-scikit-learn-2021-04-18-19-43-54-783/algo-1-1618775261 <module 'matplotlib' from '/miniconda3/lib/python3.7/site-packages/matplotlib/__init__.py'>\n",
      "/aws/sagemaker/ProcessingJobs sagemaker-scikit-learn-2021-04-18-19-43-54-783/algo-1-1618775261 Found existing installation: matplotlib 3.4.1\n",
      "/aws/sagemaker/ProcessingJobs sagemaker-scikit-learn-2021-04-18-19-43-54-783/algo-1-1618775261 Uninstalling matplotlib-3.4.1:\n",
      "  Successfully uninstalled matplotlib-3.4.1\n",
      "/aws/sagemaker/ProcessingJobs sagemaker-scikit-learn-2021-04-18-19-43-54-783/algo-1-1618775261 [+] Successfully uninstalled matplotlib\n",
      "  label  a  b\n",
      "/aws/sagemaker/ProcessingJobs sagemaker-scikit-learn-2021-04-18-19-43-54-783/algo-1-1618775261 0   one  1  2\n",
      "/aws/sagemaker/ProcessingJobs sagemaker-scikit-learn-2021-04-18-19-43-54-783/algo-1-1618775261 1   two  3  4\n",
      "/aws/sagemaker/ProcessingJobs sagemaker-scikit-learn-2021-04-18-19-43-54-783/algo-1-1618775261 [+] DONE\n",
      "/aws/sagemaker/ProcessingJobs sagemaker-processing-r-2021-04-18-20-05-05-969/algo-1-1618776524 $sample_argument\n",
      "/aws/sagemaker/ProcessingJobs sagemaker-processing-r-2021-04-18-20-05-05-969/algo-1-1618776524 [1] \"3\"\n",
      "/aws/sagemaker/ProcessingJobs sagemaker-processing-r-2021-04-18-20-05-05-969/algo-1-1618776524 ── Column specification ────────────────────────────────────────────────────────\n",
      "/aws/sagemaker/ProcessingJobs sagemaker-processing-r-2021-04-18-20-05-05-969/algo-1-1618776524 cols(\n",
      "  label = col_character(),\n",
      "  a = col_double(),\n",
      "  b = col_double()\n",
      "/aws/sagemaker/ProcessingJobs sagemaker-processing-r-2021-04-18-20-05-05-969/algo-1-1618776524 )\n",
      "/aws/sagemaker/ProcessingJobs sagemaker-processing-r-2021-04-18-20-05-05-969/algo-1-1618776524 # A tibble: 2 x 3\n",
      "  label     a     b\n",
      "  <chr> <dbl> <dbl>\n",
      "/aws/sagemaker/ProcessingJobs sagemaker-processing-r-2021-04-18-20-05-05-969/algo-1-1618776524 1 one       1     2\n",
      "/aws/sagemaker/ProcessingJobs sagemaker-processing-r-2021-04-18-20-05-05-969/algo-1-1618776524 2 two       3     4\n",
      "/aws/sagemaker/ProcessingJobs sagemaker-processing-r-2021-04-18-20-24-00-413/algo-1-1618777637 $sample_argument\n",
      "/aws/sagemaker/ProcessingJobs sagemaker-processing-r-2021-04-18-20-24-00-413/algo-1-1618777637 [1] \"3\"\n",
      "/aws/sagemaker/ProcessingJobs sagemaker-processing-r-2021-04-18-20-24-00-413/algo-1-1618777637 ── Column specification ────────────────────────────────────────────────────────\n",
      "/aws/sagemaker/ProcessingJobs sagemaker-processing-r-2021-04-18-20-24-00-413/algo-1-1618777637 cols(\n",
      "  label = col_character(),\n",
      "  a = col_double(),\n",
      "  b = col_double()\n",
      "/aws/sagemaker/ProcessingJobs sagemaker-processing-r-2021-04-18-20-24-00-413/algo-1-1618777637 )\n",
      "/aws/sagemaker/ProcessingJobs sagemaker-processing-r-2021-04-18-20-24-00-413/algo-1-1618777637 # A tibble: 2 x 3\n",
      "  label     a     b\n",
      "  <chr> <dbl> <dbl>\n",
      "/aws/sagemaker/ProcessingJobs sagemaker-processing-r-2021-04-18-20-24-00-413/algo-1-1618777637 1 one       1     2\n",
      "/aws/sagemaker/ProcessingJobs sagemaker-processing-r-2021-04-18-20-24-00-413/algo-1-1618777637 2 two       3     4\n"
     ]
    },
    {
     "data": {
      "text/html": [
       "<span style=white-space:pre-wrap>'/aws/sagemaker/ProcessingJobs sagemaker-processing-r-2021-04-18-20-24-00-413/algo-1-1618777637 2 two       3     4'</span>"
      ],
      "text/latex": [
       "'/aws/sagemaker/ProcessingJobs sagemaker-processing-r-2021-04-18-20-24-00-413/algo-1-1618777637 2 two       3     4'"
      ],
      "text/markdown": [
       "<span style=white-space:pre-wrap>'/aws/sagemaker/ProcessingJobs sagemaker-processing-r-2021-04-18-20-24-00-413/algo-1-1618777637 2 two       3     4'</span>"
      ],
      "text/plain": [
       "[1] \"/aws/sagemaker/ProcessingJobs sagemaker-processing-r-2021-04-18-20-24-00-413/algo-1-1618777637 2 two       3     4\""
      ]
     },
     "metadata": {},
     "output_type": "display_data"
    }
   ],
   "source": [
    "# Make sure SageMaker Execution Role has CloudWatchLogsReadOnlyAccess\n",
    "cmd(\"awslogs get /aws/sagemaker/ProcessingJobs -s1h --aws-region=us-east-1\")"
   ]
  },
  {
   "cell_type": "code",
   "execution_count": 44,
   "id": "tribal-teens",
   "metadata": {},
   "outputs": [
    {
     "data": {
      "text/html": [
       "'s3://sagemaker-us-east-1-581320662326/sagemaker-processing-r-2021-04-18-20-24-00-413/output/output-1'"
      ],
      "text/latex": [
       "'s3://sagemaker-us-east-1-581320662326/sagemaker-processing-r-2021-04-18-20-24-00-413/output/output-1'"
      ],
      "text/markdown": [
       "'s3://sagemaker-us-east-1-581320662326/sagemaker-processing-r-2021-04-18-20-24-00-413/output/output-1'"
      ],
      "text/plain": [
       "[1] \"s3://sagemaker-us-east-1-581320662326/sagemaker-processing-r-2021-04-18-20-24-00-413/output/output-1\""
      ]
     },
     "metadata": {},
     "output_type": "display_data"
    }
   ],
   "source": [
    "latest_job <- script_processor$latest_job\n",
    "destination <- latest_job$outputs[[1]]$destination\n",
    "destination"
   ]
  },
  {
   "cell_type": "code",
   "execution_count": 45,
   "id": "multiple-minutes",
   "metadata": {},
   "outputs": [],
   "source": [
    "csv_path <- paste0(destination, \"/output.csv\")\n",
    "command <- paste(\"aws s3 cp\", csv_path, \"tmp/output.processing.r.csv\")"
   ]
  },
  {
   "cell_type": "code",
   "execution_count": 46,
   "id": "herbal-jacksonville",
   "metadata": {},
   "outputs": [
    {
     "name": "stdout",
     "output_type": "stream",
     "text": [
      "[1] \"aws s3 cp s3://sagemaker-us-east-1-581320662326/sagemaker-processing-r-2021-04-18-20-24-00-413/output/output-1/output.csv tmp/output.processing.r.csv\"\n",
      "Completed 7 Bytes/7 Bytes (104 Bytes/s) with 1 file(s) remaining\r",
      "download: s3://sagemaker-us-east-1-581320662326/sagemaker-processing-r-2021-04-18-20-24-00-413/output/output-1/output.csv to tmp/output.processing.r.csv\n"
     ]
    },
    {
     "data": {
      "text/html": [
       "'Completed 7 Bytes/7 Bytes (104 Bytes/s) with 1 file(s) remaining\\rdownload: s3://sagemaker-us-east-1-581320662326/sagemaker-processing-r-2021-04-18-20-24-00-413/output/output-1/output.csv to tmp/output.processing.r.csv'"
      ],
      "text/latex": [
       "'Completed 7 Bytes/7 Bytes (104 Bytes/s) with 1 file(s) remaining\\textbackslash{}rdownload: s3://sagemaker-us-east-1-581320662326/sagemaker-processing-r-2021-04-18-20-24-00-413/output/output-1/output.csv to tmp/output.processing.r.csv'"
      ],
      "text/markdown": [
       "'Completed 7 Bytes/7 Bytes (104 Bytes/s) with 1 file(s) remaining\\rdownload: s3://sagemaker-us-east-1-581320662326/sagemaker-processing-r-2021-04-18-20-24-00-413/output/output-1/output.csv to tmp/output.processing.r.csv'"
      ],
      "text/plain": [
       "[1] \"Completed 7 Bytes/7 Bytes (104 Bytes/s) with 1 file(s) remaining\\rdownload: s3://sagemaker-us-east-1-581320662326/sagemaker-processing-r-2021-04-18-20-24-00-413/output/output-1/output.csv to tmp/output.processing.r.csv\""
      ]
     },
     "metadata": {},
     "output_type": "display_data"
    }
   ],
   "source": [
    "cmd(command)"
   ]
  },
  {
   "cell_type": "code",
   "execution_count": 60,
   "id": "rocky-stopping",
   "metadata": {},
   "outputs": [
    {
     "data": {
      "text/html": [
       "'output'"
      ],
      "text/latex": [
       "'output'"
      ],
      "text/markdown": [
       "'output'"
      ],
      "text/plain": [
       "[1] \"output\""
      ]
     },
     "metadata": {},
     "output_type": "display_data"
    }
   ],
   "source": [
    "read.csv(\"tmp/output.processing.r.csv\", header=FALSE)[[1]]"
   ]
  }
 ],
 "metadata": {
  "kernelspec": {
   "display_name": "R",
   "language": "R",
   "name": "ir"
  },
  "language_info": {
   "codemirror_mode": "r",
   "file_extension": ".r",
   "mimetype": "text/x-r-source",
   "name": "R",
   "pygments_lexer": "r",
   "version": "4.0.3"
  }
 },
 "nbformat": 4,
 "nbformat_minor": 5
}
