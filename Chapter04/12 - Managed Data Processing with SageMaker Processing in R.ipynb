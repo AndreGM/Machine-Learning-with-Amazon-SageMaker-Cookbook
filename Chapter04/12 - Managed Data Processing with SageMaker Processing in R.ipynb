{
 "cells": [
  {
   "cell_type": "markdown",
   "id": "c7f7e766",
   "metadata": {},
   "source": [
    "# Managed Data Processing with SageMaker Processing in R"
   ]
  },
  {
   "cell_type": "markdown",
   "id": "f0a8f933",
   "metadata": {},
   "source": [
    "<img align=\"left\" width=\"130\" src=\"https://raw.githubusercontent.com/PacktPublishing/Amazon-SageMaker-Cookbook/master/Extra/cover-small-padded.png\"/>\n",
    "\n",
    "This notebook contains the code to help readers work through one of the recipes of the book [Machine Learning with Amazon SageMaker Cookbook: 80 proven recipes for data scientists and developers to perform ML experiments and deployments](https://www.amazon.com/Machine-Learning-Amazon-SageMaker-Cookbook/dp/1800567030)"
   ]
  },
  {
   "cell_type": "markdown",
   "id": "9a0e0643",
   "metadata": {},
   "source": [
    "### How to do it..."
   ]
  },
  {
   "cell_type": "code",
   "execution_count": null,
   "id": "eebdba14",
   "metadata": {},
   "outputs": [],
   "source": [
    "library('reticulate')\n",
    "sagemaker <- import('sagemaker')\n",
    "boto3 <- import('boto3')\n",
    "role <- sagemaker$get_execution_role()"
   ]
  },
  {
   "cell_type": "code",
   "execution_count": null,
   "id": "8edf038e",
   "metadata": {},
   "outputs": [],
   "source": [
    "processing_repository_uri <- \"581320662326.dkr.ecr.us-east-1.amazonaws.com/sagemaker-processing-r:2\"\n",
    "\n",
    "session <- boto3$session$Session()\n",
    "sagemaker_session <- sagemaker$Session(\n",
    "    boto_session=session)"
   ]
  },
  {
   "cell_type": "code",
   "execution_count": null,
   "id": "81711a9b",
   "metadata": {},
   "outputs": [],
   "source": [
    "ScriptProcessor <- sagemaker$processing$ScriptProcessor\n",
    "\n",
    "script_processor <- ScriptProcessor(\n",
    "    command=list('Rscript'),\n",
    "    image_uri=processing_repository_uri,\n",
    "    role=role,\n",
    "    sagemaker_session=sagemaker_session,\n",
    "    instance_count=1L,\n",
    "    instance_type='ml.m5.xlarge')"
   ]
  },
  {
   "cell_type": "code",
   "execution_count": null,
   "id": "103a0511",
   "metadata": {},
   "outputs": [],
   "source": [
    "ProcessingInput <- sagemaker$processing$ProcessingInput\n",
    "ProcessingOutput <- sagemaker$processing$ProcessingOutput"
   ]
  },
  {
   "cell_type": "code",
   "execution_count": null,
   "id": "a39bf86e",
   "metadata": {},
   "outputs": [],
   "source": [
    "source <- 'tmp/dataset.processing.csv'\n",
    "pinput1 <- ProcessingInput(source=source, destination='/opt/ml/processing/input')\n",
    "poutput1 <- ProcessingOutput(source='/opt/ml/processing/output')"
   ]
  },
  {
   "cell_type": "code",
   "execution_count": null,
   "id": "a7d13cb1",
   "metadata": {},
   "outputs": [],
   "source": [
    "script_processor$run(code='processing.r',\n",
    "                     inputs=list(pinput1),\n",
    "                     outputs=list(poutput1),\n",
    "                     arguments=list('--sample-argument','3'),\n",
    "                     wait=TRUE)"
   ]
  },
  {
   "cell_type": "code",
   "execution_count": null,
   "id": "a76575d5",
   "metadata": {},
   "outputs": [],
   "source": [
    "cmd <- function(bash_command) {\n",
    "    print(bash_command)\n",
    "    output <- system(bash_command, intern=TRUE)\n",
    "    last_line = \"\"\n",
    "    \n",
    "    for (line in output) { \n",
    "        cat(line)\n",
    "        cat(\"\\n\")\n",
    "        last_line = line \n",
    "    }\n",
    "    \n",
    "    return(last_line) \n",
    "}"
   ]
  },
  {
   "cell_type": "code",
   "execution_count": null,
   "id": "fa9c9b3a",
   "metadata": {
    "scrolled": true
   },
   "outputs": [],
   "source": [
    "cmd('pip install awslogs')"
   ]
  },
  {
   "cell_type": "code",
   "execution_count": null,
   "id": "5b9f503f",
   "metadata": {},
   "outputs": [],
   "source": [
    "# Make sure SageMaker Execution Role has CloudWatchLogsReadOnlyAccess\n",
    "cmd(\"awslogs get /aws/sagemaker/ProcessingJobs -s1h --aws-region=us-east-1\")"
   ]
  },
  {
   "cell_type": "code",
   "execution_count": null,
   "id": "30e05940",
   "metadata": {},
   "outputs": [],
   "source": [
    "latest_job <- script_processor$latest_job\n",
    "destination <- latest_job$outputs[[1]]$destination\n",
    "destination"
   ]
  },
  {
   "cell_type": "code",
   "execution_count": null,
   "id": "3d9560c9",
   "metadata": {},
   "outputs": [],
   "source": [
    "csv_path <- paste0(destination, \"/output.csv\")\n",
    "command <- paste(\"aws s3 cp\", csv_path, \"tmp/output.processing.r.csv\")"
   ]
  },
  {
   "cell_type": "code",
   "execution_count": null,
   "id": "80189002",
   "metadata": {},
   "outputs": [],
   "source": [
    "cmd(command)"
   ]
  },
  {
   "cell_type": "code",
   "execution_count": null,
   "id": "1b161868",
   "metadata": {},
   "outputs": [],
   "source": [
    "read.csv(\"tmp/output.processing.r.csv\", header=FALSE)[[1]]"
   ]
  }
 ],
 "metadata": {
  "kernelspec": {
   "display_name": "R",
   "language": "R",
   "name": "ir"
  },
  "language_info": {
   "codemirror_mode": "r",
   "file_extension": ".r",
   "mimetype": "text/x-r-source",
   "name": "R",
   "pygments_lexer": "r",
   "version": "4.1.0"
  }
 },
 "nbformat": 4,
 "nbformat_minor": 5
}
