{
 "cells": [
  {
   "cell_type": "markdown",
   "id": "48dcb28f",
   "metadata": {},
   "source": [
    "# Managed Data Processing with SageMaker Processing in R"
   ]
  },
  {
   "cell_type": "markdown",
   "id": "77951ae1",
   "metadata": {},
   "source": [
    "<img align=\"left\" width=\"130\" src=\"https://raw.githubusercontent.com/PacktPublishing/Amazon-SageMaker-Cookbook/master/Extra/cover-small-padded.png\"/>\n",
    "\n",
    "This notebook contains the code to help readers work through one of the recipes of the book [Machine Learning with Amazon SageMaker Cookbook: 80 proven recipes for data scientists and developers to perform ML experiments and deployments](https://www.amazon.com/Machine-Learning-Amazon-SageMaker-Cookbook/dp/1800567030)"
   ]
  },
  {
   "cell_type": "markdown",
   "id": "4b802aa0",
   "metadata": {},
   "source": [
    "### How to do it..."
   ]
  },
  {
   "cell_type": "code",
   "execution_count": null,
   "id": "79547ee0",
   "metadata": {},
   "outputs": [],
   "source": [
    "library('reticulate')\n",
    "sagemaker <- import('sagemaker')\n",
    "boto3 <- import('boto3')\n",
    "role <- sagemaker$get_execution_role()"
   ]
  },
  {
   "cell_type": "code",
   "execution_count": null,
   "id": "32a3057d",
   "metadata": {},
   "outputs": [],
   "source": [
    "processing_repository_uri <- \"581320662326.dkr.ecr.us-east-1.amazonaws.com/sagemaker-processing-r:2\"\n",
    "\n",
    "session <- boto3$session$Session()\n",
    "sagemaker_session <- sagemaker$Session(\n",
    "    boto_session=session)"
   ]
  },
  {
   "cell_type": "code",
   "execution_count": null,
   "id": "768b5199",
   "metadata": {},
   "outputs": [],
   "source": [
    "ScriptProcessor <- sagemaker$processing$ScriptProcessor\n",
    "\n",
    "script_processor <- ScriptProcessor(\n",
    "    command=list('Rscript'),\n",
    "    image_uri=processing_repository_uri,\n",
    "    role=role,\n",
    "    sagemaker_session=sagemaker_session,\n",
    "    instance_count=1L,\n",
    "    instance_type='ml.m5.xlarge')"
   ]
  },
  {
   "cell_type": "code",
   "execution_count": null,
   "id": "84ba21fe",
   "metadata": {},
   "outputs": [],
   "source": [
    "ProcessingInput <- sagemaker$processing$ProcessingInput\n",
    "ProcessingOutput <- sagemaker$processing$ProcessingOutput"
   ]
  },
  {
   "cell_type": "code",
   "execution_count": null,
   "id": "fab192aa",
   "metadata": {},
   "outputs": [],
   "source": [
    "source <- 'tmp/dataset.processing.csv'\n",
    "pinput1 <- ProcessingInput(source=source, destination='/opt/ml/processing/input')\n",
    "poutput1 <- ProcessingOutput(source='/opt/ml/processing/output')"
   ]
  },
  {
   "cell_type": "code",
   "execution_count": null,
   "id": "97224378",
   "metadata": {},
   "outputs": [],
   "source": [
    "script_processor$run(code='processing.r',\n",
    "                     inputs=list(pinput1),\n",
    "                     outputs=list(poutput1),\n",
    "                     arguments=list('--sample-argument','3'),\n",
    "                     wait=TRUE)"
   ]
  },
  {
   "cell_type": "code",
   "execution_count": null,
   "id": "13829d0d",
   "metadata": {},
   "outputs": [],
   "source": [
    "cmd <- function(bash_command) {\n",
    "    print(bash_command)\n",
    "    output <- system(bash_command, intern=TRUE)\n",
    "    last_line = \"\"\n",
    "    \n",
    "    for (line in output) { \n",
    "        cat(line)\n",
    "        cat(\"\\n\")\n",
    "        last_line = line \n",
    "    }\n",
    "    \n",
    "    return(last_line) \n",
    "}"
   ]
  },
  {
   "cell_type": "code",
   "execution_count": null,
   "id": "49340a6b",
   "metadata": {
    "scrolled": true
   },
   "outputs": [],
   "source": [
    "cmd('pip install awslogs')"
   ]
  },
  {
   "cell_type": "code",
   "execution_count": null,
   "id": "6e8172a4",
   "metadata": {},
   "outputs": [],
   "source": [
    "# Make sure SageMaker Execution Role has CloudWatchLogsReadOnlyAccess\n",
    "cmd(\"awslogs get /aws/sagemaker/ProcessingJobs -s1h --aws-region=us-east-1\")"
   ]
  },
  {
   "cell_type": "code",
   "execution_count": null,
   "id": "dc7597a9",
   "metadata": {},
   "outputs": [],
   "source": [
    "latest_job <- script_processor$latest_job\n",
    "destination <- latest_job$outputs[[1]]$destination\n",
    "destination"
   ]
  },
  {
   "cell_type": "code",
   "execution_count": null,
   "id": "c59d6957",
   "metadata": {},
   "outputs": [],
   "source": [
    "csv_path <- paste0(destination, \"/output.csv\")\n",
    "command <- paste(\"aws s3 cp\", csv_path, \"tmp/output.processing.r.csv\")"
   ]
  },
  {
   "cell_type": "code",
   "execution_count": null,
   "id": "3557db37",
   "metadata": {},
   "outputs": [],
   "source": [
    "cmd(command)"
   ]
  },
  {
   "cell_type": "code",
   "execution_count": null,
   "id": "a386f5e4",
   "metadata": {},
   "outputs": [],
   "source": [
    "read.csv(\"tmp/output.processing.r.csv\", header=FALSE)[[1]]"
   ]
  }
 ],
 "metadata": {
  "kernelspec": {
   "display_name": "R",
   "language": "R",
   "name": "ir"
  },
  "language_info": {
   "codemirror_mode": "r",
   "file_extension": ".r",
   "mimetype": "text/x-r-source",
   "name": "R",
   "pygments_lexer": "r",
   "version": "4.1.0"
  }
 },
 "nbformat": 4,
 "nbformat_minor": 5
}
