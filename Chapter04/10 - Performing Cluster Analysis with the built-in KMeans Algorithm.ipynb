{
 "cells": [
  {
   "cell_type": "markdown",
   "id": "84bcc0d1",
   "metadata": {},
   "source": [
    "# Performing Cluster Analysis with the built-in KMeans Algorithm"
   ]
  },
  {
   "cell_type": "markdown",
   "id": "b02aeb9e",
   "metadata": {},
   "source": [
    "<img align=\"left\" width=\"130\" src=\"https://raw.githubusercontent.com/PacktPublishing/Amazon-SageMaker-Cookbook/master/Extra/cover-small-padded.png\"/>\n",
    "\n",
    "This notebook contains the code to help readers work through one of the recipes of the book [Machine Learning with Amazon SageMaker Cookbook: 80 proven recipes for data scientists and developers to perform ML experiments and deployments](https://www.amazon.com/Machine-Learning-Amazon-SageMaker-Cookbook/dp/1800567030)"
   ]
  },
  {
   "cell_type": "markdown",
   "id": "75a02932",
   "metadata": {},
   "source": [
    "### How to do it..."
   ]
  },
  {
   "cell_type": "code",
   "execution_count": null,
   "id": "c79d70e0",
   "metadata": {},
   "outputs": [],
   "source": [
    "%store -r unlabeled_normalized_df"
   ]
  },
  {
   "cell_type": "code",
   "execution_count": null,
   "id": "b363cdc1",
   "metadata": {},
   "outputs": [],
   "source": [
    "unlabeled_normalized_df.head()"
   ]
  },
  {
   "cell_type": "code",
   "execution_count": null,
   "id": "26ceaa10",
   "metadata": {},
   "outputs": [],
   "source": [
    "import sagemaker\n",
    "from sagemaker import get_execution_role\n",
    "\n",
    "session = sagemaker.Session()\n",
    "role = get_execution_role()\n",
    "bucket = session.default_bucket()"
   ]
  },
  {
   "cell_type": "code",
   "execution_count": null,
   "id": "adc8d925",
   "metadata": {},
   "outputs": [],
   "source": [
    "from sagemaker import KMeans\n",
    "\n",
    "estimator = KMeans(\n",
    "    role=role,\n",
    "    instance_count=1,\n",
    "    instance_type='ml.c4.xlarge',\n",
    "    k=2)"
   ]
  },
  {
   "cell_type": "code",
   "execution_count": null,
   "id": "66167cbf",
   "metadata": {},
   "outputs": [],
   "source": [
    "data_np = unlabeled_normalized_df.values.astype('float32')\n",
    "record_set = kmeans.record_set(data_np)"
   ]
  },
  {
   "cell_type": "code",
   "execution_count": null,
   "id": "de7aeee1",
   "metadata": {},
   "outputs": [],
   "source": [
    "estimator.fit(record_set)"
   ]
  },
  {
   "cell_type": "code",
   "execution_count": null,
   "id": "309cde48",
   "metadata": {},
   "outputs": [],
   "source": [
    "predictor = estimator.deploy(\n",
    "    initial_instance_count=1,\n",
    "    instance_type='ml.t2.medium')"
   ]
  },
  {
   "cell_type": "code",
   "execution_count": null,
   "id": "0e3e6956",
   "metadata": {},
   "outputs": [],
   "source": [
    "results = predictor.predict(data_np)\n",
    "results"
   ]
  },
  {
   "cell_type": "code",
   "execution_count": null,
   "id": "4f2ed03d",
   "metadata": {},
   "outputs": [],
   "source": [
    "def extract_values(item):\n",
    "    closest_cluster = item.label['closest_cluster']\n",
    "    cc_value = int(closest_cluster.float32_tensor.values[0])\n",
    "    distance_to_cluster = item.label['distance_to_cluster']\n",
    "    dtc_value = distance_to_cluster.float32_tensor.values[0]\n",
    "    \n",
    "    return {\n",
    "        \"closest_cluster\": cc_value,\n",
    "        \"distance_to_cluster\": dtc_value\n",
    "    }"
   ]
  },
  {
   "cell_type": "code",
   "execution_count": null,
   "id": "be82a899",
   "metadata": {},
   "outputs": [],
   "source": [
    "extract_values(results[0])"
   ]
  },
  {
   "cell_type": "code",
   "execution_count": null,
   "id": "7a91697f",
   "metadata": {},
   "outputs": [],
   "source": [
    "closest_cluster_list = []\n",
    "distance_to_cluster_list = []\n",
    "\n",
    "for result in results:\n",
    "    cluster_values = extract_values(result)\n",
    "    closest_cluster_list.append(cluster_values[\"closest_cluster\"])\n",
    "    distance_to_cluster_list.append(cluster_values[\"distance_to_cluster\"])"
   ]
  },
  {
   "cell_type": "code",
   "execution_count": null,
   "id": "5a1c3b0d",
   "metadata": {},
   "outputs": [],
   "source": [
    "closest_cluster_list[0:6]"
   ]
  },
  {
   "cell_type": "code",
   "execution_count": null,
   "id": "23684691",
   "metadata": {},
   "outputs": [],
   "source": [
    "df = unlabeled_normalized_df\n",
    "df = df.assign(closest_cluster=closest_cluster_list)\n",
    "df = df.assign(distance_to_cluster=distance_to_cluster_list)\n",
    "df.head()"
   ]
  },
  {
   "cell_type": "code",
   "execution_count": null,
   "id": "c09e35a2",
   "metadata": {},
   "outputs": [],
   "source": [
    "import matplotlib.pyplot as plt\n",
    "\n",
    "groups = df.groupby(\"closest_cluster\")\n",
    "\n",
    "for name, group in groups:\n",
    "    plt.plot(group[\"x\"], group[\"y\"], marker=\"o\", linestyle=\"\", label=name)\n",
    "    \n",
    "plt.legend()"
   ]
  }
 ],
 "metadata": {
  "kernelspec": {
   "display_name": "conda_python3",
   "language": "python",
   "name": "conda_python3"
  },
  "language_info": {
   "codemirror_mode": {
    "name": "ipython",
    "version": 3
   },
   "file_extension": ".py",
   "mimetype": "text/x-python",
   "name": "python",
   "nbconvert_exporter": "python",
   "pygments_lexer": "ipython3",
   "version": "3.6.13"
  }
 },
 "nbformat": 4,
 "nbformat_minor": 5
}
