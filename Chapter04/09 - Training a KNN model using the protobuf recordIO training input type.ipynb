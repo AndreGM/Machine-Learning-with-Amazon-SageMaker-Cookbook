{
 "cells": [
  {
   "cell_type": "markdown",
   "id": "7e0d15ea",
   "metadata": {},
   "source": [
    "# Performing training and deployment of a KNN model using the CSV and RecordIO Protobuf training input formats"
   ]
  },
  {
   "cell_type": "markdown",
   "id": "5bce1bea",
   "metadata": {},
   "source": [
    "<img align=\"left\" width=\"130\" src=\"https://raw.githubusercontent.com/PacktPublishing/Amazon-SageMaker-Cookbook/master/Extra/cover-small-padded.png\"/>\n",
    "\n",
    "This notebook contains the code to help readers work through one of the recipes of the book [Machine Learning with Amazon SageMaker Cookbook: 80 proven recipes for data scientists and developers to perform ML experiments and deployments](https://www.amazon.com/Machine-Learning-Amazon-SageMaker-Cookbook/dp/1800567030)"
   ]
  },
  {
   "cell_type": "markdown",
   "id": "2637962c",
   "metadata": {},
   "source": [
    "### How to do it..."
   ]
  },
  {
   "cell_type": "code",
   "execution_count": null,
   "id": "2055dc54",
   "metadata": {},
   "outputs": [],
   "source": [
    "%store -r X_train\n",
    "%store -r y_train\n",
    "%store -r X_test\n",
    "%store -r y_test"
   ]
  },
  {
   "cell_type": "code",
   "execution_count": null,
   "id": "2413ca18",
   "metadata": {},
   "outputs": [],
   "source": [
    "import sagemaker\n",
    "from sagemaker import get_execution_role\n",
    "\n",
    "session = sagemaker.Session()\n",
    "role = get_execution_role()\n",
    "session_bucket = session.default_bucket()"
   ]
  },
  {
   "cell_type": "code",
   "execution_count": null,
   "id": "850bd88e",
   "metadata": {},
   "outputs": [],
   "source": [
    "from sagemaker import KNN\n",
    "\n",
    "estimator1 = KNN(\n",
    "    role=role,\n",
    "    instance_count=1,\n",
    "    instance_type='ml.c4.xlarge',\n",
    "    sample_size=50,\n",
    "    k=3,\n",
    "    feature_dim=5,\n",
    "    predictor_type=\"classifier\",\n",
    "    sagemaker_session=session)"
   ]
  },
  {
   "cell_type": "code",
   "execution_count": null,
   "id": "437956b8",
   "metadata": {},
   "outputs": [],
   "source": [
    "record_set = estimator1.record_set(train=X_train, labels=y_train)"
   ]
  },
  {
   "cell_type": "code",
   "execution_count": null,
   "id": "a0986e7c",
   "metadata": {},
   "outputs": [],
   "source": [
    "estimator1.fit(record_set)"
   ]
  },
  {
   "cell_type": "code",
   "execution_count": null,
   "id": "448e666f",
   "metadata": {},
   "outputs": [],
   "source": [
    "predictor1 = estimator1.deploy(\n",
    "    initial_instance_count=1,\n",
    "    instance_type='ml.t2.medium')"
   ]
  },
  {
   "cell_type": "code",
   "execution_count": null,
   "id": "1e838942",
   "metadata": {},
   "outputs": [],
   "source": [
    "X_test"
   ]
  },
  {
   "cell_type": "code",
   "execution_count": null,
   "id": "dab3fff8",
   "metadata": {},
   "outputs": [],
   "source": [
    "results1 = predictor1.predict(X_test)\n",
    "results1[0:3]"
   ]
  },
  {
   "cell_type": "code",
   "execution_count": null,
   "id": "fe935765",
   "metadata": {},
   "outputs": [],
   "source": [
    "s3_bucket = \"<insert S3 bucket name here>\"\n",
    "prefix = \"chapter04/knn\""
   ]
  },
  {
   "cell_type": "code",
   "execution_count": null,
   "id": "de606df8",
   "metadata": {},
   "outputs": [],
   "source": [
    "!aws s3 cp tmp/train.io s3://{s3_bucket}/{prefix}/input/train.io"
   ]
  },
  {
   "cell_type": "code",
   "execution_count": null,
   "id": "d7217422",
   "metadata": {},
   "outputs": [],
   "source": [
    "from sagemaker.inputs import TrainingInput\n",
    "\n",
    "train_path = f\"s3://{s3_bucket}/{prefix}/input/train.io\"\n",
    "train = TrainingInput(train_path, \n",
    "                      content_type=\"application/x-recordio-protobuf\")"
   ]
  },
  {
   "cell_type": "code",
   "execution_count": null,
   "id": "9a78ef79",
   "metadata": {},
   "outputs": [],
   "source": [
    "from sagemaker.estimator import Estimator\n",
    "\n",
    "estimator2 = Estimator(\n",
    "    image_uri=estimator1.training_image_uri(),\n",
    "    role=role,\n",
    "    instance_count=1,\n",
    "    instance_type='ml.c5.xlarge',\n",
    "    sagemaker_session=session)"
   ]
  },
  {
   "cell_type": "code",
   "execution_count": null,
   "id": "0a9152dc",
   "metadata": {},
   "outputs": [],
   "source": [
    "estimator2.set_hyperparameters(\n",
    "    sample_size=50,\n",
    "    k=3,\n",
    "    predictor_type=\"classifier\")"
   ]
  },
  {
   "cell_type": "code",
   "execution_count": null,
   "id": "0d09b6c2",
   "metadata": {},
   "outputs": [],
   "source": [
    "estimator2.fit({\"train\": train})"
   ]
  },
  {
   "cell_type": "code",
   "execution_count": null,
   "id": "d0b7923f",
   "metadata": {},
   "outputs": [],
   "source": [
    "predictor2 = estimator2.deploy(\n",
    "    initial_instance_count=1,\n",
    "    instance_type='ml.t2.medium')"
   ]
  },
  {
   "cell_type": "code",
   "execution_count": null,
   "id": "84ae3168",
   "metadata": {},
   "outputs": [],
   "source": [
    "import sagemaker\n",
    "from sagemaker.serializers import CSVSerializer\n",
    "from sagemaker.deserializers import JSONDeserializer\n",
    "\n",
    "predictor2.serializer = CSVSerializer()\n",
    "predictor2.deserializer = JSONDeserializer()"
   ]
  },
  {
   "cell_type": "code",
   "execution_count": null,
   "id": "8a48c319",
   "metadata": {},
   "outputs": [],
   "source": [
    "results2 = predictor2.predict(X_test)\n",
    "results2[\"predictions\"][0:3]"
   ]
  },
  {
   "cell_type": "code",
   "execution_count": null,
   "id": "2b103f13",
   "metadata": {},
   "outputs": [],
   "source": [
    "predictor1.delete_endpoint()"
   ]
  },
  {
   "cell_type": "code",
   "execution_count": null,
   "id": "392292d3",
   "metadata": {},
   "outputs": [],
   "source": [
    "predictor2.delete_endpoint()"
   ]
  }
 ],
 "metadata": {
  "kernelspec": {
   "display_name": "conda_python3",
   "language": "python",
   "name": "conda_python3"
  },
  "language_info": {
   "codemirror_mode": {
    "name": "ipython",
    "version": 3
   },
   "file_extension": ".py",
   "mimetype": "text/x-python",
   "name": "python",
   "nbconvert_exporter": "python",
   "pygments_lexer": "ipython3",
   "version": "3.6.13"
  }
 },
 "nbformat": 4,
 "nbformat_minor": 5
}
