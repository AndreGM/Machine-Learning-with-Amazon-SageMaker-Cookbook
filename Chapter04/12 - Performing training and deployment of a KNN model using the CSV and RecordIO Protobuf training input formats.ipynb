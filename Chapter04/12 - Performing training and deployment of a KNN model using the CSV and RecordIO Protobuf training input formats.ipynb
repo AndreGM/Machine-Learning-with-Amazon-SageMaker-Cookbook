{
 "cells": [
  {
   "cell_type": "markdown",
   "id": "c5cf5ee9",
   "metadata": {},
   "source": [
    "# Performing training and deployment of a KNN model using the CSV and RecordIO Protobuf training input formats"
   ]
  },
  {
   "cell_type": "markdown",
   "id": "943df7ef",
   "metadata": {},
   "source": [
    "<img align=\"left\" width=\"130\" src=\"https://raw.githubusercontent.com/PacktPublishing/Amazon-SageMaker-Cookbook/master/Extra/cover-small-padded.png\"/>\n",
    "\n",
    "This notebook contains the code to help readers work through one of the recipes of the book [Machine Learning with Amazon SageMaker Cookbook: 80 proven recipes for data scientists and developers to perform ML experiments and deployments](https://www.amazon.com/Machine-Learning-Amazon-SageMaker-Cookbook/dp/1800567030)"
   ]
  },
  {
   "cell_type": "markdown",
   "id": "90a6559e",
   "metadata": {},
   "source": [
    "### How to do it..."
   ]
  },
  {
   "cell_type": "code",
   "execution_count": null,
   "id": "e23509b1",
   "metadata": {},
   "outputs": [],
   "source": [
    "%store -r X_train\n",
    "%store -r y_train\n",
    "%store -r X_test\n",
    "%store -r y_test"
   ]
  },
  {
   "cell_type": "code",
   "execution_count": null,
   "id": "5910f3f4",
   "metadata": {},
   "outputs": [],
   "source": [
    "import sagemaker\n",
    "from sagemaker import get_execution_role\n",
    "\n",
    "session = sagemaker.Session()\n",
    "role = get_execution_role()\n",
    "session_bucket = session.default_bucket()"
   ]
  },
  {
   "cell_type": "code",
   "execution_count": null,
   "id": "1e61a05b",
   "metadata": {},
   "outputs": [],
   "source": [
    "from sagemaker import KNN\n",
    "\n",
    "estimator1 = KNN(\n",
    "    role=role,\n",
    "    instance_count=1,\n",
    "    instance_type='ml.c4.xlarge',\n",
    "    sample_size=50,\n",
    "    k=3,\n",
    "    feature_dim=5,\n",
    "    predictor_type=\"classifier\",\n",
    "    sagemaker_session=session)"
   ]
  },
  {
   "cell_type": "code",
   "execution_count": null,
   "id": "21d8c391",
   "metadata": {},
   "outputs": [],
   "source": [
    "record_set = estimator1.record_set(train=X_train, labels=y_train)"
   ]
  },
  {
   "cell_type": "code",
   "execution_count": null,
   "id": "7482d6ec",
   "metadata": {},
   "outputs": [],
   "source": [
    "estimator1.fit(record_set)"
   ]
  },
  {
   "cell_type": "code",
   "execution_count": null,
   "id": "1b6f4449",
   "metadata": {},
   "outputs": [],
   "source": [
    "predictor1 = estimator1.deploy(\n",
    "    initial_instance_count=1,\n",
    "    instance_type='ml.t2.medium')"
   ]
  },
  {
   "cell_type": "code",
   "execution_count": null,
   "id": "95fd1490",
   "metadata": {},
   "outputs": [],
   "source": [
    "X_test"
   ]
  },
  {
   "cell_type": "code",
   "execution_count": null,
   "id": "0411e21c",
   "metadata": {},
   "outputs": [],
   "source": [
    "results1 = predictor1.predict(X_test)\n",
    "results1[0:3]"
   ]
  },
  {
   "cell_type": "code",
   "execution_count": null,
   "id": "a56cc57e",
   "metadata": {},
   "outputs": [],
   "source": [
    "s3_bucket = \"sagemaker-cookbook-bucket\"\n",
    "prefix = \"chapter04/knn\""
   ]
  },
  {
   "cell_type": "code",
   "execution_count": null,
   "id": "6afa62c8",
   "metadata": {},
   "outputs": [],
   "source": [
    "!aws s3 cp tmp/train.io s3://{s3_bucket}/{prefix}/input/train.io"
   ]
  },
  {
   "cell_type": "code",
   "execution_count": null,
   "id": "dc9d5115",
   "metadata": {},
   "outputs": [],
   "source": [
    "from sagemaker.inputs import TrainingInput\n",
    "\n",
    "train_path = f\"s3://{s3_bucket}/{prefix}/input/train.io\"\n",
    "train = TrainingInput(train_path, \n",
    "                      content_type=\"application/x-recordio-protobuf\")"
   ]
  },
  {
   "cell_type": "code",
   "execution_count": null,
   "id": "ec2aa13f",
   "metadata": {},
   "outputs": [],
   "source": [
    "from sagemaker.estimator import Estimator\n",
    "\n",
    "estimator2 = Estimator(\n",
    "    image_uri=estimator1.training_image_uri(),\n",
    "    role=role,\n",
    "    instance_count=1,\n",
    "    instance_type='ml.c5.xlarge',\n",
    "    sagemaker_session=session)"
   ]
  },
  {
   "cell_type": "code",
   "execution_count": null,
   "id": "f8939596",
   "metadata": {},
   "outputs": [],
   "source": [
    "estimator2.set_hyperparameters(\n",
    "    sample_size=50,\n",
    "    k=3,\n",
    "    predictor_type=\"classifier\")"
   ]
  },
  {
   "cell_type": "code",
   "execution_count": null,
   "id": "b2b683bc",
   "metadata": {},
   "outputs": [],
   "source": [
    "estimator2.fit({\"train\": train})"
   ]
  },
  {
   "cell_type": "code",
   "execution_count": null,
   "id": "b7c0749c",
   "metadata": {},
   "outputs": [],
   "source": [
    "predictor2 = estimator2.deploy(\n",
    "    initial_instance_count=1,\n",
    "    instance_type='ml.t2.medium')"
   ]
  },
  {
   "cell_type": "code",
   "execution_count": null,
   "id": "c0315c04",
   "metadata": {},
   "outputs": [],
   "source": [
    "import sagemaker\n",
    "from sagemaker.serializers import CSVSerializer\n",
    "from sagemaker.deserializers import JSONDeserializer\n",
    "\n",
    "predictor2.serializer = CSVSerializer()\n",
    "predictor2.deserializer = JSONDeserializer()"
   ]
  },
  {
   "cell_type": "code",
   "execution_count": null,
   "id": "b9df1eb1",
   "metadata": {},
   "outputs": [],
   "source": [
    "results2 = predictor2.predict(X_test)\n",
    "results2[\"predictions\"][0:3]"
   ]
  },
  {
   "cell_type": "code",
   "execution_count": null,
   "id": "57435710",
   "metadata": {},
   "outputs": [],
   "source": [
    "predictor1.delete_endpoint()"
   ]
  },
  {
   "cell_type": "code",
   "execution_count": null,
   "id": "18c62ece",
   "metadata": {},
   "outputs": [],
   "source": [
    "predictor2.delete_endpoint()"
   ]
  }
 ],
 "metadata": {
  "kernelspec": {
   "display_name": "conda_python3",
   "language": "python",
   "name": "conda_python3"
  },
  "language_info": {
   "codemirror_mode": {
    "name": "ipython",
    "version": 3
   },
   "file_extension": ".py",
   "mimetype": "text/x-python",
   "name": "python",
   "nbconvert_exporter": "python",
   "pygments_lexer": "ipython3",
   "version": "3.6.13"
  }
 },
 "nbformat": 4,
 "nbformat_minor": 5
}
