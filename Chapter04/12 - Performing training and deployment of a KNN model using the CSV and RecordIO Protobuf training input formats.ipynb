{
 "cells": [
  {
   "cell_type": "code",
   "execution_count": 6,
   "id": "overhead-workstation",
   "metadata": {},
   "outputs": [],
   "source": [
    "%store -r X_train\n",
    "%store -r y_train\n",
    "%store -r X_test\n",
    "%store -r y_test"
   ]
  },
  {
   "cell_type": "code",
   "execution_count": 1,
   "id": "inner-gather",
   "metadata": {},
   "outputs": [],
   "source": [
    "import sagemaker\n",
    "from sagemaker import get_execution_role\n",
    "\n",
    "session = sagemaker.Session()\n",
    "role = get_execution_role()\n",
    "session_bucket = session.default_bucket()"
   ]
  },
  {
   "cell_type": "code",
   "execution_count": 2,
   "id": "minor-oliver",
   "metadata": {},
   "outputs": [],
   "source": [
    "from sagemaker import KNN\n",
    "\n",
    "estimator1 = KNN(\n",
    "    role=role,\n",
    "    instance_count=1,\n",
    "    instance_type='ml.c4.xlarge',\n",
    "    sample_size=50,\n",
    "    k=3,\n",
    "    feature_dim=5,\n",
    "    predictor_type=\"classifier\",\n",
    "    sagemaker_session=session)"
   ]
  },
  {
   "cell_type": "code",
   "execution_count": 4,
   "id": "blank-cemetery",
   "metadata": {},
   "outputs": [],
   "source": [
    "record_set = estimator1.record_set(train=X_train, labels=y_train)"
   ]
  },
  {
   "cell_type": "code",
   "execution_count": 5,
   "id": "chinese-immigration",
   "metadata": {},
   "outputs": [
    {
     "name": "stderr",
     "output_type": "stream",
     "text": [
      "Defaulting to the only supported framework/algorithm version: 1. Ignoring framework/algorithm version: 1.\n",
      "Defaulting to the only supported framework/algorithm version: 1. Ignoring framework/algorithm version: 1.\n"
     ]
    },
    {
     "name": "stdout",
     "output_type": "stream",
     "text": [
      "2021-04-18 09:15:52 Starting - Starting the training job...\n",
      "2021-04-18 09:16:15 Starting - Launching requested ML instancesProfilerReport-1618737351: InProgress\n",
      "......\n",
      "2021-04-18 09:17:22 Starting - Preparing the instances for training.........\n",
      "2021-04-18 09:18:35 Downloading - Downloading input data\n",
      "2021-04-18 09:18:35 Training - Downloading the training image.....\u001b[34mDocker entrypoint called with argument(s): train\u001b[0m\n",
      "\u001b[34mRunning default environment configuration script\u001b[0m\n",
      "\u001b[34m[04/18/2021 09:19:33 INFO 140449387971776] Reading default configuration from /opt/amazon/lib/python2.7/site-packages/algorithm/resources/default-conf.json: {u'index_metric': u'L2', u'_tuning_objective_metric': u'', u'_num_gpus': u'auto', u'_log_level': u'info', u'feature_dim': u'auto', u'faiss_index_ivf_nlists': u'auto', u'epochs': u'1', u'index_type': u'faiss.Flat', u'_faiss_index_nprobe': u'5', u'_kvstore': u'dist_async', u'_num_kv_servers': u'1', u'mini_batch_size': u'5000'}\u001b[0m\n",
      "\u001b[34m[04/18/2021 09:19:33 INFO 140449387971776] Merging with provided configuration from /opt/ml/input/config/hyperparameters.json: {u'sample_size': u'50', u'feature_dim': u'5', u'predictor_type': u'classifier', u'k': u'3'}\u001b[0m\n",
      "\u001b[34m[04/18/2021 09:19:33 INFO 140449387971776] Final configuration: {u'index_metric': u'L2', u'predictor_type': u'classifier', u'_tuning_objective_metric': u'', u'_num_gpus': u'auto', u'_log_level': u'info', u'feature_dim': u'5', u'faiss_index_ivf_nlists': u'auto', u'sample_size': u'50', u'epochs': u'1', u'index_type': u'faiss.Flat', u'_faiss_index_nprobe': u'5', u'_kvstore': u'dist_async', u'_num_kv_servers': u'1', u'mini_batch_size': u'5000', u'k': u'3'}\u001b[0m\n",
      "\u001b[34m[04/18/2021 09:19:33 WARNING 140449387971776] Loggers have already been setup.\u001b[0m\n",
      "\u001b[34m[04/18/2021 09:19:33 INFO 140449387971776] Launching parameter server for role scheduler\u001b[0m\n",
      "\u001b[34m[04/18/2021 09:19:33 INFO 140449387971776] {'ECS_CONTAINER_METADATA_URI': 'http://169.254.170.2/v3/18cea732-d092-4570-96f2-011f29c8b833', 'ECS_CONTAINER_METADATA_URI_V4': 'http://169.254.170.2/v4/18cea732-d092-4570-96f2-011f29c8b833', 'PROTOCOL_BUFFERS_PYTHON_IMPLEMENTATION_VERSION': '2', 'PATH': '/opt/amazon/bin:/usr/local/nvidia/bin:/usr/local/sbin:/usr/local/bin:/usr/sbin:/usr/bin:/sbin:/bin:/opt/amazon/bin:/opt/amazon/bin', 'SAGEMAKER_HTTP_PORT': '8080', 'HOME': '/root', 'PYTHONUNBUFFERED': 'TRUE', 'CANONICAL_ENVROOT': '/opt/amazon', 'LD_LIBRARY_PATH': '/opt/amazon/lib/python2.7/site-packages/cv2/../../../../lib:/usr/local/nvidia/lib64:/opt/amazon/lib', 'LANG': 'en_US.utf8', 'DMLC_INTERFACE': 'eth0', 'SHLVL': '1', 'AWS_REGION': 'us-east-1', 'SAGEMAKER_METRICS_DIRECTORY': '/opt/ml/output/metrics/sagemaker', 'NVIDIA_VISIBLE_DEVICES': 'void', 'TRAINING_JOB_NAME': 'knn-2021-04-18-09-15-51-813', 'PROTOCOL_BUFFERS_PYTHON_IMPLEMENTATION': 'cpp', 'ENVROOT': '/opt/amazon', 'SAGEMAKER_DATA_PATH': '/opt/ml', 'NVIDIA_DRIVER_CAPABILITIES': 'compute,utility', 'NVIDIA_REQUIRE_CUDA': 'cuda>=9.0', 'OMP_NUM_THREADS': '2', 'HOSTNAME': 'ip-10-2-175-39.ec2.internal', 'AWS_CONTAINER_CREDENTIALS_RELATIVE_URI': '/v2/credentials/c9766acb-2cef-4c22-890d-2a07da9cc06a', 'PWD': '/', 'TRAINING_JOB_ARN': 'arn:aws:sagemaker:us-east-1:581320662326:training-job/knn-2021-04-18-09-15-51-813', 'AWS_EXECUTION_ENV': 'AWS_ECS_EC2'}\u001b[0m\n",
      "\u001b[34m[04/18/2021 09:19:33 INFO 140449387971776] envs={'ECS_CONTAINER_METADATA_URI': 'http://169.254.170.2/v3/18cea732-d092-4570-96f2-011f29c8b833', 'ECS_CONTAINER_METADATA_URI_V4': 'http://169.254.170.2/v4/18cea732-d092-4570-96f2-011f29c8b833', 'PROTOCOL_BUFFERS_PYTHON_IMPLEMENTATION_VERSION': '2', 'DMLC_NUM_WORKER': '1', 'DMLC_PS_ROOT_PORT': '9000', 'PATH': '/opt/amazon/bin:/usr/local/nvidia/bin:/usr/local/sbin:/usr/local/bin:/usr/sbin:/usr/bin:/sbin:/bin:/opt/amazon/bin:/opt/amazon/bin', 'SAGEMAKER_HTTP_PORT': '8080', 'HOME': '/root', 'PYTHONUNBUFFERED': 'TRUE', 'CANONICAL_ENVROOT': '/opt/amazon', 'LD_LIBRARY_PATH': '/opt/amazon/lib/python2.7/site-packages/cv2/../../../../lib:/usr/local/nvidia/lib64:/opt/amazon/lib', 'LANG': 'en_US.utf8', 'DMLC_INTERFACE': 'eth0', 'SHLVL': '1', 'DMLC_PS_ROOT_URI': '10.2.175.39', 'AWS_REGION': 'us-east-1', 'SAGEMAKER_METRICS_DIRECTORY': '/opt/ml/output/metrics/sagemaker', 'NVIDIA_VISIBLE_DEVICES': 'void', 'TRAINING_JOB_NAME': 'knn-2021-04-18-09-15-51-813', 'PROTOCOL_BUFFERS_PYTHON_IMPLEMENTATION': 'cpp', 'ENVROOT': '/opt/amazon', 'SAGEMAKER_DATA_PATH': '/opt/ml', 'NVIDIA_DRIVER_CAPABILITIES': 'compute,utility', 'NVIDIA_REQUIRE_CUDA': 'cuda>=9.0', 'OMP_NUM_THREADS': '2', 'HOSTNAME': 'ip-10-2-175-39.ec2.internal', 'AWS_CONTAINER_CREDENTIALS_RELATIVE_URI': '/v2/credentials/c9766acb-2cef-4c22-890d-2a07da9cc06a', 'DMLC_ROLE': 'scheduler', 'PWD': '/', 'DMLC_NUM_SERVER': '1', 'TRAINING_JOB_ARN': 'arn:aws:sagemaker:us-east-1:581320662326:training-job/knn-2021-04-18-09-15-51-813', 'AWS_EXECUTION_ENV': 'AWS_ECS_EC2'}\u001b[0m\n",
      "\u001b[34m[04/18/2021 09:19:33 INFO 140449387971776] Launching parameter server for role server\u001b[0m\n",
      "\u001b[34m[04/18/2021 09:19:33 INFO 140449387971776] {'ECS_CONTAINER_METADATA_URI': 'http://169.254.170.2/v3/18cea732-d092-4570-96f2-011f29c8b833', 'ECS_CONTAINER_METADATA_URI_V4': 'http://169.254.170.2/v4/18cea732-d092-4570-96f2-011f29c8b833', 'PROTOCOL_BUFFERS_PYTHON_IMPLEMENTATION_VERSION': '2', 'PATH': '/opt/amazon/bin:/usr/local/nvidia/bin:/usr/local/sbin:/usr/local/bin:/usr/sbin:/usr/bin:/sbin:/bin:/opt/amazon/bin:/opt/amazon/bin', 'SAGEMAKER_HTTP_PORT': '8080', 'HOME': '/root', 'PYTHONUNBUFFERED': 'TRUE', 'CANONICAL_ENVROOT': '/opt/amazon', 'LD_LIBRARY_PATH': '/opt/amazon/lib/python2.7/site-packages/cv2/../../../../lib:/usr/local/nvidia/lib64:/opt/amazon/lib', 'LANG': 'en_US.utf8', 'DMLC_INTERFACE': 'eth0', 'SHLVL': '1', 'AWS_REGION': 'us-east-1', 'SAGEMAKER_METRICS_DIRECTORY': '/opt/ml/output/metrics/sagemaker', 'NVIDIA_VISIBLE_DEVICES': 'void', 'TRAINING_JOB_NAME': 'knn-2021-04-18-09-15-51-813', 'PROTOCOL_BUFFERS_PYTHON_IMPLEMENTATION': 'cpp', 'ENVROOT': '/opt/amazon', 'SAGEMAKER_DATA_PATH': '/opt/ml', 'NVIDIA_DRIVER_CAPABILITIES': 'compute,utility', 'NVIDIA_REQUIRE_CUDA': 'cuda>=9.0', 'OMP_NUM_THREADS': '2', 'HOSTNAME': 'ip-10-2-175-39.ec2.internal', 'AWS_CONTAINER_CREDENTIALS_RELATIVE_URI': '/v2/credentials/c9766acb-2cef-4c22-890d-2a07da9cc06a', 'PWD': '/', 'TRAINING_JOB_ARN': 'arn:aws:sagemaker:us-east-1:581320662326:training-job/knn-2021-04-18-09-15-51-813', 'AWS_EXECUTION_ENV': 'AWS_ECS_EC2'}\u001b[0m\n",
      "\u001b[34m[04/18/2021 09:19:33 INFO 140449387971776] envs={'ECS_CONTAINER_METADATA_URI': 'http://169.254.170.2/v3/18cea732-d092-4570-96f2-011f29c8b833', 'ECS_CONTAINER_METADATA_URI_V4': 'http://169.254.170.2/v4/18cea732-d092-4570-96f2-011f29c8b833', 'PROTOCOL_BUFFERS_PYTHON_IMPLEMENTATION_VERSION': '2', 'DMLC_NUM_WORKER': '1', 'DMLC_PS_ROOT_PORT': '9000', 'PATH': '/opt/amazon/bin:/usr/local/nvidia/bin:/usr/local/sbin:/usr/local/bin:/usr/sbin:/usr/bin:/sbin:/bin:/opt/amazon/bin:/opt/amazon/bin', 'SAGEMAKER_HTTP_PORT': '8080', 'HOME': '/root', 'PYTHONUNBUFFERED': 'TRUE', 'CANONICAL_ENVROOT': '/opt/amazon', 'LD_LIBRARY_PATH': '/opt/amazon/lib/python2.7/site-packages/cv2/../../../../lib:/usr/local/nvidia/lib64:/opt/amazon/lib', 'LANG': 'en_US.utf8', 'DMLC_INTERFACE': 'eth0', 'SHLVL': '1', 'DMLC_PS_ROOT_URI': '10.2.175.39', 'AWS_REGION': 'us-east-1', 'SAGEMAKER_METRICS_DIRECTORY': '/opt/ml/output/metrics/sagemaker', 'NVIDIA_VISIBLE_DEVICES': 'void', 'TRAINING_JOB_NAME': 'knn-2021-04-18-09-15-51-813', 'PROTOCOL_BUFFERS_PYTHON_IMPLEMENTATION': 'cpp', 'ENVROOT': '/opt/amazon', 'SAGEMAKER_DATA_PATH': '/opt/ml', 'NVIDIA_DRIVER_CAPABILITIES': 'compute,utility', 'NVIDIA_REQUIRE_CUDA': 'cuda>=9.0', 'OMP_NUM_THREADS': '2', 'HOSTNAME': 'ip-10-2-175-39.ec2.internal', 'AWS_CONTAINER_CREDENTIALS_RELATIVE_URI': '/v2/credentials/c9766acb-2cef-4c22-890d-2a07da9cc06a', 'DMLC_ROLE': 'server', 'PWD': '/', 'DMLC_NUM_SERVER': '1', 'TRAINING_JOB_ARN': 'arn:aws:sagemaker:us-east-1:581320662326:training-job/knn-2021-04-18-09-15-51-813', 'AWS_EXECUTION_ENV': 'AWS_ECS_EC2'}\u001b[0m\n",
      "\u001b[34m[04/18/2021 09:19:33 INFO 140449387971776] Environment: {'ECS_CONTAINER_METADATA_URI': 'http://169.254.170.2/v3/18cea732-d092-4570-96f2-011f29c8b833', 'ECS_CONTAINER_METADATA_URI_V4': 'http://169.254.170.2/v4/18cea732-d092-4570-96f2-011f29c8b833', 'PROTOCOL_BUFFERS_PYTHON_IMPLEMENTATION_VERSION': '2', 'DMLC_PS_ROOT_PORT': '9000', 'DMLC_NUM_WORKER': '1', 'SAGEMAKER_HTTP_PORT': '8080', 'PATH': '/opt/amazon/bin:/usr/local/nvidia/bin:/usr/local/sbin:/usr/local/bin:/usr/sbin:/usr/bin:/sbin:/bin:/opt/amazon/bin:/opt/amazon/bin', 'PYTHONUNBUFFERED': 'TRUE', 'CANONICAL_ENVROOT': '/opt/amazon', 'LD_LIBRARY_PATH': '/opt/amazon/lib/python2.7/site-packages/cv2/../../../../lib:/usr/local/nvidia/lib64:/opt/amazon/lib', 'LANG': 'en_US.utf8', 'DMLC_INTERFACE': 'eth0', 'SHLVL': '1', 'DMLC_PS_ROOT_URI': '10.2.175.39', 'AWS_REGION': 'us-east-1', 'SAGEMAKER_METRICS_DIRECTORY': '/opt/ml/output/metrics/sagemaker', 'NVIDIA_VISIBLE_DEVICES': 'void', 'TRAINING_JOB_NAME': 'knn-2021-04-18-09-15-51-813', 'HOME': '/root', 'PROTOCOL_BUFFERS_PYTHON_IMPLEMENTATION': 'cpp', 'ENVROOT': '/opt/amazon', 'SAGEMAKER_DATA_PATH': '/opt/ml', 'NVIDIA_DRIVER_CAPABILITIES': 'compute,utility', 'NVIDIA_REQUIRE_CUDA': 'cuda>=9.0', 'OMP_NUM_THREADS': '2', 'HOSTNAME': 'ip-10-2-175-39.ec2.internal', 'AWS_CONTAINER_CREDENTIALS_RELATIVE_URI': '/v2/credentials/c9766acb-2cef-4c22-890d-2a07da9cc06a', 'DMLC_ROLE': 'worker', 'PWD': '/', 'DMLC_NUM_SERVER': '1', 'TRAINING_JOB_ARN': 'arn:aws:sagemaker:us-east-1:581320662326:training-job/knn-2021-04-18-09-15-51-813', 'AWS_EXECUTION_ENV': 'AWS_ECS_EC2'}\u001b[0m\n",
      "\u001b[34mProcess 43 is a shell:scheduler.\u001b[0m\n",
      "\u001b[34mProcess 52 is a shell:server.\u001b[0m\n",
      "\u001b[34mProcess 1 is a worker.\u001b[0m\n",
      "\u001b[34m[04/18/2021 09:19:33 INFO 140449387971776] Using default worker.\u001b[0m\n",
      "\u001b[34m[04/18/2021 09:19:33 INFO 140449387971776] Checkpoint loading and saving are disabled.\u001b[0m\n",
      "\u001b[34m[04/18/2021 09:19:33 INFO 140449387971776] nvidia-smi took: 0.025218963623 secs to identify 0 gpus\u001b[0m\n",
      "\u001b[34m[04/18/2021 09:19:33 INFO 140449387971776] Create Store: dist_async\u001b[0m\n",
      "\u001b[34m[04/18/2021 09:19:34 ERROR 140449387971776] nvidia-smi: failed to run (127): /bin/sh: nvidia-smi: command not found\u001b[0m\n",
      "\u001b[34m[04/18/2021 09:19:34 INFO 140449387971776] Using per-worker sample size = 50 (Available virtual memory = 6126374912 bytes, GPU free memory = 0 bytes, number of workers = 1). If an out-of-memory error occurs, choose a larger instance type, use dimension reduction, decrease sample_size, and/or decrease mini_batch_size.\u001b[0m\n",
      "\u001b[34m#metrics {\"Metrics\": {\"Max Batches Seen Between Resets\": {\"count\": 1, \"max\": 0, \"sum\": 0.0, \"min\": 0}, \"Number of Batches Since Last Reset\": {\"count\": 1, \"max\": 0, \"sum\": 0.0, \"min\": 0}, \"Number of Records Since Last Reset\": {\"count\": 1, \"max\": 0, \"sum\": 0.0, \"min\": 0}, \"Total Batches Seen\": {\"count\": 1, \"max\": 0, \"sum\": 0.0, \"min\": 0}, \"Total Records Seen\": {\"count\": 1, \"max\": 0, \"sum\": 0.0, \"min\": 0}, \"Max Records Seen Between Resets\": {\"count\": 1, \"max\": 0, \"sum\": 0.0, \"min\": 0}, \"Reset Count\": {\"count\": 1, \"max\": 0, \"sum\": 0.0, \"min\": 0}}, \"EndTime\": 1618737574.567673, \"Dimensions\": {\"Host\": \"algo-1\", \"Meta\": \"init_train_data_iter\", \"Operation\": \"training\", \"Algorithm\": \"AWS/KNN\"}, \"StartTime\": 1618737574.567629}\n",
      "\u001b[0m\n",
      "\u001b[34m[2021-04-18 09:19:34.567] [tensorio] [info] epoch_stats={\"data_pipeline\": \"/opt/ml/input/data/train\", \"epoch\": 0, \"duration\": 669, \"num_examples\": 1, \"num_bytes\": 2904}\u001b[0m\n",
      "\u001b[34m[2021-04-18 09:19:34.584] [tensorio] [info] epoch_stats={\"data_pipeline\": \"/opt/ml/input/data/train\", \"epoch\": 1, \"duration\": 16, \"num_examples\": 1, \"num_bytes\": 2904}\u001b[0m\n",
      "\u001b[34m[04/18/2021 09:19:34 INFO 140449387971776] push reservoir to kv... 1 num_workers 0 rank\u001b[0m\n",
      "\u001b[34m[04/18/2021 09:19:34 INFO 140449387971776] ...done (33)\u001b[0m\n",
      "\u001b[34m[04/18/2021 09:19:34 INFO 140449387971776] #progress_metric: host=algo-1, completed 100 % of epochs\u001b[0m\n",
      "\u001b[34m#metrics {\"Metrics\": {\"Max Batches Seen Between Resets\": {\"count\": 1, \"max\": 1, \"sum\": 1.0, \"min\": 1}, \"Number of Batches Since Last Reset\": {\"count\": 1, \"max\": 1, \"sum\": 1.0, \"min\": 1}, \"Number of Records Since Last Reset\": {\"count\": 1, \"max\": 33, \"sum\": 33.0, \"min\": 33}, \"Total Batches Seen\": {\"count\": 1, \"max\": 1, \"sum\": 1.0, \"min\": 1}, \"Total Records Seen\": {\"count\": 1, \"max\": 33, \"sum\": 33.0, \"min\": 33}, \"Max Records Seen Between Resets\": {\"count\": 1, \"max\": 33, \"sum\": 33.0, \"min\": 33}, \"Reset Count\": {\"count\": 1, \"max\": 1, \"sum\": 1.0, \"min\": 1}}, \"EndTime\": 1618737574.586503, \"Dimensions\": {\"Host\": \"algo-1\", \"Meta\": \"training_data_iter\", \"Operation\": \"training\", \"Algorithm\": \"AWS/KNN\", \"epoch\": 0}, \"StartTime\": 1618737574.568085}\n",
      "\u001b[0m\n",
      "\u001b[34m[04/18/2021 09:19:34 INFO 140449387971776] #throughput_metric: host=algo-1, train throughput=1774.64974229 records/second\u001b[0m\n",
      "\u001b[34m[04/18/2021 09:19:34 INFO 140449387971776] pulled row count... worker 0 rows 33\u001b[0m\n",
      "\u001b[34m[04/18/2021 09:19:34 INFO 140449387971776] pulled... worker 0 data (33, 5) labels (33,) nans 0\u001b[0m\n",
      "\u001b[34m[04/18/2021 09:19:34 INFO 140449387971776] calling index.train...\u001b[0m\n",
      "\u001b[34m[04/18/2021 09:19:34 INFO 140449387971776] ...done calling index.train\u001b[0m\n",
      "\u001b[34m[04/18/2021 09:19:34 INFO 140449387971776] calling index.add...\u001b[0m\n",
      "\u001b[34m[04/18/2021 09:19:34 INFO 140449387971776] ...done calling index.add\u001b[0m\n",
      "\u001b[34m#metrics {\"Metrics\": {\"epochs\": {\"count\": 1, \"max\": 1, \"sum\": 1.0, \"min\": 1}, \"model.serialize.time\": {\"count\": 1, \"max\": 2.3682117462158203, \"sum\": 2.3682117462158203, \"min\": 2.3682117462158203}, \"finalize.time\": {\"count\": 1, \"max\": 4.729986190795898, \"sum\": 4.729986190795898, \"min\": 4.729986190795898}, \"initialize.time\": {\"count\": 1, \"max\": 665.8980846405029, \"sum\": 665.8980846405029, \"min\": 665.8980846405029}, \"update.time\": {\"count\": 1, \"max\": 18.088817596435547, \"sum\": 18.088817596435547, \"min\": 18.088817596435547}}, \"EndTime\": 1618737574.594013, \"Dimensions\": {\"Host\": \"algo-1\", \"Operation\": \"training\", \"Algorithm\": \"AWS/KNN\"}, \"StartTime\": 1618737573.898061}\n",
      "\u001b[0m\n",
      "\u001b[34m[04/18/2021 09:19:34 INFO 140449387971776] Test data is not provided.\u001b[0m\n",
      "\u001b[34m#metrics {\"Metrics\": {\"totaltime\": {\"count\": 1, \"max\": 1403.0299186706543, \"sum\": 1403.0299186706543, \"min\": 1403.0299186706543}, \"setuptime\": {\"count\": 1, \"max\": 31.24713897705078, \"sum\": 31.24713897705078, \"min\": 31.24713897705078}}, \"EndTime\": 1618737574.594355, \"Dimensions\": {\"Host\": \"algo-1\", \"Operation\": \"training\", \"Algorithm\": \"AWS/KNN\"}, \"StartTime\": 1618737574.594093}\n",
      "\u001b[0m\n"
     ]
    },
    {
     "name": "stdout",
     "output_type": "stream",
     "text": [
      "\n",
      "2021-04-18 09:19:43 Uploading - Uploading generated training model\n",
      "2021-04-18 09:19:43 Completed - Training job completed\n",
      "Training seconds: 75\n",
      "Billable seconds: 75\n"
     ]
    }
   ],
   "source": [
    "estimator1.fit(record_set)"
   ]
  },
  {
   "cell_type": "code",
   "execution_count": 7,
   "id": "freelance-breathing",
   "metadata": {},
   "outputs": [
    {
     "name": "stderr",
     "output_type": "stream",
     "text": [
      "Defaulting to the only supported framework/algorithm version: 1. Ignoring framework/algorithm version: 1.\n"
     ]
    },
    {
     "name": "stdout",
     "output_type": "stream",
     "text": [
      "-------------------!"
     ]
    }
   ],
   "source": [
    "predictor1 = estimator1.deploy(\n",
    "    initial_instance_count=1,\n",
    "    instance_type='ml.t2.medium')"
   ]
  },
  {
   "cell_type": "code",
   "execution_count": 8,
   "id": "dangerous-admission",
   "metadata": {},
   "outputs": [
    {
     "data": {
      "text/plain": [
       "array([0.86968265, 0.86968265, 0.86968265, 0.72413793, 0.72413793])"
      ]
     },
     "execution_count": 8,
     "metadata": {},
     "output_type": "execute_result"
    }
   ],
   "source": [
    "X_test"
   ]
  },
  {
   "cell_type": "code",
   "execution_count": 23,
   "id": "vertical-flower",
   "metadata": {},
   "outputs": [
    {
     "data": {
      "text/plain": [
       "[label {\n",
       "   key: \"predicted_label\"\n",
       "   value {\n",
       "     float64_tensor {\n",
       "       values: 1.0\n",
       "     }\n",
       "   }\n",
       " },\n",
       " label {\n",
       "   key: \"predicted_label\"\n",
       "   value {\n",
       "     float64_tensor {\n",
       "       values: 1.0\n",
       "     }\n",
       "   }\n",
       " },\n",
       " label {\n",
       "   key: \"predicted_label\"\n",
       "   value {\n",
       "     float64_tensor {\n",
       "       values: 0.0\n",
       "     }\n",
       "   }\n",
       " }]"
      ]
     },
     "execution_count": 23,
     "metadata": {},
     "output_type": "execute_result"
    }
   ],
   "source": [
    "results1 = predictor1.predict(X_test)\n",
    "results1[0:3]"
   ]
  },
  {
   "cell_type": "code",
   "execution_count": 1,
   "id": "looking-faith",
   "metadata": {},
   "outputs": [],
   "source": [
    "s3_bucket = \"sagemaker-cookbook-bucket\"\n",
    "prefix = \"chapter04/knn\""
   ]
  },
  {
   "cell_type": "code",
   "execution_count": 2,
   "id": "confidential-conclusion",
   "metadata": {},
   "outputs": [
    {
     "name": "stdout",
     "output_type": "stream",
     "text": [
      "Completed 2.8 KiB/2.8 KiB (30.7 KiB/s) with 1 file(s) remaining\r",
      "upload: tmp/train.io to s3://sagemaker-cookbook-bucket/chapter04/knn/input/train.io\r\n"
     ]
    }
   ],
   "source": [
    "!aws s3 cp tmp/train.io s3://{s3_bucket}/{prefix}/input/train.io"
   ]
  },
  {
   "cell_type": "code",
   "execution_count": 15,
   "id": "parental-riverside",
   "metadata": {},
   "outputs": [],
   "source": [
    "from sagemaker.inputs import TrainingInput\n",
    "\n",
    "train_path = f\"s3://{s3_bucket}/{prefix}/input/train.io\"\n",
    "train = TrainingInput(train_path, \n",
    "                      content_type=\"application/x-recordio-protobuf\")"
   ]
  },
  {
   "cell_type": "code",
   "execution_count": 16,
   "id": "controversial-dictionary",
   "metadata": {},
   "outputs": [
    {
     "name": "stderr",
     "output_type": "stream",
     "text": [
      "Defaulting to the only supported framework/algorithm version: 1. Ignoring framework/algorithm version: 1.\n"
     ]
    }
   ],
   "source": [
    "from sagemaker.estimator import Estimator\n",
    "\n",
    "estimator2 = Estimator(\n",
    "    image_uri=estimator1.training_image_uri(),\n",
    "    role=role,\n",
    "    instance_count=1,\n",
    "    instance_type='ml.c5.xlarge',\n",
    "    sagemaker_session=session)"
   ]
  },
  {
   "cell_type": "code",
   "execution_count": 19,
   "id": "cleared-socket",
   "metadata": {},
   "outputs": [],
   "source": [
    "estimator2.set_hyperparameters(\n",
    "    sample_size=50,\n",
    "    k=3,\n",
    "    predictor_type=\"classifier\")"
   ]
  },
  {
   "cell_type": "code",
   "execution_count": 20,
   "id": "egyptian-legend",
   "metadata": {},
   "outputs": [
    {
     "name": "stdout",
     "output_type": "stream",
     "text": [
      "2021-04-18 10:52:15 Starting - Starting the training job...\n",
      "2021-04-18 10:52:38 Starting - Launching requested ML instancesProfilerReport-1618743135: InProgress\n",
      "......\n",
      "2021-04-18 10:53:44 Starting - Preparing the instances for training......\n",
      "2021-04-18 10:54:39 Downloading - Downloading input data\n",
      "2021-04-18 10:54:39 Training - Downloading the training image...\n",
      "2021-04-18 10:55:16 Uploading - Uploading generated training model.\u001b[34mDocker entrypoint called with argument(s): train\u001b[0m\n",
      "\u001b[34mRunning default environment configuration script\u001b[0m\n",
      "\u001b[34m[04/18/2021 10:55:13 INFO 140499858621824] Reading default configuration from /opt/amazon/lib/python2.7/site-packages/algorithm/resources/default-conf.json: {u'index_metric': u'L2', u'_tuning_objective_metric': u'', u'_num_gpus': u'auto', u'_log_level': u'info', u'feature_dim': u'auto', u'faiss_index_ivf_nlists': u'auto', u'epochs': u'1', u'index_type': u'faiss.Flat', u'_faiss_index_nprobe': u'5', u'_kvstore': u'dist_async', u'_num_kv_servers': u'1', u'mini_batch_size': u'5000'}\u001b[0m\n",
      "\u001b[34m[04/18/2021 10:55:13 INFO 140499858621824] Merging with provided configuration from /opt/ml/input/config/hyperparameters.json: {u'sample_size': u'50', u'k': u'3', u'predictor_type': u'classifier'}\u001b[0m\n",
      "\u001b[34m[04/18/2021 10:55:13 INFO 140499858621824] Final configuration: {u'index_metric': u'L2', u'predictor_type': u'classifier', u'_tuning_objective_metric': u'', u'_num_gpus': u'auto', u'_log_level': u'info', u'feature_dim': u'auto', u'faiss_index_ivf_nlists': u'auto', u'sample_size': u'50', u'epochs': u'1', u'index_type': u'faiss.Flat', u'_faiss_index_nprobe': u'5', u'_kvstore': u'dist_async', u'_num_kv_servers': u'1', u'mini_batch_size': u'5000', u'k': u'3'}\u001b[0m\n",
      "\u001b[34m[04/18/2021 10:55:13 WARNING 140499858621824] Loggers have already been setup.\u001b[0m\n",
      "\u001b[34m[04/18/2021 10:55:13 INFO 140499858621824] Launching parameter server for role scheduler\u001b[0m\n",
      "\u001b[34m[04/18/2021 10:55:13 INFO 140499858621824] {'ECS_CONTAINER_METADATA_URI': 'http://169.254.170.2/v3/ff1409b6-7c1d-43c1-a25f-46263092c734', 'ECS_CONTAINER_METADATA_URI_V4': 'http://169.254.170.2/v4/ff1409b6-7c1d-43c1-a25f-46263092c734', 'PROTOCOL_BUFFERS_PYTHON_IMPLEMENTATION_VERSION': '2', 'PATH': '/opt/amazon/bin:/usr/local/nvidia/bin:/usr/local/sbin:/usr/local/bin:/usr/sbin:/usr/bin:/sbin:/bin:/opt/amazon/bin:/opt/amazon/bin', 'SAGEMAKER_HTTP_PORT': '8080', 'HOME': '/root', 'PYTHONUNBUFFERED': 'TRUE', 'CANONICAL_ENVROOT': '/opt/amazon', 'LD_LIBRARY_PATH': '/opt/amazon/lib/python2.7/site-packages/cv2/../../../../lib:/usr/local/nvidia/lib64:/opt/amazon/lib', 'LANG': 'en_US.utf8', 'DMLC_INTERFACE': 'eth0', 'SHLVL': '1', 'AWS_REGION': 'us-east-1', 'SAGEMAKER_METRICS_DIRECTORY': '/opt/ml/output/metrics/sagemaker', 'NVIDIA_VISIBLE_DEVICES': 'void', 'TRAINING_JOB_NAME': 'knn-2021-04-18-10-52-15-306', 'PROTOCOL_BUFFERS_PYTHON_IMPLEMENTATION': 'cpp', 'ENVROOT': '/opt/amazon', 'SAGEMAKER_DATA_PATH': '/opt/ml', 'NVIDIA_DRIVER_CAPABILITIES': 'compute,utility', 'NVIDIA_REQUIRE_CUDA': 'cuda>=9.0', 'OMP_NUM_THREADS': '2', 'HOSTNAME': 'ip-10-0-155-234.ec2.internal', 'AWS_CONTAINER_CREDENTIALS_RELATIVE_URI': '/v2/credentials/812a3331-4660-4a2a-a34b-65a49d400c89', 'PWD': '/', 'TRAINING_JOB_ARN': 'arn:aws:sagemaker:us-east-1:581320662326:training-job/knn-2021-04-18-10-52-15-306', 'AWS_EXECUTION_ENV': 'AWS_ECS_EC2'}\u001b[0m\n",
      "\u001b[34m[04/18/2021 10:55:13 INFO 140499858621824] envs={'ECS_CONTAINER_METADATA_URI': 'http://169.254.170.2/v3/ff1409b6-7c1d-43c1-a25f-46263092c734', 'ECS_CONTAINER_METADATA_URI_V4': 'http://169.254.170.2/v4/ff1409b6-7c1d-43c1-a25f-46263092c734', 'PROTOCOL_BUFFERS_PYTHON_IMPLEMENTATION_VERSION': '2', 'DMLC_NUM_WORKER': '1', 'DMLC_PS_ROOT_PORT': '9000', 'PATH': '/opt/amazon/bin:/usr/local/nvidia/bin:/usr/local/sbin:/usr/local/bin:/usr/sbin:/usr/bin:/sbin:/bin:/opt/amazon/bin:/opt/amazon/bin', 'SAGEMAKER_HTTP_PORT': '8080', 'HOME': '/root', 'PYTHONUNBUFFERED': 'TRUE', 'CANONICAL_ENVROOT': '/opt/amazon', 'LD_LIBRARY_PATH': '/opt/amazon/lib/python2.7/site-packages/cv2/../../../../lib:/usr/local/nvidia/lib64:/opt/amazon/lib', 'LANG': 'en_US.utf8', 'DMLC_INTERFACE': 'eth0', 'SHLVL': '1', 'DMLC_PS_ROOT_URI': '10.0.155.234', 'AWS_REGION': 'us-east-1', 'SAGEMAKER_METRICS_DIRECTORY': '/opt/ml/output/metrics/sagemaker', 'NVIDIA_VISIBLE_DEVICES': 'void', 'TRAINING_JOB_NAME': 'knn-2021-04-18-10-52-15-306', 'PROTOCOL_BUFFERS_PYTHON_IMPLEMENTATION': 'cpp', 'ENVROOT': '/opt/amazon', 'SAGEMAKER_DATA_PATH': '/opt/ml', 'NVIDIA_DRIVER_CAPABILITIES': 'compute,utility', 'NVIDIA_REQUIRE_CUDA': 'cuda>=9.0', 'OMP_NUM_THREADS': '2', 'HOSTNAME': 'ip-10-0-155-234.ec2.internal', 'AWS_CONTAINER_CREDENTIALS_RELATIVE_URI': '/v2/credentials/812a3331-4660-4a2a-a34b-65a49d400c89', 'DMLC_ROLE': 'scheduler', 'PWD': '/', 'DMLC_NUM_SERVER': '1', 'TRAINING_JOB_ARN': 'arn:aws:sagemaker:us-east-1:581320662326:training-job/knn-2021-04-18-10-52-15-306', 'AWS_EXECUTION_ENV': 'AWS_ECS_EC2'}\u001b[0m\n",
      "\u001b[34m[04/18/2021 10:55:13 INFO 140499858621824] Launching parameter server for role server\u001b[0m\n",
      "\u001b[34m[04/18/2021 10:55:13 INFO 140499858621824] {'ECS_CONTAINER_METADATA_URI': 'http://169.254.170.2/v3/ff1409b6-7c1d-43c1-a25f-46263092c734', 'ECS_CONTAINER_METADATA_URI_V4': 'http://169.254.170.2/v4/ff1409b6-7c1d-43c1-a25f-46263092c734', 'PROTOCOL_BUFFERS_PYTHON_IMPLEMENTATION_VERSION': '2', 'PATH': '/opt/amazon/bin:/usr/local/nvidia/bin:/usr/local/sbin:/usr/local/bin:/usr/sbin:/usr/bin:/sbin:/bin:/opt/amazon/bin:/opt/amazon/bin', 'SAGEMAKER_HTTP_PORT': '8080', 'HOME': '/root', 'PYTHONUNBUFFERED': 'TRUE', 'CANONICAL_ENVROOT': '/opt/amazon', 'LD_LIBRARY_PATH': '/opt/amazon/lib/python2.7/site-packages/cv2/../../../../lib:/usr/local/nvidia/lib64:/opt/amazon/lib', 'LANG': 'en_US.utf8', 'DMLC_INTERFACE': 'eth0', 'SHLVL': '1', 'AWS_REGION': 'us-east-1', 'SAGEMAKER_METRICS_DIRECTORY': '/opt/ml/output/metrics/sagemaker', 'NVIDIA_VISIBLE_DEVICES': 'void', 'TRAINING_JOB_NAME': 'knn-2021-04-18-10-52-15-306', 'PROTOCOL_BUFFERS_PYTHON_IMPLEMENTATION': 'cpp', 'ENVROOT': '/opt/amazon', 'SAGEMAKER_DATA_PATH': '/opt/ml', 'NVIDIA_DRIVER_CAPABILITIES': 'compute,utility', 'NVIDIA_REQUIRE_CUDA': 'cuda>=9.0', 'OMP_NUM_THREADS': '2', 'HOSTNAME': 'ip-10-0-155-234.ec2.internal', 'AWS_CONTAINER_CREDENTIALS_RELATIVE_URI': '/v2/credentials/812a3331-4660-4a2a-a34b-65a49d400c89', 'PWD': '/', 'TRAINING_JOB_ARN': 'arn:aws:sagemaker:us-east-1:581320662326:training-job/knn-2021-04-18-10-52-15-306', 'AWS_EXECUTION_ENV': 'AWS_ECS_EC2'}\u001b[0m\n",
      "\u001b[34m[04/18/2021 10:55:13 INFO 140499858621824] envs={'ECS_CONTAINER_METADATA_URI': 'http://169.254.170.2/v3/ff1409b6-7c1d-43c1-a25f-46263092c734', 'ECS_CONTAINER_METADATA_URI_V4': 'http://169.254.170.2/v4/ff1409b6-7c1d-43c1-a25f-46263092c734', 'PROTOCOL_BUFFERS_PYTHON_IMPLEMENTATION_VERSION': '2', 'DMLC_NUM_WORKER': '1', 'DMLC_PS_ROOT_PORT': '9000', 'PATH': '/opt/amazon/bin:/usr/local/nvidia/bin:/usr/local/sbin:/usr/local/bin:/usr/sbin:/usr/bin:/sbin:/bin:/opt/amazon/bin:/opt/amazon/bin', 'SAGEMAKER_HTTP_PORT': '8080', 'HOME': '/root', 'PYTHONUNBUFFERED': 'TRUE', 'CANONICAL_ENVROOT': '/opt/amazon', 'LD_LIBRARY_PATH': '/opt/amazon/lib/python2.7/site-packages/cv2/../../../../lib:/usr/local/nvidia/lib64:/opt/amazon/lib', 'LANG': 'en_US.utf8', 'DMLC_INTERFACE': 'eth0', 'SHLVL': '1', 'DMLC_PS_ROOT_URI': '10.0.155.234', 'AWS_REGION': 'us-east-1', 'SAGEMAKER_METRICS_DIRECTORY': '/opt/ml/output/metrics/sagemaker', 'NVIDIA_VISIBLE_DEVICES': 'void', 'TRAINING_JOB_NAME': 'knn-2021-04-18-10-52-15-306', 'PROTOCOL_BUFFERS_PYTHON_IMPLEMENTATION': 'cpp', 'ENVROOT': '/opt/amazon', 'SAGEMAKER_DATA_PATH': '/opt/ml', 'NVIDIA_DRIVER_CAPABILITIES': 'compute,utility', 'NVIDIA_REQUIRE_CUDA': 'cuda>=9.0', 'OMP_NUM_THREADS': '2', 'HOSTNAME': 'ip-10-0-155-234.ec2.internal', 'AWS_CONTAINER_CREDENTIALS_RELATIVE_URI': '/v2/credentials/812a3331-4660-4a2a-a34b-65a49d400c89', 'DMLC_ROLE': 'server', 'PWD': '/', 'DMLC_NUM_SERVER': '1', 'TRAINING_JOB_ARN': 'arn:aws:sagemaker:us-east-1:581320662326:training-job/knn-2021-04-18-10-52-15-306', 'AWS_EXECUTION_ENV': 'AWS_ECS_EC2'}\u001b[0m\n",
      "\u001b[34m[04/18/2021 10:55:13 INFO 140499858621824] Environment: {'ECS_CONTAINER_METADATA_URI': 'http://169.254.170.2/v3/ff1409b6-7c1d-43c1-a25f-46263092c734', 'ECS_CONTAINER_METADATA_URI_V4': 'http://169.254.170.2/v4/ff1409b6-7c1d-43c1-a25f-46263092c734', 'PROTOCOL_BUFFERS_PYTHON_IMPLEMENTATION_VERSION': '2', 'DMLC_PS_ROOT_PORT': '9000', 'DMLC_NUM_WORKER': '1', 'SAGEMAKER_HTTP_PORT': '8080', 'PATH': '/opt/amazon/bin:/usr/local/nvidia/bin:/usr/local/sbin:/usr/local/bin:/usr/sbin:/usr/bin:/sbin:/bin:/opt/amazon/bin:/opt/amazon/bin', 'PYTHONUNBUFFERED': 'TRUE', 'CANONICAL_ENVROOT': '/opt/amazon', 'LD_LIBRARY_PATH': '/opt/amazon/lib/python2.7/site-packages/cv2/../../../../lib:/usr/local/nvidia/lib64:/opt/amazon/lib', 'LANG': 'en_US.utf8', 'DMLC_INTERFACE': 'eth0', 'SHLVL': '1', 'DMLC_PS_ROOT_URI': '10.0.155.234', 'AWS_REGION': 'us-east-1', 'SAGEMAKER_METRICS_DIRECTORY': '/opt/ml/output/metrics/sagemaker', 'NVIDIA_VISIBLE_DEVICES': 'void', 'TRAINING_JOB_NAME': 'knn-2021-04-18-10-52-15-306', 'HOME': '/root', 'PROTOCOL_BUFFERS_PYTHON_IMPLEMENTATION': 'cpp', 'ENVROOT': '/opt/amazon', 'SAGEMAKER_DATA_PATH': '/opt/ml', 'NVIDIA_DRIVER_CAPABILITIES': 'compute,utility', 'NVIDIA_REQUIRE_CUDA': 'cuda>=9.0', 'OMP_NUM_THREADS': '2', 'HOSTNAME': 'ip-10-0-155-234.ec2.internal', 'AWS_CONTAINER_CREDENTIALS_RELATIVE_URI': '/v2/credentials/812a3331-4660-4a2a-a34b-65a49d400c89', 'DMLC_ROLE': 'worker', 'PWD': '/', 'DMLC_NUM_SERVER': '1', 'TRAINING_JOB_ARN': 'arn:aws:sagemaker:us-east-1:581320662326:training-job/knn-2021-04-18-10-52-15-306', 'AWS_EXECUTION_ENV': 'AWS_ECS_EC2'}\u001b[0m\n",
      "\u001b[34mProcess 42 is a shell:scheduler.\u001b[0m\n",
      "\u001b[34mProcess 51 is a shell:server.\u001b[0m\n",
      "\u001b[34mProcess 1 is a worker.\u001b[0m\n",
      "\u001b[34m[04/18/2021 10:55:13 INFO 140499858621824] Using default worker.\u001b[0m\n",
      "\u001b[34m[04/18/2021 10:55:14 INFO 140499858621824] Checkpoint loading and saving are disabled.\u001b[0m\n",
      "\u001b[34m[04/18/2021 10:55:14 INFO 140499858621824] nvidia-smi took: 0.0251610279083 secs to identify 0 gpus\u001b[0m\n",
      "\u001b[34m[04/18/2021 10:55:14 INFO 140499858621824] Create Store: dist_async\u001b[0m\n",
      "\u001b[34m[04/18/2021 10:55:14 ERROR 140499858621824] nvidia-smi: failed to run (127): /bin/sh: nvidia-smi: command not found\u001b[0m\n",
      "\u001b[34m[04/18/2021 10:55:14 INFO 140499858621824] Using per-worker sample size = 50 (Available virtual memory = 6257504256 bytes, GPU free memory = 0 bytes, number of workers = 1). If an out-of-memory error occurs, choose a larger instance type, use dimension reduction, decrease sample_size, and/or decrease mini_batch_size.\u001b[0m\n",
      "\u001b[34m#metrics {\"Metrics\": {\"Max Batches Seen Between Resets\": {\"count\": 1, \"max\": 0, \"sum\": 0.0, \"min\": 0}, \"Number of Batches Since Last Reset\": {\"count\": 1, \"max\": 0, \"sum\": 0.0, \"min\": 0}, \"Number of Records Since Last Reset\": {\"count\": 1, \"max\": 0, \"sum\": 0.0, \"min\": 0}, \"Total Batches Seen\": {\"count\": 1, \"max\": 0, \"sum\": 0.0, \"min\": 0}, \"Total Records Seen\": {\"count\": 1, \"max\": 0, \"sum\": 0.0, \"min\": 0}, \"Max Records Seen Between Resets\": {\"count\": 1, \"max\": 0, \"sum\": 0.0, \"min\": 0}, \"Reset Count\": {\"count\": 1, \"max\": 0, \"sum\": 0.0, \"min\": 0}}, \"EndTime\": 1618743315.089816, \"Dimensions\": {\"Host\": \"algo-1\", \"Meta\": \"init_train_data_iter\", \"Operation\": \"training\", \"Algorithm\": \"AWS/KNN\"}, \"StartTime\": 1618743315.089778}\n",
      "\u001b[0m\n",
      "\u001b[34m[2021-04-18 10:55:15.090] [tensorio] [info] epoch_stats={\"data_pipeline\": \"/opt/ml/input/data/train\", \"epoch\": 0, \"duration\": 758, \"num_examples\": 1, \"num_bytes\": 2904}\u001b[0m\n",
      "\u001b[34m[2021-04-18 10:55:15.101] [tensorio] [info] epoch_stats={\"data_pipeline\": \"/opt/ml/input/data/train\", \"epoch\": 1, \"duration\": 11, \"num_examples\": 1, \"num_bytes\": 2904}\u001b[0m\n",
      "\u001b[34m[04/18/2021 10:55:15 INFO 140499858621824] push reservoir to kv... 1 num_workers 0 rank\u001b[0m\n",
      "\u001b[34m[04/18/2021 10:55:15 INFO 140499858621824] ...done (33)\u001b[0m\n",
      "\u001b[34m[04/18/2021 10:55:15 INFO 140499858621824] #progress_metric: host=algo-1, completed 100 % of epochs\u001b[0m\n",
      "\u001b[34m#metrics {\"Metrics\": {\"Max Batches Seen Between Resets\": {\"count\": 1, \"max\": 1, \"sum\": 1.0, \"min\": 1}, \"Number of Batches Since Last Reset\": {\"count\": 1, \"max\": 1, \"sum\": 1.0, \"min\": 1}, \"Number of Records Since Last Reset\": {\"count\": 1, \"max\": 33, \"sum\": 33.0, \"min\": 33}, \"Total Batches Seen\": {\"count\": 1, \"max\": 1, \"sum\": 1.0, \"min\": 1}, \"Total Records Seen\": {\"count\": 1, \"max\": 33, \"sum\": 33.0, \"min\": 33}, \"Max Records Seen Between Resets\": {\"count\": 1, \"max\": 33, \"sum\": 33.0, \"min\": 33}, \"Reset Count\": {\"count\": 1, \"max\": 1, \"sum\": 1.0, \"min\": 1}}, \"EndTime\": 1618743315.103569, \"Dimensions\": {\"Host\": \"algo-1\", \"Meta\": \"training_data_iter\", \"Operation\": \"training\", \"Algorithm\": \"AWS/KNN\", \"epoch\": 0}, \"StartTime\": 1618743315.090196}\n",
      "\u001b[0m\n",
      "\u001b[34m[04/18/2021 10:55:15 INFO 140499858621824] #throughput_metric: host=algo-1, train throughput=2444.44893418 records/second\u001b[0m\n",
      "\u001b[34m[04/18/2021 10:55:15 INFO 140499858621824] pulled row count... worker 0 rows 33\u001b[0m\n",
      "\u001b[34m[04/18/2021 10:55:15 INFO 140499858621824] pulled... worker 0 data (33, 5) labels (33,) nans 0\u001b[0m\n",
      "\u001b[34m[04/18/2021 10:55:15 INFO 140499858621824] calling index.train...\u001b[0m\n",
      "\u001b[34m[04/18/2021 10:55:15 INFO 140499858621824] ...done calling index.train\u001b[0m\n",
      "\u001b[34m[04/18/2021 10:55:15 INFO 140499858621824] calling index.add...\u001b[0m\n",
      "\u001b[34m[04/18/2021 10:55:15 INFO 140499858621824] ...done calling index.add\u001b[0m\n",
      "\u001b[34m#metrics {\"Metrics\": {\"epochs\": {\"count\": 1, \"max\": 1, \"sum\": 1.0, \"min\": 1}, \"model.serialize.time\": {\"count\": 1, \"max\": 1.338958740234375, \"sum\": 1.338958740234375, \"min\": 1.338958740234375}, \"finalize.time\": {\"count\": 1, \"max\": 3.3910274505615234, \"sum\": 3.3910274505615234, \"min\": 3.3910274505615234}, \"initialize.time\": {\"count\": 1, \"max\": 743.7820434570312, \"sum\": 743.7820434570312, \"min\": 743.7820434570312}, \"update.time\": {\"count\": 1, \"max\": 13.206005096435547, \"sum\": 13.206005096435547, \"min\": 13.206005096435547}}, \"EndTime\": 1618743315.108559, \"Dimensions\": {\"Host\": \"algo-1\", \"Operation\": \"training\", \"Algorithm\": \"AWS/KNN\"}, \"StartTime\": 1618743314.330982}\n",
      "\u001b[0m\n",
      "\u001b[34m[04/18/2021 10:55:15 INFO 140499858621824] Test data is not provided.\u001b[0m\n",
      "\u001b[34m#metrics {\"Metrics\": {\"totaltime\": {\"count\": 1, \"max\": 1257.086992263794, \"sum\": 1257.086992263794, \"min\": 1257.086992263794}, \"setuptime\": {\"count\": 1, \"max\": 28.862953186035156, \"sum\": 28.862953186035156, \"min\": 28.862953186035156}}, \"EndTime\": 1618743315.108859, \"Dimensions\": {\"Host\": \"algo-1\", \"Operation\": \"training\", \"Algorithm\": \"AWS/KNN\"}, \"StartTime\": 1618743315.108627}\n",
      "\u001b[0m\n"
     ]
    },
    {
     "name": "stdout",
     "output_type": "stream",
     "text": [
      "\n",
      "2021-04-18 10:55:39 Completed - Training job completed\n",
      "Training seconds: 51\n",
      "Billable seconds: 51\n"
     ]
    }
   ],
   "source": [
    "estimator2.fit({\"train\": train})"
   ]
  },
  {
   "cell_type": "code",
   "execution_count": 21,
   "id": "alike-client",
   "metadata": {},
   "outputs": [
    {
     "name": "stdout",
     "output_type": "stream",
     "text": [
      "-------------------!"
     ]
    }
   ],
   "source": [
    "predictor2 = estimator2.deploy(\n",
    "    initial_instance_count=1,\n",
    "    instance_type='ml.t2.medium')"
   ]
  },
  {
   "cell_type": "code",
   "execution_count": 22,
   "id": "regular-freeware",
   "metadata": {},
   "outputs": [],
   "source": [
    "import sagemaker\n",
    "from sagemaker.serializers import CSVSerializer\n",
    "from sagemaker.deserializers import JSONDeserializer\n",
    "\n",
    "predictor2.serializer = CSVSerializer()\n",
    "predictor2.deserializer = JSONDeserializer()"
   ]
  },
  {
   "cell_type": "code",
   "execution_count": 28,
   "id": "hazardous-nevada",
   "metadata": {},
   "outputs": [
    {
     "data": {
      "text/plain": [
       "[{'predicted_label': 1.0}, {'predicted_label': 1.0}, {'predicted_label': 0.0}]"
      ]
     },
     "execution_count": 28,
     "metadata": {},
     "output_type": "execute_result"
    }
   ],
   "source": [
    "results2 = predictor2.predict(X_test)\n",
    "results2[\"predictions\"][0:3]"
   ]
  },
  {
   "cell_type": "code",
   "execution_count": 29,
   "id": "hundred-strategy",
   "metadata": {},
   "outputs": [],
   "source": [
    "predictor1.delete_endpoint()"
   ]
  },
  {
   "cell_type": "code",
   "execution_count": 30,
   "id": "reflected-catalyst",
   "metadata": {},
   "outputs": [],
   "source": [
    "predictor2.delete_endpoint()"
   ]
  }
 ],
 "metadata": {
  "kernelspec": {
   "display_name": "conda_python3",
   "language": "python",
   "name": "conda_python3"
  },
  "language_info": {
   "codemirror_mode": {
    "name": "ipython",
    "version": 3
   },
   "file_extension": ".py",
   "mimetype": "text/x-python",
   "name": "python",
   "nbconvert_exporter": "python",
   "pygments_lexer": "ipython3",
   "version": "3.6.13"
  }
 },
 "nbformat": 4,
 "nbformat_minor": 5
}
