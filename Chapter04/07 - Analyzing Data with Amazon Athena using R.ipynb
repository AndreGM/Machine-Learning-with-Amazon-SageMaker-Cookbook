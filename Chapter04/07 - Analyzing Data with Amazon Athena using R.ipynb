{
 "cells": [
  {
   "cell_type": "markdown",
   "id": "87ddcbfa",
   "metadata": {},
   "source": [
    "# Analyzing Data with Amazon Athena using R"
   ]
  },
  {
   "cell_type": "markdown",
   "id": "d356d2bf",
   "metadata": {},
   "source": [
    "<img align=\"left\" width=\"130\" src=\"https://raw.githubusercontent.com/PacktPublishing/Amazon-SageMaker-Cookbook/master/Extra/cover-small-padded.png\"/>\n",
    "\n",
    "This notebook contains the code to help readers work through one of the recipes of the book [Machine Learning with Amazon SageMaker Cookbook: 80 proven recipes for data scientists and developers to perform ML experiments and deployments](https://www.amazon.com/Machine-Learning-Amazon-SageMaker-Cookbook/dp/1800567030)"
   ]
  },
  {
   "cell_type": "markdown",
   "id": "bd7513df",
   "metadata": {},
   "source": [
    "### How to do it..."
   ]
  },
  {
   "cell_type": "code",
   "execution_count": null,
   "id": "7c35bb4a",
   "metadata": {},
   "outputs": [],
   "source": [
    "library('reticulate')\n",
    "boto3 <- import('boto3')\n",
    "athena <- boto3$client('athena', region_name='us-east-1')"
   ]
  },
  {
   "cell_type": "code",
   "execution_count": null,
   "id": "c8f6ef08",
   "metadata": {},
   "outputs": [],
   "source": [
    "query <- \"SELECT label, value FROM cookbook_athena_db.athena_table;\"\n",
    "database <- \"cookbook_athena_db\"\n",
    "results_bucket <- \"s3://cookbook-athena-results\""
   ]
  },
  {
   "cell_type": "code",
   "execution_count": null,
   "id": "3943fb56",
   "metadata": {},
   "outputs": [],
   "source": [
    "execute_athena_query <- function(query, database, results_bucket) {\n",
    "    response <- athena$start_query_execution(\n",
    "        QueryString = query,\n",
    "        QueryExecutionContext = dict(Database=database),\n",
    "        ResultConfiguration = dict(OutputLocation=results_bucket)\n",
    "    )    \n",
    "    \n",
    "    return(response$QueryExecutionId)\n",
    "}"
   ]
  },
  {
   "cell_type": "code",
   "execution_count": null,
   "id": "af43619f",
   "metadata": {},
   "outputs": [],
   "source": [
    "get_output_path <- function(execution_id) {\n",
    "    query_details <- athena$get_query_execution(\n",
    "        QueryExecutionId = execution_id\n",
    "    )\n",
    "    \n",
    "    execution <- query_details$QueryExecution\n",
    "    configuration <- execution$ResultConfiguration\n",
    "    return(configuration$OutputLocation)\n",
    "}"
   ]
  },
  {
   "cell_type": "code",
   "execution_count": null,
   "id": "f52b2525",
   "metadata": {},
   "outputs": [],
   "source": [
    "cmd <- function(bash_command) {\n",
    "    print(bash_command)\n",
    "    output <- system(bash_command, intern=TRUE)\n",
    "    last_line = \"\"\n",
    "    \n",
    "    for (line in output) { \n",
    "        cat(line)\n",
    "        cat(\"\\n\")\n",
    "        last_line = line \n",
    "    }\n",
    "    \n",
    "    return(last_line) \n",
    "}"
   ]
  },
  {
   "cell_type": "code",
   "execution_count": null,
   "id": "e90ea814",
   "metadata": {},
   "outputs": [],
   "source": [
    "cmd(\"mkdir -p tmp\")"
   ]
  },
  {
   "cell_type": "code",
   "execution_count": null,
   "id": "949ec6fe",
   "metadata": {},
   "outputs": [],
   "source": [
    "execution_id <- execute_athena_query(query, database, results_bucket)\n",
    "output_path <- get_output_path(execution_id)\n",
    "output_path"
   ]
  },
  {
   "cell_type": "code",
   "execution_count": null,
   "id": "d6d61d61",
   "metadata": {},
   "outputs": [],
   "source": [
    "command <- paste(\"aws s3 cp\", output_path, \"tmp/output.csv\")\n",
    "\n",
    "cmd(command)"
   ]
  },
  {
   "cell_type": "code",
   "execution_count": null,
   "id": "5e17b54b",
   "metadata": {},
   "outputs": [],
   "source": [
    "df <- read.csv(\"tmp/output.csv\", header=TRUE)\n",
    "df"
   ]
  },
  {
   "cell_type": "code",
   "execution_count": null,
   "id": "8eb2d875",
   "metadata": {},
   "outputs": [],
   "source": [
    "query <- \"\n",
    "USING EXTERNAL FUNCTION detect_anomaly(value INT)\n",
    "    RETURNS DOUBLE\n",
    "    SAGEMAKER 'sagemaker-cookbook-rcf'\n",
    "SELECT label, value, detect_anomaly(value) AS anomaly_score\n",
    "    FROM cookbook_athena_db.athena_table\""
   ]
  },
  {
   "cell_type": "code",
   "execution_count": null,
   "id": "6567f40c",
   "metadata": {},
   "outputs": [],
   "source": [
    "execution_id <- execute_athena_query(query, database, results_bucket)\n",
    "output_path <- get_output_path(execution_id)\n",
    "output_path"
   ]
  },
  {
   "cell_type": "code",
   "execution_count": null,
   "id": "00e389a5",
   "metadata": {},
   "outputs": [],
   "source": [
    "command <- paste(\"aws s3 cp\", output_path, \"tmp/output.csv\")\n",
    "cmd(command)"
   ]
  },
  {
   "cell_type": "code",
   "execution_count": null,
   "id": "2ed63db8",
   "metadata": {},
   "outputs": [],
   "source": [
    "df <- read.csv(\"tmp/output.csv\", header=TRUE)\n",
    "df"
   ]
  },
  {
   "cell_type": "code",
   "execution_count": null,
   "id": "ca5f830a",
   "metadata": {},
   "outputs": [],
   "source": [
    "subset(df, anomaly_score > 2)"
   ]
  }
 ],
 "metadata": {
  "kernelspec": {
   "display_name": "R",
   "language": "R",
   "name": "ir"
  },
  "language_info": {
   "codemirror_mode": "r",
   "file_extension": ".r",
   "mimetype": "text/x-r-source",
   "name": "R",
   "pygments_lexer": "r",
   "version": "4.1.0"
  }
 },
 "nbformat": 4,
 "nbformat_minor": 5
}
