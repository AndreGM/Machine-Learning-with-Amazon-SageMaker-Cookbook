{
 "cells": [
  {
   "cell_type": "markdown",
   "id": "c89172d1",
   "metadata": {},
   "source": [
    "# Managed Data Processing with SageMaker Processing in Python"
   ]
  },
  {
   "cell_type": "markdown",
   "id": "380eb2e5",
   "metadata": {},
   "source": [
    "<img align=\"left\" width=\"130\" src=\"https://raw.githubusercontent.com/PacktPublishing/Amazon-SageMaker-Cookbook/master/Extra/cover-small-padded.png\"/>\n",
    "\n",
    "This notebook contains the code to help readers work through one of the recipes of the book [Machine Learning with Amazon SageMaker Cookbook: 80 proven recipes for data scientists and developers to perform ML experiments and deployments](https://www.amazon.com/Machine-Learning-Amazon-SageMaker-Cookbook/dp/1800567030)"
   ]
  },
  {
   "cell_type": "markdown",
   "id": "9b965b9f",
   "metadata": {},
   "source": [
    "### How to do it..."
   ]
  },
  {
   "cell_type": "code",
   "execution_count": null,
   "id": "dfd64534",
   "metadata": {},
   "outputs": [],
   "source": [
    "import boto3\n",
    "import sagemaker\n",
    "from sagemaker import get_execution_role\n",
    "from sagemaker.sklearn.processing import SKLearnProcessor"
   ]
  },
  {
   "cell_type": "code",
   "execution_count": null,
   "id": "2498bc24",
   "metadata": {},
   "outputs": [],
   "source": [
    "role = get_execution_role()\n",
    "\n",
    "sklearn_processor = SKLearnProcessor(framework_version='0.20.0',\n",
    "                                     role=role,\n",
    "                                     instance_count=1,\n",
    "                                     instance_type='ml.m5.large')"
   ]
  },
  {
   "cell_type": "code",
   "execution_count": null,
   "id": "c04a5043",
   "metadata": {},
   "outputs": [],
   "source": [
    "from sagemaker.processing import ProcessingInput, ProcessingOutput\n",
    "\n",
    "source = 'tmp/dataset.processing.csv'\n",
    "pinput1 = ProcessingInput(\n",
    "    source=source, \n",
    "    destination='/opt/ml/processing/input')\n",
    "\n",
    "poutput1 = ProcessingOutput(source='/opt/ml/processing/output')"
   ]
  },
  {
   "cell_type": "code",
   "execution_count": null,
   "id": "62ccf03c",
   "metadata": {
    "scrolled": true
   },
   "outputs": [],
   "source": [
    "sklearn_processor.run(\n",
    "    code='processing.py',\n",
    "    arguments = ['--sample-argument', '3'],\n",
    "    inputs=[pinput1],\n",
    "    outputs=[poutput1]\n",
    ")"
   ]
  },
  {
   "cell_type": "code",
   "execution_count": null,
   "id": "a85088b9",
   "metadata": {},
   "outputs": [],
   "source": [
    "sklearn_processor.__dict__"
   ]
  },
  {
   "cell_type": "code",
   "execution_count": null,
   "id": "4fabf38b",
   "metadata": {},
   "outputs": [],
   "source": [
    "sklearn_processor.latest_job.__dict__"
   ]
  },
  {
   "cell_type": "code",
   "execution_count": null,
   "id": "f49990dc",
   "metadata": {},
   "outputs": [],
   "source": [
    "latest_job = sklearn_processor.latest_job\n",
    "destination = latest_job.outputs[0].destination\n",
    "destination"
   ]
  },
  {
   "cell_type": "code",
   "execution_count": null,
   "id": "c316cfc3",
   "metadata": {},
   "outputs": [],
   "source": [
    "!aws s3 cp \"{destination}/output.csv\" tmp/output.processing.csv"
   ]
  },
  {
   "cell_type": "code",
   "execution_count": null,
   "id": "2a3786e2",
   "metadata": {},
   "outputs": [],
   "source": [
    "!cat tmp/output.processing.csv"
   ]
  }
 ],
 "metadata": {
  "kernelspec": {
   "display_name": "conda_python3",
   "language": "python",
   "name": "conda_python3"
  },
  "language_info": {
   "codemirror_mode": {
    "name": "ipython",
    "version": 3
   },
   "file_extension": ".py",
   "mimetype": "text/x-python",
   "name": "python",
   "nbconvert_exporter": "python",
   "pygments_lexer": "ipython3",
   "version": "3.6.13"
  }
 },
 "nbformat": 4,
 "nbformat_minor": 5
}
