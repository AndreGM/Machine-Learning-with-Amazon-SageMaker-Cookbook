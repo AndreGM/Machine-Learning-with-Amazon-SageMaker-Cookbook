{
 "cells": [
  {
   "cell_type": "markdown",
   "metadata": {},
   "source": [
    "# Setting up AB testing on multiple models with production variants"
   ]
  },
  {
   "cell_type": "markdown",
   "metadata": {},
   "source": [
    "<img align=\"left\" width=\"130\" src=\"https://raw.githubusercontent.com/PacktPublishing/Amazon-SageMaker-Cookbook/master/Extra/cover-small-padded.png\"/>\n",
    "\n",
    "This notebook contains the code to help readers work through one of the recipes of the book [Machine Learning with Amazon SageMaker Cookbook: 80 proven recipes for data scientists and developers to perform ML experiments and deployments](https://www.amazon.com/Machine-Learning-Amazon-SageMaker-Cookbook/dp/1800567030)"
   ]
  },
  {
   "cell_type": "markdown",
   "metadata": {},
   "source": [
    "### How to do it..."
   ]
  },
  {
   "cell_type": "code",
   "execution_count": null,
   "metadata": {},
   "outputs": [],
   "source": [
    "%store -r model_a_s3_path\n",
    "%store -r model_b_s3_path"
   ]
  },
  {
   "cell_type": "code",
   "execution_count": null,
   "metadata": {},
   "outputs": [],
   "source": [
    "%store -r s3_bucket\n",
    "%store -r prefix"
   ]
  },
  {
   "cell_type": "code",
   "execution_count": null,
   "metadata": {},
   "outputs": [],
   "source": [
    "import sagemaker\n",
    "from sagemaker import get_execution_role\n",
    "\n",
    "session = sagemaker.Session()\n",
    "role = get_execution_role()"
   ]
  },
  {
   "cell_type": "code",
   "execution_count": null,
   "metadata": {},
   "outputs": [],
   "source": [
    "from sagemaker.image_uris import retrieve\n",
    "\n",
    "image_uri = retrieve(\n",
    "    \"xgboost\", \n",
    "    region=\"us-east-1\", \n",
    "    version=\"0.90-2\"\n",
    ")\n",
    "\n",
    "image_uri"
   ]
  },
  {
   "cell_type": "code",
   "execution_count": null,
   "metadata": {},
   "outputs": [],
   "source": [
    "image_uri_a = image_uri\n",
    "image_uri_b = image_uri"
   ]
  },
  {
   "cell_type": "code",
   "execution_count": null,
   "metadata": {},
   "outputs": [],
   "source": [
    "container1 = { \n",
    "    'Image': image_uri_a,\n",
    "    'ContainerHostname': 'containerA',\n",
    "    'ModelDataUrl': model_a_s3_path\n",
    "}\n",
    "\n",
    "container2 = { \n",
    "    'Image': image_uri_b,\n",
    "    'ContainerHostname': 'containerB',\n",
    "    'ModelDataUrl': model_b_s3_path\n",
    "}"
   ]
  },
  {
   "cell_type": "code",
   "execution_count": null,
   "metadata": {},
   "outputs": [],
   "source": [
    "model_name = \"ab-testing\"\n",
    "endpoint_config_name = 'ab-testing-config'\n",
    "endpoint_name = 'ab-testing-endpoint'"
   ]
  },
  {
   "cell_type": "code",
   "execution_count": null,
   "metadata": {},
   "outputs": [],
   "source": [
    "import boto3\n",
    "sm_client = boto3.Session().client('sagemaker')"
   ]
  },
  {
   "cell_type": "code",
   "execution_count": null,
   "metadata": {},
   "outputs": [],
   "source": [
    "model_name_a = \"ab-model-a\"\n",
    "model_name_b = \"ab-model-b\"\n",
    "endpoint_config_name = 'ab-endpoint-config'\n",
    "endpoint_name = 'ab-endpoint'"
   ]
  },
  {
   "cell_type": "code",
   "execution_count": null,
   "metadata": {},
   "outputs": [],
   "source": [
    "try:\n",
    "    sm_client.delete_model(ModelName=model_name_a)\n",
    "    sm_client.delete_model(ModelName=model_name_b)\n",
    "except:\n",
    "    pass"
   ]
  },
  {
   "cell_type": "code",
   "execution_count": null,
   "metadata": {},
   "outputs": [],
   "source": [
    "response = sm_client.create_model(\n",
    "    ModelName        = model_name_a,\n",
    "    ExecutionRoleArn = role,\n",
    "    Containers       = [container1])\n",
    "print(response)\n",
    "\n",
    "response = sm_client.create_model(\n",
    "    ModelName        = model_name_b,\n",
    "    ExecutionRoleArn = role,\n",
    "    Containers       = [container2])\n",
    "print(response)"
   ]
  },
  {
   "cell_type": "code",
   "execution_count": null,
   "metadata": {},
   "outputs": [],
   "source": [
    "from sagemaker.session import production_variant\n",
    "\n",
    "variant1 = production_variant(\n",
    "    model_name=model_name_a,\n",
    "    instance_type=\"ml.t2.medium\",\n",
    "    initial_instance_count=1,\n",
    "    variant_name='VariantA',\n",
    "    initial_weight=0.5\n",
    ")\n",
    "                              \n",
    "variant2 = production_variant(\n",
    "    model_name=model_name_b,\n",
    "    instance_type=\"ml.t2.medium\",\n",
    "    initial_instance_count=1,\n",
    "    variant_name='VariantB',\n",
    "    initial_weight=0.5\n",
    ")"
   ]
  },
  {
   "cell_type": "code",
   "execution_count": null,
   "metadata": {},
   "outputs": [],
   "source": [
    "session.endpoint_from_production_variants(\n",
    "    name=endpoint_name,\n",
    "    production_variants=[variant1, variant2]\n",
    ")"
   ]
  },
  {
   "cell_type": "code",
   "execution_count": null,
   "metadata": {},
   "outputs": [],
   "source": [
    "runtime_sm_client = boto3.client('sagemaker-runtime')"
   ]
  },
  {
   "cell_type": "code",
   "execution_count": null,
   "metadata": {},
   "outputs": [],
   "source": [
    "body = \"10,-5\""
   ]
  },
  {
   "cell_type": "code",
   "execution_count": null,
   "metadata": {},
   "outputs": [],
   "source": [
    "from time import sleep\n",
    "\n",
    "def test_ab_testing_setup():\n",
    "    response = runtime_sm_client.invoke_endpoint(\n",
    "        EndpointName=endpoint_name,\n",
    "        ContentType='text/csv',\n",
    "        Body=body\n",
    "    )\n",
    "    \n",
    "    variant = response['InvokedProductionVariant']\n",
    "    b = response['Body'].read()\n",
    "    prediction = b.decode(\"utf-8\")\n",
    "\n",
    "    print(variant + \" - \"+ prediction)\n",
    "\n",
    "for _ in range(0,10):\n",
    "    test_ab_testing_setup()\n",
    "    sleep(1)"
   ]
  },
  {
   "cell_type": "code",
   "execution_count": null,
   "metadata": {},
   "outputs": [],
   "source": [
    "def test_direct_call():\n",
    "    response = runtime_sm_client.invoke_endpoint(\n",
    "        EndpointName=endpoint_name,\n",
    "        ContentType='text/csv',\n",
    "        TargetVariant='VariantB',\n",
    "        Body=body\n",
    "    )\n",
    "\n",
    "    variant = response['InvokedProductionVariant']\n",
    "    b = response['Body'].read()\n",
    "    prediction = b.decode(\"utf-8\")\n",
    "\n",
    "    print(variant + \" - \"+ prediction)\n",
    "\n",
    "for _ in range(0,10):\n",
    "    test_direct_call()\n",
    "    sleep(1)"
   ]
  },
  {
   "cell_type": "code",
   "execution_count": null,
   "metadata": {},
   "outputs": [],
   "source": [
    "response = sm_client.delete_endpoint(\n",
    "    EndpointName=endpoint_name\n",
    ")\n",
    "\n",
    "response"
   ]
  }
 ],
 "metadata": {
  "instance_type": "ml.t3.medium",
  "kernelspec": {
   "display_name": "Python 3 (Data Science)",
   "language": "python",
   "name": "python3__SAGEMAKER_INTERNAL__arn:aws:sagemaker:us-east-1:081325390199:image/datascience-1.0"
  },
  "language_info": {
   "codemirror_mode": {
    "name": "ipython",
    "version": 3
   },
   "file_extension": ".py",
   "mimetype": "text/x-python",
   "name": "python",
   "nbconvert_exporter": "python",
   "pygments_lexer": "ipython3",
   "version": "3.7.10"
  }
 },
 "nbformat": 4,
 "nbformat_minor": 4
}
