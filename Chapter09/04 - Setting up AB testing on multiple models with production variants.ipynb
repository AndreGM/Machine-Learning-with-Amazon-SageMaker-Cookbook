{
 "cells": [
  {
   "cell_type": "code",
   "execution_count": 1,
   "metadata": {},
   "outputs": [],
   "source": [
    "%store -r model_a_s3_path\n",
    "%store -r model_b_s3_path"
   ]
  },
  {
   "cell_type": "code",
   "execution_count": 2,
   "metadata": {},
   "outputs": [],
   "source": [
    "%store -r s3_bucket\n",
    "%store -r prefix"
   ]
  },
  {
   "cell_type": "code",
   "execution_count": 3,
   "metadata": {},
   "outputs": [],
   "source": [
    "import sagemaker\n",
    "from sagemaker import get_execution_role\n",
    "\n",
    "session = sagemaker.Session()\n",
    "role = get_execution_role()"
   ]
  },
  {
   "cell_type": "code",
   "execution_count": 4,
   "metadata": {},
   "outputs": [
    {
     "data": {
      "text/plain": [
       "'683313688378.dkr.ecr.us-east-1.amazonaws.com/sagemaker-xgboost:0.90-2-cpu-py3'"
      ]
     },
     "execution_count": 4,
     "metadata": {},
     "output_type": "execute_result"
    }
   ],
   "source": [
    "from sagemaker.image_uris import retrieve\n",
    "\n",
    "image_uri = retrieve(\n",
    "    \"xgboost\", \n",
    "    region=\"us-east-1\", \n",
    "    version=\"0.90-2\"\n",
    ")\n",
    "\n",
    "image_uri"
   ]
  },
  {
   "cell_type": "code",
   "execution_count": 5,
   "metadata": {},
   "outputs": [],
   "source": [
    "image_uri_a = image_uri\n",
    "image_uri_b = image_uri"
   ]
  },
  {
   "cell_type": "code",
   "execution_count": 6,
   "metadata": {},
   "outputs": [],
   "source": [
    "container1 = { \n",
    "    'Image': image_uri_a,\n",
    "    'ContainerHostname': 'containerA',\n",
    "    'ModelDataUrl': model_a_s3_path\n",
    "}\n",
    "\n",
    "container2 = { \n",
    "    'Image': image_uri_b,\n",
    "    'ContainerHostname': 'containerB',\n",
    "    'ModelDataUrl': model_b_s3_path\n",
    "}"
   ]
  },
  {
   "cell_type": "code",
   "execution_count": 7,
   "metadata": {},
   "outputs": [],
   "source": [
    "model_name = \"ab-testing\"\n",
    "endpoint_config_name = 'ab-testing-config'\n",
    "endpoint_name = 'ab-testing-endpoint'"
   ]
  },
  {
   "cell_type": "code",
   "execution_count": 9,
   "metadata": {},
   "outputs": [],
   "source": [
    "import boto3\n",
    "sm_client = boto3.Session().client('sagemaker')"
   ]
  },
  {
   "cell_type": "code",
   "execution_count": 10,
   "metadata": {},
   "outputs": [],
   "source": [
    "model_name_a = \"ab-model-a\"\n",
    "model_name_b = \"ab-model-b\"\n",
    "endpoint_config_name = 'ab-endpoint-config'\n",
    "endpoint_name = 'ab-endpoint'"
   ]
  },
  {
   "cell_type": "code",
   "execution_count": 11,
   "metadata": {},
   "outputs": [],
   "source": [
    "try:\n",
    "    sm_client.delete_model(ModelName=model_name_a)\n",
    "    sm_client.delete_model(ModelName=model_name_b)\n",
    "except:\n",
    "    pass"
   ]
  },
  {
   "cell_type": "code",
   "execution_count": 12,
   "metadata": {},
   "outputs": [
    {
     "name": "stdout",
     "output_type": "stream",
     "text": [
      "{'ModelArn': 'arn:aws:sagemaker:us-east-1:581320662326:model/ab-model-a', 'ResponseMetadata': {'RequestId': '52a6a0cf-0f43-40d4-931b-1203c6536a34', 'HTTPStatusCode': 200, 'HTTPHeaders': {'x-amzn-requestid': '52a6a0cf-0f43-40d4-931b-1203c6536a34', 'content-type': 'application/x-amz-json-1.1', 'content-length': '72', 'date': 'Mon, 07 Jun 2021 17:45:15 GMT'}, 'RetryAttempts': 0}}\n",
      "{'ModelArn': 'arn:aws:sagemaker:us-east-1:581320662326:model/ab-model-b', 'ResponseMetadata': {'RequestId': 'd5e88ad9-eff0-4f63-983d-3ac817a7e040', 'HTTPStatusCode': 200, 'HTTPHeaders': {'x-amzn-requestid': 'd5e88ad9-eff0-4f63-983d-3ac817a7e040', 'content-type': 'application/x-amz-json-1.1', 'content-length': '72', 'date': 'Mon, 07 Jun 2021 17:45:16 GMT'}, 'RetryAttempts': 2}}\n"
     ]
    }
   ],
   "source": [
    "response = sm_client.create_model(\n",
    "    ModelName        = model_name_a,\n",
    "    ExecutionRoleArn = role,\n",
    "    Containers       = [container1])\n",
    "print(response)\n",
    "\n",
    "response = sm_client.create_model(\n",
    "    ModelName        = model_name_b,\n",
    "    ExecutionRoleArn = role,\n",
    "    Containers       = [container2])\n",
    "print(response)"
   ]
  },
  {
   "cell_type": "code",
   "execution_count": 13,
   "metadata": {},
   "outputs": [],
   "source": [
    "from sagemaker.session import production_variant\n",
    "\n",
    "variant1 = production_variant(\n",
    "    model_name=model_name_a,\n",
    "    instance_type=\"ml.t2.medium\",\n",
    "    initial_instance_count=1,\n",
    "    variant_name='VariantA',\n",
    "    initial_weight=0.5\n",
    ")\n",
    "                              \n",
    "variant2 = production_variant(\n",
    "    model_name=model_name_b,\n",
    "    instance_type=\"ml.t2.medium\",\n",
    "    initial_instance_count=1,\n",
    "    variant_name='VariantB',\n",
    "    initial_weight=0.5\n",
    ")"
   ]
  },
  {
   "cell_type": "code",
   "execution_count": 14,
   "metadata": {},
   "outputs": [
    {
     "name": "stdout",
     "output_type": "stream",
     "text": [
      "---------------------!"
     ]
    },
    {
     "data": {
      "text/plain": [
       "'ab-endpoint'"
      ]
     },
     "execution_count": 14,
     "metadata": {},
     "output_type": "execute_result"
    }
   ],
   "source": [
    "sagemaker_session.endpoint_from_production_variants(\n",
    "    name=endpoint_name,\n",
    "    production_variants=[variant1, variant2]\n",
    ")"
   ]
  },
  {
   "cell_type": "code",
   "execution_count": 15,
   "metadata": {},
   "outputs": [],
   "source": [
    "runtime_sm_client = boto3.client('sagemaker-runtime')"
   ]
  },
  {
   "cell_type": "code",
   "execution_count": 24,
   "metadata": {},
   "outputs": [],
   "source": [
    "body = \"10,-5\""
   ]
  },
  {
   "cell_type": "code",
   "execution_count": 26,
   "metadata": {},
   "outputs": [
    {
     "name": "stdout",
     "output_type": "stream",
     "text": [
      "VariantB - 0.8308258652687073\n",
      "VariantA - 0.895996630191803\n",
      "VariantB - 0.8308258652687073\n",
      "VariantB - 0.8308258652687073\n",
      "VariantA - 0.895996630191803\n",
      "VariantA - 0.895996630191803\n",
      "VariantA - 0.895996630191803\n",
      "VariantA - 0.895996630191803\n",
      "VariantB - 0.8308258652687073\n",
      "VariantB - 0.8308258652687073\n"
     ]
    }
   ],
   "source": [
    "from time import sleep\n",
    "\n",
    "def test_ab_testing_setup():\n",
    "    response = runtime_sm_client.invoke_endpoint(\n",
    "        EndpointName=endpoint_name,\n",
    "        ContentType='text/csv',\n",
    "        Body=body)\n",
    "    \n",
    "    variant = response['InvokedProductionVariant']\n",
    "    prediction = response['Body'].read().decode(\"utf-8\")\n",
    "\n",
    "    print(variant + \" - \"+ prediction)\n",
    "\n",
    "for _ in range(0,10):\n",
    "    test_ab_testing_setup()\n",
    "    sleep(1)"
   ]
  },
  {
   "cell_type": "code",
   "execution_count": 27,
   "metadata": {},
   "outputs": [
    {
     "name": "stdout",
     "output_type": "stream",
     "text": [
      "VariantB - 0.8308258652687073\n",
      "VariantB - 0.8308258652687073\n",
      "VariantB - 0.8308258652687073\n",
      "VariantB - 0.8308258652687073\n",
      "VariantB - 0.8308258652687073\n",
      "VariantB - 0.8308258652687073\n",
      "VariantB - 0.8308258652687073\n",
      "VariantB - 0.8308258652687073\n",
      "VariantB - 0.8308258652687073\n",
      "VariantB - 0.8308258652687073\n"
     ]
    }
   ],
   "source": [
    "def test_direct_call():\n",
    "    response = runtime_sm_client.invoke_endpoint(\n",
    "        EndpointName=endpoint_name,\n",
    "        ContentType='text/csv',\n",
    "        TargetVariant='VariantB',\n",
    "        Body=body)\n",
    "\n",
    "    variant = response['InvokedProductionVariant']\n",
    "    prediction = response['Body'].read().decode(\"utf-8\")\n",
    "\n",
    "    print(variant + \" - \"+ prediction)\n",
    "\n",
    "for _ in range(0,10):\n",
    "    test_direct_call()\n",
    "    sleep(1)"
   ]
  },
  {
   "cell_type": "code",
   "execution_count": 28,
   "metadata": {},
   "outputs": [
    {
     "data": {
      "text/plain": [
       "{'ResponseMetadata': {'RequestId': '842c0c49-78fc-4ada-8ff4-67ad5b2fea61',\n",
       "  'HTTPStatusCode': 200,\n",
       "  'HTTPHeaders': {'x-amzn-requestid': '842c0c49-78fc-4ada-8ff4-67ad5b2fea61',\n",
       "   'content-type': 'application/x-amz-json-1.1',\n",
       "   'content-length': '0',\n",
       "   'date': 'Mon, 07 Jun 2021 18:04:53 GMT'},\n",
       "  'RetryAttempts': 0}}"
      ]
     },
     "execution_count": 28,
     "metadata": {},
     "output_type": "execute_result"
    }
   ],
   "source": [
    "response = sm_client.delete_endpoint(\n",
    "    EndpointName=endpoint_name\n",
    ")\n",
    "\n",
    "response"
   ]
  }
 ],
 "metadata": {
  "instance_type": "ml.t3.medium",
  "kernelspec": {
   "display_name": "Python 3 (Data Science)",
   "language": "python",
   "name": "python3__SAGEMAKER_INTERNAL__arn:aws:sagemaker:us-east-1:081325390199:image/datascience-1.0"
  },
  "language_info": {
   "codemirror_mode": {
    "name": "ipython",
    "version": 3
   },
   "file_extension": ".py",
   "mimetype": "text/x-python",
   "name": "python",
   "nbconvert_exporter": "python",
   "pygments_lexer": "ipython3",
   "version": "3.7.10"
  }
 },
 "nbformat": 4,
 "nbformat_minor": 4
}
