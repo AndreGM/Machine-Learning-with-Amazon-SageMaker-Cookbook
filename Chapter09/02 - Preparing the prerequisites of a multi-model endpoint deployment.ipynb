{
 "cells": [
  {
   "cell_type": "code",
   "execution_count": 13,
   "metadata": {},
   "outputs": [],
   "source": [
    "path = \"https://github.com/PacktPublishing/\" + \\\n",
    "    \"Amazon-SageMaker-Cookbook/raw/master/\" + \\\n",
    "    \"Chapter09/files/\""
   ]
  },
  {
   "cell_type": "code",
   "execution_count": 14,
   "metadata": {
    "scrolled": true
   },
   "outputs": [
    {
     "name": "stdout",
     "output_type": "stream",
     "text": [
      "--2021-06-07 17:49:25--  https://github.com/PacktPublishing/Amazon-SageMaker-Cookbook/raw/master/Chapter09/files/model.a.tar.gz\n",
      "Resolving github.com (github.com)... 140.82.113.4\n",
      "Connecting to github.com (github.com)|140.82.113.4|:443... connected.\n",
      "HTTP request sent, awaiting response... 302 Found\n",
      "Location: https://raw.githubusercontent.com/PacktPublishing/Amazon-SageMaker-Cookbook/master/Chapter09/files/model.a.tar.gz [following]\n",
      "--2021-06-07 17:49:25--  https://raw.githubusercontent.com/PacktPublishing/Amazon-SageMaker-Cookbook/master/Chapter09/files/model.a.tar.gz\n",
      "Resolving raw.githubusercontent.com (raw.githubusercontent.com)... 185.199.108.133, 185.199.109.133, 185.199.110.133, ...\n",
      "Connecting to raw.githubusercontent.com (raw.githubusercontent.com)|185.199.108.133|:443... connected.\n",
      "HTTP request sent, awaiting response... 200 OK\n",
      "Length: 14533 (14K) [application/octet-stream]\n",
      "Saving to: ‘tmp/model.a.tar.gz’\n",
      "\n",
      "tmp/model.a.tar.gz  100%[===================>]  14.19K  --.-KB/s    in 0s      \n",
      "\n",
      "2021-06-07 17:49:25 (89.4 MB/s) - ‘tmp/model.a.tar.gz’ saved [14533/14533]\n",
      "\n",
      "--2021-06-07 17:49:25--  https://github.com/PacktPublishing/Amazon-SageMaker-Cookbook/raw/master/Chapter09/files/model.b.tar.gz\n",
      "Resolving github.com (github.com)... 140.82.113.4\n",
      "Connecting to github.com (github.com)|140.82.113.4|:443... connected.\n",
      "HTTP request sent, awaiting response... 302 Found\n",
      "Location: https://raw.githubusercontent.com/PacktPublishing/Amazon-SageMaker-Cookbook/master/Chapter09/files/model.b.tar.gz [following]\n",
      "--2021-06-07 17:49:25--  https://raw.githubusercontent.com/PacktPublishing/Amazon-SageMaker-Cookbook/master/Chapter09/files/model.b.tar.gz\n",
      "Resolving raw.githubusercontent.com (raw.githubusercontent.com)... 185.199.111.133, 185.199.110.133, 185.199.109.133, ...\n",
      "Connecting to raw.githubusercontent.com (raw.githubusercontent.com)|185.199.111.133|:443... connected.\n",
      "HTTP request sent, awaiting response... 200 OK\n",
      "Length: 1631 (1.6K) [application/octet-stream]\n",
      "Saving to: ‘tmp/model.b.tar.gz’\n",
      "\n",
      "tmp/model.b.tar.gz  100%[===================>]   1.59K  --.-KB/s    in 0s      \n",
      "\n",
      "2021-06-07 17:49:26 (24.2 MB/s) - ‘tmp/model.b.tar.gz’ saved [1631/1631]\n",
      "\n"
     ]
    }
   ],
   "source": [
    "pretrained_model_a = path + \"model.a.tar.gz\"\n",
    "pretrained_model_b = path + \"model.b.tar.gz\"\n",
    "!wget -O tmp/model.a.tar.gz {pretrained_model_a}\n",
    "!wget -O tmp/model.b.tar.gz {pretrained_model_b}"
   ]
  },
  {
   "cell_type": "code",
   "execution_count": 15,
   "metadata": {},
   "outputs": [],
   "source": [
    "s3_bucket = \"sagemaker-cookbook-bucket\"\n",
    "prefix = \"chapter09\""
   ]
  },
  {
   "cell_type": "code",
   "execution_count": 16,
   "metadata": {},
   "outputs": [],
   "source": [
    "a = f\"s3://{s3_bucket}/{prefix}/files/model.a.tar.gz\"\n",
    "b = f\"s3://{s3_bucket}/{prefix}/files/model.b.tar.gz\""
   ]
  },
  {
   "cell_type": "code",
   "execution_count": 17,
   "metadata": {},
   "outputs": [
    {
     "name": "stdout",
     "output_type": "stream",
     "text": [
      "upload: tmp/model.a.tar.gz to s3://sagemaker-cookbook-bucket/chapter09/files/model.a.tar.gz\n",
      "upload: tmp/model.b.tar.gz to s3://sagemaker-cookbook-bucket/chapter09/files/model.b.tar.gz\n"
     ]
    }
   ],
   "source": [
    "!aws s3 cp tmp/model.a.tar.gz {a}\n",
    "!aws s3 cp tmp/model.b.tar.gz {b}"
   ]
  },
  {
   "cell_type": "code",
   "execution_count": 18,
   "metadata": {},
   "outputs": [
    {
     "name": "stdout",
     "output_type": "stream",
     "text": [
      "Stored 'model_a_s3_path' (str)\n",
      "Stored 'model_b_s3_path' (str)\n"
     ]
    }
   ],
   "source": [
    "model_a_s3_path = a\n",
    "model_b_s3_path = b\n",
    "\n",
    "%store model_a_s3_path\n",
    "%store model_b_s3_path"
   ]
  },
  {
   "cell_type": "code",
   "execution_count": 19,
   "metadata": {},
   "outputs": [
    {
     "name": "stdout",
     "output_type": "stream",
     "text": [
      "Stored 's3_bucket' (str)\n",
      "Stored 'prefix' (str)\n"
     ]
    }
   ],
   "source": [
    "%store s3_bucket\n",
    "%store prefix"
   ]
  }
 ],
 "metadata": {
  "instance_type": "ml.t3.medium",
  "kernelspec": {
   "display_name": "Python 3 (Data Science)",
   "language": "python",
   "name": "python3__SAGEMAKER_INTERNAL__arn:aws:sagemaker:us-east-1:081325390199:image/datascience-1.0"
  },
  "language_info": {
   "codemirror_mode": {
    "name": "ipython",
    "version": 3
   },
   "file_extension": ".py",
   "mimetype": "text/x-python",
   "name": "python",
   "nbconvert_exporter": "python",
   "pygments_lexer": "ipython3",
   "version": "3.7.10"
  }
 },
 "nbformat": 4,
 "nbformat_minor": 4
}
