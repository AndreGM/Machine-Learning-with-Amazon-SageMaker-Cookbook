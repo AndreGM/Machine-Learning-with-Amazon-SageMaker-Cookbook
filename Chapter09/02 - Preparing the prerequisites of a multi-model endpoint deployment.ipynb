{
 "cells": [
  {
   "cell_type": "markdown",
   "metadata": {},
   "source": [
    "# Preparing the prerequisites of a multi-model endpoint deployment "
   ]
  },
  {
   "cell_type": "markdown",
   "metadata": {},
   "source": [
    "<img align=\"left\" width=\"130\" src=\"https://raw.githubusercontent.com/PacktPublishing/Amazon-SageMaker-Cookbook/master/Extra/cover-small-padded.png\"/>\n",
    "\n",
    "This notebook contains the code to help readers work through one of the recipes of the book [Machine Learning with Amazon SageMaker Cookbook: 80 proven recipes for data scientists and developers to perform ML experiments and deployments](https://www.amazon.com/Machine-Learning-Amazon-SageMaker-Cookbook/dp/1800567030)"
   ]
  },
  {
   "cell_type": "markdown",
   "metadata": {},
   "source": [
    "### How to do it..."
   ]
  },
  {
   "cell_type": "code",
   "execution_count": null,
   "metadata": {},
   "outputs": [],
   "source": [
    "path = \"https://github.com/PacktPublishing/\" + \\\n",
    "    \"Amazon-SageMaker-Cookbook/raw/master/\" + \\\n",
    "    \"Chapter09/files/\""
   ]
  },
  {
   "cell_type": "code",
   "execution_count": null,
   "metadata": {
    "scrolled": true
   },
   "outputs": [],
   "source": [
    "pretrained_model_a = path + \"model.a.tar.gz\"\n",
    "pretrained_model_b = path + \"model.b.tar.gz\"\n",
    "!wget -O tmp/model.a.tar.gz {pretrained_model_a}\n",
    "!wget -O tmp/model.b.tar.gz {pretrained_model_b}"
   ]
  },
  {
   "cell_type": "code",
   "execution_count": null,
   "metadata": {},
   "outputs": [],
   "source": [
    "s3_bucket = \"sagemaker-cookbook-bucket\"\n",
    "prefix = \"chapter09\""
   ]
  },
  {
   "cell_type": "code",
   "execution_count": null,
   "metadata": {},
   "outputs": [],
   "source": [
    "m_a = \"files/model.a.tar.gz\"\n",
    "m_b = \"files/model.b.tar.gz\"\n",
    "a = f\"s3://{s3_bucket}/{prefix}/{m_a}\"\n",
    "b = f\"s3://{s3_bucket}/{prefix}/{m_b}\""
   ]
  },
  {
   "cell_type": "code",
   "execution_count": null,
   "metadata": {},
   "outputs": [],
   "source": [
    "!aws s3 cp tmp/model.a.tar.gz {a}\n",
    "!aws s3 cp tmp/model.b.tar.gz {b}"
   ]
  },
  {
   "cell_type": "code",
   "execution_count": null,
   "metadata": {},
   "outputs": [],
   "source": [
    "model_a_s3_path = a\n",
    "model_b_s3_path = b\n",
    "\n",
    "%store model_a_s3_path\n",
    "%store model_b_s3_path"
   ]
  },
  {
   "cell_type": "code",
   "execution_count": null,
   "metadata": {},
   "outputs": [],
   "source": [
    "%store s3_bucket\n",
    "%store prefix"
   ]
  }
 ],
 "metadata": {
  "instance_type": "ml.t3.medium",
  "kernelspec": {
   "display_name": "Python 3 (Data Science)",
   "language": "python",
   "name": "python3__SAGEMAKER_INTERNAL__arn:aws:sagemaker:us-east-1:081325390199:image/datascience-1.0"
  },
  "language_info": {
   "codemirror_mode": {
    "name": "ipython",
    "version": 3
   },
   "file_extension": ".py",
   "mimetype": "text/x-python",
   "name": "python",
   "nbconvert_exporter": "python",
   "pygments_lexer": "ipython3",
   "version": "3.7.10"
  }
 },
 "nbformat": 4,
 "nbformat_minor": 4
}
