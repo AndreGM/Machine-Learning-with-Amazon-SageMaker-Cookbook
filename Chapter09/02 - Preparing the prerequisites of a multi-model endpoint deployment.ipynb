{
 "cells": [
  {
   "cell_type": "code",
   "execution_count": 1,
   "metadata": {},
   "outputs": [],
   "source": [
    "source_path = \"https://github.com/PacktPublishing/\" + \\\n",
    "    \"Amazon-SageMaker-Cookbook/raw/master/\" + \\\n",
    "    \"Chapter12/files/\""
   ]
  },
  {
   "cell_type": "code",
   "execution_count": 2,
   "metadata": {},
   "outputs": [
    {
     "name": "stdout",
     "output_type": "stream",
     "text": [
      "--2021-06-07 17:13:20--  https://github.com/PacktPublishing/Amazon-SageMaker-Cookbook/raw/master/Chapter12/files/model.xgboost-1.tar.gz\n",
      "Resolving github.com (github.com)... 140.82.114.3\n",
      "Connecting to github.com (github.com)|140.82.114.3|:443... connected.\n",
      "HTTP request sent, awaiting response... 302 Found\n",
      "Location: https://raw.githubusercontent.com/PacktPublishing/Amazon-SageMaker-Cookbook/master/Chapter12/files/model.xgboost-1.tar.gz [following]\n",
      "--2021-06-07 17:13:20--  https://raw.githubusercontent.com/PacktPublishing/Amazon-SageMaker-Cookbook/master/Chapter12/files/model.xgboost-1.tar.gz\n",
      "Resolving raw.githubusercontent.com (raw.githubusercontent.com)... 185.199.108.133, 185.199.109.133, 185.199.110.133, ...\n",
      "Connecting to raw.githubusercontent.com (raw.githubusercontent.com)|185.199.108.133|:443... connected.\n",
      "HTTP request sent, awaiting response... 200 OK\n",
      "Length: 14533 (14K) [application/octet-stream]\n",
      "Saving to: ‘files/model.a.tar.gz’\n",
      "\n",
      "files/model.a.tar.g 100%[===================>]  14.19K  --.-KB/s    in 0s      \n",
      "\n",
      "2021-06-07 17:13:20 (73.7 MB/s) - ‘files/model.a.tar.gz’ saved [14533/14533]\n",
      "\n",
      "--2021-06-07 17:13:21--  https://github.com/PacktPublishing/Amazon-SageMaker-Cookbook/raw/master/Chapter12/files/model.xgboost-2.tar.gz\n",
      "Resolving github.com (github.com)... 140.82.114.3\n",
      "Connecting to github.com (github.com)|140.82.114.3|:443... connected.\n",
      "HTTP request sent, awaiting response... 302 Found\n",
      "Location: https://raw.githubusercontent.com/PacktPublishing/Amazon-SageMaker-Cookbook/master/Chapter12/files/model.xgboost-2.tar.gz [following]\n",
      "--2021-06-07 17:13:21--  https://raw.githubusercontent.com/PacktPublishing/Amazon-SageMaker-Cookbook/master/Chapter12/files/model.xgboost-2.tar.gz\n",
      "Resolving raw.githubusercontent.com (raw.githubusercontent.com)... 185.199.111.133, 185.199.110.133, 185.199.109.133, ...\n",
      "Connecting to raw.githubusercontent.com (raw.githubusercontent.com)|185.199.111.133|:443... connected.\n",
      "HTTP request sent, awaiting response... 200 OK\n",
      "Length: 1631 (1.6K) [application/octet-stream]\n",
      "Saving to: ‘files/model.b.tar.gz’\n",
      "\n",
      "files/model.b.tar.g 100%[===================>]   1.59K  --.-KB/s    in 0s      \n",
      "\n",
      "2021-06-07 17:13:21 (30.5 MB/s) - ‘files/model.b.tar.gz’ saved [1631/1631]\n",
      "\n"
     ]
    }
   ],
   "source": [
    "pretrained_model_file_a = source_path + \"model.xgboost-1.tar.gz\"\n",
    "pretrained_model_file_b = source_path + \"model.xgboost-2.tar.gz\"\n",
    "!wget -O files/model.a.tar.gz {pretrained_model_file_a}\n",
    "!wget -O files/model.b.tar.gz {pretrained_model_file_b}"
   ]
  },
  {
   "cell_type": "code",
   "execution_count": null,
   "metadata": {},
   "outputs": [],
   "source": []
  }
 ],
 "metadata": {
  "instance_type": "ml.t3.medium",
  "kernelspec": {
   "display_name": "Python 3 (Data Science)",
   "language": "python",
   "name": "python3__SAGEMAKER_INTERNAL__arn:aws:sagemaker:us-east-1:081325390199:image/datascience-1.0"
  },
  "language_info": {
   "codemirror_mode": {
    "name": "ipython",
    "version": 3
   },
   "file_extension": ".py",
   "mimetype": "text/x-python",
   "name": "python",
   "nbconvert_exporter": "python",
   "pygments_lexer": "ipython3",
   "version": "3.7.10"
  }
 },
 "nbformat": 4,
 "nbformat_minor": 4
}
