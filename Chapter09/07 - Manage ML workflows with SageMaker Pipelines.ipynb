{
 "cells": [
  {
   "cell_type": "code",
   "execution_count": 62,
   "metadata": {},
   "outputs": [],
   "source": [
    "!mkdir -p tmp"
   ]
  },
  {
   "cell_type": "code",
   "execution_count": 63,
   "metadata": {},
   "outputs": [],
   "source": [
    "path = \"https://raw.githubusercontent.com/PacktPublishing/Amazon-SageMaker-Cookbook/master/Chapter01/files\""
   ]
  },
  {
   "cell_type": "code",
   "execution_count": 64,
   "metadata": {},
   "outputs": [
    {
     "name": "stdout",
     "output_type": "stream",
     "text": [
      "--2021-06-08 01:59:53--  https://raw.githubusercontent.com/PacktPublishing/Amazon-SageMaker-Cookbook/master/Chapter01/files/management_experience_and_salary.csv\n",
      "Resolving raw.githubusercontent.com (raw.githubusercontent.com)... 185.199.109.133, 185.199.108.133, 185.199.111.133, ...\n",
      "Connecting to raw.githubusercontent.com (raw.githubusercontent.com)|185.199.109.133|:443... connected.\n",
      "HTTP request sent, awaiting response... 200 OK\n",
      "Length: 331 [text/plain]\n",
      "Saving to: ‘tmp/management_experience_and_salary.csv.2’\n",
      "\n",
      "management_experien 100%[===================>]     331  --.-KB/s    in 0s      \n",
      "\n",
      "2021-06-08 01:59:53 (10.3 MB/s) - ‘tmp/management_experience_and_salary.csv.2’ saved [331/331]\n",
      "\n"
     ]
    }
   ],
   "source": [
    "!wget -P tmp {path}/management_experience_and_salary.csv"
   ]
  },
  {
   "cell_type": "code",
   "execution_count": 65,
   "metadata": {},
   "outputs": [],
   "source": [
    "s3_bucket = 'sagemaker-cookbook-bucket'\n",
    "prefix = 'chapter09'\n",
    "\n",
    "input_data_uri = f\"s3://{s3_bucket}/{prefix}/input/management_experience_and_salary.csv\""
   ]
  },
  {
   "cell_type": "code",
   "execution_count": 66,
   "metadata": {},
   "outputs": [
    {
     "name": "stdout",
     "output_type": "stream",
     "text": [
      "upload: tmp/management_experience_and_salary.csv to s3://sagemaker-cookbook-bucket/chapter09/input/management_experience_and_salary.csv\n"
     ]
    }
   ],
   "source": [
    "!aws s3 cp tmp/management_experience_and_salary.csv {input_data_uri}"
   ]
  },
  {
   "cell_type": "code",
   "execution_count": 67,
   "metadata": {},
   "outputs": [],
   "source": [
    "from sagemaker.workflow.parameters import (\n",
    "    ParameterInteger,\n",
    "    ParameterString,\n",
    ")\n",
    "\n",
    "processing_instance_type = ParameterString(\n",
    "    name=\"ProcessingInstanceType\", \n",
    "    default_value=\"ml.m5.xlarge\"\n",
    ")\n",
    "\n",
    "training_instance_type = ParameterString(\n",
    "    name=\"TrainingInstanceType\", \n",
    "    default_value=\"ml.m5.xlarge\"\n",
    ")\n",
    "\n",
    "input_data = ParameterString(\n",
    "    name=\"InputData\",\n",
    "    default_value=input_data_uri,\n",
    ")"
   ]
  },
  {
   "cell_type": "code",
   "execution_count": 68,
   "metadata": {},
   "outputs": [],
   "source": [
    "from sagemaker import get_execution_role \n",
    "\n",
    "role = get_execution_role()"
   ]
  },
  {
   "cell_type": "code",
   "execution_count": 69,
   "metadata": {},
   "outputs": [],
   "source": [
    "path = \"https://raw.githubusercontent.com/PacktPublishing/Amazon-SageMaker-Cookbook/master/Chapter09/scripts\""
   ]
  },
  {
   "cell_type": "code",
   "execution_count": 70,
   "metadata": {},
   "outputs": [
    {
     "name": "stdout",
     "output_type": "stream",
     "text": [
      "--2021-06-08 01:59:55--  https://raw.githubusercontent.com/PacktPublishing/Amazon-SageMaker-Cookbook/master/Chapter09/scripts/preprocessing.py\n",
      "Resolving raw.githubusercontent.com (raw.githubusercontent.com)... 185.199.110.133, 185.199.109.133, 185.199.108.133, ...\n",
      "Connecting to raw.githubusercontent.com (raw.githubusercontent.com)|185.199.110.133|:443... connected.\n",
      "HTTP request sent, awaiting response... 200 OK\n",
      "Length: 793 [text/plain]\n",
      "Saving to: ‘tmp/preprocessing.py.1’\n",
      "\n",
      "preprocessing.py.1  100%[===================>]     793  --.-KB/s    in 0s      \n",
      "\n",
      "2021-06-08 01:59:55 (29.1 MB/s) - ‘tmp/preprocessing.py.1’ saved [793/793]\n",
      "\n"
     ]
    }
   ],
   "source": [
    "!wget -P tmp {path}/preprocessing.py"
   ]
  },
  {
   "cell_type": "code",
   "execution_count": 71,
   "metadata": {},
   "outputs": [],
   "source": [
    "from sagemaker.sklearn.processing import SKLearnProcessor\n",
    "\n",
    "framework_version = \"0.23-1\"\n",
    "\n",
    "sklearn_processor = SKLearnProcessor(\n",
    "    framework_version=framework_version,\n",
    "    instance_type=processing_instance_type,\n",
    "    instance_count=1,\n",
    "    role=role,\n",
    ")"
   ]
  },
  {
   "cell_type": "code",
   "execution_count": 72,
   "metadata": {},
   "outputs": [],
   "source": [
    "from sagemaker.processing import ProcessingInput, ProcessingOutput\n",
    "from sagemaker.workflow.steps import ProcessingStep\n",
    "\n",
    "\n",
    "step_process = ProcessingStep(\n",
    "    name=\"ProcessingStep\",\n",
    "    processor=sklearn_processor,\n",
    "    inputs=[\n",
    "        ProcessingInput(source=input_data, destination=\"/opt/ml/processing/input\"),\n",
    "    ],\n",
    "    outputs=[\n",
    "        ProcessingOutput(output_name=\"output\", source=\"/opt/ml/processing/output\"),\n",
    "    ],\n",
    "    code=\"tmp/preprocessing.py\",\n",
    ")"
   ]
  },
  {
   "cell_type": "code",
   "execution_count": 73,
   "metadata": {},
   "outputs": [],
   "source": [
    "import sagemaker \n",
    "import boto3\n",
    "from sagemaker import get_execution_role \n",
    "\n",
    "role = get_execution_role()\n",
    "session = sagemaker.Session()\n",
    "region_name = boto3.Session().region_name"
   ]
  },
  {
   "cell_type": "code",
   "execution_count": 74,
   "metadata": {},
   "outputs": [],
   "source": [
    "from sagemaker.image_uris import retrieve \n",
    "\n",
    "model_path = f\"s3://{s3_bucket}/{prefix}/model\"\n",
    "\n",
    "container = retrieve(\n",
    "    \"linear-learner\", \n",
    "    region_name, \"1\"\n",
    ")\n",
    "\n",
    "estimator = sagemaker.estimator.Estimator(\n",
    "    container,\n",
    "    role, \n",
    "    instance_count=1, \n",
    "    instance_type='ml.m5.xlarge',\n",
    "    output_path=model_path,\n",
    "    sagemaker_session=session\n",
    ")\n",
    "\n",
    "estimator.set_hyperparameters(\n",
    "    predictor_type='regressor', \n",
    "    mini_batch_size=4\n",
    ")"
   ]
  },
  {
   "cell_type": "code",
   "execution_count": 75,
   "metadata": {},
   "outputs": [],
   "source": [
    "from sagemaker.inputs import TrainingInput\n",
    "from sagemaker.workflow.steps import TrainingStep\n",
    "\n",
    "s3_input_data = step_process.properties.ProcessingOutputConfig.Outputs[\"output\"].S3Output.S3Uri\n",
    "\n",
    "step_train = TrainingStep(\n",
    "    name=\"TrainStep\",\n",
    "    estimator=estimator,\n",
    "    inputs={\n",
    "        \"train\": TrainingInput(\n",
    "            s3_data=s3_input_data,\n",
    "            content_type=\"text/csv\",\n",
    "        )\n",
    "    },\n",
    ")"
   ]
  },
  {
   "cell_type": "code",
   "execution_count": 76,
   "metadata": {},
   "outputs": [],
   "source": [
    "from sagemaker.workflow.pipeline import Pipeline\n",
    "\n",
    "pipeline_name = f\"Pipeline\"\n",
    "pipeline = Pipeline(\n",
    "    name=pipeline_name,\n",
    "    parameters=[\n",
    "        processing_instance_type,\n",
    "        training_instance_type,\n",
    "        input_data,\n",
    "    ],\n",
    "    steps=[step_process, step_train],\n",
    ")"
   ]
  },
  {
   "cell_type": "code",
   "execution_count": 77,
   "metadata": {},
   "outputs": [
    {
     "data": {
      "text/plain": [
       "{'PipelineArn': 'arn:aws:sagemaker:us-east-1:581320662326:pipeline/pipeline',\n",
       " 'ResponseMetadata': {'RequestId': '706ca26a-c936-4c92-93be-2b79d9c2f253',\n",
       "  'HTTPStatusCode': 200,\n",
       "  'HTTPHeaders': {'x-amzn-requestid': '706ca26a-c936-4c92-93be-2b79d9c2f253',\n",
       "   'content-type': 'application/x-amz-json-1.1',\n",
       "   'content-length': '76',\n",
       "   'date': 'Tue, 08 Jun 2021 01:59:56 GMT'},\n",
       "  'RetryAttempts': 0}}"
      ]
     },
     "execution_count": 77,
     "metadata": {},
     "output_type": "execute_result"
    }
   ],
   "source": [
    "pipeline.upsert(role_arn=role)"
   ]
  },
  {
   "cell_type": "code",
   "execution_count": 78,
   "metadata": {},
   "outputs": [],
   "source": [
    "execution = pipeline.start()"
   ]
  },
  {
   "cell_type": "code",
   "execution_count": 79,
   "metadata": {},
   "outputs": [
    {
     "data": {
      "text/plain": [
       "{'PipelineArn': 'arn:aws:sagemaker:us-east-1:581320662326:pipeline/pipeline',\n",
       " 'PipelineExecutionArn': 'arn:aws:sagemaker:us-east-1:581320662326:pipeline/pipeline/execution/5tq9cptlv67x',\n",
       " 'PipelineExecutionDisplayName': 'execution-1623117597042',\n",
       " 'PipelineExecutionStatus': 'Executing',\n",
       " 'CreationTime': datetime.datetime(2021, 6, 8, 1, 59, 56, 930000, tzinfo=tzlocal()),\n",
       " 'LastModifiedTime': datetime.datetime(2021, 6, 8, 1, 59, 56, 930000, tzinfo=tzlocal()),\n",
       " 'CreatedBy': {'UserProfileArn': 'arn:aws:sagemaker:us-east-1:581320662326:user-profile/d-rgvubtsq1vug/arvs',\n",
       "  'UserProfileName': 'arvs',\n",
       "  'DomainId': 'd-rgvubtsq1vug'},\n",
       " 'LastModifiedBy': {'UserProfileArn': 'arn:aws:sagemaker:us-east-1:581320662326:user-profile/d-rgvubtsq1vug/arvs',\n",
       "  'UserProfileName': 'arvs',\n",
       "  'DomainId': 'd-rgvubtsq1vug'},\n",
       " 'ResponseMetadata': {'RequestId': '806a83a6-a7b6-496b-8379-69f018828ef2',\n",
       "  'HTTPStatusCode': 200,\n",
       "  'HTTPHeaders': {'x-amzn-requestid': '806a83a6-a7b6-496b-8379-69f018828ef2',\n",
       "   'content-type': 'application/x-amz-json-1.1',\n",
       "   'content-length': '669',\n",
       "   'date': 'Tue, 08 Jun 2021 01:59:57 GMT'},\n",
       "  'RetryAttempts': 0}}"
      ]
     },
     "execution_count": 79,
     "metadata": {},
     "output_type": "execute_result"
    }
   ],
   "source": [
    "execution.describe()"
   ]
  },
  {
   "cell_type": "code",
   "execution_count": 80,
   "metadata": {},
   "outputs": [],
   "source": [
    "execution.wait()"
   ]
  },
  {
   "cell_type": "code",
   "execution_count": 81,
   "metadata": {},
   "outputs": [
    {
     "data": {
      "text/plain": [
       "[{'StepName': 'TrainStep',\n",
       "  'StartTime': datetime.datetime(2021, 6, 8, 2, 4, 27, 529000, tzinfo=tzlocal()),\n",
       "  'EndTime': datetime.datetime(2021, 6, 8, 2, 8, 24, 184000, tzinfo=tzlocal()),\n",
       "  'StepStatus': 'Succeeded',\n",
       "  'Metadata': {'TrainingJob': {'Arn': 'arn:aws:sagemaker:us-east-1:581320662326:training-job/pipelines-5tq9cptlv67x-trainstep-owbouy86xs'}}},\n",
       " {'StepName': 'ProcessingStep',\n",
       "  'StartTime': datetime.datetime(2021, 6, 8, 1, 59, 58, 6000, tzinfo=tzlocal()),\n",
       "  'EndTime': datetime.datetime(2021, 6, 8, 2, 4, 27, 180000, tzinfo=tzlocal()),\n",
       "  'StepStatus': 'Succeeded',\n",
       "  'Metadata': {'ProcessingJob': {'Arn': 'arn:aws:sagemaker:us-east-1:581320662326:processing-job/pipelines-5tq9cptlv67x-processingstep-pahg14xjvs'}}}]"
      ]
     },
     "execution_count": 81,
     "metadata": {},
     "output_type": "execute_result"
    }
   ],
   "source": [
    "execution.list_steps()"
   ]
  },
  {
   "cell_type": "code",
   "execution_count": 82,
   "metadata": {},
   "outputs": [
    {
     "name": "stdout",
     "output_type": "stream",
     "text": [
      "{'StepName': 'ProcessingStep', 'StartTime': datetime.datetime(2021, 6, 8, 1, 59, 58, 6000, tzinfo=tzlocal()), 'EndTime': datetime.datetime(2021, 6, 8, 2, 4, 27, 180000, tzinfo=tzlocal()), 'StepStatus': 'Succeeded', 'Metadata': {'ProcessingJob': {'Arn': 'arn:aws:sagemaker:us-east-1:581320662326:processing-job/pipelines-5tq9cptlv67x-processingstep-pahg14xjvs'}}}\n"
     ]
    },
    {
     "data": {
      "text/html": [
       "<div>\n",
       "<style scoped>\n",
       "    .dataframe tbody tr th:only-of-type {\n",
       "        vertical-align: middle;\n",
       "    }\n",
       "\n",
       "    .dataframe tbody tr th {\n",
       "        vertical-align: top;\n",
       "    }\n",
       "\n",
       "    .dataframe thead th {\n",
       "        text-align: right;\n",
       "    }\n",
       "</style>\n",
       "<table border=\"1\" class=\"dataframe\">\n",
       "  <thead>\n",
       "    <tr style=\"text-align: right;\">\n",
       "      <th></th>\n",
       "      <th>Name/Source</th>\n",
       "      <th>Direction</th>\n",
       "      <th>Type</th>\n",
       "      <th>Association Type</th>\n",
       "      <th>Lineage Type</th>\n",
       "    </tr>\n",
       "  </thead>\n",
       "  <tbody>\n",
       "    <tr>\n",
       "      <th>0</th>\n",
       "      <td>s3://...01-59-56-071/input/code/preprocessing.py</td>\n",
       "      <td>Input</td>\n",
       "      <td>DataSet</td>\n",
       "      <td>ContributedTo</td>\n",
       "      <td>artifact</td>\n",
       "    </tr>\n",
       "    <tr>\n",
       "      <th>1</th>\n",
       "      <td>s3://...put/management_experience_and_salary.csv</td>\n",
       "      <td>Input</td>\n",
       "      <td>DataSet</td>\n",
       "      <td>ContributedTo</td>\n",
       "      <td>artifact</td>\n",
       "    </tr>\n",
       "    <tr>\n",
       "      <th>2</th>\n",
       "      <td>68331...om/sagemaker-scikit-learn:0.23-1-cpu-py3</td>\n",
       "      <td>Input</td>\n",
       "      <td>Image</td>\n",
       "      <td>ContributedTo</td>\n",
       "      <td>artifact</td>\n",
       "    </tr>\n",
       "    <tr>\n",
       "      <th>3</th>\n",
       "      <td>s3://...rn-2021-06-08-01-59-56-071/output/output</td>\n",
       "      <td>Output</td>\n",
       "      <td>DataSet</td>\n",
       "      <td>Produced</td>\n",
       "      <td>artifact</td>\n",
       "    </tr>\n",
       "  </tbody>\n",
       "</table>\n",
       "</div>"
      ],
      "text/plain": [
       "                                        Name/Source Direction     Type  \\\n",
       "0  s3://...01-59-56-071/input/code/preprocessing.py     Input  DataSet   \n",
       "1  s3://...put/management_experience_and_salary.csv     Input  DataSet   \n",
       "2  68331...om/sagemaker-scikit-learn:0.23-1-cpu-py3     Input    Image   \n",
       "3  s3://...rn-2021-06-08-01-59-56-071/output/output    Output  DataSet   \n",
       "\n",
       "  Association Type Lineage Type  \n",
       "0    ContributedTo     artifact  \n",
       "1    ContributedTo     artifact  \n",
       "2    ContributedTo     artifact  \n",
       "3         Produced     artifact  "
      ]
     },
     "metadata": {},
     "output_type": "display_data"
    },
    {
     "name": "stdout",
     "output_type": "stream",
     "text": [
      "{'StepName': 'TrainStep', 'StartTime': datetime.datetime(2021, 6, 8, 2, 4, 27, 529000, tzinfo=tzlocal()), 'EndTime': datetime.datetime(2021, 6, 8, 2, 8, 24, 184000, tzinfo=tzlocal()), 'StepStatus': 'Succeeded', 'Metadata': {'TrainingJob': {'Arn': 'arn:aws:sagemaker:us-east-1:581320662326:training-job/pipelines-5tq9cptlv67x-trainstep-owbouy86xs'}}}\n"
     ]
    },
    {
     "data": {
      "text/html": [
       "<div>\n",
       "<style scoped>\n",
       "    .dataframe tbody tr th:only-of-type {\n",
       "        vertical-align: middle;\n",
       "    }\n",
       "\n",
       "    .dataframe tbody tr th {\n",
       "        vertical-align: top;\n",
       "    }\n",
       "\n",
       "    .dataframe thead th {\n",
       "        text-align: right;\n",
       "    }\n",
       "</style>\n",
       "<table border=\"1\" class=\"dataframe\">\n",
       "  <thead>\n",
       "    <tr style=\"text-align: right;\">\n",
       "      <th></th>\n",
       "      <th>Name/Source</th>\n",
       "      <th>Direction</th>\n",
       "      <th>Type</th>\n",
       "      <th>Association Type</th>\n",
       "      <th>Lineage Type</th>\n",
       "    </tr>\n",
       "  </thead>\n",
       "  <tbody>\n",
       "    <tr>\n",
       "      <th>0</th>\n",
       "      <td>s3://...rn-2021-06-08-01-59-56-071/output/output</td>\n",
       "      <td>Input</td>\n",
       "      <td>DataSet</td>\n",
       "      <td>ContributedTo</td>\n",
       "      <td>artifact</td>\n",
       "    </tr>\n",
       "    <tr>\n",
       "      <th>1</th>\n",
       "      <td>38241...us-east-1.amazonaws.com/linear-learner:1</td>\n",
       "      <td>Input</td>\n",
       "      <td>Image</td>\n",
       "      <td>ContributedTo</td>\n",
       "      <td>artifact</td>\n",
       "    </tr>\n",
       "    <tr>\n",
       "      <th>2</th>\n",
       "      <td>s3://...TrainStep-OWBouy86XS/output/model.tar.gz</td>\n",
       "      <td>Output</td>\n",
       "      <td>Model</td>\n",
       "      <td>Produced</td>\n",
       "      <td>artifact</td>\n",
       "    </tr>\n",
       "  </tbody>\n",
       "</table>\n",
       "</div>"
      ],
      "text/plain": [
       "                                        Name/Source Direction     Type  \\\n",
       "0  s3://...rn-2021-06-08-01-59-56-071/output/output     Input  DataSet   \n",
       "1  38241...us-east-1.amazonaws.com/linear-learner:1     Input    Image   \n",
       "2  s3://...TrainStep-OWBouy86XS/output/model.tar.gz    Output    Model   \n",
       "\n",
       "  Association Type Lineage Type  \n",
       "0    ContributedTo     artifact  \n",
       "1    ContributedTo     artifact  \n",
       "2         Produced     artifact  "
      ]
     },
     "metadata": {},
     "output_type": "display_data"
    }
   ],
   "source": [
    "import time\n",
    "from sagemaker.lineage.visualizer import LineageTableVisualizer\n",
    "\n",
    "viz = LineageTableVisualizer(sagemaker.session.Session())\n",
    "for execution_step in reversed(execution.list_steps()):\n",
    "    print(execution_step)\n",
    "    display(viz.show(pipeline_execution_step=execution_step))\n",
    "    time.sleep(5)"
   ]
  },
  {
   "cell_type": "code",
   "execution_count": 83,
   "metadata": {
    "scrolled": true
   },
   "outputs": [
    {
     "name": "stdout",
     "output_type": "stream",
     "text": [
      "{'CreatedBy': {'DomainId': 'd-rgvubtsq1vug',\n",
      "               'UserProfileArn': 'arn:aws:sagemaker:us-east-1:581320662326:user-profile/d-rgvubtsq1vug/arvs',\n",
      "               'UserProfileName': 'arvs'},\n",
      " 'CreationTime': datetime.datetime(2021, 6, 8, 1, 59, 56, 608000, tzinfo=tzlocal()),\n",
      " 'LastModifiedBy': {'DomainId': 'd-rgvubtsq1vug',\n",
      "                    'UserProfileArn': 'arn:aws:sagemaker:us-east-1:581320662326:user-profile/d-rgvubtsq1vug/arvs',\n",
      "                    'UserProfileName': 'arvs'},\n",
      " 'LastModifiedTime': datetime.datetime(2021, 6, 8, 2, 8, 24, 639000, tzinfo=tzlocal()),\n",
      " 'PipelineArn': 'arn:aws:sagemaker:us-east-1:581320662326:pipeline/pipeline',\n",
      " 'PipelineDefinition': '{\"Version\": \"2020-12-01\", \"Metadata\": {}, '\n",
      "                       '\"Parameters\": [{\"Name\": \"ProcessingInstanceType\", '\n",
      "                       '\"Type\": \"String\", \"DefaultValue\": \"ml.m5.xlarge\"}, '\n",
      "                       '{\"Name\": \"TrainingInstanceType\", \"Type\": \"String\", '\n",
      "                       '\"DefaultValue\": \"ml.m5.xlarge\"}, {\"Name\": \"InputData\", '\n",
      "                       '\"Type\": \"String\", \"DefaultValue\": '\n",
      "                       '\"s3://sagemaker-cookbook-bucket/chapter09/input/management_experience_and_salary.csv\"}], '\n",
      "                       '\"PipelineExperimentConfig\": {\"ExperimentName\": {\"Get\": '\n",
      "                       '\"Execution.PipelineName\"}, \"TrialName\": {\"Get\": '\n",
      "                       '\"Execution.PipelineExecutionId\"}}, \"Steps\": [{\"Name\": '\n",
      "                       '\"ProcessingStep\", \"Type\": \"Processing\", \"Arguments\": '\n",
      "                       '{\"ProcessingResources\": {\"ClusterConfig\": '\n",
      "                       '{\"InstanceType\": {\"Get\": '\n",
      "                       '\"Parameters.ProcessingInstanceType\"}, \"InstanceCount\": '\n",
      "                       '1, \"VolumeSizeInGB\": 30}}, \"AppSpecification\": '\n",
      "                       '{\"ImageUri\": '\n",
      "                       '\"683313688378.dkr.ecr.us-east-1.amazonaws.com/sagemaker-scikit-learn:0.23-1-cpu-py3\", '\n",
      "                       '\"ContainerEntrypoint\": [\"python3\", '\n",
      "                       '\"/opt/ml/processing/input/code/preprocessing.py\"]}, '\n",
      "                       '\"RoleArn\": '\n",
      "                       '\"arn:aws:iam::581320662326:role/SuperAdminRole\", '\n",
      "                       '\"ProcessingInputs\": [{\"InputName\": \"input-1\", '\n",
      "                       '\"AppManaged\": false, \"S3Input\": {\"S3Uri\": {\"Get\": '\n",
      "                       '\"Parameters.InputData\"}, \"LocalPath\": '\n",
      "                       '\"/opt/ml/processing/input\", \"S3DataType\": \"S3Prefix\", '\n",
      "                       '\"S3InputMode\": \"File\", \"S3DataDistributionType\": '\n",
      "                       '\"FullyReplicated\", \"S3CompressionType\": \"None\"}}, '\n",
      "                       '{\"InputName\": \"code\", \"AppManaged\": false, \"S3Input\": '\n",
      "                       '{\"S3Uri\": '\n",
      "                       '\"s3://sagemaker-us-east-1-581320662326/sagemaker-scikit-learn-2021-06-08-01-59-56-071/input/code/preprocessing.py\", '\n",
      "                       '\"LocalPath\": \"/opt/ml/processing/input/code\", '\n",
      "                       '\"S3DataType\": \"S3Prefix\", \"S3InputMode\": \"File\", '\n",
      "                       '\"S3DataDistributionType\": \"FullyReplicated\", '\n",
      "                       '\"S3CompressionType\": \"None\"}}], '\n",
      "                       '\"ProcessingOutputConfig\": {\"Outputs\": [{\"OutputName\": '\n",
      "                       '\"output\", \"AppManaged\": false, \"S3Output\": {\"S3Uri\": '\n",
      "                       '\"s3://sagemaker-us-east-1-581320662326/sagemaker-scikit-learn-2021-06-08-01-59-56-071/output/output\", '\n",
      "                       '\"LocalPath\": \"/opt/ml/processing/output\", '\n",
      "                       '\"S3UploadMode\": \"EndOfJob\"}}]}}}, {\"Name\": '\n",
      "                       '\"TrainStep\", \"Type\": \"Training\", \"Arguments\": '\n",
      "                       '{\"AlgorithmSpecification\": {\"TrainingInputMode\": '\n",
      "                       '\"File\", \"TrainingImage\": '\n",
      "                       '\"382416733822.dkr.ecr.us-east-1.amazonaws.com/linear-learner:1\"}, '\n",
      "                       '\"OutputDataConfig\": {\"S3OutputPath\": '\n",
      "                       '\"s3://sagemaker-cookbook-bucket/chapter09/model\"}, '\n",
      "                       '\"StoppingCondition\": {\"MaxRuntimeInSeconds\": 86400}, '\n",
      "                       '\"ResourceConfig\": {\"InstanceCount\": 1, \"InstanceType\": '\n",
      "                       '\"ml.m5.xlarge\", \"VolumeSizeInGB\": 30}, \"RoleArn\": '\n",
      "                       '\"arn:aws:iam::581320662326:role/SuperAdminRole\", '\n",
      "                       '\"InputDataConfig\": [{\"DataSource\": {\"S3DataSource\": '\n",
      "                       '{\"S3DataType\": \"S3Prefix\", \"S3Uri\": {\"Get\": '\n",
      "                       '\"Steps.ProcessingStep.ProcessingOutputConfig.Outputs[\\'output\\'].S3Output.S3Uri\"}, '\n",
      "                       '\"S3DataDistributionType\": \"FullyReplicated\"}}, '\n",
      "                       '\"ContentType\": \"text/csv\", \"ChannelName\": \"train\"}], '\n",
      "                       '\"HyperParameters\": {\"predictor_type\": \"regressor\", '\n",
      "                       '\"mini_batch_size\": \"4\"}, \"ProfilerRuleConfigurations\": '\n",
      "                       '[{\"RuleConfigurationName\": '\n",
      "                       '\"ProfilerReport-1623117596\", \"RuleEvaluatorImage\": '\n",
      "                       '\"503895931360.dkr.ecr.us-east-1.amazonaws.com/sagemaker-debugger-rules:latest\", '\n",
      "                       '\"RuleParameters\": {\"rule_to_invoke\": '\n",
      "                       '\"ProfilerReport\"}}], \"ProfilerConfig\": '\n",
      "                       '{\"S3OutputPath\": '\n",
      "                       '\"s3://sagemaker-cookbook-bucket/chapter09/model\"}}}]}',\n",
      " 'PipelineDisplayName': 'Pipeline',\n",
      " 'PipelineName': 'Pipeline',\n",
      " 'PipelineStatus': 'Active',\n",
      " 'ResponseMetadata': {'HTTPHeaders': {'content-length': '4030',\n",
      "                                      'content-type': 'application/x-amz-json-1.1',\n",
      "                                      'date': 'Tue, 08 Jun 2021 02:08:39 GMT',\n",
      "                                      'x-amzn-requestid': 'ea0f651c-175e-4653-9259-808b1be9a351'},\n",
      "                      'HTTPStatusCode': 200,\n",
      "                      'RequestId': 'ea0f651c-175e-4653-9259-808b1be9a351',\n",
      "                      'RetryAttempts': 0},\n",
      " 'RoleArn': 'arn:aws:iam::581320662326:role/SuperAdminRole'}\n"
     ]
    }
   ],
   "source": [
    "from pprint import pprint\n",
    "\n",
    "pprint(pipeline.describe())"
   ]
  },
  {
   "cell_type": "code",
   "execution_count": 84,
   "metadata": {},
   "outputs": [
    {
     "data": {
      "text/plain": [
       "{'PipelineArn': 'arn:aws:sagemaker:us-east-1:581320662326:pipeline/pipeline',\n",
       " 'ResponseMetadata': {'RequestId': '5037a9bf-b611-4ccb-b4fc-86a498b12a08',\n",
       "  'HTTPStatusCode': 200,\n",
       "  'HTTPHeaders': {'x-amzn-requestid': '5037a9bf-b611-4ccb-b4fc-86a498b12a08',\n",
       "   'content-type': 'application/x-amz-json-1.1',\n",
       "   'content-length': '76',\n",
       "   'date': 'Tue, 08 Jun 2021 02:08:39 GMT'},\n",
       "  'RetryAttempts': 0}}"
      ]
     },
     "execution_count": 84,
     "metadata": {},
     "output_type": "execute_result"
    }
   ],
   "source": [
    "# pipeline.delete()"
   ]
  }
 ],
 "metadata": {
  "instance_type": "ml.t3.medium",
  "kernelspec": {
   "display_name": "Python 3 (Data Science)",
   "language": "python",
   "name": "python3__SAGEMAKER_INTERNAL__arn:aws:sagemaker:us-east-1:081325390199:image/datascience-1.0"
  },
  "language_info": {
   "codemirror_mode": {
    "name": "ipython",
    "version": 3
   },
   "file_extension": ".py",
   "mimetype": "text/x-python",
   "name": "python",
   "nbconvert_exporter": "python",
   "pygments_lexer": "ipython3",
   "version": "3.7.10"
  }
 },
 "nbformat": 4,
 "nbformat_minor": 4
}
