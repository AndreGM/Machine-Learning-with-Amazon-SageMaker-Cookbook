{
 "cells": [
  {
   "cell_type": "code",
   "execution_count": 1,
   "metadata": {},
   "outputs": [],
   "source": [
    "!mkdir -p tmp"
   ]
  },
  {
   "cell_type": "code",
   "execution_count": 2,
   "metadata": {},
   "outputs": [],
   "source": [
    "g = \"raw.githubusercontent.com\"\n",
    "p = \"PacktPublishing\"\n",
    "a = \"Amazon-SageMaker-Cookbook\"\n",
    "mc = \"master/Chapter01\"\n",
    "\n",
    "path = f\"https://{g}/{p}/{a}/{mc}/files\""
   ]
  },
  {
   "cell_type": "code",
   "execution_count": 3,
   "metadata": {},
   "outputs": [
    {
     "name": "stdout",
     "output_type": "stream",
     "text": [
      "--2021-06-08 09:56:32--  https://raw.githubusercontent.com/PacktPublishing/Amazon-SageMaker-Cookbook/master/Chapter01/files/management_experience_and_salary.csv\n",
      "Resolving raw.githubusercontent.com (raw.githubusercontent.com)... 185.199.109.133, 185.199.110.133, 185.199.111.133, ...\n",
      "Connecting to raw.githubusercontent.com (raw.githubusercontent.com)|185.199.109.133|:443... connected.\n",
      "HTTP request sent, awaiting response... 200 OK\n",
      "Length: 331 [text/plain]\n",
      "Saving to: ‘tmp/management_experience_and_salary.csv.10’\n",
      "\n",
      "management_experien 100%[===================>]     331  --.-KB/s    in 0s      \n",
      "\n",
      "2021-06-08 09:56:32 (10.9 MB/s) - ‘tmp/management_experience_and_salary.csv.10’ saved [331/331]\n",
      "\n"
     ]
    }
   ],
   "source": [
    "fname = \"management_experience_and_salary.csv\"\n",
    "\n",
    "!wget -P tmp {path}/{fname}"
   ]
  },
  {
   "cell_type": "code",
   "execution_count": 4,
   "metadata": {},
   "outputs": [],
   "source": [
    "import pandas as pd\n",
    "filename = f\"tmp/{fname}\"\n",
    "df_all_data = pd.read_csv(filename)"
   ]
  },
  {
   "cell_type": "code",
   "execution_count": 5,
   "metadata": {},
   "outputs": [
    {
     "data": {
      "text/html": [
       "<div>\n",
       "<style scoped>\n",
       "    .dataframe tbody tr th:only-of-type {\n",
       "        vertical-align: middle;\n",
       "    }\n",
       "\n",
       "    .dataframe tbody tr th {\n",
       "        vertical-align: top;\n",
       "    }\n",
       "\n",
       "    .dataframe thead th {\n",
       "        text-align: right;\n",
       "    }\n",
       "</style>\n",
       "<table border=\"1\" class=\"dataframe\">\n",
       "  <thead>\n",
       "    <tr style=\"text-align: right;\">\n",
       "      <th></th>\n",
       "      <th>last_name</th>\n",
       "      <th>management_experience_months</th>\n",
       "      <th>monthly_salary</th>\n",
       "    </tr>\n",
       "  </thead>\n",
       "  <tbody>\n",
       "    <tr>\n",
       "      <th>0</th>\n",
       "      <td>Taylor</td>\n",
       "      <td>65</td>\n",
       "      <td>1630</td>\n",
       "    </tr>\n",
       "    <tr>\n",
       "      <th>1</th>\n",
       "      <td>Wang</td>\n",
       "      <td>61</td>\n",
       "      <td>1330</td>\n",
       "    </tr>\n",
       "    <tr>\n",
       "      <th>2</th>\n",
       "      <td>Brown</td>\n",
       "      <td>38</td>\n",
       "      <td>1290</td>\n",
       "    </tr>\n",
       "    <tr>\n",
       "      <th>3</th>\n",
       "      <td>Harris</td>\n",
       "      <td>71</td>\n",
       "      <td>1480</td>\n",
       "    </tr>\n",
       "    <tr>\n",
       "      <th>4</th>\n",
       "      <td>Jones</td>\n",
       "      <td>94</td>\n",
       "      <td>1590</td>\n",
       "    </tr>\n",
       "    <tr>\n",
       "      <th>5</th>\n",
       "      <td>Garcia</td>\n",
       "      <td>93</td>\n",
       "      <td>1750</td>\n",
       "    </tr>\n",
       "    <tr>\n",
       "      <th>6</th>\n",
       "      <td>Williams</td>\n",
       "      <td>15</td>\n",
       "      <td>1020</td>\n",
       "    </tr>\n",
       "    <tr>\n",
       "      <th>7</th>\n",
       "      <td>Lee</td>\n",
       "      <td>56</td>\n",
       "      <td>1290</td>\n",
       "    </tr>\n",
       "    <tr>\n",
       "      <th>8</th>\n",
       "      <td>White</td>\n",
       "      <td>59</td>\n",
       "      <td>1430</td>\n",
       "    </tr>\n",
       "    <tr>\n",
       "      <th>9</th>\n",
       "      <td>Tan</td>\n",
       "      <td>7</td>\n",
       "      <td>960</td>\n",
       "    </tr>\n",
       "    <tr>\n",
       "      <th>10</th>\n",
       "      <td>Chen</td>\n",
       "      <td>14</td>\n",
       "      <td>1090</td>\n",
       "    </tr>\n",
       "    <tr>\n",
       "      <th>11</th>\n",
       "      <td>Kim</td>\n",
       "      <td>67</td>\n",
       "      <td>1340</td>\n",
       "    </tr>\n",
       "    <tr>\n",
       "      <th>12</th>\n",
       "      <td>Davis</td>\n",
       "      <td>29</td>\n",
       "      <td>1170</td>\n",
       "    </tr>\n",
       "    <tr>\n",
       "      <th>13</th>\n",
       "      <td>James</td>\n",
       "      <td>49</td>\n",
       "      <td>1390</td>\n",
       "    </tr>\n",
       "    <tr>\n",
       "      <th>14</th>\n",
       "      <td>Perez</td>\n",
       "      <td>46</td>\n",
       "      <td>1240</td>\n",
       "    </tr>\n",
       "    <tr>\n",
       "      <th>15</th>\n",
       "      <td>Cruz</td>\n",
       "      <td>73</td>\n",
       "      <td>1390</td>\n",
       "    </tr>\n",
       "    <tr>\n",
       "      <th>16</th>\n",
       "      <td>Smith</td>\n",
       "      <td>19</td>\n",
       "      <td>960</td>\n",
       "    </tr>\n",
       "    <tr>\n",
       "      <th>17</th>\n",
       "      <td>Thompson</td>\n",
       "      <td>22</td>\n",
       "      <td>1040</td>\n",
       "    </tr>\n",
       "    <tr>\n",
       "      <th>18</th>\n",
       "      <td>Joseph</td>\n",
       "      <td>32</td>\n",
       "      <td>1090</td>\n",
       "    </tr>\n",
       "    <tr>\n",
       "      <th>19</th>\n",
       "      <td>Singh</td>\n",
       "      <td>37</td>\n",
       "      <td>1300</td>\n",
       "    </tr>\n",
       "  </tbody>\n",
       "</table>\n",
       "</div>"
      ],
      "text/plain": [
       "   last_name  management_experience_months  monthly_salary\n",
       "0     Taylor                            65            1630\n",
       "1       Wang                            61            1330\n",
       "2      Brown                            38            1290\n",
       "3     Harris                            71            1480\n",
       "4      Jones                            94            1590\n",
       "5     Garcia                            93            1750\n",
       "6   Williams                            15            1020\n",
       "7        Lee                            56            1290\n",
       "8      White                            59            1430\n",
       "9        Tan                             7             960\n",
       "10      Chen                            14            1090\n",
       "11       Kim                            67            1340\n",
       "12     Davis                            29            1170\n",
       "13     James                            49            1390\n",
       "14     Perez                            46            1240\n",
       "15      Cruz                            73            1390\n",
       "16     Smith                            19             960\n",
       "17  Thompson                            22            1040\n",
       "18    Joseph                            32            1090\n",
       "19     Singh                            37            1300"
      ]
     },
     "execution_count": 5,
     "metadata": {},
     "output_type": "execute_result"
    }
   ],
   "source": [
    "df_all_data"
   ]
  },
  {
   "cell_type": "code",
   "execution_count": 6,
   "metadata": {},
   "outputs": [],
   "source": [
    "from sklearn.model_selection import train_test_split\n",
    "\n",
    "dad = df_all_data\n",
    "\n",
    "X = dad['management_experience_months'].values \n",
    "y = dad['monthly_salary'].values\n",
    "\n",
    "X_train, X_test, y_train, y_test = train_test_split(\n",
    "    X, y, \n",
    "    test_size=0.3, random_state=0\n",
    ")"
   ]
  },
  {
   "cell_type": "code",
   "execution_count": 7,
   "metadata": {},
   "outputs": [
    {
     "data": {
      "text/html": [
       "<div>\n",
       "<style scoped>\n",
       "    .dataframe tbody tr th:only-of-type {\n",
       "        vertical-align: middle;\n",
       "    }\n",
       "\n",
       "    .dataframe tbody tr th {\n",
       "        vertical-align: top;\n",
       "    }\n",
       "\n",
       "    .dataframe thead th {\n",
       "        text-align: right;\n",
       "    }\n",
       "</style>\n",
       "<table border=\"1\" class=\"dataframe\">\n",
       "  <thead>\n",
       "    <tr style=\"text-align: right;\">\n",
       "      <th></th>\n",
       "      <th>monthly_salary</th>\n",
       "      <th>management_experience_months</th>\n",
       "    </tr>\n",
       "  </thead>\n",
       "  <tbody>\n",
       "    <tr>\n",
       "      <th>0</th>\n",
       "      <td>1020</td>\n",
       "      <td>15</td>\n",
       "    </tr>\n",
       "    <tr>\n",
       "      <th>1</th>\n",
       "      <td>1390</td>\n",
       "      <td>49</td>\n",
       "    </tr>\n",
       "    <tr>\n",
       "      <th>2</th>\n",
       "      <td>1590</td>\n",
       "      <td>94</td>\n",
       "    </tr>\n",
       "    <tr>\n",
       "      <th>3</th>\n",
       "      <td>1290</td>\n",
       "      <td>38</td>\n",
       "    </tr>\n",
       "    <tr>\n",
       "      <th>4</th>\n",
       "      <td>1750</td>\n",
       "      <td>93</td>\n",
       "    </tr>\n",
       "    <tr>\n",
       "      <th>5</th>\n",
       "      <td>1240</td>\n",
       "      <td>46</td>\n",
       "    </tr>\n",
       "    <tr>\n",
       "      <th>6</th>\n",
       "      <td>960</td>\n",
       "      <td>7</td>\n",
       "    </tr>\n",
       "    <tr>\n",
       "      <th>7</th>\n",
       "      <td>1290</td>\n",
       "      <td>56</td>\n",
       "    </tr>\n",
       "    <tr>\n",
       "      <th>8</th>\n",
       "      <td>960</td>\n",
       "      <td>19</td>\n",
       "    </tr>\n",
       "    <tr>\n",
       "      <th>9</th>\n",
       "      <td>1340</td>\n",
       "      <td>67</td>\n",
       "    </tr>\n",
       "    <tr>\n",
       "      <th>10</th>\n",
       "      <td>1480</td>\n",
       "      <td>71</td>\n",
       "    </tr>\n",
       "    <tr>\n",
       "      <th>11</th>\n",
       "      <td>1630</td>\n",
       "      <td>65</td>\n",
       "    </tr>\n",
       "    <tr>\n",
       "      <th>12</th>\n",
       "      <td>1390</td>\n",
       "      <td>73</td>\n",
       "    </tr>\n",
       "    <tr>\n",
       "      <th>13</th>\n",
       "      <td>1170</td>\n",
       "      <td>29</td>\n",
       "    </tr>\n",
       "  </tbody>\n",
       "</table>\n",
       "</div>"
      ],
      "text/plain": [
       "    monthly_salary  management_experience_months\n",
       "0             1020                            15\n",
       "1             1390                            49\n",
       "2             1590                            94\n",
       "3             1290                            38\n",
       "4             1750                            93\n",
       "5             1240                            46\n",
       "6              960                             7\n",
       "7             1290                            56\n",
       "8              960                            19\n",
       "9             1340                            67\n",
       "10            1480                            71\n",
       "11            1630                            65\n",
       "12            1390                            73\n",
       "13            1170                            29"
      ]
     },
     "execution_count": 7,
     "metadata": {},
     "output_type": "execute_result"
    }
   ],
   "source": [
    "import pandas as pd\n",
    "\n",
    "df_training_data = pd.DataFrame({ \n",
    "    'monthly_salary': y_train, \n",
    "    'management_experience_months': X_train\n",
    "})\n",
    "\n",
    "df_training_data"
   ]
  },
  {
   "cell_type": "code",
   "execution_count": 8,
   "metadata": {},
   "outputs": [],
   "source": [
    "df_training_data.to_csv(\n",
    "    'tmp/training_data.csv', \n",
    "    header=False, index=False\n",
    ")"
   ]
  },
  {
   "cell_type": "code",
   "execution_count": 9,
   "metadata": {},
   "outputs": [],
   "source": [
    "s3_bucket = 'sagemaker-cookbook-bucket'\n",
    "prefix = 'chapter09'"
   ]
  },
  {
   "cell_type": "code",
   "execution_count": 10,
   "metadata": {},
   "outputs": [
    {
     "name": "stdout",
     "output_type": "stream",
     "text": [
      "upload: tmp/training_data.csv to s3://sagemaker-cookbook-bucket/chapter09/input/training_data.csv\n"
     ]
    }
   ],
   "source": [
    "tn = \"training_data.csv\"\n",
    "source = f\"tmp/{tn}\"\n",
    "dest = f\"s3://{s3_bucket}/{prefix}/input/{tn}\"\n",
    "\n",
    "!aws s3 cp {source} {dest}"
   ]
  },
  {
   "cell_type": "code",
   "execution_count": 11,
   "metadata": {},
   "outputs": [],
   "source": [
    "import sagemaker \n",
    "import boto3\n",
    "from sagemaker import get_execution_role \n",
    "\n",
    "role = get_execution_role()\n",
    "session = sagemaker.Session()\n",
    "region_name = boto3.Session().region_name"
   ]
  },
  {
   "cell_type": "code",
   "execution_count": 12,
   "metadata": {},
   "outputs": [],
   "source": [
    "training_s3_input_location = f\"s3://{s3_bucket}/{prefix}/input/training_data.csv\" \n",
    "training_s3_output_location = f\"s3://{s3_bucket}/{prefix}/output/\""
   ]
  },
  {
   "cell_type": "code",
   "execution_count": 13,
   "metadata": {},
   "outputs": [],
   "source": [
    "from sagemaker.inputs import TrainingInput\n",
    "\n",
    "train = TrainingInput(\n",
    "    training_s3_input_location, \n",
    "    content_type=\"text/csv\"\n",
    ")"
   ]
  },
  {
   "cell_type": "code",
   "execution_count": 14,
   "metadata": {},
   "outputs": [
    {
     "data": {
      "text/plain": [
       "'382416733822.dkr.ecr.us-east-1.amazonaws.com/linear-learner:1'"
      ]
     },
     "execution_count": 14,
     "metadata": {},
     "output_type": "execute_result"
    }
   ],
   "source": [
    "from sagemaker.image_uris import retrieve \n",
    "\n",
    "container = retrieve(\n",
    "    \"linear-learner\", \n",
    "    region_name, \"1\"\n",
    ")\n",
    "\n",
    "container"
   ]
  },
  {
   "cell_type": "code",
   "execution_count": 15,
   "metadata": {},
   "outputs": [],
   "source": [
    "estimator = sagemaker.estimator.Estimator(\n",
    "    container,\n",
    "    role, \n",
    "    instance_count=1, \n",
    "    instance_type='ml.m5.xlarge',\n",
    "    output_path=training_s3_output_location,\n",
    "    sagemaker_session=session\n",
    ")"
   ]
  },
  {
   "cell_type": "code",
   "execution_count": 16,
   "metadata": {},
   "outputs": [],
   "source": [
    "estimator.set_hyperparameters(\n",
    "    predictor_type='regressor', \n",
    "    mini_batch_size=4\n",
    ")"
   ]
  },
  {
   "cell_type": "code",
   "execution_count": 17,
   "metadata": {},
   "outputs": [
    {
     "name": "stdout",
     "output_type": "stream",
     "text": [
      "/opt/conda/lib/python3.7/site-packages/secretstorage/dhcrypto.py:16: CryptographyDeprecationWarning: int_from_bytes is deprecated, use int.from_bytes instead\n",
      "  from cryptography.utils import int_from_bytes\n",
      "/opt/conda/lib/python3.7/site-packages/secretstorage/util.py:25: CryptographyDeprecationWarning: int_from_bytes is deprecated, use int.from_bytes instead\n",
      "  from cryptography.utils import int_from_bytes\n",
      "\u001b[33mWARNING: Running pip as root will break packages and permissions. You should install packages reliably by using venv: https://pip.pypa.io/warnings/venv\u001b[0m\n",
      "\u001b[33mWARNING: You are using pip version 21.1.1; however, version 21.1.2 is available.\n",
      "You should consider upgrading via the '/opt/conda/bin/python -m pip install --upgrade pip' command.\u001b[0m\n"
     ]
    }
   ],
   "source": [
    "!pip -q install --upgrade stepfunctions"
   ]
  },
  {
   "cell_type": "code",
   "execution_count": 18,
   "metadata": {},
   "outputs": [],
   "source": [
    "execution_role = 'arn:aws:iam::581320662326:role/test-002'"
   ]
  },
  {
   "cell_type": "code",
   "execution_count": 19,
   "metadata": {},
   "outputs": [],
   "source": [
    "from stepfunctions.inputs import ExecutionInput"
   ]
  },
  {
   "cell_type": "code",
   "execution_count": 20,
   "metadata": {},
   "outputs": [],
   "source": [
    "execution_input = ExecutionInput(\n",
    "    schema={ \n",
    "        'ModelName': str,\n",
    "        'EndpointName': str,\n",
    "        'JobName': str\n",
    "    }\n",
    ")\n",
    "\n",
    "ei = execution_input"
   ]
  },
  {
   "cell_type": "code",
   "execution_count": 21,
   "metadata": {},
   "outputs": [],
   "source": [
    "from stepfunctions.steps import TrainingStep"
   ]
  },
  {
   "cell_type": "code",
   "execution_count": 22,
   "metadata": {},
   "outputs": [],
   "source": [
    "training_step = TrainingStep(\n",
    "    'Training Step', \n",
    "    estimator=estimator,\n",
    "    data={\n",
    "        'train': train\n",
    "    },\n",
    "    job_name=ei['JobName']\n",
    ")"
   ]
  },
  {
   "cell_type": "code",
   "execution_count": 23,
   "metadata": {},
   "outputs": [],
   "source": [
    "from stepfunctions.steps import ModelStep"
   ]
  },
  {
   "cell_type": "code",
   "execution_count": 24,
   "metadata": {},
   "outputs": [],
   "source": [
    "model_step = ModelStep(\n",
    "    'Model Step',\n",
    "    model=training_step.get_expected_model(),\n",
    "    model_name=ei['ModelName']  \n",
    ")"
   ]
  },
  {
   "cell_type": "code",
   "execution_count": 25,
   "metadata": {},
   "outputs": [],
   "source": [
    "from stepfunctions.steps import EndpointConfigStep"
   ]
  },
  {
   "cell_type": "code",
   "execution_count": 26,
   "metadata": {},
   "outputs": [],
   "source": [
    "endpoint_config_step = EndpointConfigStep(\n",
    "    \"Create Endpoint Configuration\",\n",
    "    endpoint_config_name=ei['ModelName'],\n",
    "    model_name=ei['ModelName'],\n",
    "    initial_instance_count=1,\n",
    "    instance_type='ml.m5.xlarge'\n",
    ")"
   ]
  },
  {
   "cell_type": "code",
   "execution_count": 27,
   "metadata": {},
   "outputs": [],
   "source": [
    "from stepfunctions.steps import EndpointStep"
   ]
  },
  {
   "cell_type": "code",
   "execution_count": 28,
   "metadata": {},
   "outputs": [],
   "source": [
    "endpoint_step = EndpointStep(\n",
    "    \"Deploy Endpoint\",\n",
    "    endpoint_name=ei['EndpointName'],\n",
    "    endpoint_config_name=ei['ModelName']\n",
    ")"
   ]
  },
  {
   "cell_type": "code",
   "execution_count": 29,
   "metadata": {},
   "outputs": [],
   "source": [
    "from stepfunctions.steps import Chain"
   ]
  },
  {
   "cell_type": "code",
   "execution_count": 30,
   "metadata": {},
   "outputs": [],
   "source": [
    "workflow_definition = Chain([\n",
    "    training_step,\n",
    "    model_step,\n",
    "    endpoint_config_step,\n",
    "    endpoint_step\n",
    "])"
   ]
  },
  {
   "cell_type": "code",
   "execution_count": 31,
   "metadata": {},
   "outputs": [
    {
     "data": {
      "text/plain": [
       "'ff44abb88f9d4a0b9c173c48dbe0d8d7'"
      ]
     },
     "execution_count": 31,
     "metadata": {},
     "output_type": "execute_result"
    }
   ],
   "source": [
    "import uuid\n",
    "\n",
    "uuid.uuid4().hex"
   ]
  },
  {
   "cell_type": "code",
   "execution_count": 32,
   "metadata": {},
   "outputs": [],
   "source": [
    "def generate_random_string():\n",
    "    return uuid.uuid4().hex\n",
    "\n",
    "grs = generate_random_string"
   ]
  },
  {
   "cell_type": "code",
   "execution_count": 33,
   "metadata": {},
   "outputs": [],
   "source": [
    "import uuid\n",
    "from stepfunctions.workflow import Workflow\n",
    "\n",
    "workflow = Workflow(\n",
    "    name='{}-{}'.format('Workflow', grs()),\n",
    "    definition=workflow_definition,\n",
    "    role=execution_role,\n",
    "    execution_input=execution_input\n",
    ")"
   ]
  },
  {
   "cell_type": "code",
   "execution_count": 34,
   "metadata": {},
   "outputs": [
    {
     "data": {
      "text/plain": [
       "'arn:aws:states:us-east-1:581320662326:stateMachine:Workflow-6eced24724454517b105b3dd048499f5'"
      ]
     },
     "execution_count": 34,
     "metadata": {},
     "output_type": "execute_result"
    }
   ],
   "source": [
    "workflow.create()"
   ]
  },
  {
   "cell_type": "code",
   "execution_count": 35,
   "metadata": {},
   "outputs": [],
   "source": [
    "execution = workflow.execute(\n",
    "    inputs={\n",
    "        'JobName': 'll-{}'.format(grs()),\n",
    "        'ModelName': 'll-{}'.format(grs()),\n",
    "        'EndpointName': 'll-{}'.format(grs())\n",
    "    }\n",
    ")"
   ]
  },
  {
   "cell_type": "code",
   "execution_count": 36,
   "metadata": {},
   "outputs": [
    {
     "data": {
      "text/plain": [
       "[{'timestamp': datetime.datetime(2021, 6, 8, 9, 56, 39, 114000, tzinfo=tzlocal()),\n",
       "  'type': 'ExecutionStarted',\n",
       "  'id': 1,\n",
       "  'previousEventId': 0,\n",
       "  'executionStartedEventDetails': {'input': '{\\n    \"JobName\": \"ll-3e17f51b69d74dad8cb0b76c6a42832c\",\\n    \"ModelName\": \"ll-df05949385b0430785f36b15703ff336\",\\n    \"EndpointName\": \"ll-ae59156c050542f3bf9801c5dd3a9145\"\\n}',\n",
       "   'inputDetails': {'truncated': False},\n",
       "   'roleArn': 'arn:aws:iam::581320662326:role/test-002'}},\n",
       " {'timestamp': datetime.datetime(2021, 6, 8, 9, 56, 39, 151000, tzinfo=tzlocal()),\n",
       "  'type': 'TaskStateEntered',\n",
       "  'id': 2,\n",
       "  'previousEventId': 0,\n",
       "  'stateEnteredEventDetails': {'name': 'Training Step',\n",
       "   'input': '{\\n    \"JobName\": \"ll-3e17f51b69d74dad8cb0b76c6a42832c\",\\n    \"ModelName\": \"ll-df05949385b0430785f36b15703ff336\",\\n    \"EndpointName\": \"ll-ae59156c050542f3bf9801c5dd3a9145\"\\n}',\n",
       "   'inputDetails': {'truncated': False}}},\n",
       " {'timestamp': datetime.datetime(2021, 6, 8, 9, 56, 39, 151000, tzinfo=tzlocal()),\n",
       "  'type': 'TaskScheduled',\n",
       "  'id': 3,\n",
       "  'previousEventId': 2,\n",
       "  'taskScheduledEventDetails': {'resourceType': 'sagemaker',\n",
       "   'resource': 'createTrainingJob.sync',\n",
       "   'region': 'us-east-1',\n",
       "   'parameters': '{\"AlgorithmSpecification\":{\"TrainingImage\":\"382416733822.dkr.ecr.us-east-1.amazonaws.com/linear-learner:1\",\"TrainingInputMode\":\"File\"},\"OutputDataConfig\":{\"S3OutputPath\":\"s3://sagemaker-cookbook-bucket/chapter09/output/\"},\"StoppingCondition\":{\"MaxRuntimeInSeconds\":86400},\"ResourceConfig\":{\"InstanceCount\":1,\"InstanceType\":\"ml.m5.xlarge\",\"VolumeSizeInGB\":30},\"RoleArn\":\"arn:aws:iam::581320662326:role/SuperAdminRole\",\"InputDataConfig\":[{\"DataSource\":{\"S3DataSource\":{\"S3DataType\":\"S3Prefix\",\"S3Uri\":\"s3://sagemaker-cookbook-bucket/chapter09/input/training_data.csv\",\"S3DataDistributionType\":\"FullyReplicated\"}},\"ContentType\":\"text/csv\",\"ChannelName\":\"train\"}],\"HyperParameters\":{\"predictor_type\":\"regressor\",\"mini_batch_size\":\"4\"},\"TrainingJobName\":\"ll-3e17f51b69d74dad8cb0b76c6a42832c\",\"Tags\":[{\"Key\":\"MANAGED_BY_AWS\",\"Value\":\"STARTED_BY_STEP_FUNCTIONS\"}]}'}}]"
      ]
     },
     "execution_count": 36,
     "metadata": {},
     "output_type": "execute_result"
    }
   ],
   "source": [
    "execution.list_events()"
   ]
  },
  {
   "cell_type": "code",
   "execution_count": 37,
   "metadata": {},
   "outputs": [],
   "source": [
    "import pandas as pd"
   ]
  },
  {
   "cell_type": "code",
   "execution_count": 38,
   "metadata": {},
   "outputs": [
    {
     "data": {
      "text/html": [
       "<div>\n",
       "<style scoped>\n",
       "    .dataframe tbody tr th:only-of-type {\n",
       "        vertical-align: middle;\n",
       "    }\n",
       "\n",
       "    .dataframe tbody tr th {\n",
       "        vertical-align: top;\n",
       "    }\n",
       "\n",
       "    .dataframe thead th {\n",
       "        text-align: right;\n",
       "    }\n",
       "</style>\n",
       "<table border=\"1\" class=\"dataframe\">\n",
       "  <thead>\n",
       "    <tr style=\"text-align: right;\">\n",
       "      <th></th>\n",
       "      <th>timestamp</th>\n",
       "      <th>type</th>\n",
       "      <th>id</th>\n",
       "      <th>previousEventId</th>\n",
       "      <th>executionStartedEventDetails.input</th>\n",
       "      <th>executionStartedEventDetails.inputDetails.truncated</th>\n",
       "      <th>executionStartedEventDetails.roleArn</th>\n",
       "      <th>stateEnteredEventDetails.name</th>\n",
       "      <th>stateEnteredEventDetails.input</th>\n",
       "      <th>stateEnteredEventDetails.inputDetails.truncated</th>\n",
       "      <th>taskScheduledEventDetails.resourceType</th>\n",
       "      <th>taskScheduledEventDetails.resource</th>\n",
       "      <th>taskScheduledEventDetails.region</th>\n",
       "      <th>taskScheduledEventDetails.parameters</th>\n",
       "      <th>taskStartedEventDetails.resourceType</th>\n",
       "      <th>taskStartedEventDetails.resource</th>\n",
       "    </tr>\n",
       "  </thead>\n",
       "  <tbody>\n",
       "    <tr>\n",
       "      <th>0</th>\n",
       "      <td>2021-06-08 09:56:39.114000+00:00</td>\n",
       "      <td>ExecutionStarted</td>\n",
       "      <td>1</td>\n",
       "      <td>0</td>\n",
       "      <td>{\\n    \"JobName\": \"ll-3e17f51b69d74dad8cb0b76c...</td>\n",
       "      <td>False</td>\n",
       "      <td>arn:aws:iam::581320662326:role/test-002</td>\n",
       "      <td>NaN</td>\n",
       "      <td>NaN</td>\n",
       "      <td>NaN</td>\n",
       "      <td>NaN</td>\n",
       "      <td>NaN</td>\n",
       "      <td>NaN</td>\n",
       "      <td>NaN</td>\n",
       "      <td>NaN</td>\n",
       "      <td>NaN</td>\n",
       "    </tr>\n",
       "    <tr>\n",
       "      <th>1</th>\n",
       "      <td>2021-06-08 09:56:39.151000+00:00</td>\n",
       "      <td>TaskStateEntered</td>\n",
       "      <td>2</td>\n",
       "      <td>0</td>\n",
       "      <td>NaN</td>\n",
       "      <td>NaN</td>\n",
       "      <td>NaN</td>\n",
       "      <td>Training Step</td>\n",
       "      <td>{\\n    \"JobName\": \"ll-3e17f51b69d74dad8cb0b76c...</td>\n",
       "      <td>False</td>\n",
       "      <td>NaN</td>\n",
       "      <td>NaN</td>\n",
       "      <td>NaN</td>\n",
       "      <td>NaN</td>\n",
       "      <td>NaN</td>\n",
       "      <td>NaN</td>\n",
       "    </tr>\n",
       "    <tr>\n",
       "      <th>2</th>\n",
       "      <td>2021-06-08 09:56:39.151000+00:00</td>\n",
       "      <td>TaskScheduled</td>\n",
       "      <td>3</td>\n",
       "      <td>2</td>\n",
       "      <td>NaN</td>\n",
       "      <td>NaN</td>\n",
       "      <td>NaN</td>\n",
       "      <td>NaN</td>\n",
       "      <td>NaN</td>\n",
       "      <td>NaN</td>\n",
       "      <td>sagemaker</td>\n",
       "      <td>createTrainingJob.sync</td>\n",
       "      <td>us-east-1</td>\n",
       "      <td>{\"AlgorithmSpecification\":{\"TrainingImage\":\"38...</td>\n",
       "      <td>NaN</td>\n",
       "      <td>NaN</td>\n",
       "    </tr>\n",
       "    <tr>\n",
       "      <th>3</th>\n",
       "      <td>2021-06-08 09:56:39.297000+00:00</td>\n",
       "      <td>TaskStarted</td>\n",
       "      <td>4</td>\n",
       "      <td>3</td>\n",
       "      <td>NaN</td>\n",
       "      <td>NaN</td>\n",
       "      <td>NaN</td>\n",
       "      <td>NaN</td>\n",
       "      <td>NaN</td>\n",
       "      <td>NaN</td>\n",
       "      <td>NaN</td>\n",
       "      <td>NaN</td>\n",
       "      <td>NaN</td>\n",
       "      <td>NaN</td>\n",
       "      <td>sagemaker</td>\n",
       "      <td>createTrainingJob.sync</td>\n",
       "    </tr>\n",
       "  </tbody>\n",
       "</table>\n",
       "</div>"
      ],
      "text/plain": [
       "                         timestamp              type  id  previousEventId  \\\n",
       "0 2021-06-08 09:56:39.114000+00:00  ExecutionStarted   1                0   \n",
       "1 2021-06-08 09:56:39.151000+00:00  TaskStateEntered   2                0   \n",
       "2 2021-06-08 09:56:39.151000+00:00     TaskScheduled   3                2   \n",
       "3 2021-06-08 09:56:39.297000+00:00       TaskStarted   4                3   \n",
       "\n",
       "                  executionStartedEventDetails.input  \\\n",
       "0  {\\n    \"JobName\": \"ll-3e17f51b69d74dad8cb0b76c...   \n",
       "1                                                NaN   \n",
       "2                                                NaN   \n",
       "3                                                NaN   \n",
       "\n",
       "  executionStartedEventDetails.inputDetails.truncated  \\\n",
       "0                                              False    \n",
       "1                                                NaN    \n",
       "2                                                NaN    \n",
       "3                                                NaN    \n",
       "\n",
       "      executionStartedEventDetails.roleArn stateEnteredEventDetails.name  \\\n",
       "0  arn:aws:iam::581320662326:role/test-002                           NaN   \n",
       "1                                      NaN                 Training Step   \n",
       "2                                      NaN                           NaN   \n",
       "3                                      NaN                           NaN   \n",
       "\n",
       "                      stateEnteredEventDetails.input  \\\n",
       "0                                                NaN   \n",
       "1  {\\n    \"JobName\": \"ll-3e17f51b69d74dad8cb0b76c...   \n",
       "2                                                NaN   \n",
       "3                                                NaN   \n",
       "\n",
       "  stateEnteredEventDetails.inputDetails.truncated  \\\n",
       "0                                             NaN   \n",
       "1                                           False   \n",
       "2                                             NaN   \n",
       "3                                             NaN   \n",
       "\n",
       "  taskScheduledEventDetails.resourceType taskScheduledEventDetails.resource  \\\n",
       "0                                    NaN                                NaN   \n",
       "1                                    NaN                                NaN   \n",
       "2                              sagemaker             createTrainingJob.sync   \n",
       "3                                    NaN                                NaN   \n",
       "\n",
       "  taskScheduledEventDetails.region  \\\n",
       "0                              NaN   \n",
       "1                              NaN   \n",
       "2                        us-east-1   \n",
       "3                              NaN   \n",
       "\n",
       "                taskScheduledEventDetails.parameters  \\\n",
       "0                                                NaN   \n",
       "1                                                NaN   \n",
       "2  {\"AlgorithmSpecification\":{\"TrainingImage\":\"38...   \n",
       "3                                                NaN   \n",
       "\n",
       "  taskStartedEventDetails.resourceType taskStartedEventDetails.resource  \n",
       "0                                  NaN                              NaN  \n",
       "1                                  NaN                              NaN  \n",
       "2                                  NaN                              NaN  \n",
       "3                            sagemaker           createTrainingJob.sync  "
      ]
     },
     "execution_count": 38,
     "metadata": {},
     "output_type": "execute_result"
    }
   ],
   "source": [
    "events = execution.list_events()\n",
    "pd.json_normalize(events)"
   ]
  },
  {
   "cell_type": "code",
   "execution_count": 39,
   "metadata": {},
   "outputs": [
    {
     "data": {
      "text/plain": [
       "{'timeout_seconds': None,\n",
       " 'comment': None,\n",
       " 'version': None,\n",
       " 'definition': Graph(timeout_seconds=None, comment=None, version=None),\n",
       " 'name': 'Workflow-6eced24724454517b105b3dd048499f5',\n",
       " 'role': 'arn:aws:iam::581320662326:role/test-002',\n",
       " 'tags': [],\n",
       " 'workflow_input': <stepfunctions.inputs.placeholders.ExecutionInput at 0x7f96233860d0>,\n",
       " 'client': <botocore.client.SFN at 0x7f96224d1690>,\n",
       " 'format_json': True,\n",
       " 'state_machine_arn': 'arn:aws:states:us-east-1:581320662326:stateMachine:Workflow-6eced24724454517b105b3dd048499f5'}"
      ]
     },
     "execution_count": 39,
     "metadata": {},
     "output_type": "execute_result"
    }
   ],
   "source": [
    "workflow.__dict__"
   ]
  },
  {
   "cell_type": "code",
   "execution_count": 40,
   "metadata": {},
   "outputs": [
    {
     "name": "stdout",
     "output_type": "stream",
     "text": [
      "{\n",
      "    \"StartAt\": \"Training Step\",\n",
      "    \"States\": {\n",
      "        \"Training Step\": {\n",
      "            \"Resource\": \"arn:aws:states:::sagemaker:createTrainingJob.sync\",\n",
      "            \"Parameters\": {\n",
      "                \"AlgorithmSpecification\": {\n",
      "                    \"TrainingImage\": \"382416733822.dkr.ecr.us-east-1.amazonaws.com/linear-learner:1\",\n",
      "                    \"TrainingInputMode\": \"File\"\n",
      "                },\n",
      "                \"OutputDataConfig\": {\n",
      "                    \"S3OutputPath\": \"s3://sagemaker-cookbook-bucket/chapter09/output/\"\n",
      "                },\n",
      "                \"StoppingCondition\": {\n",
      "                    \"MaxRuntimeInSeconds\": 86400\n",
      "                },\n",
      "                \"ResourceConfig\": {\n",
      "                    \"InstanceCount\": 1,\n",
      "                    \"InstanceType\": \"ml.m5.xlarge\",\n",
      "                    \"VolumeSizeInGB\": 30\n",
      "                },\n",
      "                \"RoleArn\": \"arn:aws:iam::581320662326:role/SuperAdminRole\",\n",
      "                \"InputDataConfig\": [\n",
      "                    {\n",
      "                        \"DataSource\": {\n",
      "                            \"S3DataSource\": {\n",
      "                                \"S3DataType\": \"S3Prefix\",\n",
      "                                \"S3Uri\": \"s3://sagemaker-cookbook-bucket/chapter09/input/training_data.csv\",\n",
      "                                \"S3DataDistributionType\": \"FullyReplicated\"\n",
      "                            }\n",
      "                        },\n",
      "                        \"ContentType\": \"text/csv\",\n",
      "                        \"ChannelName\": \"train\"\n",
      "                    }\n",
      "                ],\n",
      "                \"HyperParameters\": {\n",
      "                    \"predictor_type\": \"regressor\",\n",
      "                    \"mini_batch_size\": \"4\"\n",
      "                },\n",
      "                \"TrainingJobName.$\": \"$$.Execution.Input['JobName']\"\n",
      "            },\n",
      "            \"Type\": \"Task\",\n",
      "            \"Next\": \"Model Step\"\n",
      "        },\n",
      "        \"Model Step\": {\n",
      "            \"Parameters\": {\n",
      "                \"ExecutionRoleArn\": \"arn:aws:iam::581320662326:role/SuperAdminRole\",\n",
      "                \"ModelName.$\": \"$$.Execution.Input['ModelName']\",\n",
      "                \"PrimaryContainer\": {\n",
      "                    \"Environment\": {},\n",
      "                    \"Image\": \"382416733822.dkr.ecr.us-east-1.amazonaws.com/linear-learner:1\",\n",
      "                    \"ModelDataUrl.$\": \"$['ModelArtifacts']['S3ModelArtifacts']\"\n",
      "                }\n",
      "            },\n",
      "            \"Resource\": \"arn:aws:states:::sagemaker:createModel\",\n",
      "            \"Type\": \"Task\",\n",
      "            \"Next\": \"Create Endpoint Configuration\"\n",
      "        },\n",
      "        \"Create Endpoint Configuration\": {\n",
      "            \"Resource\": \"arn:aws:states:::sagemaker:createEndpointConfig\",\n",
      "            \"Parameters\": {\n",
      "                \"EndpointConfigName.$\": \"$$.Execution.Input['ModelName']\",\n",
      "                \"ProductionVariants\": [\n",
      "                    {\n",
      "                        \"InitialInstanceCount\": 1,\n",
      "                        \"InstanceType\": \"ml.m5.xlarge\",\n",
      "                        \"ModelName.$\": \"$$.Execution.Input['ModelName']\",\n",
      "                        \"VariantName\": \"AllTraffic\"\n",
      "                    }\n",
      "                ]\n",
      "            },\n",
      "            \"Type\": \"Task\",\n",
      "            \"Next\": \"Deploy Endpoint\"\n",
      "        },\n",
      "        \"Deploy Endpoint\": {\n",
      "            \"Resource\": \"arn:aws:states:::sagemaker:createEndpoint\",\n",
      "            \"Parameters\": {\n",
      "                \"EndpointConfigName.$\": \"$$.Execution.Input['ModelName']\",\n",
      "                \"EndpointName.$\": \"$$.Execution.Input['EndpointName']\"\n",
      "            },\n",
      "            \"Type\": \"Task\",\n",
      "            \"End\": true\n",
      "        }\n",
      "    }\n",
      "}\n"
     ]
    }
   ],
   "source": [
    "print(workflow.definition.to_json(pretty=True))"
   ]
  }
 ],
 "metadata": {
  "instance_type": "ml.t3.medium",
  "kernelspec": {
   "display_name": "Python 3 (Data Science)",
   "language": "python",
   "name": "python3__SAGEMAKER_INTERNAL__arn:aws:sagemaker:us-east-1:081325390199:image/datascience-1.0"
  },
  "language_info": {
   "codemirror_mode": {
    "name": "ipython",
    "version": 3
   },
   "file_extension": ".py",
   "mimetype": "text/x-python",
   "name": "python",
   "nbconvert_exporter": "python",
   "pygments_lexer": "ipython3",
   "version": "3.7.10"
  }
 },
 "nbformat": 4,
 "nbformat_minor": 4
}
